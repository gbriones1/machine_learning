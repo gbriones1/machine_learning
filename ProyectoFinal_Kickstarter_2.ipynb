{
 "cells": [
  {
   "cell_type": "markdown",
   "metadata": {
    "id": "0CeI3zl5mZ9j"
   },
   "source": [
    "# Proyecto Final - Kickstarter\n",
    "## ITESM Campus Guadalajara\n",
    "### Escuela de Ingeniería y Ciencias\n",
    "### Maestría en Ciencias de la Computación\n",
    "### Dr. Luis Eduardo Falcón Morales\n",
    "### Elisa Fernandez Castillo A01221781\n",
    "### Gabriel Briones Sayeg A01222517"
   ]
  },
  {
   "cell_type": "code",
   "execution_count": null,
   "metadata": {
    "colab": {
     "base_uri": "https://localhost:8080/"
    },
    "id": "27fjfLWPprLo",
    "outputId": "c9240b3c-7fcb-4dc8-b021-ae12c2edbdf0"
   },
   "outputs": [
    {
     "name": "stderr",
     "output_type": "stream",
     "text": [
      "/usr/local/lib/python3.6/dist-packages/statsmodels/tools/_testing.py:19: FutureWarning: pandas.util.testing is deprecated. Use the functions in the public API at pandas.testing instead.\n",
      "  import pandas.util.testing as tm\n"
     ]
    }
   ],
   "source": [
    "import os\n",
    "import pandas as pd\n",
    "import numpy as np\n",
    "import seaborn as sns\n",
    "import matplotlib.pyplot as plt\n",
    "import statsmodels.api as sm \n",
    "from sklearn import preprocessing\n",
    "from sklearn.model_selection import train_test_split, RandomizedSearchCV, GridSearchCV\n",
    "\n",
    "# Modelo lineal\n",
    "from sklearn.linear_model import LogisticRegression\n",
    "\n",
    "# MLP\n",
    "from keras.models import Sequential\n",
    "from keras.layers import Dense\n",
    "from keras.layers import Dropout\n",
    "from keras.wrappers.scikit_learn import KerasClassifier\n",
    "from keras.regularizers import l2\n",
    "from keras.layers.normalization import BatchNormalization\n",
    "\n",
    "# Random Forest\n",
    "from sklearn.ensemble import RandomForestClassifier\n",
    "\n",
    "# Métricas\n",
    "from sklearn.metrics import accuracy_score, r2_score, classification_report, confusion_matrix\n",
    "\n",
    "# Arboles\n",
    "from sklearn.tree import DecisionTreeClassifier\n",
    "\n",
    "# SVM\n",
    "from sklearn.svm import SVC\n",
    "\n",
    "encoder = preprocessing.LabelEncoder()\n",
    "\n",
    "import warnings\n",
    "warnings.filterwarnings('ignore')"
   ]
  },
  {
   "cell_type": "code",
   "execution_count": null,
   "metadata": {
    "colab": {
     "base_uri": "https://localhost:8080/"
    },
    "id": "N5cILtMvpgEQ",
    "outputId": "b3c4288b-0d51-4e80-ce04-5edbd1347a00"
   },
   "outputs": [
    {
     "name": "stdout",
     "output_type": "stream",
     "text": [
      "Mounted at /content/drive\n"
     ]
    }
   ],
   "source": [
    "from google.colab import drive\n",
    "drive.mount('/content/drive')\n",
    "os.chdir('/content/drive/My Drive/TecnicasAprendizajeAutomatico/ProyectoFinal')\n",
    "# os.chdir(r'Documents/Personal/MCC/ks-projects-201801.csv/')\n",
    "# print(os.getcwd())\n",
    "# print(os.listdir())"
   ]
  },
  {
   "cell_type": "code",
   "execution_count": null,
   "metadata": {
    "id": "5AIhvZElqBNg"
   },
   "outputs": [],
   "source": [
    "data = pd.read_csv('ks-projects-201801.csv')"
   ]
  },
  {
   "cell_type": "code",
   "execution_count": null,
   "metadata": {
    "colab": {
     "base_uri": "https://localhost:8080/"
    },
    "id": "ab3XgVMFqP2g",
    "outputId": "2e956938-d980-43cc-e3a8-6df8d3ba548d"
   },
   "outputs": [
    {
     "name": "stdout",
     "output_type": "stream",
     "text": [
      "Index(['ID', 'name', 'category', 'main_category', 'currency', 'deadline',\n",
      "       'goal', 'launched', 'pledged', 'state', 'backers', 'country',\n",
      "       'usd pledged', 'usd_pledged_real', 'usd_goal_real'],\n",
      "      dtype='object')\n",
      "(378661, 15)\n"
     ]
    }
   ],
   "source": [
    "print(data.columns)\n",
    "print(data.shape)"
   ]
  },
  {
   "cell_type": "code",
   "execution_count": null,
   "metadata": {
    "colab": {
     "base_uri": "https://localhost:8080/",
     "height": 306
    },
    "id": "_tb3Rk9Lr8zw",
    "outputId": "dd5a37ae-5365-44ef-ec42-3cb007f768c0"
   },
   "outputs": [
    {
     "data": {
      "text/html": [
       "<div>\n",
       "<style scoped>\n",
       "    .dataframe tbody tr th:only-of-type {\n",
       "        vertical-align: middle;\n",
       "    }\n",
       "\n",
       "    .dataframe tbody tr th {\n",
       "        vertical-align: top;\n",
       "    }\n",
       "\n",
       "    .dataframe thead th {\n",
       "        text-align: right;\n",
       "    }\n",
       "</style>\n",
       "<table border=\"1\" class=\"dataframe\">\n",
       "  <thead>\n",
       "    <tr style=\"text-align: right;\">\n",
       "      <th></th>\n",
       "      <th>ID</th>\n",
       "      <th>name</th>\n",
       "      <th>category</th>\n",
       "      <th>main_category</th>\n",
       "      <th>currency</th>\n",
       "      <th>deadline</th>\n",
       "      <th>goal</th>\n",
       "      <th>launched</th>\n",
       "      <th>pledged</th>\n",
       "      <th>state</th>\n",
       "      <th>backers</th>\n",
       "      <th>country</th>\n",
       "      <th>usd pledged</th>\n",
       "      <th>usd_pledged_real</th>\n",
       "      <th>usd_goal_real</th>\n",
       "    </tr>\n",
       "  </thead>\n",
       "  <tbody>\n",
       "    <tr>\n",
       "      <th>0</th>\n",
       "      <td>1000002330</td>\n",
       "      <td>The Songs of Adelaide &amp; Abullah</td>\n",
       "      <td>Poetry</td>\n",
       "      <td>Publishing</td>\n",
       "      <td>GBP</td>\n",
       "      <td>2015-10-09</td>\n",
       "      <td>1000.0</td>\n",
       "      <td>2015-08-11 12:12:28</td>\n",
       "      <td>0.0</td>\n",
       "      <td>failed</td>\n",
       "      <td>0</td>\n",
       "      <td>GB</td>\n",
       "      <td>0.0</td>\n",
       "      <td>0.0</td>\n",
       "      <td>1533.95</td>\n",
       "    </tr>\n",
       "    <tr>\n",
       "      <th>1</th>\n",
       "      <td>1000003930</td>\n",
       "      <td>Greeting From Earth: ZGAC Arts Capsule For ET</td>\n",
       "      <td>Narrative Film</td>\n",
       "      <td>Film &amp; Video</td>\n",
       "      <td>USD</td>\n",
       "      <td>2017-11-01</td>\n",
       "      <td>30000.0</td>\n",
       "      <td>2017-09-02 04:43:57</td>\n",
       "      <td>2421.0</td>\n",
       "      <td>failed</td>\n",
       "      <td>15</td>\n",
       "      <td>US</td>\n",
       "      <td>100.0</td>\n",
       "      <td>2421.0</td>\n",
       "      <td>30000.00</td>\n",
       "    </tr>\n",
       "    <tr>\n",
       "      <th>2</th>\n",
       "      <td>1000004038</td>\n",
       "      <td>Where is Hank?</td>\n",
       "      <td>Narrative Film</td>\n",
       "      <td>Film &amp; Video</td>\n",
       "      <td>USD</td>\n",
       "      <td>2013-02-26</td>\n",
       "      <td>45000.0</td>\n",
       "      <td>2013-01-12 00:20:50</td>\n",
       "      <td>220.0</td>\n",
       "      <td>failed</td>\n",
       "      <td>3</td>\n",
       "      <td>US</td>\n",
       "      <td>220.0</td>\n",
       "      <td>220.0</td>\n",
       "      <td>45000.00</td>\n",
       "    </tr>\n",
       "    <tr>\n",
       "      <th>3</th>\n",
       "      <td>1000007540</td>\n",
       "      <td>ToshiCapital Rekordz Needs Help to Complete Album</td>\n",
       "      <td>Music</td>\n",
       "      <td>Music</td>\n",
       "      <td>USD</td>\n",
       "      <td>2012-04-16</td>\n",
       "      <td>5000.0</td>\n",
       "      <td>2012-03-17 03:24:11</td>\n",
       "      <td>1.0</td>\n",
       "      <td>failed</td>\n",
       "      <td>1</td>\n",
       "      <td>US</td>\n",
       "      <td>1.0</td>\n",
       "      <td>1.0</td>\n",
       "      <td>5000.00</td>\n",
       "    </tr>\n",
       "    <tr>\n",
       "      <th>4</th>\n",
       "      <td>1000011046</td>\n",
       "      <td>Community Film Project: The Art of Neighborhoo...</td>\n",
       "      <td>Film &amp; Video</td>\n",
       "      <td>Film &amp; Video</td>\n",
       "      <td>USD</td>\n",
       "      <td>2015-08-29</td>\n",
       "      <td>19500.0</td>\n",
       "      <td>2015-07-04 08:35:03</td>\n",
       "      <td>1283.0</td>\n",
       "      <td>canceled</td>\n",
       "      <td>14</td>\n",
       "      <td>US</td>\n",
       "      <td>1283.0</td>\n",
       "      <td>1283.0</td>\n",
       "      <td>19500.00</td>\n",
       "    </tr>\n",
       "  </tbody>\n",
       "</table>\n",
       "</div>"
      ],
      "text/plain": [
       "           ID  ... usd_goal_real\n",
       "0  1000002330  ...       1533.95\n",
       "1  1000003930  ...      30000.00\n",
       "2  1000004038  ...      45000.00\n",
       "3  1000007540  ...       5000.00\n",
       "4  1000011046  ...      19500.00\n",
       "\n",
       "[5 rows x 15 columns]"
      ]
     },
     "execution_count": 5,
     "metadata": {
      "tags": []
     },
     "output_type": "execute_result"
    }
   ],
   "source": [
    "data.head()"
   ]
  },
  {
   "cell_type": "markdown",
   "metadata": {
    "id": "8Oxeu9-4mz2v"
   },
   "source": [
    "**La solución debe tener las siguientes características:**\n",
    "\n",
    "---\n",
    "\n",
    "**a. Incluir una introducción que explique las características de la problemática y el objetivo del problema (clasificación o regresión) a resolver.**"
   ]
  },
  {
   "cell_type": "markdown",
   "metadata": {
    "id": "sQQEqK-ur5_p"
   },
   "source": [
    "Kickstarter es una plataforma de financiamiento para proyectos creativos de todo tipo. Kickstarter facilita la captación de recursos monetarios del público en en general. Los dueños del proyecto eligen una fecha límite y un mínimo objetivo de fondos a recaudar. El dinero prometido por los donantes se recopila mediante Amazon Payments. Si el objetivo elegido no es recolectado en el plazo, no se perciben fondos (esto se conoce como provision point mechanism). Kickstarter toma un 5% de los fondos recaudados y Amazon cobra un 3-5% adicional"
   ]
  },
  {
   "cell_type": "markdown",
   "metadata": {
    "id": "_vEc0mSU3pzC"
   },
   "source": [
    "**b. Indicar claramente cuáles son las variables de entrada (factores características o variables independientes), así como la variable de salida (dependiente). Indicar el tipo de variables: numéricas, categóricas, binarias, etc.**"
   ]
  },
  {
   "cell_type": "markdown",
   "metadata": {
    "id": "UFD2XuZRL6eM"
   },
   "source": [
    "![image.png](data:image/png;base64,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)"
   ]
  },
  {
   "cell_type": "markdown",
   "metadata": {
    "id": "WbqRjcvJopnE"
   },
   "source": [
    "Las variables mostradas en verde se usarán como variables independientes en nuestro modelo mientras que la variable mostrada en rojo será la variable dependeinte. Las variables amarillas serán rediseñadas para obtener más datos en el modelo y las variables en blanco serán descartadas por las razones que de indican en las columnas. El problema será de clasificación."
   ]
  },
  {
   "cell_type": "code",
   "execution_count": null,
   "metadata": {
    "colab": {
     "base_uri": "https://localhost:8080/"
    },
    "id": "V1c9xwrI7XZn",
    "outputId": "98b9b9ba-3627-4648-c4b5-b4dfce408500"
   },
   "outputs": [
    {
     "name": "stdout",
     "output_type": "stream",
     "text": [
      "name :  375765\n",
      "\n",
      "category :  159\n",
      "\n",
      "main_category :  15\n",
      " \tCategories:  ['Publishing' 'Film & Video' 'Music' 'Food' 'Design' 'Crafts' 'Games'\n",
      " 'Comics' 'Fashion' 'Theater' 'Art' 'Photography' 'Technology' 'Dance'\n",
      " 'Journalism']\n",
      "\n",
      "currency :  14\n",
      " \tCategories:  ['GBP' 'USD' 'CAD' 'AUD' 'NOK' 'EUR' 'MXN' 'SEK' 'NZD' 'CHF' 'DKK' 'HKD'\n",
      " 'SGD' 'JPY']\n",
      "\n",
      "state :  6\n",
      " \tCategories:  ['failed' 'canceled' 'successful' 'live' 'undefined' 'suspended']\n",
      "\n",
      "country :  23\n",
      " \tCategories:  ['GB' 'US' 'CA' 'AU' 'NO' 'IT' 'DE' 'IE' 'MX' 'ES' 'N,0\"' 'SE' 'FR' 'NL'\n",
      " 'NZ' 'CH' 'AT' 'DK' 'BE' 'HK' 'LU' 'SG' 'JP']\n",
      "\n"
     ]
    }
   ],
   "source": [
    "for col in data:\n",
    "  column = data[col]\n",
    "  if column.dtype.name == 'object'and col not in ['deadline','launched']:\n",
    "    categories = column.unique()\n",
    "    num_cat = len(categories)\n",
    "    \n",
    "    if num_cat < 100:\n",
    "     print(col,\": \", num_cat)\n",
    "     print(\" \\tCategories: \",categories)\n",
    "    else:\n",
    "     print(col,\": \",  num_cat)\n",
    "    print()"
   ]
  },
  {
   "cell_type": "markdown",
   "metadata": {
    "id": "geY3S7OjpSSS"
   },
   "source": [
    "## **Preprocesamiento de datos**"
   ]
  },
  {
   "cell_type": "markdown",
   "metadata": {
    "id": "ADDjfI89WQOe"
   },
   "source": [
    "### Generación de nuevas variables\n",
    "De los datos con los que contamos podemos generar nuevas variables que pueden dar más información sobre los proyectos que pueden ayudar a las predicciones. Entre las variables nuevas que se pueden generar se encuentran:\n",
    "\n",
    "\n",
    "*   Duración de la recaudación (campaign_length) en días\n",
    "*   Longitud del nombre del proyecto (name_length)\n",
    "*   Mes en el que la recaudación comenzó (start_month)\n",
    "*   Mes en el que la recaudación terminó (end_month)\n",
    "*   Día de la semana en el que rempezó la recaudación (start_day) The day of the week with Monday=0, Sunday=6.\n",
    "*   Día de la semana en el que terminó la recaudación (end_day)\n",
    "\n",
    "\n"
   ]
  },
  {
   "cell_type": "code",
   "execution_count": null,
   "metadata": {
    "colab": {
     "base_uri": "https://localhost:8080/",
     "height": 306
    },
    "id": "CrcIO4zEYucp",
    "outputId": "3f6cb654-2eeb-4b46-cecc-1c290937a4ec"
   },
   "outputs": [
    {
     "data": {
      "text/html": [
       "<div>\n",
       "<style scoped>\n",
       "    .dataframe tbody tr th:only-of-type {\n",
       "        vertical-align: middle;\n",
       "    }\n",
       "\n",
       "    .dataframe tbody tr th {\n",
       "        vertical-align: top;\n",
       "    }\n",
       "\n",
       "    .dataframe thead th {\n",
       "        text-align: right;\n",
       "    }\n",
       "</style>\n",
       "<table border=\"1\" class=\"dataframe\">\n",
       "  <thead>\n",
       "    <tr style=\"text-align: right;\">\n",
       "      <th></th>\n",
       "      <th>ID</th>\n",
       "      <th>name</th>\n",
       "      <th>category</th>\n",
       "      <th>main_category</th>\n",
       "      <th>currency</th>\n",
       "      <th>deadline</th>\n",
       "      <th>goal</th>\n",
       "      <th>launched</th>\n",
       "      <th>pledged</th>\n",
       "      <th>state</th>\n",
       "      <th>backers</th>\n",
       "      <th>country</th>\n",
       "      <th>usd pledged</th>\n",
       "      <th>usd_pledged_real</th>\n",
       "      <th>usd_goal_real</th>\n",
       "    </tr>\n",
       "  </thead>\n",
       "  <tbody>\n",
       "    <tr>\n",
       "      <th>0</th>\n",
       "      <td>1000002330</td>\n",
       "      <td>The Songs of Adelaide &amp; Abullah</td>\n",
       "      <td>Poetry</td>\n",
       "      <td>Publishing</td>\n",
       "      <td>GBP</td>\n",
       "      <td>2015-10-09</td>\n",
       "      <td>1000.0</td>\n",
       "      <td>2015-08-11 12:12:28</td>\n",
       "      <td>0.0</td>\n",
       "      <td>failed</td>\n",
       "      <td>0</td>\n",
       "      <td>GB</td>\n",
       "      <td>0.0</td>\n",
       "      <td>0.0</td>\n",
       "      <td>1533.95</td>\n",
       "    </tr>\n",
       "    <tr>\n",
       "      <th>1</th>\n",
       "      <td>1000003930</td>\n",
       "      <td>Greeting From Earth: ZGAC Arts Capsule For ET</td>\n",
       "      <td>Narrative Film</td>\n",
       "      <td>Film &amp; Video</td>\n",
       "      <td>USD</td>\n",
       "      <td>2017-11-01</td>\n",
       "      <td>30000.0</td>\n",
       "      <td>2017-09-02 04:43:57</td>\n",
       "      <td>2421.0</td>\n",
       "      <td>failed</td>\n",
       "      <td>15</td>\n",
       "      <td>US</td>\n",
       "      <td>100.0</td>\n",
       "      <td>2421.0</td>\n",
       "      <td>30000.00</td>\n",
       "    </tr>\n",
       "    <tr>\n",
       "      <th>2</th>\n",
       "      <td>1000004038</td>\n",
       "      <td>Where is Hank?</td>\n",
       "      <td>Narrative Film</td>\n",
       "      <td>Film &amp; Video</td>\n",
       "      <td>USD</td>\n",
       "      <td>2013-02-26</td>\n",
       "      <td>45000.0</td>\n",
       "      <td>2013-01-12 00:20:50</td>\n",
       "      <td>220.0</td>\n",
       "      <td>failed</td>\n",
       "      <td>3</td>\n",
       "      <td>US</td>\n",
       "      <td>220.0</td>\n",
       "      <td>220.0</td>\n",
       "      <td>45000.00</td>\n",
       "    </tr>\n",
       "    <tr>\n",
       "      <th>3</th>\n",
       "      <td>1000007540</td>\n",
       "      <td>ToshiCapital Rekordz Needs Help to Complete Album</td>\n",
       "      <td>Music</td>\n",
       "      <td>Music</td>\n",
       "      <td>USD</td>\n",
       "      <td>2012-04-16</td>\n",
       "      <td>5000.0</td>\n",
       "      <td>2012-03-17 03:24:11</td>\n",
       "      <td>1.0</td>\n",
       "      <td>failed</td>\n",
       "      <td>1</td>\n",
       "      <td>US</td>\n",
       "      <td>1.0</td>\n",
       "      <td>1.0</td>\n",
       "      <td>5000.00</td>\n",
       "    </tr>\n",
       "    <tr>\n",
       "      <th>4</th>\n",
       "      <td>1000011046</td>\n",
       "      <td>Community Film Project: The Art of Neighborhoo...</td>\n",
       "      <td>Film &amp; Video</td>\n",
       "      <td>Film &amp; Video</td>\n",
       "      <td>USD</td>\n",
       "      <td>2015-08-29</td>\n",
       "      <td>19500.0</td>\n",
       "      <td>2015-07-04 08:35:03</td>\n",
       "      <td>1283.0</td>\n",
       "      <td>canceled</td>\n",
       "      <td>14</td>\n",
       "      <td>US</td>\n",
       "      <td>1283.0</td>\n",
       "      <td>1283.0</td>\n",
       "      <td>19500.00</td>\n",
       "    </tr>\n",
       "  </tbody>\n",
       "</table>\n",
       "</div>"
      ],
      "text/plain": [
       "           ID  ... usd_goal_real\n",
       "0  1000002330  ...       1533.95\n",
       "1  1000003930  ...      30000.00\n",
       "2  1000004038  ...      45000.00\n",
       "3  1000007540  ...       5000.00\n",
       "4  1000011046  ...      19500.00\n",
       "\n",
       "[5 rows x 15 columns]"
      ]
     },
     "execution_count": 7,
     "metadata": {
      "tags": []
     },
     "output_type": "execute_result"
    }
   ],
   "source": [
    "data.head()"
   ]
  },
  {
   "cell_type": "code",
   "execution_count": null,
   "metadata": {
    "id": "j9E4l3u2Y_br"
   },
   "outputs": [],
   "source": [
    "data['deadline'] = pd.to_datetime(data['deadline'])\n",
    "data['launched'] = pd.to_datetime(data['launched'])\n",
    "data['start_day'] = data['launched'].dt.dayofweek\n",
    "data['end_day'] = data['deadline'].dt.dayofweek\n",
    "data['start_month'] = data['launched'].dt.month\n",
    "data['end_month'] = data['deadline'].dt.month\n",
    "data['year'] = data['launched'].dt.year\n",
    "data['name_length'] = data['name'].str.len()\n",
    "data['campaign_length'] = (data['deadline'] - data['launched']) /np.timedelta64(1,'D')"
   ]
  },
  {
   "cell_type": "code",
   "execution_count": null,
   "metadata": {
    "colab": {
     "base_uri": "https://localhost:8080/",
     "height": 479
    },
    "id": "CHlX6lzBatdl",
    "outputId": "d8fcdb68-06ce-4e9e-b96d-635fa20e4a43"
   },
   "outputs": [
    {
     "data": {
      "text/html": [
       "<div>\n",
       "<style scoped>\n",
       "    .dataframe tbody tr th:only-of-type {\n",
       "        vertical-align: middle;\n",
       "    }\n",
       "\n",
       "    .dataframe tbody tr th {\n",
       "        vertical-align: top;\n",
       "    }\n",
       "\n",
       "    .dataframe thead th {\n",
       "        text-align: right;\n",
       "    }\n",
       "</style>\n",
       "<table border=\"1\" class=\"dataframe\">\n",
       "  <thead>\n",
       "    <tr style=\"text-align: right;\">\n",
       "      <th></th>\n",
       "      <th>ID</th>\n",
       "      <th>name</th>\n",
       "      <th>category</th>\n",
       "      <th>main_category</th>\n",
       "      <th>currency</th>\n",
       "      <th>deadline</th>\n",
       "      <th>goal</th>\n",
       "      <th>launched</th>\n",
       "      <th>pledged</th>\n",
       "      <th>state</th>\n",
       "      <th>backers</th>\n",
       "      <th>country</th>\n",
       "      <th>usd pledged</th>\n",
       "      <th>usd_pledged_real</th>\n",
       "      <th>usd_goal_real</th>\n",
       "      <th>start_day</th>\n",
       "      <th>end_day</th>\n",
       "      <th>start_month</th>\n",
       "      <th>end_month</th>\n",
       "      <th>year</th>\n",
       "      <th>name_length</th>\n",
       "      <th>campaign_length</th>\n",
       "    </tr>\n",
       "  </thead>\n",
       "  <tbody>\n",
       "    <tr>\n",
       "      <th>0</th>\n",
       "      <td>1000002330</td>\n",
       "      <td>The Songs of Adelaide &amp; Abullah</td>\n",
       "      <td>Poetry</td>\n",
       "      <td>Publishing</td>\n",
       "      <td>GBP</td>\n",
       "      <td>2015-10-09</td>\n",
       "      <td>1000.0</td>\n",
       "      <td>2015-08-11 12:12:28</td>\n",
       "      <td>0.0</td>\n",
       "      <td>failed</td>\n",
       "      <td>0</td>\n",
       "      <td>GB</td>\n",
       "      <td>0.0</td>\n",
       "      <td>0.0</td>\n",
       "      <td>1533.95</td>\n",
       "      <td>1</td>\n",
       "      <td>4</td>\n",
       "      <td>8</td>\n",
       "      <td>10</td>\n",
       "      <td>2015</td>\n",
       "      <td>31.0</td>\n",
       "      <td>58.491343</td>\n",
       "    </tr>\n",
       "    <tr>\n",
       "      <th>1</th>\n",
       "      <td>1000003930</td>\n",
       "      <td>Greeting From Earth: ZGAC Arts Capsule For ET</td>\n",
       "      <td>Narrative Film</td>\n",
       "      <td>Film &amp; Video</td>\n",
       "      <td>USD</td>\n",
       "      <td>2017-11-01</td>\n",
       "      <td>30000.0</td>\n",
       "      <td>2017-09-02 04:43:57</td>\n",
       "      <td>2421.0</td>\n",
       "      <td>failed</td>\n",
       "      <td>15</td>\n",
       "      <td>US</td>\n",
       "      <td>100.0</td>\n",
       "      <td>2421.0</td>\n",
       "      <td>30000.00</td>\n",
       "      <td>5</td>\n",
       "      <td>2</td>\n",
       "      <td>9</td>\n",
       "      <td>11</td>\n",
       "      <td>2017</td>\n",
       "      <td>45.0</td>\n",
       "      <td>59.802813</td>\n",
       "    </tr>\n",
       "    <tr>\n",
       "      <th>2</th>\n",
       "      <td>1000004038</td>\n",
       "      <td>Where is Hank?</td>\n",
       "      <td>Narrative Film</td>\n",
       "      <td>Film &amp; Video</td>\n",
       "      <td>USD</td>\n",
       "      <td>2013-02-26</td>\n",
       "      <td>45000.0</td>\n",
       "      <td>2013-01-12 00:20:50</td>\n",
       "      <td>220.0</td>\n",
       "      <td>failed</td>\n",
       "      <td>3</td>\n",
       "      <td>US</td>\n",
       "      <td>220.0</td>\n",
       "      <td>220.0</td>\n",
       "      <td>45000.00</td>\n",
       "      <td>5</td>\n",
       "      <td>1</td>\n",
       "      <td>1</td>\n",
       "      <td>2</td>\n",
       "      <td>2013</td>\n",
       "      <td>14.0</td>\n",
       "      <td>44.985532</td>\n",
       "    </tr>\n",
       "    <tr>\n",
       "      <th>3</th>\n",
       "      <td>1000007540</td>\n",
       "      <td>ToshiCapital Rekordz Needs Help to Complete Album</td>\n",
       "      <td>Music</td>\n",
       "      <td>Music</td>\n",
       "      <td>USD</td>\n",
       "      <td>2012-04-16</td>\n",
       "      <td>5000.0</td>\n",
       "      <td>2012-03-17 03:24:11</td>\n",
       "      <td>1.0</td>\n",
       "      <td>failed</td>\n",
       "      <td>1</td>\n",
       "      <td>US</td>\n",
       "      <td>1.0</td>\n",
       "      <td>1.0</td>\n",
       "      <td>5000.00</td>\n",
       "      <td>5</td>\n",
       "      <td>0</td>\n",
       "      <td>3</td>\n",
       "      <td>4</td>\n",
       "      <td>2012</td>\n",
       "      <td>49.0</td>\n",
       "      <td>29.858206</td>\n",
       "    </tr>\n",
       "    <tr>\n",
       "      <th>4</th>\n",
       "      <td>1000011046</td>\n",
       "      <td>Community Film Project: The Art of Neighborhoo...</td>\n",
       "      <td>Film &amp; Video</td>\n",
       "      <td>Film &amp; Video</td>\n",
       "      <td>USD</td>\n",
       "      <td>2015-08-29</td>\n",
       "      <td>19500.0</td>\n",
       "      <td>2015-07-04 08:35:03</td>\n",
       "      <td>1283.0</td>\n",
       "      <td>canceled</td>\n",
       "      <td>14</td>\n",
       "      <td>US</td>\n",
       "      <td>1283.0</td>\n",
       "      <td>1283.0</td>\n",
       "      <td>19500.00</td>\n",
       "      <td>5</td>\n",
       "      <td>5</td>\n",
       "      <td>7</td>\n",
       "      <td>8</td>\n",
       "      <td>2015</td>\n",
       "      <td>58.0</td>\n",
       "      <td>55.642326</td>\n",
       "    </tr>\n",
       "  </tbody>\n",
       "</table>\n",
       "</div>"
      ],
      "text/plain": [
       "           ID  ... campaign_length\n",
       "0  1000002330  ...       58.491343\n",
       "1  1000003930  ...       59.802813\n",
       "2  1000004038  ...       44.985532\n",
       "3  1000007540  ...       29.858206\n",
       "4  1000011046  ...       55.642326\n",
       "\n",
       "[5 rows x 22 columns]"
      ]
     },
     "execution_count": 9,
     "metadata": {
      "tags": []
     },
     "output_type": "execute_result"
    }
   ],
   "source": [
    "data.head()"
   ]
  },
  {
   "cell_type": "code",
   "execution_count": null,
   "metadata": {
    "colab": {
     "base_uri": "https://localhost:8080/"
    },
    "id": "QD1IXPZFPhaE",
    "outputId": "f2ae5b1b-c69a-42dc-d629-ac40dd60be8b"
   },
   "outputs": [
    {
     "data": {
      "text/plain": [
       "(378661, 22)"
      ]
     },
     "execution_count": 10,
     "metadata": {
      "tags": []
     },
     "output_type": "execute_result"
    }
   ],
   "source": [
    "data.shape"
   ]
  },
  {
   "cell_type": "markdown",
   "metadata": {
    "id": "5P4RA0rwQ3np"
   },
   "source": [
    "Ahora se eliminarán las variables que no nos sirven para el modelo (ver Tabla en la sección de arriba)."
   ]
  },
  {
   "cell_type": "code",
   "execution_count": null,
   "metadata": {
    "id": "XNGxWkflpWmC"
   },
   "outputs": [],
   "source": [
    "# data_filtered = data_filtered.drop(['ID','name','goal','pledged','backers','usd pledged','state','deadline','launched'],axis=1)\n",
    "# Sin remover state para que sea un problema de calsificación\n",
    "data = data.drop(['ID','name','goal','pledged','backers','usd pledged','deadline','launched','usd_pledged_real'],axis=1)\n"
   ]
  },
  {
   "cell_type": "code",
   "execution_count": null,
   "metadata": {
    "colab": {
     "base_uri": "https://localhost:8080/",
     "height": 204
    },
    "id": "XUcWTsoe0TFG",
    "outputId": "8eaf744d-9e20-4ea5-83ac-eb77a0059dc8"
   },
   "outputs": [
    {
     "data": {
      "text/html": [
       "<div>\n",
       "<style scoped>\n",
       "    .dataframe tbody tr th:only-of-type {\n",
       "        vertical-align: middle;\n",
       "    }\n",
       "\n",
       "    .dataframe tbody tr th {\n",
       "        vertical-align: top;\n",
       "    }\n",
       "\n",
       "    .dataframe thead th {\n",
       "        text-align: right;\n",
       "    }\n",
       "</style>\n",
       "<table border=\"1\" class=\"dataframe\">\n",
       "  <thead>\n",
       "    <tr style=\"text-align: right;\">\n",
       "      <th></th>\n",
       "      <th>category</th>\n",
       "      <th>main_category</th>\n",
       "      <th>currency</th>\n",
       "      <th>state</th>\n",
       "      <th>country</th>\n",
       "      <th>usd_goal_real</th>\n",
       "      <th>start_day</th>\n",
       "      <th>end_day</th>\n",
       "      <th>start_month</th>\n",
       "      <th>end_month</th>\n",
       "      <th>year</th>\n",
       "      <th>name_length</th>\n",
       "      <th>campaign_length</th>\n",
       "    </tr>\n",
       "  </thead>\n",
       "  <tbody>\n",
       "    <tr>\n",
       "      <th>0</th>\n",
       "      <td>Poetry</td>\n",
       "      <td>Publishing</td>\n",
       "      <td>GBP</td>\n",
       "      <td>failed</td>\n",
       "      <td>GB</td>\n",
       "      <td>1533.95</td>\n",
       "      <td>1</td>\n",
       "      <td>4</td>\n",
       "      <td>8</td>\n",
       "      <td>10</td>\n",
       "      <td>2015</td>\n",
       "      <td>31.0</td>\n",
       "      <td>58.491343</td>\n",
       "    </tr>\n",
       "    <tr>\n",
       "      <th>1</th>\n",
       "      <td>Narrative Film</td>\n",
       "      <td>Film &amp; Video</td>\n",
       "      <td>USD</td>\n",
       "      <td>failed</td>\n",
       "      <td>US</td>\n",
       "      <td>30000.00</td>\n",
       "      <td>5</td>\n",
       "      <td>2</td>\n",
       "      <td>9</td>\n",
       "      <td>11</td>\n",
       "      <td>2017</td>\n",
       "      <td>45.0</td>\n",
       "      <td>59.802813</td>\n",
       "    </tr>\n",
       "    <tr>\n",
       "      <th>2</th>\n",
       "      <td>Narrative Film</td>\n",
       "      <td>Film &amp; Video</td>\n",
       "      <td>USD</td>\n",
       "      <td>failed</td>\n",
       "      <td>US</td>\n",
       "      <td>45000.00</td>\n",
       "      <td>5</td>\n",
       "      <td>1</td>\n",
       "      <td>1</td>\n",
       "      <td>2</td>\n",
       "      <td>2013</td>\n",
       "      <td>14.0</td>\n",
       "      <td>44.985532</td>\n",
       "    </tr>\n",
       "    <tr>\n",
       "      <th>3</th>\n",
       "      <td>Music</td>\n",
       "      <td>Music</td>\n",
       "      <td>USD</td>\n",
       "      <td>failed</td>\n",
       "      <td>US</td>\n",
       "      <td>5000.00</td>\n",
       "      <td>5</td>\n",
       "      <td>0</td>\n",
       "      <td>3</td>\n",
       "      <td>4</td>\n",
       "      <td>2012</td>\n",
       "      <td>49.0</td>\n",
       "      <td>29.858206</td>\n",
       "    </tr>\n",
       "    <tr>\n",
       "      <th>4</th>\n",
       "      <td>Film &amp; Video</td>\n",
       "      <td>Film &amp; Video</td>\n",
       "      <td>USD</td>\n",
       "      <td>canceled</td>\n",
       "      <td>US</td>\n",
       "      <td>19500.00</td>\n",
       "      <td>5</td>\n",
       "      <td>5</td>\n",
       "      <td>7</td>\n",
       "      <td>8</td>\n",
       "      <td>2015</td>\n",
       "      <td>58.0</td>\n",
       "      <td>55.642326</td>\n",
       "    </tr>\n",
       "  </tbody>\n",
       "</table>\n",
       "</div>"
      ],
      "text/plain": [
       "         category main_category currency  ...  year name_length  campaign_length\n",
       "0          Poetry    Publishing      GBP  ...  2015        31.0        58.491343\n",
       "1  Narrative Film  Film & Video      USD  ...  2017        45.0        59.802813\n",
       "2  Narrative Film  Film & Video      USD  ...  2013        14.0        44.985532\n",
       "3           Music         Music      USD  ...  2012        49.0        29.858206\n",
       "4    Film & Video  Film & Video      USD  ...  2015        58.0        55.642326\n",
       "\n",
       "[5 rows x 13 columns]"
      ]
     },
     "execution_count": 12,
     "metadata": {
      "tags": []
     },
     "output_type": "execute_result"
    }
   ],
   "source": [
    "data.head()"
   ]
  },
  {
   "cell_type": "markdown",
   "metadata": {
    "id": "g-bArRqnOT0c"
   },
   "source": [
    "### Gráficas exploratorias"
   ]
  },
  {
   "cell_type": "markdown",
   "metadata": {
    "id": "sHRlQrNOM97l"
   },
   "source": [
    "*Estatus de los proyectos*"
   ]
  },
  {
   "cell_type": "code",
   "execution_count": null,
   "metadata": {
    "id": "xEElz9JvNArN"
   },
   "outputs": [],
   "source": [
    "success_projects = data[data['state'] == 'successful']['state'].count()\n",
    "failed_projects = data[data['state'] == 'failed']['state'].count()\n",
    "other_projects = (data[data['state'] == 'canceled']['state'].count() + data[data['state'] == 'live']['state'].count() + data[data['state'] == 'undefined']['state'].count()+ data[data['state'] == 'suspended']['state'].count())"
   ]
  },
  {
   "cell_type": "code",
   "execution_count": null,
   "metadata": {
    "colab": {
     "base_uri": "https://localhost:8080/",
     "height": 281
    },
    "id": "TxfQnnboNIXU",
    "outputId": "1eb52aa2-dd19-4481-883e-3d01963a71fb"
   },
   "outputs": [
    {
     "data": {
      "text/plain": [
       "Text(0.5, 1.0, 'Total Success Rate')"
      ]
     },
     "execution_count": 14,
     "metadata": {
      "tags": []
     },
     "output_type": "execute_result"
    },
    {
     "data": {
      "image/png": "[encoded data removed]",
      "text/plain": [
       "<Figure size 432x288 with 1 Axes>"
      ]
     },
     "metadata": {
      "tags": []
     },
     "output_type": "display_data"
    }
   ],
   "source": [
    "total_state = success_projects + failed_projects + other_projects\n",
    "suc = success_projects/total_state\n",
    "fail = failed_projects/total_state\n",
    "other = other_projects/total_state\n",
    "sizes = [suc,fail,other]\n",
    "labels='suc','fail','others'\n",
    "plt.pie(sizes,labels=labels,autopct='%1.1f%%',startangle=140)\n",
    "plt.title(\"Total Success Rate\")"
   ]
  },
  {
   "cell_type": "code",
   "execution_count": null,
   "metadata": {
    "id": "ealUyIn7NOjN"
   },
   "outputs": [],
   "source": [
    "success_percentage = (data['state'].value_counts())/len(data['state'])"
   ]
  },
  {
   "cell_type": "code",
   "execution_count": null,
   "metadata": {
    "colab": {
     "base_uri": "https://localhost:8080/",
     "height": 235
    },
    "id": "a_WFURArNSz7",
    "outputId": "b798890b-3924-4cec-e996-3856eec339ad"
   },
   "outputs": [
    {
     "data": {
      "text/html": [
       "<div>\n",
       "<style scoped>\n",
       "    .dataframe tbody tr th:only-of-type {\n",
       "        vertical-align: middle;\n",
       "    }\n",
       "\n",
       "    .dataframe tbody tr th {\n",
       "        vertical-align: top;\n",
       "    }\n",
       "\n",
       "    .dataframe thead th {\n",
       "        text-align: right;\n",
       "    }\n",
       "</style>\n",
       "<table border=\"1\" class=\"dataframe\">\n",
       "  <thead>\n",
       "    <tr style=\"text-align: right;\">\n",
       "      <th></th>\n",
       "      <th>state</th>\n",
       "    </tr>\n",
       "  </thead>\n",
       "  <tbody>\n",
       "    <tr>\n",
       "      <th>failed</th>\n",
       "      <td>52.215306</td>\n",
       "    </tr>\n",
       "    <tr>\n",
       "      <th>successful</th>\n",
       "      <td>35.376234</td>\n",
       "    </tr>\n",
       "    <tr>\n",
       "      <th>canceled</th>\n",
       "      <td>10.241086</td>\n",
       "    </tr>\n",
       "    <tr>\n",
       "      <th>undefined</th>\n",
       "      <td>0.940683</td>\n",
       "    </tr>\n",
       "    <tr>\n",
       "      <th>live</th>\n",
       "      <td>0.739184</td>\n",
       "    </tr>\n",
       "    <tr>\n",
       "      <th>suspended</th>\n",
       "      <td>0.487507</td>\n",
       "    </tr>\n",
       "  </tbody>\n",
       "</table>\n",
       "</div>"
      ],
      "text/plain": [
       "                state\n",
       "failed      52.215306\n",
       "successful  35.376234\n",
       "canceled    10.241086\n",
       "undefined    0.940683\n",
       "live         0.739184\n",
       "suspended    0.487507"
      ]
     },
     "execution_count": 16,
     "metadata": {
      "tags": []
     },
     "output_type": "execute_result"
    }
   ],
   "source": [
    "pd.DataFrame(success_percentage)*100"
   ]
  },
  {
   "cell_type": "markdown",
   "metadata": {
    "id": "nUDsSS2SNXbY"
   },
   "source": [
    "*País de origen de los proyectos*"
   ]
  },
  {
   "cell_type": "code",
   "execution_count": null,
   "metadata": {
    "colab": {
     "base_uri": "https://localhost:8080/",
     "height": 459
    },
    "id": "pgsCof44NaJf",
    "outputId": "793b42ec-3ca9-4f9f-f72e-a2fa669b1b38"
   },
   "outputs": [
    {
     "data": {
      "text/plain": [
       "<matplotlib.axes._subplots.AxesSubplot at 0x7f223715a588>"
      ]
     },
     "execution_count": 17,
     "metadata": {
      "tags": []
     },
     "output_type": "execute_result"
    },
    {
     "data": {
      "image/png": "[encoded data removed]",
      "text/plain": [
       "<Figure size 720x504 with 1 Axes>"
      ]
     },
     "metadata": {
      "needs_background": "light",
      "tags": []
     },
     "output_type": "display_data"
    }
   ],
   "source": [
    "country=data['country'].value_counts()\n",
    "country_percentage =(country/len(data['country']))\n",
    "\n",
    "# labels = np.array(data['country'].value_counts().index)\n",
    "# plt.pie(x=country_percentage,labels=labels,autopct=\"%.1f%%\",explode=[0.25]*len(labels),pctdistance=1)\n",
    "plt.subplots(figsize=(10,7))\n",
    "sns.countplot(x='country',data=data,order=data['country'].value_counts().index)"
   ]
  },
  {
   "cell_type": "code",
   "execution_count": null,
   "metadata": {
    "colab": {
     "base_uri": "https://localhost:8080/",
     "height": 762
    },
    "id": "NWRPr-CpNe43",
    "outputId": "ce15bc71-8205-419f-a1b3-a4fb4f215a1e"
   },
   "outputs": [
    {
     "data": {
      "text/html": [
       "<div>\n",
       "<style scoped>\n",
       "    .dataframe tbody tr th:only-of-type {\n",
       "        vertical-align: middle;\n",
       "    }\n",
       "\n",
       "    .dataframe tbody tr th {\n",
       "        vertical-align: top;\n",
       "    }\n",
       "\n",
       "    .dataframe thead th {\n",
       "        text-align: right;\n",
       "    }\n",
       "</style>\n",
       "<table border=\"1\" class=\"dataframe\">\n",
       "  <thead>\n",
       "    <tr style=\"text-align: right;\">\n",
       "      <th></th>\n",
       "      <th>country</th>\n",
       "    </tr>\n",
       "  </thead>\n",
       "  <tbody>\n",
       "    <tr>\n",
       "      <th>US</th>\n",
       "      <td>77.279414</td>\n",
       "    </tr>\n",
       "    <tr>\n",
       "      <th>GB</th>\n",
       "      <td>8.892387</td>\n",
       "    </tr>\n",
       "    <tr>\n",
       "      <th>CA</th>\n",
       "      <td>3.896889</td>\n",
       "    </tr>\n",
       "    <tr>\n",
       "      <th>AU</th>\n",
       "      <td>2.070189</td>\n",
       "    </tr>\n",
       "    <tr>\n",
       "      <th>DE</th>\n",
       "      <td>1.101513</td>\n",
       "    </tr>\n",
       "    <tr>\n",
       "      <th>N,0\"</th>\n",
       "      <td>1.002744</td>\n",
       "    </tr>\n",
       "    <tr>\n",
       "      <th>FR</th>\n",
       "      <td>0.776156</td>\n",
       "    </tr>\n",
       "    <tr>\n",
       "      <th>IT</th>\n",
       "      <td>0.760047</td>\n",
       "    </tr>\n",
       "    <tr>\n",
       "      <th>NL</th>\n",
       "      <td>0.757406</td>\n",
       "    </tr>\n",
       "    <tr>\n",
       "      <th>ES</th>\n",
       "      <td>0.601065</td>\n",
       "    </tr>\n",
       "    <tr>\n",
       "      <th>SE</th>\n",
       "      <td>0.464003</td>\n",
       "    </tr>\n",
       "    <tr>\n",
       "      <th>MX</th>\n",
       "      <td>0.462683</td>\n",
       "    </tr>\n",
       "    <tr>\n",
       "      <th>NZ</th>\n",
       "      <td>0.382136</td>\n",
       "    </tr>\n",
       "    <tr>\n",
       "      <th>DK</th>\n",
       "      <td>0.293930</td>\n",
       "    </tr>\n",
       "    <tr>\n",
       "      <th>IE</th>\n",
       "      <td>0.214176</td>\n",
       "    </tr>\n",
       "    <tr>\n",
       "      <th>CH</th>\n",
       "      <td>0.200971</td>\n",
       "    </tr>\n",
       "    <tr>\n",
       "      <th>NO</th>\n",
       "      <td>0.186975</td>\n",
       "    </tr>\n",
       "    <tr>\n",
       "      <th>HK</th>\n",
       "      <td>0.163207</td>\n",
       "    </tr>\n",
       "    <tr>\n",
       "      <th>BE</th>\n",
       "      <td>0.162943</td>\n",
       "    </tr>\n",
       "    <tr>\n",
       "      <th>AT</th>\n",
       "      <td>0.157661</td>\n",
       "    </tr>\n",
       "    <tr>\n",
       "      <th>SG</th>\n",
       "      <td>0.146569</td>\n",
       "    </tr>\n",
       "    <tr>\n",
       "      <th>LU</th>\n",
       "      <td>0.016373</td>\n",
       "    </tr>\n",
       "    <tr>\n",
       "      <th>JP</th>\n",
       "      <td>0.010564</td>\n",
       "    </tr>\n",
       "  </tbody>\n",
       "</table>\n",
       "</div>"
      ],
      "text/plain": [
       "        country\n",
       "US    77.279414\n",
       "GB     8.892387\n",
       "CA     3.896889\n",
       "AU     2.070189\n",
       "DE     1.101513\n",
       "N,0\"   1.002744\n",
       "FR     0.776156\n",
       "IT     0.760047\n",
       "NL     0.757406\n",
       "ES     0.601065\n",
       "SE     0.464003\n",
       "MX     0.462683\n",
       "NZ     0.382136\n",
       "DK     0.293930\n",
       "IE     0.214176\n",
       "CH     0.200971\n",
       "NO     0.186975\n",
       "HK     0.163207\n",
       "BE     0.162943\n",
       "AT     0.157661\n",
       "SG     0.146569\n",
       "LU     0.016373\n",
       "JP     0.010564"
      ]
     },
     "execution_count": 18,
     "metadata": {
      "tags": []
     },
     "output_type": "execute_result"
    }
   ],
   "source": [
    "pd.DataFrame(country_percentage *100)"
   ]
  },
  {
   "cell_type": "markdown",
   "metadata": {
    "id": "2UoygueaNiYE"
   },
   "source": [
    "*Categoría principal de los proyectos*"
   ]
  },
  {
   "cell_type": "code",
   "execution_count": null,
   "metadata": {
    "id": "4ruEe6y8Nluy"
   },
   "outputs": [],
   "source": [
    "main_category = data['main_category'].value_counts()\n",
    "main_category_percentage = main_category/len(data['main_category'])"
   ]
  },
  {
   "cell_type": "code",
   "execution_count": null,
   "metadata": {
    "colab": {
     "base_uri": "https://localhost:8080/",
     "height": 300
    },
    "id": "Urmyx0B_NoS9",
    "outputId": "7c4f7ea6-9d5a-42e2-b5f5-aec4fe443036"
   },
   "outputs": [
    {
     "data": {
      "image/png": "[encoded data removed]",
      "text/plain": [
       "<Figure size 432x288 with 1 Axes>"
      ]
     },
     "metadata": {
      "tags": []
     },
     "output_type": "display_data"
    }
   ],
   "source": [
    "plt.pie(main_category_percentage,labels=main_category_percentage.index, autopct=\"%.1f%%\",pctdistance=0.90,explode=len(main_category_percentage.index)*[0.40])\n",
    "plt.show()"
   ]
  },
  {
   "cell_type": "code",
   "execution_count": null,
   "metadata": {
    "colab": {
     "base_uri": "https://localhost:8080/",
     "height": 352
    },
    "id": "TpEyLMw1Nr-d",
    "outputId": "a3221834-e71e-4d85-91bc-63390c9f8fbf"
   },
   "outputs": [
    {
     "data": {
      "text/plain": [
       "<matplotlib.axes._subplots.AxesSubplot at 0x7f2235fd7128>"
      ]
     },
     "execution_count": 21,
     "metadata": {
      "tags": []
     },
     "output_type": "execute_result"
    },
    {
     "data": {
      "image/png": "[encoded data removed]",
      "text/plain": [
       "<Figure size 1368x360 with 1 Axes>"
      ]
     },
     "metadata": {
      "needs_background": "light",
      "tags": []
     },
     "output_type": "display_data"
    }
   ],
   "source": [
    "plt.subplots(figsize=(19,5))\n",
    "sns.countplot(x='main_category',data=data,order=data['main_category'].value_counts().index)"
   ]
  },
  {
   "cell_type": "markdown",
   "metadata": {
    "id": "kcQIwMVfNw5J"
   },
   "source": [
    "*Número de proyectos por año*"
   ]
  },
  {
   "cell_type": "code",
   "execution_count": null,
   "metadata": {
    "colab": {
     "base_uri": "https://localhost:8080/",
     "height": 442
    },
    "id": "LmzjgbcGNz-h",
    "outputId": "87324b75-f388-4c1b-e3df-5ea5989328bb"
   },
   "outputs": [
    {
     "data": {
      "image/png": "[encoded data removed]",
      "text/plain": [
       "<Figure size 720x504 with 1 Axes>"
      ]
     },
     "metadata": {
      "needs_background": "light",
      "tags": []
     },
     "output_type": "display_data"
    }
   ],
   "source": [
    "plt.subplots(figsize=(10,7))\n",
    "sns.countplot(data['year'])\n",
    "plt.ylabel(\"Number of projects\")\n",
    "plt.show()"
   ]
  },
  {
   "cell_type": "markdown",
   "metadata": {
    "id": "Pi6GlzLWrI52"
   },
   "source": [
    "### Eliminacion de variables y registros"
   ]
  },
  {
   "cell_type": "markdown",
   "metadata": {
    "id": "dsWO8NooOd_P"
   },
   "source": [
    "Se eliminarán los proyectos que no están dentro de la categoría de existosos o no exitosos"
   ]
  },
  {
   "cell_type": "code",
   "execution_count": null,
   "metadata": {
    "id": "BnPYPc_VOjtC"
   },
   "outputs": [],
   "source": [
    "data = data[data['state'].isin(['successful','failed'])]"
   ]
  },
  {
   "cell_type": "code",
   "execution_count": null,
   "metadata": {
    "colab": {
     "base_uri": "https://localhost:8080/"
    },
    "id": "00m_7_-zOlu7",
    "outputId": "0de8cfe5-03d3-465c-e5c2-34e12b1c8f36"
   },
   "outputs": [
    {
     "data": {
      "text/plain": [
       "(331675, 13)"
      ]
     },
     "execution_count": 24,
     "metadata": {
      "tags": []
     },
     "output_type": "execute_result"
    }
   ],
   "source": [
    "data.shape"
   ]
  },
  {
   "cell_type": "markdown",
   "metadata": {
    "id": "CLZRTotoOria"
   },
   "source": [
    "Se obtendrá un dataset en el que las variables categóricas estén representadas numéricamente"
   ]
  },
  {
   "cell_type": "code",
   "execution_count": null,
   "metadata": {
    "id": "dBerGAD-6xnz"
   },
   "outputs": [],
   "source": [
    "data_categorical = data.copy()"
   ]
  },
  {
   "cell_type": "code",
   "execution_count": null,
   "metadata": {
    "colab": {
     "base_uri": "https://localhost:8080/",
     "height": 204
    },
    "id": "JyMB83hPOxqc",
    "outputId": "23343d4e-df94-4461-89e8-586750caaf81"
   },
   "outputs": [
    {
     "data": {
      "text/html": [
       "<div>\n",
       "<style scoped>\n",
       "    .dataframe tbody tr th:only-of-type {\n",
       "        vertical-align: middle;\n",
       "    }\n",
       "\n",
       "    .dataframe tbody tr th {\n",
       "        vertical-align: top;\n",
       "    }\n",
       "\n",
       "    .dataframe thead th {\n",
       "        text-align: right;\n",
       "    }\n",
       "</style>\n",
       "<table border=\"1\" class=\"dataframe\">\n",
       "  <thead>\n",
       "    <tr style=\"text-align: right;\">\n",
       "      <th></th>\n",
       "      <th>category</th>\n",
       "      <th>main_category</th>\n",
       "      <th>currency</th>\n",
       "      <th>state</th>\n",
       "      <th>country</th>\n",
       "      <th>usd_goal_real</th>\n",
       "      <th>start_day</th>\n",
       "      <th>end_day</th>\n",
       "      <th>start_month</th>\n",
       "      <th>end_month</th>\n",
       "      <th>year</th>\n",
       "      <th>name_length</th>\n",
       "      <th>campaign_length</th>\n",
       "    </tr>\n",
       "  </thead>\n",
       "  <tbody>\n",
       "    <tr>\n",
       "      <th>0</th>\n",
       "      <td>Poetry</td>\n",
       "      <td>Publishing</td>\n",
       "      <td>GBP</td>\n",
       "      <td>failed</td>\n",
       "      <td>GB</td>\n",
       "      <td>1533.95</td>\n",
       "      <td>1</td>\n",
       "      <td>4</td>\n",
       "      <td>8</td>\n",
       "      <td>10</td>\n",
       "      <td>2015</td>\n",
       "      <td>31.0</td>\n",
       "      <td>58.491343</td>\n",
       "    </tr>\n",
       "    <tr>\n",
       "      <th>1</th>\n",
       "      <td>Narrative Film</td>\n",
       "      <td>Film &amp; Video</td>\n",
       "      <td>USD</td>\n",
       "      <td>failed</td>\n",
       "      <td>US</td>\n",
       "      <td>30000.00</td>\n",
       "      <td>5</td>\n",
       "      <td>2</td>\n",
       "      <td>9</td>\n",
       "      <td>11</td>\n",
       "      <td>2017</td>\n",
       "      <td>45.0</td>\n",
       "      <td>59.802813</td>\n",
       "    </tr>\n",
       "    <tr>\n",
       "      <th>2</th>\n",
       "      <td>Narrative Film</td>\n",
       "      <td>Film &amp; Video</td>\n",
       "      <td>USD</td>\n",
       "      <td>failed</td>\n",
       "      <td>US</td>\n",
       "      <td>45000.00</td>\n",
       "      <td>5</td>\n",
       "      <td>1</td>\n",
       "      <td>1</td>\n",
       "      <td>2</td>\n",
       "      <td>2013</td>\n",
       "      <td>14.0</td>\n",
       "      <td>44.985532</td>\n",
       "    </tr>\n",
       "    <tr>\n",
       "      <th>3</th>\n",
       "      <td>Music</td>\n",
       "      <td>Music</td>\n",
       "      <td>USD</td>\n",
       "      <td>failed</td>\n",
       "      <td>US</td>\n",
       "      <td>5000.00</td>\n",
       "      <td>5</td>\n",
       "      <td>0</td>\n",
       "      <td>3</td>\n",
       "      <td>4</td>\n",
       "      <td>2012</td>\n",
       "      <td>49.0</td>\n",
       "      <td>29.858206</td>\n",
       "    </tr>\n",
       "    <tr>\n",
       "      <th>5</th>\n",
       "      <td>Restaurants</td>\n",
       "      <td>Food</td>\n",
       "      <td>USD</td>\n",
       "      <td>successful</td>\n",
       "      <td>US</td>\n",
       "      <td>50000.00</td>\n",
       "      <td>4</td>\n",
       "      <td>4</td>\n",
       "      <td>2</td>\n",
       "      <td>4</td>\n",
       "      <td>2016</td>\n",
       "      <td>20.0</td>\n",
       "      <td>34.431632</td>\n",
       "    </tr>\n",
       "  </tbody>\n",
       "</table>\n",
       "</div>"
      ],
      "text/plain": [
       "         category main_category currency  ...  year name_length  campaign_length\n",
       "0          Poetry    Publishing      GBP  ...  2015        31.0        58.491343\n",
       "1  Narrative Film  Film & Video      USD  ...  2017        45.0        59.802813\n",
       "2  Narrative Film  Film & Video      USD  ...  2013        14.0        44.985532\n",
       "3           Music         Music      USD  ...  2012        49.0        29.858206\n",
       "5     Restaurants          Food      USD  ...  2016        20.0        34.431632\n",
       "\n",
       "[5 rows x 13 columns]"
      ]
     },
     "execution_count": 26,
     "metadata": {
      "tags": []
     },
     "output_type": "execute_result"
    }
   ],
   "source": [
    "data.head()"
   ]
  },
  {
   "cell_type": "code",
   "execution_count": null,
   "metadata": {
    "id": "ipGgOSazINDJ"
   },
   "outputs": [],
   "source": [
    "encodings = {}\n",
    "categorical_variables = ['category','main_category','currency','country','state','year']\n",
    "for cat in categorical_variables:\n",
    "  data_categorical[cat] = encoder.fit_transform(data_categorical[cat].astype(str))\n",
    "  encodings[cat] = dict(zip(encoder.classes_,encoder.transform(encoder.classes_)))"
   ]
  },
  {
   "cell_type": "code",
   "execution_count": null,
   "metadata": {
    "colab": {
     "base_uri": "https://localhost:8080/"
    },
    "id": "Z8dCMTg-J7F8",
    "outputId": "6d85f2e3-bcf2-4921-8d56-5713f6406a5c"
   },
   "outputs": [
    {
     "data": {
      "text/plain": [
       "{'failed': 0, 'successful': 1}"
      ]
     },
     "execution_count": 28,
     "metadata": {
      "tags": []
     },
     "output_type": "execute_result"
    }
   ],
   "source": [
    "encodings['state']"
   ]
  },
  {
   "cell_type": "code",
   "execution_count": null,
   "metadata": {
    "colab": {
     "base_uri": "https://localhost:8080/"
    },
    "id": "3m84m3b7Gwns",
    "outputId": "2eac471b-dec2-452d-df39-a02718e11f5b"
   },
   "outputs": [
    {
     "data": {
      "text/plain": [
       "0    197719\n",
       "1    133956\n",
       "Name: state, dtype: int64"
      ]
     },
     "execution_count": 29,
     "metadata": {
      "tags": []
     },
     "output_type": "execute_result"
    }
   ],
   "source": [
    "data_categorical['state'].value_counts()"
   ]
  },
  {
   "cell_type": "code",
   "execution_count": null,
   "metadata": {
    "colab": {
     "base_uri": "https://localhost:8080/"
    },
    "id": "-r8guoKAPB-y",
    "outputId": "6db1df76-1432-4f92-9de0-73c32df8022e"
   },
   "outputs": [
    {
     "data": {
      "text/plain": [
       "(331675, 13)"
      ]
     },
     "execution_count": 30,
     "metadata": {
      "tags": []
     },
     "output_type": "execute_result"
    }
   ],
   "source": [
    "data.shape"
   ]
  },
  {
   "cell_type": "code",
   "execution_count": null,
   "metadata": {
    "colab": {
     "base_uri": "https://localhost:8080/"
    },
    "id": "DZpj12t9PEQE",
    "outputId": "bff0d79c-dfae-4126-e8fe-39f306dde902"
   },
   "outputs": [
    {
     "data": {
      "text/plain": [
       "(331675, 13)"
      ]
     },
     "execution_count": 31,
     "metadata": {
      "tags": []
     },
     "output_type": "execute_result"
    }
   ],
   "source": [
    "data_categorical.shape"
   ]
  },
  {
   "cell_type": "code",
   "execution_count": null,
   "metadata": {
    "colab": {
     "base_uri": "https://localhost:8080/"
    },
    "id": "2oirwDo8PG92",
    "outputId": "20970f9e-d518-448a-cf48-30e32259831c"
   },
   "outputs": [
    {
     "data": {
      "text/plain": [
       "category           0\n",
       "main_category      0\n",
       "currency           0\n",
       "state              0\n",
       "country            0\n",
       "usd_goal_real      0\n",
       "start_day          0\n",
       "end_day            0\n",
       "start_month        0\n",
       "end_month          0\n",
       "year               0\n",
       "name_length        3\n",
       "campaign_length    0\n",
       "dtype: int64"
      ]
     },
     "execution_count": 32,
     "metadata": {
      "tags": []
     },
     "output_type": "execute_result"
    }
   ],
   "source": [
    "data.isnull().sum()"
   ]
  },
  {
   "cell_type": "code",
   "execution_count": null,
   "metadata": {
    "id": "acdwg2Q0PLWY"
   },
   "outputs": [],
   "source": [
    "# Eliminar los valores no dispoibles sustituyéndolos con el promedio\n",
    "data['name_length'] = data['name_length'].fillna(value=data['name_length'].mean())"
   ]
  },
  {
   "cell_type": "code",
   "execution_count": null,
   "metadata": {
    "colab": {
     "base_uri": "https://localhost:8080/"
    },
    "id": "kOPVHSHMPPjc",
    "outputId": "9ad90bf5-674b-4569-8885-ea7b0f0e10c3"
   },
   "outputs": [
    {
     "data": {
      "text/plain": [
       "category           0\n",
       "main_category      0\n",
       "currency           0\n",
       "state              0\n",
       "country            0\n",
       "usd_goal_real      0\n",
       "start_day          0\n",
       "end_day            0\n",
       "start_month        0\n",
       "end_month          0\n",
       "year               0\n",
       "name_length        0\n",
       "campaign_length    0\n",
       "dtype: int64"
      ]
     },
     "execution_count": 34,
     "metadata": {
      "tags": []
     },
     "output_type": "execute_result"
    }
   ],
   "source": [
    "data.isnull().sum()"
   ]
  },
  {
   "cell_type": "code",
   "execution_count": null,
   "metadata": {
    "colab": {
     "base_uri": "https://localhost:8080/"
    },
    "id": "JPbkbn9SPSFj",
    "outputId": "e98814af-cf4e-44e9-f0d1-a06ceca59b6a"
   },
   "outputs": [
    {
     "name": "stdout",
     "output_type": "stream",
     "text": [
      "(331675, 13)\n",
      "(331675, 13)\n"
     ]
    }
   ],
   "source": [
    "print(data.shape)\n",
    "print(data_categorical.shape)"
   ]
  },
  {
   "cell_type": "markdown",
   "metadata": {
    "id": "myPib4u1sKVS"
   },
   "source": [
    "### Analisis descriptivo de los datos"
   ]
  },
  {
   "cell_type": "markdown",
   "metadata": {
    "id": "LdpnYyTFPZAu"
   },
   "source": [
    "**c. Realizar un análisis descriptivo (numérico y gráfico) de los datos, tomando en cuenta el tipo de variable en cuestión.**"
   ]
  },
  {
   "cell_type": "markdown",
   "metadata": {
    "id": "jbY53dHPPny1"
   },
   "source": [
    "Descripción de las variables numéricas (usd_goal_real, name_length,campaign_length) y las categóricas"
   ]
  },
  {
   "cell_type": "markdown",
   "metadata": {
    "id": "1oVXwPaOh-q-"
   },
   "source": [
    "Para las 3 variables numéricas se les aplicaron análisis descriptivos y se observó que la variable usd_goal_real estaban en rangos muy amplios asi cono que campaign length estaba sesgada, por lo que se decidió aplicar transformaciones (ver Transformación de los datos)"
   ]
  },
  {
   "cell_type": "code",
   "execution_count": null,
   "metadata": {
    "id": "sdjMqUlMP1tM"
   },
   "outputs": [],
   "source": [
    "numeric_vars = data_categorical[['usd_goal_real','name_length','campaign_length']]\n",
    "categorical_vars = data_categorical[['category','main_category','currency','state','country','start_day','end_day','start_month','end_month','year']]"
   ]
  },
  {
   "cell_type": "code",
   "execution_count": null,
   "metadata": {
    "colab": {
     "base_uri": "https://localhost:8080/",
     "height": 297
    },
    "id": "HUUCc1khP7aE",
    "outputId": "a0afe964-dc98-4d2d-df9b-a94cf158b6fc"
   },
   "outputs": [
    {
     "data": {
      "text/html": [
       "<div>\n",
       "<style scoped>\n",
       "    .dataframe tbody tr th:only-of-type {\n",
       "        vertical-align: middle;\n",
       "    }\n",
       "\n",
       "    .dataframe tbody tr th {\n",
       "        vertical-align: top;\n",
       "    }\n",
       "\n",
       "    .dataframe thead th {\n",
       "        text-align: right;\n",
       "    }\n",
       "</style>\n",
       "<table border=\"1\" class=\"dataframe\">\n",
       "  <thead>\n",
       "    <tr style=\"text-align: right;\">\n",
       "      <th></th>\n",
       "      <th>usd_goal_real</th>\n",
       "      <th>name_length</th>\n",
       "      <th>campaign_length</th>\n",
       "    </tr>\n",
       "  </thead>\n",
       "  <tbody>\n",
       "    <tr>\n",
       "      <th>count</th>\n",
       "      <td>3.316750e+05</td>\n",
       "      <td>331672.000000</td>\n",
       "      <td>331675.000000</td>\n",
       "    </tr>\n",
       "    <tr>\n",
       "      <th>mean</th>\n",
       "      <td>4.151000e+04</td>\n",
       "      <td>34.220335</td>\n",
       "      <td>33.389378</td>\n",
       "    </tr>\n",
       "    <tr>\n",
       "      <th>std</th>\n",
       "      <td>1.108930e+06</td>\n",
       "      <td>15.961502</td>\n",
       "      <td>12.723385</td>\n",
       "    </tr>\n",
       "    <tr>\n",
       "      <th>min</th>\n",
       "      <td>1.000000e-02</td>\n",
       "      <td>1.000000</td>\n",
       "      <td>0.005058</td>\n",
       "    </tr>\n",
       "    <tr>\n",
       "      <th>25%</th>\n",
       "      <td>2.000000e+03</td>\n",
       "      <td>21.000000</td>\n",
       "      <td>29.088929</td>\n",
       "    </tr>\n",
       "    <tr>\n",
       "      <th>50%</th>\n",
       "      <td>5.000000e+03</td>\n",
       "      <td>33.000000</td>\n",
       "      <td>29.656759</td>\n",
       "    </tr>\n",
       "    <tr>\n",
       "      <th>75%</th>\n",
       "      <td>1.500000e+04</td>\n",
       "      <td>48.000000</td>\n",
       "      <td>35.705966</td>\n",
       "    </tr>\n",
       "    <tr>\n",
       "      <th>max</th>\n",
       "      <td>1.663614e+08</td>\n",
       "      <td>85.000000</td>\n",
       "      <td>91.962650</td>\n",
       "    </tr>\n",
       "  </tbody>\n",
       "</table>\n",
       "</div>"
      ],
      "text/plain": [
       "       usd_goal_real    name_length  campaign_length\n",
       "count   3.316750e+05  331672.000000    331675.000000\n",
       "mean    4.151000e+04      34.220335        33.389378\n",
       "std     1.108930e+06      15.961502        12.723385\n",
       "min     1.000000e-02       1.000000         0.005058\n",
       "25%     2.000000e+03      21.000000        29.088929\n",
       "50%     5.000000e+03      33.000000        29.656759\n",
       "75%     1.500000e+04      48.000000        35.705966\n",
       "max     1.663614e+08      85.000000        91.962650"
      ]
     },
     "execution_count": 37,
     "metadata": {
      "tags": []
     },
     "output_type": "execute_result"
    }
   ],
   "source": [
    "numeric_vars.describe()"
   ]
  },
  {
   "cell_type": "code",
   "execution_count": null,
   "metadata": {
    "colab": {
     "base_uri": "https://localhost:8080/",
     "height": 305
    },
    "id": "CIo6OXt7QALc",
    "outputId": "8e6da97e-8430-4f46-b822-44db8e631467"
   },
   "outputs": [
    {
     "data": {
      "text/plain": [
       "usd_goal_real         AxesSubplot(0.125,0.71587;0.168478x0.16413)\n",
       "name_length        AxesSubplot(0.327174,0.71587;0.168478x0.16413)\n",
       "campaign_length    AxesSubplot(0.529348,0.71587;0.168478x0.16413)\n",
       "dtype: object"
      ]
     },
     "execution_count": 38,
     "metadata": {
      "tags": []
     },
     "output_type": "execute_result"
    },
    {
     "data": {
      "image/png": "[encoded data removed]",
      "text/plain": [
       "<Figure size 1080x1080 with 16 Axes>"
      ]
     },
     "metadata": {
      "needs_background": "light",
      "tags": []
     },
     "output_type": "display_data"
    }
   ],
   "source": [
    "numeric_vars.plot(kind='box',subplots=True, figsize=(15,15),layout=(4,4),)"
   ]
  },
  {
   "cell_type": "code",
   "execution_count": null,
   "metadata": {
    "colab": {
     "base_uri": "https://localhost:8080/",
     "height": 529
    },
    "id": "oAR7KOfqQDP9",
    "outputId": "f48b3a66-3645-433c-a6c5-0faa0db25b13"
   },
   "outputs": [
    {
     "data": {
      "text/plain": [
       "array([[<matplotlib.axes._subplots.AxesSubplot object at 0x7f2235a5c828>,\n",
       "        <matplotlib.axes._subplots.AxesSubplot object at 0x7f2235a1c940>],\n",
       "       [<matplotlib.axes._subplots.AxesSubplot object at 0x7f22359ceba8>,\n",
       "        <matplotlib.axes._subplots.AxesSubplot object at 0x7f2235982e10>]],\n",
       "      dtype=object)"
      ]
     },
     "execution_count": 39,
     "metadata": {
      "tags": []
     },
     "output_type": "execute_result"
    },
    {
     "data": {
      "image/png": "[encoded data removed]",
      "text/plain": [
       "<Figure size 504x504 with 4 Axes>"
      ]
     },
     "metadata": {
      "needs_background": "light",
      "tags": []
     },
     "output_type": "display_data"
    }
   ],
   "source": [
    "numeric_vars.hist(figsize=(7,7))"
   ]
  },
  {
   "cell_type": "markdown",
   "metadata": {
    "id": "iXEm4tLkiWSr"
   },
   "source": [
    "Para las 10 variables categóricas, en primera instancia les aplicamos encoding para poder hacer análisis descriptivos. Como se puede ver las únicas variables que presentan outliers son las de country y currency. Aquí podemos ver su distribución y posteriormente a estas variables se les aplicó one hot enoding por lo que terminaron siendo  0 y 1 s. "
   ]
  },
  {
   "cell_type": "code",
   "execution_count": null,
   "metadata": {
    "colab": {
     "base_uri": "https://localhost:8080/",
     "height": 297
    },
    "id": "4toQIhmJQNcG",
    "outputId": "88ea9a8b-9028-429d-f495-e768bb975d4f"
   },
   "outputs": [
    {
     "data": {
      "text/html": [
       "<div>\n",
       "<style scoped>\n",
       "    .dataframe tbody tr th:only-of-type {\n",
       "        vertical-align: middle;\n",
       "    }\n",
       "\n",
       "    .dataframe tbody tr th {\n",
       "        vertical-align: top;\n",
       "    }\n",
       "\n",
       "    .dataframe thead th {\n",
       "        text-align: right;\n",
       "    }\n",
       "</style>\n",
       "<table border=\"1\" class=\"dataframe\">\n",
       "  <thead>\n",
       "    <tr style=\"text-align: right;\">\n",
       "      <th></th>\n",
       "      <th>category</th>\n",
       "      <th>main_category</th>\n",
       "      <th>currency</th>\n",
       "      <th>state</th>\n",
       "      <th>country</th>\n",
       "      <th>start_day</th>\n",
       "      <th>end_day</th>\n",
       "      <th>start_month</th>\n",
       "      <th>end_month</th>\n",
       "      <th>year</th>\n",
       "    </tr>\n",
       "  </thead>\n",
       "  <tbody>\n",
       "    <tr>\n",
       "      <th>count</th>\n",
       "      <td>331675.000000</td>\n",
       "      <td>331675.000000</td>\n",
       "      <td>331675.000000</td>\n",
       "      <td>331675.000000</td>\n",
       "      <td>331675.000000</td>\n",
       "      <td>331675.000000</td>\n",
       "      <td>331675.000000</td>\n",
       "      <td>331675.000000</td>\n",
       "      <td>331675.000000</td>\n",
       "      <td>331675.000000</td>\n",
       "    </tr>\n",
       "    <tr>\n",
       "      <th>mean</th>\n",
       "      <td>80.292557</td>\n",
       "      <td>7.483410</td>\n",
       "      <td>11.081227</td>\n",
       "      <td>0.403877</td>\n",
       "      <td>18.994826</td>\n",
       "      <td>2.421826</td>\n",
       "      <td>3.183773</td>\n",
       "      <td>6.416163</td>\n",
       "      <td>6.758483</td>\n",
       "      <td>5.180002</td>\n",
       "    </tr>\n",
       "    <tr>\n",
       "      <th>std</th>\n",
       "      <td>45.069033</td>\n",
       "      <td>3.931466</td>\n",
       "      <td>3.878572</td>\n",
       "      <td>0.490674</td>\n",
       "      <td>6.193821</td>\n",
       "      <td>1.762946</td>\n",
       "      <td>1.951072</td>\n",
       "      <td>3.306989</td>\n",
       "      <td>3.315202</td>\n",
       "      <td>1.930922</td>\n",
       "    </tr>\n",
       "    <tr>\n",
       "      <th>min</th>\n",
       "      <td>0.000000</td>\n",
       "      <td>0.000000</td>\n",
       "      <td>0.000000</td>\n",
       "      <td>0.000000</td>\n",
       "      <td>0.000000</td>\n",
       "      <td>0.000000</td>\n",
       "      <td>0.000000</td>\n",
       "      <td>1.000000</td>\n",
       "      <td>1.000000</td>\n",
       "      <td>0.000000</td>\n",
       "    </tr>\n",
       "    <tr>\n",
       "      <th>25%</th>\n",
       "      <td>39.000000</td>\n",
       "      <td>5.000000</td>\n",
       "      <td>13.000000</td>\n",
       "      <td>0.000000</td>\n",
       "      <td>22.000000</td>\n",
       "      <td>1.000000</td>\n",
       "      <td>2.000000</td>\n",
       "      <td>4.000000</td>\n",
       "      <td>4.000000</td>\n",
       "      <td>4.000000</td>\n",
       "    </tr>\n",
       "    <tr>\n",
       "      <th>50%</th>\n",
       "      <td>85.000000</td>\n",
       "      <td>7.000000</td>\n",
       "      <td>13.000000</td>\n",
       "      <td>0.000000</td>\n",
       "      <td>22.000000</td>\n",
       "      <td>2.000000</td>\n",
       "      <td>3.000000</td>\n",
       "      <td>6.000000</td>\n",
       "      <td>7.000000</td>\n",
       "      <td>5.000000</td>\n",
       "    </tr>\n",
       "    <tr>\n",
       "      <th>75%</th>\n",
       "      <td>119.000000</td>\n",
       "      <td>10.000000</td>\n",
       "      <td>13.000000</td>\n",
       "      <td>1.000000</td>\n",
       "      <td>22.000000</td>\n",
       "      <td>4.000000</td>\n",
       "      <td>5.000000</td>\n",
       "      <td>9.000000</td>\n",
       "      <td>10.000000</td>\n",
       "      <td>7.000000</td>\n",
       "    </tr>\n",
       "    <tr>\n",
       "      <th>max</th>\n",
       "      <td>158.000000</td>\n",
       "      <td>14.000000</td>\n",
       "      <td>13.000000</td>\n",
       "      <td>1.000000</td>\n",
       "      <td>22.000000</td>\n",
       "      <td>6.000000</td>\n",
       "      <td>6.000000</td>\n",
       "      <td>12.000000</td>\n",
       "      <td>12.000000</td>\n",
       "      <td>8.000000</td>\n",
       "    </tr>\n",
       "  </tbody>\n",
       "</table>\n",
       "</div>"
      ],
      "text/plain": [
       "            category  main_category  ...      end_month           year\n",
       "count  331675.000000  331675.000000  ...  331675.000000  331675.000000\n",
       "mean       80.292557       7.483410  ...       6.758483       5.180002\n",
       "std        45.069033       3.931466  ...       3.315202       1.930922\n",
       "min         0.000000       0.000000  ...       1.000000       0.000000\n",
       "25%        39.000000       5.000000  ...       4.000000       4.000000\n",
       "50%        85.000000       7.000000  ...       7.000000       5.000000\n",
       "75%       119.000000      10.000000  ...      10.000000       7.000000\n",
       "max       158.000000      14.000000  ...      12.000000       8.000000\n",
       "\n",
       "[8 rows x 10 columns]"
      ]
     },
     "execution_count": 40,
     "metadata": {
      "tags": []
     },
     "output_type": "execute_result"
    }
   ],
   "source": [
    "categorical_vars.describe()"
   ]
  },
  {
   "cell_type": "code",
   "execution_count": null,
   "metadata": {
    "colab": {
     "base_uri": "https://localhost:8080/",
     "height": 545
    },
    "id": "76maO4jPQRoD",
    "outputId": "7b82ec6d-f4e1-44ad-d056-728f4cc14108"
   },
   "outputs": [
    {
     "data": {
      "text/plain": [
       "category            AxesSubplot(0.125,0.749828;0.133621x0.130172)\n",
       "main_category    AxesSubplot(0.285345,0.749828;0.133621x0.130172)\n",
       "currency          AxesSubplot(0.44569,0.749828;0.133621x0.130172)\n",
       "state            AxesSubplot(0.606034,0.749828;0.133621x0.130172)\n",
       "country          AxesSubplot(0.766379,0.749828;0.133621x0.130172)\n",
       "start_day           AxesSubplot(0.125,0.593621;0.133621x0.130172)\n",
       "end_day          AxesSubplot(0.285345,0.593621;0.133621x0.130172)\n",
       "start_month       AxesSubplot(0.44569,0.593621;0.133621x0.130172)\n",
       "end_month        AxesSubplot(0.606034,0.593621;0.133621x0.130172)\n",
       "year             AxesSubplot(0.766379,0.593621;0.133621x0.130172)\n",
       "dtype: object"
      ]
     },
     "execution_count": 41,
     "metadata": {
      "tags": []
     },
     "output_type": "execute_result"
    },
    {
     "data": {
      "image/png": "[encoded data removed]",
      "text/plain": [
       "<Figure size 1080x1080 with 25 Axes>"
      ]
     },
     "metadata": {
      "needs_background": "light",
      "tags": []
     },
     "output_type": "display_data"
    }
   ],
   "source": [
    "categorical_vars.plot(kind='box',subplots=True, figsize=(15,15),layout=(5,5),)"
   ]
  },
  {
   "cell_type": "code",
   "execution_count": null,
   "metadata": {
    "colab": {
     "base_uri": "https://localhost:8080/",
     "height": 828
    },
    "id": "hHXJksIyQVlm",
    "outputId": "3a947f9e-bb60-478c-990d-15eb5120b500"
   },
   "outputs": [
    {
     "data": {
      "text/plain": [
       "array([[<matplotlib.axes._subplots.AxesSubplot object at 0x7f223518e080>,\n",
       "        <matplotlib.axes._subplots.AxesSubplot object at 0x7f22351b2978>,\n",
       "        <matplotlib.axes._subplots.AxesSubplot object at 0x7f223515fba8>],\n",
       "       [<matplotlib.axes._subplots.AxesSubplot object at 0x7f2235113e10>,\n",
       "        <matplotlib.axes._subplots.AxesSubplot object at 0x7f22350d40b8>,\n",
       "        <matplotlib.axes._subplots.AxesSubplot object at 0x7f2235086320>],\n",
       "       [<matplotlib.axes._subplots.AxesSubplot object at 0x7f22350b9588>,\n",
       "        <matplotlib.axes._subplots.AxesSubplot object at 0x7f223506f7b8>,\n",
       "        <matplotlib.axes._subplots.AxesSubplot object at 0x7f223506f828>],\n",
       "       [<matplotlib.axes._subplots.AxesSubplot object at 0x7f2234fd5cc0>,\n",
       "        <matplotlib.axes._subplots.AxesSubplot object at 0x7f2234f89f28>,\n",
       "        <matplotlib.axes._subplots.AxesSubplot object at 0x7f2234f4b1d0>]],\n",
       "      dtype=object)"
      ]
     },
     "execution_count": 42,
     "metadata": {
      "tags": []
     },
     "output_type": "execute_result"
    },
    {
     "data": {
      "image/png": "[encoded data removed]",
      "text/plain": [
       "<Figure size 720x720 with 12 Axes>"
      ]
     },
     "metadata": {
      "needs_background": "light",
      "tags": []
     },
     "output_type": "display_data"
    }
   ],
   "source": [
    "categorical_vars.hist(figsize=(10,10))"
   ]
  },
  {
   "cell_type": "markdown",
   "metadata": {
    "id": "sPahlZvLsTnw"
   },
   "source": [
    "### Transformacion de los datos"
   ]
  },
  {
   "cell_type": "markdown",
   "metadata": {
    "id": "xpjLszLRNxVy"
   },
   "source": [
    "**d. Determinar en cuáles factores (continuos, discretos, categóricos, binarios, etc.) sería\n",
    "conveniente realizar algún tipo de transformación. En los casos que así lo consideres\n",
    "adecuado, indicar y realizar dichas transformaciones.**"
   ]
  },
  {
   "cell_type": "markdown",
   "metadata": {
    "id": "sA3LkUZvUPm6"
   },
   "source": [
    "Las variables numéricas se deben de transformar puesto que tienen un rango muy amplio en el caso de usd y presentan sesgo"
   ]
  },
  {
   "cell_type": "code",
   "execution_count": null,
   "metadata": {
    "colab": {
     "base_uri": "https://localhost:8080/",
     "height": 204
    },
    "id": "cYCN_MMdLOIK",
    "outputId": "afe17ffd-f93a-4bb4-f607-8cd9c5fdb2ca"
   },
   "outputs": [
    {
     "data": {
      "text/html": [
       "<div>\n",
       "<style scoped>\n",
       "    .dataframe tbody tr th:only-of-type {\n",
       "        vertical-align: middle;\n",
       "    }\n",
       "\n",
       "    .dataframe tbody tr th {\n",
       "        vertical-align: top;\n",
       "    }\n",
       "\n",
       "    .dataframe thead th {\n",
       "        text-align: right;\n",
       "    }\n",
       "</style>\n",
       "<table border=\"1\" class=\"dataframe\">\n",
       "  <thead>\n",
       "    <tr style=\"text-align: right;\">\n",
       "      <th></th>\n",
       "      <th>category</th>\n",
       "      <th>main_category</th>\n",
       "      <th>currency</th>\n",
       "      <th>state</th>\n",
       "      <th>country</th>\n",
       "      <th>usd_goal_real</th>\n",
       "      <th>start_day</th>\n",
       "      <th>end_day</th>\n",
       "      <th>start_month</th>\n",
       "      <th>end_month</th>\n",
       "      <th>year</th>\n",
       "      <th>name_length</th>\n",
       "      <th>campaign_length</th>\n",
       "    </tr>\n",
       "  </thead>\n",
       "  <tbody>\n",
       "    <tr>\n",
       "      <th>0</th>\n",
       "      <td>108</td>\n",
       "      <td>12</td>\n",
       "      <td>5</td>\n",
       "      <td>0</td>\n",
       "      <td>9</td>\n",
       "      <td>1533.95</td>\n",
       "      <td>1</td>\n",
       "      <td>4</td>\n",
       "      <td>8</td>\n",
       "      <td>10</td>\n",
       "      <td>6</td>\n",
       "      <td>31.0</td>\n",
       "      <td>58.491343</td>\n",
       "    </tr>\n",
       "    <tr>\n",
       "      <th>1</th>\n",
       "      <td>93</td>\n",
       "      <td>6</td>\n",
       "      <td>13</td>\n",
       "      <td>0</td>\n",
       "      <td>22</td>\n",
       "      <td>30000.00</td>\n",
       "      <td>5</td>\n",
       "      <td>2</td>\n",
       "      <td>9</td>\n",
       "      <td>11</td>\n",
       "      <td>8</td>\n",
       "      <td>45.0</td>\n",
       "      <td>59.802813</td>\n",
       "    </tr>\n",
       "    <tr>\n",
       "      <th>2</th>\n",
       "      <td>93</td>\n",
       "      <td>6</td>\n",
       "      <td>13</td>\n",
       "      <td>0</td>\n",
       "      <td>22</td>\n",
       "      <td>45000.00</td>\n",
       "      <td>5</td>\n",
       "      <td>1</td>\n",
       "      <td>1</td>\n",
       "      <td>2</td>\n",
       "      <td>4</td>\n",
       "      <td>14.0</td>\n",
       "      <td>44.985532</td>\n",
       "    </tr>\n",
       "    <tr>\n",
       "      <th>3</th>\n",
       "      <td>90</td>\n",
       "      <td>10</td>\n",
       "      <td>13</td>\n",
       "      <td>0</td>\n",
       "      <td>22</td>\n",
       "      <td>5000.00</td>\n",
       "      <td>5</td>\n",
       "      <td>0</td>\n",
       "      <td>3</td>\n",
       "      <td>4</td>\n",
       "      <td>3</td>\n",
       "      <td>49.0</td>\n",
       "      <td>29.858206</td>\n",
       "    </tr>\n",
       "    <tr>\n",
       "      <th>5</th>\n",
       "      <td>123</td>\n",
       "      <td>7</td>\n",
       "      <td>13</td>\n",
       "      <td>1</td>\n",
       "      <td>22</td>\n",
       "      <td>50000.00</td>\n",
       "      <td>4</td>\n",
       "      <td>4</td>\n",
       "      <td>2</td>\n",
       "      <td>4</td>\n",
       "      <td>7</td>\n",
       "      <td>20.0</td>\n",
       "      <td>34.431632</td>\n",
       "    </tr>\n",
       "  </tbody>\n",
       "</table>\n",
       "</div>"
      ],
      "text/plain": [
       "   category  main_category  currency  ...  year  name_length  campaign_length\n",
       "0       108             12         5  ...     6         31.0        58.491343\n",
       "1        93              6        13  ...     8         45.0        59.802813\n",
       "2        93              6        13  ...     4         14.0        44.985532\n",
       "3        90             10        13  ...     3         49.0        29.858206\n",
       "5       123              7        13  ...     7         20.0        34.431632\n",
       "\n",
       "[5 rows x 13 columns]"
      ]
     },
     "execution_count": 43,
     "metadata": {
      "tags": []
     },
     "output_type": "execute_result"
    }
   ],
   "source": [
    "data_categorical.head()"
   ]
  },
  {
   "cell_type": "code",
   "execution_count": null,
   "metadata": {
    "colab": {
     "base_uri": "https://localhost:8080/"
    },
    "id": "Kf02M9Y6MAHG",
    "outputId": "e85cb835-0783-4452-ac3c-87b6eb692ce4"
   },
   "outputs": [
    {
     "data": {
      "text/plain": [
       "(331675, 13)"
      ]
     },
     "execution_count": 44,
     "metadata": {
      "tags": []
     },
     "output_type": "execute_result"
    }
   ],
   "source": [
    "data_categorical.shape"
   ]
  },
  {
   "cell_type": "code",
   "execution_count": null,
   "metadata": {
    "id": "xfEz2XEcPK8t"
   },
   "outputs": [],
   "source": [
    "data_trans = data.copy()"
   ]
  },
  {
   "cell_type": "code",
   "execution_count": null,
   "metadata": {
    "id": "OLVyLIuvVAkG"
   },
   "outputs": [],
   "source": [
    "data_trans['usd_goal_real'] = np.log(data_trans['usd_goal_real']+(1-data_trans['usd_goal_real'].min()))\n",
    "#data_trans['usd_goal_real'] = np.power(data_trans['usd_goal_real'],1/4)\n",
    "#data_trans['usd_pledged_real'] = np.log(data_trans['usd_pledged_real']+(1-data_trans['usd_pledged_real'].min()))\n",
    "#data_trans['campaign_length'] = np.log(data_trans['campaign_length'] +(1-data_trans['campaign_length'].min()))\n",
    "#data_trans['campaign_length'] = (data_trans['campaign_length'] - data_trans['campaign_length'].mean())/data_trans['campaign_length'].std()\n",
    "data_trans['campaign_length'] = np.power(data_trans['campaign_length'],1/2)\n",
    "#data_trans['campaign_length'] = (data_trans['campaign_length'] - data_trans['campaign_length'].min())/(data_trans['campaign_length'].max() - data_trans['campaign_length'].min())\n",
    "#data_trans['country'] = np.power((data_trans['country'].max()+5)-data_trans['campaign_length'],1/2)\n",
    "# data_trans['country'] = np.log(data_trans['country'])\n"
   ]
  },
  {
   "cell_type": "code",
   "execution_count": null,
   "metadata": {
    "id": "QzybbpdeNOtN"
   },
   "outputs": [],
   "source": [
    "data_categorical['usd_goal_real'] = np.log(data_categorical['usd_goal_real']+(1-data_categorical['usd_goal_real'].min()))\n",
    "#data_categorical['usd_pledged_real'] = np.log(data_categorical['usd_pledged_real']+(1-data_categorical['usd_pledged_real'].min()))\n",
    "data_categorical['campaign_length'] = np.power(data_categorical['campaign_length'],1/2)"
   ]
  },
  {
   "cell_type": "code",
   "execution_count": null,
   "metadata": {
    "colab": {
     "base_uri": "https://localhost:8080/",
     "height": 204
    },
    "id": "tHPwtaa9Nl1V",
    "outputId": "15581410-e001-4c38-d6f9-1b18b4582ff6"
   },
   "outputs": [
    {
     "data": {
      "text/html": [
       "<div>\n",
       "<style scoped>\n",
       "    .dataframe tbody tr th:only-of-type {\n",
       "        vertical-align: middle;\n",
       "    }\n",
       "\n",
       "    .dataframe tbody tr th {\n",
       "        vertical-align: top;\n",
       "    }\n",
       "\n",
       "    .dataframe thead th {\n",
       "        text-align: right;\n",
       "    }\n",
       "</style>\n",
       "<table border=\"1\" class=\"dataframe\">\n",
       "  <thead>\n",
       "    <tr style=\"text-align: right;\">\n",
       "      <th></th>\n",
       "      <th>category</th>\n",
       "      <th>main_category</th>\n",
       "      <th>currency</th>\n",
       "      <th>state</th>\n",
       "      <th>country</th>\n",
       "      <th>usd_goal_real</th>\n",
       "      <th>start_day</th>\n",
       "      <th>end_day</th>\n",
       "      <th>start_month</th>\n",
       "      <th>end_month</th>\n",
       "      <th>year</th>\n",
       "      <th>name_length</th>\n",
       "      <th>campaign_length</th>\n",
       "    </tr>\n",
       "  </thead>\n",
       "  <tbody>\n",
       "    <tr>\n",
       "      <th>0</th>\n",
       "      <td>108</td>\n",
       "      <td>12</td>\n",
       "      <td>5</td>\n",
       "      <td>0</td>\n",
       "      <td>9</td>\n",
       "      <td>7.336247</td>\n",
       "      <td>1</td>\n",
       "      <td>4</td>\n",
       "      <td>8</td>\n",
       "      <td>10</td>\n",
       "      <td>6</td>\n",
       "      <td>31.0</td>\n",
       "      <td>7.647963</td>\n",
       "    </tr>\n",
       "    <tr>\n",
       "      <th>1</th>\n",
       "      <td>93</td>\n",
       "      <td>6</td>\n",
       "      <td>13</td>\n",
       "      <td>0</td>\n",
       "      <td>22</td>\n",
       "      <td>10.308986</td>\n",
       "      <td>5</td>\n",
       "      <td>2</td>\n",
       "      <td>9</td>\n",
       "      <td>11</td>\n",
       "      <td>8</td>\n",
       "      <td>45.0</td>\n",
       "      <td>7.733228</td>\n",
       "    </tr>\n",
       "    <tr>\n",
       "      <th>2</th>\n",
       "      <td>93</td>\n",
       "      <td>6</td>\n",
       "      <td>13</td>\n",
       "      <td>0</td>\n",
       "      <td>22</td>\n",
       "      <td>10.714440</td>\n",
       "      <td>5</td>\n",
       "      <td>1</td>\n",
       "      <td>1</td>\n",
       "      <td>2</td>\n",
       "      <td>4</td>\n",
       "      <td>14.0</td>\n",
       "      <td>6.707125</td>\n",
       "    </tr>\n",
       "    <tr>\n",
       "      <th>3</th>\n",
       "      <td>90</td>\n",
       "      <td>10</td>\n",
       "      <td>13</td>\n",
       "      <td>0</td>\n",
       "      <td>22</td>\n",
       "      <td>8.517391</td>\n",
       "      <td>5</td>\n",
       "      <td>0</td>\n",
       "      <td>3</td>\n",
       "      <td>4</td>\n",
       "      <td>3</td>\n",
       "      <td>49.0</td>\n",
       "      <td>5.464266</td>\n",
       "    </tr>\n",
       "    <tr>\n",
       "      <th>5</th>\n",
       "      <td>123</td>\n",
       "      <td>7</td>\n",
       "      <td>13</td>\n",
       "      <td>1</td>\n",
       "      <td>22</td>\n",
       "      <td>10.819798</td>\n",
       "      <td>4</td>\n",
       "      <td>4</td>\n",
       "      <td>2</td>\n",
       "      <td>4</td>\n",
       "      <td>7</td>\n",
       "      <td>20.0</td>\n",
       "      <td>5.867847</td>\n",
       "    </tr>\n",
       "  </tbody>\n",
       "</table>\n",
       "</div>"
      ],
      "text/plain": [
       "   category  main_category  currency  ...  year  name_length  campaign_length\n",
       "0       108             12         5  ...     6         31.0         7.647963\n",
       "1        93              6        13  ...     8         45.0         7.733228\n",
       "2        93              6        13  ...     4         14.0         6.707125\n",
       "3        90             10        13  ...     3         49.0         5.464266\n",
       "5       123              7        13  ...     7         20.0         5.867847\n",
       "\n",
       "[5 rows x 13 columns]"
      ]
     },
     "execution_count": 48,
     "metadata": {
      "tags": []
     },
     "output_type": "execute_result"
    }
   ],
   "source": [
    "data_categorical.head()"
   ]
  },
  {
   "cell_type": "code",
   "execution_count": null,
   "metadata": {
    "colab": {
     "base_uri": "https://localhost:8080/",
     "height": 204
    },
    "id": "gZG6xYrkMgC4",
    "outputId": "7dcdb491-527a-4043-8936-aabe3edbc069"
   },
   "outputs": [
    {
     "data": {
      "text/html": [
       "<div>\n",
       "<style scoped>\n",
       "    .dataframe tbody tr th:only-of-type {\n",
       "        vertical-align: middle;\n",
       "    }\n",
       "\n",
       "    .dataframe tbody tr th {\n",
       "        vertical-align: top;\n",
       "    }\n",
       "\n",
       "    .dataframe thead th {\n",
       "        text-align: right;\n",
       "    }\n",
       "</style>\n",
       "<table border=\"1\" class=\"dataframe\">\n",
       "  <thead>\n",
       "    <tr style=\"text-align: right;\">\n",
       "      <th></th>\n",
       "      <th>category</th>\n",
       "      <th>main_category</th>\n",
       "      <th>currency</th>\n",
       "      <th>state</th>\n",
       "      <th>country</th>\n",
       "      <th>usd_goal_real</th>\n",
       "      <th>start_day</th>\n",
       "      <th>end_day</th>\n",
       "      <th>start_month</th>\n",
       "      <th>end_month</th>\n",
       "      <th>year</th>\n",
       "      <th>name_length</th>\n",
       "      <th>campaign_length</th>\n",
       "    </tr>\n",
       "  </thead>\n",
       "  <tbody>\n",
       "    <tr>\n",
       "      <th>0</th>\n",
       "      <td>Poetry</td>\n",
       "      <td>Publishing</td>\n",
       "      <td>GBP</td>\n",
       "      <td>failed</td>\n",
       "      <td>GB</td>\n",
       "      <td>7.336247</td>\n",
       "      <td>1</td>\n",
       "      <td>4</td>\n",
       "      <td>8</td>\n",
       "      <td>10</td>\n",
       "      <td>2015</td>\n",
       "      <td>31.0</td>\n",
       "      <td>7.647963</td>\n",
       "    </tr>\n",
       "    <tr>\n",
       "      <th>1</th>\n",
       "      <td>Narrative Film</td>\n",
       "      <td>Film &amp; Video</td>\n",
       "      <td>USD</td>\n",
       "      <td>failed</td>\n",
       "      <td>US</td>\n",
       "      <td>10.308986</td>\n",
       "      <td>5</td>\n",
       "      <td>2</td>\n",
       "      <td>9</td>\n",
       "      <td>11</td>\n",
       "      <td>2017</td>\n",
       "      <td>45.0</td>\n",
       "      <td>7.733228</td>\n",
       "    </tr>\n",
       "    <tr>\n",
       "      <th>2</th>\n",
       "      <td>Narrative Film</td>\n",
       "      <td>Film &amp; Video</td>\n",
       "      <td>USD</td>\n",
       "      <td>failed</td>\n",
       "      <td>US</td>\n",
       "      <td>10.714440</td>\n",
       "      <td>5</td>\n",
       "      <td>1</td>\n",
       "      <td>1</td>\n",
       "      <td>2</td>\n",
       "      <td>2013</td>\n",
       "      <td>14.0</td>\n",
       "      <td>6.707125</td>\n",
       "    </tr>\n",
       "    <tr>\n",
       "      <th>3</th>\n",
       "      <td>Music</td>\n",
       "      <td>Music</td>\n",
       "      <td>USD</td>\n",
       "      <td>failed</td>\n",
       "      <td>US</td>\n",
       "      <td>8.517391</td>\n",
       "      <td>5</td>\n",
       "      <td>0</td>\n",
       "      <td>3</td>\n",
       "      <td>4</td>\n",
       "      <td>2012</td>\n",
       "      <td>49.0</td>\n",
       "      <td>5.464266</td>\n",
       "    </tr>\n",
       "    <tr>\n",
       "      <th>5</th>\n",
       "      <td>Restaurants</td>\n",
       "      <td>Food</td>\n",
       "      <td>USD</td>\n",
       "      <td>successful</td>\n",
       "      <td>US</td>\n",
       "      <td>10.819798</td>\n",
       "      <td>4</td>\n",
       "      <td>4</td>\n",
       "      <td>2</td>\n",
       "      <td>4</td>\n",
       "      <td>2016</td>\n",
       "      <td>20.0</td>\n",
       "      <td>5.867847</td>\n",
       "    </tr>\n",
       "  </tbody>\n",
       "</table>\n",
       "</div>"
      ],
      "text/plain": [
       "         category main_category currency  ...  year name_length  campaign_length\n",
       "0          Poetry    Publishing      GBP  ...  2015        31.0         7.647963\n",
       "1  Narrative Film  Film & Video      USD  ...  2017        45.0         7.733228\n",
       "2  Narrative Film  Film & Video      USD  ...  2013        14.0         6.707125\n",
       "3           Music         Music      USD  ...  2012        49.0         5.464266\n",
       "5     Restaurants          Food      USD  ...  2016        20.0         5.867847\n",
       "\n",
       "[5 rows x 13 columns]"
      ]
     },
     "execution_count": 49,
     "metadata": {
      "tags": []
     },
     "output_type": "execute_result"
    }
   ],
   "source": [
    "data_trans.head()"
   ]
  },
  {
   "cell_type": "code",
   "execution_count": null,
   "metadata": {
    "id": "ZiKL8vz_Q-mE"
   },
   "outputs": [],
   "source": [
    "#numeric_vars_trans = data_trans[['usd_pledged_real','usd_goal_real','name_length','campaign_length']]\n",
    "numeric_vars_trans = data_trans[['usd_goal_real','name_length','campaign_length']]\n",
    "categorical_vars_trans = data_trans[['category','main_category','currency','state','country','start_day','end_day','start_month','end_month','year']]"
   ]
  },
  {
   "cell_type": "code",
   "execution_count": null,
   "metadata": {
    "colab": {
     "base_uri": "https://localhost:8080/",
     "height": 297
    },
    "id": "1mh5QamzRBS_",
    "outputId": "0e5ae1ad-e37d-43cf-ab0d-500b36f151f1"
   },
   "outputs": [
    {
     "data": {
      "text/html": [
       "<div>\n",
       "<style scoped>\n",
       "    .dataframe tbody tr th:only-of-type {\n",
       "        vertical-align: middle;\n",
       "    }\n",
       "\n",
       "    .dataframe tbody tr th {\n",
       "        vertical-align: top;\n",
       "    }\n",
       "\n",
       "    .dataframe thead th {\n",
       "        text-align: right;\n",
       "    }\n",
       "</style>\n",
       "<table border=\"1\" class=\"dataframe\">\n",
       "  <thead>\n",
       "    <tr style=\"text-align: right;\">\n",
       "      <th></th>\n",
       "      <th>usd_goal_real</th>\n",
       "      <th>name_length</th>\n",
       "      <th>campaign_length</th>\n",
       "    </tr>\n",
       "  </thead>\n",
       "  <tbody>\n",
       "    <tr>\n",
       "      <th>count</th>\n",
       "      <td>331675.000000</td>\n",
       "      <td>331675.000000</td>\n",
       "      <td>331675.000000</td>\n",
       "    </tr>\n",
       "    <tr>\n",
       "      <th>mean</th>\n",
       "      <td>8.582612</td>\n",
       "      <td>34.220335</td>\n",
       "      <td>5.678290</td>\n",
       "    </tr>\n",
       "    <tr>\n",
       "      <th>std</th>\n",
       "      <td>1.667154</td>\n",
       "      <td>15.961430</td>\n",
       "      <td>1.070703</td>\n",
       "    </tr>\n",
       "    <tr>\n",
       "      <th>min</th>\n",
       "      <td>0.000000</td>\n",
       "      <td>1.000000</td>\n",
       "      <td>0.071119</td>\n",
       "    </tr>\n",
       "    <tr>\n",
       "      <th>25%</th>\n",
       "      <td>7.601397</td>\n",
       "      <td>21.000000</td>\n",
       "      <td>5.393415</td>\n",
       "    </tr>\n",
       "    <tr>\n",
       "      <th>50%</th>\n",
       "      <td>8.517391</td>\n",
       "      <td>33.000000</td>\n",
       "      <td>5.445802</td>\n",
       "    </tr>\n",
       "    <tr>\n",
       "      <th>75%</th>\n",
       "      <td>9.615871</td>\n",
       "      <td>48.000000</td>\n",
       "      <td>5.975447</td>\n",
       "    </tr>\n",
       "    <tr>\n",
       "      <th>max</th>\n",
       "      <td>18.929673</td>\n",
       "      <td>85.000000</td>\n",
       "      <td>9.589716</td>\n",
       "    </tr>\n",
       "  </tbody>\n",
       "</table>\n",
       "</div>"
      ],
      "text/plain": [
       "       usd_goal_real    name_length  campaign_length\n",
       "count  331675.000000  331675.000000    331675.000000\n",
       "mean        8.582612      34.220335         5.678290\n",
       "std         1.667154      15.961430         1.070703\n",
       "min         0.000000       1.000000         0.071119\n",
       "25%         7.601397      21.000000         5.393415\n",
       "50%         8.517391      33.000000         5.445802\n",
       "75%         9.615871      48.000000         5.975447\n",
       "max        18.929673      85.000000         9.589716"
      ]
     },
     "execution_count": 51,
     "metadata": {
      "tags": []
     },
     "output_type": "execute_result"
    }
   ],
   "source": [
    "numeric_vars_trans.describe()"
   ]
  },
  {
   "cell_type": "code",
   "execution_count": null,
   "metadata": {
    "colab": {
     "base_uri": "https://localhost:8080/",
     "height": 297
    },
    "id": "abYn6UFHRDtn",
    "outputId": "2dcd409d-a436-4933-c0b2-15aab53b030f"
   },
   "outputs": [
    {
     "data": {
      "text/plain": [
       "usd_goal_real         AxesSubplot(0.125,0.71587;0.168478x0.16413)\n",
       "name_length        AxesSubplot(0.327174,0.71587;0.168478x0.16413)\n",
       "campaign_length    AxesSubplot(0.529348,0.71587;0.168478x0.16413)\n",
       "dtype: object"
      ]
     },
     "execution_count": 52,
     "metadata": {
      "tags": []
     },
     "output_type": "execute_result"
    },
    {
     "data": {
      "image/png": "[encoded data removed]",
      "text/plain": [
       "<Figure size 1080x1080 with 16 Axes>"
      ]
     },
     "metadata": {
      "needs_background": "light",
      "tags": []
     },
     "output_type": "display_data"
    }
   ],
   "source": [
    "numeric_vars_trans.plot(kind='box',subplots=True, figsize=(15,15),layout=(4,4),)"
   ]
  },
  {
   "cell_type": "code",
   "execution_count": null,
   "metadata": {
    "colab": {
     "base_uri": "https://localhost:8080/",
     "height": 529
    },
    "id": "ddL83b2PRGvs",
    "outputId": "b02cd2ce-5797-4d7f-a42e-48ddb06bc05b"
   },
   "outputs": [
    {
     "data": {
      "text/plain": [
       "array([[<matplotlib.axes._subplots.AxesSubplot object at 0x7f2234897710>,\n",
       "        <matplotlib.axes._subplots.AxesSubplot object at 0x7f223487da20>],\n",
       "       [<matplotlib.axes._subplots.AxesSubplot object at 0x7f223482ecf8>,\n",
       "        <matplotlib.axes._subplots.AxesSubplot object at 0x7f22347ed0b8>]],\n",
       "      dtype=object)"
      ]
     },
     "execution_count": 53,
     "metadata": {
      "tags": []
     },
     "output_type": "execute_result"
    },
    {
     "data": {
      "image/png": "[encoded data removed]",
      "text/plain": [
       "<Figure size 504x504 with 4 Axes>"
      ]
     },
     "metadata": {
      "needs_background": "light",
      "tags": []
     },
     "output_type": "display_data"
    }
   ],
   "source": [
    "numeric_vars_trans.hist(figsize=(7,7))"
   ]
  },
  {
   "cell_type": "markdown",
   "metadata": {
    "id": "FzwKBd8g1GqX"
   },
   "source": [
    "**e. Determina si existe algún tipo de correlación entre algunos factores que consideres pueda\n",
    "darte información relevante para el diseño posterior del modelo a buscar.**"
   ]
  },
  {
   "cell_type": "code",
   "execution_count": null,
   "metadata": {
    "colab": {
     "base_uri": "https://localhost:8080/",
     "height": 452
    },
    "id": "vTic3JYSxB1n",
    "outputId": "80f627d6-6de8-41ea-be4b-17607939f028"
   },
   "outputs": [
    {
     "data": {
      "text/html": [
       "<div>\n",
       "<style scoped>\n",
       "    .dataframe tbody tr th:only-of-type {\n",
       "        vertical-align: middle;\n",
       "    }\n",
       "\n",
       "    .dataframe tbody tr th {\n",
       "        vertical-align: top;\n",
       "    }\n",
       "\n",
       "    .dataframe thead th {\n",
       "        text-align: right;\n",
       "    }\n",
       "</style>\n",
       "<table border=\"1\" class=\"dataframe\">\n",
       "  <thead>\n",
       "    <tr style=\"text-align: right;\">\n",
       "      <th></th>\n",
       "      <th>category</th>\n",
       "      <th>main_category</th>\n",
       "      <th>currency</th>\n",
       "      <th>state</th>\n",
       "      <th>country</th>\n",
       "      <th>usd_goal_real</th>\n",
       "      <th>start_day</th>\n",
       "      <th>end_day</th>\n",
       "      <th>start_month</th>\n",
       "      <th>end_month</th>\n",
       "      <th>year</th>\n",
       "      <th>name_length</th>\n",
       "      <th>campaign_length</th>\n",
       "    </tr>\n",
       "  </thead>\n",
       "  <tbody>\n",
       "    <tr>\n",
       "      <th>category</th>\n",
       "      <td>1.000000</td>\n",
       "      <td>0.199748</td>\n",
       "      <td>-0.009132</td>\n",
       "      <td>0.033861</td>\n",
       "      <td>-0.009640</td>\n",
       "      <td>0.039007</td>\n",
       "      <td>-0.003825</td>\n",
       "      <td>-0.000098</td>\n",
       "      <td>-0.003025</td>\n",
       "      <td>-0.007431</td>\n",
       "      <td>-0.045255</td>\n",
       "      <td>-0.009044</td>\n",
       "      <td>-0.003879</td>\n",
       "    </tr>\n",
       "    <tr>\n",
       "      <th>main_category</th>\n",
       "      <td>0.199748</td>\n",
       "      <td>1.000000</td>\n",
       "      <td>-0.011872</td>\n",
       "      <td>-0.032147</td>\n",
       "      <td>-0.010828</td>\n",
       "      <td>0.087050</td>\n",
       "      <td>0.003887</td>\n",
       "      <td>0.007080</td>\n",
       "      <td>0.000148</td>\n",
       "      <td>-0.005072</td>\n",
       "      <td>-0.018734</td>\n",
       "      <td>0.054670</td>\n",
       "      <td>0.041085</td>\n",
       "    </tr>\n",
       "    <tr>\n",
       "      <th>currency</th>\n",
       "      <td>-0.009132</td>\n",
       "      <td>-0.011872</td>\n",
       "      <td>1.000000</td>\n",
       "      <td>0.059021</td>\n",
       "      <td>0.985873</td>\n",
       "      <td>0.004756</td>\n",
       "      <td>0.004205</td>\n",
       "      <td>-0.002937</td>\n",
       "      <td>-0.025864</td>\n",
       "      <td>-0.020896</td>\n",
       "      <td>-0.280509</td>\n",
       "      <td>0.022399</td>\n",
       "      <td>0.026284</td>\n",
       "    </tr>\n",
       "    <tr>\n",
       "      <th>state</th>\n",
       "      <td>0.033861</td>\n",
       "      <td>-0.032147</td>\n",
       "      <td>0.059021</td>\n",
       "      <td>1.000000</td>\n",
       "      <td>0.054805</td>\n",
       "      <td>-0.224577</td>\n",
       "      <td>-0.020739</td>\n",
       "      <td>-0.022397</td>\n",
       "      <td>-0.010488</td>\n",
       "      <td>-0.001867</td>\n",
       "      <td>-0.073835</td>\n",
       "      <td>0.104365</td>\n",
       "      <td>-0.117321</td>\n",
       "    </tr>\n",
       "    <tr>\n",
       "      <th>country</th>\n",
       "      <td>-0.009640</td>\n",
       "      <td>-0.010828</td>\n",
       "      <td>0.985873</td>\n",
       "      <td>0.054805</td>\n",
       "      <td>1.000000</td>\n",
       "      <td>0.006781</td>\n",
       "      <td>0.003137</td>\n",
       "      <td>-0.002808</td>\n",
       "      <td>-0.024338</td>\n",
       "      <td>-0.019959</td>\n",
       "      <td>-0.274303</td>\n",
       "      <td>0.021020</td>\n",
       "      <td>0.027274</td>\n",
       "    </tr>\n",
       "    <tr>\n",
       "      <th>usd_goal_real</th>\n",
       "      <td>0.039007</td>\n",
       "      <td>0.087050</td>\n",
       "      <td>0.004756</td>\n",
       "      <td>-0.224577</td>\n",
       "      <td>0.006781</td>\n",
       "      <td>1.000000</td>\n",
       "      <td>-0.029878</td>\n",
       "      <td>0.012179</td>\n",
       "      <td>0.015163</td>\n",
       "      <td>0.017244</td>\n",
       "      <td>0.056422</td>\n",
       "      <td>0.042964</td>\n",
       "      <td>0.211300</td>\n",
       "    </tr>\n",
       "    <tr>\n",
       "      <th>start_day</th>\n",
       "      <td>-0.003825</td>\n",
       "      <td>0.003887</td>\n",
       "      <td>0.004205</td>\n",
       "      <td>-0.020739</td>\n",
       "      <td>0.003137</td>\n",
       "      <td>-0.029878</td>\n",
       "      <td>1.000000</td>\n",
       "      <td>-0.028488</td>\n",
       "      <td>-0.017933</td>\n",
       "      <td>-0.019954</td>\n",
       "      <td>-0.033490</td>\n",
       "      <td>-0.007881</td>\n",
       "      <td>0.020077</td>\n",
       "    </tr>\n",
       "    <tr>\n",
       "      <th>end_day</th>\n",
       "      <td>-0.000098</td>\n",
       "      <td>0.007080</td>\n",
       "      <td>-0.002937</td>\n",
       "      <td>-0.022397</td>\n",
       "      <td>-0.002808</td>\n",
       "      <td>0.012179</td>\n",
       "      <td>-0.028488</td>\n",
       "      <td>1.000000</td>\n",
       "      <td>-0.000149</td>\n",
       "      <td>-0.001993</td>\n",
       "      <td>0.001237</td>\n",
       "      <td>-0.013638</td>\n",
       "      <td>0.010381</td>\n",
       "    </tr>\n",
       "    <tr>\n",
       "      <th>start_month</th>\n",
       "      <td>-0.003025</td>\n",
       "      <td>0.000148</td>\n",
       "      <td>-0.025864</td>\n",
       "      <td>-0.010488</td>\n",
       "      <td>-0.024338</td>\n",
       "      <td>0.015163</td>\n",
       "      <td>-0.017933</td>\n",
       "      <td>-0.000149</td>\n",
       "      <td>1.000000</td>\n",
       "      <td>0.612907</td>\n",
       "      <td>-0.091069</td>\n",
       "      <td>0.015149</td>\n",
       "      <td>-0.015355</td>\n",
       "    </tr>\n",
       "    <tr>\n",
       "      <th>end_month</th>\n",
       "      <td>-0.007431</td>\n",
       "      <td>-0.005072</td>\n",
       "      <td>-0.020896</td>\n",
       "      <td>-0.001867</td>\n",
       "      <td>-0.019959</td>\n",
       "      <td>0.017244</td>\n",
       "      <td>-0.019954</td>\n",
       "      <td>-0.001993</td>\n",
       "      <td>0.612907</td>\n",
       "      <td>1.000000</td>\n",
       "      <td>-0.015546</td>\n",
       "      <td>0.019106</td>\n",
       "      <td>-0.022633</td>\n",
       "    </tr>\n",
       "    <tr>\n",
       "      <th>year</th>\n",
       "      <td>-0.045255</td>\n",
       "      <td>-0.018734</td>\n",
       "      <td>-0.280509</td>\n",
       "      <td>-0.073835</td>\n",
       "      <td>-0.274303</td>\n",
       "      <td>0.056422</td>\n",
       "      <td>-0.033490</td>\n",
       "      <td>0.001237</td>\n",
       "      <td>-0.091069</td>\n",
       "      <td>-0.015546</td>\n",
       "      <td>1.000000</td>\n",
       "      <td>-0.048426</td>\n",
       "      <td>-0.156563</td>\n",
       "    </tr>\n",
       "    <tr>\n",
       "      <th>name_length</th>\n",
       "      <td>-0.009044</td>\n",
       "      <td>0.054670</td>\n",
       "      <td>0.022399</td>\n",
       "      <td>0.104365</td>\n",
       "      <td>0.021020</td>\n",
       "      <td>0.042964</td>\n",
       "      <td>-0.007881</td>\n",
       "      <td>-0.013638</td>\n",
       "      <td>0.015149</td>\n",
       "      <td>0.019106</td>\n",
       "      <td>-0.048426</td>\n",
       "      <td>1.000000</td>\n",
       "      <td>0.014989</td>\n",
       "    </tr>\n",
       "    <tr>\n",
       "      <th>campaign_length</th>\n",
       "      <td>-0.003879</td>\n",
       "      <td>0.041085</td>\n",
       "      <td>0.026284</td>\n",
       "      <td>-0.117321</td>\n",
       "      <td>0.027274</td>\n",
       "      <td>0.211300</td>\n",
       "      <td>0.020077</td>\n",
       "      <td>0.010381</td>\n",
       "      <td>-0.015355</td>\n",
       "      <td>-0.022633</td>\n",
       "      <td>-0.156563</td>\n",
       "      <td>0.014989</td>\n",
       "      <td>1.000000</td>\n",
       "    </tr>\n",
       "  </tbody>\n",
       "</table>\n",
       "</div>"
      ],
      "text/plain": [
       "                 category  main_category  ...  name_length  campaign_length\n",
       "category         1.000000       0.199748  ...    -0.009044        -0.003879\n",
       "main_category    0.199748       1.000000  ...     0.054670         0.041085\n",
       "currency        -0.009132      -0.011872  ...     0.022399         0.026284\n",
       "state            0.033861      -0.032147  ...     0.104365        -0.117321\n",
       "country         -0.009640      -0.010828  ...     0.021020         0.027274\n",
       "usd_goal_real    0.039007       0.087050  ...     0.042964         0.211300\n",
       "start_day       -0.003825       0.003887  ...    -0.007881         0.020077\n",
       "end_day         -0.000098       0.007080  ...    -0.013638         0.010381\n",
       "start_month     -0.003025       0.000148  ...     0.015149        -0.015355\n",
       "end_month       -0.007431      -0.005072  ...     0.019106        -0.022633\n",
       "year            -0.045255      -0.018734  ...    -0.048426        -0.156563\n",
       "name_length     -0.009044       0.054670  ...     1.000000         0.014989\n",
       "campaign_length -0.003879       0.041085  ...     0.014989         1.000000\n",
       "\n",
       "[13 rows x 13 columns]"
      ]
     },
     "execution_count": 54,
     "metadata": {
      "tags": []
     },
     "output_type": "execute_result"
    }
   ],
   "source": [
    "data_categorical.corr()"
   ]
  },
  {
   "cell_type": "code",
   "execution_count": null,
   "metadata": {
    "colab": {
     "base_uri": "https://localhost:8080/",
     "height": 626
    },
    "id": "ij_PqHL54TFt",
    "outputId": "70dc47d4-2b14-4004-db29-511fd05031d7"
   },
   "outputs": [
    {
     "data": {
      "image/png": "[encoded data removed]",
      "text/plain": [
       "<Figure size 720x720 with 2 Axes>"
      ]
     },
     "metadata": {
      "needs_background": "light",
      "tags": []
     },
     "output_type": "display_data"
    }
   ],
   "source": [
    "f = plt.figure(figsize=(10,10))\n",
    "plt.matshow(data_categorical.corr(), fignum=f.number)\n",
    "plt.xticks(range(data_categorical.shape[1]),data_categorical.columns, rotation=90)\n",
    "plt.yticks(range(data_categorical.shape[1]),data_categorical.columns)\n",
    "cb = plt.colorbar()\n",
    "plt.show()"
   ]
  },
  {
   "cell_type": "markdown",
   "metadata": {
    "id": "bEhacNnZRzFN"
   },
   "source": [
    "Se observó que 'country' y 'currency' aportaban la misma información así que se eliminó currency"
   ]
  },
  {
   "cell_type": "code",
   "execution_count": null,
   "metadata": {
    "id": "1iboKdBtR0ms"
   },
   "outputs": [],
   "source": [
    "data_categorical = data.drop(['currency'],axis=1)\n",
    "data_trans = data_trans.drop(['currency'],axis=1)"
   ]
  },
  {
   "cell_type": "code",
   "execution_count": null,
   "metadata": {
    "colab": {
     "base_uri": "https://localhost:8080/"
    },
    "id": "BjrPBdHdR4e7",
    "outputId": "8a3e2f15-10ef-4554-a7fa-96fedc9462bd"
   },
   "outputs": [
    {
     "name": "stdout",
     "output_type": "stream",
     "text": [
      "(331675, 12)\n",
      "(331675, 12)\n"
     ]
    }
   ],
   "source": [
    "print(data_categorical.shape)\n",
    "print(data_trans.shape)"
   ]
  },
  {
   "cell_type": "markdown",
   "metadata": {
    "id": "TBnYHeYduJe_"
   },
   "source": [
    "**f. Realiza un análisis para identificación de valores extremos (outliers). Indicar la cantidad de\n",
    "ellos en cada variable y la decisión que tomaras al respecto para su tratamiento en la\n",
    "solución del problema.**"
   ]
  },
  {
   "cell_type": "code",
   "execution_count": null,
   "metadata": {
    "colab": {
     "base_uri": "https://localhost:8080/"
    },
    "id": "QrjDCW-ZM966",
    "outputId": "e59a7bdf-c5a2-4310-e2b6-94c42d3075d0"
   },
   "outputs": [
    {
     "data": {
      "text/plain": [
       "campaign_length    21.097761\n",
       "category            0.000000\n",
       "country             0.000000\n",
       "end_day             0.000000\n",
       "end_month           0.000000\n",
       "main_category       0.000000\n",
       "name_length         0.000000\n",
       "start_day           0.000000\n",
       "start_month         0.000000\n",
       "state               0.000000\n",
       "usd_goal_real      11.773272\n",
       "year                0.000000\n",
       "dtype: float64"
      ]
     },
     "execution_count": 58,
     "metadata": {
      "tags": []
     },
     "output_type": "execute_result"
    }
   ],
   "source": [
    "q1 = data_categorical.quantile(0.25)\n",
    "q3 = data_categorical.quantile(0.75)\n",
    "iqr = q3 - q1\n",
    "\n",
    "\n",
    "#((data_trans < (q1 - iqr)) | (data_trans > (q3 + iqr))).sum()\n",
    "((((data_categorical < q1 -1.5 * iqr) | (data_categorical > q3 + 1.5 * iqr)).sum())/len(data_categorical)*100)"
   ]
  },
  {
   "cell_type": "markdown",
   "metadata": {
    "id": "J1Q1sDnJKWtB"
   },
   "source": [
    "**Deberás utilizar 5 algoritmos diferentes de aprendizaje automático. Tres de ellos deberán ser Red Neuronal Multicapa (MLP), Máquina de Vectores de Soporte (SVM) y Random Forest\n",
    "(RF). Los otros dos pueden ser algunos de los siguientes:\n",
    "i. Regresión Logística / Lineal / Polinomial.\n",
    "ii. k-Vecinos Más Cercanos (kNN).\n",
    "iii. Máquinas de Vectores de Soporte de Base Radial (SVM-RBF).\n",
    "iv. Bayes Ingenuo / Bayes Ingenuo Gaussiano.\n",
    "v. Árbol de Decisiones.\n",
    "vi. Si lo consideras adecuado puedes proponer alguna variante de los modelos\n",
    "anteriores o inclusive algún otro no incluido. Igualmente puedes usar alguno de los modelos conjuntos (ensemble learning) aplicado a algunos de ellos.**"
   ]
  },
  {
   "cell_type": "markdown",
   "metadata": {
    "id": "bb49ufEbKqD8"
   },
   "source": [
    "**Cada uno de los 5 modelos seleccionados deberás realizarlos con las siguientes\n",
    "características:**\n",
    "\n",
    "\n",
    "1.   Realizar una partición del conjunto original de datos en 3 conjuntos: Entrenamiento,\n",
    "Validación y Prueba. NOTA: Si decides estar aplicando Validación Cruzada (CV), en\n",
    "este paso deberás entonces realizar solamente una partición en un conjunto de\n",
    "Entrenamiento y uno de Prueba. Deberás justificar el porcentaje de las particiones a\n",
    "utilizar. Deberás utilizar la misma partición en todos los casos.\n",
    "2.   Realiza el entrenamiento en el conjunto de prueba y reportando las métricas\n",
    "obtenidas en el conjunto de validación. NOTA: En dado caso aquí podrías estar\n",
    "usando Cross-Validation si así lo consideras adecuado.\n",
    "iii. Indicar las métricas que estarás utilizando. Por ejemplo: accuracy, recall, SSE, etc. Si\n",
    "el problema es de clasificación, incluir además la matriz de confusión.\n",
    "3. Indicar las métricas que estarás utilizando. Por ejemplo: accuracy, recall, SSE, etc. Si\n",
    "el problema es de clasificación, incluir además la matriz de confusión.\n",
    "4. En cada uno de los modelos utilizados especifica los parámetros óptimos\n",
    "encontrados para el mejor resultado de cada caso. Puedes hacer la búsqueda manual\n",
    "o apoyarte en las clases RandomizedSearchCV y/o GridSearchCV de sklearn."
   ]
  },
  {
   "cell_type": "markdown",
   "metadata": {
    "id": "j8BkWeTwLFJg"
   },
   "source": [
    "### **Partición conjunto de datos**"
   ]
  },
  {
   "cell_type": "code",
   "execution_count": null,
   "metadata": {
    "colab": {
     "base_uri": "https://localhost:8080/"
    },
    "id": "7alLoM8LP_O3",
    "outputId": "6927c2b7-7394-4faf-bf9d-5db76ae94707"
   },
   "outputs": [
    {
     "data": {
      "text/plain": [
       "(331675, 12)"
      ]
     },
     "execution_count": 59,
     "metadata": {
      "tags": []
     },
     "output_type": "execute_result"
    }
   ],
   "source": [
    "data_trans.shape"
   ]
  },
  {
   "cell_type": "code",
   "execution_count": null,
   "metadata": {
    "colab": {
     "base_uri": "https://localhost:8080/",
     "height": 204
    },
    "id": "stKoTJ5zP2f8",
    "outputId": "807f1e0c-37ca-4e65-bc3b-7ee5a4464c38"
   },
   "outputs": [
    {
     "data": {
      "text/html": [
       "<div>\n",
       "<style scoped>\n",
       "    .dataframe tbody tr th:only-of-type {\n",
       "        vertical-align: middle;\n",
       "    }\n",
       "\n",
       "    .dataframe tbody tr th {\n",
       "        vertical-align: top;\n",
       "    }\n",
       "\n",
       "    .dataframe thead th {\n",
       "        text-align: right;\n",
       "    }\n",
       "</style>\n",
       "<table border=\"1\" class=\"dataframe\">\n",
       "  <thead>\n",
       "    <tr style=\"text-align: right;\">\n",
       "      <th></th>\n",
       "      <th>category</th>\n",
       "      <th>main_category</th>\n",
       "      <th>state</th>\n",
       "      <th>country</th>\n",
       "      <th>usd_goal_real</th>\n",
       "      <th>start_day</th>\n",
       "      <th>end_day</th>\n",
       "      <th>start_month</th>\n",
       "      <th>end_month</th>\n",
       "      <th>year</th>\n",
       "      <th>name_length</th>\n",
       "      <th>campaign_length</th>\n",
       "    </tr>\n",
       "  </thead>\n",
       "  <tbody>\n",
       "    <tr>\n",
       "      <th>0</th>\n",
       "      <td>Poetry</td>\n",
       "      <td>Publishing</td>\n",
       "      <td>failed</td>\n",
       "      <td>GB</td>\n",
       "      <td>7.336247</td>\n",
       "      <td>1</td>\n",
       "      <td>4</td>\n",
       "      <td>8</td>\n",
       "      <td>10</td>\n",
       "      <td>2015</td>\n",
       "      <td>31.0</td>\n",
       "      <td>7.647963</td>\n",
       "    </tr>\n",
       "    <tr>\n",
       "      <th>1</th>\n",
       "      <td>Narrative Film</td>\n",
       "      <td>Film &amp; Video</td>\n",
       "      <td>failed</td>\n",
       "      <td>US</td>\n",
       "      <td>10.308986</td>\n",
       "      <td>5</td>\n",
       "      <td>2</td>\n",
       "      <td>9</td>\n",
       "      <td>11</td>\n",
       "      <td>2017</td>\n",
       "      <td>45.0</td>\n",
       "      <td>7.733228</td>\n",
       "    </tr>\n",
       "    <tr>\n",
       "      <th>2</th>\n",
       "      <td>Narrative Film</td>\n",
       "      <td>Film &amp; Video</td>\n",
       "      <td>failed</td>\n",
       "      <td>US</td>\n",
       "      <td>10.714440</td>\n",
       "      <td>5</td>\n",
       "      <td>1</td>\n",
       "      <td>1</td>\n",
       "      <td>2</td>\n",
       "      <td>2013</td>\n",
       "      <td>14.0</td>\n",
       "      <td>6.707125</td>\n",
       "    </tr>\n",
       "    <tr>\n",
       "      <th>3</th>\n",
       "      <td>Music</td>\n",
       "      <td>Music</td>\n",
       "      <td>failed</td>\n",
       "      <td>US</td>\n",
       "      <td>8.517391</td>\n",
       "      <td>5</td>\n",
       "      <td>0</td>\n",
       "      <td>3</td>\n",
       "      <td>4</td>\n",
       "      <td>2012</td>\n",
       "      <td>49.0</td>\n",
       "      <td>5.464266</td>\n",
       "    </tr>\n",
       "    <tr>\n",
       "      <th>5</th>\n",
       "      <td>Restaurants</td>\n",
       "      <td>Food</td>\n",
       "      <td>successful</td>\n",
       "      <td>US</td>\n",
       "      <td>10.819798</td>\n",
       "      <td>4</td>\n",
       "      <td>4</td>\n",
       "      <td>2</td>\n",
       "      <td>4</td>\n",
       "      <td>2016</td>\n",
       "      <td>20.0</td>\n",
       "      <td>5.867847</td>\n",
       "    </tr>\n",
       "  </tbody>\n",
       "</table>\n",
       "</div>"
      ],
      "text/plain": [
       "         category main_category       state  ...  year  name_length  campaign_length\n",
       "0          Poetry    Publishing      failed  ...  2015         31.0         7.647963\n",
       "1  Narrative Film  Film & Video      failed  ...  2017         45.0         7.733228\n",
       "2  Narrative Film  Film & Video      failed  ...  2013         14.0         6.707125\n",
       "3           Music         Music      failed  ...  2012         49.0         5.464266\n",
       "5     Restaurants          Food  successful  ...  2016         20.0         5.867847\n",
       "\n",
       "[5 rows x 12 columns]"
      ]
     },
     "execution_count": 60,
     "metadata": {
      "tags": []
     },
     "output_type": "execute_result"
    }
   ],
   "source": [
    "data_trans.head()"
   ]
  },
  {
   "cell_type": "code",
   "execution_count": null,
   "metadata": {
    "colab": {
     "base_uri": "https://localhost:8080/",
     "height": 297
    },
    "id": "rX2qGAeSRTBS",
    "outputId": "ccb84614-c0dd-4044-a8ec-13cb5c2a8ea3"
   },
   "outputs": [
    {
     "data": {
      "text/html": [
       "<div>\n",
       "<style scoped>\n",
       "    .dataframe tbody tr th:only-of-type {\n",
       "        vertical-align: middle;\n",
       "    }\n",
       "\n",
       "    .dataframe tbody tr th {\n",
       "        vertical-align: top;\n",
       "    }\n",
       "\n",
       "    .dataframe thead th {\n",
       "        text-align: right;\n",
       "    }\n",
       "</style>\n",
       "<table border=\"1\" class=\"dataframe\">\n",
       "  <thead>\n",
       "    <tr style=\"text-align: right;\">\n",
       "      <th></th>\n",
       "      <th>usd_goal_real</th>\n",
       "      <th>start_day</th>\n",
       "      <th>end_day</th>\n",
       "      <th>start_month</th>\n",
       "      <th>end_month</th>\n",
       "      <th>year</th>\n",
       "      <th>name_length</th>\n",
       "      <th>campaign_length</th>\n",
       "    </tr>\n",
       "  </thead>\n",
       "  <tbody>\n",
       "    <tr>\n",
       "      <th>count</th>\n",
       "      <td>331675.000000</td>\n",
       "      <td>331675.000000</td>\n",
       "      <td>331675.000000</td>\n",
       "      <td>331675.000000</td>\n",
       "      <td>331675.000000</td>\n",
       "      <td>331675.000000</td>\n",
       "      <td>331675.000000</td>\n",
       "      <td>331675.000000</td>\n",
       "    </tr>\n",
       "    <tr>\n",
       "      <th>mean</th>\n",
       "      <td>8.582612</td>\n",
       "      <td>2.421826</td>\n",
       "      <td>3.183773</td>\n",
       "      <td>6.416163</td>\n",
       "      <td>6.758483</td>\n",
       "      <td>2014.180002</td>\n",
       "      <td>34.220335</td>\n",
       "      <td>5.678290</td>\n",
       "    </tr>\n",
       "    <tr>\n",
       "      <th>std</th>\n",
       "      <td>1.667154</td>\n",
       "      <td>1.762946</td>\n",
       "      <td>1.951072</td>\n",
       "      <td>3.306989</td>\n",
       "      <td>3.315202</td>\n",
       "      <td>1.930922</td>\n",
       "      <td>15.961430</td>\n",
       "      <td>1.070703</td>\n",
       "    </tr>\n",
       "    <tr>\n",
       "      <th>min</th>\n",
       "      <td>0.000000</td>\n",
       "      <td>0.000000</td>\n",
       "      <td>0.000000</td>\n",
       "      <td>1.000000</td>\n",
       "      <td>1.000000</td>\n",
       "      <td>2009.000000</td>\n",
       "      <td>1.000000</td>\n",
       "      <td>0.071119</td>\n",
       "    </tr>\n",
       "    <tr>\n",
       "      <th>25%</th>\n",
       "      <td>7.601397</td>\n",
       "      <td>1.000000</td>\n",
       "      <td>2.000000</td>\n",
       "      <td>4.000000</td>\n",
       "      <td>4.000000</td>\n",
       "      <td>2013.000000</td>\n",
       "      <td>21.000000</td>\n",
       "      <td>5.393415</td>\n",
       "    </tr>\n",
       "    <tr>\n",
       "      <th>50%</th>\n",
       "      <td>8.517391</td>\n",
       "      <td>2.000000</td>\n",
       "      <td>3.000000</td>\n",
       "      <td>6.000000</td>\n",
       "      <td>7.000000</td>\n",
       "      <td>2014.000000</td>\n",
       "      <td>33.000000</td>\n",
       "      <td>5.445802</td>\n",
       "    </tr>\n",
       "    <tr>\n",
       "      <th>75%</th>\n",
       "      <td>9.615871</td>\n",
       "      <td>4.000000</td>\n",
       "      <td>5.000000</td>\n",
       "      <td>9.000000</td>\n",
       "      <td>10.000000</td>\n",
       "      <td>2016.000000</td>\n",
       "      <td>48.000000</td>\n",
       "      <td>5.975447</td>\n",
       "    </tr>\n",
       "    <tr>\n",
       "      <th>max</th>\n",
       "      <td>18.929673</td>\n",
       "      <td>6.000000</td>\n",
       "      <td>6.000000</td>\n",
       "      <td>12.000000</td>\n",
       "      <td>12.000000</td>\n",
       "      <td>2017.000000</td>\n",
       "      <td>85.000000</td>\n",
       "      <td>9.589716</td>\n",
       "    </tr>\n",
       "  </tbody>\n",
       "</table>\n",
       "</div>"
      ],
      "text/plain": [
       "       usd_goal_real      start_day  ...    name_length  campaign_length\n",
       "count  331675.000000  331675.000000  ...  331675.000000    331675.000000\n",
       "mean        8.582612       2.421826  ...      34.220335         5.678290\n",
       "std         1.667154       1.762946  ...      15.961430         1.070703\n",
       "min         0.000000       0.000000  ...       1.000000         0.071119\n",
       "25%         7.601397       1.000000  ...      21.000000         5.393415\n",
       "50%         8.517391       2.000000  ...      33.000000         5.445802\n",
       "75%         9.615871       4.000000  ...      48.000000         5.975447\n",
       "max        18.929673       6.000000  ...      85.000000         9.589716\n",
       "\n",
       "[8 rows x 8 columns]"
      ]
     },
     "execution_count": 61,
     "metadata": {
      "tags": []
     },
     "output_type": "execute_result"
    }
   ],
   "source": [
    "data_trans.describe()"
   ]
  },
  {
   "cell_type": "code",
   "execution_count": null,
   "metadata": {
    "colab": {
     "base_uri": "https://localhost:8080/"
    },
    "id": "KgXvlgDgRBpl",
    "outputId": "a13ab870-c82b-4842-eeae-a103de2bd720"
   },
   "outputs": [
    {
     "data": {
      "text/plain": [
       "category            object\n",
       "main_category       object\n",
       "state               object\n",
       "country             object\n",
       "usd_goal_real      float64\n",
       "start_day            int64\n",
       "end_day              int64\n",
       "start_month          int64\n",
       "end_month            int64\n",
       "year                 int64\n",
       "name_length        float64\n",
       "campaign_length    float64\n",
       "dtype: object"
      ]
     },
     "execution_count": 62,
     "metadata": {
      "tags": []
     },
     "output_type": "execute_result"
    }
   ],
   "source": [
    "data_trans.dtypes"
   ]
  },
  {
   "cell_type": "markdown",
   "metadata": {
    "id": "S9dw--fqPqL0"
   },
   "source": [
    "Se va a obtener un dataset que tenga las variables categóricas independeintes en one hot encoding. Hay 11 variables independientes, de las cuales 8 son categóricas. En la tabla de abajo se ve cuántas categorías hay de cada una. "
   ]
  },
  {
   "cell_type": "markdown",
   "metadata": {
    "id": "8sEF7UiNT45Z"
   },
   "source": [
    "![image.png](data:image/png;base64,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)"
   ]
  },
  {
   "cell_type": "code",
   "execution_count": null,
   "metadata": {
    "colab": {
     "base_uri": "https://localhost:8080/",
     "height": 297
    },
    "id": "q3ZflAthT-4P",
    "outputId": "d6c4c474-353a-443e-8d72-ba655fe65517"
   },
   "outputs": [
    {
     "data": {
      "text/html": [
       "<div>\n",
       "<style scoped>\n",
       "    .dataframe tbody tr th:only-of-type {\n",
       "        vertical-align: middle;\n",
       "    }\n",
       "\n",
       "    .dataframe tbody tr th {\n",
       "        vertical-align: top;\n",
       "    }\n",
       "\n",
       "    .dataframe thead th {\n",
       "        text-align: right;\n",
       "    }\n",
       "</style>\n",
       "<table border=\"1\" class=\"dataframe\">\n",
       "  <thead>\n",
       "    <tr style=\"text-align: right;\">\n",
       "      <th></th>\n",
       "      <th>state</th>\n",
       "      <th>usd_goal_real</th>\n",
       "      <th>name_length</th>\n",
       "      <th>campaign_length</th>\n",
       "    </tr>\n",
       "  </thead>\n",
       "  <tbody>\n",
       "    <tr>\n",
       "      <th>count</th>\n",
       "      <td>331675.000000</td>\n",
       "      <td>331675.000000</td>\n",
       "      <td>331675.000000</td>\n",
       "      <td>331675.000000</td>\n",
       "    </tr>\n",
       "    <tr>\n",
       "      <th>mean</th>\n",
       "      <td>0.403877</td>\n",
       "      <td>8.582612</td>\n",
       "      <td>34.220335</td>\n",
       "      <td>5.678290</td>\n",
       "    </tr>\n",
       "    <tr>\n",
       "      <th>std</th>\n",
       "      <td>0.490674</td>\n",
       "      <td>1.667154</td>\n",
       "      <td>15.961430</td>\n",
       "      <td>1.070703</td>\n",
       "    </tr>\n",
       "    <tr>\n",
       "      <th>min</th>\n",
       "      <td>0.000000</td>\n",
       "      <td>0.000000</td>\n",
       "      <td>1.000000</td>\n",
       "      <td>0.071119</td>\n",
       "    </tr>\n",
       "    <tr>\n",
       "      <th>25%</th>\n",
       "      <td>0.000000</td>\n",
       "      <td>7.601397</td>\n",
       "      <td>21.000000</td>\n",
       "      <td>5.393415</td>\n",
       "    </tr>\n",
       "    <tr>\n",
       "      <th>50%</th>\n",
       "      <td>0.000000</td>\n",
       "      <td>8.517391</td>\n",
       "      <td>33.000000</td>\n",
       "      <td>5.445802</td>\n",
       "    </tr>\n",
       "    <tr>\n",
       "      <th>75%</th>\n",
       "      <td>1.000000</td>\n",
       "      <td>9.615871</td>\n",
       "      <td>48.000000</td>\n",
       "      <td>5.975447</td>\n",
       "    </tr>\n",
       "    <tr>\n",
       "      <th>max</th>\n",
       "      <td>1.000000</td>\n",
       "      <td>18.929673</td>\n",
       "      <td>85.000000</td>\n",
       "      <td>9.589716</td>\n",
       "    </tr>\n",
       "  </tbody>\n",
       "</table>\n",
       "</div>"
      ],
      "text/plain": [
       "               state  usd_goal_real    name_length  campaign_length\n",
       "count  331675.000000  331675.000000  331675.000000    331675.000000\n",
       "mean        0.403877       8.582612      34.220335         5.678290\n",
       "std         0.490674       1.667154      15.961430         1.070703\n",
       "min         0.000000       0.000000       1.000000         0.071119\n",
       "25%         0.000000       7.601397      21.000000         5.393415\n",
       "50%         0.000000       8.517391      33.000000         5.445802\n",
       "75%         1.000000       9.615871      48.000000         5.975447\n",
       "max         1.000000      18.929673      85.000000         9.589716"
      ]
     },
     "execution_count": 63,
     "metadata": {
      "tags": []
     },
     "output_type": "execute_result"
    }
   ],
   "source": [
    "data_for_model = pd.get_dummies(data_trans, columns=['category','main_category','country','start_day','end_day','start_month','end_month','year'])\n",
    "data_for_model['state'] =  encoder.fit_transform(data_categorical['state'].astype(str))\n",
    "data_for_model[['state','usd_goal_real','name_length','campaign_length']].describe()"
   ]
  },
  {
   "cell_type": "markdown",
   "metadata": {
    "id": "xw4hY116Ud84"
   },
   "source": [
    "Al sumar el número de categorías más las variables numéricas y la variable de salida, obtenemos que las columnas en el datframe con one hot encoding es de 248"
   ]
  },
  {
   "cell_type": "code",
   "execution_count": null,
   "metadata": {
    "colab": {
     "base_uri": "https://localhost:8080/"
    },
    "id": "M6urnjbaUbIA",
    "outputId": "4dad1a39-bb06-442d-83df-c1389885caef"
   },
   "outputs": [
    {
     "data": {
      "text/plain": [
       "(331675, 248)"
      ]
     },
     "execution_count": 64,
     "metadata": {
      "tags": []
     },
     "output_type": "execute_result"
    }
   ],
   "source": [
    "data_for_model.shape"
   ]
  },
  {
   "cell_type": "code",
   "execution_count": null,
   "metadata": {
    "colab": {
     "base_uri": "https://localhost:8080/",
     "height": 270
    },
    "id": "MlmJFR8mWLOi",
    "outputId": "d88098c2-1397-402e-9f68-9e2c5e9a3eab"
   },
   "outputs": [
    {
     "data": {
      "text/html": [
       "<div>\n",
       "<style scoped>\n",
       "    .dataframe tbody tr th:only-of-type {\n",
       "        vertical-align: middle;\n",
       "    }\n",
       "\n",
       "    .dataframe tbody tr th {\n",
       "        vertical-align: top;\n",
       "    }\n",
       "\n",
       "    .dataframe thead th {\n",
       "        text-align: right;\n",
       "    }\n",
       "</style>\n",
       "<table border=\"1\" class=\"dataframe\">\n",
       "  <thead>\n",
       "    <tr style=\"text-align: right;\">\n",
       "      <th></th>\n",
       "      <th>state</th>\n",
       "      <th>usd_goal_real</th>\n",
       "      <th>name_length</th>\n",
       "      <th>campaign_length</th>\n",
       "      <th>category_3D Printing</th>\n",
       "      <th>category_Academic</th>\n",
       "      <th>category_Accessories</th>\n",
       "      <th>category_Action</th>\n",
       "      <th>category_Animals</th>\n",
       "      <th>category_Animation</th>\n",
       "      <th>category_Anthologies</th>\n",
       "      <th>category_Apparel</th>\n",
       "      <th>category_Apps</th>\n",
       "      <th>category_Architecture</th>\n",
       "      <th>category_Art</th>\n",
       "      <th>category_Art Books</th>\n",
       "      <th>category_Audio</th>\n",
       "      <th>category_Bacon</th>\n",
       "      <th>category_Blues</th>\n",
       "      <th>category_Calendars</th>\n",
       "      <th>category_Camera Equipment</th>\n",
       "      <th>category_Candles</th>\n",
       "      <th>category_Ceramics</th>\n",
       "      <th>category_Children's Books</th>\n",
       "      <th>category_Childrenswear</th>\n",
       "      <th>category_Chiptune</th>\n",
       "      <th>category_Civic Design</th>\n",
       "      <th>category_Classical Music</th>\n",
       "      <th>category_Comedy</th>\n",
       "      <th>category_Comic Books</th>\n",
       "      <th>category_Comics</th>\n",
       "      <th>category_Community Gardens</th>\n",
       "      <th>category_Conceptual Art</th>\n",
       "      <th>category_Cookbooks</th>\n",
       "      <th>category_Country &amp; Folk</th>\n",
       "      <th>category_Couture</th>\n",
       "      <th>category_Crafts</th>\n",
       "      <th>category_Crochet</th>\n",
       "      <th>category_DIY</th>\n",
       "      <th>category_DIY Electronics</th>\n",
       "      <th>...</th>\n",
       "      <th>end_day_0</th>\n",
       "      <th>end_day_1</th>\n",
       "      <th>end_day_2</th>\n",
       "      <th>end_day_3</th>\n",
       "      <th>end_day_4</th>\n",
       "      <th>end_day_5</th>\n",
       "      <th>end_day_6</th>\n",
       "      <th>start_month_1</th>\n",
       "      <th>start_month_2</th>\n",
       "      <th>start_month_3</th>\n",
       "      <th>start_month_4</th>\n",
       "      <th>start_month_5</th>\n",
       "      <th>start_month_6</th>\n",
       "      <th>start_month_7</th>\n",
       "      <th>start_month_8</th>\n",
       "      <th>start_month_9</th>\n",
       "      <th>start_month_10</th>\n",
       "      <th>start_month_11</th>\n",
       "      <th>start_month_12</th>\n",
       "      <th>end_month_1</th>\n",
       "      <th>end_month_2</th>\n",
       "      <th>end_month_3</th>\n",
       "      <th>end_month_4</th>\n",
       "      <th>end_month_5</th>\n",
       "      <th>end_month_6</th>\n",
       "      <th>end_month_7</th>\n",
       "      <th>end_month_8</th>\n",
       "      <th>end_month_9</th>\n",
       "      <th>end_month_10</th>\n",
       "      <th>end_month_11</th>\n",
       "      <th>end_month_12</th>\n",
       "      <th>year_2009</th>\n",
       "      <th>year_2010</th>\n",
       "      <th>year_2011</th>\n",
       "      <th>year_2012</th>\n",
       "      <th>year_2013</th>\n",
       "      <th>year_2014</th>\n",
       "      <th>year_2015</th>\n",
       "      <th>year_2016</th>\n",
       "      <th>year_2017</th>\n",
       "    </tr>\n",
       "  </thead>\n",
       "  <tbody>\n",
       "    <tr>\n",
       "      <th>0</th>\n",
       "      <td>0</td>\n",
       "      <td>7.336247</td>\n",
       "      <td>31.0</td>\n",
       "      <td>7.647963</td>\n",
       "      <td>0</td>\n",
       "      <td>0</td>\n",
       "      <td>0</td>\n",
       "      <td>0</td>\n",
       "      <td>0</td>\n",
       "      <td>0</td>\n",
       "      <td>0</td>\n",
       "      <td>0</td>\n",
       "      <td>0</td>\n",
       "      <td>0</td>\n",
       "      <td>0</td>\n",
       "      <td>0</td>\n",
       "      <td>0</td>\n",
       "      <td>0</td>\n",
       "      <td>0</td>\n",
       "      <td>0</td>\n",
       "      <td>0</td>\n",
       "      <td>0</td>\n",
       "      <td>0</td>\n",
       "      <td>0</td>\n",
       "      <td>0</td>\n",
       "      <td>0</td>\n",
       "      <td>0</td>\n",
       "      <td>0</td>\n",
       "      <td>0</td>\n",
       "      <td>0</td>\n",
       "      <td>0</td>\n",
       "      <td>0</td>\n",
       "      <td>0</td>\n",
       "      <td>0</td>\n",
       "      <td>0</td>\n",
       "      <td>0</td>\n",
       "      <td>0</td>\n",
       "      <td>0</td>\n",
       "      <td>0</td>\n",
       "      <td>0</td>\n",
       "      <td>...</td>\n",
       "      <td>0</td>\n",
       "      <td>0</td>\n",
       "      <td>0</td>\n",
       "      <td>0</td>\n",
       "      <td>1</td>\n",
       "      <td>0</td>\n",
       "      <td>0</td>\n",
       "      <td>0</td>\n",
       "      <td>0</td>\n",
       "      <td>0</td>\n",
       "      <td>0</td>\n",
       "      <td>0</td>\n",
       "      <td>0</td>\n",
       "      <td>0</td>\n",
       "      <td>1</td>\n",
       "      <td>0</td>\n",
       "      <td>0</td>\n",
       "      <td>0</td>\n",
       "      <td>0</td>\n",
       "      <td>0</td>\n",
       "      <td>0</td>\n",
       "      <td>0</td>\n",
       "      <td>0</td>\n",
       "      <td>0</td>\n",
       "      <td>0</td>\n",
       "      <td>0</td>\n",
       "      <td>0</td>\n",
       "      <td>0</td>\n",
       "      <td>1</td>\n",
       "      <td>0</td>\n",
       "      <td>0</td>\n",
       "      <td>0</td>\n",
       "      <td>0</td>\n",
       "      <td>0</td>\n",
       "      <td>0</td>\n",
       "      <td>0</td>\n",
       "      <td>0</td>\n",
       "      <td>1</td>\n",
       "      <td>0</td>\n",
       "      <td>0</td>\n",
       "    </tr>\n",
       "    <tr>\n",
       "      <th>1</th>\n",
       "      <td>0</td>\n",
       "      <td>10.308986</td>\n",
       "      <td>45.0</td>\n",
       "      <td>7.733228</td>\n",
       "      <td>0</td>\n",
       "      <td>0</td>\n",
       "      <td>0</td>\n",
       "      <td>0</td>\n",
       "      <td>0</td>\n",
       "      <td>0</td>\n",
       "      <td>0</td>\n",
       "      <td>0</td>\n",
       "      <td>0</td>\n",
       "      <td>0</td>\n",
       "      <td>0</td>\n",
       "      <td>0</td>\n",
       "      <td>0</td>\n",
       "      <td>0</td>\n",
       "      <td>0</td>\n",
       "      <td>0</td>\n",
       "      <td>0</td>\n",
       "      <td>0</td>\n",
       "      <td>0</td>\n",
       "      <td>0</td>\n",
       "      <td>0</td>\n",
       "      <td>0</td>\n",
       "      <td>0</td>\n",
       "      <td>0</td>\n",
       "      <td>0</td>\n",
       "      <td>0</td>\n",
       "      <td>0</td>\n",
       "      <td>0</td>\n",
       "      <td>0</td>\n",
       "      <td>0</td>\n",
       "      <td>0</td>\n",
       "      <td>0</td>\n",
       "      <td>0</td>\n",
       "      <td>0</td>\n",
       "      <td>0</td>\n",
       "      <td>0</td>\n",
       "      <td>...</td>\n",
       "      <td>0</td>\n",
       "      <td>0</td>\n",
       "      <td>1</td>\n",
       "      <td>0</td>\n",
       "      <td>0</td>\n",
       "      <td>0</td>\n",
       "      <td>0</td>\n",
       "      <td>0</td>\n",
       "      <td>0</td>\n",
       "      <td>0</td>\n",
       "      <td>0</td>\n",
       "      <td>0</td>\n",
       "      <td>0</td>\n",
       "      <td>0</td>\n",
       "      <td>0</td>\n",
       "      <td>1</td>\n",
       "      <td>0</td>\n",
       "      <td>0</td>\n",
       "      <td>0</td>\n",
       "      <td>0</td>\n",
       "      <td>0</td>\n",
       "      <td>0</td>\n",
       "      <td>0</td>\n",
       "      <td>0</td>\n",
       "      <td>0</td>\n",
       "      <td>0</td>\n",
       "      <td>0</td>\n",
       "      <td>0</td>\n",
       "      <td>0</td>\n",
       "      <td>1</td>\n",
       "      <td>0</td>\n",
       "      <td>0</td>\n",
       "      <td>0</td>\n",
       "      <td>0</td>\n",
       "      <td>0</td>\n",
       "      <td>0</td>\n",
       "      <td>0</td>\n",
       "      <td>0</td>\n",
       "      <td>0</td>\n",
       "      <td>1</td>\n",
       "    </tr>\n",
       "    <tr>\n",
       "      <th>2</th>\n",
       "      <td>0</td>\n",
       "      <td>10.714440</td>\n",
       "      <td>14.0</td>\n",
       "      <td>6.707125</td>\n",
       "      <td>0</td>\n",
       "      <td>0</td>\n",
       "      <td>0</td>\n",
       "      <td>0</td>\n",
       "      <td>0</td>\n",
       "      <td>0</td>\n",
       "      <td>0</td>\n",
       "      <td>0</td>\n",
       "      <td>0</td>\n",
       "      <td>0</td>\n",
       "      <td>0</td>\n",
       "      <td>0</td>\n",
       "      <td>0</td>\n",
       "      <td>0</td>\n",
       "      <td>0</td>\n",
       "      <td>0</td>\n",
       "      <td>0</td>\n",
       "      <td>0</td>\n",
       "      <td>0</td>\n",
       "      <td>0</td>\n",
       "      <td>0</td>\n",
       "      <td>0</td>\n",
       "      <td>0</td>\n",
       "      <td>0</td>\n",
       "      <td>0</td>\n",
       "      <td>0</td>\n",
       "      <td>0</td>\n",
       "      <td>0</td>\n",
       "      <td>0</td>\n",
       "      <td>0</td>\n",
       "      <td>0</td>\n",
       "      <td>0</td>\n",
       "      <td>0</td>\n",
       "      <td>0</td>\n",
       "      <td>0</td>\n",
       "      <td>0</td>\n",
       "      <td>...</td>\n",
       "      <td>0</td>\n",
       "      <td>1</td>\n",
       "      <td>0</td>\n",
       "      <td>0</td>\n",
       "      <td>0</td>\n",
       "      <td>0</td>\n",
       "      <td>0</td>\n",
       "      <td>1</td>\n",
       "      <td>0</td>\n",
       "      <td>0</td>\n",
       "      <td>0</td>\n",
       "      <td>0</td>\n",
       "      <td>0</td>\n",
       "      <td>0</td>\n",
       "      <td>0</td>\n",
       "      <td>0</td>\n",
       "      <td>0</td>\n",
       "      <td>0</td>\n",
       "      <td>0</td>\n",
       "      <td>0</td>\n",
       "      <td>1</td>\n",
       "      <td>0</td>\n",
       "      <td>0</td>\n",
       "      <td>0</td>\n",
       "      <td>0</td>\n",
       "      <td>0</td>\n",
       "      <td>0</td>\n",
       "      <td>0</td>\n",
       "      <td>0</td>\n",
       "      <td>0</td>\n",
       "      <td>0</td>\n",
       "      <td>0</td>\n",
       "      <td>0</td>\n",
       "      <td>0</td>\n",
       "      <td>0</td>\n",
       "      <td>1</td>\n",
       "      <td>0</td>\n",
       "      <td>0</td>\n",
       "      <td>0</td>\n",
       "      <td>0</td>\n",
       "    </tr>\n",
       "    <tr>\n",
       "      <th>3</th>\n",
       "      <td>0</td>\n",
       "      <td>8.517391</td>\n",
       "      <td>49.0</td>\n",
       "      <td>5.464266</td>\n",
       "      <td>0</td>\n",
       "      <td>0</td>\n",
       "      <td>0</td>\n",
       "      <td>0</td>\n",
       "      <td>0</td>\n",
       "      <td>0</td>\n",
       "      <td>0</td>\n",
       "      <td>0</td>\n",
       "      <td>0</td>\n",
       "      <td>0</td>\n",
       "      <td>0</td>\n",
       "      <td>0</td>\n",
       "      <td>0</td>\n",
       "      <td>0</td>\n",
       "      <td>0</td>\n",
       "      <td>0</td>\n",
       "      <td>0</td>\n",
       "      <td>0</td>\n",
       "      <td>0</td>\n",
       "      <td>0</td>\n",
       "      <td>0</td>\n",
       "      <td>0</td>\n",
       "      <td>0</td>\n",
       "      <td>0</td>\n",
       "      <td>0</td>\n",
       "      <td>0</td>\n",
       "      <td>0</td>\n",
       "      <td>0</td>\n",
       "      <td>0</td>\n",
       "      <td>0</td>\n",
       "      <td>0</td>\n",
       "      <td>0</td>\n",
       "      <td>0</td>\n",
       "      <td>0</td>\n",
       "      <td>0</td>\n",
       "      <td>0</td>\n",
       "      <td>...</td>\n",
       "      <td>1</td>\n",
       "      <td>0</td>\n",
       "      <td>0</td>\n",
       "      <td>0</td>\n",
       "      <td>0</td>\n",
       "      <td>0</td>\n",
       "      <td>0</td>\n",
       "      <td>0</td>\n",
       "      <td>0</td>\n",
       "      <td>1</td>\n",
       "      <td>0</td>\n",
       "      <td>0</td>\n",
       "      <td>0</td>\n",
       "      <td>0</td>\n",
       "      <td>0</td>\n",
       "      <td>0</td>\n",
       "      <td>0</td>\n",
       "      <td>0</td>\n",
       "      <td>0</td>\n",
       "      <td>0</td>\n",
       "      <td>0</td>\n",
       "      <td>0</td>\n",
       "      <td>1</td>\n",
       "      <td>0</td>\n",
       "      <td>0</td>\n",
       "      <td>0</td>\n",
       "      <td>0</td>\n",
       "      <td>0</td>\n",
       "      <td>0</td>\n",
       "      <td>0</td>\n",
       "      <td>0</td>\n",
       "      <td>0</td>\n",
       "      <td>0</td>\n",
       "      <td>0</td>\n",
       "      <td>1</td>\n",
       "      <td>0</td>\n",
       "      <td>0</td>\n",
       "      <td>0</td>\n",
       "      <td>0</td>\n",
       "      <td>0</td>\n",
       "    </tr>\n",
       "    <tr>\n",
       "      <th>5</th>\n",
       "      <td>1</td>\n",
       "      <td>10.819798</td>\n",
       "      <td>20.0</td>\n",
       "      <td>5.867847</td>\n",
       "      <td>0</td>\n",
       "      <td>0</td>\n",
       "      <td>0</td>\n",
       "      <td>0</td>\n",
       "      <td>0</td>\n",
       "      <td>0</td>\n",
       "      <td>0</td>\n",
       "      <td>0</td>\n",
       "      <td>0</td>\n",
       "      <td>0</td>\n",
       "      <td>0</td>\n",
       "      <td>0</td>\n",
       "      <td>0</td>\n",
       "      <td>0</td>\n",
       "      <td>0</td>\n",
       "      <td>0</td>\n",
       "      <td>0</td>\n",
       "      <td>0</td>\n",
       "      <td>0</td>\n",
       "      <td>0</td>\n",
       "      <td>0</td>\n",
       "      <td>0</td>\n",
       "      <td>0</td>\n",
       "      <td>0</td>\n",
       "      <td>0</td>\n",
       "      <td>0</td>\n",
       "      <td>0</td>\n",
       "      <td>0</td>\n",
       "      <td>0</td>\n",
       "      <td>0</td>\n",
       "      <td>0</td>\n",
       "      <td>0</td>\n",
       "      <td>0</td>\n",
       "      <td>0</td>\n",
       "      <td>0</td>\n",
       "      <td>0</td>\n",
       "      <td>...</td>\n",
       "      <td>0</td>\n",
       "      <td>0</td>\n",
       "      <td>0</td>\n",
       "      <td>0</td>\n",
       "      <td>1</td>\n",
       "      <td>0</td>\n",
       "      <td>0</td>\n",
       "      <td>0</td>\n",
       "      <td>1</td>\n",
       "      <td>0</td>\n",
       "      <td>0</td>\n",
       "      <td>0</td>\n",
       "      <td>0</td>\n",
       "      <td>0</td>\n",
       "      <td>0</td>\n",
       "      <td>0</td>\n",
       "      <td>0</td>\n",
       "      <td>0</td>\n",
       "      <td>0</td>\n",
       "      <td>0</td>\n",
       "      <td>0</td>\n",
       "      <td>0</td>\n",
       "      <td>1</td>\n",
       "      <td>0</td>\n",
       "      <td>0</td>\n",
       "      <td>0</td>\n",
       "      <td>0</td>\n",
       "      <td>0</td>\n",
       "      <td>0</td>\n",
       "      <td>0</td>\n",
       "      <td>0</td>\n",
       "      <td>0</td>\n",
       "      <td>0</td>\n",
       "      <td>0</td>\n",
       "      <td>0</td>\n",
       "      <td>0</td>\n",
       "      <td>0</td>\n",
       "      <td>0</td>\n",
       "      <td>1</td>\n",
       "      <td>0</td>\n",
       "    </tr>\n",
       "  </tbody>\n",
       "</table>\n",
       "<p>5 rows × 248 columns</p>\n",
       "</div>"
      ],
      "text/plain": [
       "   state  usd_goal_real  name_length  ...  year_2015  year_2016  year_2017\n",
       "0      0       7.336247         31.0  ...          1          0          0\n",
       "1      0      10.308986         45.0  ...          0          0          1\n",
       "2      0      10.714440         14.0  ...          0          0          0\n",
       "3      0       8.517391         49.0  ...          0          0          0\n",
       "5      1      10.819798         20.0  ...          0          1          0\n",
       "\n",
       "[5 rows x 248 columns]"
      ]
     },
     "execution_count": 65,
     "metadata": {
      "tags": []
     },
     "output_type": "execute_result"
    }
   ],
   "source": [
    "data_for_model.head()"
   ]
  },
  {
   "cell_type": "code",
   "execution_count": null,
   "metadata": {
    "id": "NCsWsZc6LEh5"
   },
   "outputs": [],
   "source": [
    "# Problema de regresión\n",
    "#x = data_trans[['category', 'main_category', 'currency', 'country','usd_goal_real', 'start_day', 'end_day', 'start_month', 'end_month','name_length', 'campaign_length']]\n",
    "#y = data_trans['usd_pledged_real']\n",
    "\n",
    "#Problema de clasificación\n",
    "#x = data_trans[['category', 'main_category', 'currency', 'country','usd_goal_real', 'start_day', 'end_day', 'start_month', 'end_month','name_length', 'campaign_length']]\n",
    "#y = data_trans['state']     \n",
    "x = data_for_model.iloc[:,data_for_model.columns != 'state']\n",
    "# x = x.drop(['usd_pledged_real'], axis=1)\n",
    "y = data_for_model.state"
   ]
  },
  {
   "cell_type": "code",
   "execution_count": null,
   "metadata": {
    "colab": {
     "base_uri": "https://localhost:8080/"
    },
    "id": "dPbRRk-h5Mid",
    "outputId": "6589fcaf-14a9-486f-d08c-f58c810dfc89"
   },
   "outputs": [
    {
     "name": "stdout",
     "output_type": "stream",
     "text": [
      "X shape:  (331675, 247)\n",
      "Y shape:  (331675,)\n"
     ]
    }
   ],
   "source": [
    "print(\"X shape: \", x.shape)\n",
    "print(\"Y shape: \", y.shape)"
   ]
  },
  {
   "cell_type": "code",
   "execution_count": null,
   "metadata": {
    "id": "mhRhDxAKLeee"
   },
   "outputs": [],
   "source": [
    "x_train, x_test, y_train, y_test = train_test_split(x, y, test_size=0.2)\n",
    "x_test, x_val, y_test, y_val = train_test_split(x_test, y_test, test_size=0.5)"
   ]
  },
  {
   "cell_type": "code",
   "execution_count": null,
   "metadata": {
    "colab": {
     "base_uri": "https://localhost:8080/"
    },
    "id": "GFx_YJ3lM1W1",
    "outputId": "2f5f3c3d-0f20-4925-87ea-bccd507aef54"
   },
   "outputs": [
    {
     "name": "stdout",
     "output_type": "stream",
     "text": [
      "X train:  (265340, 247)\n",
      "X val:  (33168, 247)\n",
      "X test:  (33167, 247)\n",
      "\n",
      "Y train:  (265340,)\n",
      "Y val:  (33168,)\n",
      "Y test:  (33167,)\n"
     ]
    }
   ],
   "source": [
    "print(\"X train: \", x_train.shape)\n",
    "print(\"X val: \", x_val.shape)\n",
    "print(\"X test: \", x_test.shape)\n",
    "print()\n",
    "print(\"Y train: \", y_train.shape)\n",
    "print(\"Y val: \", y_val.shape)\n",
    "print(\"Y test: \", y_test.shape)"
   ]
  },
  {
   "cell_type": "code",
   "execution_count": null,
   "metadata": {
    "colab": {
     "base_uri": "https://localhost:8080/",
     "height": 270
    },
    "id": "DhAazC7OWrho",
    "outputId": "f21fdb7d-fbe4-45e5-edd2-d5a5104df64b"
   },
   "outputs": [
    {
     "data": {
      "text/html": [
       "<div>\n",
       "<style scoped>\n",
       "    .dataframe tbody tr th:only-of-type {\n",
       "        vertical-align: middle;\n",
       "    }\n",
       "\n",
       "    .dataframe tbody tr th {\n",
       "        vertical-align: top;\n",
       "    }\n",
       "\n",
       "    .dataframe thead th {\n",
       "        text-align: right;\n",
       "    }\n",
       "</style>\n",
       "<table border=\"1\" class=\"dataframe\">\n",
       "  <thead>\n",
       "    <tr style=\"text-align: right;\">\n",
       "      <th></th>\n",
       "      <th>usd_goal_real</th>\n",
       "      <th>name_length</th>\n",
       "      <th>campaign_length</th>\n",
       "      <th>category_3D Printing</th>\n",
       "      <th>category_Academic</th>\n",
       "      <th>category_Accessories</th>\n",
       "      <th>category_Action</th>\n",
       "      <th>category_Animals</th>\n",
       "      <th>category_Animation</th>\n",
       "      <th>category_Anthologies</th>\n",
       "      <th>category_Apparel</th>\n",
       "      <th>category_Apps</th>\n",
       "      <th>category_Architecture</th>\n",
       "      <th>category_Art</th>\n",
       "      <th>category_Art Books</th>\n",
       "      <th>category_Audio</th>\n",
       "      <th>category_Bacon</th>\n",
       "      <th>category_Blues</th>\n",
       "      <th>category_Calendars</th>\n",
       "      <th>category_Camera Equipment</th>\n",
       "      <th>category_Candles</th>\n",
       "      <th>category_Ceramics</th>\n",
       "      <th>category_Children's Books</th>\n",
       "      <th>category_Childrenswear</th>\n",
       "      <th>category_Chiptune</th>\n",
       "      <th>category_Civic Design</th>\n",
       "      <th>category_Classical Music</th>\n",
       "      <th>category_Comedy</th>\n",
       "      <th>category_Comic Books</th>\n",
       "      <th>category_Comics</th>\n",
       "      <th>category_Community Gardens</th>\n",
       "      <th>category_Conceptual Art</th>\n",
       "      <th>category_Cookbooks</th>\n",
       "      <th>category_Country &amp; Folk</th>\n",
       "      <th>category_Couture</th>\n",
       "      <th>category_Crafts</th>\n",
       "      <th>category_Crochet</th>\n",
       "      <th>category_DIY</th>\n",
       "      <th>category_DIY Electronics</th>\n",
       "      <th>category_Dance</th>\n",
       "      <th>...</th>\n",
       "      <th>end_day_0</th>\n",
       "      <th>end_day_1</th>\n",
       "      <th>end_day_2</th>\n",
       "      <th>end_day_3</th>\n",
       "      <th>end_day_4</th>\n",
       "      <th>end_day_5</th>\n",
       "      <th>end_day_6</th>\n",
       "      <th>start_month_1</th>\n",
       "      <th>start_month_2</th>\n",
       "      <th>start_month_3</th>\n",
       "      <th>start_month_4</th>\n",
       "      <th>start_month_5</th>\n",
       "      <th>start_month_6</th>\n",
       "      <th>start_month_7</th>\n",
       "      <th>start_month_8</th>\n",
       "      <th>start_month_9</th>\n",
       "      <th>start_month_10</th>\n",
       "      <th>start_month_11</th>\n",
       "      <th>start_month_12</th>\n",
       "      <th>end_month_1</th>\n",
       "      <th>end_month_2</th>\n",
       "      <th>end_month_3</th>\n",
       "      <th>end_month_4</th>\n",
       "      <th>end_month_5</th>\n",
       "      <th>end_month_6</th>\n",
       "      <th>end_month_7</th>\n",
       "      <th>end_month_8</th>\n",
       "      <th>end_month_9</th>\n",
       "      <th>end_month_10</th>\n",
       "      <th>end_month_11</th>\n",
       "      <th>end_month_12</th>\n",
       "      <th>year_2009</th>\n",
       "      <th>year_2010</th>\n",
       "      <th>year_2011</th>\n",
       "      <th>year_2012</th>\n",
       "      <th>year_2013</th>\n",
       "      <th>year_2014</th>\n",
       "      <th>year_2015</th>\n",
       "      <th>year_2016</th>\n",
       "      <th>year_2017</th>\n",
       "    </tr>\n",
       "  </thead>\n",
       "  <tbody>\n",
       "    <tr>\n",
       "      <th>103081</th>\n",
       "      <td>6.685848</td>\n",
       "      <td>56.0</td>\n",
       "      <td>5.389145</td>\n",
       "      <td>0</td>\n",
       "      <td>0</td>\n",
       "      <td>0</td>\n",
       "      <td>0</td>\n",
       "      <td>0</td>\n",
       "      <td>0</td>\n",
       "      <td>0</td>\n",
       "      <td>0</td>\n",
       "      <td>0</td>\n",
       "      <td>0</td>\n",
       "      <td>0</td>\n",
       "      <td>0</td>\n",
       "      <td>0</td>\n",
       "      <td>0</td>\n",
       "      <td>0</td>\n",
       "      <td>0</td>\n",
       "      <td>0</td>\n",
       "      <td>0</td>\n",
       "      <td>0</td>\n",
       "      <td>0</td>\n",
       "      <td>0</td>\n",
       "      <td>0</td>\n",
       "      <td>0</td>\n",
       "      <td>0</td>\n",
       "      <td>0</td>\n",
       "      <td>0</td>\n",
       "      <td>0</td>\n",
       "      <td>0</td>\n",
       "      <td>0</td>\n",
       "      <td>0</td>\n",
       "      <td>0</td>\n",
       "      <td>0</td>\n",
       "      <td>0</td>\n",
       "      <td>0</td>\n",
       "      <td>0</td>\n",
       "      <td>0</td>\n",
       "      <td>0</td>\n",
       "      <td>...</td>\n",
       "      <td>0</td>\n",
       "      <td>0</td>\n",
       "      <td>0</td>\n",
       "      <td>0</td>\n",
       "      <td>0</td>\n",
       "      <td>1</td>\n",
       "      <td>0</td>\n",
       "      <td>0</td>\n",
       "      <td>0</td>\n",
       "      <td>1</td>\n",
       "      <td>0</td>\n",
       "      <td>0</td>\n",
       "      <td>0</td>\n",
       "      <td>0</td>\n",
       "      <td>0</td>\n",
       "      <td>0</td>\n",
       "      <td>0</td>\n",
       "      <td>0</td>\n",
       "      <td>0</td>\n",
       "      <td>0</td>\n",
       "      <td>0</td>\n",
       "      <td>0</td>\n",
       "      <td>1</td>\n",
       "      <td>0</td>\n",
       "      <td>0</td>\n",
       "      <td>0</td>\n",
       "      <td>0</td>\n",
       "      <td>0</td>\n",
       "      <td>0</td>\n",
       "      <td>0</td>\n",
       "      <td>0</td>\n",
       "      <td>0</td>\n",
       "      <td>0</td>\n",
       "      <td>0</td>\n",
       "      <td>1</td>\n",
       "      <td>0</td>\n",
       "      <td>0</td>\n",
       "      <td>0</td>\n",
       "      <td>0</td>\n",
       "      <td>0</td>\n",
       "    </tr>\n",
       "    <tr>\n",
       "      <th>135088</th>\n",
       "      <td>10.351276</td>\n",
       "      <td>42.0</td>\n",
       "      <td>5.448164</td>\n",
       "      <td>0</td>\n",
       "      <td>0</td>\n",
       "      <td>0</td>\n",
       "      <td>0</td>\n",
       "      <td>0</td>\n",
       "      <td>0</td>\n",
       "      <td>0</td>\n",
       "      <td>0</td>\n",
       "      <td>0</td>\n",
       "      <td>0</td>\n",
       "      <td>0</td>\n",
       "      <td>0</td>\n",
       "      <td>0</td>\n",
       "      <td>0</td>\n",
       "      <td>0</td>\n",
       "      <td>0</td>\n",
       "      <td>0</td>\n",
       "      <td>0</td>\n",
       "      <td>0</td>\n",
       "      <td>0</td>\n",
       "      <td>0</td>\n",
       "      <td>0</td>\n",
       "      <td>0</td>\n",
       "      <td>0</td>\n",
       "      <td>0</td>\n",
       "      <td>0</td>\n",
       "      <td>0</td>\n",
       "      <td>0</td>\n",
       "      <td>0</td>\n",
       "      <td>0</td>\n",
       "      <td>0</td>\n",
       "      <td>0</td>\n",
       "      <td>0</td>\n",
       "      <td>0</td>\n",
       "      <td>0</td>\n",
       "      <td>0</td>\n",
       "      <td>0</td>\n",
       "      <td>...</td>\n",
       "      <td>0</td>\n",
       "      <td>0</td>\n",
       "      <td>0</td>\n",
       "      <td>1</td>\n",
       "      <td>0</td>\n",
       "      <td>0</td>\n",
       "      <td>0</td>\n",
       "      <td>0</td>\n",
       "      <td>0</td>\n",
       "      <td>0</td>\n",
       "      <td>0</td>\n",
       "      <td>0</td>\n",
       "      <td>0</td>\n",
       "      <td>0</td>\n",
       "      <td>0</td>\n",
       "      <td>0</td>\n",
       "      <td>0</td>\n",
       "      <td>1</td>\n",
       "      <td>0</td>\n",
       "      <td>0</td>\n",
       "      <td>0</td>\n",
       "      <td>0</td>\n",
       "      <td>0</td>\n",
       "      <td>0</td>\n",
       "      <td>0</td>\n",
       "      <td>0</td>\n",
       "      <td>0</td>\n",
       "      <td>0</td>\n",
       "      <td>0</td>\n",
       "      <td>0</td>\n",
       "      <td>1</td>\n",
       "      <td>0</td>\n",
       "      <td>0</td>\n",
       "      <td>0</td>\n",
       "      <td>0</td>\n",
       "      <td>0</td>\n",
       "      <td>1</td>\n",
       "      <td>0</td>\n",
       "      <td>0</td>\n",
       "      <td>0</td>\n",
       "    </tr>\n",
       "    <tr>\n",
       "      <th>38454</th>\n",
       "      <td>8.294297</td>\n",
       "      <td>11.0</td>\n",
       "      <td>5.912576</td>\n",
       "      <td>0</td>\n",
       "      <td>0</td>\n",
       "      <td>0</td>\n",
       "      <td>0</td>\n",
       "      <td>0</td>\n",
       "      <td>0</td>\n",
       "      <td>0</td>\n",
       "      <td>0</td>\n",
       "      <td>0</td>\n",
       "      <td>0</td>\n",
       "      <td>0</td>\n",
       "      <td>0</td>\n",
       "      <td>0</td>\n",
       "      <td>0</td>\n",
       "      <td>0</td>\n",
       "      <td>0</td>\n",
       "      <td>0</td>\n",
       "      <td>0</td>\n",
       "      <td>0</td>\n",
       "      <td>0</td>\n",
       "      <td>0</td>\n",
       "      <td>0</td>\n",
       "      <td>0</td>\n",
       "      <td>0</td>\n",
       "      <td>0</td>\n",
       "      <td>0</td>\n",
       "      <td>0</td>\n",
       "      <td>0</td>\n",
       "      <td>0</td>\n",
       "      <td>0</td>\n",
       "      <td>0</td>\n",
       "      <td>0</td>\n",
       "      <td>0</td>\n",
       "      <td>0</td>\n",
       "      <td>0</td>\n",
       "      <td>0</td>\n",
       "      <td>0</td>\n",
       "      <td>...</td>\n",
       "      <td>0</td>\n",
       "      <td>0</td>\n",
       "      <td>0</td>\n",
       "      <td>0</td>\n",
       "      <td>0</td>\n",
       "      <td>0</td>\n",
       "      <td>1</td>\n",
       "      <td>0</td>\n",
       "      <td>1</td>\n",
       "      <td>0</td>\n",
       "      <td>0</td>\n",
       "      <td>0</td>\n",
       "      <td>0</td>\n",
       "      <td>0</td>\n",
       "      <td>0</td>\n",
       "      <td>0</td>\n",
       "      <td>0</td>\n",
       "      <td>0</td>\n",
       "      <td>0</td>\n",
       "      <td>0</td>\n",
       "      <td>0</td>\n",
       "      <td>0</td>\n",
       "      <td>1</td>\n",
       "      <td>0</td>\n",
       "      <td>0</td>\n",
       "      <td>0</td>\n",
       "      <td>0</td>\n",
       "      <td>0</td>\n",
       "      <td>0</td>\n",
       "      <td>0</td>\n",
       "      <td>0</td>\n",
       "      <td>0</td>\n",
       "      <td>0</td>\n",
       "      <td>0</td>\n",
       "      <td>1</td>\n",
       "      <td>0</td>\n",
       "      <td>0</td>\n",
       "      <td>0</td>\n",
       "      <td>0</td>\n",
       "      <td>0</td>\n",
       "    </tr>\n",
       "    <tr>\n",
       "      <th>146953</th>\n",
       "      <td>8.294297</td>\n",
       "      <td>58.0</td>\n",
       "      <td>5.889598</td>\n",
       "      <td>0</td>\n",
       "      <td>0</td>\n",
       "      <td>0</td>\n",
       "      <td>0</td>\n",
       "      <td>0</td>\n",
       "      <td>0</td>\n",
       "      <td>0</td>\n",
       "      <td>0</td>\n",
       "      <td>0</td>\n",
       "      <td>0</td>\n",
       "      <td>0</td>\n",
       "      <td>0</td>\n",
       "      <td>0</td>\n",
       "      <td>0</td>\n",
       "      <td>0</td>\n",
       "      <td>0</td>\n",
       "      <td>0</td>\n",
       "      <td>0</td>\n",
       "      <td>0</td>\n",
       "      <td>0</td>\n",
       "      <td>0</td>\n",
       "      <td>0</td>\n",
       "      <td>0</td>\n",
       "      <td>0</td>\n",
       "      <td>0</td>\n",
       "      <td>0</td>\n",
       "      <td>0</td>\n",
       "      <td>0</td>\n",
       "      <td>0</td>\n",
       "      <td>0</td>\n",
       "      <td>0</td>\n",
       "      <td>0</td>\n",
       "      <td>0</td>\n",
       "      <td>0</td>\n",
       "      <td>0</td>\n",
       "      <td>0</td>\n",
       "      <td>0</td>\n",
       "      <td>...</td>\n",
       "      <td>0</td>\n",
       "      <td>1</td>\n",
       "      <td>0</td>\n",
       "      <td>0</td>\n",
       "      <td>0</td>\n",
       "      <td>0</td>\n",
       "      <td>0</td>\n",
       "      <td>0</td>\n",
       "      <td>0</td>\n",
       "      <td>1</td>\n",
       "      <td>0</td>\n",
       "      <td>0</td>\n",
       "      <td>0</td>\n",
       "      <td>0</td>\n",
       "      <td>0</td>\n",
       "      <td>0</td>\n",
       "      <td>0</td>\n",
       "      <td>0</td>\n",
       "      <td>0</td>\n",
       "      <td>0</td>\n",
       "      <td>0</td>\n",
       "      <td>0</td>\n",
       "      <td>1</td>\n",
       "      <td>0</td>\n",
       "      <td>0</td>\n",
       "      <td>0</td>\n",
       "      <td>0</td>\n",
       "      <td>0</td>\n",
       "      <td>0</td>\n",
       "      <td>0</td>\n",
       "      <td>0</td>\n",
       "      <td>0</td>\n",
       "      <td>0</td>\n",
       "      <td>1</td>\n",
       "      <td>0</td>\n",
       "      <td>0</td>\n",
       "      <td>0</td>\n",
       "      <td>0</td>\n",
       "      <td>0</td>\n",
       "      <td>0</td>\n",
       "    </tr>\n",
       "    <tr>\n",
       "      <th>34820</th>\n",
       "      <td>9.058422</td>\n",
       "      <td>21.0</td>\n",
       "      <td>5.597628</td>\n",
       "      <td>0</td>\n",
       "      <td>0</td>\n",
       "      <td>0</td>\n",
       "      <td>0</td>\n",
       "      <td>0</td>\n",
       "      <td>0</td>\n",
       "      <td>0</td>\n",
       "      <td>0</td>\n",
       "      <td>0</td>\n",
       "      <td>0</td>\n",
       "      <td>0</td>\n",
       "      <td>0</td>\n",
       "      <td>0</td>\n",
       "      <td>0</td>\n",
       "      <td>0</td>\n",
       "      <td>0</td>\n",
       "      <td>0</td>\n",
       "      <td>0</td>\n",
       "      <td>0</td>\n",
       "      <td>0</td>\n",
       "      <td>0</td>\n",
       "      <td>0</td>\n",
       "      <td>0</td>\n",
       "      <td>0</td>\n",
       "      <td>0</td>\n",
       "      <td>0</td>\n",
       "      <td>0</td>\n",
       "      <td>0</td>\n",
       "      <td>0</td>\n",
       "      <td>0</td>\n",
       "      <td>0</td>\n",
       "      <td>0</td>\n",
       "      <td>0</td>\n",
       "      <td>0</td>\n",
       "      <td>0</td>\n",
       "      <td>0</td>\n",
       "      <td>0</td>\n",
       "      <td>...</td>\n",
       "      <td>0</td>\n",
       "      <td>0</td>\n",
       "      <td>0</td>\n",
       "      <td>0</td>\n",
       "      <td>1</td>\n",
       "      <td>0</td>\n",
       "      <td>0</td>\n",
       "      <td>0</td>\n",
       "      <td>1</td>\n",
       "      <td>0</td>\n",
       "      <td>0</td>\n",
       "      <td>0</td>\n",
       "      <td>0</td>\n",
       "      <td>0</td>\n",
       "      <td>0</td>\n",
       "      <td>0</td>\n",
       "      <td>0</td>\n",
       "      <td>0</td>\n",
       "      <td>0</td>\n",
       "      <td>0</td>\n",
       "      <td>0</td>\n",
       "      <td>1</td>\n",
       "      <td>0</td>\n",
       "      <td>0</td>\n",
       "      <td>0</td>\n",
       "      <td>0</td>\n",
       "      <td>0</td>\n",
       "      <td>0</td>\n",
       "      <td>0</td>\n",
       "      <td>0</td>\n",
       "      <td>0</td>\n",
       "      <td>0</td>\n",
       "      <td>0</td>\n",
       "      <td>0</td>\n",
       "      <td>0</td>\n",
       "      <td>0</td>\n",
       "      <td>0</td>\n",
       "      <td>0</td>\n",
       "      <td>0</td>\n",
       "      <td>1</td>\n",
       "    </tr>\n",
       "  </tbody>\n",
       "</table>\n",
       "<p>5 rows × 247 columns</p>\n",
       "</div>"
      ],
      "text/plain": [
       "        usd_goal_real  name_length  ...  year_2016  year_2017\n",
       "103081       6.685848         56.0  ...          0          0\n",
       "135088      10.351276         42.0  ...          0          0\n",
       "38454        8.294297         11.0  ...          0          0\n",
       "146953       8.294297         58.0  ...          0          0\n",
       "34820        9.058422         21.0  ...          0          1\n",
       "\n",
       "[5 rows x 247 columns]"
      ]
     },
     "execution_count": 70,
     "metadata": {
      "tags": []
     },
     "output_type": "execute_result"
    }
   ],
   "source": [
    "x_train.head()"
   ]
  },
  {
   "cell_type": "code",
   "execution_count": null,
   "metadata": {
    "id": "9w3Okh0MWvsY"
   },
   "outputs": [],
   "source": [
    "scaler = preprocessing.MinMaxScaler((0,1))\n",
    "x_train_scaled = scaler.fit_transform(x_train)\n",
    "x_test_scaled = scaler.fit_transform(x_test)\n",
    "x_val_scaled = scaler.fit_transform(x_val)"
   ]
  },
  {
   "cell_type": "markdown",
   "metadata": {
    "id": "T1rWP7aXuHE0"
   },
   "source": [
    "## Analisis de modelos"
   ]
  },
  {
   "cell_type": "markdown",
   "metadata": {
    "id": "oYXcs8uvsxuf"
   },
   "source": [
    "### **Perceptrón Multipcapa**"
   ]
  },
  {
   "cell_type": "markdown",
   "metadata": {
    "id": "lOPQWfoaCXJi"
   },
   "source": [
    "*First approach*"
   ]
  },
  {
   "cell_type": "code",
   "execution_count": null,
   "metadata": {
    "id": "t45vT8QzvcZh"
   },
   "outputs": [],
   "source": [
    "def build_mlp_model(hidden_layers = [6, 2], dropout_rate = 0, add_bn = True, l2_penalty = 0, optimizer = 'adam'):\n",
    "    mlp_model = Sequential()\n",
    "    mlp_model.add(Dense(input_shape=(x_train_scaled.shape[1],),units=10, activation='relu'))\n",
    "    for layer in hidden_layers:       \n",
    "        mlp_model.add(Dense(layer, kernel_regularizer = l2(l2_penalty), activation='relu'))\n",
    "        if add_bn:\n",
    "            mlp_model.add(BatchNormalization())       \n",
    "        if dropout_rate:\n",
    "            mlp_model.add(Dropout(dropout_rate))\n",
    "\n",
    "    mlp_model.add(Dense(1, activation='sigmoid'))\n",
    "    mlp_model.compile(optimizer=optimizer, loss='binary_crossentropy', metrics=['accuracy'])\n",
    "    return mlp_model"
   ]
  },
  {
   "cell_type": "code",
   "execution_count": null,
   "metadata": {
    "colab": {
     "base_uri": "https://localhost:8080/"
    },
    "id": "msIuGBPRHNHl",
    "outputId": "80ee9d4d-5b98-4937-ba65-81c7731df234"
   },
   "outputs": [
    {
     "name": "stdout",
     "output_type": "stream",
     "text": [
      "Epoch 1/10\n",
      "2654/2654 [==============================] - 12s 5ms/step - loss: 0.6349 - accuracy: 0.6478\n",
      "Epoch 2/10\n",
      "2654/2654 [==============================] - 12s 5ms/step - loss: 0.5927 - accuracy: 0.6769\n",
      "Epoch 3/10\n",
      "2654/2654 [==============================] - 12s 5ms/step - loss: 0.5890 - accuracy: 0.6795\n",
      "Epoch 4/10\n",
      "2654/2654 [==============================] - 12s 5ms/step - loss: 0.5860 - accuracy: 0.6817\n",
      "Epoch 5/10\n",
      "2654/2654 [==============================] - 12s 5ms/step - loss: 0.5840 - accuracy: 0.6845\n",
      "Epoch 6/10\n",
      "2654/2654 [==============================] - 12s 5ms/step - loss: 0.5821 - accuracy: 0.6856\n",
      "Epoch 7/10\n",
      "2654/2654 [==============================] - 12s 5ms/step - loss: 0.5812 - accuracy: 0.6859\n",
      "Epoch 8/10\n",
      "2654/2654 [==============================] - 12s 5ms/step - loss: 0.5801 - accuracy: 0.6867\n",
      "Epoch 9/10\n",
      "2654/2654 [==============================] - 13s 5ms/step - loss: 0.5792 - accuracy: 0.6875\n",
      "Epoch 10/10\n",
      "2654/2654 [==============================] - 12s 5ms/step - loss: 0.5784 - accuracy: 0.6885\n"
     ]
    },
    {
     "data": {
      "text/plain": [
       "<tensorflow.python.keras.callbacks.History at 0x7f223426f550>"
      ]
     },
     "execution_count": 73,
     "metadata": {
      "tags": []
     },
     "output_type": "execute_result"
    }
   ],
   "source": [
    "mlp_model = KerasClassifier(build_mlp_model)\n",
    "mlp_model.fit(x_train_scaled, y_train, batch_size=100, epochs=10, verbose=1)"
   ]
  },
  {
   "cell_type": "code",
   "execution_count": null,
   "metadata": {
    "colab": {
     "base_uri": "https://localhost:8080/"
    },
    "id": "pnbBnDiPTID7",
    "outputId": "c4ec6efd-0e65-4c69-d12d-d18257699910"
   },
   "outputs": [
    {
     "name": "stdout",
     "output_type": "stream",
     "text": [
      "WARNING:tensorflow:From /usr/local/lib/python3.6/dist-packages/tensorflow/python/keras/wrappers/scikit_learn.py:241: Sequential.predict_classes (from tensorflow.python.keras.engine.sequential) is deprecated and will be removed after 2021-01-01.\n",
      "Instructions for updating:\n",
      "Please use instead:* `np.argmax(model.predict(x), axis=-1)`,   if your model does multi-class classification   (e.g. if it uses a `softmax` last-layer activation).* `(model.predict(x) > 0.5).astype(\"int32\")`,   if your model does binary classification   (e.g. if it uses a `sigmoid` last-layer activation).\n"
     ]
    }
   ],
   "source": [
    "y_mlp_pred = mlp_model.predict(x_val_scaled, batch_size=10)"
   ]
  },
  {
   "cell_type": "code",
   "execution_count": null,
   "metadata": {
    "id": "2qCq-YShpB4G"
   },
   "outputs": [],
   "source": [
    "y_mlp_pred = y_mlp_pred >0.5"
   ]
  },
  {
   "cell_type": "code",
   "execution_count": null,
   "metadata": {
    "colab": {
     "base_uri": "https://localhost:8080/"
    },
    "id": "bKW5B7UnTq9h",
    "outputId": "de382a09-a989-41e7-b399-a2750b76833d"
   },
   "outputs": [
    {
     "data": {
      "text/plain": [
       "0.6892185238784371"
      ]
     },
     "execution_count": 76,
     "metadata": {
      "tags": []
     },
     "output_type": "execute_result"
    }
   ],
   "source": [
    "accuracy_score(y_val, y_mlp_pred)"
   ]
  },
  {
   "cell_type": "code",
   "execution_count": null,
   "metadata": {
    "colab": {
     "base_uri": "https://localhost:8080/"
    },
    "id": "W4M6kjKMou49",
    "outputId": "971cb249-cc2c-4e6e-9afc-03e92255636e"
   },
   "outputs": [
    {
     "name": "stdout",
     "output_type": "stream",
     "text": [
      "              precision    recall  f1-score   support\n",
      "\n",
      "           0       0.72      0.79      0.75     19898\n",
      "           1       0.63      0.53      0.58     13270\n",
      "\n",
      "    accuracy                           0.69     33168\n",
      "   macro avg       0.68      0.66      0.67     33168\n",
      "weighted avg       0.68      0.69      0.68     33168\n",
      "\n"
     ]
    }
   ],
   "source": [
    "print(classification_report(y_true=y_val, y_pred=y_mlp_pred > 0.5))"
   ]
  },
  {
   "cell_type": "code",
   "execution_count": null,
   "metadata": {
    "colab": {
     "base_uri": "https://localhost:8080/"
    },
    "id": "Il4-Hs2wpHaW",
    "outputId": "38c14349-2d2d-4842-f360-52864655354c"
   },
   "outputs": [
    {
     "data": {
      "text/plain": [
       "array([[15761,  4137],\n",
       "       [ 6171,  7099]])"
      ]
     },
     "execution_count": 78,
     "metadata": {
      "tags": []
     },
     "output_type": "execute_result"
    }
   ],
   "source": [
    "confusion_matrix(y_true=y_val, y_pred=y_mlp_pred)"
   ]
  },
  {
   "cell_type": "markdown",
   "metadata": {
    "id": "KoGESduxDgQr"
   },
   "source": [
    "*With RandomizedSearchCV*"
   ]
  },
  {
   "cell_type": "code",
   "execution_count": null,
   "metadata": {
    "colab": {
     "base_uri": "https://localhost:8080/"
    },
    "id": "SRRzDBffDoos",
    "outputId": "d21d5e92-9138-4cba-c29c-a759f7f26241"
   },
   "outputs": [
    {
     "data": {
      "text/plain": [
       "RandomizedSearchCV(cv=None, error_score=nan,\n",
       "                   estimator=<tensorflow.python.keras.wrappers.scikit_learn.KerasClassifier object at 0x7f21d3771fd0>,\n",
       "                   iid='deprecated', n_iter=10, n_jobs=None,\n",
       "                   param_distributions={'add_bn': [False, True],\n",
       "                                        'dropout_rate': [0, 0.2, 0.5],\n",
       "                                        'hidden_layers': [(6, 6, 2),\n",
       "                                                          (64, 32, 8, 2),\n",
       "                                                          (32, 32, 32, 2)],\n",
       "                                        'l2_penalty': [0.01, 0.1, 0.5],\n",
       "                                        'optimizer': ['adam', 'adagrad',\n",
       "                                                      'rmsprop']},\n",
       "                   pre_dispatch='2*n_jobs', random_state=None, refit=True,\n",
       "                   return_train_score=False, scoring='accuracy', verbose=0)"
      ]
     },
     "execution_count": 134,
     "metadata": {
      "tags": []
     },
     "output_type": "execute_result"
    }
   ],
   "source": [
    "dropout_rate_opts  = [0, 0.2, 0.5]\n",
    "hidden_layers_opts = [(6, 6, 2), (64, 32, 8, 2), (32, 32, 32, 2)]\n",
    "l2_penalty_opts = [0.01, 0.1, 0.5]\n",
    "add_bn_opts = [False, True]\n",
    "optimizer_opts = ['adam', 'adagrad', 'rmsprop']\n",
    "\n",
    "mlp_grid = {\n",
    "    'hidden_layers': hidden_layers_opts,\n",
    "    'dropout_rate': dropout_rate_opts,  \n",
    "    'l2_penalty': l2_penalty_opts,\n",
    "    'add_bn': add_bn_opts,\n",
    "    'optimizer': optimizer_opts\n",
    "}\n",
    "\n",
    "mlp_model = KerasClassifier(build_fn=build_mlp_model, epochs=10, batch_size=100, verbose=0)\n",
    "mlp_randomized = RandomizedSearchCV(estimator=mlp_model, param_distributions=mlp_grid, n_iter=10, scoring='accuracy')\n",
    "mlp_randomized.fit(x_train_scaled, y_train)"
   ]
  },
  {
   "cell_type": "code",
   "execution_count": null,
   "metadata": {
    "colab": {
     "base_uri": "https://localhost:8080/"
    },
    "id": "NWmMRhUJMOxK",
    "outputId": "fc484f48-1b17-4ff3-d8cb-fdf85f1d593e"
   },
   "outputs": [
    {
     "data": {
      "text/plain": [
       "<tensorflow.python.keras.wrappers.scikit_learn.KerasClassifier at 0x7f2230010470>"
      ]
     },
     "execution_count": 135,
     "metadata": {
      "tags": []
     },
     "output_type": "execute_result"
    }
   ],
   "source": [
    "mlp_randomized.best_estimator_"
   ]
  },
  {
   "cell_type": "code",
   "execution_count": null,
   "metadata": {
    "colab": {
     "base_uri": "https://localhost:8080/"
    },
    "id": "mMHPMmQZMRUN",
    "outputId": "beec9f84-0485-431a-d097-a99c24f136fe"
   },
   "outputs": [
    {
     "data": {
      "text/plain": [
       "{'add_bn': True,\n",
       " 'dropout_rate': 0,\n",
       " 'hidden_layers': (32, 32, 32, 2),\n",
       " 'l2_penalty': 0.01,\n",
       " 'optimizer': 'adam'}"
      ]
     },
     "execution_count": 136,
     "metadata": {
      "tags": []
     },
     "output_type": "execute_result"
    }
   ],
   "source": [
    "mlp_randomized.best_params_"
   ]
  },
  {
   "cell_type": "code",
   "execution_count": null,
   "metadata": {
    "colab": {
     "base_uri": "https://localhost:8080/"
    },
    "id": "h3bya_DfMVsU",
    "outputId": "9b50c869-208c-4b74-a1a2-feb3270c0515"
   },
   "outputs": [
    {
     "data": {
      "text/plain": [
       "0.6758234717720659"
      ]
     },
     "execution_count": 137,
     "metadata": {
      "tags": []
     },
     "output_type": "execute_result"
    }
   ],
   "source": [
    "mlp_randomized.best_score_"
   ]
  },
  {
   "cell_type": "code",
   "execution_count": null,
   "metadata": {
    "id": "00kkWZ7xMaRO"
   },
   "outputs": [],
   "source": [
    "y_mlp_pred_random = mlp_randomized.predict(x_val_scaled)"
   ]
  },
  {
   "cell_type": "code",
   "execution_count": null,
   "metadata": {
    "colab": {
     "base_uri": "https://localhost:8080/"
    },
    "id": "2-smgC-DMdPu",
    "outputId": "10c347d5-63dd-414e-a944-3d6af62e2bef"
   },
   "outputs": [
    {
     "data": {
      "text/plain": [
       "0.6798721659430776"
      ]
     },
     "execution_count": 139,
     "metadata": {
      "tags": []
     },
     "output_type": "execute_result"
    }
   ],
   "source": [
    "accuracy_score(y_true=y_val, y_pred=y_mlp_pred_random)"
   ]
  },
  {
   "cell_type": "code",
   "execution_count": null,
   "metadata": {
    "colab": {
     "base_uri": "https://localhost:8080/"
    },
    "id": "RUSxXzuIMjwJ",
    "outputId": "6fc23632-b717-4e16-e18b-92ce2ceddd13"
   },
   "outputs": [
    {
     "name": "stdout",
     "output_type": "stream",
     "text": [
      "              precision    recall  f1-score   support\n",
      "\n",
      "           0       0.68      0.87      0.77     19898\n",
      "           1       0.67      0.40      0.50     13270\n",
      "\n",
      "    accuracy                           0.68     33168\n",
      "   macro avg       0.68      0.63      0.63     33168\n",
      "weighted avg       0.68      0.68      0.66     33168\n",
      "\n"
     ]
    }
   ],
   "source": [
    "print(classification_report(y_true=y_val, y_pred=y_mlp_pred_random))"
   ]
  },
  {
   "cell_type": "code",
   "execution_count": null,
   "metadata": {
    "colab": {
     "base_uri": "https://localhost:8080/"
    },
    "id": "OfAYpx88pOl6",
    "outputId": "867b15ef-baee-4043-c7e4-5211c12015fb"
   },
   "outputs": [
    {
     "data": {
      "text/plain": [
       "array([[17288,  2610],\n",
       "       [ 8008,  5262]])"
      ]
     },
     "execution_count": 141,
     "metadata": {
      "tags": []
     },
     "output_type": "execute_result"
    }
   ],
   "source": [
    "confusion_matrix(y_true=y_val, y_pred=y_mlp_pred_random)"
   ]
  },
  {
   "cell_type": "markdown",
   "metadata": {
    "id": "kxKVyjt2OZYa"
   },
   "source": [
    "### Regresión Logística"
   ]
  },
  {
   "cell_type": "markdown",
   "metadata": {
    "id": "Naxev4CEobZo"
   },
   "source": [
    "*First approach*"
   ]
  },
  {
   "cell_type": "code",
   "execution_count": null,
   "metadata": {
    "id": "ptX9Z73iNco-"
   },
   "outputs": [],
   "source": [
    "logistic_model = LogisticRegression(max_iter=150, solver='sag')\n",
    "logistic_model.fit(x_train_scaled, y_train)\n",
    "y_logistic_pred = logistic_model.predict(x_val_scaled)"
   ]
  },
  {
   "cell_type": "code",
   "execution_count": null,
   "metadata": {
    "colab": {
     "base_uri": "https://localhost:8080/"
    },
    "id": "5MaYrVxRjqTD",
    "outputId": "1b1b9506-92cc-446b-dfe3-c43aef967bd7"
   },
   "outputs": [
    {
     "data": {
      "text/plain": [
       "0.6819826338639653"
      ]
     },
     "execution_count": 88,
     "metadata": {
      "tags": []
     },
     "output_type": "execute_result"
    }
   ],
   "source": [
    "accuracy_score(y_true=y_val, y_pred=y_logistic_pred)"
   ]
  },
  {
   "cell_type": "code",
   "execution_count": null,
   "metadata": {
    "colab": {
     "base_uri": "https://localhost:8080/"
    },
    "id": "MrtoYyFEj18D",
    "outputId": "ed48e1d0-f83b-41e2-9091-1b4981137379"
   },
   "outputs": [
    {
     "name": "stdout",
     "output_type": "stream",
     "text": [
      "              precision    recall  f1-score   support\n",
      "\n",
      "           0       0.71      0.79      0.75     19898\n",
      "           1       0.62      0.52      0.57     13270\n",
      "\n",
      "    accuracy                           0.68     33168\n",
      "   macro avg       0.67      0.66      0.66     33168\n",
      "weighted avg       0.68      0.68      0.68     33168\n",
      "\n"
     ]
    }
   ],
   "source": [
    "print(classification_report(y_true=y_val, y_pred=y_logistic_pred))"
   ]
  },
  {
   "cell_type": "code",
   "execution_count": null,
   "metadata": {
    "colab": {
     "base_uri": "https://localhost:8080/"
    },
    "id": "KdOtxrZlkRpx",
    "outputId": "47af25ef-bd79-4aea-e1f9-c42a7e37c4d8"
   },
   "outputs": [
    {
     "data": {
      "text/plain": [
       "array([[15716,  4182],\n",
       "       [ 6366,  6904]])"
      ]
     },
     "execution_count": 90,
     "metadata": {
      "tags": []
     },
     "output_type": "execute_result"
    }
   ],
   "source": [
    "confusion_matrix(y_true=y_val, y_pred=y_logistic_pred)"
   ]
  },
  {
   "cell_type": "markdown",
   "metadata": {
    "id": "8rjdEg73odo0"
   },
   "source": [
    "*With RandomizedSearchCV*"
   ]
  },
  {
   "cell_type": "code",
   "execution_count": null,
   "metadata": {
    "colab": {
     "base_uri": "https://localhost:8080/"
    },
    "id": "97wFBD5ah6IJ",
    "outputId": "938324ef-cab7-45b9-cb59-72476a00df24"
   },
   "outputs": [
    {
     "data": {
      "text/plain": [
       "RandomizedSearchCV(cv=None, error_score=nan,\n",
       "                   estimator=LogisticRegression(C=1.0, class_weight=None,\n",
       "                                                dual=False, fit_intercept=True,\n",
       "                                                intercept_scaling=1,\n",
       "                                                l1_ratio=None, max_iter=100,\n",
       "                                                multi_class='auto', n_jobs=None,\n",
       "                                                penalty='l2', random_state=None,\n",
       "                                                solver='lbfgs', tol=0.0001,\n",
       "                                                verbose=0, warm_start=False),\n",
       "                   iid='deprecated', n_iter=10, n_jobs=None,\n",
       "                   param_distributions={'C': [0.01, 0.1, 1, 10],\n",
       "                                        'max_iter': [150, 200],\n",
       "                                        'penalty': ['l2', None],\n",
       "                                        'solver': ['lbfgs', 'sag', 'saga']},\n",
       "                   pre_dispatch='2*n_jobs', random_state=None, refit=True,\n",
       "                   return_train_score=False, scoring='accuracy', verbose=0)"
      ]
     },
     "execution_count": 91,
     "metadata": {
      "tags": []
     },
     "output_type": "execute_result"
    }
   ],
   "source": [
    "penalty = ['l2',None]\n",
    "c_val = [10**i for i in range(-2,2,1)]\n",
    "solver = ['lbfgs','sag','saga']\n",
    "iterations = [150,200]\n",
    "\n",
    "lr_grid = {'C': c_val,\n",
    "           'penalty':penalty,\n",
    "           'solver': solver,\n",
    "           'max_iter':iterations\n",
    "}\n",
    "\n",
    "base_model = LogisticRegression()\n",
    "logistic_randomized = RandomizedSearchCV(estimator=base_model, param_distributions=lr_grid, n_iter=10, scoring='accuracy')\n",
    "logistic_randomized.fit(x_train_scaled, y_train)"
   ]
  },
  {
   "cell_type": "code",
   "execution_count": null,
   "metadata": {
    "colab": {
     "base_uri": "https://localhost:8080/"
    },
    "id": "GeY0-rBVm58W",
    "outputId": "a7753874-96c9-44af-caa4-842f6c501449"
   },
   "outputs": [
    {
     "data": {
      "text/plain": [
       "LogisticRegression(C=0.1, class_weight=None, dual=False, fit_intercept=True,\n",
       "                   intercept_scaling=1, l1_ratio=None, max_iter=150,\n",
       "                   multi_class='auto', n_jobs=None, penalty='l2',\n",
       "                   random_state=None, solver='lbfgs', tol=0.0001, verbose=0,\n",
       "                   warm_start=False)"
      ]
     },
     "execution_count": 92,
     "metadata": {
      "tags": []
     },
     "output_type": "execute_result"
    }
   ],
   "source": [
    "logistic_randomized.best_estimator_"
   ]
  },
  {
   "cell_type": "code",
   "execution_count": null,
   "metadata": {
    "colab": {
     "base_uri": "https://localhost:8080/"
    },
    "id": "p5w0i0RqoC2S",
    "outputId": "911619fd-69d3-448c-bf81-5cc9f5e3e3b0"
   },
   "outputs": [
    {
     "data": {
      "text/plain": [
       "{'C': 0.1, 'max_iter': 150, 'penalty': 'l2', 'solver': 'lbfgs'}"
      ]
     },
     "execution_count": 93,
     "metadata": {
      "tags": []
     },
     "output_type": "execute_result"
    }
   ],
   "source": [
    "logistic_randomized.best_params_"
   ]
  },
  {
   "cell_type": "code",
   "execution_count": null,
   "metadata": {
    "colab": {
     "base_uri": "https://localhost:8080/"
    },
    "id": "iGD37SGrnBO7",
    "outputId": "8c3f7256-e084-4c63-d0c7-8e2d969b71c5"
   },
   "outputs": [
    {
     "data": {
      "text/plain": [
       "0.6784842089394738"
      ]
     },
     "execution_count": 94,
     "metadata": {
      "tags": []
     },
     "output_type": "execute_result"
    }
   ],
   "source": [
    "logistic_randomized.best_score_"
   ]
  },
  {
   "cell_type": "code",
   "execution_count": null,
   "metadata": {
    "id": "j0109XYQnQdC"
   },
   "outputs": [],
   "source": [
    "y_logistic_pred_random = logistic_randomized.predict(x_val_scaled)"
   ]
  },
  {
   "cell_type": "code",
   "execution_count": null,
   "metadata": {
    "colab": {
     "base_uri": "https://localhost:8080/"
    },
    "id": "nx67JsWvnhLG",
    "outputId": "0f33503d-618f-43fe-bd35-7613b49b54a5"
   },
   "outputs": [
    {
     "data": {
      "text/plain": [
       "0.6818921852387844"
      ]
     },
     "execution_count": 96,
     "metadata": {
      "tags": []
     },
     "output_type": "execute_result"
    }
   ],
   "source": [
    "accuracy_score(y_true=y_val, y_pred=y_logistic_pred_random)"
   ]
  },
  {
   "cell_type": "code",
   "execution_count": null,
   "metadata": {
    "colab": {
     "base_uri": "https://localhost:8080/"
    },
    "id": "s88sdE2Xnwzy",
    "outputId": "ebf38567-d0bd-4953-b9a5-600c42e41908"
   },
   "outputs": [
    {
     "name": "stdout",
     "output_type": "stream",
     "text": [
      "              precision    recall  f1-score   support\n",
      "\n",
      "           0       0.71      0.79      0.75     19898\n",
      "           1       0.62      0.52      0.57     13270\n",
      "\n",
      "    accuracy                           0.68     33168\n",
      "   macro avg       0.67      0.65      0.66     33168\n",
      "weighted avg       0.68      0.68      0.68     33168\n",
      "\n"
     ]
    }
   ],
   "source": [
    "print(classification_report(y_true=y_val, y_pred=y_logistic_pred_random))"
   ]
  },
  {
   "cell_type": "code",
   "execution_count": null,
   "metadata": {
    "colab": {
     "base_uri": "https://localhost:8080/"
    },
    "id": "JIwnb9nKqDO5",
    "outputId": "b0ee37c9-f06a-4b67-b5f6-6d5aac8da68e"
   },
   "outputs": [
    {
     "data": {
      "text/plain": [
       "array([[15753,  4145],\n",
       "       [ 6406,  6864]])"
      ]
     },
     "execution_count": 98,
     "metadata": {
      "tags": []
     },
     "output_type": "execute_result"
    }
   ],
   "source": [
    "confusion_matrix(y_true=y_val, y_pred=y_logistic_pred_random)"
   ]
  },
  {
   "cell_type": "markdown",
   "metadata": {
    "id": "iHS26sPVlcf-"
   },
   "source": [
    "### **Random Forest**"
   ]
  },
  {
   "cell_type": "markdown",
   "metadata": {
    "id": "GOXRI75-ojC5"
   },
   "source": [
    "*First approach*"
   ]
  },
  {
   "cell_type": "code",
   "execution_count": null,
   "metadata": {
    "id": "ddCT8f4Sm0mp"
   },
   "outputs": [],
   "source": [
    "rf_model = RandomForestClassifier(n_estimators=150,random_state=431,max_depth=6)\n",
    "rf_model.fit(x_train_scaled,y_train)\n",
    "y_rf_pred = rf_model.predict(x_val_scaled)"
   ]
  },
  {
   "cell_type": "code",
   "execution_count": null,
   "metadata": {
    "colab": {
     "base_uri": "https://localhost:8080/"
    },
    "id": "UoA0wXZqnkS_",
    "outputId": "c406d550-7f22-4989-debb-eab1220c2b66"
   },
   "outputs": [
    {
     "data": {
      "text/plain": [
       "0.6277436082971539"
      ]
     },
     "execution_count": 100,
     "metadata": {
      "tags": []
     },
     "output_type": "execute_result"
    }
   ],
   "source": [
    "accuracy_score(y_true=y_val, y_pred=y_rf_pred)"
   ]
  },
  {
   "cell_type": "code",
   "execution_count": null,
   "metadata": {
    "colab": {
     "base_uri": "https://localhost:8080/"
    },
    "id": "J6CEgo7_oA5Q",
    "outputId": "55e2fe8c-bd5e-4547-da16-243a06f0137c"
   },
   "outputs": [
    {
     "name": "stdout",
     "output_type": "stream",
     "text": [
      "              precision    recall  f1-score   support\n",
      "\n",
      "           0       0.62      0.97      0.76     19898\n",
      "           1       0.71      0.12      0.20     13270\n",
      "\n",
      "    accuracy                           0.63     33168\n",
      "   macro avg       0.66      0.54      0.48     33168\n",
      "weighted avg       0.66      0.63      0.54     33168\n",
      "\n"
     ]
    }
   ],
   "source": [
    "print(classification_report(y_true=y_val, y_pred=y_rf_pred))"
   ]
  },
  {
   "cell_type": "code",
   "execution_count": null,
   "metadata": {
    "colab": {
     "base_uri": "https://localhost:8080/"
    },
    "id": "Qf-5jbmVoNKL",
    "outputId": "d356b156-096b-44fb-9c76-0948e8802404"
   },
   "outputs": [
    {
     "data": {
      "text/plain": [
       "array([[19238,   660],\n",
       "       [11687,  1583]])"
      ]
     },
     "execution_count": 102,
     "metadata": {
      "tags": []
     },
     "output_type": "execute_result"
    }
   ],
   "source": [
    "confusion_matrix(y_true=y_val, y_pred=y_rf_pred)"
   ]
  },
  {
   "cell_type": "markdown",
   "metadata": {
    "id": "sJ9Y7Z0rotDi"
   },
   "source": [
    "*With RandomizedSearchCV*"
   ]
  },
  {
   "cell_type": "code",
   "execution_count": null,
   "metadata": {
    "id": "4AMbjZrqpKoP"
   },
   "outputs": [],
   "source": [
    "n_estimators = [100,120,150]\n",
    "criterion = [\"gini\",\"entropy\"]\n",
    "max_depth = list(range(1,7))\n",
    "boot_strap = [True,False]\n",
    "oob_score = [True,False]\n",
    "ccp_values_small = [10**i for i in range(-3, 0)]\n",
    "ccp_values_medium = [0.10 * i for i in range(0,3,4)]\n",
    "ccp_alpha = ccp_values_small + ccp_values_medium + [1,5,10]\n",
    "random_state = [431]\n",
    "\n",
    "random_grid = {\"n_estimators\": n_estimators,\n",
    "               \"criterion\":criterion,\n",
    "               \"max_depth\": max_depth,\n",
    "               \"bootstrap\": boot_strap,\n",
    "               \"oob_score\": oob_score,\n",
    "               \"ccp_alpha\":ccp_alpha,\n",
    "               \"random_state\": random_state\n",
    "               }\n"
   ]
  },
  {
   "cell_type": "code",
   "execution_count": null,
   "metadata": {
    "colab": {
     "base_uri": "https://localhost:8080/"
    },
    "id": "JXUT6niIozJs",
    "outputId": "3b017fcf-fbb6-4a80-bc53-3b458cdca78f"
   },
   "outputs": [
    {
     "data": {
      "text/plain": [
       "RandomizedSearchCV(cv=None, error_score=nan,\n",
       "                   estimator=RandomForestClassifier(bootstrap=True,\n",
       "                                                    ccp_alpha=0.0,\n",
       "                                                    class_weight=None,\n",
       "                                                    criterion='gini',\n",
       "                                                    max_depth=None,\n",
       "                                                    max_features='auto',\n",
       "                                                    max_leaf_nodes=None,\n",
       "                                                    max_samples=None,\n",
       "                                                    min_impurity_decrease=0.0,\n",
       "                                                    min_impurity_split=None,\n",
       "                                                    min_samples_leaf=1,\n",
       "                                                    min_samples_split=2,\n",
       "                                                    min_weight_fraction_leaf=0.0,\n",
       "                                                    n_estimators=100,\n",
       "                                                    n_j...\n",
       "                   iid='deprecated', n_iter=5, n_jobs=None,\n",
       "                   param_distributions={'bootstrap': [True, False],\n",
       "                                        'ccp_alpha': [0.001, 0.01, 0.1, 0.0, 1,\n",
       "                                                      5, 10],\n",
       "                                        'criterion': ['gini', 'entropy'],\n",
       "                                        'max_depth': [1, 2, 3, 4, 5, 6],\n",
       "                                        'n_estimators': [100, 120, 150],\n",
       "                                        'oob_score': [True, False],\n",
       "                                        'random_state': [431]},\n",
       "                   pre_dispatch='2*n_jobs', random_state=None, refit=True,\n",
       "                   return_train_score=False, scoring='accuracy', verbose=0)"
      ]
     },
     "execution_count": 104,
     "metadata": {
      "tags": []
     },
     "output_type": "execute_result"
    }
   ],
   "source": [
    "rf_randomized_model = RandomForestClassifier()\n",
    "rf_randomized = RandomizedSearchCV(estimator=rf_randomized_model, param_distributions=random_grid, n_iter=5, scoring='accuracy')\n",
    "rf_randomized.fit(x_train_scaled, y_train)"
   ]
  },
  {
   "cell_type": "code",
   "execution_count": null,
   "metadata": {
    "colab": {
     "base_uri": "https://localhost:8080/"
    },
    "id": "WILTSMKDxTIN",
    "outputId": "717685e5-d8e7-4721-ff0e-4033e74bba5f"
   },
   "outputs": [
    {
     "data": {
      "text/plain": [
       "{'bootstrap': True,\n",
       " 'ccp_alpha': 0.01,\n",
       " 'criterion': 'entropy',\n",
       " 'max_depth': 2,\n",
       " 'n_estimators': 150,\n",
       " 'oob_score': False,\n",
       " 'random_state': 431}"
      ]
     },
     "execution_count": 105,
     "metadata": {
      "tags": []
     },
     "output_type": "execute_result"
    }
   ],
   "source": [
    "rf_randomized.best_params_"
   ]
  },
  {
   "cell_type": "code",
   "execution_count": null,
   "metadata": {
    "colab": {
     "base_uri": "https://localhost:8080/"
    },
    "id": "QVsrCqU7xiS-",
    "outputId": "2b8e1577-7594-4a38-a5d6-2a9c2ca53c48"
   },
   "outputs": [
    {
     "data": {
      "text/plain": [
       "0.5956169442978819"
      ]
     },
     "execution_count": 106,
     "metadata": {
      "tags": []
     },
     "output_type": "execute_result"
    }
   ],
   "source": [
    "rf_randomized.best_score_"
   ]
  },
  {
   "cell_type": "code",
   "execution_count": null,
   "metadata": {
    "id": "rGtXpjGZx3TK"
   },
   "outputs": [],
   "source": [
    "y_pred_rf_randomized = rf_randomized.predict(x_val_scaled)"
   ]
  },
  {
   "cell_type": "code",
   "execution_count": null,
   "metadata": {
    "colab": {
     "base_uri": "https://localhost:8080/"
    },
    "id": "nDpncifhyIUE",
    "outputId": "48546415-c7a5-49d8-b4cc-6b7178ae2c50"
   },
   "outputs": [
    {
     "data": {
      "text/plain": [
       "0.5999155812831645"
      ]
     },
     "execution_count": 108,
     "metadata": {
      "tags": []
     },
     "output_type": "execute_result"
    }
   ],
   "source": [
    "accuracy_score(y_true=y_val, y_pred=y_pred_rf_randomized)"
   ]
  },
  {
   "cell_type": "code",
   "execution_count": null,
   "metadata": {
    "colab": {
     "base_uri": "https://localhost:8080/"
    },
    "id": "E4GYaRDMyRrH",
    "outputId": "0d2e7e82-b741-4749-bdf4-d64a3783cb3c"
   },
   "outputs": [
    {
     "name": "stdout",
     "output_type": "stream",
     "text": [
      "              precision    recall  f1-score   support\n",
      "\n",
      "           0       0.60      1.00      0.75     19898\n",
      "           1       0.00      0.00      0.00     13270\n",
      "\n",
      "    accuracy                           0.60     33168\n",
      "   macro avg       0.30      0.50      0.37     33168\n",
      "weighted avg       0.36      0.60      0.45     33168\n",
      "\n"
     ]
    }
   ],
   "source": [
    "print(classification_report(y_true=y_val, y_pred=y_pred_rf_randomized))"
   ]
  },
  {
   "cell_type": "code",
   "execution_count": null,
   "metadata": {
    "colab": {
     "base_uri": "https://localhost:8080/"
    },
    "id": "jXxIlmuPyXu0",
    "outputId": "6270b61f-4ebc-4711-e0d5-5f473c38705b"
   },
   "outputs": [
    {
     "name": "stdout",
     "output_type": "stream",
     "text": [
      "[[19898     0]\n",
      " [13270     0]]\n"
     ]
    }
   ],
   "source": [
    "print(confusion_matrix(y_true=y_val,y_pred=y_pred_rf_randomized))"
   ]
  },
  {
   "cell_type": "markdown",
   "metadata": {
    "id": "3shoN_ZTqGNJ"
   },
   "source": [
    "### **Decision Tree**"
   ]
  },
  {
   "cell_type": "markdown",
   "metadata": {
    "id": "Du9hgLuE2kn2"
   },
   "source": [
    "*First Approach*"
   ]
  },
  {
   "cell_type": "code",
   "execution_count": null,
   "metadata": {
    "id": "_b6TvScsrULZ"
   },
   "outputs": [],
   "source": [
    "dt_model = DecisionTreeClassifier()\n",
    "dt_model.fit(x_train_scaled, y_train)\n",
    "y_dt_pred = dt_model.predict(x_val_scaled)"
   ]
  },
  {
   "cell_type": "code",
   "execution_count": null,
   "metadata": {
    "colab": {
     "base_uri": "https://localhost:8080/"
    },
    "id": "GxlS1mbRrvx_",
    "outputId": "ddf15a72-6513-441c-e3b4-2058ca16284b"
   },
   "outputs": [
    {
     "data": {
      "text/plain": [
       "0.5949107573564881"
      ]
     },
     "execution_count": 112,
     "metadata": {
      "tags": []
     },
     "output_type": "execute_result"
    }
   ],
   "source": [
    "accuracy_score(y_true=y_val, y_pred=y_dt_pred)"
   ]
  },
  {
   "cell_type": "code",
   "execution_count": null,
   "metadata": {
    "colab": {
     "base_uri": "https://localhost:8080/"
    },
    "id": "BkndaG_Ur3YO",
    "outputId": "3d1cdcaf-bd80-48a2-bfb8-fb0d92fa4a8b"
   },
   "outputs": [
    {
     "name": "stdout",
     "output_type": "stream",
     "text": [
      "              precision    recall  f1-score   support\n",
      "\n",
      "           0       0.67      0.64      0.65     19898\n",
      "           1       0.49      0.53      0.51     13270\n",
      "\n",
      "    accuracy                           0.59     33168\n",
      "   macro avg       0.58      0.58      0.58     33168\n",
      "weighted avg       0.60      0.59      0.60     33168\n",
      "\n"
     ]
    }
   ],
   "source": [
    "print(classification_report(y_true=y_val, y_pred=y_dt_pred))"
   ]
  },
  {
   "cell_type": "code",
   "execution_count": null,
   "metadata": {
    "colab": {
     "base_uri": "https://localhost:8080/"
    },
    "id": "vfzJy6hsr_0f",
    "outputId": "d32226b9-6583-4a8b-dffb-95fc421db44a"
   },
   "outputs": [
    {
     "data": {
      "text/plain": [
       "array([[12658,  7240],\n",
       "       [ 6196,  7074]])"
      ]
     },
     "execution_count": 114,
     "metadata": {
      "tags": []
     },
     "output_type": "execute_result"
    }
   ],
   "source": [
    "confusion_matrix(y_true=y_val, y_pred=y_dt_pred)"
   ]
  },
  {
   "cell_type": "markdown",
   "metadata": {
    "id": "OfPCCjZZ2nMr"
   },
   "source": [
    "*With RandomizedSearchCV*"
   ]
  },
  {
   "cell_type": "code",
   "execution_count": null,
   "metadata": {
    "id": "kM9i7jTq2sSV"
   },
   "outputs": [],
   "source": [
    "ccp_values_small = [10**i for i in range(-4,-1)]\n",
    "ccp_values_large = [0.10 * i for i in range(1,10)]\n",
    "ccp_vals = ccp_values_small + ccp_values_large + [1,5,10]\n",
    "criteria = ['gini','entropy']\n",
    "max_length = list(range(1,7,1))\n",
    "min_samples_split = list(range(2,7,1))\n",
    "min_samples_leaf = list(range(1,7,1))\n",
    "\n",
    "random_grid_tree = {\"criterion\":criteria,\n",
    "                    \"max_depth\": max_length,\n",
    "                    \"min_samples_split\": min_samples_split,\n",
    "                    \"min_samples_leaf\": min_samples_leaf,\n",
    "                    \"ccp_alpha\": ccp_vals\n",
    "                    }"
   ]
  },
  {
   "cell_type": "code",
   "execution_count": null,
   "metadata": {
    "colab": {
     "base_uri": "https://localhost:8080/"
    },
    "id": "mbybh_xu3ARe",
    "outputId": "9c2b0499-15ed-4706-bef3-eb3cadcdea26"
   },
   "outputs": [
    {
     "data": {
      "text/plain": [
       "RandomizedSearchCV(cv=None, error_score=nan,\n",
       "                   estimator=DecisionTreeClassifier(ccp_alpha=0.0,\n",
       "                                                    class_weight=None,\n",
       "                                                    criterion='gini',\n",
       "                                                    max_depth=None,\n",
       "                                                    max_features=None,\n",
       "                                                    max_leaf_nodes=None,\n",
       "                                                    min_impurity_decrease=0.0,\n",
       "                                                    min_impurity_split=None,\n",
       "                                                    min_samples_leaf=1,\n",
       "                                                    min_samples_split=2,\n",
       "                                                    min_weight_fraction_leaf=0.0,\n",
       "                                                    presort='deprecated',\n",
       "                                                    random_state=None,\n",
       "                                                    splitter='best'...\n",
       "                   param_distributions={'ccp_alpha': [0.0001, 0.001, 0.01, 0.1,\n",
       "                                                      0.2, 0.30000000000000004,\n",
       "                                                      0.4, 0.5,\n",
       "                                                      0.6000000000000001,\n",
       "                                                      0.7000000000000001, 0.8,\n",
       "                                                      0.9, 1, 5, 10],\n",
       "                                        'criterion': ['gini', 'entropy'],\n",
       "                                        'max_depth': [1, 2, 3, 4, 5, 6],\n",
       "                                        'min_samples_leaf': [1, 2, 3, 4, 5, 6],\n",
       "                                        'min_samples_split': [2, 3, 4, 5, 6]},\n",
       "                   pre_dispatch='2*n_jobs', random_state=None, refit=True,\n",
       "                   return_train_score=False, scoring='accuracy', verbose=0)"
      ]
     },
     "execution_count": 116,
     "metadata": {
      "tags": []
     },
     "output_type": "execute_result"
    }
   ],
   "source": [
    "decision_tree_model = DecisionTreeClassifier()\n",
    "decision_tree_randomized = RandomizedSearchCV(estimator=decision_tree_model, param_distributions=random_grid_tree, n_iter=10, scoring='accuracy')\n",
    "decision_tree_randomized.fit(x_train_scaled, y_train)"
   ]
  },
  {
   "cell_type": "code",
   "execution_count": null,
   "metadata": {
    "id": "_mE2Pzzp5L44"
   },
   "outputs": [],
   "source": [
    "y_dt_pred_randomized = decision_tree_randomized.predict(x_val_scaled)"
   ]
  },
  {
   "cell_type": "code",
   "execution_count": null,
   "metadata": {
    "colab": {
     "base_uri": "https://localhost:8080/"
    },
    "id": "blNmdFUP4770",
    "outputId": "ade30eaf-2d7f-4367-8f14-dabcdf6dff28"
   },
   "outputs": [
    {
     "data": {
      "text/plain": [
       "{'ccp_alpha': 0.01,\n",
       " 'criterion': 'entropy',\n",
       " 'max_depth': 4,\n",
       " 'min_samples_leaf': 5,\n",
       " 'min_samples_split': 4}"
      ]
     },
     "execution_count": 118,
     "metadata": {
      "tags": []
     },
     "output_type": "execute_result"
    }
   ],
   "source": [
    "decision_tree_randomized.best_params_"
   ]
  },
  {
   "cell_type": "code",
   "execution_count": null,
   "metadata": {
    "colab": {
     "base_uri": "https://localhost:8080/"
    },
    "id": "qGYSTfL54_3J",
    "outputId": "766eed11-6f39-42f9-cce5-a715eba95b1d"
   },
   "outputs": [
    {
     "data": {
      "text/plain": [
       "0.5956169442978819"
      ]
     },
     "execution_count": 119,
     "metadata": {
      "tags": []
     },
     "output_type": "execute_result"
    }
   ],
   "source": [
    "decision_tree_randomized.best_score_"
   ]
  },
  {
   "cell_type": "code",
   "execution_count": null,
   "metadata": {
    "colab": {
     "base_uri": "https://localhost:8080/"
    },
    "id": "7-dbuTlN5XbI",
    "outputId": "8af6c6eb-8488-48b1-dcf6-7ad479c1e643"
   },
   "outputs": [
    {
     "data": {
      "text/plain": [
       "0.5999155812831645"
      ]
     },
     "execution_count": 120,
     "metadata": {
      "tags": []
     },
     "output_type": "execute_result"
    }
   ],
   "source": [
    "accuracy_score(y_true=y_val, y_pred=y_dt_pred_randomized)"
   ]
  },
  {
   "cell_type": "code",
   "execution_count": null,
   "metadata": {
    "colab": {
     "base_uri": "https://localhost:8080/"
    },
    "id": "5Uvee3PZ5gGf",
    "outputId": "6ce2d055-3fb2-491a-9e3e-9d92a9bc8901"
   },
   "outputs": [
    {
     "name": "stdout",
     "output_type": "stream",
     "text": [
      "              precision    recall  f1-score   support\n",
      "\n",
      "           0       0.60      1.00      0.75     19898\n",
      "           1       0.00      0.00      0.00     13270\n",
      "\n",
      "    accuracy                           0.60     33168\n",
      "   macro avg       0.30      0.50      0.37     33168\n",
      "weighted avg       0.36      0.60      0.45     33168\n",
      "\n"
     ]
    }
   ],
   "source": [
    "print(classification_report(y_true=y_val, y_pred=y_dt_pred_randomized))"
   ]
  },
  {
   "cell_type": "code",
   "execution_count": null,
   "metadata": {
    "colab": {
     "base_uri": "https://localhost:8080/"
    },
    "id": "-lS1DnaA5lbW",
    "outputId": "91460694-749b-4dc7-fa86-587fc2aac566"
   },
   "outputs": [
    {
     "data": {
      "text/plain": [
       "array([[19898,     0],\n",
       "       [13270,     0]])"
      ]
     },
     "execution_count": 122,
     "metadata": {
      "tags": []
     },
     "output_type": "execute_result"
    }
   ],
   "source": [
    "confusion_matrix(y_true=y_val,y_pred=y_dt_pred_randomized)"
   ]
  },
  {
   "cell_type": "markdown",
   "metadata": {
    "id": "atgbRXZ-tYp-"
   },
   "source": [
    "### SVM"
   ]
  },
  {
   "cell_type": "markdown",
   "metadata": {
    "id": "3Dz-Q68kZd0H"
   },
   "source": [
    "*First approach*"
   ]
  },
  {
   "cell_type": "code",
   "execution_count": null,
   "metadata": {
    "colab": {
     "base_uri": "https://localhost:8080/"
    },
    "id": "jZlaz3PWZd0H",
    "outputId": "6a85fe53-8f6d-4e2d-8af8-c28055c9d027"
   },
   "outputs": [
    {
     "data": {
      "text/plain": [
       "SVC(C=0.1, break_ties=False, cache_size=200, class_weight=None, coef0=0.0,\n",
       "    decision_function_shape='ovr', degree=3, gamma='scale', kernel='linear',\n",
       "    max_iter=1000, probability=False, random_state=None, shrinking=True,\n",
       "    tol=0.001, verbose=False)"
      ]
     },
     "execution_count": 123,
     "metadata": {
      "tags": []
     },
     "output_type": "execute_result"
    }
   ],
   "source": [
    "svc_model = SVC(kernel=\"linear\", C=0.1, max_iter=1000)\n",
    "svc_model.fit(x_train_scaled, y_train)"
   ]
  },
  {
   "cell_type": "code",
   "execution_count": null,
   "metadata": {
    "id": "5NST33XsZd0I"
   },
   "outputs": [],
   "source": [
    "y_svc_pred = svc_model.predict(x_val_scaled)"
   ]
  },
  {
   "cell_type": "code",
   "execution_count": null,
   "metadata": {
    "colab": {
     "base_uri": "https://localhost:8080/"
    },
    "id": "PU4Z_0HDZd0I",
    "outputId": "dc2f386a-607c-43a1-dd94-0b6647af70d5"
   },
   "outputs": [
    {
     "data": {
      "text/plain": [
       "0.5768813314037626"
      ]
     },
     "execution_count": 125,
     "metadata": {
      "tags": []
     },
     "output_type": "execute_result"
    }
   ],
   "source": [
    "accuracy_score(y_true=y_val, y_pred=y_svc_pred)"
   ]
  },
  {
   "cell_type": "code",
   "execution_count": null,
   "metadata": {
    "colab": {
     "base_uri": "https://localhost:8080/"
    },
    "id": "glw5w83pZd0J",
    "outputId": "6a10b7d5-a21c-45c7-cb4d-006f27def61e"
   },
   "outputs": [
    {
     "name": "stdout",
     "output_type": "stream",
     "text": [
      "              precision    recall  f1-score   support\n",
      "\n",
      "           0       0.64      0.67      0.66     19898\n",
      "           1       0.47      0.44      0.45     13270\n",
      "\n",
      "    accuracy                           0.58     33168\n",
      "   macro avg       0.55      0.55      0.55     33168\n",
      "weighted avg       0.57      0.58      0.57     33168\n",
      "\n"
     ]
    }
   ],
   "source": [
    "print(classification_report(y_true=y_val, y_pred=y_svc_pred))"
   ]
  },
  {
   "cell_type": "code",
   "execution_count": null,
   "metadata": {
    "colab": {
     "base_uri": "https://localhost:8080/"
    },
    "id": "QaweJC6LZd0J",
    "outputId": "2e77c87b-2489-42f1-ff27-317e97a06bff"
   },
   "outputs": [
    {
     "data": {
      "text/plain": [
       "array([[13346,  6552],\n",
       "       [ 7482,  5788]])"
      ]
     },
     "execution_count": 127,
     "metadata": {
      "tags": []
     },
     "output_type": "execute_result"
    }
   ],
   "source": [
    "confusion_matrix(y_true=y_val, y_pred=y_svc_pred)"
   ]
  },
  {
   "cell_type": "markdown",
   "metadata": {
    "id": "mqeTuAmvtpea"
   },
   "source": [
    "*Second approach*"
   ]
  },
  {
   "cell_type": "code",
   "execution_count": null,
   "metadata": {
    "colab": {
     "base_uri": "https://localhost:8080/"
    },
    "id": "uw-biKrwuT6y",
    "outputId": "aa0a53b1-4e79-4723-e14c-822c2d75007f"
   },
   "outputs": [
    {
     "data": {
      "text/plain": [
       "SVC(C=0.1, break_ties=False, cache_size=200, class_weight=None, coef0=0.0,\n",
       "    decision_function_shape='ovr', degree=3, gamma='scale', kernel='rbf',\n",
       "    max_iter=1000, probability=False, random_state=None, shrinking=True,\n",
       "    tol=0.001, verbose=False)"
      ]
     },
     "execution_count": 128,
     "metadata": {
      "tags": []
     },
     "output_type": "execute_result"
    }
   ],
   "source": [
    "svc_model = SVC(kernel=\"rbf\", C=0.1, max_iter=1000)\n",
    "svc_model.fit(x_train_scaled, y_train)"
   ]
  },
  {
   "cell_type": "code",
   "execution_count": null,
   "metadata": {
    "id": "nZCsgP0pQsa8"
   },
   "outputs": [],
   "source": [
    "y_svc_pred = svc_model.predict(x_val_scaled)"
   ]
  },
  {
   "cell_type": "code",
   "execution_count": null,
   "metadata": {
    "colab": {
     "base_uri": "https://localhost:8080/"
    },
    "id": "LapHXhl3urX1",
    "outputId": "4d2bee5e-98b0-499d-f337-b54ce37a062c"
   },
   "outputs": [
    {
     "data": {
      "text/plain": [
       "0.58634828750603"
      ]
     },
     "execution_count": 130,
     "metadata": {
      "tags": []
     },
     "output_type": "execute_result"
    }
   ],
   "source": [
    "accuracy_score(y_true=y_val, y_pred=y_svc_pred)"
   ]
  },
  {
   "cell_type": "code",
   "execution_count": null,
   "metadata": {
    "colab": {
     "base_uri": "https://localhost:8080/"
    },
    "id": "TMsmcB1Yuuvs",
    "outputId": "ad5768fc-244b-4032-b95c-e16f993d2531"
   },
   "outputs": [
    {
     "name": "stdout",
     "output_type": "stream",
     "text": [
      "              precision    recall  f1-score   support\n",
      "\n",
      "           0       0.60      0.90      0.72     19898\n",
      "           1       0.43      0.11      0.18     13270\n",
      "\n",
      "    accuracy                           0.59     33168\n",
      "   macro avg       0.52      0.51      0.45     33168\n",
      "weighted avg       0.54      0.59      0.51     33168\n",
      "\n"
     ]
    }
   ],
   "source": [
    "print(classification_report(y_true=y_val, y_pred=y_svc_pred))"
   ]
  },
  {
   "cell_type": "code",
   "execution_count": null,
   "metadata": {
    "colab": {
     "base_uri": "https://localhost:8080/"
    },
    "id": "4Sged323u0l9",
    "outputId": "3b6a4ba7-9fe0-43d8-9d83-697ded3d2a73"
   },
   "outputs": [
    {
     "data": {
      "text/plain": [
       "array([[17970,  1928],\n",
       "       [11792,  1478]])"
      ]
     },
     "execution_count": 132,
     "metadata": {
      "tags": []
     },
     "output_type": "execute_result"
    }
   ],
   "source": [
    "confusion_matrix(y_true=y_val, y_pred=y_svc_pred)"
   ]
  },
  {
   "cell_type": "markdown",
   "metadata": {
    "id": "9lYQfiSWZDVc"
   },
   "source": [
    "## Prueba del mejor modelo"
   ]
  },
  {
   "cell_type": "code",
   "execution_count": null,
   "metadata": {
    "colab": {
     "base_uri": "https://localhost:8080/"
    },
    "id": "Kn1gQRSlgrrD",
    "outputId": "26357c5e-f9ac-4464-90fa-e009ba546c90"
   },
   "outputs": [
    {
     "name": "stdout",
     "output_type": "stream",
     "text": [
      "Epoch 1/10\n",
      "2654/2654 [==============================] - 13s 5ms/step - loss: 0.6346 - accuracy: 0.6393\n",
      "Epoch 2/10\n",
      "2654/2654 [==============================] - 12s 5ms/step - loss: 0.5931 - accuracy: 0.6758\n",
      "Epoch 3/10\n",
      "2654/2654 [==============================] - 12s 5ms/step - loss: 0.5897 - accuracy: 0.6790\n",
      "Epoch 4/10\n",
      "2654/2654 [==============================] - 12s 5ms/step - loss: 0.5878 - accuracy: 0.6814\n",
      "Epoch 5/10\n",
      "2654/2654 [==============================] - 12s 5ms/step - loss: 0.5860 - accuracy: 0.6824\n",
      "Epoch 6/10\n",
      "2654/2654 [==============================] - 12s 5ms/step - loss: 0.5847 - accuracy: 0.6830\n",
      "Epoch 7/10\n",
      "2654/2654 [==============================] - 12s 5ms/step - loss: 0.5833 - accuracy: 0.6851\n",
      "Epoch 8/10\n",
      "2654/2654 [==============================] - 13s 5ms/step - loss: 0.5824 - accuracy: 0.6858\n",
      "Epoch 9/10\n",
      "2654/2654 [==============================] - 12s 5ms/step - loss: 0.5816 - accuracy: 0.6856\n",
      "Epoch 10/10\n",
      "2654/2654 [==============================] - 12s 5ms/step - loss: 0.5809 - accuracy: 0.6867\n"
     ]
    },
    {
     "data": {
      "text/plain": [
       "<tensorflow.python.keras.callbacks.History at 0x7f21cb870ef0>"
      ]
     },
     "execution_count": 171,
     "metadata": {
      "tags": []
     },
     "output_type": "execute_result"
    }
   ],
   "source": [
    "mlp_model = build_mlp_model()\n",
    "mlp_model.fit(x_train_scaled, y_train, batch_size=100, epochs=10, verbose=1)"
   ]
  },
  {
   "cell_type": "code",
   "execution_count": null,
   "metadata": {
    "id": "i5g8yvQFZTqI"
   },
   "outputs": [],
   "source": [
    "y_pred = mlp_model.predict(x_test_scaled, batch_size=10)"
   ]
  },
  {
   "cell_type": "code",
   "execution_count": null,
   "metadata": {
    "id": "uNFEkVqVcDRu"
   },
   "outputs": [],
   "source": [
    "y_pred = y_pred >0.5"
   ]
  },
  {
   "cell_type": "code",
   "execution_count": null,
   "metadata": {
    "colab": {
     "base_uri": "https://localhost:8080/"
    },
    "id": "j4leEYl4hzaR",
    "outputId": "41338572-3dbf-4390-d851-1303e4af1b38"
   },
   "outputs": [
    {
     "data": {
      "text/plain": [
       "0.682968010371755"
      ]
     },
     "execution_count": 174,
     "metadata": {
      "tags": []
     },
     "output_type": "execute_result"
    }
   ],
   "source": [
    "accuracy_score(y_true=y_test, y_pred=y_pred)"
   ]
  },
  {
   "cell_type": "code",
   "execution_count": null,
   "metadata": {
    "colab": {
     "base_uri": "https://localhost:8080/"
    },
    "id": "eWzKXMJbcH3i",
    "outputId": "6967891f-1166-42dd-8f6e-761de6fbadd3"
   },
   "outputs": [
    {
     "name": "stdout",
     "output_type": "stream",
     "text": [
      "              precision    recall  f1-score   support\n",
      "\n",
      "           0       0.73      0.75      0.74     19780\n",
      "           1       0.61      0.58      0.60     13387\n",
      "\n",
      "    accuracy                           0.68     33167\n",
      "   macro avg       0.67      0.67      0.67     33167\n",
      "weighted avg       0.68      0.68      0.68     33167\n",
      "\n"
     ]
    }
   ],
   "source": [
    "print(classification_report(y_true=y_test, y_pred=y_pred))"
   ]
  },
  {
   "cell_type": "code",
   "execution_count": null,
   "metadata": {
    "colab": {
     "base_uri": "https://localhost:8080/"
    },
    "id": "ypOI48hjcTS4",
    "outputId": "a89976af-b6f4-4350-cc71-3e29ba3a5fcf"
   },
   "outputs": [
    {
     "data": {
      "text/plain": [
       "array([[14906,  4874],\n",
       "       [ 5641,  7746]])"
      ]
     },
     "execution_count": 176,
     "metadata": {
      "tags": []
     },
     "output_type": "execute_result"
    }
   ],
   "source": [
    "confusion_matrix(y_true=y_test, y_pred=y_pred)"
   ]
  },
  {
   "cell_type": "code",
   "execution_count": null,
   "metadata": {
    "colab": {
     "base_uri": "https://localhost:8080/"
    },
    "id": "zdINIkyamtNU",
    "outputId": "eb5f8b1d-416a-4699-f38d-9bf5ae8dc9b4"
   },
   "outputs": [
    {
     "name": "stdout",
     "output_type": "stream",
     "text": [
      "Model: \"sequential_118\"\n",
      "_________________________________________________________________\n",
      "Layer (type)                 Output Shape              Param #   \n",
      "=================================================================\n",
      "dense_653 (Dense)            (None, 10)                2480      \n",
      "_________________________________________________________________\n",
      "dense_654 (Dense)            (None, 6)                 66        \n",
      "_________________________________________________________________\n",
      "batch_normalization_127 (Bat (None, 6)                 24        \n",
      "_________________________________________________________________\n",
      "dense_655 (Dense)            (None, 2)                 14        \n",
      "_________________________________________________________________\n",
      "batch_normalization_128 (Bat (None, 2)                 8         \n",
      "_________________________________________________________________\n",
      "dense_656 (Dense)            (None, 1)                 3         \n",
      "=================================================================\n",
      "Total params: 2,595\n",
      "Trainable params: 2,579\n",
      "Non-trainable params: 16\n",
      "_________________________________________________________________\n"
     ]
    }
   ],
   "source": [
    "mlp_model.summary()"
   ]
  },
  {
   "cell_type": "markdown",
   "metadata": {
    "id": "OyodpmPnrSJG"
   },
   "source": [
    "## Post procesamiento de datos"
   ]
  },
  {
   "cell_type": "markdown",
   "metadata": {
    "id": "R6n1rYBfyQKY"
   },
   "source": [
    "Debido a los resultados poco exitosos que obtuvimos de los modelos hicimos un segundo analisis de las variables utilizadas usando el modelo de regresion lineal por minimos cuadrados para obtener los p-values."
   ]
  },
  {
   "cell_type": "code",
   "execution_count": null,
   "metadata": {
    "colab": {
     "base_uri": "https://localhost:8080/"
    },
    "id": "TnpB9igVrayh",
    "outputId": "31fb4b44-f05b-40ed-d802-6347d77dad38"
   },
   "outputs": [
    {
     "name": "stdout",
     "output_type": "stream",
     "text": [
      "                            OLS Regression Results                            \n",
      "==============================================================================\n",
      "Dep. Variable:                  state   R-squared:                       0.156\n",
      "Model:                            OLS   Adj. R-squared:                  0.156\n",
      "Method:                 Least Squares   F-statistic:                     211.0\n",
      "Date:                Mon, 30 Nov 2020   Prob (F-statistic):               0.00\n",
      "Time:                        19:44:11   Log-Likelihood:            -1.6507e+05\n",
      "No. Observations:              265340   AIC:                         3.306e+05\n",
      "Df Residuals:                  265106   BIC:                         3.331e+05\n",
      "Df Model:                         233                                         \n",
      "Covariance Type:            nonrobust                                         \n",
      "==============================================================================\n",
      "                 coef    std err          t      P>|t|      [0.025      0.975]\n",
      "------------------------------------------------------------------------------\n",
      "const      -3.465e+10   3.38e+10     -1.026      0.305   -1.01e+11    3.16e+10\n",
      "x1            -1.0876      0.011    -98.463      0.000      -1.109      -1.066\n",
      "x2             0.2382      0.005     49.914      0.000       0.229       0.248\n",
      "x3            -0.3343      0.008    -39.874      0.000      -0.351      -0.318\n",
      "x4         -1.713e+09   1.67e+09     -1.026      0.305   -4.99e+09    1.56e+09\n",
      "x5         -2.211e+09   2.16e+09     -1.026      0.305   -6.44e+09    2.01e+09\n",
      "x6         -6.006e+09   5.86e+09     -1.026      0.305   -1.75e+10    5.47e+09\n",
      "x7         -2.211e+09   2.16e+09     -1.026      0.305   -6.44e+09    2.01e+09\n",
      "x8          1.383e+09   1.35e+09      1.026      0.305   -1.26e+09    4.03e+09\n",
      "x9         -2.211e+09   2.16e+09     -1.026      0.305   -6.44e+09    2.01e+09\n",
      "x10        -2.211e+09   2.16e+09     -1.026      0.305   -6.44e+09    2.01e+09\n",
      "x11        -6.006e+09   5.86e+09     -1.026      0.305   -1.75e+10    5.47e+09\n",
      "x12        -1.713e+09   1.67e+09     -1.026      0.305   -4.99e+09    1.56e+09\n",
      "x13        -5.706e+09   5.56e+09     -1.026      0.305   -1.66e+10     5.2e+09\n",
      "x14         1.281e+09   1.25e+09      1.026      0.305   -1.17e+09    3.73e+09\n",
      "x15        -2.211e+09   2.16e+09     -1.026      0.305   -6.44e+09    2.01e+09\n",
      "x16        -1.713e+09   1.67e+09     -1.026      0.305   -4.99e+09    1.56e+09\n",
      "x17        -2.211e+09   2.16e+09     -1.026      0.305   -6.44e+09    2.01e+09\n",
      "x18        -2.211e+09   2.16e+09     -1.026      0.305   -6.44e+09    2.01e+09\n",
      "x19        -2.211e+09   2.16e+09     -1.026      0.305   -6.44e+09    2.01e+09\n",
      "x20        -1.713e+09   1.67e+09     -1.026      0.305   -4.99e+09    1.56e+09\n",
      "x21        -2.211e+09   2.16e+09     -1.026      0.305   -6.44e+09    2.01e+09\n",
      "x22         1.281e+09   1.25e+09      1.026      0.305   -1.17e+09    3.73e+09\n",
      "x23        -2.211e+09   2.16e+09     -1.026      0.305   -6.44e+09    2.01e+09\n",
      "x24        -6.006e+09   5.86e+09     -1.026      0.305   -1.75e+10    5.47e+09\n",
      "x25        -2.211e+09   2.16e+09     -1.026      0.305   -6.44e+09    2.01e+09\n",
      "x26        -5.706e+09   5.56e+09     -1.026      0.305   -1.66e+10     5.2e+09\n",
      "x27        -2.211e+09   2.16e+09     -1.026      0.305   -6.44e+09    2.01e+09\n",
      "x28        -2.211e+09   2.16e+09     -1.026      0.305   -6.44e+09    2.01e+09\n",
      "x29        -2.211e+09   2.16e+09     -1.026      0.305   -6.44e+09    2.01e+09\n",
      "x30        -2.211e+09   2.16e+09     -1.026      0.305   -6.44e+09    2.01e+09\n",
      "x31        -2.211e+09   2.16e+09     -1.026      0.305   -6.44e+09    2.01e+09\n",
      "x32         1.281e+09   1.25e+09      1.026      0.305   -1.17e+09    3.73e+09\n",
      "x33        -2.211e+09   2.16e+09     -1.026      0.305   -6.44e+09    2.01e+09\n",
      "x34        -2.211e+09   2.16e+09     -1.026      0.305   -6.44e+09    2.01e+09\n",
      "x35        -6.006e+09   5.86e+09     -1.026      0.305   -1.75e+10    5.47e+09\n",
      "x36        -2.211e+09   2.16e+09     -1.026      0.305   -6.44e+09    2.01e+09\n",
      "x37        -2.211e+09   2.16e+09     -1.026      0.305   -6.44e+09    2.01e+09\n",
      "x38        -2.211e+09   2.16e+09     -1.026      0.305   -6.44e+09    2.01e+09\n",
      "x39        -1.713e+09   1.67e+09     -1.026      0.305   -4.99e+09    1.56e+09\n",
      "x40        -2.211e+09   2.16e+09     -1.026      0.305   -6.44e+09    2.01e+09\n",
      "x41        -5.706e+09   5.56e+09     -1.026      0.305   -1.66e+10     5.2e+09\n",
      "x42         1.281e+09   1.25e+09      1.026      0.305   -1.17e+09    3.73e+09\n",
      "x43        -2.211e+09   2.16e+09     -1.026      0.305   -6.44e+09    2.01e+09\n",
      "x44        -2.211e+09   2.16e+09     -1.026      0.305   -6.44e+09    2.01e+09\n",
      "x45        -2.211e+09   2.16e+09     -1.026      0.305   -6.44e+09    2.01e+09\n",
      "x46        -2.211e+09   2.16e+09     -1.026      0.305   -6.44e+09    2.01e+09\n",
      "x47        -2.211e+09   2.16e+09     -1.026      0.305   -6.44e+09    2.01e+09\n",
      "x48        -2.211e+09   2.16e+09     -1.026      0.305   -6.44e+09    2.01e+09\n",
      "x49        -2.211e+09   2.16e+09     -1.026      0.305   -6.44e+09    2.01e+09\n",
      "x50        -1.713e+09   1.67e+09     -1.026      0.305   -4.99e+09    1.56e+09\n",
      "x51        -2.211e+09   2.16e+09     -1.026      0.305   -6.44e+09    2.01e+09\n",
      "x52        -2.211e+09   2.16e+09     -1.026      0.305   -6.44e+09    2.01e+09\n",
      "x53        -2.211e+09   2.16e+09     -1.026      0.305   -6.44e+09    2.01e+09\n",
      "x54        -2.211e+09   2.16e+09     -1.026      0.305   -6.44e+09    2.01e+09\n",
      "x55        -2.211e+09   2.16e+09     -1.026      0.305   -6.44e+09    2.01e+09\n",
      "x56        -6.006e+09   5.86e+09     -1.026      0.305   -1.75e+10    5.47e+09\n",
      "x57        -2.211e+09   2.16e+09     -1.026      0.305   -6.44e+09    2.01e+09\n",
      "x58        -2.211e+09   2.16e+09     -1.026      0.305   -6.44e+09    2.01e+09\n",
      "x59        -2.211e+09   2.16e+09     -1.026      0.305   -6.44e+09    2.01e+09\n",
      "x60         1.383e+09   1.35e+09      1.026      0.305   -1.26e+09    4.03e+09\n",
      "x61        -1.713e+09   1.67e+09     -1.026      0.305   -4.99e+09    1.56e+09\n",
      "x62        -2.211e+09   2.16e+09     -1.026      0.305   -6.44e+09    2.01e+09\n",
      "x63        -2.211e+09   2.16e+09     -1.026      0.305   -6.44e+09    2.01e+09\n",
      "x64        -6.006e+09   5.86e+09     -1.026      0.305   -1.75e+10    5.47e+09\n",
      "x65        -1.713e+09   1.67e+09     -1.026      0.305   -4.99e+09    1.56e+09\n",
      "x66        -8.049e+09   7.85e+09     -1.026      0.305   -2.34e+10    7.33e+09\n",
      "x67        -8.049e+09   7.85e+09     -1.026      0.305   -2.34e+10    7.33e+09\n",
      "x68        -2.211e+09   2.16e+09     -1.026      0.305   -6.44e+09    2.01e+09\n",
      "x69        -5.706e+09   5.56e+09     -1.026      0.305   -1.66e+10     5.2e+09\n",
      "x70        -2.211e+09   2.16e+09     -1.026      0.305   -6.44e+09    2.01e+09\n",
      "x71        -1.713e+09   1.67e+09     -1.026      0.305   -4.99e+09    1.56e+09\n",
      "x72        -2.211e+09   2.16e+09     -1.026      0.305   -6.44e+09    2.01e+09\n",
      "x73        -2.211e+09   2.16e+09     -1.026      0.305   -6.44e+09    2.01e+09\n",
      "x74         1.281e+09   1.25e+09      1.026      0.305   -1.17e+09    3.73e+09\n",
      "x75        -2.211e+09   2.16e+09     -1.026      0.305   -6.44e+09    2.01e+09\n",
      "x76        -2.211e+09   2.16e+09     -1.026      0.305   -6.44e+09    2.01e+09\n",
      "x77         1.281e+09   1.25e+09      1.026      0.305   -1.17e+09    3.73e+09\n",
      "x78        -5.706e+09   5.56e+09     -1.026      0.305   -1.66e+10     5.2e+09\n",
      "x79        -2.211e+09   2.16e+09     -1.026      0.305   -6.44e+09    2.01e+09\n",
      "x80        -6.006e+09   5.86e+09     -1.026      0.305   -1.75e+10    5.47e+09\n",
      "x81        -1.713e+09   1.67e+09     -1.026      0.305   -4.99e+09    1.56e+09\n",
      "x82        -2.211e+09   2.16e+09     -1.026      0.305   -6.44e+09    2.01e+09\n",
      "x83        -2.211e+09   2.16e+09     -1.026      0.305   -6.44e+09    2.01e+09\n",
      "x84        -2.211e+09   2.16e+09     -1.026      0.305   -6.44e+09    2.01e+09\n",
      "x85        -2.211e+09   2.16e+09     -1.026      0.305   -6.44e+09    2.01e+09\n",
      "x86        -2.211e+09   2.16e+09     -1.026      0.305   -6.44e+09    2.01e+09\n",
      "x87        -2.211e+09   2.16e+09     -1.026      0.305   -6.44e+09    2.01e+09\n",
      "x88        -8.049e+09   7.85e+09     -1.026      0.305   -2.34e+10    7.33e+09\n",
      "x89        -1.713e+09   1.67e+09     -1.026      0.305   -4.99e+09    1.56e+09\n",
      "x90        -2.211e+09   2.16e+09     -1.026      0.305   -6.44e+09    2.01e+09\n",
      "x91         1.281e+09   1.25e+09      1.026      0.305   -1.17e+09    3.73e+09\n",
      "x92        -8.049e+09   7.85e+09     -1.026      0.305   -2.34e+10    7.33e+09\n",
      "x93        -2.211e+09   2.16e+09     -1.026      0.305   -6.44e+09    2.01e+09\n",
      "x94        -2.211e+09   2.16e+09     -1.026      0.305   -6.44e+09    2.01e+09\n",
      "x95        -2.211e+09   2.16e+09     -1.026      0.305   -6.44e+09    2.01e+09\n",
      "x96        -2.211e+09   2.16e+09     -1.026      0.305   -6.44e+09    2.01e+09\n",
      "x97        -2.211e+09   2.16e+09     -1.026      0.305   -6.44e+09    2.01e+09\n",
      "x98         1.383e+09   1.35e+09      1.026      0.305   -1.26e+09    4.03e+09\n",
      "x99        -2.211e+09   2.16e+09     -1.026      0.305   -6.44e+09    2.01e+09\n",
      "x100        1.281e+09   1.25e+09      1.026      0.305   -1.17e+09    3.73e+09\n",
      "x101        1.383e+09   1.35e+09      1.026      0.305   -1.26e+09    4.03e+09\n",
      "x102        1.281e+09   1.25e+09      1.026      0.305   -1.17e+09    3.73e+09\n",
      "x103       -2.211e+09   2.16e+09     -1.026      0.305   -6.44e+09    2.01e+09\n",
      "x104       -2.211e+09   2.16e+09     -1.026      0.305   -6.44e+09    2.01e+09\n",
      "x105       -6.006e+09   5.86e+09     -1.026      0.305   -1.75e+10    5.47e+09\n",
      "x106       -1.713e+09   1.67e+09     -1.026      0.305   -4.99e+09    1.56e+09\n",
      "x107        1.383e+09   1.35e+09      1.026      0.305   -1.26e+09    4.03e+09\n",
      "x108        1.383e+09   1.35e+09      1.026      0.305   -1.26e+09    4.03e+09\n",
      "x109        1.383e+09   1.35e+09      1.026      0.305   -1.26e+09    4.03e+09\n",
      "x110       -8.049e+09   7.85e+09     -1.026      0.305   -2.34e+10    7.33e+09\n",
      "x111       -2.211e+09   2.16e+09     -1.026      0.305   -6.44e+09    2.01e+09\n",
      "x112       -2.211e+09   2.16e+09     -1.026      0.305   -6.44e+09    2.01e+09\n",
      "x113       -2.211e+09   2.16e+09     -1.026      0.305   -6.44e+09    2.01e+09\n",
      "x114       -2.211e+09   2.16e+09     -1.026      0.305   -6.44e+09    2.01e+09\n",
      "x115       -1.713e+09   1.67e+09     -1.026      0.305   -4.99e+09    1.56e+09\n",
      "x116       -2.211e+09   2.16e+09     -1.026      0.305   -6.44e+09    2.01e+09\n",
      "x117       -5.706e+09   5.56e+09     -1.026      0.305   -1.66e+10     5.2e+09\n",
      "x118        1.281e+09   1.25e+09      1.026      0.305   -1.17e+09    3.73e+09\n",
      "x119       -2.211e+09   2.16e+09     -1.026      0.305   -6.44e+09    2.01e+09\n",
      "x120       -2.211e+09   2.16e+09     -1.026      0.305   -6.44e+09    2.01e+09\n",
      "x121       -8.049e+09   7.85e+09     -1.026      0.305   -2.34e+10    7.33e+09\n",
      "x122       -2.211e+09   2.16e+09     -1.026      0.305   -6.44e+09    2.01e+09\n",
      "x123       -2.211e+09   2.16e+09     -1.026      0.305   -6.44e+09    2.01e+09\n",
      "x124       -2.211e+09   2.16e+09     -1.026      0.305   -6.44e+09    2.01e+09\n",
      "x125       -6.006e+09   5.86e+09     -1.026      0.305   -1.75e+10    5.47e+09\n",
      "x126       -2.211e+09   2.16e+09     -1.026      0.305   -6.44e+09    2.01e+09\n",
      "x127       -2.211e+09   2.16e+09     -1.026      0.305   -6.44e+09    2.01e+09\n",
      "x128       -1.713e+09   1.67e+09     -1.026      0.305   -4.99e+09    1.56e+09\n",
      "x129       -2.211e+09   2.16e+09     -1.026      0.305   -6.44e+09    2.01e+09\n",
      "x130       -2.211e+09   2.16e+09     -1.026      0.305   -6.44e+09    2.01e+09\n",
      "x131       -2.211e+09   2.16e+09     -1.026      0.305   -6.44e+09    2.01e+09\n",
      "x132        1.281e+09   1.25e+09      1.026      0.305   -1.17e+09    3.73e+09\n",
      "x133       -2.211e+09   2.16e+09     -1.026      0.305   -6.44e+09    2.01e+09\n",
      "x134       -2.211e+09   2.16e+09     -1.026      0.305   -6.44e+09    2.01e+09\n",
      "x135       -1.713e+09   1.67e+09     -1.026      0.305   -4.99e+09    1.56e+09\n",
      "x136       -1.713e+09   1.67e+09     -1.026      0.305   -4.99e+09    1.56e+09\n",
      "x137       -1.713e+09   1.67e+09     -1.026      0.305   -4.99e+09    1.56e+09\n",
      "x138       -2.211e+09   2.16e+09     -1.026      0.305   -6.44e+09    2.01e+09\n",
      "x139       -2.211e+09   2.16e+09     -1.026      0.305   -6.44e+09    2.01e+09\n",
      "x140       -8.049e+09   7.85e+09     -1.026      0.305   -2.34e+10    7.33e+09\n",
      "x141       -2.211e+09   2.16e+09     -1.026      0.305   -6.44e+09    2.01e+09\n",
      "x142       -1.713e+09   1.67e+09     -1.026      0.305   -4.99e+09    1.56e+09\n",
      "x143       -2.211e+09   2.16e+09     -1.026      0.305   -6.44e+09    2.01e+09\n",
      "x144        1.281e+09   1.25e+09      1.026      0.305   -1.17e+09    3.73e+09\n",
      "x145       -2.211e+09   2.16e+09     -1.026      0.305   -6.44e+09    2.01e+09\n",
      "x146       -2.211e+09   2.16e+09     -1.026      0.305   -6.44e+09    2.01e+09\n",
      "x147       -2.211e+09   2.16e+09     -1.026      0.305   -6.44e+09    2.01e+09\n",
      "x148       -5.706e+09   5.56e+09     -1.026      0.305   -1.66e+10     5.2e+09\n",
      "x149       -2.211e+09   2.16e+09     -1.026      0.305   -6.44e+09    2.01e+09\n",
      "x150       -1.713e+09   1.67e+09     -1.026      0.305   -4.99e+09    1.56e+09\n",
      "x151        1.281e+09   1.25e+09      1.026      0.305   -1.17e+09    3.73e+09\n",
      "x152       -8.049e+09   7.85e+09     -1.026      0.305   -2.34e+10    7.33e+09\n",
      "x153       -1.713e+09   1.67e+09     -1.026      0.305   -4.99e+09    1.56e+09\n",
      "x154       -2.211e+09   2.16e+09     -1.026      0.305   -6.44e+09    2.01e+09\n",
      "x155       -1.713e+09   1.67e+09     -1.026      0.305   -4.99e+09    1.56e+09\n",
      "x156       -2.211e+09   2.16e+09     -1.026      0.305   -6.44e+09    2.01e+09\n",
      "x157       -2.211e+09   2.16e+09     -1.026      0.305   -6.44e+09    2.01e+09\n",
      "x158       -2.211e+09   2.16e+09     -1.026      0.305   -6.44e+09    2.01e+09\n",
      "x159       -2.211e+09   2.16e+09     -1.026      0.305   -6.44e+09    2.01e+09\n",
      "x160       -2.211e+09   2.16e+09     -1.026      0.305   -6.44e+09    2.01e+09\n",
      "x161       -2.211e+09   2.16e+09     -1.026      0.305   -6.44e+09    2.01e+09\n",
      "x162       -2.211e+09   2.16e+09     -1.026      0.305   -6.44e+09    2.01e+09\n",
      "x163       -5.114e+09   4.99e+09     -1.026      0.305   -1.49e+10    4.66e+09\n",
      "x164       -1.622e+09   1.58e+09     -1.026      0.305   -4.72e+09    1.48e+09\n",
      "x165       -1.622e+09   1.58e+09     -1.026      0.305   -4.72e+09    1.48e+09\n",
      "x166       -1.622e+09   1.58e+09     -1.026      0.305   -4.72e+09    1.48e+09\n",
      "x167        1.873e+09   1.83e+09      1.026      0.305   -1.71e+09    5.45e+09\n",
      "x168        2.173e+09   2.12e+09      1.026      0.305   -1.98e+09    6.33e+09\n",
      "x169       -1.622e+09   1.58e+09     -1.026      0.305   -4.72e+09    1.48e+09\n",
      "x170       -1.622e+09   1.58e+09     -1.026      0.305   -4.72e+09    1.48e+09\n",
      "x171        4.216e+09   4.11e+09      1.026      0.305   -3.84e+09    1.23e+10\n",
      "x172        -2.12e+09   2.07e+09     -1.026      0.305   -6.17e+09    1.93e+09\n",
      "x173       -1.622e+09   1.58e+09     -1.026      0.305   -4.72e+09    1.48e+09\n",
      "x174       -5.216e+09   5.09e+09     -1.026      0.305   -1.52e+10    4.75e+09\n",
      "x175       -1.622e+09   1.58e+09     -1.026      0.305   -4.72e+09    1.48e+09\n",
      "x176        -2.12e+09   2.07e+09     -1.026      0.305   -6.17e+09    1.93e+09\n",
      "x177       -1.622e+09   1.58e+09     -1.026      0.305   -4.72e+09    1.48e+09\n",
      "x178        9.944e+10    9.7e+10      1.026      0.305   -9.06e+10    2.89e+11\n",
      "x179        9.944e+10    9.7e+10      1.026      0.305   -9.06e+10    2.89e+11\n",
      "x180        9.944e+10    9.7e+10      1.026      0.305   -9.06e+10    2.89e+11\n",
      "x181        9.944e+10    9.7e+10      1.026      0.305   -9.06e+10    2.89e+11\n",
      "x182        9.944e+10    9.7e+10      1.026      0.305   -9.06e+10    2.89e+11\n",
      "x183        9.944e+10    9.7e+10      1.026      0.305   -9.06e+10    2.89e+11\n",
      "x184        9.944e+10    9.7e+10      1.026      0.305   -9.06e+10    2.89e+11\n",
      "x185        9.944e+10    9.7e+10      1.026      0.305   -9.06e+10    2.89e+11\n",
      "x186        9.944e+10    9.7e+10      1.026      0.305   -9.06e+10    2.89e+11\n",
      "x187        9.944e+10    9.7e+10      1.026      0.305   -9.06e+10    2.89e+11\n",
      "x188        9.944e+10    9.7e+10      1.026      0.305   -9.06e+10    2.89e+11\n",
      "x189        9.944e+10    9.7e+10      1.026      0.305   -9.06e+10    2.89e+11\n",
      "x190        9.944e+10    9.7e+10      1.026      0.305   -9.06e+10    2.89e+11\n",
      "x191        9.944e+10    9.7e+10      1.026      0.305   -9.06e+10    2.89e+11\n",
      "x192        9.944e+10    9.7e+10      1.026      0.305   -9.06e+10    2.89e+11\n",
      "x193        9.944e+10    9.7e+10      1.026      0.305   -9.06e+10    2.89e+11\n",
      "x194        9.944e+10    9.7e+10      1.026      0.305   -9.06e+10    2.89e+11\n",
      "x195        9.944e+10    9.7e+10      1.026      0.305   -9.06e+10    2.89e+11\n",
      "x196        9.944e+10    9.7e+10      1.026      0.305   -9.06e+10    2.89e+11\n",
      "x197        9.944e+10    9.7e+10      1.026      0.305   -9.06e+10    2.89e+11\n",
      "x198        9.944e+10    9.7e+10      1.026      0.305   -9.06e+10    2.89e+11\n",
      "x199        9.944e+10    9.7e+10      1.026      0.305   -9.06e+10    2.89e+11\n",
      "x200        9.944e+10    9.7e+10      1.026      0.305   -9.06e+10    2.89e+11\n",
      "x201       -5.959e+10   5.81e+10     -1.026      0.305   -1.73e+11    5.43e+10\n",
      "x202       -5.959e+10   5.81e+10     -1.026      0.305   -1.73e+11    5.43e+10\n",
      "x203       -5.959e+10   5.81e+10     -1.026      0.305   -1.73e+11    5.43e+10\n",
      "x204       -5.959e+10   5.81e+10     -1.026      0.305   -1.73e+11    5.43e+10\n",
      "x205       -5.959e+10   5.81e+10     -1.026      0.305   -1.73e+11    5.43e+10\n",
      "x206       -5.959e+10   5.81e+10     -1.026      0.305   -1.73e+11    5.43e+10\n",
      "x207       -5.959e+10   5.81e+10     -1.026      0.305   -1.73e+11    5.43e+10\n",
      "x208        4.846e+09   4.72e+09      1.026      0.305   -4.41e+09    1.41e+10\n",
      "x209        4.846e+09   4.72e+09      1.026      0.305   -4.41e+09    1.41e+10\n",
      "x210        4.846e+09   4.72e+09      1.026      0.305   -4.41e+09    1.41e+10\n",
      "x211        4.846e+09   4.72e+09      1.026      0.305   -4.41e+09    1.41e+10\n",
      "x212        4.846e+09   4.72e+09      1.026      0.305   -4.41e+09    1.41e+10\n",
      "x213        4.846e+09   4.72e+09      1.026      0.305   -4.41e+09    1.41e+10\n",
      "x214        4.846e+09   4.72e+09      1.026      0.305   -4.41e+09    1.41e+10\n",
      "x215       -8.394e+09   8.18e+09     -1.026      0.305   -2.44e+10    7.65e+09\n",
      "x216       -8.394e+09   8.18e+09     -1.026      0.305   -2.44e+10    7.65e+09\n",
      "x217       -8.394e+09   8.18e+09     -1.026      0.305   -2.44e+10    7.65e+09\n",
      "x218       -8.394e+09   8.18e+09     -1.026      0.305   -2.44e+10    7.65e+09\n",
      "x219       -8.394e+09   8.18e+09     -1.026      0.305   -2.44e+10    7.65e+09\n",
      "x220       -8.394e+09   8.18e+09     -1.026      0.305   -2.44e+10    7.65e+09\n",
      "x221       -8.394e+09   8.18e+09     -1.026      0.305   -2.44e+10    7.65e+09\n",
      "x222       -8.394e+09   8.18e+09     -1.026      0.305   -2.44e+10    7.65e+09\n",
      "x223       -8.394e+09   8.18e+09     -1.026      0.305   -2.44e+10    7.65e+09\n",
      "x224       -8.394e+09   8.18e+09     -1.026      0.305   -2.44e+10    7.65e+09\n",
      "x225       -8.394e+09   8.18e+09     -1.026      0.305   -2.44e+10    7.65e+09\n",
      "x226       -8.394e+09   8.18e+09     -1.026      0.305   -2.44e+10    7.65e+09\n",
      "x227       -9.113e+09   8.89e+09     -1.026      0.305   -2.65e+10     8.3e+09\n",
      "x228       -9.113e+09   8.89e+09     -1.026      0.305   -2.65e+10     8.3e+09\n",
      "x229       -9.113e+09   8.89e+09     -1.026      0.305   -2.65e+10     8.3e+09\n",
      "x230       -9.113e+09   8.89e+09     -1.026      0.305   -2.65e+10     8.3e+09\n",
      "x231       -9.113e+09   8.89e+09     -1.026      0.305   -2.65e+10     8.3e+09\n",
      "x232       -9.113e+09   8.89e+09     -1.026      0.305   -2.65e+10     8.3e+09\n",
      "x233       -9.113e+09   8.89e+09     -1.026      0.305   -2.65e+10     8.3e+09\n",
      "x234       -9.113e+09   8.89e+09     -1.026      0.305   -2.65e+10     8.3e+09\n",
      "x235       -9.113e+09   8.89e+09     -1.026      0.305   -2.65e+10     8.3e+09\n",
      "x236       -9.113e+09   8.89e+09     -1.026      0.305   -2.65e+10     8.3e+09\n",
      "x237       -9.113e+09   8.89e+09     -1.026      0.305   -2.65e+10     8.3e+09\n",
      "x238       -9.113e+09   8.89e+09     -1.026      0.305   -2.65e+10     8.3e+09\n",
      "x239        1.131e+10    1.1e+10      1.026      0.305   -1.03e+10    3.29e+10\n",
      "x240        1.131e+10    1.1e+10      1.026      0.305   -1.03e+10    3.29e+10\n",
      "x241        1.131e+10    1.1e+10      1.026      0.305   -1.03e+10    3.29e+10\n",
      "x242        1.131e+10    1.1e+10      1.026      0.305   -1.03e+10    3.29e+10\n",
      "x243        1.131e+10    1.1e+10      1.026      0.305   -1.03e+10    3.29e+10\n",
      "x244        1.131e+10    1.1e+10      1.026      0.305   -1.03e+10    3.29e+10\n",
      "x245        1.131e+10    1.1e+10      1.026      0.305   -1.03e+10    3.29e+10\n",
      "x246        1.131e+10    1.1e+10      1.026      0.305   -1.03e+10    3.29e+10\n",
      "x247        1.131e+10    1.1e+10      1.026      0.305   -1.03e+10    3.29e+10\n",
      "==============================================================================\n",
      "Omnibus:                 10984290.816   Durbin-Watson:                   1.994\n",
      "Prob(Omnibus):                  0.000   Jarque-Bera (JB):            23076.646\n",
      "Skew:                           0.273   Prob(JB):                         0.00\n",
      "Kurtosis:                       1.662   Cond. No.                     1.48e+16\n",
      "==============================================================================\n",
      "\n",
      "Warnings:\n",
      "[1] Standard Errors assume that the covariance matrix of the errors is correctly specified.\n",
      "[2] The smallest eigenvalue is 3.77e-27. This might indicate that there are\n",
      "strong multicollinearity problems or that the design matrix is singular.\n"
     ]
    }
   ],
   "source": [
    "x_train_scaled_const = sm.add_constant(x_train_scaled)\n",
    "model = sm.OLS(y_train, x_train_scaled_const)\n",
    "trained_model = model.fit()\n",
    "print(trained_model.summary())"
   ]
  },
  {
   "cell_type": "markdown",
   "metadata": {
    "id": "UNJhIekoyov5"
   },
   "source": [
    "Utilizaremos solamente las variables \"usd_goal_real\" y \"campaign_length\". Ademas agregaremos una variable binaria \"in_US\" cuando la variable \"country\" sea \"US\"."
   ]
  },
  {
   "cell_type": "code",
   "execution_count": null,
   "metadata": {
    "colab": {
     "base_uri": "https://localhost:8080/",
     "height": 419
    },
    "id": "ViACqraUtClS",
    "outputId": "70a0a5dc-791d-40b4-aaab-56ac569031c0"
   },
   "outputs": [
    {
     "data": {
      "text/html": [
       "<div>\n",
       "<style scoped>\n",
       "    .dataframe tbody tr th:only-of-type {\n",
       "        vertical-align: middle;\n",
       "    }\n",
       "\n",
       "    .dataframe tbody tr th {\n",
       "        vertical-align: top;\n",
       "    }\n",
       "\n",
       "    .dataframe thead th {\n",
       "        text-align: right;\n",
       "    }\n",
       "</style>\n",
       "<table border=\"1\" class=\"dataframe\">\n",
       "  <thead>\n",
       "    <tr style=\"text-align: right;\">\n",
       "      <th></th>\n",
       "      <th>state</th>\n",
       "      <th>usd_goal_real</th>\n",
       "      <th>campaign_length</th>\n",
       "      <th>in_US</th>\n",
       "    </tr>\n",
       "  </thead>\n",
       "  <tbody>\n",
       "    <tr>\n",
       "      <th>0</th>\n",
       "      <td>0</td>\n",
       "      <td>7.336247</td>\n",
       "      <td>7.647963</td>\n",
       "      <td>0</td>\n",
       "    </tr>\n",
       "    <tr>\n",
       "      <th>1</th>\n",
       "      <td>0</td>\n",
       "      <td>10.308986</td>\n",
       "      <td>7.733228</td>\n",
       "      <td>1</td>\n",
       "    </tr>\n",
       "    <tr>\n",
       "      <th>2</th>\n",
       "      <td>0</td>\n",
       "      <td>10.714440</td>\n",
       "      <td>6.707125</td>\n",
       "      <td>1</td>\n",
       "    </tr>\n",
       "    <tr>\n",
       "      <th>3</th>\n",
       "      <td>0</td>\n",
       "      <td>8.517391</td>\n",
       "      <td>5.464266</td>\n",
       "      <td>1</td>\n",
       "    </tr>\n",
       "    <tr>\n",
       "      <th>5</th>\n",
       "      <td>1</td>\n",
       "      <td>10.819798</td>\n",
       "      <td>5.867847</td>\n",
       "      <td>1</td>\n",
       "    </tr>\n",
       "    <tr>\n",
       "      <th>...</th>\n",
       "      <td>...</td>\n",
       "      <td>...</td>\n",
       "      <td>...</td>\n",
       "      <td>...</td>\n",
       "    </tr>\n",
       "    <tr>\n",
       "      <th>378654</th>\n",
       "      <td>0</td>\n",
       "      <td>8.779710</td>\n",
       "      <td>5.392358</td>\n",
       "      <td>1</td>\n",
       "    </tr>\n",
       "    <tr>\n",
       "      <th>378657</th>\n",
       "      <td>0</td>\n",
       "      <td>7.313880</td>\n",
       "      <td>5.181750</td>\n",
       "      <td>1</td>\n",
       "    </tr>\n",
       "    <tr>\n",
       "      <th>378658</th>\n",
       "      <td>0</td>\n",
       "      <td>9.615871</td>\n",
       "      <td>6.721622</td>\n",
       "      <td>1</td>\n",
       "    </tr>\n",
       "    <tr>\n",
       "      <th>378659</th>\n",
       "      <td>0</td>\n",
       "      <td>9.615871</td>\n",
       "      <td>5.499123</td>\n",
       "      <td>1</td>\n",
       "    </tr>\n",
       "    <tr>\n",
       "      <th>378660</th>\n",
       "      <td>0</td>\n",
       "      <td>7.601397</td>\n",
       "      <td>5.255435</td>\n",
       "      <td>1</td>\n",
       "    </tr>\n",
       "  </tbody>\n",
       "</table>\n",
       "<p>331675 rows × 4 columns</p>\n",
       "</div>"
      ],
      "text/plain": [
       "        state  usd_goal_real  campaign_length  in_US\n",
       "0           0       7.336247         7.647963      0\n",
       "1           0      10.308986         7.733228      1\n",
       "2           0      10.714440         6.707125      1\n",
       "3           0       8.517391         5.464266      1\n",
       "5           1      10.819798         5.867847      1\n",
       "...       ...            ...              ...    ...\n",
       "378654      0       8.779710         5.392358      1\n",
       "378657      0       7.313880         5.181750      1\n",
       "378658      0       9.615871         6.721622      1\n",
       "378659      0       9.615871         5.499123      1\n",
       "378660      0       7.601397         5.255435      1\n",
       "\n",
       "[331675 rows x 4 columns]"
      ]
     },
     "execution_count": 211,
     "metadata": {
      "tags": []
     },
     "output_type": "execute_result"
    }
   ],
   "source": [
    "data_for_model2 = data_trans[[\"state\", \"usd_goal_real\", \"campaign_length\"]]\n",
    "data_for_model2[\"in_US\"] = encoder.fit_transform(data_categorical[\"country\"] == \"US\")\n",
    "data_for_model2['state'] = encoder.fit_transform(data_categorical['state'].astype(str))\n",
    "data_for_model2"
   ]
  },
  {
   "cell_type": "code",
   "execution_count": null,
   "metadata": {
    "id": "zbUvmmiDtBxW"
   },
   "outputs": [],
   "source": [
    "x = data_for_model2[[\"usd_goal_real\", \"campaign_length\", \"in_US\"]]\n",
    "y = data_for_model2.state\n",
    "x_train, x_test, y_train, y_test = train_test_split(x, y, test_size=0.2)\n",
    "x_test, x_val, y_test, y_val = train_test_split(x_test, y_test, test_size=0.5)\n",
    "x_train_scaled = scaler.fit_transform(x_train)\n",
    "x_test_scaled = scaler.fit_transform(x_test)\n",
    "x_val_scaled = scaler.fit_transform(x_val)"
   ]
  },
  {
   "cell_type": "code",
   "execution_count": null,
   "metadata": {
    "colab": {
     "base_uri": "https://localhost:8080/"
    },
    "id": "ipeizhIDwwlc",
    "outputId": "d242e9e5-57ab-4e92-c000-33426fae29c1"
   },
   "outputs": [
    {
     "name": "stdout",
     "output_type": "stream",
     "text": [
      "                            OLS Regression Results                            \n",
      "==============================================================================\n",
      "Dep. Variable:                  state   R-squared:                       0.059\n",
      "Model:                            OLS   Adj. R-squared:                  0.059\n",
      "Method:                 Least Squares   F-statistic:                     5592.\n",
      "Date:                Mon, 30 Nov 2020   Prob (F-statistic):               0.00\n",
      "Time:                        20:07:46   Log-Likelihood:            -1.7947e+05\n",
      "No. Observations:              265340   AIC:                         3.589e+05\n",
      "Df Residuals:                  265336   BIC:                         3.590e+05\n",
      "Df Model:                           3                                         \n",
      "Covariance Type:            nonrobust                                         \n",
      "==============================================================================\n",
      "                 coef    std err          t      P>|t|      [0.025      0.975]\n",
      "------------------------------------------------------------------------------\n",
      "const          1.0606      0.006    165.807      0.000       1.048       1.073\n",
      "x1            -1.1621      0.011   -109.034      0.000      -1.183      -1.141\n",
      "x2            -0.3251      0.008    -38.726      0.000      -0.342      -0.309\n",
      "x3             0.0730      0.002     32.249      0.000       0.069       0.077\n",
      "==============================================================================\n",
      "Omnibus:                  1208178.552   Durbin-Watson:                   1.997\n",
      "Prob(Omnibus):                  0.000   Jarque-Bera (JB):            35383.714\n",
      "Skew:                           0.341   Prob(JB):                         0.00\n",
      "Kurtosis:                       1.346   Cond. No.                         18.5\n",
      "==============================================================================\n",
      "\n",
      "Warnings:\n",
      "[1] Standard Errors assume that the covariance matrix of the errors is correctly specified.\n"
     ]
    }
   ],
   "source": [
    "x_train_scaled_const = sm.add_constant(x_train_scaled)\n",
    "model = sm.OLS(y_train, x_train_scaled_const)\n",
    "trained_model = model.fit()\n",
    "print(trained_model.summary())"
   ]
  },
  {
   "cell_type": "markdown",
   "metadata": {
    "id": "0VBbak7Kx2O6"
   },
   "source": [
    "## Segundo analisis de modelos"
   ]
  },
  {
   "cell_type": "markdown",
   "metadata": {
    "id": "rPtcF28Sx2O7"
   },
   "source": [
    "### **Perceptrón Multipcapa**"
   ]
  },
  {
   "cell_type": "markdown",
   "metadata": {
    "id": "vr337b1Cx2O7"
   },
   "source": [
    "*First approach*"
   ]
  },
  {
   "cell_type": "code",
   "execution_count": null,
   "metadata": {
    "id": "t7iwhV7lx2O7"
   },
   "outputs": [],
   "source": [
    "def build_mlp_model(hidden_layers = [6, 2], dropout_rate = 0, add_bn = True, l2_penalty = 0, optimizer = 'adam'):\n",
    "    mlp_model = Sequential()\n",
    "    mlp_model.add(Dense(input_shape=(x_train_scaled.shape[1],),units=10, activation='relu'))\n",
    "    for layer in hidden_layers:       \n",
    "        mlp_model.add(Dense(layer, kernel_regularizer = l2(l2_penalty), activation='relu'))\n",
    "        if add_bn:\n",
    "            mlp_model.add(BatchNormalization())       \n",
    "        if dropout_rate:\n",
    "            mlp_model.add(Dropout(dropout_rate))\n",
    "\n",
    "    mlp_model.add(Dense(1, activation='sigmoid'))\n",
    "    mlp_model.compile(optimizer=optimizer, loss='binary_crossentropy', metrics=['accuracy'])\n",
    "    return mlp_model"
   ]
  },
  {
   "cell_type": "code",
   "execution_count": null,
   "metadata": {
    "colab": {
     "base_uri": "https://localhost:8080/"
    },
    "id": "zOHiIBsYx2O8",
    "outputId": "8cd5f9c7-cf9c-46c1-8fce-eb66469fb52c"
   },
   "outputs": [
    {
     "name": "stdout",
     "output_type": "stream",
     "text": [
      "Epoch 1/10\n",
      "2654/2654 [==============================] - 12s 5ms/step - loss: 0.6467 - accuracy: 0.6067\n",
      "Epoch 2/10\n",
      "2654/2654 [==============================] - 12s 5ms/step - loss: 0.6425 - accuracy: 0.6151\n",
      "Epoch 3/10\n",
      "2654/2654 [==============================] - 12s 5ms/step - loss: 0.6424 - accuracy: 0.6152\n",
      "Epoch 4/10\n",
      "2654/2654 [==============================] - 12s 5ms/step - loss: 0.6422 - accuracy: 0.6146\n",
      "Epoch 5/10\n",
      "2654/2654 [==============================] - 12s 5ms/step - loss: 0.6420 - accuracy: 0.6150\n",
      "Epoch 6/10\n",
      "2654/2654 [==============================] - 12s 5ms/step - loss: 0.6414 - accuracy: 0.6157\n",
      "Epoch 7/10\n",
      "2654/2654 [==============================] - 12s 5ms/step - loss: 0.6410 - accuracy: 0.6166\n",
      "Epoch 8/10\n",
      "2654/2654 [==============================] - 12s 5ms/step - loss: 0.6405 - accuracy: 0.6163\n",
      "Epoch 9/10\n",
      "2654/2654 [==============================] - 12s 5ms/step - loss: 0.6397 - accuracy: 0.6177\n",
      "Epoch 10/10\n",
      "2654/2654 [==============================] - 12s 5ms/step - loss: 0.6392 - accuracy: 0.6191\n"
     ]
    },
    {
     "data": {
      "text/plain": [
       "<tensorflow.python.keras.callbacks.History at 0x7f21d3662828>"
      ]
     },
     "execution_count": 216,
     "metadata": {
      "tags": []
     },
     "output_type": "execute_result"
    }
   ],
   "source": [
    "mlp_model = KerasClassifier(build_mlp_model)\n",
    "mlp_model.fit(x_train_scaled, y_train, batch_size=100, epochs=10, verbose=1)"
   ]
  },
  {
   "cell_type": "code",
   "execution_count": null,
   "metadata": {
    "id": "SXA5tmKYx2O-"
   },
   "outputs": [],
   "source": [
    "y_mlp_pred = mlp_model.predict(x_val_scaled, batch_size=10)"
   ]
  },
  {
   "cell_type": "code",
   "execution_count": null,
   "metadata": {
    "id": "pSF0HqUNx2O_"
   },
   "outputs": [],
   "source": [
    "y_mlp_pred = y_mlp_pred >0.5"
   ]
  },
  {
   "cell_type": "code",
   "execution_count": null,
   "metadata": {
    "colab": {
     "base_uri": "https://localhost:8080/"
    },
    "id": "2Cg4qLJxx2O_",
    "outputId": "47616277-a33b-47ee-c788-50bc4e3cff29"
   },
   "outputs": [
    {
     "data": {
      "text/plain": [
       "0.6184273999035215"
      ]
     },
     "execution_count": 219,
     "metadata": {
      "tags": []
     },
     "output_type": "execute_result"
    }
   ],
   "source": [
    "accuracy_score(y_val, y_mlp_pred)"
   ]
  },
  {
   "cell_type": "code",
   "execution_count": null,
   "metadata": {
    "colab": {
     "base_uri": "https://localhost:8080/"
    },
    "id": "4caZ0kqAx2O_",
    "outputId": "b214f108-81fa-46bf-ab78-d16dac93cdfb"
   },
   "outputs": [
    {
     "name": "stdout",
     "output_type": "stream",
     "text": [
      "              precision    recall  f1-score   support\n",
      "\n",
      "           0       0.65      0.79      0.71     19847\n",
      "           1       0.54      0.36      0.43     13321\n",
      "\n",
      "    accuracy                           0.62     33168\n",
      "   macro avg       0.59      0.58      0.57     33168\n",
      "weighted avg       0.60      0.62      0.60     33168\n",
      "\n"
     ]
    }
   ],
   "source": [
    "print(classification_report(y_true=y_val, y_pred=y_mlp_pred > 0.5))"
   ]
  },
  {
   "cell_type": "code",
   "execution_count": null,
   "metadata": {
    "colab": {
     "base_uri": "https://localhost:8080/"
    },
    "id": "ZFVp-0-hx2O_",
    "outputId": "b01598de-6813-45e4-fae8-4f49e6263bed"
   },
   "outputs": [
    {
     "data": {
      "text/plain": [
       "array([[15714,  4133],\n",
       "       [ 8523,  4798]])"
      ]
     },
     "execution_count": 221,
     "metadata": {
      "tags": []
     },
     "output_type": "execute_result"
    }
   ],
   "source": [
    "confusion_matrix(y_true=y_val, y_pred=y_mlp_pred)"
   ]
  },
  {
   "cell_type": "markdown",
   "metadata": {
    "id": "4-OSPD_bx2PA"
   },
   "source": [
    "### Regresión Logística"
   ]
  },
  {
   "cell_type": "markdown",
   "metadata": {
    "id": "c1CiCYLex2PA"
   },
   "source": [
    "*First approach*"
   ]
  },
  {
   "cell_type": "code",
   "execution_count": null,
   "metadata": {
    "id": "WVdvYHMOx2PA"
   },
   "outputs": [],
   "source": [
    "logistic_model = LogisticRegression(max_iter=150, solver='sag')\n",
    "logistic_model.fit(x_train_scaled, y_train)\n",
    "y_logistic_pred = logistic_model.predict(x_val_scaled)"
   ]
  },
  {
   "cell_type": "code",
   "execution_count": null,
   "metadata": {
    "colab": {
     "base_uri": "https://localhost:8080/"
    },
    "id": "tkgBxxEFx2PA",
    "outputId": "365f3295-9ca1-4869-ec7b-f25b2a4ff34c"
   },
   "outputs": [
    {
     "data": {
      "text/plain": [
       "0.6155933429811867"
      ]
     },
     "execution_count": 225,
     "metadata": {
      "tags": []
     },
     "output_type": "execute_result"
    }
   ],
   "source": [
    "accuracy_score(y_true=y_val, y_pred=y_logistic_pred)"
   ]
  },
  {
   "cell_type": "code",
   "execution_count": null,
   "metadata": {
    "colab": {
     "base_uri": "https://localhost:8080/"
    },
    "id": "4LrIlWdTx2PB",
    "outputId": "ee47d2dd-9609-47b6-a5d3-d38ec5efd0b1"
   },
   "outputs": [
    {
     "name": "stdout",
     "output_type": "stream",
     "text": [
      "              precision    recall  f1-score   support\n",
      "\n",
      "           0       0.64      0.83      0.72     19847\n",
      "           1       0.54      0.29      0.38     13321\n",
      "\n",
      "    accuracy                           0.62     33168\n",
      "   macro avg       0.59      0.56      0.55     33168\n",
      "weighted avg       0.60      0.62      0.58     33168\n",
      "\n"
     ]
    }
   ],
   "source": [
    "print(classification_report(y_true=y_val, y_pred=y_logistic_pred))"
   ]
  },
  {
   "cell_type": "code",
   "execution_count": null,
   "metadata": {
    "colab": {
     "base_uri": "https://localhost:8080/"
    },
    "id": "s6L-a-qkx2PB",
    "outputId": "59659766-dac3-496e-c0c9-6f43c4456666"
   },
   "outputs": [
    {
     "data": {
      "text/plain": [
       "array([[16510,  3337],\n",
       "       [ 9413,  3908]])"
      ]
     },
     "execution_count": 227,
     "metadata": {
      "tags": []
     },
     "output_type": "execute_result"
    }
   ],
   "source": [
    "confusion_matrix(y_true=y_val, y_pred=y_logistic_pred)"
   ]
  },
  {
   "cell_type": "markdown",
   "metadata": {
    "id": "xwxndt-Ax2PB"
   },
   "source": [
    "*With RandomizedSearchCV*"
   ]
  },
  {
   "cell_type": "code",
   "execution_count": null,
   "metadata": {
    "colab": {
     "base_uri": "https://localhost:8080/"
    },
    "id": "UwD-8iN3x2PB",
    "outputId": "c0067d74-a841-4de9-b8e3-2f6d8bde323b"
   },
   "outputs": [
    {
     "data": {
      "text/plain": [
       "RandomizedSearchCV(cv=None, error_score=nan,\n",
       "                   estimator=LogisticRegression(C=1.0, class_weight=None,\n",
       "                                                dual=False, fit_intercept=True,\n",
       "                                                intercept_scaling=1,\n",
       "                                                l1_ratio=None, max_iter=100,\n",
       "                                                multi_class='auto', n_jobs=None,\n",
       "                                                penalty='l2', random_state=None,\n",
       "                                                solver='lbfgs', tol=0.0001,\n",
       "                                                verbose=0, warm_start=False),\n",
       "                   iid='deprecated', n_iter=10, n_jobs=None,\n",
       "                   param_distributions={'C': [0.01, 0.1, 1, 10],\n",
       "                                        'max_iter': [150, 200],\n",
       "                                        'penalty': ['l2', None],\n",
       "                                        'solver': ['lbfgs', 'sag', 'saga']},\n",
       "                   pre_dispatch='2*n_jobs', random_state=None, refit=True,\n",
       "                   return_train_score=False, scoring='accuracy', verbose=0)"
      ]
     },
     "execution_count": 228,
     "metadata": {
      "tags": []
     },
     "output_type": "execute_result"
    }
   ],
   "source": [
    "penalty = ['l2',None]\n",
    "c_val = [10**i for i in range(-2,2,1)]\n",
    "solver = ['lbfgs','sag','saga']\n",
    "iterations = [150,200]\n",
    "\n",
    "lr_grid = {'C': c_val,\n",
    "           'penalty':penalty,\n",
    "           'solver': solver,\n",
    "           'max_iter':iterations\n",
    "}\n",
    "\n",
    "base_model = LogisticRegression()\n",
    "logistic_randomized = RandomizedSearchCV(estimator=base_model, param_distributions=lr_grid, n_iter=10, scoring='accuracy')\n",
    "logistic_randomized.fit(x_train_scaled, y_train)"
   ]
  },
  {
   "cell_type": "code",
   "execution_count": null,
   "metadata": {
    "colab": {
     "base_uri": "https://localhost:8080/"
    },
    "id": "zQDWs83zx2PB",
    "outputId": "818b22e9-2ff4-4cec-ce86-02dcb7fc996e"
   },
   "outputs": [
    {
     "data": {
      "text/plain": [
       "LogisticRegression(C=1, class_weight=None, dual=False, fit_intercept=True,\n",
       "                   intercept_scaling=1, l1_ratio=None, max_iter=200,\n",
       "                   multi_class='auto', n_jobs=None, penalty='l2',\n",
       "                   random_state=None, solver='saga', tol=0.0001, verbose=0,\n",
       "                   warm_start=False)"
      ]
     },
     "execution_count": 229,
     "metadata": {
      "tags": []
     },
     "output_type": "execute_result"
    }
   ],
   "source": [
    "logistic_randomized.best_estimator_"
   ]
  },
  {
   "cell_type": "code",
   "execution_count": null,
   "metadata": {
    "colab": {
     "base_uri": "https://localhost:8080/"
    },
    "id": "yuc3rRvsx2PB",
    "outputId": "25b3ee8c-c5e3-478d-8a7e-770dee6f7862"
   },
   "outputs": [
    {
     "data": {
      "text/plain": [
       "{'C': 1, 'max_iter': 200, 'penalty': 'l2', 'solver': 'saga'}"
      ]
     },
     "execution_count": 230,
     "metadata": {
      "tags": []
     },
     "output_type": "execute_result"
    }
   ],
   "source": [
    "logistic_randomized.best_params_"
   ]
  },
  {
   "cell_type": "code",
   "execution_count": null,
   "metadata": {
    "colab": {
     "base_uri": "https://localhost:8080/"
    },
    "id": "5O71itYox2PB",
    "outputId": "2320f7e6-d2cb-48c3-b0f2-9c44909ea784"
   },
   "outputs": [
    {
     "data": {
      "text/plain": [
       "0.6160624104921988"
      ]
     },
     "execution_count": 231,
     "metadata": {
      "tags": []
     },
     "output_type": "execute_result"
    }
   ],
   "source": [
    "logistic_randomized.best_score_"
   ]
  },
  {
   "cell_type": "code",
   "execution_count": null,
   "metadata": {
    "id": "Ds7kn8xjx2PB"
   },
   "outputs": [],
   "source": [
    "y_logistic_pred_random = logistic_randomized.predict(x_val_scaled)"
   ]
  },
  {
   "cell_type": "code",
   "execution_count": null,
   "metadata": {
    "colab": {
     "base_uri": "https://localhost:8080/"
    },
    "id": "Vc0FRtj-x2PB",
    "outputId": "5a7757fa-b949-47a9-df39-06c6b36a4ca7"
   },
   "outputs": [
    {
     "data": {
      "text/plain": [
       "0.6157139411480945"
      ]
     },
     "execution_count": 233,
     "metadata": {
      "tags": []
     },
     "output_type": "execute_result"
    }
   ],
   "source": [
    "accuracy_score(y_true=y_val, y_pred=y_logistic_pred_random)"
   ]
  },
  {
   "cell_type": "code",
   "execution_count": null,
   "metadata": {
    "colab": {
     "base_uri": "https://localhost:8080/"
    },
    "id": "KZERpQUCx2PB",
    "outputId": "03a54e90-3760-455b-a724-904b491c8506"
   },
   "outputs": [
    {
     "name": "stdout",
     "output_type": "stream",
     "text": [
      "              precision    recall  f1-score   support\n",
      "\n",
      "           0       0.64      0.83      0.72     19847\n",
      "           1       0.54      0.29      0.38     13321\n",
      "\n",
      "    accuracy                           0.62     33168\n",
      "   macro avg       0.59      0.56      0.55     33168\n",
      "weighted avg       0.60      0.62      0.58     33168\n",
      "\n"
     ]
    }
   ],
   "source": [
    "print(classification_report(y_true=y_val, y_pred=y_logistic_pred_random))"
   ]
  },
  {
   "cell_type": "code",
   "execution_count": null,
   "metadata": {
    "colab": {
     "base_uri": "https://localhost:8080/"
    },
    "id": "zePNoGJ6x2PB",
    "outputId": "2052f4ef-44d3-4fa5-9ffe-e3ea583e625d"
   },
   "outputs": [
    {
     "data": {
      "text/plain": [
       "array([[16501,  3346],\n",
       "       [ 9400,  3921]])"
      ]
     },
     "execution_count": 235,
     "metadata": {
      "tags": []
     },
     "output_type": "execute_result"
    }
   ],
   "source": [
    "confusion_matrix(y_true=y_val, y_pred=y_logistic_pred_random)"
   ]
  },
  {
   "cell_type": "markdown",
   "metadata": {
    "id": "HFiJAAGvx2PB"
   },
   "source": [
    "### **Random Forest**"
   ]
  },
  {
   "cell_type": "markdown",
   "metadata": {
    "id": "8UWSfzrDx2PB"
   },
   "source": [
    "*First approach*"
   ]
  },
  {
   "cell_type": "code",
   "execution_count": null,
   "metadata": {
    "id": "Gsd_39p4x2PB"
   },
   "outputs": [],
   "source": [
    "rf_model = RandomForestClassifier(n_estimators=150,random_state=431,max_depth=6)\n",
    "rf_model.fit(x_train_scaled,y_train)\n",
    "y_rf_pred = rf_model.predict(x_val_scaled)"
   ]
  },
  {
   "cell_type": "code",
   "execution_count": null,
   "metadata": {
    "colab": {
     "base_uri": "https://localhost:8080/"
    },
    "id": "nJU2U4v0x2PC",
    "outputId": "9a7f8722-c2f0-4368-813f-7905d389c707"
   },
   "outputs": [
    {
     "data": {
      "text/plain": [
       "0.592438494934877"
      ]
     },
     "execution_count": 237,
     "metadata": {
      "tags": []
     },
     "output_type": "execute_result"
    }
   ],
   "source": [
    "accuracy_score(y_true=y_val, y_pred=y_rf_pred)"
   ]
  },
  {
   "cell_type": "code",
   "execution_count": null,
   "metadata": {
    "colab": {
     "base_uri": "https://localhost:8080/"
    },
    "id": "3V9p_mGXx2PC",
    "outputId": "4da26d0d-a07d-485e-a9f1-1d33f0005e12"
   },
   "outputs": [
    {
     "name": "stdout",
     "output_type": "stream",
     "text": [
      "              precision    recall  f1-score   support\n",
      "\n",
      "           0       0.67      0.62      0.65     19847\n",
      "           1       0.49      0.55      0.52     13321\n",
      "\n",
      "    accuracy                           0.59     33168\n",
      "   macro avg       0.58      0.59      0.58     33168\n",
      "weighted avg       0.60      0.59      0.60     33168\n",
      "\n"
     ]
    }
   ],
   "source": [
    "print(classification_report(y_true=y_val, y_pred=y_rf_pred))"
   ]
  },
  {
   "cell_type": "code",
   "execution_count": null,
   "metadata": {
    "colab": {
     "base_uri": "https://localhost:8080/"
    },
    "id": "fQ3Bfn9Tx2PC",
    "outputId": "709af35d-c5fc-4884-b454-ab3ff2f6a14d"
   },
   "outputs": [
    {
     "data": {
      "text/plain": [
       "array([[12297,  7550],\n",
       "       [ 5968,  7353]])"
      ]
     },
     "execution_count": 239,
     "metadata": {
      "tags": []
     },
     "output_type": "execute_result"
    }
   ],
   "source": [
    "confusion_matrix(y_true=y_val, y_pred=y_rf_pred)"
   ]
  },
  {
   "cell_type": "markdown",
   "metadata": {
    "id": "TFB9kFokx2PC"
   },
   "source": [
    "*With RandomizedSearchCV*"
   ]
  },
  {
   "cell_type": "code",
   "execution_count": null,
   "metadata": {
    "id": "MOC39-pHx2PC"
   },
   "outputs": [],
   "source": [
    "n_estimators = [100,120,150]\n",
    "criterion = [\"gini\",\"entropy\"]\n",
    "max_depth = list(range(1,7))\n",
    "boot_strap = [True,False]\n",
    "oob_score = [True,False]\n",
    "ccp_values_small = [10**i for i in range(-3, 0)]\n",
    "ccp_values_medium = [0.10 * i for i in range(0,3,4)]\n",
    "ccp_alpha = ccp_values_small + ccp_values_medium + [1,5,10]\n",
    "random_state = [431]\n",
    "\n",
    "random_grid = {\"n_estimators\": n_estimators,\n",
    "               \"criterion\":criterion,\n",
    "               \"max_depth\": max_depth,\n",
    "               \"bootstrap\": boot_strap,\n",
    "               \"oob_score\": oob_score,\n",
    "               \"ccp_alpha\":ccp_alpha,\n",
    "               \"random_state\": random_state\n",
    "               }\n"
   ]
  },
  {
   "cell_type": "code",
   "execution_count": null,
   "metadata": {
    "colab": {
     "base_uri": "https://localhost:8080/"
    },
    "id": "a-t0kcmMx2PC",
    "outputId": "834cb8ad-944a-4016-dec1-06c63e170165"
   },
   "outputs": [
    {
     "data": {
      "text/plain": [
       "RandomizedSearchCV(cv=None, error_score=nan,\n",
       "                   estimator=RandomForestClassifier(bootstrap=True,\n",
       "                                                    ccp_alpha=0.0,\n",
       "                                                    class_weight=None,\n",
       "                                                    criterion='gini',\n",
       "                                                    max_depth=None,\n",
       "                                                    max_features='auto',\n",
       "                                                    max_leaf_nodes=None,\n",
       "                                                    max_samples=None,\n",
       "                                                    min_impurity_decrease=0.0,\n",
       "                                                    min_impurity_split=None,\n",
       "                                                    min_samples_leaf=1,\n",
       "                                                    min_samples_split=2,\n",
       "                                                    min_weight_fraction_leaf=0.0,\n",
       "                                                    n_estimators=100,\n",
       "                                                    n_j...\n",
       "                   iid='deprecated', n_iter=5, n_jobs=None,\n",
       "                   param_distributions={'bootstrap': [True, False],\n",
       "                                        'ccp_alpha': [0.001, 0.01, 0.1, 0.0, 1,\n",
       "                                                      5, 10],\n",
       "                                        'criterion': ['gini', 'entropy'],\n",
       "                                        'max_depth': [1, 2, 3, 4, 5, 6],\n",
       "                                        'n_estimators': [100, 120, 150],\n",
       "                                        'oob_score': [True, False],\n",
       "                                        'random_state': [431]},\n",
       "                   pre_dispatch='2*n_jobs', random_state=None, refit=True,\n",
       "                   return_train_score=False, scoring='accuracy', verbose=0)"
      ]
     },
     "execution_count": 241,
     "metadata": {
      "tags": []
     },
     "output_type": "execute_result"
    }
   ],
   "source": [
    "rf_randomized_model = RandomForestClassifier()\n",
    "rf_randomized = RandomizedSearchCV(estimator=rf_randomized_model, param_distributions=random_grid, n_iter=5, scoring='accuracy')\n",
    "rf_randomized.fit(x_train_scaled, y_train)"
   ]
  },
  {
   "cell_type": "code",
   "execution_count": null,
   "metadata": {
    "colab": {
     "base_uri": "https://localhost:8080/"
    },
    "id": "bDQ7KGuEx2PC",
    "outputId": "bd7381f0-9f92-469a-959d-188d5e91134d"
   },
   "outputs": [
    {
     "data": {
      "text/plain": [
       "{'bootstrap': True,\n",
       " 'ccp_alpha': 0.0,\n",
       " 'criterion': 'entropy',\n",
       " 'max_depth': 4,\n",
       " 'n_estimators': 120,\n",
       " 'oob_score': True,\n",
       " 'random_state': 431}"
      ]
     },
     "execution_count": 242,
     "metadata": {
      "tags": []
     },
     "output_type": "execute_result"
    }
   ],
   "source": [
    "rf_randomized.best_params_"
   ]
  },
  {
   "cell_type": "code",
   "execution_count": null,
   "metadata": {
    "colab": {
     "base_uri": "https://localhost:8080/"
    },
    "id": "vLiWJW_Px2PC",
    "outputId": "f8350213-0229-4e91-fd5d-b425b775b593"
   },
   "outputs": [
    {
     "data": {
      "text/plain": [
       "0.622001959749755"
      ]
     },
     "execution_count": 243,
     "metadata": {
      "tags": []
     },
     "output_type": "execute_result"
    }
   ],
   "source": [
    "rf_randomized.best_score_"
   ]
  },
  {
   "cell_type": "code",
   "execution_count": null,
   "metadata": {
    "id": "756Nn4dnx2PC"
   },
   "outputs": [],
   "source": [
    "y_pred_rf_randomized = rf_randomized.predict(x_val_scaled)"
   ]
  },
  {
   "cell_type": "code",
   "execution_count": null,
   "metadata": {
    "colab": {
     "base_uri": "https://localhost:8080/"
    },
    "id": "0mPIQkRjx2PC",
    "outputId": "4d33404b-1bd3-4e44-b65f-7ab323ec9bc8"
   },
   "outputs": [
    {
     "data": {
      "text/plain": [
       "0.5882778581765558"
      ]
     },
     "execution_count": 245,
     "metadata": {
      "tags": []
     },
     "output_type": "execute_result"
    }
   ],
   "source": [
    "accuracy_score(y_true=y_val, y_pred=y_pred_rf_randomized)"
   ]
  },
  {
   "cell_type": "code",
   "execution_count": null,
   "metadata": {
    "colab": {
     "base_uri": "https://localhost:8080/"
    },
    "id": "0rT9QRWWx2PC",
    "outputId": "c73110ee-bca5-46d8-91b4-6c2ff140e4d2"
   },
   "outputs": [
    {
     "name": "stdout",
     "output_type": "stream",
     "text": [
      "              precision    recall  f1-score   support\n",
      "\n",
      "           0       0.65      0.67      0.66     19847\n",
      "           1       0.49      0.47      0.48     13321\n",
      "\n",
      "    accuracy                           0.59     33168\n",
      "   macro avg       0.57      0.57      0.57     33168\n",
      "weighted avg       0.59      0.59      0.59     33168\n",
      "\n"
     ]
    }
   ],
   "source": [
    "print(classification_report(y_true=y_val, y_pred=y_pred_rf_randomized))"
   ]
  },
  {
   "cell_type": "code",
   "execution_count": null,
   "metadata": {
    "colab": {
     "base_uri": "https://localhost:8080/"
    },
    "id": "LKLszD2Xx2PC",
    "outputId": "a3d4e828-5220-415b-d093-bef9c0242c0d"
   },
   "outputs": [
    {
     "name": "stdout",
     "output_type": "stream",
     "text": [
      "[[13258  6589]\n",
      " [ 7067  6254]]\n"
     ]
    }
   ],
   "source": [
    "print(confusion_matrix(y_true=y_val,y_pred=y_pred_rf_randomized))"
   ]
  },
  {
   "cell_type": "markdown",
   "metadata": {
    "id": "6IVHc9B4x2PC"
   },
   "source": [
    "### **Decision Tree**"
   ]
  },
  {
   "cell_type": "markdown",
   "metadata": {
    "id": "J3DzMgn6x2PC"
   },
   "source": [
    "*First Approach*"
   ]
  },
  {
   "cell_type": "code",
   "execution_count": null,
   "metadata": {
    "id": "XPd58tckx2PC"
   },
   "outputs": [],
   "source": [
    "dt_model = DecisionTreeClassifier()\n",
    "dt_model.fit(x_train_scaled, y_train)\n",
    "y_dt_pred = dt_model.predict(x_val_scaled)"
   ]
  },
  {
   "cell_type": "code",
   "execution_count": null,
   "metadata": {
    "colab": {
     "base_uri": "https://localhost:8080/"
    },
    "id": "AkmB00sLx2PD",
    "outputId": "10c606bf-0db0-40b2-e0e1-e9d5c0480f57"
   },
   "outputs": [
    {
     "data": {
      "text/plain": [
       "0.537837674867342"
      ]
     },
     "execution_count": 249,
     "metadata": {
      "tags": []
     },
     "output_type": "execute_result"
    }
   ],
   "source": [
    "accuracy_score(y_true=y_val, y_pred=y_dt_pred)"
   ]
  },
  {
   "cell_type": "code",
   "execution_count": null,
   "metadata": {
    "colab": {
     "base_uri": "https://localhost:8080/"
    },
    "id": "FkxZx1xlx2PD",
    "outputId": "707269bc-26ac-4443-a28c-1383fa957775"
   },
   "outputs": [
    {
     "name": "stdout",
     "output_type": "stream",
     "text": [
      "              precision    recall  f1-score   support\n",
      "\n",
      "           0       0.63      0.55      0.59     19847\n",
      "           1       0.44      0.52      0.47     13321\n",
      "\n",
      "    accuracy                           0.54     33168\n",
      "   macro avg       0.53      0.53      0.53     33168\n",
      "weighted avg       0.55      0.54      0.54     33168\n",
      "\n"
     ]
    }
   ],
   "source": [
    "print(classification_report(y_true=y_val, y_pred=y_dt_pred))"
   ]
  },
  {
   "cell_type": "code",
   "execution_count": null,
   "metadata": {
    "colab": {
     "base_uri": "https://localhost:8080/"
    },
    "id": "Wvg4VZndx2PD",
    "outputId": "b42b4186-a6a0-470c-8c56-4fc33c27c64b"
   },
   "outputs": [
    {
     "data": {
      "text/plain": [
       "array([[10923,  8924],\n",
       "       [ 6405,  6916]])"
      ]
     },
     "execution_count": 251,
     "metadata": {
      "tags": []
     },
     "output_type": "execute_result"
    }
   ],
   "source": [
    "confusion_matrix(y_true=y_val, y_pred=y_dt_pred)"
   ]
  },
  {
   "cell_type": "markdown",
   "metadata": {
    "id": "3iAGrLrtx2PD"
   },
   "source": [
    "*With RandomizedSearchCV*"
   ]
  },
  {
   "cell_type": "code",
   "execution_count": null,
   "metadata": {
    "id": "SMyeGIbKx2PD"
   },
   "outputs": [],
   "source": [
    "ccp_values_small = [10**i for i in range(-4,-1)]\n",
    "ccp_values_large = [0.10 * i for i in range(1,10)]\n",
    "ccp_vals = ccp_values_small + ccp_values_large + [1,5,10]\n",
    "criteria = ['gini','entropy']\n",
    "max_length = list(range(1,7,1))\n",
    "min_samples_split = list(range(2,7,1))\n",
    "min_samples_leaf = list(range(1,7,1))\n",
    "\n",
    "random_grid_tree = {\"criterion\":criteria,\n",
    "                    \"max_depth\": max_length,\n",
    "                    \"min_samples_split\": min_samples_split,\n",
    "                    \"min_samples_leaf\": min_samples_leaf,\n",
    "                    \"ccp_alpha\": ccp_vals\n",
    "                    }"
   ]
  },
  {
   "cell_type": "code",
   "execution_count": null,
   "metadata": {
    "colab": {
     "base_uri": "https://localhost:8080/"
    },
    "id": "KRdIUnXQx2PD",
    "outputId": "adf884f9-b2c2-4448-d53d-e4ee0ac668ee"
   },
   "outputs": [
    {
     "data": {
      "text/plain": [
       "RandomizedSearchCV(cv=None, error_score=nan,\n",
       "                   estimator=DecisionTreeClassifier(ccp_alpha=0.0,\n",
       "                                                    class_weight=None,\n",
       "                                                    criterion='gini',\n",
       "                                                    max_depth=None,\n",
       "                                                    max_features=None,\n",
       "                                                    max_leaf_nodes=None,\n",
       "                                                    min_impurity_decrease=0.0,\n",
       "                                                    min_impurity_split=None,\n",
       "                                                    min_samples_leaf=1,\n",
       "                                                    min_samples_split=2,\n",
       "                                                    min_weight_fraction_leaf=0.0,\n",
       "                                                    presort='deprecated',\n",
       "                                                    random_state=None,\n",
       "                                                    splitter='best'...\n",
       "                   param_distributions={'ccp_alpha': [0.0001, 0.001, 0.01, 0.1,\n",
       "                                                      0.2, 0.30000000000000004,\n",
       "                                                      0.4, 0.5,\n",
       "                                                      0.6000000000000001,\n",
       "                                                      0.7000000000000001, 0.8,\n",
       "                                                      0.9, 1, 5, 10],\n",
       "                                        'criterion': ['gini', 'entropy'],\n",
       "                                        'max_depth': [1, 2, 3, 4, 5, 6],\n",
       "                                        'min_samples_leaf': [1, 2, 3, 4, 5, 6],\n",
       "                                        'min_samples_split': [2, 3, 4, 5, 6]},\n",
       "                   pre_dispatch='2*n_jobs', random_state=None, refit=True,\n",
       "                   return_train_score=False, scoring='accuracy', verbose=0)"
      ]
     },
     "execution_count": 253,
     "metadata": {
      "tags": []
     },
     "output_type": "execute_result"
    }
   ],
   "source": [
    "decision_tree_model = DecisionTreeClassifier()\n",
    "decision_tree_randomized = RandomizedSearchCV(estimator=decision_tree_model, param_distributions=random_grid_tree, n_iter=10, scoring='accuracy')\n",
    "decision_tree_randomized.fit(x_train_scaled, y_train)"
   ]
  },
  {
   "cell_type": "code",
   "execution_count": null,
   "metadata": {
    "id": "V3l6Tbw7x2PD"
   },
   "outputs": [],
   "source": [
    "y_dt_pred_randomized = decision_tree_randomized.predict(x_val_scaled)"
   ]
  },
  {
   "cell_type": "code",
   "execution_count": null,
   "metadata": {
    "colab": {
     "base_uri": "https://localhost:8080/"
    },
    "id": "goa503HWx2PD",
    "outputId": "d3500989-6f8c-4e9e-9d56-1d21fbf9a159"
   },
   "outputs": [
    {
     "data": {
      "text/plain": [
       "{'ccp_alpha': 0.1,\n",
       " 'criterion': 'gini',\n",
       " 'max_depth': 4,\n",
       " 'min_samples_leaf': 1,\n",
       " 'min_samples_split': 2}"
      ]
     },
     "execution_count": 255,
     "metadata": {
      "tags": []
     },
     "output_type": "execute_result"
    }
   ],
   "source": [
    "decision_tree_randomized.best_params_"
   ]
  },
  {
   "cell_type": "code",
   "execution_count": null,
   "metadata": {
    "colab": {
     "base_uri": "https://localhost:8080/"
    },
    "id": "Q5Ww5oGdx2PD",
    "outputId": "f4f89563-a70b-4a7f-9495-b5a5e0f8267a"
   },
   "outputs": [
    {
     "data": {
      "text/plain": [
       "0.5959448255068969"
      ]
     },
     "execution_count": 256,
     "metadata": {
      "tags": []
     },
     "output_type": "execute_result"
    }
   ],
   "source": [
    "decision_tree_randomized.best_score_"
   ]
  },
  {
   "cell_type": "code",
   "execution_count": null,
   "metadata": {
    "colab": {
     "base_uri": "https://localhost:8080/"
    },
    "id": "5b4rTKAfx2PD",
    "outputId": "1830564e-6dff-4da6-e0c7-52f6ce8521e0"
   },
   "outputs": [
    {
     "data": {
      "text/plain": [
       "0.5983779546550893"
      ]
     },
     "execution_count": 257,
     "metadata": {
      "tags": []
     },
     "output_type": "execute_result"
    }
   ],
   "source": [
    "accuracy_score(y_true=y_val, y_pred=y_dt_pred_randomized)"
   ]
  },
  {
   "cell_type": "code",
   "execution_count": null,
   "metadata": {
    "colab": {
     "base_uri": "https://localhost:8080/"
    },
    "id": "zlNtxT99x2PD",
    "outputId": "514d0da8-e8c9-4ce3-9900-bee3482649e4"
   },
   "outputs": [
    {
     "name": "stdout",
     "output_type": "stream",
     "text": [
      "              precision    recall  f1-score   support\n",
      "\n",
      "           0       0.60      1.00      0.75     19847\n",
      "           1       0.00      0.00      0.00     13321\n",
      "\n",
      "    accuracy                           0.60     33168\n",
      "   macro avg       0.30      0.50      0.37     33168\n",
      "weighted avg       0.36      0.60      0.45     33168\n",
      "\n"
     ]
    }
   ],
   "source": [
    "print(classification_report(y_true=y_val, y_pred=y_dt_pred_randomized))"
   ]
  },
  {
   "cell_type": "code",
   "execution_count": null,
   "metadata": {
    "colab": {
     "base_uri": "https://localhost:8080/"
    },
    "id": "8OZi3I7Cx2PD",
    "outputId": "25b2c373-9e4a-4792-a85a-d4da228d0af1"
   },
   "outputs": [
    {
     "data": {
      "text/plain": [
       "array([[19847,     0],\n",
       "       [13321,     0]])"
      ]
     },
     "execution_count": 259,
     "metadata": {
      "tags": []
     },
     "output_type": "execute_result"
    }
   ],
   "source": [
    "confusion_matrix(y_true=y_val,y_pred=y_dt_pred_randomized)"
   ]
  },
  {
   "cell_type": "markdown",
   "metadata": {
    "id": "qRQr9T8Ox2PD"
   },
   "source": [
    "### SVM"
   ]
  },
  {
   "cell_type": "markdown",
   "metadata": {
    "id": "Gb5KgnvLx2PD"
   },
   "source": [
    "*First approach*"
   ]
  },
  {
   "cell_type": "code",
   "execution_count": null,
   "metadata": {
    "colab": {
     "base_uri": "https://localhost:8080/"
    },
    "id": "f_UJdIMPx2PE",
    "outputId": "acb10af7-f691-4523-ffd3-da17456e80fc"
   },
   "outputs": [
    {
     "data": {
      "text/plain": [
       "SVC(C=0.1, break_ties=False, cache_size=200, class_weight=None, coef0=0.0,\n",
       "    decision_function_shape='ovr', degree=3, gamma='scale', kernel='linear',\n",
       "    max_iter=1000, probability=False, random_state=None, shrinking=True,\n",
       "    tol=0.001, verbose=False)"
      ]
     },
     "execution_count": 260,
     "metadata": {
      "tags": []
     },
     "output_type": "execute_result"
    }
   ],
   "source": [
    "svc_model = SVC(kernel=\"linear\", C=0.1, max_iter=1000)\n",
    "svc_model.fit(x_train_scaled, y_train)"
   ]
  },
  {
   "cell_type": "code",
   "execution_count": null,
   "metadata": {
    "id": "UOHY9er8x2PE"
   },
   "outputs": [],
   "source": [
    "y_svc_pred = svc_model.predict(x_val_scaled)"
   ]
  },
  {
   "cell_type": "code",
   "execution_count": null,
   "metadata": {
    "colab": {
     "base_uri": "https://localhost:8080/"
    },
    "id": "Fn0PO2d2x2PE",
    "outputId": "a09fdd50-c6a5-4341-f0e9-745df06810c5"
   },
   "outputs": [
    {
     "data": {
      "text/plain": [
       "0.5569223347805113"
      ]
     },
     "execution_count": 262,
     "metadata": {
      "tags": []
     },
     "output_type": "execute_result"
    }
   ],
   "source": [
    "accuracy_score(y_true=y_val, y_pred=y_svc_pred)"
   ]
  },
  {
   "cell_type": "code",
   "execution_count": null,
   "metadata": {
    "colab": {
     "base_uri": "https://localhost:8080/"
    },
    "id": "iDOh_orMx2PE",
    "outputId": "24cd47ff-deb0-488e-f6d5-9d596369b01b"
   },
   "outputs": [
    {
     "name": "stdout",
     "output_type": "stream",
     "text": [
      "              precision    recall  f1-score   support\n",
      "\n",
      "           0       0.67      0.51      0.58     19847\n",
      "           1       0.46      0.63      0.53     13321\n",
      "\n",
      "    accuracy                           0.56     33168\n",
      "   macro avg       0.57      0.57      0.56     33168\n",
      "weighted avg       0.59      0.56      0.56     33168\n",
      "\n"
     ]
    }
   ],
   "source": [
    "print(classification_report(y_true=y_val, y_pred=y_svc_pred))"
   ]
  },
  {
   "cell_type": "code",
   "execution_count": null,
   "metadata": {
    "colab": {
     "base_uri": "https://localhost:8080/"
    },
    "id": "ryEYNRTyx2PE",
    "outputId": "4e65a1b2-9b39-47d0-b944-e02ed7927f6e"
   },
   "outputs": [
    {
     "data": {
      "text/plain": [
       "array([[10095,  9752],\n",
       "       [ 4944,  8377]])"
      ]
     },
     "execution_count": 264,
     "metadata": {
      "tags": []
     },
     "output_type": "execute_result"
    }
   ],
   "source": [
    "confusion_matrix(y_true=y_val, y_pred=y_svc_pred)"
   ]
  },
  {
   "cell_type": "markdown",
   "metadata": {
    "id": "nOLRqKZ-x2PE"
   },
   "source": [
    "*Second approach*"
   ]
  },
  {
   "cell_type": "code",
   "execution_count": null,
   "metadata": {
    "colab": {
     "base_uri": "https://localhost:8080/"
    },
    "id": "X8pDFqjlx2PE",
    "outputId": "f05358f6-f6c2-49b3-f99b-85a2885635ba"
   },
   "outputs": [
    {
     "data": {
      "text/plain": [
       "SVC(C=0.1, break_ties=False, cache_size=200, class_weight=None, coef0=0.0,\n",
       "    decision_function_shape='ovr', degree=3, gamma='scale', kernel='rbf',\n",
       "    max_iter=1000, probability=False, random_state=None, shrinking=True,\n",
       "    tol=0.001, verbose=False)"
      ]
     },
     "execution_count": 265,
     "metadata": {
      "tags": []
     },
     "output_type": "execute_result"
    }
   ],
   "source": [
    "svc_model = SVC(kernel=\"rbf\", C=0.1, max_iter=1000)\n",
    "svc_model.fit(x_train_scaled, y_train)"
   ]
  },
  {
   "cell_type": "code",
   "execution_count": null,
   "metadata": {
    "id": "huICD48lx2PE"
   },
   "outputs": [],
   "source": [
    "y_svc_pred = svc_model.predict(x_val_scaled)"
   ]
  },
  {
   "cell_type": "code",
   "execution_count": null,
   "metadata": {
    "colab": {
     "base_uri": "https://localhost:8080/"
    },
    "id": "MZaU4w-Mx2PE",
    "outputId": "00f195cd-bc0d-4cdb-d8c3-9d9577c00361"
   },
   "outputs": [
    {
     "data": {
      "text/plain": [
       "0.4695188133140376"
      ]
     },
     "execution_count": 267,
     "metadata": {
      "tags": []
     },
     "output_type": "execute_result"
    }
   ],
   "source": [
    "accuracy_score(y_true=y_val, y_pred=y_svc_pred)"
   ]
  },
  {
   "cell_type": "code",
   "execution_count": null,
   "metadata": {
    "colab": {
     "base_uri": "https://localhost:8080/"
    },
    "id": "HhuCit0Ux2PE",
    "outputId": "5d7d4ee1-a956-414b-ebcc-56b36c0f79b7"
   },
   "outputs": [
    {
     "name": "stdout",
     "output_type": "stream",
     "text": [
      "              precision    recall  f1-score   support\n",
      "\n",
      "           0       0.64      0.25      0.36     19847\n",
      "           1       0.42      0.79      0.55     13321\n",
      "\n",
      "    accuracy                           0.47     33168\n",
      "   macro avg       0.53      0.52      0.45     33168\n",
      "weighted avg       0.55      0.47      0.44     33168\n",
      "\n"
     ]
    }
   ],
   "source": [
    "print(classification_report(y_true=y_val, y_pred=y_svc_pred))"
   ]
  },
  {
   "cell_type": "code",
   "execution_count": null,
   "metadata": {
    "colab": {
     "base_uri": "https://localhost:8080/"
    },
    "id": "47KSUly-x2PE",
    "outputId": "86a89a95-2958-4bf7-bc9e-6cc521dd4dfa"
   },
   "outputs": [
    {
     "data": {
      "text/plain": [
       "array([[ 5029, 14818],\n",
       "       [ 2777, 10544]])"
      ]
     },
     "execution_count": 269,
     "metadata": {
      "tags": []
     },
     "output_type": "execute_result"
    }
   ],
   "source": [
    "confusion_matrix(y_true=y_val, y_pred=y_svc_pred)"
   ]
  },
  {
   "cell_type": "markdown",
   "metadata": {
    "id": "mBcD5cH3fbzW"
   },
   "source": [
    "# Conclusiones"
   ]
  },
  {
   "cell_type": "markdown",
   "metadata": {
    "id": "zFyhfzjXetb9"
   },
   "source": [
    "* La base de datos no provee datos suficientes para modelar un método de aprendizaje automático suficientemente válido.\n",
    "* Resultan muchos falsos negativos.\n",
    "* Hicimos un segundo approach usando 3 features en lugar de 247: campaign_length, usd_goal_real y in_US, pero obtuvimos un valor ajustado de R2 de 0.059, por lo que las variables más significativas tienen poca correlación con la variable de salida.\n",
    "* Se compararon los resultados obtenidos con los publicados por dos usuarios de Kaggle (mkucz95 y gagejustins) con el mismo dataset. Las exactitudes obtenidas por estos usuarios son de 67% y 68%, muy similares a los nuestra (68%). \n",
    "Posibles mejoras: balancear las clases en los sets de entrenamiento, validación y prueba. \n"
   ]
  },
  {
   "cell_type": "code",
   "execution_count": null,
   "metadata": {
    "id": "HoHuUyIeiuS9"
   },
   "outputs": [],
   "source": []
  }
 ],
 "metadata": {
  "accelerator": "GPU",
  "colab": {
   "collapsed_sections": [],
   "name": "ProyectoFinal_Kickstarter_2.ipynb",
   "provenance": [],
   "toc_visible": true
  },
  "kernelspec": {
   "display_name": "Python 3",
   "language": "python",
   "name": "python3"
  },
  "language_info": {
   "codemirror_mode": {
    "name": "ipython",
    "version": 3
   },
   "file_extension": ".py",
   "mimetype": "text/x-python",
   "name": "python",
   "nbconvert_exporter": "python",
   "pygments_lexer": "ipython3",
   "version": "3.8.5"
  }
 },
 "nbformat": 4,
 "nbformat_minor": 1
}
