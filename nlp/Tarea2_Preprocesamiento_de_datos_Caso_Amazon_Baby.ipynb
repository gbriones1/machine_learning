{
 "cells": [
  {
   "cell_type": "markdown",
   "metadata": {
    "id": "-XYSZHtwhZhD"
   },
   "source": [
    "## Tópicos de IA\n",
    "## Tarea 1: Expresiones Regulares\n",
    "### ITESM Campus Guadalajara\n",
    "### Escuela de Posgrados de Ingeniería y Ciencias\n",
    "### Maestría en Ciencias de la Computación\n",
    "Elisa Fernández Castillo A01221781\n",
    "Gabriel Briones Sayeg A01222517"
   ]
  },
  {
   "cell_type": "markdown",
   "metadata": {
    "id": "3PGxofN70i7z"
   },
   "source": [
    "**1. A partir del archivo “amazon_baby.csv” que se encuentra en Canvas resuelve los siguientes incisos:\n",
    "a. Llamemos a los comentarios de la columna “review”, review01. Realiza un limpiado de los\n",
    "comentarios review01 usando únicamente expresiones regulares. Aplica las expresiones\n",
    "regulares que consideres adecuado para obtener un texto que posteriormente será utilizado\n",
    "como entrada de una red neuronal para clasificar su sentimiento.**"
   ]
  },
  {
   "cell_type": "code",
   "execution_count": null,
   "metadata": {
    "colab": {
     "base_uri": "https://localhost:8080/"
    },
    "id": "WeXlgl-3hJPi",
    "outputId": "894e5d0e-e85f-4f09-9783-5cbcacc3b77f"
   },
   "outputs": [
    {
     "name": "stdout",
     "output_type": "stream",
     "text": [
      "Drive already mounted at /content/drive; to attempt to forcibly remount, call drive.mount(\"/content/drive\", force_remount=True).\n"
     ]
    }
   ],
   "source": [
    "from google.colab import drive\n",
    "drive.mount('/content/drive')"
   ]
  },
  {
   "cell_type": "code",
   "execution_count": null,
   "metadata": {
    "colab": {
     "base_uri": "https://localhost:8080/"
    },
    "id": "tvpkScW-3K0H",
    "outputId": "c76e1dad-567b-448e-bce4-337269e8fc0e"
   },
   "outputs": [
    {
     "name": "stdout",
     "output_type": "stream",
     "text": [
      "/content/drive/My Drive/DeepLearning2/Tarea2\n"
     ]
    }
   ],
   "source": [
    "%cd drive/My Drive/DeepLearning2/Tarea2/"
   ]
  },
  {
   "cell_type": "code",
   "execution_count": null,
   "metadata": {
    "colab": {
     "base_uri": "https://localhost:8080/"
    },
    "id": "TD4lCoOs4BO3",
    "outputId": "897010e5-a4e4-4f3e-b23a-20b49d8cb24d"
   },
   "outputs": [
    {
     "name": "stdout",
     "output_type": "stream",
     "text": [
      "[nltk_data] Downloading package wordnet to /root/nltk_data...\n",
      "[nltk_data]   Package wordnet is already up-to-date!\n",
      "[nltk_data] Downloading package stopwords to /root/nltk_data...\n",
      "[nltk_data]   Package stopwords is already up-to-date!\n"
     ]
    }
   ],
   "source": [
    "import os\n",
    "import re\n",
    "import pandas as pd\n",
    "\n",
    "# Stemming and Lemmatizers\n",
    "import nltk\n",
    "from nltk.corpus import stopwords\n",
    "from nltk.stem import PorterStemmer, LancasterStemmer, RegexpStemmer, SnowballStemmer, WordNetLemmatizer\n",
    "nltk.download('wordnet')\n",
    "nltk.download('stopwords')\n",
    "\n",
    "# Keras\n",
    "from keras.preprocessing.text import Tokenizer\n"
   ]
  },
  {
   "cell_type": "code",
   "execution_count": null,
   "metadata": {
    "colab": {
     "base_uri": "https://localhost:8080/"
    },
    "id": "dOD3nCvI3Y-n",
    "outputId": "817bd98c-2014-497f-e78e-042448eb400b"
   },
   "outputs": [
    {
     "name": "stdout",
     "output_type": "stream",
     "text": [
      "['amazon_baby.csv']\n"
     ]
    }
   ],
   "source": [
    "print(os.listdir())\n"
   ]
  },
  {
   "cell_type": "code",
   "execution_count": null,
   "metadata": {
    "colab": {
     "base_uri": "https://localhost:8080/"
    },
    "id": "Tf6eC3734LDP",
    "outputId": "92311571-58a6-4df6-f551-330ebe038172"
   },
   "outputs": [
    {
     "name": "stdout",
     "output_type": "stream",
     "text": [
      "(183531, 3)\n"
     ]
    }
   ],
   "source": [
    "data = pd.read_csv(\"amazon_baby.csv\")\n",
    "print(data.shape)"
   ]
  },
  {
   "cell_type": "code",
   "execution_count": null,
   "metadata": {
    "colab": {
     "base_uri": "https://localhost:8080/",
     "height": 204
    },
    "id": "_RrkM5bj4UW-",
    "outputId": "89250a08-562c-4e10-b8b7-f7ca79ca3d95"
   },
   "outputs": [
    {
     "data": {
      "text/html": [
       "<div>\n",
       "<style scoped>\n",
       "    .dataframe tbody tr th:only-of-type {\n",
       "        vertical-align: middle;\n",
       "    }\n",
       "\n",
       "    .dataframe tbody tr th {\n",
       "        vertical-align: top;\n",
       "    }\n",
       "\n",
       "    .dataframe thead th {\n",
       "        text-align: right;\n",
       "    }\n",
       "</style>\n",
       "<table border=\"1\" class=\"dataframe\">\n",
       "  <thead>\n",
       "    <tr style=\"text-align: right;\">\n",
       "      <th></th>\n",
       "      <th>name</th>\n",
       "      <th>review</th>\n",
       "      <th>rating</th>\n",
       "    </tr>\n",
       "  </thead>\n",
       "  <tbody>\n",
       "    <tr>\n",
       "      <th>0</th>\n",
       "      <td>Planetwise Flannel Wipes</td>\n",
       "      <td>These flannel wipes are OK, but in my opinion ...</td>\n",
       "      <td>3</td>\n",
       "    </tr>\n",
       "    <tr>\n",
       "      <th>1</th>\n",
       "      <td>Planetwise Wipe Pouch</td>\n",
       "      <td>it came early and was not disappointed. i love...</td>\n",
       "      <td>5</td>\n",
       "    </tr>\n",
       "    <tr>\n",
       "      <th>2</th>\n",
       "      <td>Annas Dream Full Quilt with 2 Shams</td>\n",
       "      <td>Very soft and comfortable and warmer than it l...</td>\n",
       "      <td>5</td>\n",
       "    </tr>\n",
       "    <tr>\n",
       "      <th>3</th>\n",
       "      <td>Stop Pacifier Sucking without tears with Thumb...</td>\n",
       "      <td>This is a product well worth the purchase.  I ...</td>\n",
       "      <td>5</td>\n",
       "    </tr>\n",
       "    <tr>\n",
       "      <th>4</th>\n",
       "      <td>Stop Pacifier Sucking without tears with Thumb...</td>\n",
       "      <td>All of my kids have cried non-stop when I trie...</td>\n",
       "      <td>5</td>\n",
       "    </tr>\n",
       "  </tbody>\n",
       "</table>\n",
       "</div>"
      ],
      "text/plain": [
       "                                                name  ... rating\n",
       "0                           Planetwise Flannel Wipes  ...      3\n",
       "1                              Planetwise Wipe Pouch  ...      5\n",
       "2                Annas Dream Full Quilt with 2 Shams  ...      5\n",
       "3  Stop Pacifier Sucking without tears with Thumb...  ...      5\n",
       "4  Stop Pacifier Sucking without tears with Thumb...  ...      5\n",
       "\n",
       "[5 rows x 3 columns]"
      ]
     },
     "execution_count": 6,
     "metadata": {
      "tags": []
     },
     "output_type": "execute_result"
    }
   ],
   "source": [
    "data.head()"
   ]
  },
  {
   "cell_type": "code",
   "execution_count": null,
   "metadata": {
    "id": "7Jdwj4xK56v2"
   },
   "outputs": [],
   "source": [
    "def cleaning_reviews(sentence):\n",
    "  # print(sentence)\n",
    "  # print(type(sentence))\n",
    "  # print(dir(sentence))\n",
    "  words = sentence.split()\n",
    "  return \" \".join([w.lower() if w.isalnum() else re.sub(\"[^A-Za-z]+\",' ',w.lower()) for w in words ])\n",
    "  "
   ]
  },
  {
   "cell_type": "code",
   "execution_count": null,
   "metadata": {
    "colab": {
     "base_uri": "https://localhost:8080/"
    },
    "id": "jiXanHhaA9-h",
    "outputId": "e99524c3-6f53-4586-dee5-4fcfb9ec6de2"
   },
   "outputs": [
    {
     "data": {
      "text/plain": [
       "review    829\n",
       "rating      0\n",
       "dtype: int64"
      ]
     },
     "execution_count": 8,
     "metadata": {
      "tags": []
     },
     "output_type": "execute_result"
    }
   ],
   "source": [
    "# Revisar si hay valores nulos\n",
    "data = data.drop(columns=[\"name\"])\n",
    "data.isnull().sum()"
   ]
  },
  {
   "cell_type": "code",
   "execution_count": null,
   "metadata": {
    "id": "M9LofAMjBWSs"
   },
   "outputs": [],
   "source": [
    "# Debido a que hay varias filas sin un review, se decidió eliminar estas filas en el pandas dataframe puesto que sin review no se podrá hacer un análisis de setimientos \n",
    "data = data.dropna()"
   ]
  },
  {
   "cell_type": "code",
   "execution_count": null,
   "metadata": {
    "colab": {
     "base_uri": "https://localhost:8080/"
    },
    "id": "7Z6GWlBCC8tn",
    "outputId": "60144f53-1d0a-4d21-c52c-4886412b9cf0"
   },
   "outputs": [
    {
     "data": {
      "text/plain": [
       "review    0\n",
       "rating    0\n",
       "dtype: int64"
      ]
     },
     "execution_count": 10,
     "metadata": {
      "tags": []
     },
     "output_type": "execute_result"
    }
   ],
   "source": [
    "data.isnull().sum()"
   ]
  },
  {
   "cell_type": "code",
   "execution_count": null,
   "metadata": {
    "colab": {
     "base_uri": "https://localhost:8080/"
    },
    "id": "lL6H0YjGDF99",
    "outputId": "e22dcfd9-df33-4f5b-f436-4bcef8bb2b30"
   },
   "outputs": [
    {
     "data": {
      "text/plain": [
       "(182702, 2)"
      ]
     },
     "execution_count": 11,
     "metadata": {
      "tags": []
     },
     "output_type": "execute_result"
    }
   ],
   "source": [
    "# Se eliminaron en total 1147 filas del pandas dataframe que contenían algún valor nulo\n",
    "data.shape"
   ]
  },
  {
   "cell_type": "code",
   "execution_count": null,
   "metadata": {
    "id": "tA09LOx-8lh4"
   },
   "outputs": [],
   "source": [
    "data['review01'] = data['review'].apply(cleaning_reviews)"
   ]
  },
  {
   "cell_type": "code",
   "execution_count": null,
   "metadata": {
    "colab": {
     "base_uri": "https://localhost:8080/",
     "height": 69
    },
    "id": "O8zZYmXR9gvu",
    "outputId": "4fb7a19f-512d-460d-95e1-588c62320e49"
   },
   "outputs": [
    {
     "data": {
      "application/vnd.google.colaboratory.intrinsic+json": {
       "type": "string"
      },
      "text/plain": [
       "'these flannel wipes are ok  but in my opinion not worth keeping  i also ordered someimse vimse cloth wipes ocean blue  countwhich are larger  had a nicer  softer texture and just seemed higher quality  i use cloth wipes for hands and faces and have been usingthirsties 6 pack fab wipes  boyfor about 8 months now and need to replace them because they are starting to get rough and have had stink issues for a while that stripping no longer handles '"
      ]
     },
     "execution_count": 13,
     "metadata": {
      "tags": []
     },
     "output_type": "execute_result"
    }
   ],
   "source": [
    "data['review01'][0]"
   ]
  },
  {
   "cell_type": "code",
   "execution_count": null,
   "metadata": {
    "colab": {
     "base_uri": "https://localhost:8080/",
     "height": 35
    },
    "id": "K7N861v39sS9",
    "outputId": "c5fa4b75-71fb-4e47-fa5f-a11770b6e987"
   },
   "outputs": [
    {
     "data": {
      "application/vnd.google.colaboratory.intrinsic+json": {
       "type": "string"
      },
      "text/plain": [
       "'very soft and comfortable and warmer than it looks fit the full size bed perfectly would recommend to anyone looking for this type of quilt'"
      ]
     },
     "execution_count": 14,
     "metadata": {
      "tags": []
     },
     "output_type": "execute_result"
    }
   ],
   "source": [
    "data['review01'][2]"
   ]
  },
  {
   "cell_type": "code",
   "execution_count": null,
   "metadata": {
    "colab": {
     "base_uri": "https://localhost:8080/",
     "height": 35
    },
    "id": "nmlHE--rQ6oC",
    "outputId": "94252abe-1a28-4aa1-9c66-780c12bc5a1d"
   },
   "outputs": [
    {
     "data": {
      "application/vnd.google.colaboratory.intrinsic+json": {
       "type": "string"
      },
      "text/plain": [
       "'one of baby s first and favorite books  and it is washable  i gave 1 less star than perfect because i d like to see some diversity in the people   not just your typical white family  '"
      ]
     },
     "execution_count": 15,
     "metadata": {
      "tags": []
     },
     "output_type": "execute_result"
    }
   ],
   "source": [
    "data['review01'][28]"
   ]
  },
  {
   "cell_type": "code",
   "execution_count": null,
   "metadata": {
    "colab": {
     "base_uri": "https://localhost:8080/"
    },
    "id": "kJEUZcW0R7NT",
    "outputId": "41ba9f62-a2c4-4f6f-f599-a3e8156d7f63"
   },
   "outputs": [
    {
     "data": {
      "text/plain": [
       "['one',\n",
       " 'of',\n",
       " 'baby',\n",
       " 's',\n",
       " 'first',\n",
       " 'and',\n",
       " 'favorite',\n",
       " 'books',\n",
       " 'and',\n",
       " 'it',\n",
       " 'is',\n",
       " 'washable',\n",
       " 'i',\n",
       " 'gave',\n",
       " '1',\n",
       " 'less',\n",
       " 'star',\n",
       " 'than',\n",
       " 'perfect',\n",
       " 'because',\n",
       " 'i',\n",
       " 'd',\n",
       " 'like',\n",
       " 'to',\n",
       " 'see',\n",
       " 'some',\n",
       " 'diversity',\n",
       " 'in',\n",
       " 'the',\n",
       " 'people',\n",
       " 'not',\n",
       " 'just',\n",
       " 'your',\n",
       " 'typical',\n",
       " 'white',\n",
       " 'family']"
      ]
     },
     "execution_count": 16,
     "metadata": {
      "tags": []
     },
     "output_type": "execute_result"
    }
   ],
   "source": [
    "data['review01'][28].split()"
   ]
  },
  {
   "cell_type": "code",
   "execution_count": null,
   "metadata": {
    "colab": {
     "base_uri": "https://localhost:8080/",
     "height": 52
    },
    "id": "QrUdboSJSF3C",
    "outputId": "77e0cd31-d8e5-44ae-c400-a630d89c0a0f"
   },
   "outputs": [
    {
     "data": {
      "application/vnd.google.colaboratory.intrinsic+json": {
       "type": "string"
      },
      "text/plain": [
       "'it is so hard to find cloth books with actual images on them  so many have unrealistic portrayals of what animals objects look like  but this one is fantastic  exactly what we were looking for when we teach our 1 year old what a  lion  is  we want to show him a real lion  not a drawing that looks nothing like a real lion '"
      ]
     },
     "execution_count": 17,
     "metadata": {
      "tags": []
     },
     "output_type": "execute_result"
    }
   ],
   "source": [
    "data['review01'][51]"
   ]
  },
  {
   "cell_type": "code",
   "execution_count": null,
   "metadata": {
    "colab": {
     "base_uri": "https://localhost:8080/"
    },
    "id": "Uqi4hzXlTFpy",
    "outputId": "9f750026-0336-4d3e-9eb3-06c69d1c060f"
   },
   "outputs": [
    {
     "data": {
      "text/plain": [
       "['it',\n",
       " 'is',\n",
       " 'so',\n",
       " 'hard',\n",
       " 'to',\n",
       " 'find',\n",
       " 'cloth',\n",
       " 'books',\n",
       " 'with',\n",
       " 'actual',\n",
       " 'images',\n",
       " 'on',\n",
       " 'them',\n",
       " 'so',\n",
       " 'many',\n",
       " 'have',\n",
       " 'unrealistic',\n",
       " 'portrayals',\n",
       " 'of',\n",
       " 'what',\n",
       " 'animals',\n",
       " 'objects',\n",
       " 'look',\n",
       " 'like',\n",
       " 'but',\n",
       " 'this',\n",
       " 'one',\n",
       " 'is',\n",
       " 'fantastic',\n",
       " 'exactly',\n",
       " 'what',\n",
       " 'we',\n",
       " 'were',\n",
       " 'looking',\n",
       " 'for',\n",
       " 'when',\n",
       " 'we',\n",
       " 'teach',\n",
       " 'our',\n",
       " '1',\n",
       " 'year',\n",
       " 'old',\n",
       " 'what',\n",
       " 'a',\n",
       " 'lion',\n",
       " 'is',\n",
       " 'we',\n",
       " 'want',\n",
       " 'to',\n",
       " 'show',\n",
       " 'him',\n",
       " 'a',\n",
       " 'real',\n",
       " 'lion',\n",
       " 'not',\n",
       " 'a',\n",
       " 'drawing',\n",
       " 'that',\n",
       " 'looks',\n",
       " 'nothing',\n",
       " 'like',\n",
       " 'a',\n",
       " 'real',\n",
       " 'lion']"
      ]
     },
     "execution_count": 18,
     "metadata": {
      "tags": []
     },
     "output_type": "execute_result"
    }
   ],
   "source": [
    "data['review01'][51].split()"
   ]
  },
  {
   "cell_type": "markdown",
   "metadata": {
    "id": "RscU1GtU0as4"
   },
   "source": [
    "**b. Aplica los algoritmos de stemming vistos en clase al primer comentario que se tiene en\n",
    "review01 (es decir, solo utiliza el comentario que inicia “These flannel wipes are OK…”) y\n",
    "elije el que consideres el mejor resultado por simple inspección visual.**"
   ]
  },
  {
   "cell_type": "code",
   "execution_count": null,
   "metadata": {
    "id": "A2RCDMcZTRv5"
   },
   "outputs": [],
   "source": [
    "first_comment = data['review01'][0]"
   ]
  },
  {
   "cell_type": "code",
   "execution_count": null,
   "metadata": {
    "colab": {
     "base_uri": "https://localhost:8080/",
     "height": 69
    },
    "id": "gnHQ-gG61me1",
    "outputId": "7fbe4481-631f-4d07-d2d8-f94219b79920"
   },
   "outputs": [
    {
     "data": {
      "application/vnd.google.colaboratory.intrinsic+json": {
       "type": "string"
      },
      "text/plain": [
       "'these flannel wipes are ok  but in my opinion not worth keeping  i also ordered someimse vimse cloth wipes ocean blue  countwhich are larger  had a nicer  softer texture and just seemed higher quality  i use cloth wipes for hands and faces and have been usingthirsties 6 pack fab wipes  boyfor about 8 months now and need to replace them because they are starting to get rough and have had stink issues for a while that stripping no longer handles '"
      ]
     },
     "execution_count": 20,
     "metadata": {
      "tags": []
     },
     "output_type": "execute_result"
    }
   ],
   "source": [
    "first_comment"
   ]
  },
  {
   "cell_type": "code",
   "execution_count": null,
   "metadata": {
    "colab": {
     "base_uri": "https://localhost:8080/",
     "height": 52
    },
    "id": "vx2tGAOF2Cr8",
    "outputId": "f4048d9a-c3b8-423b-d1e9-38f4a87ff850"
   },
   "outputs": [
    {
     "data": {
      "application/vnd.google.colaboratory.intrinsic+json": {
       "type": "string"
      },
      "text/plain": [
       "'these flannel wipe are ok but in my opinion not worth keep i also order someims vims cloth wipe ocean blue countwhich are larger had a nicer softer textur and just seem higher qualiti i use cloth wipe for hand and face and have been usingthirsti 6 pack fab wipe boyfor about 8 month now and need to replac them becaus they are start to get rough and have had stink issu for a while that strip no longer handl'"
      ]
     },
     "execution_count": 21,
     "metadata": {
      "tags": []
     },
     "output_type": "execute_result"
    }
   ],
   "source": [
    "porter_stem = PorterStemmer()\n",
    "\" \".join([porter_stem.stem(w) for w in first_comment.split()])"
   ]
  },
  {
   "cell_type": "code",
   "execution_count": null,
   "metadata": {
    "colab": {
     "base_uri": "https://localhost:8080/",
     "height": 52
    },
    "id": "kgciYNH54Hm6",
    "outputId": "e5632d9e-f0a5-4c91-9869-c72360659dd8"
   },
   "outputs": [
    {
     "data": {
      "application/vnd.google.colaboratory.intrinsic+json": {
       "type": "string"
      },
      "text/plain": [
       "'thes flannel wip ar ok but in my opin not wor keep i also ord someims vims clo wip oc blu countwhich ar larg had a nic soft text and just seem high qual i us clo wip for hand and fac and hav been usingthirsty 6 pack fab wip boyf about 8 month now and nee to replac them becaus they ar start to get rough and hav had stink issu for a whil that stripping no long handl'"
      ]
     },
     "execution_count": 22,
     "metadata": {
      "tags": []
     },
     "output_type": "execute_result"
    }
   ],
   "source": [
    "# Lancaster Stemmer afectó mucho el sentido de las palabras\n",
    "lancaster_stem = LancasterStemmer()\n",
    "\" \".join([lancaster_stem.stem(w) for w in first_comment.split()])"
   ]
  },
  {
   "cell_type": "code",
   "execution_count": null,
   "metadata": {
    "colab": {
     "base_uri": "https://localhost:8080/",
     "height": 52
    },
    "id": "Mf545Jfx5fqL",
    "outputId": "51130183-02f0-43e0-a4d4-4ed5a1355f67"
   },
   "outputs": [
    {
     "data": {
      "application/vnd.google.colaboratory.intrinsic+json": {
       "type": "string"
      },
      "text/plain": [
       "'these flannel wipe are ok but in my opinion not worth keep i also order someimse vimse cloth wipe ocean blue countwhich are larger had a nicer softer texture and just seem higher quality i use cloth wipe for hand and face and have been usingthirstie 6 pack fab wipe boyfor about 8 month now and need to replace them because they are start to get rough and have had stink issue for a while that stripp no longer handle'"
      ]
     },
     "execution_count": 23,
     "metadata": {
      "tags": []
     },
     "output_type": "execute_result"
    }
   ],
   "source": [
    "regex_stem = RegexpStemmer('ing$|ed$|s$',min=5)\n",
    "\" \".join([regex_stem.stem(w) for w in first_comment.split()])"
   ]
  },
  {
   "cell_type": "code",
   "execution_count": null,
   "metadata": {
    "colab": {
     "base_uri": "https://localhost:8080/",
     "height": 52
    },
    "id": "Ghwj5BsA7LUD",
    "outputId": "d83cbea6-e752-40a4-f020-566d95e849d1"
   },
   "outputs": [
    {
     "data": {
      "application/vnd.google.colaboratory.intrinsic+json": {
       "type": "string"
      },
      "text/plain": [
       "'these flannel wipe are ok but in my opinion not worth keep i also order someims vims cloth wipe ocean blue countwhich are larger had a nicer softer textur and just seem higher qualiti i use cloth wipe for hand and face and have been usingthirsti 6 pack fab wipe boyfor about 8 month now and need to replac them becaus they are start to get rough and have had stink issu for a while that strip no longer handl'"
      ]
     },
     "execution_count": 24,
     "metadata": {
      "tags": []
     },
     "output_type": "execute_result"
    }
   ],
   "source": [
    "snowball_stem = SnowballStemmer('english')\n",
    "\" \".join([snowball_stem.stem(w) for w in first_comment.split()])"
   ]
  },
  {
   "cell_type": "markdown",
   "metadata": {
    "id": "34FWci2Y9MEF"
   },
   "source": [
    "LancasterStemmer simplifica demasiado las palabras, podemos encontrar que se pueden confundir o encontrar ambiguedades con las palabras \"us\" que viene de \"use\", \"text\" que viene de \"texture\" o \"wor\" que viene de \"worth\"\n",
    "\n",
    "RegexStemmer es muy basico y puede que separe semanticamente palabras que pueden significar lo mismo, como \"quality\" o \"issue\" que pueden ser muy importantes para el contexto de los reviews.\n",
    "\n",
    "PorterStemmer seria un caso intermedio donde no es tan basico como RegexStemmer ni tan generalizador como LancasterStemmer.\n",
    "\n",
    "SnowballStemmer dio el mismo resultado que PorterStemmer."
   ]
  },
  {
   "cell_type": "markdown",
   "metadata": {
    "id": "lH1XpARx-W-N"
   },
   "source": [
    "**c. Aplica ahora los algoritmos de lemmatization vistos en clase al mismo primer comentario\n",
    "original de review01. Por simple inspección, ¿cuál crees que simplifica mejor el contenido\n",
    "del mensaje sin perder su sentido original?**"
   ]
  },
  {
   "cell_type": "code",
   "execution_count": null,
   "metadata": {
    "colab": {
     "base_uri": "https://localhost:8080/",
     "height": 52
    },
    "id": "pmzNf-tI8Pm8",
    "outputId": "4819571d-1166-4baa-bcf8-43e481c4514a"
   },
   "outputs": [
    {
     "data": {
      "application/vnd.google.colaboratory.intrinsic+json": {
       "type": "string"
      },
      "text/plain": [
       "'these flannel wipe be ok but in my opinion not worth keep i also order someimse vimse cloth wipe ocean blue countwhich be larger have a nicer softer texture and just seem higher quality i use cloth wipe for hand and face and have be usingthirsties 6 pack fab wipe boyfor about 8 months now and need to replace them because they be start to get rough and have have stink issue for a while that strip no longer handle'"
      ]
     },
     "execution_count": 25,
     "metadata": {
      "tags": []
     },
     "output_type": "execute_result"
    }
   ],
   "source": [
    "wnl = WordNetLemmatizer()\n",
    "\" \".join([wnl.lemmatize(w,pos='v') for w in first_comment.split()])"
   ]
  },
  {
   "cell_type": "code",
   "execution_count": null,
   "metadata": {
    "colab": {
     "base_uri": "https://localhost:8080/",
     "height": 69
    },
    "id": "F6Nd3arlAg-a",
    "outputId": "e322167e-43bd-4f40-dc48-870e66583522"
   },
   "outputs": [
    {
     "data": {
      "application/vnd.google.colaboratory.intrinsic+json": {
       "type": "string"
      },
      "text/plain": [
       "'these flannel wipe are ok but in my opinion not worth keeping i also ordered someimse vimse cloth wipe ocean blue countwhich are larger had a nicer softer texture and just seemed higher quality i use cloth wipe for hand and face and have been usingthirsties 6 pack fab wipe boyfor about 8 month now and need to replace them because they are starting to get rough and have had stink issue for a while that stripping no longer handle'"
      ]
     },
     "execution_count": 26,
     "metadata": {
      "tags": []
     },
     "output_type": "execute_result"
    }
   ],
   "source": [
    "\" \".join([wnl.lemmatize(w,pos='n') for w in first_comment.split()])"
   ]
  },
  {
   "cell_type": "markdown",
   "metadata": {
    "id": "dF8H4dbcCHJe"
   },
   "source": [
    "La lematizacion de los verbos ayudo a simplificar el contenido del review. Por otro lado, la lematizacion de los sustantivos no genero ningun cambio para el primer review."
   ]
  },
  {
   "cell_type": "markdown",
   "metadata": {
    "id": "4Vf661c_CeS0"
   },
   "source": [
    "**d. Combina los resultados de los primeros dos incisos para procesar los datos y obtener una\n",
    "limpieza de los comentarios.**"
   ]
  },
  {
   "cell_type": "code",
   "execution_count": null,
   "metadata": {
    "id": "gtHcXk7MBNGL"
   },
   "outputs": [],
   "source": [
    "# def lemmatizing(sentence):\n",
    "#   words = sentence.split()\n",
    "#   return \" \".join([wnl.lemmatize(w,pos='v') for w in words])\n",
    "\n",
    "def lemm_stemm(sentence):\n",
    "  return \" \".join([porter_stem.stem(wnl.lemmatize(w, pos='v')) for w in sentence.split()])"
   ]
  },
  {
   "cell_type": "code",
   "execution_count": null,
   "metadata": {
    "id": "62uR2KrYKKpm"
   },
   "outputs": [],
   "source": [
    "data['review02'] = data['review01'].apply(lemm_stemm)"
   ]
  },
  {
   "cell_type": "code",
   "execution_count": null,
   "metadata": {
    "colab": {
     "base_uri": "https://localhost:8080/",
     "height": 204
    },
    "id": "vw3QdQBkKnP0",
    "outputId": "29c891c0-2a33-4379-a19c-941c9e31815f"
   },
   "outputs": [
    {
     "data": {
      "text/html": [
       "<div>\n",
       "<style scoped>\n",
       "    .dataframe tbody tr th:only-of-type {\n",
       "        vertical-align: middle;\n",
       "    }\n",
       "\n",
       "    .dataframe tbody tr th {\n",
       "        vertical-align: top;\n",
       "    }\n",
       "\n",
       "    .dataframe thead th {\n",
       "        text-align: right;\n",
       "    }\n",
       "</style>\n",
       "<table border=\"1\" class=\"dataframe\">\n",
       "  <thead>\n",
       "    <tr style=\"text-align: right;\">\n",
       "      <th></th>\n",
       "      <th>review</th>\n",
       "      <th>rating</th>\n",
       "      <th>review01</th>\n",
       "      <th>review02</th>\n",
       "    </tr>\n",
       "  </thead>\n",
       "  <tbody>\n",
       "    <tr>\n",
       "      <th>0</th>\n",
       "      <td>These flannel wipes are OK, but in my opinion ...</td>\n",
       "      <td>3</td>\n",
       "      <td>these flannel wipes are ok  but in my opinion ...</td>\n",
       "      <td>these flannel wipe be ok but in my opinion not...</td>\n",
       "    </tr>\n",
       "    <tr>\n",
       "      <th>1</th>\n",
       "      <td>it came early and was not disappointed. i love...</td>\n",
       "      <td>5</td>\n",
       "      <td>it came early and was not disappointed  i love...</td>\n",
       "      <td>it come earli and be not disappoint i love pla...</td>\n",
       "    </tr>\n",
       "    <tr>\n",
       "      <th>2</th>\n",
       "      <td>Very soft and comfortable and warmer than it l...</td>\n",
       "      <td>5</td>\n",
       "      <td>very soft and comfortable and warmer than it l...</td>\n",
       "      <td>veri soft and comfort and warmer than it look ...</td>\n",
       "    </tr>\n",
       "    <tr>\n",
       "      <th>3</th>\n",
       "      <td>This is a product well worth the purchase.  I ...</td>\n",
       "      <td>5</td>\n",
       "      <td>this is a product well worth the purchase  i h...</td>\n",
       "      <td>thi be a product well worth the purchas i have...</td>\n",
       "    </tr>\n",
       "    <tr>\n",
       "      <th>4</th>\n",
       "      <td>All of my kids have cried non-stop when I trie...</td>\n",
       "      <td>5</td>\n",
       "      <td>all of my kids have cried non stop when i trie...</td>\n",
       "      <td>all of my kid have cri non stop when i tri to ...</td>\n",
       "    </tr>\n",
       "  </tbody>\n",
       "</table>\n",
       "</div>"
      ],
      "text/plain": [
       "                                              review  ...                                           review02\n",
       "0  These flannel wipes are OK, but in my opinion ...  ...  these flannel wipe be ok but in my opinion not...\n",
       "1  it came early and was not disappointed. i love...  ...  it come earli and be not disappoint i love pla...\n",
       "2  Very soft and comfortable and warmer than it l...  ...  veri soft and comfort and warmer than it look ...\n",
       "3  This is a product well worth the purchase.  I ...  ...  thi be a product well worth the purchas i have...\n",
       "4  All of my kids have cried non-stop when I trie...  ...  all of my kid have cri non stop when i tri to ...\n",
       "\n",
       "[5 rows x 4 columns]"
      ]
     },
     "execution_count": 29,
     "metadata": {
      "tags": []
     },
     "output_type": "execute_result"
    }
   ],
   "source": [
    "data.head()"
   ]
  },
  {
   "cell_type": "code",
   "execution_count": null,
   "metadata": {
    "colab": {
     "base_uri": "https://localhost:8080/",
     "height": 52
    },
    "id": "ziqHY3idKuU1",
    "outputId": "688b3893-ca52-46b2-94c9-6e08ef3eee23"
   },
   "outputs": [
    {
     "data": {
      "application/vnd.google.colaboratory.intrinsic+json": {
       "type": "string"
      },
      "text/plain": [
       "'all of my kids have cried non stop when i tried to ween them off their pacifier  until i found thumbuddy to love s binky fairy puppet  it is an easy way to work with your kids to allow them to understand where their pacifier is going and help them part from it this is a must buy book  and a great gift for expecting parents  you will save them soo many headaches thanks for this book  you all rock '"
      ]
     },
     "execution_count": 30,
     "metadata": {
      "tags": []
     },
     "output_type": "execute_result"
    }
   ],
   "source": [
    "data['review01'][4]"
   ]
  },
  {
   "cell_type": "code",
   "execution_count": null,
   "metadata": {
    "colab": {
     "base_uri": "https://localhost:8080/",
     "height": 52
    },
    "id": "8G94UJ2LLQ3M",
    "outputId": "a7e52ac0-ca49-4110-ef9b-02936fa4285b"
   },
   "outputs": [
    {
     "data": {
      "application/vnd.google.colaboratory.intrinsic+json": {
       "type": "string"
      },
      "text/plain": [
       "'all of my kid have cri non stop when i tri to ween them off their pacifi until i find thumbuddi to love s binki fairi puppet it be an easi way to work with your kid to allow them to understand where their pacifi be go and help them part from it thi be a must buy book and a great gift for expect parent you will save them soo mani headach thank for thi book you all rock'"
      ]
     },
     "execution_count": 31,
     "metadata": {
      "tags": []
     },
     "output_type": "execute_result"
    }
   ],
   "source": [
    "data['review02'][4]"
   ]
  },
  {
   "cell_type": "code",
   "execution_count": null,
   "metadata": {
    "colab": {
     "base_uri": "https://localhost:8080/",
     "height": 52
    },
    "id": "M5OTsiZ2LS8s",
    "outputId": "b171342a-580a-4a56-d709-88501e9f8be4"
   },
   "outputs": [
    {
     "data": {
      "application/vnd.google.colaboratory.intrinsic+json": {
       "type": "string"
      },
      "text/plain": [
       "\"All of my kids have cried non-stop when I tried to ween them off their pacifier, until I found Thumbuddy To Love's Binky Fairy Puppet.  It is an easy way to work with your kids to allow them to understand where their pacifier is going and help them part from it.This is a must buy book, and a great gift for expecting parents!!  You will save them soo many headaches.Thanks for this book!  You all rock!!\""
      ]
     },
     "execution_count": 32,
     "metadata": {
      "tags": []
     },
     "output_type": "execute_result"
    }
   ],
   "source": [
    "data[\"review\"][4]"
   ]
  },
  {
   "cell_type": "markdown",
   "metadata": {
    "id": "-YahF17TPE56"
   },
   "source": [
    "**i. Utiliza el tokenizer de Keras (https://keras.io/api/preprocessing/text/ ) (lo vimos\n",
    "en clase) con el conjunto review02 para generar un vocabulario con tus datos que\n",
    "acabas de generar. ¿De qué tamaño es tu vocabulario resultante? Llamaremos\n",
    "vobabulario01 a este resultado.**"
   ]
  },
  {
   "cell_type": "code",
   "execution_count": null,
   "metadata": {
    "id": "yEFMOgjNPG5r"
   },
   "outputs": [],
   "source": [
    "tokenizer = Tokenizer()"
   ]
  },
  {
   "cell_type": "code",
   "execution_count": null,
   "metadata": {
    "id": "lK-pFWuHPXjU"
   },
   "outputs": [],
   "source": [
    "tokenizer.fit_on_texts(data['review02'])"
   ]
  },
  {
   "cell_type": "code",
   "execution_count": null,
   "metadata": {
    "id": "MPuFNIuvQiRc"
   },
   "outputs": [],
   "source": [
    "vocabulario01_size = len(tokenizer.word_index) + 1"
   ]
  },
  {
   "cell_type": "code",
   "execution_count": null,
   "metadata": {
    "colab": {
     "base_uri": "https://localhost:8080/"
    },
    "id": "f2aO72kBQ5TM",
    "outputId": "ed802bac-f9be-418f-d85f-7fd30f614522"
   },
   "outputs": [
    {
     "data": {
      "text/plain": [
       "46439"
      ]
     },
     "execution_count": 36,
     "metadata": {
      "tags": []
     },
     "output_type": "execute_result"
    }
   ],
   "source": [
    "vocabulario01_size"
   ]
  },
  {
   "cell_type": "markdown",
   "metadata": {
    "id": "yTnk0GsmmQku"
   },
   "source": [
    "**ii. Aplica un filtrado sobre el tamaño de los tokens a tu vocabulario01 para que te\n",
    "quedes solamente con los tokens o términos de longitud 3 o mayor. Llamaremos\n",
    "vovabulario02 a este resultado. Indicar de qué tamaño es este nuevo vocabulario02 y\n",
    "el porcentaje de reducción que se obtuvo con respecto a vocabulario01.\n",
    "iii. Regresa a los comentarios que obtuviste en review02 para filtrarlos ahora con\n",
    "respecto a las palabras que están en vocabulario02. Es decir, aquellas palabras que\n",
    "no estén en vocabulario02 se deberán omitir. Llamaremos a este resultado review03.**"
   ]
  },
  {
   "cell_type": "code",
   "execution_count": null,
   "metadata": {
    "id": "HKlknVH8nGV8"
   },
   "outputs": [],
   "source": [
    "def remove_short_words(sentence):\n",
    "  words = sentence.split()\n",
    "  return \" \".join([w for w in words if len(w) >= 3])"
   ]
  },
  {
   "cell_type": "code",
   "execution_count": null,
   "metadata": {
    "id": "ECUCMfp6lhOf"
   },
   "outputs": [],
   "source": [
    "data['review03'] = data['review02'].apply(remove_short_words)"
   ]
  },
  {
   "cell_type": "code",
   "execution_count": null,
   "metadata": {
    "colab": {
     "base_uri": "https://localhost:8080/",
     "height": 52
    },
    "id": "8kf1cSNLpJLf",
    "outputId": "271445fa-e919-4d19-c55a-fdece14076f1"
   },
   "outputs": [
    {
     "data": {
      "application/vnd.google.colaboratory.intrinsic+json": {
       "type": "string"
      },
      "text/plain": [
       "'these flannel wipe be ok but in my opinion not worth keep i also order someims vims cloth wipe ocean blue countwhich be larger have a nicer softer textur and just seem higher qualiti i use cloth wipe for hand and face and have be usingthirsti 6 pack fab wipe boyfor about 8 month now and need to replac them becaus they be start to get rough and have have stink issu for a while that strip no longer handl'"
      ]
     },
     "execution_count": 39,
     "metadata": {
      "tags": []
     },
     "output_type": "execute_result"
    }
   ],
   "source": [
    "data['review02'][0]"
   ]
  },
  {
   "cell_type": "code",
   "execution_count": null,
   "metadata": {
    "colab": {
     "base_uri": "https://localhost:8080/",
     "height": 52
    },
    "id": "hNPt9AjnpqW3",
    "outputId": "4c223686-4da4-4070-9cb3-ea9edf6cff4d"
   },
   "outputs": [
    {
     "data": {
      "application/vnd.google.colaboratory.intrinsic+json": {
       "type": "string"
      },
      "text/plain": [
       "'these flannel wipe but opinion not worth keep also order someims vims cloth wipe ocean blue countwhich larger have nicer softer textur and just seem higher qualiti use cloth wipe for hand and face and have usingthirsti pack fab wipe boyfor about month now and need replac them becaus they start get rough and have have stink issu for while that strip longer handl'"
      ]
     },
     "execution_count": 40,
     "metadata": {
      "tags": []
     },
     "output_type": "execute_result"
    }
   ],
   "source": [
    "data['review03'][0]"
   ]
  },
  {
   "cell_type": "code",
   "execution_count": null,
   "metadata": {
    "id": "iL8Qr7VgptWW"
   },
   "outputs": [],
   "source": [
    "vocabulario02 = Tokenizer()\n",
    "vocabulario02.fit_on_texts(data['review03'])"
   ]
  },
  {
   "cell_type": "code",
   "execution_count": null,
   "metadata": {
    "id": "sQqDP3wLrI9J"
   },
   "outputs": [],
   "source": [
    "vocabulario02_size = len(vocabulario02.word_index) + 1"
   ]
  },
  {
   "cell_type": "code",
   "execution_count": null,
   "metadata": {
    "colab": {
     "base_uri": "https://localhost:8080/"
    },
    "id": "lNDqxmlOrM0m",
    "outputId": "cc33e3e8-e384-4985-bc4d-3b5e0493b3f9"
   },
   "outputs": [
    {
     "data": {
      "text/plain": [
       "45681"
      ]
     },
     "execution_count": 43,
     "metadata": {
      "tags": []
     },
     "output_type": "execute_result"
    }
   ],
   "source": [
    "vocabulario02_size"
   ]
  },
  {
   "cell_type": "code",
   "execution_count": null,
   "metadata": {
    "colab": {
     "base_uri": "https://localhost:8080/"
    },
    "id": "WCBcXFjSrOF_",
    "outputId": "e0938d10-154e-40b8-e1a8-e3f2e81796b7"
   },
   "outputs": [
    {
     "name": "stdout",
     "output_type": "stream",
     "text": [
      "Percentage reduction: 1.63%\n"
     ]
    }
   ],
   "source": [
    "# Porcenatje de reducción del tamaño de diccionarios\n",
    "percentage_reduction = 1 - (vocabulario02_size/vocabulario01_size)\n",
    "print(\"Percentage reduction: {:.2f}%\".format(percentage_reduction*100))"
   ]
  },
  {
   "cell_type": "code",
   "execution_count": null,
   "metadata": {
    "id": "-1xORh9Nu32f"
   },
   "outputs": [],
   "source": [
    "# Busca palabras que se repitan 50 veces o mas\n",
    "high_freq = [x[0] for x in sorted(vocabulario02.word_counts.items(), key=lambda x: x[1]) if x[1] >= 50]"
   ]
  },
  {
   "cell_type": "code",
   "execution_count": null,
   "metadata": {
    "id": "5sbVERngNP3R"
   },
   "outputs": [],
   "source": [
    "def remove_words(sentence):\n",
    "  words = sentence.split()\n",
    "  return \" \".join([w for w in words if w not in stopwords.words('english') and w in high_freq and len(w) >= 3])"
   ]
  },
  {
   "cell_type": "code",
   "execution_count": null,
   "metadata": {
    "id": "TfN-lldvNeJf"
   },
   "outputs": [],
   "source": [
    "data['review03'] = data['review02'].apply(remove_words)"
   ]
  },
  {
   "cell_type": "code",
   "execution_count": null,
   "metadata": {
    "colab": {
     "base_uri": "https://localhost:8080/"
    },
    "id": "Z-KHNUGNP2iX",
    "outputId": "c54894da-d25e-43ac-eadf-31d4ecacb446"
   },
   "outputs": [
    {
     "name": "stdout",
     "output_type": "stream",
     "text": [
      "Palabras en el vocabulario: 1236\n",
      "Porcentaje de reduccion: 97.34%\n"
     ]
    }
   ],
   "source": [
    "vocabulario02 = Tokenizer()\n",
    "vocabulario02.fit_on_texts(data['review03'])\n",
    "vocabulario02_size = len(vocabulario02.word_index) + 1\n",
    "print(\"Palabras en el vocabulario: {}\".format(vocabulario02_size))\n",
    "percentage_reduction = 1 - (vocabulario02_size/vocabulario01_size)\n",
    "print(\"Porcentaje de reduccion: {:.2f}%\".format(percentage_reduction*100))"
   ]
  },
  {
   "cell_type": "markdown",
   "metadata": {
    "id": "L3bq6oDCtzBN"
   },
   "source": [
    "**iv. Obtener la matriz tfidf de review03, ¿de qué tamaño es? Obtener además el total de\n",
    "bytes consumidos por los elementos de esta matriz (puedes usar el método nbytes de\n",
    "tu objeto). Repite este resultado para cada una de las matrices “binary”, “count”,\n",
    "“freq”.**"
   ]
  },
  {
   "cell_type": "code",
   "execution_count": null,
   "metadata": {
    "id": "RWBagbbZVztu"
   },
   "outputs": [],
   "source": [
    "binary_mat = vocabulario02.texts_to_matrix(data['review03'], mode='binary')\n",
    "count_mat = vocabulario02.texts_to_matrix(data['review03'], mode='count')\n",
    "freq_mat = vocabulario02.texts_to_matrix(data['review03'], mode='freq')"
   ]
  },
  {
   "cell_type": "code",
   "execution_count": null,
   "metadata": {
    "colab": {
     "base_uri": "https://localhost:8080/"
    },
    "id": "Nb7lV2ywJ4BF",
    "outputId": "b9bfbbc4-7583-46e9-a89e-dd05f2182507"
   },
   "outputs": [
    {
     "name": "stdout",
     "output_type": "stream",
     "text": [
      "Matriz tfidf 'binary': tamano=(182702, 1236), espacio=1722.87 MB\n",
      "Matriz tfidf 'count': tamano=(182702, 1236), espacio=1722.87 MB\n",
      "Matriz tfidf 'freq': tamano=(182702, 1236), espacio=1722.87 MB\n"
     ]
    }
   ],
   "source": [
    "print(\"Matriz tfidf 'binary': tamano={}, espacio={:.2f} MB\".format(binary_mat.shape, binary_mat.nbytes/1024/1024))\n",
    "print(\"Matriz tfidf 'count': tamano={}, espacio={:.2f} MB\".format(count_mat.shape, count_mat.nbytes/1024/1024))\n",
    "print(\"Matriz tfidf 'freq': tamano={}, espacio={:.2f} MB\".format(freq_mat.shape, freq_mat.nbytes/1024/1024))"
   ]
  }
 ],
 "metadata": {
  "accelerator": "GPU",
  "colab": {
   "collapsed_sections": [],
   "name": "Tarea2: Preprocesamiento de datos: Caso Amazon Baby",
   "provenance": []
  },
  "kernelspec": {
   "display_name": "Python 3",
   "language": "python",
   "name": "python3"
  },
  "language_info": {
   "codemirror_mode": {
    "name": "ipython",
    "version": 3
   },
   "file_extension": ".py",
   "mimetype": "text/x-python",
   "name": "python",
   "nbconvert_exporter": "python",
   "pygments_lexer": "ipython3",
   "version": "3.8.5"
  }
 },
 "nbformat": 4,
 "nbformat_minor": 1
}
