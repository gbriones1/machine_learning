{
 "cells": [
  {
   "cell_type": "code",
   "execution_count": null,
   "metadata": {
    "id": "wCL2p6MA8NuT"
   },
   "outputs": [],
   "source": [
    "import pandas as pd  \n",
    "import numpy as np\n",
    "import matplotlib.pyplot as plt\n",
    "\n",
    "import nltk\n",
    "from nltk.corpus import stopwords\n",
    "\n",
    "import re\n",
    "import string\n",
    "\n",
    "from collections import Counter\n",
    "\n",
    "from sklearn.model_selection import train_test_split\n",
    "from sklearn.linear_model import LogisticRegression\n",
    "from sklearn.feature_extraction.text import TfidfVectorizer\n",
    "from sklearn.metrics import confusion_matrix\n",
    "\n",
    "\n",
    "from keras.preprocessing.text import Tokenizer\n",
    "from tensorflow.keras import regularizers\n",
    "\n",
    "from keras.models import Sequential\n",
    "from keras.layers import Dense, Dropout, Flatten, Embedding, LSTM, Bidirectional, RNN, GRU, SimpleRNN\n",
    "\n",
    "# import keras\n",
    "from tensorflow.keras.preprocessing.text import one_hot, Tokenizer\n",
    "from tensorflow.keras.preprocessing.sequence import pad_sequences\n",
    "\n"
   ]
  },
  {
   "cell_type": "code",
   "execution_count": null,
   "metadata": {
    "colab": {
     "base_uri": "https://localhost:8080/"
    },
    "id": "2V1Sx5oV_8KZ",
    "outputId": "638d27c2-b68f-4b50-a226-160ec1f45fcf"
   },
   "outputs": [
    {
     "name": "stdout",
     "output_type": "stream",
     "text": [
      "[nltk_data] Downloading package punkt to /root/nltk_data...\n",
      "[nltk_data]   Unzipping tokenizers/punkt.zip.\n",
      "[nltk_data] Downloading package stopwords to /root/nltk_data...\n",
      "[nltk_data]   Unzipping corpora/stopwords.zip.\n"
     ]
    },
    {
     "data": {
      "text/plain": [
       "True"
      ]
     },
     "execution_count": 2,
     "metadata": {
      "tags": []
     },
     "output_type": "execute_result"
    }
   ],
   "source": [
    "nltk.download('punkt')\n",
    "nltk.download('stopwords')"
   ]
  },
  {
   "cell_type": "markdown",
   "metadata": {
    "id": "i_jdbZm6ACcM"
   },
   "source": [
    "###**Definamos primero nuestro conjunto de Stopwords que no incluya las negaciones:**\n",
    "\n",
    "### Puedes usar el conjunto Stopwords por default que incluye las negaciones y al final el modelo sale como con 1% menor de accuracy."
   ]
  },
  {
   "cell_type": "code",
   "execution_count": null,
   "metadata": {
    "id": "onl1GCFUAKTH"
   },
   "outputs": [],
   "source": [
    "negwords = [ 'no', 'nor', 'not', 'ain', 'aren', \"aren't\", 'don', \"don't\", 'couldn', \"couldn't\", 'didn', \"didn't\", 'doesn', \"doesn't\", 'hadn', \"hadn't\", 'hasn', \"hasn't\", 'haven', \"haven't\", 'isn', \"isn't\", 'mightn', \"mightn't\", 'mustn', \"mustn't\", 'needn', \"needn't\", 'shan', \"shan't\", 'shouldn', \"shouldn't\", 'wasn', \"wasn't\", 'weren', \"weren't\", 'won', \"won't\", 'wouldn', \"wouldn't\"]"
   ]
  },
  {
   "cell_type": "code",
   "execution_count": null,
   "metadata": {
    "colab": {
     "base_uri": "https://localhost:8080/"
    },
    "id": "_uj1aTYPANe1",
    "outputId": "1f16504a-ef48-4090-c04b-b6193f67a299"
   },
   "outputs": [
    {
     "name": "stdout",
     "output_type": "stream",
     "text": [
      "['i', 'me', 'my', 'myself', 'we', 'our', 'ours', 'ourselves', 'you', \"you're\", \"you've\", \"you'll\", \"you'd\", 'your', 'yours', 'yourself', 'yourselves', 'he', 'him', 'his', 'himself', 'she', \"she's\", 'her', 'hers', 'herself', 'it', \"it's\", 'its', 'itself', 'they', 'them', 'their', 'theirs', 'themselves', 'what', 'which', 'who', 'whom', 'this', 'that', \"that'll\", 'these', 'those', 'am', 'is', 'are', 'was', 'were', 'be', 'been', 'being', 'have', 'has', 'had', 'having', 'do', 'does', 'did', 'doing', 'a', 'an', 'the', 'and', 'but', 'if', 'or', 'because', 'as', 'until', 'while', 'of', 'at', 'by', 'for', 'with', 'about', 'against', 'between', 'into', 'through', 'during', 'before', 'after', 'above', 'below', 'to', 'from', 'up', 'down', 'in', 'out', 'on', 'off', 'over', 'under', 'again', 'further', 'then', 'once', 'here', 'there', 'when', 'where', 'why', 'how', 'all', 'any', 'both', 'each', 'few', 'more', 'most', 'other', 'some', 'such', 'only', 'own', 'same', 'so', 'than', 'too', 'very', 's', 't', 'can', 'will', 'just', 'should', \"should've\", 'now', 'd', 'll', 'm', 'o', 're', 've', 'y', 'ma']\n"
     ]
    }
   ],
   "source": [
    "mystopwords = [ w for w in stopwords.words('english') if w not in negwords]\n",
    "print(mystopwords)"
   ]
  },
  {
   "cell_type": "code",
   "execution_count": null,
   "metadata": {
    "colab": {
     "base_uri": "https://localhost:8080/"
    },
    "id": "AGrjPhwkNuGu",
    "outputId": "0b1ed63d-3ed2-44bc-f625-f36321f40a51"
   },
   "outputs": [
    {
     "name": "stdout",
     "output_type": "stream",
     "text": [
      "['i', 'me', 'my', 'myself', 'we', 'our', 'ours', 'ourselves', 'you', \"you're\", \"you've\", \"you'll\", \"you'd\", 'your', 'yours', 'yourself', 'yourselves', 'he', 'him', 'his', 'himself', 'she', \"she's\", 'her', 'hers', 'herself', 'it', \"it's\", 'its', 'itself', 'they', 'them', 'their', 'theirs', 'themselves', 'what', 'which', 'who', 'whom', 'this', 'that', \"that'll\", 'these', 'those', 'am', 'is', 'are', 'was', 'were', 'be', 'been', 'being', 'have', 'has', 'had', 'having', 'do', 'does', 'did', 'doing', 'a', 'an', 'the', 'and', 'but', 'if', 'or', 'because', 'as', 'until', 'while', 'of', 'at', 'by', 'for', 'with', 'about', 'against', 'between', 'into', 'through', 'during', 'before', 'after', 'above', 'below', 'to', 'from', 'up', 'down', 'in', 'out', 'on', 'off', 'over', 'under', 'again', 'further', 'then', 'once', 'here', 'there', 'when', 'where', 'why', 'how', 'all', 'any', 'both', 'each', 'few', 'more', 'most', 'other', 'some', 'such', 'only', 'own', 'same', 'so', 'than', 'too', 'very', 's', 't', 'can', 'will', 'just', 'should', \"should've\", 'now', 'd', 'll', 'm', 'o', 're', 've', 'y', 'ma', 'themthat', 'perfectlywould']\n"
     ]
    }
   ],
   "source": [
    "mystopwords.extend([\"themthat\", \"perfectlywould\"])\n",
    "print(mystopwords)"
   ]
  },
  {
   "cell_type": "markdown",
   "metadata": {
    "id": "w3EvJg8YAkEe"
   },
   "source": [
    "###**Cargamos la base de datos de Amazon_baby**"
   ]
  },
  {
   "cell_type": "code",
   "execution_count": null,
   "metadata": {
    "colab": {
     "base_uri": "https://localhost:8080/"
    },
    "id": "bi-9925788NF",
    "outputId": "c7381153-2708-4fa1-bf95-71927ec055fc"
   },
   "outputs": [
    {
     "name": "stdout",
     "output_type": "stream",
     "text": [
      "Mounted at /content/drive\n"
     ]
    }
   ],
   "source": [
    "from google.colab import drive\n",
    "drive.mount('/content/drive')"
   ]
  },
  {
   "cell_type": "code",
   "execution_count": null,
   "metadata": {
    "colab": {
     "base_uri": "https://localhost:8080/"
    },
    "id": "-88kpfMA9DgG",
    "outputId": "6a3cb1de-932d-4b12-c807-c3d22dcb7ca5"
   },
   "outputs": [
    {
     "name": "stdout",
     "output_type": "stream",
     "text": [
      "/content/drive/My Drive/data/nlp_data\n"
     ]
    }
   ],
   "source": [
    "%cd \"/content/drive/My Drive/data/nlp_data/\" "
   ]
  },
  {
   "cell_type": "code",
   "execution_count": null,
   "metadata": {
    "colab": {
     "base_uri": "https://localhost:8080/",
     "height": 202
    },
    "id": "1bXOeDGf9GIG",
    "outputId": "f065eba4-efee-4013-b597-8abd5e50b6f5"
   },
   "outputs": [
    {
     "data": {
      "text/html": [
       "<div>\n",
       "<style scoped>\n",
       "    .dataframe tbody tr th:only-of-type {\n",
       "        vertical-align: middle;\n",
       "    }\n",
       "\n",
       "    .dataframe tbody tr th {\n",
       "        vertical-align: top;\n",
       "    }\n",
       "\n",
       "    .dataframe thead th {\n",
       "        text-align: right;\n",
       "    }\n",
       "</style>\n",
       "<table border=\"1\" class=\"dataframe\">\n",
       "  <thead>\n",
       "    <tr style=\"text-align: right;\">\n",
       "      <th></th>\n",
       "      <th>name</th>\n",
       "      <th>review</th>\n",
       "      <th>rating</th>\n",
       "    </tr>\n",
       "  </thead>\n",
       "  <tbody>\n",
       "    <tr>\n",
       "      <th>0</th>\n",
       "      <td>Planetwise Flannel Wipes</td>\n",
       "      <td>These flannel wipes are OK, but in my opinion ...</td>\n",
       "      <td>3</td>\n",
       "    </tr>\n",
       "    <tr>\n",
       "      <th>1</th>\n",
       "      <td>Planetwise Wipe Pouch</td>\n",
       "      <td>it came early and was not disappointed. i love...</td>\n",
       "      <td>5</td>\n",
       "    </tr>\n",
       "    <tr>\n",
       "      <th>2</th>\n",
       "      <td>Annas Dream Full Quilt with 2 Shams</td>\n",
       "      <td>Very soft and comfortable and warmer than it l...</td>\n",
       "      <td>5</td>\n",
       "    </tr>\n",
       "    <tr>\n",
       "      <th>3</th>\n",
       "      <td>Stop Pacifier Sucking without tears with Thumb...</td>\n",
       "      <td>This is a product well worth the purchase.  I ...</td>\n",
       "      <td>5</td>\n",
       "    </tr>\n",
       "    <tr>\n",
       "      <th>4</th>\n",
       "      <td>Stop Pacifier Sucking without tears with Thumb...</td>\n",
       "      <td>All of my kids have cried non-stop when I trie...</td>\n",
       "      <td>5</td>\n",
       "    </tr>\n",
       "  </tbody>\n",
       "</table>\n",
       "</div>"
      ],
      "text/plain": [
       "                                                name  ... rating\n",
       "0                           Planetwise Flannel Wipes  ...      3\n",
       "1                              Planetwise Wipe Pouch  ...      5\n",
       "2                Annas Dream Full Quilt with 2 Shams  ...      5\n",
       "3  Stop Pacifier Sucking without tears with Thumb...  ...      5\n",
       "4  Stop Pacifier Sucking without tears with Thumb...  ...      5\n",
       "\n",
       "[5 rows x 3 columns]"
      ]
     },
     "execution_count": 8,
     "metadata": {
      "tags": []
     },
     "output_type": "execute_result"
    }
   ],
   "source": [
    "df1 = pd.read_csv(\"amazon_baby.csv\")\n",
    "df1.head()"
   ]
  },
  {
   "cell_type": "code",
   "execution_count": null,
   "metadata": {
    "colab": {
     "base_uri": "https://localhost:8080/"
    },
    "id": "yD_SHy2W9Kpl",
    "outputId": "065eb786-f39d-4053-c782-c46ac66d46f1"
   },
   "outputs": [
    {
     "name": "stdout",
     "output_type": "stream",
     "text": [
      "<class 'pandas.core.frame.DataFrame'>\n",
      "RangeIndex: 182384 entries, 0 to 182383\n",
      "Data columns (total 3 columns):\n",
      " #   Column  Non-Null Count   Dtype \n",
      "---  ------  --------------   ----- \n",
      " 0   name    182384 non-null  object\n",
      " 1   review  182384 non-null  object\n",
      " 2   rating  182384 non-null  int64 \n",
      "dtypes: int64(1), object(2)\n",
      "memory usage: 4.2+ MB\n"
     ]
    }
   ],
   "source": [
    "df1.dropna(inplace=True)   # borra los renglones NaN con todo e índice, es decir, ahora se salta dicho índice.\n",
    "df1.reset_index(drop=True,inplace=True)   # para que se reinicialicen los índices y no queden salteados.\n",
    "df1.info()"
   ]
  },
  {
   "cell_type": "code",
   "execution_count": null,
   "metadata": {
    "id": "4_yy0A__9OoO"
   },
   "outputs": [],
   "source": [
    "df2 = df1[['review','rating']]"
   ]
  },
  {
   "cell_type": "code",
   "execution_count": null,
   "metadata": {
    "id": "GJOtfEhx9Uzt"
   },
   "outputs": [],
   "source": [
    "my_df = df2.copy()   \n",
    "my_df['rating'] = (df2['rating'] > 3).astype(int)"
   ]
  },
  {
   "cell_type": "code",
   "execution_count": null,
   "metadata": {
    "colab": {
     "base_uri": "https://localhost:8080/",
     "height": 202
    },
    "id": "jv3FpJK89gB9",
    "outputId": "99beaa80-3c6e-414b-f259-394e4ec9b4d7"
   },
   "outputs": [
    {
     "data": {
      "text/html": [
       "<div>\n",
       "<style scoped>\n",
       "    .dataframe tbody tr th:only-of-type {\n",
       "        vertical-align: middle;\n",
       "    }\n",
       "\n",
       "    .dataframe tbody tr th {\n",
       "        vertical-align: top;\n",
       "    }\n",
       "\n",
       "    .dataframe thead th {\n",
       "        text-align: right;\n",
       "    }\n",
       "</style>\n",
       "<table border=\"1\" class=\"dataframe\">\n",
       "  <thead>\n",
       "    <tr style=\"text-align: right;\">\n",
       "      <th></th>\n",
       "      <th>review</th>\n",
       "      <th>rating</th>\n",
       "    </tr>\n",
       "  </thead>\n",
       "  <tbody>\n",
       "    <tr>\n",
       "      <th>0</th>\n",
       "      <td>These flannel wipes are OK, but in my opinion ...</td>\n",
       "      <td>0</td>\n",
       "    </tr>\n",
       "    <tr>\n",
       "      <th>1</th>\n",
       "      <td>it came early and was not disappointed. i love...</td>\n",
       "      <td>1</td>\n",
       "    </tr>\n",
       "    <tr>\n",
       "      <th>2</th>\n",
       "      <td>Very soft and comfortable and warmer than it l...</td>\n",
       "      <td>1</td>\n",
       "    </tr>\n",
       "    <tr>\n",
       "      <th>3</th>\n",
       "      <td>This is a product well worth the purchase.  I ...</td>\n",
       "      <td>1</td>\n",
       "    </tr>\n",
       "    <tr>\n",
       "      <th>4</th>\n",
       "      <td>All of my kids have cried non-stop when I trie...</td>\n",
       "      <td>1</td>\n",
       "    </tr>\n",
       "  </tbody>\n",
       "</table>\n",
       "</div>"
      ],
      "text/plain": [
       "                                              review  rating\n",
       "0  These flannel wipes are OK, but in my opinion ...       0\n",
       "1  it came early and was not disappointed. i love...       1\n",
       "2  Very soft and comfortable and warmer than it l...       1\n",
       "3  This is a product well worth the purchase.  I ...       1\n",
       "4  All of my kids have cried non-stop when I trie...       1"
      ]
     },
     "execution_count": 12,
     "metadata": {
      "tags": []
     },
     "output_type": "execute_result"
    }
   ],
   "source": [
    "my_df.head()"
   ]
  },
  {
   "cell_type": "code",
   "execution_count": null,
   "metadata": {
    "colab": {
     "base_uri": "https://localhost:8080/"
    },
    "id": "lcJX3iG29jxs",
    "outputId": "8199f9bd-8b6b-4b32-ee0b-61708e8eff8c"
   },
   "outputs": [
    {
     "data": {
      "text/plain": [
       "(182384,)"
      ]
     },
     "execution_count": 13,
     "metadata": {
      "tags": []
     },
     "output_type": "execute_result"
    }
   ],
   "source": [
    "X = my_df.review \n",
    "Y = my_df.rating\n",
    "\n",
    "X.shape"
   ]
  },
  {
   "cell_type": "code",
   "execution_count": null,
   "metadata": {
    "colab": {
     "base_uri": "https://localhost:8080/"
    },
    "id": "AJCW0hqMCmcw",
    "outputId": "d6f84883-e3ea-43c3-a3cd-cf11bbc19e6a"
   },
   "outputs": [
    {
     "data": {
      "text/plain": [
       "0.7638718308623563"
      ]
     },
     "execution_count": 14,
     "metadata": {
      "tags": []
     },
     "output_type": "execute_result"
    }
   ],
   "source": [
    "sum(Y) / len(Y)   # Están algo desbalanceadas las clases..."
   ]
  },
  {
   "cell_type": "code",
   "execution_count": null,
   "metadata": {
    "id": "-6h61azA-KgV"
   },
   "outputs": [],
   "source": [
    "# Hacemos una limpieza mínima:\n",
    "def clean_doc(doc):\n",
    "  # split into tokens by white space\n",
    "  tokens = doc.split()\n",
    "  # prepare regex for char filtering\n",
    "  re_punc = re.compile('[%s]' % re.escape(string.punctuation))\n",
    "  # remove punctuation from each word\n",
    "  tokens = [re_punc.sub('', w) for w in tokens]\n",
    "  # remove remaining tokens that are not alphabetic\n",
    "  tokens = [word.lower() for word in tokens if word.isalpha()]\n",
    "  # filter out stop words\n",
    "  tokens = [w for w in tokens if not w in mystopwords] \n",
    "  # filter out short tokens\n",
    "  tokens = [word for word in tokens if len(word) > 1]  \n",
    "  return tokens"
   ]
  },
  {
   "cell_type": "markdown",
   "metadata": {
    "id": "ZyEjJqwrevES"
   },
   "source": [
    "### Al terminar la limpieza la RAM aumenta poquito: de 1.4 GB a 1.6 GB aprox"
   ]
  },
  {
   "cell_type": "code",
   "execution_count": null,
   "metadata": {
    "id": "emzufPuTBA2Y"
   },
   "outputs": [],
   "source": [
    "Xclean = [clean_doc(s) for s in X]  # tarda menos de 1 min"
   ]
  },
  {
   "cell_type": "code",
   "execution_count": null,
   "metadata": {
    "colab": {
     "base_uri": "https://localhost:8080/"
    },
    "id": "H15vKYdBBkd1",
    "outputId": "d7b8112a-4acf-4c29-ab28-6f8d64a972ae"
   },
   "outputs": [
    {
     "name": "stdout",
     "output_type": "stream",
     "text": [
      "['flannel', 'wipes', 'ok', 'opinion', 'not', 'worth', 'keeping', 'also', 'ordered', 'someimse', 'vimse', 'cloth', 'wipesocean', 'countwhich', 'larger', 'nicer', 'softer', 'texture', 'seemed', 'higher', 'quality', 'use', 'cloth', 'wipes', 'hands', 'faces', 'usingthirsties', 'pack', 'fab', 'wipes', 'boyfor', 'months', 'need', 'replace', 'starting', 'get', 'rough', 'stink', 'issues', 'stripping', 'no', 'longer', 'handles']\n",
      "['came', 'early', 'not', 'disappointed', 'love', 'planet', 'wise', 'bags', 'wipe', 'holder', 'keps', 'osocozy', 'wipes', 'moist', 'not', 'leak', 'highly', 'recommend']\n",
      "['soft', 'comfortable', 'warmer', 'looksfit', 'full', 'size', 'bed', 'recommend', 'anyone', 'looking', 'type', 'quilt']\n"
     ]
    }
   ],
   "source": [
    "for k in range(3):\n",
    "  print(Xclean[k])"
   ]
  },
  {
   "cell_type": "code",
   "execution_count": null,
   "metadata": {
    "colab": {
     "base_uri": "https://localhost:8080/"
    },
    "id": "UzWv7DujGVEO",
    "outputId": "9a231886-40c3-4610-be58-34cb235e23d7"
   },
   "outputs": [
    {
     "name": "stdout",
     "output_type": "stream",
     "text": [
      "182384\n",
      "(182384,)\n"
     ]
    }
   ],
   "source": [
    "print(len(Xclean))\n",
    "print(Y.shape)"
   ]
  },
  {
   "cell_type": "markdown",
   "metadata": {
    "id": "xoD1rSYcDlFH"
   },
   "source": [
    "###**Train-Validation-Test**"
   ]
  },
  {
   "cell_type": "code",
   "execution_count": null,
   "metadata": {
    "id": "5xsYb82cDqPN"
   },
   "outputs": [],
   "source": [
    "semilla = 17\n",
    "x_train, x_validation_and_test, y_train, y_validation_and_test = train_test_split(Xclean, Y, train_size=.80,  random_state=semilla) \n",
    "x_validation, x_test, y_validation, y_test = train_test_split(x_validation_and_test, y_validation_and_test, test_size=.50, random_state=semilla)"
   ]
  },
  {
   "cell_type": "code",
   "execution_count": null,
   "metadata": {
    "colab": {
     "base_uri": "https://localhost:8080/"
    },
    "id": "ZeJv-3VxGuXs",
    "outputId": "cb5d9efc-b4e2-4a7a-9fba-bed7dd8b8204"
   },
   "outputs": [
    {
     "name": "stdout",
     "output_type": "stream",
     "text": [
      "145907\n",
      "145907\n",
      "18238\n",
      "18238\n",
      "18239\n",
      "18239\n"
     ]
    }
   ],
   "source": [
    "print(len(x_train))\n",
    "print(len(y_train))\n",
    "print(len(x_validation))\n",
    "print(len(y_validation))\n",
    "print(len(x_test))\n",
    "print(len(y_test))"
   ]
  },
  {
   "cell_type": "code",
   "execution_count": null,
   "metadata": {
    "colab": {
     "base_uri": "https://localhost:8080/"
    },
    "id": "A45M35CnKa9w",
    "outputId": "e20982ac-158c-432c-931c-12b8df510e28"
   },
   "outputs": [
    {
     "name": "stdout",
     "output_type": "stream",
     "text": [
      "['market', 'baby', 'gym', 'one', 'trick', 'highly', 'recommend', 'tiny', 'love', 'baby', 'gym', 'one', 'things', 'one', 'stand', 'one', 'person', 'mentioned', 'neat', 'star', 'eats', 'batteries', 'also', 'little', 'caterpillar', 'detaches', 'cutei', 'not', 'like', 'way', 'baby', 'gym', 'handles', 'putting', 'setting']\n",
      "['read', 'reviews', 'purchasing', 'swing', 'like', 'others', 'concerned', 'first', 'set', 'saw', 'fast', 'seemed', 'swing', 'onemonth', 'old', 'however', 'didnt', 'seem', 'mind', 'bit', 'shes', 'loved', 'ever', 'since', 'shes', 'small', 'baby', 'headrest', 'wasnt', 'quite', 'enough', 'keep', 'tilting', 'times', 'placed', 'rolled', 'cloth', 'diaper', 'behind', 'side', 'add', 'extra', 'support', 'worked', 'like', 'charm']\n",
      "['bumbleride', 'markets', 'indie', 'urban', 'jogger', 'states', 'used', 'jogging', 'miles', 'per', 'week', 'couple', 'months', 'light', 'jogging', 'indie', 'started', 'issues', 'year', 'shakes', 'horribly', 'bumbleride', 'amazing', 'customer', 'service', 'though', 'working', 'fix', 'issues', 'theyve', 'sent', 'new', 'back', 'axles', 'new', 'wheels', 'finally', 'new', 'frame', 'get', 'stars', 'customer', 'service', 'youre', 'not', 'using', 'jogging', 'stroller', 'love', 'jog', 'get', 'bob']\n"
     ]
    }
   ],
   "source": [
    "for k in range(3):\n",
    "  print(x_train[k])"
   ]
  },
  {
   "cell_type": "markdown",
   "metadata": {
    "id": "TJ4zQIwhIClF"
   },
   "source": [
    "###**Construimos ahora nuestro vocabulario usando solamente los datos de entrenamiento:**"
   ]
  },
  {
   "cell_type": "code",
   "execution_count": null,
   "metadata": {
    "id": "KvXZKduYIKZ1"
   },
   "outputs": [],
   "source": [
    "mivocabulario = Counter()    # de la forma {(key:value)} --> {(word,freq)}\n",
    "\n",
    "for k in range(len(x_train)):\n",
    "  mivocabulario.update(x_train[k])"
   ]
  },
  {
   "cell_type": "code",
   "execution_count": null,
   "metadata": {
    "colab": {
     "base_uri": "https://localhost:8080/"
    },
    "id": "G5pb0-FEPIf0",
    "outputId": "d5c19eaf-f48f-4dfb-9d54-5e078a7af234"
   },
   "outputs": [
    {
     "name": "stdout",
     "output_type": "stream",
     "text": [
      "117210\n",
      "[('not', 77663), ('one', 57838), ('baby', 57574), ('great', 46234), ('would', 45238), ('use', 41688), ('like', 40578), ('love', 34626), ('seat', 33854), ('little', 33209)]\n"
     ]
    }
   ],
   "source": [
    "print(len(mivocabulario))   \n",
    "print(mivocabulario.most_common(10)) "
   ]
  },
  {
   "cell_type": "code",
   "execution_count": null,
   "metadata": {
    "colab": {
     "base_uri": "https://localhost:8080/",
     "height": 265
    },
    "id": "nK-JoAH0PbAm",
    "outputId": "db18757e-37cb-41c0-dee5-fd32505d5a7d"
   },
   "outputs": [
    {
     "data": {
      "image/png": "[encoded data removed]",
      "text/plain": [
       "<Figure size 432x288 with 1 Axes>"
      ]
     },
     "metadata": {
      "needs_background": "light",
      "tags": []
     },
     "output_type": "display_data"
    }
   ],
   "source": [
    "# Veamos la gráfica de palabras nuestro diccionario en orden de mayor frecuencia:\n",
    "plt.plot(list(np.arange(len(mivocabulario))), list(mivocabulario.values()), color='blue')\n",
    "plt.show()"
   ]
  },
  {
   "cell_type": "markdown",
   "metadata": {
    "id": "5zh6yVo3QJAL"
   },
   "source": [
    "###**Descartemos palabras cuya frecuencia en el conjunto de entrenamiento es muy pequeña:**"
   ]
  },
  {
   "cell_type": "code",
   "execution_count": null,
   "metadata": {
    "colab": {
     "base_uri": "https://localhost:8080/"
    },
    "id": "o0JTo5IEQTJD",
    "outputId": "a675e59a-9e03-4250-99be-872652b5791c"
   },
   "outputs": [
    {
     "name": "stdout",
     "output_type": "stream",
     "text": [
      "6209\n",
      "0.9470267042061258\n"
     ]
    }
   ],
   "source": [
    "min_freq = 50  \n",
    "#tmp = {}\n",
    "tmp = [{k:c} for k,c in mivocabulario.items() if c >= min_freq]\n",
    "\n",
    "mivocabulario2 = {}\n",
    "for i in range(len(tmp)):\n",
    "  mivocabulario2.update(tmp[i])\n",
    "\n",
    "print(len(mivocabulario2))  # reducimos el tamaño del vocabulario....\n",
    "print(1-len(mivocabulario2)/len(mivocabulario))   # porcentaje de reducción..."
   ]
  },
  {
   "cell_type": "code",
   "execution_count": null,
   "metadata": {
    "colab": {
     "base_uri": "https://localhost:8080/",
     "height": 265
    },
    "id": "pXcU7Js7Qx0N",
    "outputId": "f5761568-bdc2-4e01-e3e4-1e6c1eab9c75"
   },
   "outputs": [
    {
     "data": {
      "image/png": "[encoded data removed]",
      "text/plain": [
       "<Figure size 432x288 with 1 Axes>"
      ]
     },
     "metadata": {
      "needs_background": "light",
      "tags": []
     },
     "output_type": "display_data"
    }
   ],
   "source": [
    "plt.plot(list(np.arange(len(mivocabulario2))), list(mivocabulario2.values()), color='blue')\n",
    "plt.show()"
   ]
  },
  {
   "cell_type": "code",
   "execution_count": null,
   "metadata": {
    "colab": {
     "base_uri": "https://localhost:8080/"
    },
    "id": "lfPqb8HFjoJp",
    "outputId": "594db83b-bd27-4d97-e524-38aa1280d843"
   },
   "outputs": [
    {
     "data": {
      "text/plain": [
       "6209"
      ]
     },
     "execution_count": 27,
     "metadata": {
      "tags": []
     },
     "output_type": "execute_result"
    }
   ],
   "source": [
    "total_words = len(mivocabulario2)\n",
    "total_words"
   ]
  },
  {
   "cell_type": "markdown",
   "metadata": {
    "id": "CDA2xvl_StVP"
   },
   "source": [
    "###**Filtremos los conjuntos Train, Validation y Test con respecto al nuestro vocabulario de palabras:**"
   ]
  },
  {
   "cell_type": "code",
   "execution_count": null,
   "metadata": {
    "id": "d1np99AiTQQT"
   },
   "outputs": [],
   "source": [
    "train_x = []\n",
    "\n",
    "for ss in x_train:\n",
    "  train_x.append([w for w in ss if w in mivocabulario2])"
   ]
  },
  {
   "cell_type": "code",
   "execution_count": null,
   "metadata": {
    "colab": {
     "base_uri": "https://localhost:8080/"
    },
    "id": "NTfkWb_DUAsE",
    "outputId": "9c07d651-84a4-4d98-c49d-890d518f7b69"
   },
   "outputs": [
    {
     "name": "stdout",
     "output_type": "stream",
     "text": [
      "['market', 'baby', 'gym', 'one', 'trick', 'highly', 'recommend', 'tiny', 'love', 'baby', 'gym', 'one', 'things', 'one', 'stand', 'one', 'person', 'mentioned', 'neat', 'star', 'eats', 'batteries', 'also', 'little', 'caterpillar', 'detaches', 'cutei', 'not', 'like', 'way', 'baby', 'gym', 'handles', 'putting', 'setting']\n",
      "['market', 'baby', 'gym', 'one', 'trick', 'highly', 'recommend', 'tiny', 'love', 'baby', 'gym', 'one', 'things', 'one', 'stand', 'one', 'person', 'mentioned', 'neat', 'star', 'eats', 'batteries', 'also', 'little', 'caterpillar', 'detaches', 'not', 'like', 'way', 'baby', 'gym', 'handles', 'putting', 'setting']\n",
      "['read', 'reviews', 'purchasing', 'swing', 'like', 'others', 'concerned', 'first', 'set', 'saw', 'fast', 'seemed', 'swing', 'onemonth', 'old', 'however', 'didnt', 'seem', 'mind', 'bit', 'shes', 'loved', 'ever', 'since', 'shes', 'small', 'baby', 'headrest', 'wasnt', 'quite', 'enough', 'keep', 'tilting', 'times', 'placed', 'rolled', 'cloth', 'diaper', 'behind', 'side', 'add', 'extra', 'support', 'worked', 'like', 'charm']\n",
      "['read', 'reviews', 'purchasing', 'swing', 'like', 'others', 'concerned', 'first', 'set', 'saw', 'fast', 'seemed', 'swing', 'old', 'however', 'didnt', 'seem', 'mind', 'bit', 'shes', 'loved', 'ever', 'since', 'shes', 'small', 'baby', 'headrest', 'wasnt', 'quite', 'enough', 'keep', 'tilting', 'times', 'placed', 'rolled', 'cloth', 'diaper', 'behind', 'side', 'add', 'extra', 'support', 'worked', 'like', 'charm']\n",
      "['bumbleride', 'markets', 'indie', 'urban', 'jogger', 'states', 'used', 'jogging', 'miles', 'per', 'week', 'couple', 'months', 'light', 'jogging', 'indie', 'started', 'issues', 'year', 'shakes', 'horribly', 'bumbleride', 'amazing', 'customer', 'service', 'though', 'working', 'fix', 'issues', 'theyve', 'sent', 'new', 'back', 'axles', 'new', 'wheels', 'finally', 'new', 'frame', 'get', 'stars', 'customer', 'service', 'youre', 'not', 'using', 'jogging', 'stroller', 'love', 'jog', 'get', 'bob']\n",
      "['bumbleride', 'indie', 'urban', 'jogger', 'states', 'used', 'jogging', 'miles', 'per', 'week', 'couple', 'months', 'light', 'jogging', 'indie', 'started', 'issues', 'year', 'shakes', 'horribly', 'bumbleride', 'amazing', 'customer', 'service', 'though', 'working', 'fix', 'issues', 'theyve', 'sent', 'new', 'back', 'new', 'wheels', 'finally', 'new', 'frame', 'get', 'stars', 'customer', 'service', 'youre', 'not', 'using', 'jogging', 'stroller', 'love', 'jog', 'get', 'bob']\n"
     ]
    }
   ],
   "source": [
    "for k in range(3):\n",
    "  print(x_train[k])\n",
    "  print(train_x[k])"
   ]
  },
  {
   "cell_type": "code",
   "execution_count": null,
   "metadata": {
    "id": "T_TruTEqW1p1"
   },
   "outputs": [],
   "source": [
    "validation_x = []\n",
    "\n",
    "for ss in x_validation:\n",
    "  validation_x.append([w for w in ss if w in mivocabulario2])"
   ]
  },
  {
   "cell_type": "code",
   "execution_count": null,
   "metadata": {
    "colab": {
     "base_uri": "https://localhost:8080/"
    },
    "id": "mBuOp4r-XpqV",
    "outputId": "90a3193f-d1ad-488d-9cf2-56dbdf621da8"
   },
   "outputs": [
    {
     "name": "stdout",
     "output_type": "stream",
     "text": [
      "['whole', 'point', 'going', 'stainless', 'steel', 'not', 'plastic', 'parts', 'would', 'preferred', 'less', 'plastic', 'inside', 'facing', 'part', 'lid', 'getting', 'truly', 'stainless', 'steel', 'container', 'natural', 'gasket', 'really', 'hard']\n",
      "['whole', 'point', 'going', 'stainless', 'steel', 'not', 'plastic', 'parts', 'would', 'preferred', 'less', 'plastic', 'inside', 'facing', 'part', 'lid', 'getting', 'truly', 'stainless', 'steel', 'container', 'natural', 'really', 'hard']\n",
      "['year', 'old', 'daughter', 'picked', 'cute', 'design', 'soft', 'straps', 'keep', 'falling', 'offer', 'shoulders', 'wish', 'came', 'clasp', 'across', 'chest']\n",
      "['year', 'old', 'daughter', 'picked', 'cute', 'design', 'soft', 'straps', 'keep', 'falling', 'offer', 'shoulders', 'wish', 'came', 'clasp', 'across', 'chest']\n",
      "['life', 'saver', 'twin', 'moms', 'go', 'use', 'stroller', 'rides', 'car', 'rides', 'took', 'months', 'babies', 'suck', 'hard', 'enough', 'work', 'complaint']\n",
      "['life', 'saver', 'twin', 'moms', 'go', 'use', 'stroller', 'rides', 'car', 'rides', 'took', 'months', 'babies', 'suck', 'hard', 'enough', 'work', 'complaint']\n"
     ]
    }
   ],
   "source": [
    "for k in range(3):\n",
    "  print(x_validation[k])\n",
    "  print(validation_x[k])"
   ]
  },
  {
   "cell_type": "code",
   "execution_count": null,
   "metadata": {
    "id": "x6PgJAzkXBcN"
   },
   "outputs": [],
   "source": [
    "test_x = []\n",
    "\n",
    "for ss in x_test:\n",
    "  test_x.append([w for w in ss if w in mivocabulario2])"
   ]
  },
  {
   "cell_type": "code",
   "execution_count": null,
   "metadata": {
    "colab": {
     "base_uri": "https://localhost:8080/"
    },
    "id": "peeZUPUyXHnV",
    "outputId": "46ba859f-5baa-4880-be7b-eeed26f4890b"
   },
   "outputs": [
    {
     "name": "stdout",
     "output_type": "stream",
     "text": [
      "['would', 'recomend', 'product', 'anyone', 'wrestle', 'child', 'regular', 'nose', 'sucker', 'music', 'plays', 'use', 'month', 'old', 'didnt', 'fight', 'actually', 'smiled', 'whenever', 'showed', 'really', 'works', 'great']\n",
      "['would', 'recomend', 'product', 'anyone', 'wrestle', 'child', 'regular', 'nose', 'sucker', 'music', 'plays', 'use', 'month', 'old', 'didnt', 'fight', 'actually', 'whenever', 'showed', 'really', 'works', 'great']\n",
      "['item', 'must', 'babies', 'wish', 'brought', 'older', 'kid', 'initially', 'husband', 'thinking', 'get', 'tools', 'fix', 'thing', 'somewhere', 'part', 'not', 'clear', 'description', 'item', 'later', 'saw', 'video', 'demonstration', 'went', 'ahead', 'ordered', 'itit', 'flexible', 'hooked', 'door', 'removed', 'jiffy', 'put', 'back', 'without', 'nuts', 'bolts', 'drilling', 'long', 'doorway', 'frame', 'works', 'saves', 'back', 'giving', 'little', 'one', 'great', 'exercise', 'neat', 'conceptthe', 'modification', 'add', 'padding', 'clamps', 'paint', 'would', 'not', 'scrap', 'happens']\n",
      "['item', 'must', 'babies', 'wish', 'brought', 'older', 'kid', 'initially', 'husband', 'thinking', 'get', 'tools', 'fix', 'thing', 'somewhere', 'part', 'not', 'clear', 'description', 'item', 'later', 'saw', 'video', 'went', 'ahead', 'ordered', 'itit', 'flexible', 'hooked', 'door', 'removed', 'put', 'back', 'without', 'nuts', 'bolts', 'drilling', 'long', 'doorway', 'frame', 'works', 'saves', 'back', 'giving', 'little', 'one', 'great', 'exercise', 'neat', 'add', 'padding', 'clamps', 'paint', 'would', 'not', 'happens']\n",
      "['lot', 'research', 'buying', 'stroller', 'loving', 'easy', 'handle', 'steer', 'people', 'reviewed', 'sun', 'canopy', 'pathetic', 'think', 'changed', 'new', 'buzz', 'find', 'works', 'wonderfullythe', 'buzz', 'box', 'not', 'shopping', 'basket', 'really', 'nice', 'put', 'keys', 'cell', 'phone', 'away', 'safely', 'walk', 'parks', 'without', 'stressing', 'laying', 'tray', 'like', 'previous', 'pramit', 'really', 'nice', 'looking', 'attached', 'buggyboard', 'old', 'stand', 'back', 'pram', 'sturdy', 'not', 'fall', 'still', 'easily', 'manoevered', 'standing', 'oni', 'love', 'fact', 'chair', 'reversibleit', 'expensive', 'looking', 'high', 'level', 'stroller', 'yes', 'could', 'come', 'shopping', 'basket', 'cup', 'holder', 'knew', 'things', 'purchased', 'not', 'perturbed', 'thatoverall', 'really', 'lovely', 'yes', 'would', 'recommend']\n",
      "['lot', 'research', 'buying', 'stroller', 'loving', 'easy', 'handle', 'steer', 'people', 'reviewed', 'sun', 'canopy', 'think', 'changed', 'new', 'buzz', 'find', 'works', 'buzz', 'box', 'not', 'shopping', 'basket', 'really', 'nice', 'put', 'keys', 'cell', 'phone', 'away', 'safely', 'walk', 'parks', 'without', 'laying', 'tray', 'like', 'previous', 'really', 'nice', 'looking', 'attached', 'old', 'stand', 'back', 'pram', 'sturdy', 'not', 'fall', 'still', 'easily', 'standing', 'love', 'fact', 'chair', 'expensive', 'looking', 'high', 'level', 'stroller', 'yes', 'could', 'come', 'shopping', 'basket', 'cup', 'holder', 'knew', 'things', 'purchased', 'not', 'really', 'lovely', 'yes', 'would', 'recommend']\n"
     ]
    }
   ],
   "source": [
    "for k in range(3):\n",
    "  print(x_test[k])\n",
    "  print(test_x[k])"
   ]
  },
  {
   "cell_type": "code",
   "execution_count": null,
   "metadata": {
    "colab": {
     "base_uri": "https://localhost:8080/"
    },
    "id": "tjLezI69yUkH",
    "outputId": "84b8145f-6b26-406c-bf04-dea21c65b133"
   },
   "outputs": [
    {
     "data": {
      "text/plain": [
       "18239"
      ]
     },
     "execution_count": 34,
     "metadata": {
      "tags": []
     },
     "output_type": "execute_result"
    }
   ],
   "source": [
    "len(test_x)"
   ]
  },
  {
   "cell_type": "markdown",
   "metadata": {
    "id": "Yt8kvSyfj4HJ"
   },
   "source": [
    "###**matrices Tf-idf --> En este ya no usaremos Tf-idf**\n",
    "\n",
    "### Para obtener las matrices sparse debe estar de nuevo cada comentario/documento en un solo string:\n",
    "\n"
   ]
  },
  {
   "cell_type": "code",
   "execution_count": null,
   "metadata": {
    "id": "vOHyZNQGa510"
   },
   "outputs": [],
   "source": [
    "train_x_docs = []\n",
    "\n",
    "for k in range(len(train_x)):\n",
    "  train_x_docs.append(' '.join(train_x[k]))"
   ]
  },
  {
   "cell_type": "code",
   "execution_count": null,
   "metadata": {
    "colab": {
     "base_uri": "https://localhost:8080/"
    },
    "id": "Bi1BR_LobfGH",
    "outputId": "cdf2c0db-369d-4244-b8e4-5da1810b1bae"
   },
   "outputs": [
    {
     "name": "stdout",
     "output_type": "stream",
     "text": [
      "market baby gym one trick highly recommend tiny love baby gym one things one stand one person mentioned neat star eats batteries also little caterpillar detaches not like way baby gym handles putting setting\n",
      "read reviews purchasing swing like others concerned first set saw fast seemed swing old however didnt seem mind bit shes loved ever since shes small baby headrest wasnt quite enough keep tilting times placed rolled cloth diaper behind side add extra support worked like charm\n",
      "bumbleride indie urban jogger states used jogging miles per week couple months light jogging indie started issues year shakes horribly bumbleride amazing customer service though working fix issues theyve sent new back new wheels finally new frame get stars customer service youre not using jogging stroller love jog get bob\n"
     ]
    }
   ],
   "source": [
    "for k in range(3):\n",
    "  print(train_x_docs[k])"
   ]
  },
  {
   "cell_type": "code",
   "execution_count": null,
   "metadata": {
    "id": "glIcIsFkb_YN"
   },
   "outputs": [],
   "source": [
    "validation_x_docs = []\n",
    "\n",
    "for k in range(len(validation_x)):\n",
    "  validation_x_docs.append(' '.join(validation_x[k]))"
   ]
  },
  {
   "cell_type": "code",
   "execution_count": null,
   "metadata": {
    "id": "Hfy03pVab_6b"
   },
   "outputs": [],
   "source": [
    "test_x_docs = []\n",
    "\n",
    "for k in range(len(test_x)):\n",
    "  test_x_docs.append(' '.join(test_x[k]))"
   ]
  },
  {
   "cell_type": "code",
   "execution_count": null,
   "metadata": {
    "colab": {
     "base_uri": "https://localhost:8080/"
    },
    "id": "2_mR1K5ZyhVi",
    "outputId": "c03b2b43-c4d6-4d55-ff31-8815dd8d38aa"
   },
   "outputs": [
    {
     "data": {
      "text/plain": [
       "18239"
      ]
     },
     "execution_count": 39,
     "metadata": {
      "tags": []
     },
     "output_type": "execute_result"
    }
   ],
   "source": [
    "len(test_x_docs)"
   ]
  },
  {
   "cell_type": "markdown",
   "metadata": {
    "id": "ywWrj3XrpuoG"
   },
   "source": [
    "##TOKENIZER\n",
    "\n",
    "### Con Tf-Idf se hace la conversión de letras a números con la fórmula de de tf-idf... aqui, con TOKENIZER es otra forma... y que los agrupa por frecuencias... es decir, los de mayor frecuencia primero...\n",
    "\n",
    "Ver:\n",
    "\n",
    "https://machinelearningmastery.com/prepare-text-data-deep-learning-keras/"
   ]
  },
  {
   "cell_type": "code",
   "execution_count": null,
   "metadata": {
    "id": "BcRvk3Y5pqFD"
   },
   "outputs": [],
   "source": [
    "# Create a tokenizer to tokenize the words and create sequences of tokenized words\n",
    "tokenizer = Tokenizer(num_words = total_words)\n",
    "\n",
    "#tokenizer = Tokenizer(num_words=total_words, oov_token='UNK')   # esta es la otra forma, de no descartar las palabras nuevas, \n",
    "                                                                 # sino que se identificarán con el token OOV (Out-Of-Vocabulary)\n",
    "\n",
    "tokenizer.fit_on_texts(train_x_docs)\n",
    "\n",
    "train_sequences = tokenizer.texts_to_sequences(train_x_docs)\n",
    "\n",
    "validation_sequences = tokenizer.texts_to_sequences(validation_x_docs)\n",
    "\n",
    "test_sequences = tokenizer.texts_to_sequences(test_x_docs)"
   ]
  },
  {
   "cell_type": "code",
   "execution_count": null,
   "metadata": {
    "colab": {
     "base_uri": "https://localhost:8080/"
    },
    "id": "KTGC-ix8kFKe",
    "outputId": "ebf9641c-65a1-4a44-8b23-9a8cfc384474"
   },
   "outputs": [
    {
     "data": {
      "text/plain": [
       "6209"
      ]
     },
     "execution_count": 41,
     "metadata": {
      "tags": []
     },
     "output_type": "execute_result"
    }
   ],
   "source": [
    "tokenizer.num_words  # son las mismas que el vocabulario"
   ]
  },
  {
   "cell_type": "code",
   "execution_count": null,
   "metadata": {
    "colab": {
     "base_uri": "https://localhost:8080/"
    },
    "id": "fgmnOiupkwL6",
    "outputId": "53dbc7d5-a066-4887-dcf6-5483eadf58e6"
   },
   "outputs": [
    {
     "data": {
      "text/plain": [
       "{1: 'not',\n",
       " 2: 'one',\n",
       " 3: 'baby',\n",
       " 4: 'great',\n",
       " 5: 'would',\n",
       " 6: 'use',\n",
       " 7: 'like',\n",
       " 8: 'love',\n",
       " 9: 'seat',\n",
       " 10: 'little',\n",
       " 11: 'get',\n",
       " 12: 'easy',\n",
       " 13: 'well',\n",
       " 14: 'old',\n",
       " 15: 'really',\n",
       " 16: 'also',\n",
       " 17: 'product',\n",
       " 18: 'time',\n",
       " 19: 'bought',\n",
       " 20: 'no',\n",
       " 21: 'son',\n",
       " 22: 'much',\n",
       " 23: 'dont',\n",
       " 24: 'good',\n",
       " 25: 'put',\n",
       " 26: 'months',\n",
       " 27: 'stroller',\n",
       " 28: 'daughter',\n",
       " 29: 'back',\n",
       " 30: 'even',\n",
       " 31: 'used',\n",
       " 32: 'first',\n",
       " 33: 'still',\n",
       " 34: 'car',\n",
       " 35: 'loves',\n",
       " 36: 'recommend',\n",
       " 37: 'bag',\n",
       " 38: 'got',\n",
       " 39: 'two',\n",
       " 40: 'im',\n",
       " 41: 'nice',\n",
       " 42: 'could',\n",
       " 43: 'using',\n",
       " 44: 'fit',\n",
       " 45: 'doesnt',\n",
       " 46: 'around',\n",
       " 47: 'buy',\n",
       " 48: 'enough',\n",
       " 49: 'perfect',\n",
       " 50: 'didnt',\n",
       " 51: 'work',\n",
       " 52: 'since',\n",
       " 53: 'way',\n",
       " 54: 'small',\n",
       " 55: 'made',\n",
       " 56: 'keep',\n",
       " 57: 'price',\n",
       " 58: 'go',\n",
       " 59: 'diaper',\n",
       " 60: 'better',\n",
       " 61: 'make',\n",
       " 62: 'month',\n",
       " 63: 'think',\n",
       " 64: 'child',\n",
       " 65: 'size',\n",
       " 66: 'room',\n",
       " 67: 'need',\n",
       " 68: 'take',\n",
       " 69: 'works',\n",
       " 70: 'big',\n",
       " 71: 'quality',\n",
       " 72: 'thing',\n",
       " 73: 'soft',\n",
       " 74: 'crib',\n",
       " 75: 'easily',\n",
       " 76: 'new',\n",
       " 77: 'year',\n",
       " 78: 'bottles',\n",
       " 79: 'cute',\n",
       " 80: 'without',\n",
       " 81: 'purchased',\n",
       " 82: 'right',\n",
       " 83: 'clean',\n",
       " 84: 'cant',\n",
       " 85: 'every',\n",
       " 86: 'side',\n",
       " 87: 'able',\n",
       " 88: 'set',\n",
       " 89: 'see',\n",
       " 90: 'toy',\n",
       " 91: 'lot',\n",
       " 92: 'bottle',\n",
       " 93: 'another',\n",
       " 94: 'long',\n",
       " 95: 'bit',\n",
       " 96: 'us',\n",
       " 97: 'chair',\n",
       " 98: 'sure',\n",
       " 99: 'best',\n",
       " 100: 'hard',\n",
       " 101: 'want',\n",
       " 102: 'never',\n",
       " 103: 'monitor',\n",
       " 104: 'happy',\n",
       " 105: 'hold',\n",
       " 106: 'find',\n",
       " 107: 'ive',\n",
       " 108: 'pretty',\n",
       " 109: 'night',\n",
       " 110: 'know',\n",
       " 111: 'kids',\n",
       " 112: 'something',\n",
       " 113: 'though',\n",
       " 114: 'cup',\n",
       " 115: 'different',\n",
       " 116: 'day',\n",
       " 117: 'comfortable',\n",
       " 118: 'many',\n",
       " 119: 'cover',\n",
       " 120: 'going',\n",
       " 121: 'tried',\n",
       " 122: 'however',\n",
       " 123: 'looks',\n",
       " 124: 'pump',\n",
       " 125: 'looking',\n",
       " 126: 'makes',\n",
       " 127: 'fits',\n",
       " 128: 'seems',\n",
       " 129: 'worth',\n",
       " 130: 'found',\n",
       " 131: 'top',\n",
       " 132: 'play',\n",
       " 133: 'wish',\n",
       " 134: 'toys',\n",
       " 135: 'getting',\n",
       " 136: 'plastic',\n",
       " 137: 'problem',\n",
       " 138: 'far',\n",
       " 139: 'sleep',\n",
       " 140: 'purchase',\n",
       " 141: 'item',\n",
       " 142: 'thought',\n",
       " 143: 'money',\n",
       " 144: 'loved',\n",
       " 145: 'look',\n",
       " 146: 'water',\n",
       " 147: 'reviews',\n",
       " 148: 'gate',\n",
       " 149: 'definitely',\n",
       " 150: 'things',\n",
       " 151: 'light',\n",
       " 152: 'say',\n",
       " 153: 'actually',\n",
       " 154: 'babies',\n",
       " 155: 'wanted',\n",
       " 156: 'place',\n",
       " 157: 'came',\n",
       " 158: 'times',\n",
       " 159: 'high',\n",
       " 160: 'diapers',\n",
       " 161: 'wash',\n",
       " 162: 'gift',\n",
       " 163: 'always',\n",
       " 164: 'color',\n",
       " 165: 'bed',\n",
       " 166: 'highly',\n",
       " 167: 'together',\n",
       " 168: 'come',\n",
       " 169: 'feel',\n",
       " 170: 'needed',\n",
       " 171: 'sturdy',\n",
       " 172: 'years',\n",
       " 173: 'super',\n",
       " 174: 'give',\n",
       " 175: 'ones',\n",
       " 176: 'try',\n",
       " 177: 'bottom',\n",
       " 178: 'open',\n",
       " 179: 'everything',\n",
       " 180: 'gets',\n",
       " 181: 'took',\n",
       " 182: 'part',\n",
       " 183: 'head',\n",
       " 184: 'colors',\n",
       " 185: 'almost',\n",
       " 186: 'ordered',\n",
       " 187: 'yet',\n",
       " 188: 'second',\n",
       " 189: 'comes',\n",
       " 190: 'last',\n",
       " 191: 'extra',\n",
       " 192: 'house',\n",
       " 193: 'toddler',\n",
       " 194: 'pillow',\n",
       " 195: 'large',\n",
       " 196: 'away',\n",
       " 197: 'started',\n",
       " 198: 'weeks',\n",
       " 199: 'front',\n",
       " 200: 'food',\n",
       " 201: 'husband',\n",
       " 202: 'design',\n",
       " 203: 'mattress',\n",
       " 204: 'worked',\n",
       " 205: 'fine',\n",
       " 206: 'less',\n",
       " 207: 'straps',\n",
       " 208: 'perfectly',\n",
       " 209: 'isnt',\n",
       " 210: 'easier',\n",
       " 211: 'quite',\n",
       " 212: 'received',\n",
       " 213: 'infant',\n",
       " 214: 'babys',\n",
       " 215: 'swing',\n",
       " 216: 'milk',\n",
       " 217: 'amazon',\n",
       " 218: 'blanket',\n",
       " 219: 'sit',\n",
       " 220: 'home',\n",
       " 221: 'anything',\n",
       " 222: 'safe',\n",
       " 223: 'seats',\n",
       " 224: 'table',\n",
       " 225: 'hand',\n",
       " 226: 'tray',\n",
       " 227: 'fabric',\n",
       " 228: 'potty',\n",
       " 229: 'several',\n",
       " 230: 'music',\n",
       " 231: 'cups',\n",
       " 232: 'inside',\n",
       " 233: 'wont',\n",
       " 234: 'may',\n",
       " 235: 'stars',\n",
       " 236: 'material',\n",
       " 237: 'help',\n",
       " 238: 'tub',\n",
       " 239: 'store',\n",
       " 240: 'said',\n",
       " 241: 'changing',\n",
       " 242: 'hands',\n",
       " 243: 'instead',\n",
       " 244: 'buying',\n",
       " 245: 'minutes',\n",
       " 246: 'trying',\n",
       " 247: 'likes',\n",
       " 248: 'move',\n",
       " 249: 'three',\n",
       " 250: 'difficult',\n",
       " 251: 'older',\n",
       " 252: 'pad',\n",
       " 253: 'thats',\n",
       " 254: 'went',\n",
       " 255: 'especially',\n",
       " 256: 'wasnt',\n",
       " 257: 'bags',\n",
       " 258: 'wouldnt',\n",
       " 259: 'longer',\n",
       " 260: 'couple',\n",
       " 261: 'seem',\n",
       " 262: 'carrier',\n",
       " 263: 'install',\n",
       " 264: 'overall',\n",
       " 265: 'weight',\n",
       " 266: 'stay',\n",
       " 267: 'probably',\n",
       " 268: 'read',\n",
       " 269: 'cloth',\n",
       " 270: 'sound',\n",
       " 271: 'piece',\n",
       " 272: 'carry',\n",
       " 273: 'ever',\n",
       " 274: 'already',\n",
       " 275: 'days',\n",
       " 276: 'turn',\n",
       " 277: 'space',\n",
       " 278: 'keeps',\n",
       " 279: 'pack',\n",
       " 280: 'box',\n",
       " 281: 'decided',\n",
       " 282: 'problems',\n",
       " 283: 'travel',\n",
       " 284: 'couldnt',\n",
       " 285: 'bad',\n",
       " 286: 'others',\n",
       " 287: 'either',\n",
       " 288: 'expensive',\n",
       " 289: 'next',\n",
       " 290: 'newborn',\n",
       " 291: 'absolutely',\n",
       " 292: 'strap',\n",
       " 293: 'plus',\n",
       " 294: 'picture',\n",
       " 295: 'people',\n",
       " 296: 'handle',\n",
       " 297: 'must',\n",
       " 298: 'pull',\n",
       " 299: 'anyone',\n",
       " 300: 'havent',\n",
       " 301: 'fact',\n",
       " 302: 'hes',\n",
       " 303: 'shower',\n",
       " 304: 'might',\n",
       " 305: 'quickly',\n",
       " 306: 'smaller',\n",
       " 307: 'weve',\n",
       " 308: 'free',\n",
       " 309: 'heavy',\n",
       " 310: 'week',\n",
       " 311: 'children',\n",
       " 312: 'liked',\n",
       " 313: 'close',\n",
       " 314: 'maybe',\n",
       " 315: 'brand',\n",
       " 316: 'order',\n",
       " 317: 'issue',\n",
       " 318: 'id',\n",
       " 319: 'change',\n",
       " 320: 'safety',\n",
       " 321: 'gave',\n",
       " 322: 'etc',\n",
       " 323: 'end',\n",
       " 324: 'glad',\n",
       " 325: 'sometimes',\n",
       " 326: 'girl',\n",
       " 327: 'takes',\n",
       " 328: 'needs',\n",
       " 329: 'disappointed',\n",
       " 330: 'goes',\n",
       " 331: 'fun',\n",
       " 332: 'floor',\n",
       " 333: 'let',\n",
       " 334: 'cheap',\n",
       " 335: 'dry',\n",
       " 336: 'although',\n",
       " 337: 'regular',\n",
       " 338: 'parts',\n",
       " 339: 'bigger',\n",
       " 340: 'idea',\n",
       " 341: 'leak',\n",
       " 342: 'exactly',\n",
       " 343: 'completely',\n",
       " 344: 'simple',\n",
       " 345: 'wipes',\n",
       " 346: 'warm',\n",
       " 347: 'feature',\n",
       " 348: 'fold',\n",
       " 349: 'mom',\n",
       " 350: 'pieces',\n",
       " 351: 'whole',\n",
       " 352: 'case',\n",
       " 353: 'door',\n",
       " 354: 'youre',\n",
       " 355: 'base',\n",
       " 356: 'system',\n",
       " 357: 'nipple',\n",
       " 358: 'looked',\n",
       " 359: 'boy',\n",
       " 360: 'kind',\n",
       " 361: 'job',\n",
       " 362: 'review',\n",
       " 363: 'products',\n",
       " 364: 'awesome',\n",
       " 365: 'wonderful',\n",
       " 366: 'sleeping',\n",
       " 367: 'carseat',\n",
       " 368: 'born',\n",
       " 369: 'legs',\n",
       " 370: 'nothing',\n",
       " 371: 'friends',\n",
       " 372: 'putting',\n",
       " 373: 'bath',\n",
       " 374: 'reason',\n",
       " 375: 'holds',\n",
       " 376: 'done',\n",
       " 377: 'huge',\n",
       " 378: 'least',\n",
       " 379: 'expected',\n",
       " 380: 'storage',\n",
       " 381: 'shes',\n",
       " 382: 'secure',\n",
       " 383: 'push',\n",
       " 384: 'theyre',\n",
       " 385: 'items',\n",
       " 386: 'favorite',\n",
       " 387: 'else',\n",
       " 388: 'velcro',\n",
       " 389: 'arrived',\n",
       " 390: 'full',\n",
       " 391: 'sons',\n",
       " 392: 'fall',\n",
       " 393: 'hours',\n",
       " 394: 'unit',\n",
       " 395: 'wall',\n",
       " 396: 'durable',\n",
       " 397: 'ago',\n",
       " 398: 'parents',\n",
       " 399: 'booster',\n",
       " 400: 'covers',\n",
       " 401: 'white',\n",
       " 402: 'mobile',\n",
       " 403: 'making',\n",
       " 404: 'support',\n",
       " 405: 'deal',\n",
       " 406: 'sippy',\n",
       " 407: 'short',\n",
       " 408: 'breast',\n",
       " 409: 'issues',\n",
       " 410: 'pleased',\n",
       " 411: 'kid',\n",
       " 412: 'mouth',\n",
       " 413: 'sheet',\n",
       " 414: 'fast',\n",
       " 415: 'working',\n",
       " 416: 'point',\n",
       " 417: 'smell',\n",
       " 418: 'daughters',\n",
       " 419: 'half',\n",
       " 420: 'nipples',\n",
       " 421: 'graco',\n",
       " 422: 'position',\n",
       " 423: 'britax',\n",
       " 424: 'remove',\n",
       " 425: 'return',\n",
       " 426: 'larger',\n",
       " 427: 'cannot',\n",
       " 428: 'face',\n",
       " 429: 'tight',\n",
       " 430: 'batteries',\n",
       " 431: 'sitting',\n",
       " 432: 'apart',\n",
       " 433: 'stuff',\n",
       " 434: 'asleep',\n",
       " 435: 'life',\n",
       " 436: 'company',\n",
       " 437: 'mat',\n",
       " 438: 'due',\n",
       " 439: 'hot',\n",
       " 440: 'noise',\n",
       " 441: 'wear',\n",
       " 442: 'washing',\n",
       " 443: 'sides',\n",
       " 444: 'grandson',\n",
       " 445: 'helps',\n",
       " 446: 'friend',\n",
       " 447: 'seemed',\n",
       " 448: 'lid',\n",
       " 449: 'washed',\n",
       " 450: 'excellent',\n",
       " 451: 'rather',\n",
       " 452: 'adjust',\n",
       " 453: 'height',\n",
       " 454: 'finally',\n",
       " 455: 'flat',\n",
       " 456: 'battery',\n",
       " 457: 'wheels',\n",
       " 458: 'onto',\n",
       " 459: 'stick',\n",
       " 460: 'bright',\n",
       " 461: 'feet',\n",
       " 462: 'ended',\n",
       " 463: 'kept',\n",
       " 464: 'nursery',\n",
       " 465: 'soon',\n",
       " 466: 'thin',\n",
       " 467: 'often',\n",
       " 468: 'beautiful',\n",
       " 469: 'middle',\n",
       " 470: 'nicely',\n",
       " 471: 'forward',\n",
       " 472: 'attached',\n",
       " 473: 'leave',\n",
       " 474: 'basket',\n",
       " 475: 'air',\n",
       " 476: 'instructions',\n",
       " 477: 'mind',\n",
       " 478: 'medela',\n",
       " 479: 'held',\n",
       " 480: 'extremely',\n",
       " 481: 'tall',\n",
       " 482: 'start',\n",
       " 483: 'strong',\n",
       " 484: 'feeding',\n",
       " 485: 'uses',\n",
       " 486: 'suction',\n",
       " 487: 'latch',\n",
       " 488: 'recommended',\n",
       " 489: 'camera',\n",
       " 490: 'option',\n",
       " 491: 'pain',\n",
       " 492: 'double',\n",
       " 493: 'replacement',\n",
       " 494: 'adorable',\n",
       " 495: 'waste',\n",
       " 496: 'holding',\n",
       " 497: 'hear',\n",
       " 498: 'blue',\n",
       " 499: 'hang',\n",
       " 500: 'complaint',\n",
       " 501: 'taking',\n",
       " 502: 'stand',\n",
       " 503: 'area',\n",
       " 504: 'customer',\n",
       " 505: 'sheets',\n",
       " 506: 'along',\n",
       " 507: 'four',\n",
       " 508: 'wide',\n",
       " 509: 'later',\n",
       " 510: 'pocket',\n",
       " 511: 'nursing',\n",
       " 512: 'lots',\n",
       " 513: 'service',\n",
       " 514: 'ok',\n",
       " 515: 'mine',\n",
       " 516: 'left',\n",
       " 517: 'wrap',\n",
       " 518: 'shape',\n",
       " 519: 'within',\n",
       " 520: 'tell',\n",
       " 521: 'family',\n",
       " 522: 'pumping',\n",
       " 523: 'shipping',\n",
       " 524: 'outside',\n",
       " 525: 'clear',\n",
       " 526: 'sounds',\n",
       " 527: 'cold',\n",
       " 528: 'low',\n",
       " 529: 'pockets',\n",
       " 530: 'amazing',\n",
       " 531: 'broke',\n",
       " 532: 'teething',\n",
       " 533: 'saw',\n",
       " 534: 'pink',\n",
       " 535: 'feels',\n",
       " 536: 'rest',\n",
       " 537: 'seen',\n",
       " 538: 'worry',\n",
       " 539: 'wood',\n",
       " 540: 'video',\n",
       " 541: 'lights',\n",
       " 542: 'blankets',\n",
       " 543: 'toilet',\n",
       " 544: 'parent',\n",
       " 545: 'belt',\n",
       " 546: 'reach',\n",
       " 547: 'playing',\n",
       " 548: 'lightweight',\n",
       " 549: 'straw',\n",
       " 550: 'useful',\n",
       " 551: 'facing',\n",
       " 552: 'thick',\n",
       " 553: 'turned',\n",
       " 554: 'strollers',\n",
       " 555: 'care',\n",
       " 556: 'green',\n",
       " 557: 'quick',\n",
       " 558: 'folds',\n",
       " 559: 'mirror',\n",
       " 560: 'pacifier',\n",
       " 561: 'usually',\n",
       " 562: 'says',\n",
       " 563: 'keeping',\n",
       " 564: 'bassinet',\n",
       " 565: 'amount',\n",
       " 566: 'cheaper',\n",
       " 567: 'guess',\n",
       " 568: 'theres',\n",
       " 569: 'attach',\n",
       " 570: 'holder',\n",
       " 571: 'stuck',\n",
       " 572: 'cost',\n",
       " 573: 'features',\n",
       " 574: 'wife',\n",
       " 575: 'bar',\n",
       " 576: 'given',\n",
       " 577: 'throw',\n",
       " 578: 'otherwise',\n",
       " 579: 'avent',\n",
       " 580: 'model',\n",
       " 581: 'reading',\n",
       " 582: 'everyone',\n",
       " 583: 'excited',\n",
       " 584: 'handy',\n",
       " 585: 'ill',\n",
       " 586: 'twins',\n",
       " 587: 'bulky',\n",
       " 588: 'replace',\n",
       " 589: 'real',\n",
       " 590: 'opening',\n",
       " 591: 'loud',\n",
       " 592: 'button',\n",
       " 593: 'wet',\n",
       " 594: 'someone',\n",
       " 595: 'clothes',\n",
       " 596: 'arent',\n",
       " 597: 'harness',\n",
       " 598: 'bibs',\n",
       " 599: 'stays',\n",
       " 600: 'add',\n",
       " 601: 'totally',\n",
       " 602: 'neck',\n",
       " 603: 'pads',\n",
       " 604: 'summer',\n",
       " 605: 'arms',\n",
       " 606: 'convenient',\n",
       " 607: 'handles',\n",
       " 608: 'live',\n",
       " 609: 'trip',\n",
       " 610: 'machine',\n",
       " 611: 'granddaughter',\n",
       " 612: 'snap',\n",
       " 613: 'felt',\n",
       " 614: 'run',\n",
       " 615: 'tiny',\n",
       " 616: 'wait',\n",
       " 617: 'leaks',\n",
       " 618: 'assemble',\n",
       " 619: 'age',\n",
       " 620: 'wrong',\n",
       " 621: 'ready',\n",
       " 622: 'figure',\n",
       " 623: 'lock',\n",
       " 624: 'style',\n",
       " 625: 'falls',\n",
       " 626: 'spend',\n",
       " 627: 'yes',\n",
       " 628: 'frame',\n",
       " 629: 'lbs',\n",
       " 630: 'cleaning',\n",
       " 631: 'annoying',\n",
       " 632: 'dishwasher',\n",
       " 633: 'purchasing',\n",
       " 634: 'walk',\n",
       " 635: 'kitchen',\n",
       " 636: 'standard',\n",
       " 637: 'star',\n",
       " 638: 'line',\n",
       " 639: 'unless',\n",
       " 640: 'believe',\n",
       " 641: 'type',\n",
       " 642: 'solid',\n",
       " 643: 'returned',\n",
       " 644: 'adjustable',\n",
       " 645: 'wipe',\n",
       " 646: 'pay',\n",
       " 647: 'insert',\n",
       " 648: 'sent',\n",
       " 649: 'allows',\n",
       " 650: 'simply',\n",
       " 651: 'shoulder',\n",
       " 652: 'entire',\n",
       " 653: 'designed',\n",
       " 654: 'bib',\n",
       " 655: 'drink',\n",
       " 656: 'slightly',\n",
       " 657: 'constantly',\n",
       " 658: 'holes',\n",
       " 659: 'black',\n",
       " 660: 'installed',\n",
       " 661: 'sun',\n",
       " 662: 'noticed',\n",
       " 663: 'save',\n",
       " 664: 'everywhere',\n",
       " 665: 'enjoy',\n",
       " 666: 'supposed',\n",
       " 667: 'boys',\n",
       " 668: 'shopping',\n",
       " 669: 'plays',\n",
       " 670: 'brush',\n",
       " 671: 'chew',\n",
       " 672: 'unfortunately',\n",
       " 673: 'immediately',\n",
       " 674: 'compared',\n",
       " 675: 'figured',\n",
       " 676: 'properly',\n",
       " 677: 'hope',\n",
       " 678: 'course',\n",
       " 679: 'anyway',\n",
       " 680: 'similar',\n",
       " 681: 'purpose',\n",
       " 682: 'person',\n",
       " 683: 'cotton',\n",
       " 684: 'book',\n",
       " 685: 'formula',\n",
       " 686: 'cool',\n",
       " 687: 'fell',\n",
       " 688: 'version',\n",
       " 689: 'warmer',\n",
       " 690: 'hit',\n",
       " 691: 'break',\n",
       " 692: 'single',\n",
       " 693: 'trouble',\n",
       " 694: 'plenty',\n",
       " 695: 'zipper',\n",
       " 696: 'across',\n",
       " 697: 'check',\n",
       " 698: 'rear',\n",
       " 699: 'wants',\n",
       " 700: 'carrying',\n",
       " 701: 'touch',\n",
       " 702: 'cut',\n",
       " 703: 'gotten',\n",
       " 704: 'setting',\n",
       " 705: 'clip',\n",
       " 706: 'matter',\n",
       " 707: 'stopped',\n",
       " 708: 'online',\n",
       " 709: 'helped',\n",
       " 710: 'eat',\n",
       " 711: 'feed',\n",
       " 712: 'thinking',\n",
       " 713: 'spent',\n",
       " 714: 'plan',\n",
       " 715: 'package',\n",
       " 716: 'brands',\n",
       " 717: 'red',\n",
       " 718: 'sits',\n",
       " 719: 'dirty',\n",
       " 720: 'knew',\n",
       " 721: 'coming',\n",
       " 722: 'original',\n",
       " 723: 'giving',\n",
       " 724: 'inches',\n",
       " 725: 'told',\n",
       " 726: 'mess',\n",
       " 727: 'five',\n",
       " 728: 'phone',\n",
       " 729: 'helpful',\n",
       " 730: 'swaddle',\n",
       " 731: 'volume',\n",
       " 732: 'range',\n",
       " 733: 'flimsy',\n",
       " 734: 'pictures',\n",
       " 735: 'gives',\n",
       " 736: 'falling',\n",
       " 737: 'prefer',\n",
       " 738: 'body',\n",
       " 739: 'padding',\n",
       " 740: 'important',\n",
       " 741: 'fairly',\n",
       " 742: 'expecting',\n",
       " 743: 'comfy',\n",
       " 744: 'bedding',\n",
       " 745: 'past',\n",
       " 746: 'pick',\n",
       " 747: 'sleeps',\n",
       " 748: 'reviewers',\n",
       " 749: 'compact',\n",
       " 750: 'portable',\n",
       " 751: 'hour',\n",
       " 752: 'stores',\n",
       " 753: 'hospital',\n",
       " 754: 'switch',\n",
       " 755: 'multiple',\n",
       " 756: 'recently',\n",
       " 757: 'anywhere',\n",
       " 758: 'guy',\n",
       " 759: 'slide',\n",
       " 760: 'research',\n",
       " 761: 'dog',\n",
       " 762: 'dr',\n",
       " 763: 'main',\n",
       " 764: 'lost',\n",
       " 765: 'level',\n",
       " 766: 'roll',\n",
       " 767: 'pregnant',\n",
       " 768: 'called',\n",
       " 769: 'worried',\n",
       " 770: 'grab',\n",
       " 771: 'difference',\n",
       " 772: 'pounds',\n",
       " 773: 'thank',\n",
       " 774: 'allow',\n",
       " 775: 'watch',\n",
       " 776: 'fantastic',\n",
       " 777: 'grow',\n",
       " 778: 'animals',\n",
       " 779: 'complaints',\n",
       " 780: 'experience',\n",
       " 781: 'turns',\n",
       " 782: 'paid',\n",
       " 783: 'available',\n",
       " 784: 'options',\n",
       " 785: 'underneath',\n",
       " 786: 'moving',\n",
       " 787: 'expect',\n",
       " 788: 'training',\n",
       " 789: 'snaps',\n",
       " 790: 'recline',\n",
       " 791: 'toddlers',\n",
       " 792: 'means',\n",
       " 793: 'moms',\n",
       " 794: 'stop',\n",
       " 795: 'smooth',\n",
       " 796: 'wearing',\n",
       " 797: 'uncomfortable',\n",
       " 798: 'trips',\n",
       " 799: 'young',\n",
       " 800: 'christmas',\n",
       " 801: 'impossible',\n",
       " 802: 'hoping',\n",
       " 803: 'rubber',\n",
       " 804: 'anymore',\n",
       " 805: 'washes',\n",
       " 806: 'shade',\n",
       " 807: 'pacifiers',\n",
       " 808: 'metal',\n",
       " 809: 'chairs',\n",
       " 810: 'ride',\n",
       " 811: 'included',\n",
       " 812: 'loose',\n",
       " 813: 'girls',\n",
       " 814: 'bathroom',\n",
       " 815: 'comfort',\n",
       " 816: 'flow',\n",
       " 817: 'opened',\n",
       " 818: 'foot',\n",
       " 819: 'poor',\n",
       " 820: 'hasnt',\n",
       " 821: 'behind',\n",
       " 822: 'folded',\n",
       " 823: 'step',\n",
       " 824: 'barely',\n",
       " 825: 'hanging',\n",
       " 826: 'added',\n",
       " 827: 'ease',\n",
       " 828: 'broken',\n",
       " 829: 'directions',\n",
       " 830: 'addition',\n",
       " 831: 'canopy',\n",
       " 832: 'childs',\n",
       " 833: 'based',\n",
       " 834: 'lower',\n",
       " 835: 'arm',\n",
       " 836: 'window',\n",
       " 837: 'daily',\n",
       " 838: 'send',\n",
       " 839: 'starting',\n",
       " 840: 'description',\n",
       " 841: 'spout',\n",
       " 842: 'buckle',\n",
       " 843: 'sling',\n",
       " 844: 'twice',\n",
       " 845: 'true',\n",
       " 846: 'value',\n",
       " 847: 'bra',\n",
       " 848: 'choice',\n",
       " 849: 'traveling',\n",
       " 850: 'enjoys',\n",
       " 851: 'ring',\n",
       " 852: 'foam',\n",
       " 853: 'higher',\n",
       " 854: 'surprised',\n",
       " 855: 'straight',\n",
       " 856: 'spoon',\n",
       " 857: 'negative',\n",
       " 858: 'imagine',\n",
       " 859: 'umbrella',\n",
       " 860: 'nearly',\n",
       " 861: 'hole',\n",
       " 862: 'lay',\n",
       " 863: 'walking',\n",
       " 864: 'impressed',\n",
       " 865: 'pattern',\n",
       " 866: 'cause',\n",
       " 867: 'skin',\n",
       " 868: 'except',\n",
       " 869: 'mother',\n",
       " 870: 'screw',\n",
       " 871: 'backpack',\n",
       " 872: 'temperature',\n",
       " 873: 'fill',\n",
       " 874: 'nap',\n",
       " 875: 'attention',\n",
       " 876: 'sized',\n",
       " 877: 'teether',\n",
       " 878: 'market',\n",
       " 879: 'match',\n",
       " 880: 'today',\n",
       " 881: 'teeth',\n",
       " 882: 'control',\n",
       " 883: 'useless',\n",
       " 884: 'fan',\n",
       " 885: 'ergo',\n",
       " 886: 'snack',\n",
       " 887: 'possible',\n",
       " 888: 'pail',\n",
       " 889: 'screws',\n",
       " 890: 'running',\n",
       " 891: 'show',\n",
       " 892: 'built',\n",
       " 893: 'returning',\n",
       " 894: 'leaking',\n",
       " 895: 'thanks',\n",
       " 896: 'normal',\n",
       " 897: 'eating',\n",
       " 898: 'bring',\n",
       " 899: 'prevent',\n",
       " 900: 'oz',\n",
       " 901: 'slept',\n",
       " 902: 'tip',\n",
       " 903: 'mentioned',\n",
       " 904: 'pop',\n",
       " 905: 'screen',\n",
       " 906: 'okay',\n",
       " 907: 'brown',\n",
       " 908: 'glass',\n",
       " 909: 'satisfied',\n",
       " 910: 'taken',\n",
       " 911: 'hurt',\n",
       " 912: 'gates',\n",
       " 913: 'third',\n",
       " 914: 'sink',\n",
       " 915: 'dark',\n",
       " 916: 'chose',\n",
       " 917: 'youll',\n",
       " 918: 'leg',\n",
       " 919: 'mesh',\n",
       " 920: 'note',\n",
       " 921: 'monitors',\n",
       " 922: 'bc',\n",
       " 923: 'power',\n",
       " 924: 'manual',\n",
       " 925: 'packaging',\n",
       " 926: 'furniture',\n",
       " 927: 'snug',\n",
       " 928: 'print',\n",
       " 929: 'fully',\n",
       " 930: 'moved',\n",
       " 931: 'closed',\n",
       " 932: 'comfortably',\n",
       " 933: 'seconds',\n",
       " 934: 'starts',\n",
       " 935: 'placed',\n",
       " 936: 'fingers',\n",
       " 937: 'sets',\n",
       " 938: 'bjorn',\n",
       " 939: 'surface',\n",
       " 940: 'liquid',\n",
       " 941: 'decent',\n",
       " 942: 'early',\n",
       " 943: 'colorful',\n",
       " 944: 'near',\n",
       " 945: 'cushion',\n",
       " 946: 'bowl',\n",
       " 947: 'solution',\n",
       " 948: 'sister',\n",
       " 949: 'removed',\n",
       " 950: 'center',\n",
       " 951: 'realized',\n",
       " 952: 'ordering',\n",
       " 953: 'become',\n",
       " 954: 'protect',\n",
       " 955: 'previous',\n",
       " 956: 'towel',\n",
       " 957: 'liner',\n",
       " 958: 'unlike',\n",
       " 959: 'highchair',\n",
       " 960: 'cars',\n",
       " 961: 'mini',\n",
       " 962: 'wheel',\n",
       " 963: 'motor',\n",
       " 964: 'number',\n",
       " 965: 'considering',\n",
       " 966: 'call',\n",
       " 967: 'holders',\n",
       " 968: 'yr',\n",
       " 969: 'static',\n",
       " 970: 'terrible',\n",
       " 971: 'hate',\n",
       " 972: 'additional',\n",
       " 973: 'shipped',\n",
       " 974: 'gone',\n",
       " 975: 'upright',\n",
       " 976: 'bouncer',\n",
       " 977: 'opinion',\n",
       " 978: 'learning',\n",
       " 979: 'heard',\n",
       " 980: 'morning',\n",
       " 981: 'drop',\n",
       " 982: 'softer',\n",
       " 983: 'inserts',\n",
       " 984: 'pressure',\n",
       " 985: 'waterproof',\n",
       " 986: 'breastfeeding',\n",
       " 987: 'tummy',\n",
       " 988: 'crazy',\n",
       " 989: 'organic',\n",
       " 990: 'twin',\n",
       " 991: 'careful',\n",
       " 992: 'buttons',\n",
       " 993: 'understand',\n",
       " 994: 'please',\n",
       " 995: 'hook',\n",
       " 996: 'future',\n",
       " 997: 'bedroom',\n",
       " 998: 'city',\n",
       " 999: 'removable',\n",
       " 1000: 'six',\n",
       " ...}"
      ]
     },
     "execution_count": 43,
     "metadata": {
      "tags": []
     },
     "output_type": "execute_result"
    }
   ],
   "source": [
    "tokenizer.index_word   # están indexadas por frecuencia, de manera descendente."
   ]
  },
  {
   "cell_type": "code",
   "execution_count": null,
   "metadata": {
    "colab": {
     "base_uri": "https://localhost:8080/",
     "height": 35
    },
    "id": "SdAUblX6lW4m",
    "outputId": "47d639b2-4770-43a9-8027-8fef1b0e5bcf"
   },
   "outputs": [
    {
     "data": {
      "application/vnd.google.colaboratory.intrinsic+json": {
       "type": "string"
      },
      "text/plain": [
       "'baby'"
      ]
     },
     "execution_count": 44,
     "metadata": {
      "tags": []
     },
     "output_type": "execute_result"
    }
   ],
   "source": [
    "tokenizer.index_word[3]"
   ]
  },
  {
   "cell_type": "code",
   "execution_count": null,
   "metadata": {
    "colab": {
     "base_uri": "https://localhost:8080/"
    },
    "id": "ZkXxOKLBlm4a",
    "outputId": "24595a6c-1c6f-4f02-f823-8ba825266c47"
   },
   "outputs": [
    {
     "data": {
      "text/plain": [
       "3"
      ]
     },
     "execution_count": 45,
     "metadata": {
      "tags": []
     },
     "output_type": "execute_result"
    }
   ],
   "source": [
    "tokenizer.word_index['baby']"
   ]
  },
  {
   "cell_type": "code",
   "execution_count": null,
   "metadata": {
    "colab": {
     "base_uri": "https://localhost:8080/"
    },
    "id": "UYYC6aJdqtqR",
    "outputId": "82fa0ae2-868e-4d98-a374-4f183097958f"
   },
   "outputs": [
    {
     "name": "stdout",
     "output_type": "stream",
     "text": [
      "The document and its encoding:\n",
      " market baby gym one trick highly recommend tiny love baby gym one things one stand one person mentioned neat star eats batteries also little caterpillar detaches not like way baby gym handles putting setting \n",
      " [878, 3, 1296, 2, 1383, 166, 36, 615, 8, 3, 1296, 2, 150, 2, 502, 2, 682, 903, 1657, 637, 2091, 430, 16, 10, 4626, 5043, 1, 7, 53, 3, 1296, 607, 372, 704]\n"
     ]
    }
   ],
   "source": [
    "print(\"The document and its encoding:\\n\",train_x_docs[0], '\\n', train_sequences[0])"
   ]
  },
  {
   "cell_type": "code",
   "execution_count": null,
   "metadata": {
    "colab": {
     "base_uri": "https://localhost:8080/"
    },
    "id": "SoKoodE_sAxo",
    "outputId": "c62e62a1-029d-4ef9-da20-45dbbd33ccc5"
   },
   "outputs": [
    {
     "data": {
      "text/plain": [
       "145907"
      ]
     },
     "execution_count": 47,
     "metadata": {
      "tags": []
     },
     "output_type": "execute_result"
    }
   ],
   "source": [
    "len(train_sequences)  # siguen siendo el mismo nuumero de renglones inicial de los de entrenamiento."
   ]
  },
  {
   "cell_type": "code",
   "execution_count": null,
   "metadata": {
    "id": "62UE_viJqtln"
   },
   "outputs": [],
   "source": [
    "# Add padding, \"post\" or \"pre\": \n",
    "padded_train = pad_sequences(train_sequences, maxlen = 40, padding = 'post', truncating = 'post')\n",
    "\n",
    "padded_validation = pad_sequences(validation_sequences, maxlen = 40, padding = 'post', truncating = 'post')\n",
    "\n",
    "padded_test = pad_sequences(test_sequences, maxlen = 40,  padding = 'post', truncating = 'post') "
   ]
  },
  {
   "cell_type": "code",
   "execution_count": null,
   "metadata": {
    "colab": {
     "base_uri": "https://localhost:8080/"
    },
    "id": "Ca8AXSfrsyF1",
    "outputId": "61d10fdc-d5de-4ec3-96fe-ac50716fc369"
   },
   "outputs": [
    {
     "name": "stdout",
     "output_type": "stream",
     "text": [
      "The padded encoding for document 1 is:\n",
      " [ 878    3 1296    2 1383  166   36  615    8    3 1296    2  150    2\n",
      "  502    2  682  903 1657  637 2091  430   16   10 4626 5043    1    7\n",
      "   53    3 1296  607  372  704    0    0    0    0    0    0]\n",
      "The padded encoding for document 2 is:\n",
      " [ 268  147  633  215    7  286 1036   32   88  533  414  447  215   14\n",
      "  122   50  261  477   95  381  144  273   52  381   54    3 1678  256\n",
      "  211   48   56 6089  158  935 1770  269   59  821   86  600]\n"
     ]
    }
   ],
   "source": [
    "for i,doc in enumerate(padded_train[:2]):\n",
    "     print(\"The padded encoding for document\",i+1,\"is:\\n\",doc)"
   ]
  },
  {
   "cell_type": "markdown",
   "metadata": {
    "id": "VXskE8fTsfLk"
   },
   "source": [
    "### ... hasta aquí no hay problema con la RAM porque hasta aquí no se han generado Matrices o Array 2D... esto es lo costoso para la RAM...\n",
    "\n",
    "###A continuación vienen ahora sí las matrices/Array... pero como los vectores embedding son de dimensión generalmente de decenas o cuando muhco cientos, las matrices son muy pequeñas, comparadas con las generadas por las Tf-Idf"
   ]
  },
  {
   "cell_type": "code",
   "execution_count": null,
   "metadata": {
    "colab": {
     "base_uri": "https://localhost:8080/"
    },
    "id": "AIY4ySAbs8qU",
    "outputId": "24ab19e1-157b-471c-f255-67fc764fe1e6"
   },
   "outputs": [
    {
     "name": "stdout",
     "output_type": "stream",
     "text": [
      "(145907, 40)\n",
      "(18239, 40)\n"
     ]
    }
   ],
   "source": [
    "print(padded_train.shape)\n",
    "print(padded_test.shape)"
   ]
  },
  {
   "cell_type": "code",
   "execution_count": null,
   "metadata": {
    "colab": {
     "base_uri": "https://localhost:8080/"
    },
    "id": "tUDo9zac_N9Q",
    "outputId": "f4e05bf9-c13f-4725-974d-95d690595952"
   },
   "outputs": [
    {
     "data": {
      "text/plain": [
       "46690240"
      ]
     },
     "execution_count": 51,
     "metadata": {
      "tags": []
     },
     "output_type": "execute_result"
    }
   ],
   "source": [
    "145907 * 40 * 8"
   ]
  },
  {
   "cell_type": "code",
   "execution_count": null,
   "metadata": {
    "id": "4kR58BQaqtil"
   },
   "outputs": [],
   "source": [
    "y_train_arr = np.asarray(y_train)    # de Series --> array\n",
    "y_validation_arr = np.asarray(y_validation)\n",
    "y_test_arr = np.asarray(y_test) "
   ]
  },
  {
   "cell_type": "code",
   "execution_count": null,
   "metadata": {
    "colab": {
     "base_uri": "https://localhost:8080/"
    },
    "id": "Ra4BQFsOqtej",
    "outputId": "af18ac2a-83ec-425b-ab6c-1d295c4a83f1"
   },
   "outputs": [
    {
     "data": {
      "text/plain": [
       "9651      0\n",
       "12675     1\n",
       "150130    0\n",
       "45019     1\n",
       "143066    1\n",
       "         ..\n",
       "25631     1\n",
       "125680    1\n",
       "42297     1\n",
       "34959     1\n",
       "64753     1\n",
       "Name: rating, Length: 145907, dtype: int64"
      ]
     },
     "execution_count": 53,
     "metadata": {
      "tags": []
     },
     "output_type": "execute_result"
    }
   ],
   "source": [
    "y_train"
   ]
  },
  {
   "cell_type": "code",
   "execution_count": null,
   "metadata": {
    "colab": {
     "base_uri": "https://localhost:8080/"
    },
    "id": "SiL78Z_bqtbB",
    "outputId": "604aba1c-6011-4d2b-914c-e41a6bd7f1ff"
   },
   "outputs": [
    {
     "data": {
      "text/plain": [
       "array([0, 1, 0, ..., 1, 1, 1])"
      ]
     },
     "execution_count": 54,
     "metadata": {
      "tags": []
     },
     "output_type": "execute_result"
    }
   ],
   "source": [
    "y_train_arr"
   ]
  },
  {
   "cell_type": "code",
   "execution_count": null,
   "metadata": {
    "colab": {
     "base_uri": "https://localhost:8080/"
    },
    "id": "ihQ8qv9c0c-l",
    "outputId": "77442b3f-bea0-4275-c88d-699a20dbe3e8"
   },
   "outputs": [
    {
     "name": "stdout",
     "output_type": "stream",
     "text": [
      "0.7638718308623563\n",
      "0.7632190367837047\n",
      "0.7660379427568812\n",
      "0.766928011404134\n"
     ]
    }
   ],
   "source": [
    "# veamos qué tan bien quedaron repartidas las clases en cada conjunto:\n",
    "print(sum(Y)/len(Y))\n",
    "\n",
    "print(sum(y_train)/len(y_train))\n",
    "print(sum(y_validation)/len(y_validation))\n",
    "print(sum(y_test)/len(y_test))"
   ]
  },
  {
   "cell_type": "code",
   "execution_count": null,
   "metadata": {
    "colab": {
     "base_uri": "https://localhost:8080/"
    },
    "id": "TFj7S8_tjR9j",
    "outputId": "0aa00c62-3a3a-4d95-9597-8d7d77fb1255"
   },
   "outputs": [
    {
     "name": "stdout",
     "output_type": "stream",
     "text": [
      "Model: \"sequential\"\n",
      "_________________________________________________________________\n",
      "Layer (type)                 Output Shape              Param #   \n",
      "=================================================================\n",
      "embedding (Embedding)        (None, None, 128)         794752    \n",
      "_________________________________________________________________\n",
      "bidirectional (Bidirectional (None, 256)               198144    \n",
      "_________________________________________________________________\n",
      "dense (Dense)                (None, 128)               32896     \n",
      "_________________________________________________________________\n",
      "dense_1 (Dense)              (None, 1)                 129       \n",
      "=================================================================\n",
      "Total params: 1,025,921\n",
      "Trainable params: 1,025,921\n",
      "Non-trainable params: 0\n",
      "_________________________________________________________________\n"
     ]
    }
   ],
   "source": [
    "model = Sequential()\n",
    "\n",
    "# embeddidng layer\n",
    "model.add(Embedding(input_dim=total_words, output_dim = 128, embeddings_initializer='uniform'))\n",
    "\n",
    "##model.add(SimpleRNN(128, return_sequences=True))   # si quieres anidar varios RNN...\n",
    "#model.add(SimpleRNN(128))\n",
    "\n",
    "#model.add(GRU(128, return_sequences=True))\n",
    "#model.add(GRU(128))\n",
    "\n",
    "##model.add(LSTM(128, return_sequences=True))\n",
    "#model.add(LSTM(128))\n",
    "\n",
    "\n",
    "\n",
    "# Bi-Directionals:\n",
    "\n",
    "#model.add(Bidirectional(SimpleRNN(128)))\n",
    "\n",
    "model.add(Bidirectional(GRU(128)))\n",
    "\n",
    "#model.add(Bidirectional(LSTM(128, return_sequences=True)))\n",
    "#model.add(Bidirectional(LSTM(128)))\n",
    "\n",
    "\n",
    "\n",
    "# Dense layers\n",
    "model.add(Dense(128, activation = 'relu'))\n",
    "model.add(Dense(1,activation= 'sigmoid'))\n",
    "\n",
    "\n",
    "model.compile(optimizer='adam', loss='binary_crossentropy', metrics=['acc'])\n",
    "model.summary()"
   ]
  },
  {
   "cell_type": "code",
   "execution_count": null,
   "metadata": {
    "id": "N16xl0B323p4"
   },
   "outputs": [],
   "source": [
    "n_epochs = 2\n",
    "n_batch = 128"
   ]
  },
  {
   "cell_type": "code",
   "execution_count": null,
   "metadata": {
    "colab": {
     "base_uri": "https://localhost:8080/"
    },
    "id": "XxWwq2d4qtXT",
    "outputId": "39d68ad6-53b4-45b2-9d46-376af2f36908"
   },
   "outputs": [
    {
     "name": "stdout",
     "output_type": "stream",
     "text": [
      "Epoch 1/2\n",
      "1140/1140 [==============================] - 55s 19ms/step - loss: 0.3683 - acc: 0.8366 - val_loss: 0.2836 - val_acc: 0.8780\n",
      "Epoch 2/2\n",
      "1140/1140 [==============================] - 20s 18ms/step - loss: 0.2561 - acc: 0.8950 - val_loss: 0.2650 - val_acc: 0.8894\n"
     ]
    }
   ],
   "source": [
    "#H = model.fit(padded_train, y_train_arr, batch_size = n_batch, validation_split = 0.1, epochs = n_epochs)      # esta opcioon crea aquii su validation-test...\n",
    "\n",
    "H = model.fit(padded_train, y_train_arr, batch_size = n_batch, validation_data=(padded_validation, y_validation_arr), epochs = n_epochs)  "
   ]
  },
  {
   "cell_type": "code",
   "execution_count": null,
   "metadata": {
    "colab": {
     "base_uri": "https://localhost:8080/",
     "height": 581
    },
    "id": "PiMt5G_Z2yHL",
    "outputId": "e2a63b9f-730b-4fc5-cf06-844067305ad2"
   },
   "outputs": [
    {
     "data": {
      "image/png": "[encoded data removed]",
      "text/plain": [
       "<Figure size 432x288 with 1 Axes>"
      ]
     },
     "metadata": {
      "tags": []
     },
     "output_type": "display_data"
    },
    {
     "data": {
      "image/png": "[encoded data removed]",
      "text/plain": [
       "<Figure size 432x288 with 1 Axes>"
      ]
     },
     "metadata": {
      "tags": []
     },
     "output_type": "display_data"
    }
   ],
   "source": [
    "plt.style.use(\"ggplot\")\n",
    "plt.figure()\n",
    "plt.plot(np.arange(0,n_epochs),H.history[\"acc\"],label=\"train_acc\")\n",
    "plt.plot(np.arange(0,n_epochs),H.history[\"val_acc\"],label=\"val_acc\")\n",
    "plt.title(\"Training and Validation Accuracy\")\n",
    "plt.xlabel(\"Epoch\")\n",
    "plt.ylabel(\"Accuracy\")\n",
    "plt.legend()\n",
    "\n",
    "plt.figure()\n",
    "plt.plot(np.arange(0,n_epochs),H.history[\"loss\"],label=\"train_loss\") \n",
    "plt.plot(np.arange(0,n_epochs),H.history[\"val_loss\"],label=\"val_loss\")\n",
    "plt.title(\"Training and Validation Loss\")\n",
    "plt.xlabel(\"Epoch\")\n",
    "plt.ylabel(\"Loss\")\n",
    "plt.legend()\n",
    "\n",
    "plt.show()"
   ]
  },
  {
   "cell_type": "code",
   "execution_count": null,
   "metadata": {
    "id": "mwEGT3zNqtTp"
   },
   "outputs": [],
   "source": [
    "# make prediction\n",
    "pred = model.predict(padded_test)"
   ]
  },
  {
   "cell_type": "code",
   "execution_count": null,
   "metadata": {
    "colab": {
     "base_uri": "https://localhost:8080/"
    },
    "id": "00P6zPsRx39g",
    "outputId": "56c75622-bd47-4e70-a8ec-9598acc18840"
   },
   "outputs": [
    {
     "data": {
      "text/plain": [
       "(18239, 40)"
      ]
     },
     "execution_count": 72,
     "metadata": {
      "tags": []
     },
     "output_type": "execute_result"
    }
   ],
   "source": [
    "padded_test.shape"
   ]
  },
  {
   "cell_type": "code",
   "execution_count": null,
   "metadata": {
    "id": "S6Wl9_LvqtQS"
   },
   "outputs": [],
   "source": [
    "# if the predicted value is >0.5 it is real else it is fake\n",
    "prediction = []\n",
    "for i in range(len(pred)):\n",
    "    if pred[i].item() > 0.5:  # podemos buscar el mejor umbral...\n",
    "        prediction.append(1)\n",
    "    else:\n",
    "        prediction.append(0)"
   ]
  },
  {
   "cell_type": "code",
   "execution_count": null,
   "metadata": {
    "colab": {
     "base_uri": "https://localhost:8080/"
    },
    "id": "QjwtmLanqtMS",
    "outputId": "bbb3f567-355e-46ba-ce9e-9c5a07cd49ae"
   },
   "outputs": [
    {
     "name": "stdout",
     "output_type": "stream",
     "text": [
      "Model Accuracy :  0.8820659027358956\n"
     ]
    }
   ],
   "source": [
    "# getting the accuracy\n",
    "from sklearn.metrics import accuracy_score\n",
    "\n",
    "accuracy = accuracy_score(list(y_test_arr), prediction)  \n",
    "\n",
    "print(\"Model Accuracy : \", accuracy)"
   ]
  },
  {
   "cell_type": "code",
   "execution_count": null,
   "metadata": {
    "colab": {
     "base_uri": "https://localhost:8080/"
    },
    "id": "iYNRTDxsXyAs",
    "outputId": "cc8f23ad-fec2-4c53-bae0-144d30488570"
   },
   "outputs": [
    {
     "data": {
      "text/plain": [
       "0.8820659027358956"
      ]
     },
     "execution_count": 64,
     "metadata": {
      "tags": []
     },
     "output_type": "execute_result"
    }
   ],
   "source": [
    "# se puede calcular de manera más sencilla, pero por default el umbral es 0.5\n",
    "predic = np.round(pred)\n",
    "accuracy_score(list(y_test_arr), predic) "
   ]
  },
  {
   "cell_type": "code",
   "execution_count": null,
   "metadata": {
    "colab": {
     "base_uri": "https://localhost:8080/"
    },
    "id": "XL2oxHBrqtIO",
    "outputId": "ef50be09-22e3-4fd1-841b-8f28063d244f"
   },
   "outputs": [
    {
     "name": "stdout",
     "output_type": "stream",
     "text": [
      "[[ 2930  1321]\n",
      " [  830 13158]]\n"
     ]
    }
   ],
   "source": [
    "# get the confusion matrix\n",
    "from sklearn.metrics import confusion_matrix\n",
    "cm = confusion_matrix(list(y_test_arr), prediction)\n",
    "print(cm)\n"
   ]
  },
  {
   "cell_type": "code",
   "execution_count": null,
   "metadata": {
    "id": "gWAXN_xvwW-p"
   },
   "outputs": [],
   "source": []
  },
  {
   "cell_type": "code",
   "execution_count": null,
   "metadata": {
    "id": "IDGkKV2SwZyt"
   },
   "outputs": [],
   "source": []
  },
  {
   "cell_type": "code",
   "execution_count": null,
   "metadata": {
    "id": "_mTcMabmyGLK"
   },
   "outputs": [],
   "source": []
  },
  {
   "cell_type": "code",
   "execution_count": null,
   "metadata": {
    "id": "CWg_HGVCyHqK"
   },
   "outputs": [],
   "source": []
  }
 ],
 "metadata": {
  "accelerator": "GPU",
  "colab": {
   "collapsed_sections": [],
   "name": "nlp_amazon_baby_Embedding_RNN_GRU_LSTM_clase.ipynb",
   "provenance": []
  },
  "kernelspec": {
   "display_name": "Python 3",
   "language": "python",
   "name": "python3"
  },
  "language_info": {
   "codemirror_mode": {
    "name": "ipython",
    "version": 3
   },
   "file_extension": ".py",
   "mimetype": "text/x-python",
   "name": "python",
   "nbconvert_exporter": "python",
   "pygments_lexer": "ipython3",
   "version": "3.8.5"
  }
 },
 "nbformat": 4,
 "nbformat_minor": 1
}
