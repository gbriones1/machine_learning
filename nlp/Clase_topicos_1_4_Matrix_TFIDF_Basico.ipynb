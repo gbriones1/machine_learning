{
 "cells": [
  {
   "cell_type": "markdown",
   "metadata": {
    "id": "O1lpo5_6YfUG"
   },
   "source": [
    "#Document-Term-Matrix, TFIDF"
   ]
  },
  {
   "cell_type": "markdown",
   "metadata": {
    "id": "baVpHKJA6chq"
   },
   "source": [
    "El índice 0 sí existe pero no está reservado para ninguna palabra... al menos en Tokenizer de keras: https://keras.io/api/preprocessing/text/ "
   ]
  },
  {
   "cell_type": "markdown",
   "metadata": {
    "id": "jIlfVylS-2o1"
   },
   "source": [
    "#Ejemplo:"
   ]
  },
  {
   "cell_type": "code",
   "execution_count": 1,
   "metadata": {
    "id": "Jpcx6KC9DpLW"
   },
   "outputs": [],
   "source": [
    "import numpy as np\n",
    "\n",
    "from keras.preprocessing.text import Tokenizer  "
   ]
  },
  {
   "cell_type": "markdown",
   "metadata": {
    "id": "lmJJUq1v-5cK"
   },
   "source": [
    "Definamos 10 documentos, 5 positivos y 5 negativos:"
   ]
  },
  {
   "cell_type": "code",
   "execution_count": 2,
   "metadata": {
    "id": "eRwcUfvh706X"
   },
   "outputs": [],
   "source": [
    "docs = [ 'Muy bien hecho lo hecho',\n",
    "        'Excelente trabajo muchacho',\n",
    "        'Sigue como hasta ahora',\n",
    "        'Lo hiciste muy bien',\n",
    "        'Que siga el buen ánimo',\n",
    "        'Pésimo trabajo',\n",
    "        'Que mal desempeño',\n",
    "        'Muy mal hecho',\n",
    "        'Que trabajo tan pobre',\n",
    "        'No está bien']"
   ]
  },
  {
   "cell_type": "code",
   "execution_count": 3,
   "metadata": {
    "colab": {
     "base_uri": "https://localhost:8080/"
    },
    "id": "huzORawIBftU",
    "outputId": "e282cdce-7371-4b84-c205-570d3d385ccf"
   },
   "outputs": [
    {
     "name": "stdout",
     "output_type": "stream",
     "text": [
      "Muy bien hecho lo hecho\n",
      "Excelente trabajo muchacho\n",
      "Sigue como hasta ahora\n",
      "Lo hiciste muy bien\n",
      "Que siga el buen ánimo\n",
      "Pésimo trabajo\n",
      "Que mal desempeño\n",
      "Muy mal hecho\n",
      "Que trabajo tan pobre\n",
      "No está bien\n"
     ]
    }
   ],
   "source": [
    "for d in docs:\n",
    "  print(d)"
   ]
  },
  {
   "cell_type": "markdown",
   "metadata": {
    "id": "bhSc1VC1AMzr"
   },
   "source": [
    "Definamos sus clases:"
   ]
  },
  {
   "cell_type": "code",
   "execution_count": 4,
   "metadata": {
    "id": "qlLNYD2wAR8W"
   },
   "outputs": [],
   "source": [
    "labels = np.array([1,1,1,1,1, 0,0,0,0,0])"
   ]
  },
  {
   "cell_type": "markdown",
   "metadata": {
    "id": "XHfZ3TlLBIdT"
   },
   "source": [
    "En este ejemplo indexemos las palabras de nuestro vocabulario/diccionario. Recuerda que el tamaño del diccionario debe ser mayor o igual al total de palabras. Es mejor que vocab_size sea mayor al total de palabras, más vale que sobre y no que falte:"
   ]
  },
  {
   "cell_type": "markdown",
   "metadata": {
    "id": "kDv2Lj4JH-KN"
   },
   "source": [
    "Se estima que vocab_Size debe ser al menos 1.3 veces mayor al total de palabras para evitar colisiones."
   ]
  },
  {
   "cell_type": "markdown",
   "metadata": {
    "id": "-cBCCxavSpbv"
   },
   "source": [
    "Por ejemplo con vocab_size=20 se tendrían varias colisiones en este ejemplo ya que la conatidad de palabras es de 24..."
   ]
  },
  {
   "cell_type": "code",
   "execution_count": 5,
   "metadata": {
    "id": "_PPMDHFcgfrA"
   },
   "outputs": [],
   "source": [
    "t = Tokenizer()  # Tokenizador.. apliquémoslos primeramente con sus opciones predeterminadas..."
   ]
  },
  {
   "cell_type": "code",
   "execution_count": 6,
   "metadata": {
    "id": "56vEpRQ7gwW3"
   },
   "outputs": [],
   "source": [
    "t.fit_on_texts(docs)"
   ]
  },
  {
   "cell_type": "markdown",
   "metadata": {
    "id": "Tma7I9THCPlE"
   },
   "source": [
    "El index_docs nos dice cuántas veces aparece cada palabra (índice) en todos los documentos:"
   ]
  },
  {
   "cell_type": "code",
   "execution_count": 7,
   "metadata": {
    "colab": {
     "base_uri": "https://localhost:8080/"
    },
    "id": "3hpHX0Ti4ZUf",
    "outputId": "61f999c0-241d-4c98-87dc-efb8e9d4736c"
   },
   "outputs": [
    {
     "data": {
      "text/plain": [
       "defaultdict(int,\n",
       "            {1: 3,\n",
       "             2: 3,\n",
       "             3: 2,\n",
       "             4: 3,\n",
       "             5: 3,\n",
       "             6: 2,\n",
       "             7: 2,\n",
       "             8: 1,\n",
       "             9: 1,\n",
       "             10: 1,\n",
       "             11: 1,\n",
       "             12: 1,\n",
       "             13: 1,\n",
       "             14: 1,\n",
       "             15: 1,\n",
       "             16: 1,\n",
       "             17: 1,\n",
       "             18: 1,\n",
       "             19: 1,\n",
       "             20: 1,\n",
       "             21: 1,\n",
       "             22: 1,\n",
       "             23: 1,\n",
       "             24: 1})"
      ]
     },
     "execution_count": 7,
     "metadata": {
      "tags": []
     },
     "output_type": "execute_result"
    }
   ],
   "source": [
    "t.index_docs"
   ]
  },
  {
   "cell_type": "markdown",
   "metadata": {
    "id": "NzYhGOiubf-Y"
   },
   "source": [
    "A su vez que podemos obtener la correspondencia entre el índice y la palabra de nuestro diccionario/vocabulario:"
   ]
  },
  {
   "cell_type": "code",
   "execution_count": 8,
   "metadata": {
    "colab": {
     "base_uri": "https://localhost:8080/"
    },
    "id": "HLC1bY_-Cr-D",
    "outputId": "cc12baea-4a6c-49a4-ab69-45302fe18c24"
   },
   "outputs": [
    {
     "data": {
      "text/plain": [
       "{1: 'muy',\n",
       " 2: 'bien',\n",
       " 3: 'hecho',\n",
       " 4: 'trabajo',\n",
       " 5: 'que',\n",
       " 6: 'lo',\n",
       " 7: 'mal',\n",
       " 8: 'excelente',\n",
       " 9: 'muchacho',\n",
       " 10: 'sigue',\n",
       " 11: 'como',\n",
       " 12: 'hasta',\n",
       " 13: 'ahora',\n",
       " 14: 'hiciste',\n",
       " 15: 'siga',\n",
       " 16: 'el',\n",
       " 17: 'buen',\n",
       " 18: 'ánimo',\n",
       " 19: 'pésimo',\n",
       " 20: 'desempeño',\n",
       " 21: 'tan',\n",
       " 22: 'pobre',\n",
       " 23: 'no',\n",
       " 24: 'está'}"
      ]
     },
     "execution_count": 8,
     "metadata": {
      "tags": []
     },
     "output_type": "execute_result"
    }
   ],
   "source": [
    "t.index_word"
   ]
  },
  {
   "cell_type": "markdown",
   "metadata": {
    "id": "PiRY7rky2SSv"
   },
   "source": [
    "Aplicamos el criterio de que nuestro diccionario tenga al menos 1.3 * (palabras diferentes) para evitar colisiones... "
   ]
  },
  {
   "cell_type": "code",
   "execution_count": 9,
   "metadata": {
    "colab": {
     "base_uri": "https://localhost:8080/"
    },
    "id": "gIrcTp2j44IB",
    "outputId": "745380e7-a4ca-4f2e-e1b7-41bc344ba4d5"
   },
   "outputs": [
    {
     "name": "stdout",
     "output_type": "stream",
     "text": [
      "24\n"
     ]
    }
   ],
   "source": [
    "print(len(t.word_index))"
   ]
  },
  {
   "cell_type": "code",
   "execution_count": 10,
   "metadata": {
    "colab": {
     "base_uri": "https://localhost:8080/"
    },
    "id": "4XZKhxpNhMFr",
    "outputId": "90fc92dc-41a2-4f09-c24d-7f28ee3eabc3"
   },
   "outputs": [
    {
     "name": "stdout",
     "output_type": "stream",
     "text": [
      "33\n"
     ]
    }
   ],
   "source": [
    "vocab_size2 = int(np.ceil((len(t.word_index) +1) * 1.3))   # tamaño del diccionario/vocabulario .\n",
    "print(vocab_size2)"
   ]
  },
  {
   "cell_type": "code",
   "execution_count": null,
   "metadata": {
    "colab": {
     "base_uri": "https://localhost:8080/"
    },
    "id": "vdse3MYjhj9e",
    "outputId": "d14d94ca-014b-4cdf-b10e-6b06b19beeec"
   },
   "outputs": [
    {
     "name": "stdout",
     "output_type": "stream",
     "text": [
      "[[1, 2, 3, 6, 3], [8, 4, 9], [10, 11, 12, 13], [6, 14, 1, 2], [5, 15, 16, 17, 18], [19, 4], [5, 7, 20], [1, 7, 3], [5, 4, 21, 22], [23, 24, 2]]\n"
     ]
    }
   ],
   "source": [
    "encoded_docs2 = t.texts_to_sequences(docs)  # obtenemos la representación de cada documento inicial \n",
    "#en relación al índice que le corresponde en el diccionario que obtuvimos previamente... \n",
    "# esto lo usaremos más adelante en el curso.\n",
    "print(encoded_docs2)"
   ]
  },
  {
   "cell_type": "markdown",
   "metadata": {
    "id": "yV31MsqM7FbL"
   },
   "source": [
    "### O bien, como opción 2 de Tokenizer, podemos aplicar algunos criterios de flitrado y permite clasificar aquellas palabras nuevas que puedan aparecer en futuros documentos como \"#\" (oov:out-of-vocabulary). si previamente realizaste el proceso de filtrado, este paso ya no sería necesario, aunque sí conviene usar en general la opción oov_token:"
   ]
  },
  {
   "cell_type": "code",
   "execution_count": 11,
   "metadata": {
    "id": "KCzOkmVB7K-C"
   },
   "outputs": [],
   "source": [
    "tokens = Tokenizer(num_words=vocab_size2, filters='!\"#$%&()*+,-./:;<=>?...', lower=True, split=' ', oov_token='#')"
   ]
  },
  {
   "cell_type": "code",
   "execution_count": 12,
   "metadata": {
    "id": "OWQ4GuvQ9Md8"
   },
   "outputs": [],
   "source": [
    "tokens.fit_on_texts(docs)"
   ]
  },
  {
   "cell_type": "markdown",
   "metadata": {
    "id": "Kj-8wqT0FLiG"
   },
   "source": [
    "Generamos de nuevo el diccionario de palabra con su índice, esperando quede mejor habiendo eliminado posibles caracteres especiales y dando cabida a palabras nuevas desconocidas:"
   ]
  },
  {
   "cell_type": "code",
   "execution_count": 13,
   "metadata": {
    "colab": {
     "base_uri": "https://localhost:8080/"
    },
    "id": "F049Hh5T99Gv",
    "outputId": "b3cec2d7-8e59-401e-a210-9f6054086166"
   },
   "outputs": [
    {
     "name": "stdout",
     "output_type": "stream",
     "text": [
      "{'#': 1, 'muy': 2, 'bien': 3, 'hecho': 4, 'trabajo': 5, 'que': 6, 'lo': 7, 'mal': 8, 'excelente': 9, 'muchacho': 10, 'sigue': 11, 'como': 12, 'hasta': 13, 'ahora': 14, 'hiciste': 15, 'siga': 16, 'el': 17, 'buen': 18, 'ánimo': 19, 'pésimo': 20, 'desempeño': 21, 'tan': 22, 'pobre': 23, 'no': 24, 'está': 25}\n"
     ]
    }
   ],
   "source": [
    "print(tokens.word_index)"
   ]
  },
  {
   "cell_type": "markdown",
   "metadata": {
    "id": "oV3SKoBxIFDd"
   },
   "source": [
    "Podemos tener el diccionario de palabra con índice:"
   ]
  },
  {
   "cell_type": "code",
   "execution_count": 14,
   "metadata": {
    "colab": {
     "base_uri": "https://localhost:8080/"
    },
    "id": "ODPpXLPF-2i9",
    "outputId": "6731fe56-4def-4f39-ee90-5bb11cc425d5"
   },
   "outputs": [
    {
     "data": {
      "text/plain": [
       "{'#': 1,\n",
       " 'ahora': 14,\n",
       " 'bien': 3,\n",
       " 'buen': 18,\n",
       " 'como': 12,\n",
       " 'desempeño': 21,\n",
       " 'el': 17,\n",
       " 'está': 25,\n",
       " 'excelente': 9,\n",
       " 'hasta': 13,\n",
       " 'hecho': 4,\n",
       " 'hiciste': 15,\n",
       " 'lo': 7,\n",
       " 'mal': 8,\n",
       " 'muchacho': 10,\n",
       " 'muy': 2,\n",
       " 'no': 24,\n",
       " 'pobre': 23,\n",
       " 'pésimo': 20,\n",
       " 'que': 6,\n",
       " 'siga': 16,\n",
       " 'sigue': 11,\n",
       " 'tan': 22,\n",
       " 'trabajo': 5,\n",
       " 'ánimo': 19}"
      ]
     },
     "execution_count": 14,
     "metadata": {
      "tags": []
     },
     "output_type": "execute_result"
    }
   ],
   "source": [
    "tokens.word_index"
   ]
  },
  {
   "cell_type": "markdown",
   "metadata": {
    "id": "rjBc3fzjLw-a"
   },
   "source": [
    "O bien, si queremos solamente el índice de una palabra del diccionario:"
   ]
  },
  {
   "cell_type": "code",
   "execution_count": 15,
   "metadata": {
    "colab": {
     "base_uri": "https://localhost:8080/"
    },
    "id": "Q0HaygqpLj8R",
    "outputId": "e0bc7160-9acd-4919-eaea-d0cfaa081814"
   },
   "outputs": [
    {
     "data": {
      "text/plain": [
       "16"
      ]
     },
     "execution_count": 15,
     "metadata": {
      "tags": []
     },
     "output_type": "execute_result"
    }
   ],
   "source": [
    "tokens.word_index['siga']"
   ]
  },
  {
   "cell_type": "markdown",
   "metadata": {
    "id": "VcUK22HxIPne"
   },
   "source": [
    "O bien, de índice con palabra:"
   ]
  },
  {
   "cell_type": "code",
   "execution_count": 16,
   "metadata": {
    "colab": {
     "base_uri": "https://localhost:8080/"
    },
    "id": "wyw8lN35H5au",
    "outputId": "d8b5acef-4e20-4c7c-b4ce-6075cabf227f"
   },
   "outputs": [
    {
     "data": {
      "text/plain": [
       "{1: '#',\n",
       " 2: 'muy',\n",
       " 3: 'bien',\n",
       " 4: 'hecho',\n",
       " 5: 'trabajo',\n",
       " 6: 'que',\n",
       " 7: 'lo',\n",
       " 8: 'mal',\n",
       " 9: 'excelente',\n",
       " 10: 'muchacho',\n",
       " 11: 'sigue',\n",
       " 12: 'como',\n",
       " 13: 'hasta',\n",
       " 14: 'ahora',\n",
       " 15: 'hiciste',\n",
       " 16: 'siga',\n",
       " 17: 'el',\n",
       " 18: 'buen',\n",
       " 19: 'ánimo',\n",
       " 20: 'pésimo',\n",
       " 21: 'desempeño',\n",
       " 22: 'tan',\n",
       " 23: 'pobre',\n",
       " 24: 'no',\n",
       " 25: 'está'}"
      ]
     },
     "execution_count": 16,
     "metadata": {
      "tags": []
     },
     "output_type": "execute_result"
    }
   ],
   "source": [
    "tokens.index_word"
   ]
  },
  {
   "cell_type": "markdown",
   "metadata": {
    "id": "xie075_nMBXG"
   },
   "source": [
    "O bien, solo la palabra de un índice particular:"
   ]
  },
  {
   "cell_type": "code",
   "execution_count": 17,
   "metadata": {
    "colab": {
     "base_uri": "https://localhost:8080/",
     "height": 35
    },
    "id": "i-c-gpRDMIP8",
    "outputId": "420e026a-6683-4752-f1d3-c4747a411a25"
   },
   "outputs": [
    {
     "data": {
      "application/vnd.google.colaboratory.intrinsic+json": {
       "type": "string"
      },
      "text/plain": [
       "'está'"
      ]
     },
     "execution_count": 17,
     "metadata": {
      "tags": []
     },
     "output_type": "execute_result"
    }
   ],
   "source": [
    "tokens.index_word[25]"
   ]
  },
  {
   "cell_type": "markdown",
   "metadata": {
    "id": "l8tanDD_IYyt"
   },
   "source": [
    "#Ahora veamos como obtener la DTM a través de la TF-IDF, TF, count o binary:"
   ]
  },
  {
   "cell_type": "code",
   "execution_count": 24,
   "metadata": {
    "id": "ZAazvT6Y8qXq"
   },
   "outputs": [],
   "source": [
    "tm = tokens.texts_to_matrix(docs, mode='count')  # Opciones: binary, count, freq, tf-idf."
   ]
  },
  {
   "cell_type": "code",
   "execution_count": 25,
   "metadata": {
    "colab": {
     "base_uri": "https://localhost:8080/"
    },
    "id": "D2z50OKuADMO",
    "outputId": "9729082b-095f-4cef-dc65-b79a5cf77247"
   },
   "outputs": [
    {
     "name": "stdout",
     "output_type": "stream",
     "text": [
      "(10, 33)\n"
     ]
    }
   ],
   "source": [
    "#print(tm.size)  # imprime el producto de rows*cols: en este caso num_of_words + index_of_# + index_of_0. \n",
    "print(tm.shape)  # 10 documents y 27 índices/tokens/palabras en el diccionario/vocabulario."
   ]
  },
  {
   "cell_type": "code",
   "execution_count": 26,
   "metadata": {
    "colab": {
     "base_uri": "https://localhost:8080/"
    },
    "id": "Xiy-htnZ_-e3",
    "outputId": "a5bf1c6a-bef0-4131-c212-229c88726a3a"
   },
   "outputs": [
    {
     "data": {
      "text/plain": [
       "array([[0., 0., 1., 1., 2., 0., 0., 1., 0., 0., 0., 0., 0., 0., 0., 0.,\n",
       "        0., 0., 0., 0., 0., 0., 0., 0., 0., 0., 0., 0., 0., 0., 0., 0.,\n",
       "        0.],\n",
       "       [0., 0., 0., 0., 0., 1., 0., 0., 0., 1., 1., 0., 0., 0., 0., 0.,\n",
       "        0., 0., 0., 0., 0., 0., 0., 0., 0., 0., 0., 0., 0., 0., 0., 0.,\n",
       "        0.]])"
      ]
     },
     "execution_count": 26,
     "metadata": {
      "tags": []
     },
     "output_type": "execute_result"
    }
   ],
   "source": [
    "tm[0:2]    #... observa que se trata de una matriz dispersa (sparse)... en general este será el caso."
   ]
  }
 ],
 "metadata": {
  "accelerator": "GPU",
  "colab": {
   "collapsed_sections": [],
   "name": "Clase_topicos_1_4_Matrix_TFIDF_Basico3333.ipynb",
   "provenance": []
  },
  "kernelspec": {
   "display_name": "Python 3",
   "language": "python",
   "name": "python3"
  },
  "language_info": {
   "codemirror_mode": {
    "name": "ipython",
    "version": 3
   },
   "file_extension": ".py",
   "mimetype": "text/x-python",
   "name": "python",
   "nbconvert_exporter": "python",
   "pygments_lexer": "ipython3",
   "version": "3.8.5"
  }
 },
 "nbformat": 4,
 "nbformat_minor": 1
}
