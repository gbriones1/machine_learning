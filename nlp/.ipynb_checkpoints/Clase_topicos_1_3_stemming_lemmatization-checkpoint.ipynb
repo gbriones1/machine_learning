{
 "cells": [
  {
   "cell_type": "markdown",
   "metadata": {
    "id": "1cSL59C1zkTH"
   },
   "source": [
    "#**Stemming y Lemmatization**\n",
    "\n",
    "### Para el caso de Stemming y Lemmatization existen una gran cantidad de librerías y métodos. \n",
    "\n",
    "###Veamos unos ejemplos para clarificar los conceptos."
   ]
  },
  {
   "cell_type": "markdown",
   "metadata": {
    "id": "4nVB6R9y82S9"
   },
   "source": [
    "# **Porter stemming algorithm**\n",
    "\n",
    "### uno de los más populares algoritmos en inglés desarrollado por Martin Porter: https://tartarus.org/martin/PorterStemmer/   "
   ]
  },
  {
   "cell_type": "code",
   "execution_count": 1,
   "metadata": {
    "id": "393ztBiDzVwN"
   },
   "outputs": [],
   "source": [
    "import nltk\n",
    "\n",
    "from nltk.stem import PorterStemmer   "
   ]
  },
  {
   "cell_type": "code",
   "execution_count": 2,
   "metadata": {
    "id": "QREEl0rB3Ux9"
   },
   "outputs": [],
   "source": [
    "# creamos un objeto de la clase PorterStemmer\n",
    "ps = PorterStemmer()"
   ]
  },
  {
   "cell_type": "code",
   "execution_count": 3,
   "metadata": {
    "colab": {
     "base_uri": "https://localhost:8080/"
    },
    "id": "WsHCN8ug0-Jc",
    "outputId": "cd0f32d7-fc72-4600-d190-55a31e1f3d2c"
   },
   "outputs": [
    {
     "data": {
      "text/plain": [
       "['visit', 'visit', 'visit']"
      ]
     },
     "execution_count": 3,
     "metadata": {
      "tags": []
     },
     "output_type": "execute_result"
    }
   ],
   "source": [
    "# Verbo regular:\n",
    "x = ['visits', 'visited', 'visiting']\n",
    "\n",
    "[ps.stem(w) for w in x]"
   ]
  },
  {
   "cell_type": "code",
   "execution_count": 4,
   "metadata": {
    "colab": {
     "base_uri": "https://localhost:8080/"
    },
    "id": "21PVPjNj4S4d",
    "outputId": "9417af96-8b2a-4d69-d11d-f3db09128ee4"
   },
   "outputs": [
    {
     "name": "stdout",
     "output_type": "stream",
     "text": [
      "['fall', 'fell', 'fallen', 'fall', 'ring', 'rang', 'rung', 'ring', 'come', 'came', 'come', 'built']\n"
     ]
    }
   ],
   "source": [
    "#Verbo irregular:\n",
    "y = ['fall', 'fell', 'fallen', 'falling', 'ring', 'rang', 'rung', 'ringing', 'come', 'came', 'coming', 'built']\n",
    "\n",
    "print([ps.stem(w) for w in y])"
   ]
  },
  {
   "cell_type": "code",
   "execution_count": 5,
   "metadata": {
    "colab": {
     "base_uri": "https://localhost:8080/"
    },
    "id": "TKpE0Kc85cZG",
    "outputId": "7ca8d7aa-547c-4241-b2ee-5ac5fe21262b"
   },
   "outputs": [
    {
     "name": "stdout",
     "output_type": "stream",
     "text": [
      "['strang', 'dog', 'beauti', 'amaz', 'cat', 'termin', 'care', 'eldest', 'farthest', 'further', 'queri', 'waterb']\n"
     ]
    }
   ],
   "source": [
    "# otro tipo de palabras...\n",
    "z = ['strange', 'dogs', 'beautiful', 'amazing', 'cats', 'terminator', 'carefully', 'eldest', 'farthest', 'further', 'queries', 'waterbed']\n",
    "\n",
    "print([ps.stem(w) for w in z])\n"
   ]
  },
  {
   "cell_type": "markdown",
   "metadata": {
    "id": "X6vbrUyL89Hc"
   },
   "source": [
    "# **Lancaster - Paice/Husk stemming algorithm**\n",
    "\n",
    "#### Algoritmo desarrollado por Chris D. Paice en la Universidad de Lancaster. \n",
    "\n",
    "Generalmente reduce más la longitud de una palabra y es más rápido en genral. Podemos decir que es \"más agresivo\" en relación a otros algoritmos, aunque esto pueda generar luego problemas en la interpretación o significado de las salidas generadas."
   ]
  },
  {
   "cell_type": "code",
   "execution_count": 6,
   "metadata": {
    "id": "Qer94dYq9I-p"
   },
   "outputs": [],
   "source": [
    "from nltk.stem import LancasterStemmer"
   ]
  },
  {
   "cell_type": "code",
   "execution_count": 8,
   "metadata": {
    "id": "agZuCoF69om0"
   },
   "outputs": [],
   "source": [
    "ls = LancasterStemmer()"
   ]
  },
  {
   "cell_type": "code",
   "execution_count": 9,
   "metadata": {
    "colab": {
     "base_uri": "https://localhost:8080/"
    },
    "id": "_w6JaCi59yFU",
    "outputId": "ee9dcda7-ff4b-4301-d27c-5aaf17aee06b"
   },
   "outputs": [
    {
     "data": {
      "text/plain": [
       "['visit', 'visit', 'visit']"
      ]
     },
     "execution_count": 9,
     "metadata": {
      "tags": []
     },
     "output_type": "execute_result"
    }
   ],
   "source": [
    "x = ['visits', 'visited', 'visiting']\n",
    "\n",
    "[ls.stem(w) for w in x]"
   ]
  },
  {
   "cell_type": "code",
   "execution_count": 10,
   "metadata": {
    "colab": {
     "base_uri": "https://localhost:8080/"
    },
    "id": "01F3Qf-191t7",
    "outputId": "7554d823-94aa-4031-8b29-6be6b6a012c0"
   },
   "outputs": [
    {
     "name": "stdout",
     "output_type": "stream",
     "text": [
      "['fal', 'fel', 'fal', 'fal', 'ring', 'rang', 'rung', 'ring', 'com', 'cam', 'com', 'built', 'wer']\n"
     ]
    }
   ],
   "source": [
    "y = ['fall', 'fell', 'fallen', 'falling', 'ring', 'rang', 'rung', 'ringing', 'come', 'came', 'coming', 'built', 'were']\n",
    "\n",
    "print([ls.stem(w) for w in y])"
   ]
  },
  {
   "cell_type": "code",
   "execution_count": 11,
   "metadata": {
    "colab": {
     "base_uri": "https://localhost:8080/"
    },
    "id": "NjNjsRAI-BA0",
    "outputId": "c0415629-b7ff-4056-b37a-24a513cd27e1"
   },
   "outputs": [
    {
     "name": "stdout",
     "output_type": "stream",
     "text": [
      "['strange', 'dog', 'beauty', 'amaz', 'cat', 'termin', 'car', 'eldest', 'farthest', 'furth', 'query', 'waterb']\n"
     ]
    }
   ],
   "source": [
    "z = ['strange', 'dogs', 'beautiful', 'amazing', 'cats', 'terminator', 'carefully', 'eldest', 'farthest', 'further', 'queries', 'waterbed']\n",
    "\n",
    "print([ls.stem(w) for w in z])"
   ]
  },
  {
   "cell_type": "markdown",
   "metadata": {
    "id": "BbGiKTkTwgKZ"
   },
   "source": [
    "# **RegexpStemmer stemming algorithm**\n",
    "\n",
    "### **Rule-base-method**: Lo interesante de este modelo es que puedes construir tus propias reglas y complementarlo con alguno de los otros algoritmos."
   ]
  },
  {
   "cell_type": "code",
   "execution_count": 12,
   "metadata": {
    "id": "SqOVuooPwxaA"
   },
   "outputs": [],
   "source": [
    "from nltk.stem import RegexpStemmer"
   ]
  },
  {
   "cell_type": "code",
   "execution_count": 18,
   "metadata": {
    "id": "La3-0oflxUPJ"
   },
   "outputs": [],
   "source": [
    "# min : longitud mínima del string para que se aplique el criterio de eliminar los regexp indicados:\n",
    "rs = RegexpStemmer('ing$|ed$|s$|fall$', min=3)  "
   ]
  },
  {
   "cell_type": "code",
   "execution_count": null,
   "metadata": {
    "id": "859Gfw84yP4w"
   },
   "outputs": [],
   "source": [
    "x = ['visits', 'visited', 'visiting']\n",
    "\n",
    "[rs.stem(w) for w in x]"
   ]
  },
  {
   "cell_type": "code",
   "execution_count": 19,
   "metadata": {
    "colab": {
     "base_uri": "https://localhost:8080/"
    },
    "id": "iAfavbdXyWAa",
    "outputId": "3a687c49-597e-4944-d85a-85fbbd1c345e"
   },
   "outputs": [
    {
     "name": "stdout",
     "output_type": "stream",
     "text": [
      "['', 'fell', 'fallen', 'fall', 'r', 'rang', 'rung', 'ring', 'come', 'came', 'com', 'built', 'were']\n"
     ]
    }
   ],
   "source": [
    "y = ['fall', 'fell', 'fallen', 'falling', 'ring', 'rang', 'rung', 'ringing', 'come', 'came', 'coming', 'built', 'were']\n",
    "\n",
    "print([rs.stem(w) for w in y])"
   ]
  },
  {
   "cell_type": "code",
   "execution_count": 17,
   "metadata": {
    "colab": {
     "base_uri": "https://localhost:8080/"
    },
    "id": "6Zqk8cAuygjw",
    "outputId": "d1cf4b84-9282-49dc-bc90-b372f5b35672"
   },
   "outputs": [
    {
     "name": "stdout",
     "output_type": "stream",
     "text": [
      "['strange', 'dog', 'beautiful', 'amaz', 'cat', 'terminator', 'carefully', 'eldest', 'farthest', 'further', 'querie', 'waterb']\n"
     ]
    }
   ],
   "source": [
    "z = ['strange', 'dogs', 'beautiful', 'amazing', 'cats', 'terminator', 'carefully', 'eldest', 'farthest', 'further', 'queries', 'waterbed']\n",
    "\n",
    "print([rs.stem(w) for w in z])"
   ]
  },
  {
   "cell_type": "markdown",
   "metadata": {
    "id": "Evd9wbyt38sI"
   },
   "source": [
    "### Podemos crear nuestras propias reglas en Español con RegexpStemmer, ya que no depende estrictamente de algún idioma en particular:"
   ]
  },
  {
   "cell_type": "code",
   "execution_count": 20,
   "metadata": {
    "id": "N4KvWi364D9J"
   },
   "outputs": [],
   "source": [
    "srs = RegexpStemmer('ron$|eiste$|é|ando|ar$', min=5)  "
   ]
  },
  {
   "cell_type": "code",
   "execution_count": 21,
   "metadata": {
    "colab": {
     "base_uri": "https://localhost:8080/"
    },
    "id": "jgGE6LGZ4gNQ",
    "outputId": "76322be9-2400-4f4d-a928-e8dff3a37265"
   },
   "outputs": [
    {
     "name": "stdout",
     "output_type": "stream",
     "text": [
      "['jug', 'jug', 'jugu', 'jugaste', 'camin', 'almorc', 'fué', 'fue', 'fuiste', 'acept', 'aceptó', 'acepta', 'r']\n"
     ]
    }
   ],
   "source": [
    "x = ['jugar', 'jugando', 'jugué', 'jugaste', 'caminé', 'almorcé', 'fué', 'fueron', 'fuiste', 'aceptar', 'aceptó', 'aceptaron', 'reiste']\n",
    "\n",
    "print([srs.stem(w) for w in x])"
   ]
  },
  {
   "cell_type": "markdown",
   "metadata": {
    "id": "H_GVf_ebzCDR"
   },
   "source": [
    "# **Snowball - Porter2 stemming algorithm**\n",
    "\n",
    "### Es un algoritmo que mejora el algoritmo de Porter, principlmente en cuanto al tiempo de cómputo. \n",
    "\n",
    "###Pero la principal diferencia es que soporta diferentes idiomas, entre ellos el Español."
   ]
  },
  {
   "cell_type": "code",
   "execution_count": 22,
   "metadata": {
    "id": "ihk3HlEe0jh5"
   },
   "outputs": [],
   "source": [
    "from nltk.stem import SnowballStemmer"
   ]
  },
  {
   "cell_type": "code",
   "execution_count": 23,
   "metadata": {
    "colab": {
     "base_uri": "https://localhost:8080/"
    },
    "id": "wV87iCk7caQg",
    "outputId": "29e667f6-2cfe-41ea-bfbd-5aab4c7fd979"
   },
   "outputs": [
    {
     "name": "stdout",
     "output_type": "stream",
     "text": [
      "('arabic', 'danish', 'dutch', 'english', 'finnish', 'french', 'german', 'hungarian', 'italian', 'norwegian', 'porter', 'portuguese', 'romanian', 'russian', 'spanish', 'swedish')\n"
     ]
    }
   ],
   "source": [
    "print(SnowballStemmer.languages)"
   ]
  },
  {
   "cell_type": "code",
   "execution_count": 24,
   "metadata": {
    "id": "r2zFoVQx0_Dw"
   },
   "outputs": [],
   "source": [
    "ss = SnowballStemmer(\"english\")"
   ]
  },
  {
   "cell_type": "code",
   "execution_count": 25,
   "metadata": {
    "colab": {
     "base_uri": "https://localhost:8080/"
    },
    "id": "pTWmLOLX1ydh",
    "outputId": "afd59c12-c164-4ca7-cb38-5985a53bfff7"
   },
   "outputs": [
    {
     "data": {
      "text/plain": [
       "['visit', 'visit', 'visit']"
      ]
     },
     "execution_count": 25,
     "metadata": {
      "tags": []
     },
     "output_type": "execute_result"
    }
   ],
   "source": [
    "x = ['visits', 'visited', 'visiting']\n",
    "\n",
    "[ss.stem(w) for w in x]"
   ]
  },
  {
   "cell_type": "code",
   "execution_count": 26,
   "metadata": {
    "colab": {
     "base_uri": "https://localhost:8080/"
    },
    "id": "etcz4GCM11zo",
    "outputId": "5cad57ff-829a-4704-f78a-205aa1a56220"
   },
   "outputs": [
    {
     "name": "stdout",
     "output_type": "stream",
     "text": [
      "['fall', 'fell', 'fallen', 'fall', 'ring', 'rang', 'rung', 'ring', 'come', 'came', 'come', 'built', 'were']\n"
     ]
    }
   ],
   "source": [
    "y = ['fall', 'fell', 'fallen', 'falling', 'ring', 'rang', 'rung', 'ringing', 'come', 'came', 'coming', 'built', 'were']\n",
    "\n",
    "print([ss.stem(w) for w in y])"
   ]
  },
  {
   "cell_type": "code",
   "execution_count": 27,
   "metadata": {
    "colab": {
     "base_uri": "https://localhost:8080/"
    },
    "id": "w9EXplA619ds",
    "outputId": "5c3b8dc7-d975-4451-fd88-55a9870cce79"
   },
   "outputs": [
    {
     "name": "stdout",
     "output_type": "stream",
     "text": [
      "['strang', 'dog', 'beauti', 'amaz', 'cat', 'termin', 'care', 'eldest', 'farthest', 'further', 'queri', 'waterb']\n"
     ]
    }
   ],
   "source": [
    "z = ['strange', 'dogs', 'beautiful', 'amazing', 'cats', 'terminator', 'carefully', 'eldest', 'farthest', 'further', 'queries', 'waterbed']\n",
    "\n",
    "print([ss.stem(w) for w in z])"
   ]
  },
  {
   "cell_type": "markdown",
   "metadata": {
    "id": "xExutVXp2Pof"
   },
   "source": [
    "### **Veamos algunos casos en Español:**"
   ]
  },
  {
   "cell_type": "code",
   "execution_count": 28,
   "metadata": {
    "id": "yqzeh4tT2TQI"
   },
   "outputs": [],
   "source": [
    "sss = SnowballStemmer(\"spanish\")"
   ]
  },
  {
   "cell_type": "code",
   "execution_count": 30,
   "metadata": {
    "colab": {
     "base_uri": "https://localhost:8080/"
    },
    "id": "VwUovJmM2XaA",
    "outputId": "8e959f0d-e900-4ab7-9138-231ce5731db3"
   },
   "outputs": [
    {
     "name": "stdout",
     "output_type": "stream",
     "text": [
      "['jug', 'jug', 'jug', 'jug', 'jug', 'camin', 'almorc', 'fue', 'fueron', 'fuist', 'acept', 'acept', 'acept', 'acept']\n"
     ]
    }
   ],
   "source": [
    "x = ['jugar', 'jugando', 'jugué', 'jugaste', 'jugo', 'caminé', 'almorcé', 'fué', 'fueron', 'fuiste', 'aceptar', 'aceptó', 'aceptaron', 'aceptaste']\n",
    "\n",
    "print([sss.stem(w) for w in x])"
   ]
  },
  {
   "cell_type": "markdown",
   "metadata": {
    "id": "Yj_R79CTBbWf"
   },
   "source": [
    "#**LEMMATIZATION**\n",
    "\n",
    "### Se requiere de la base de datos de WordNet "
   ]
  },
  {
   "cell_type": "code",
   "execution_count": null,
   "metadata": {
    "id": "aM9UpwOtBfJg"
   },
   "outputs": [],
   "source": [
    "from nltk.stem import WordNetLemmatizer\n",
    "nltk.download('wordnet')"
   ]
  },
  {
   "cell_type": "code",
   "execution_count": 33,
   "metadata": {
    "id": "aLo5zlsqBoIH"
   },
   "outputs": [],
   "source": [
    "wnl = WordNetLemmatizer()"
   ]
  },
  {
   "cell_type": "code",
   "execution_count": 34,
   "metadata": {
    "colab": {
     "base_uri": "https://localhost:8080/"
    },
    "id": "jtw9i0MZB2nP",
    "outputId": "0b4ae969-8ce6-48b4-ce69-6fcb86fd688f"
   },
   "outputs": [
    {
     "name": "stdout",
     "output_type": "stream",
     "text": [
      "['fall', 'fell', 'fallen', 'falling', 'ring', 'rang', 'rung', 'ringing', 'come', 'came', 'coming', 'built', 'were', 'am', 'is']\n"
     ]
    }
   ],
   "source": [
    "y = ['fall', 'fell', 'fallen', 'falling', 'ring', 'rang', 'rung', 'ringing', 'come', 'came', 'coming', 'built', 'were', 'am', 'is']\n",
    "\n",
    "print([wnl.lemmatize(w) for w in y])"
   ]
  },
  {
   "cell_type": "markdown",
   "metadata": {
    "id": "C433zO21CZIH"
   },
   "source": [
    "###Observa que no llevó a cabo ninguna modificación, esto es porque requiere la información sintáctica de la palabra. \n",
    "\n",
    "###La opción predeterminada es \"noun\" (sustantivo).\n",
    "\n",
    "###En este caso que todos son verbos, veamos como esta información nos ayuda a obtener mejores resultados:"
   ]
  },
  {
   "cell_type": "code",
   "execution_count": 35,
   "metadata": {
    "colab": {
     "base_uri": "https://localhost:8080/"
    },
    "id": "mg32oOSiCtIy",
    "outputId": "4321ad24-92a5-46dd-d1b0-04cb9818c650"
   },
   "outputs": [
    {
     "name": "stdout",
     "output_type": "stream",
     "text": [
      "['fall', 'fell', 'fall', 'fall', 'ring', 'ring', 'ring', 'ring', 'come', 'come', 'come', 'build', 'be', 'be', 'be']\n"
     ]
    }
   ],
   "source": [
    "#verbs\n",
    "print([wnl.lemmatize(w, pos='v') for w in y])"
   ]
  },
  {
   "cell_type": "code",
   "execution_count": 36,
   "metadata": {
    "colab": {
     "base_uri": "https://localhost:8080/"
    },
    "id": "ZDQehaJhC7iv",
    "outputId": "dd9ac459-c01e-4ac9-ec32-7d5cc8235b3e"
   },
   "outputs": [
    {
     "name": "stdout",
     "output_type": "stream",
     "text": [
      "['stranger', 'dog', 'beautifully', 'amaze', 'whiter', 'terminator', 'carefully', 'eldest', 'farthest', 'further', 'query', 'waterbed']\n"
     ]
    }
   ],
   "source": [
    "z = ['stranger', 'dogs', 'beautifully', 'amazing', 'whiter', 'terminator', 'carefully', 'eldest', 'farthest', 'further', 'queries', 'waterbed']\n",
    "# verbs\n",
    "print([wnl.lemmatize(w, 'v') for w in z])"
   ]
  },
  {
   "cell_type": "code",
   "execution_count": 37,
   "metadata": {
    "colab": {
     "base_uri": "https://localhost:8080/"
    },
    "id": "-DrkmOQ4DQz_",
    "outputId": "d1a184d2-e4bb-48d1-a329-34897ff6d44e"
   },
   "outputs": [
    {
     "name": "stdout",
     "output_type": "stream",
     "text": [
      "['stranger', 'dog', 'beautifully', 'amazing', 'whiter', 'terminator', 'carefully', 'eldest', 'farthest', 'further', 'query', 'waterbed']\n"
     ]
    }
   ],
   "source": [
    "# nouns\n",
    "print([wnl.lemmatize(w, 'n') for w in z])"
   ]
  },
  {
   "cell_type": "code",
   "execution_count": 38,
   "metadata": {
    "colab": {
     "base_uri": "https://localhost:8080/"
    },
    "id": "NNHBI19DDemg",
    "outputId": "8c500ab1-2a17-409f-ad3a-fd87ec42df58"
   },
   "outputs": [
    {
     "name": "stdout",
     "output_type": "stream",
     "text": [
      "['strange', 'dogs', 'beautifully', 'amazing', 'white', 'terminator', 'carefully', 'eldest', 'farthest', 'further', 'queries', 'waterbed']\n"
     ]
    }
   ],
   "source": [
    "# adjectives\n",
    "print([wnl.lemmatize(w, 'a') for w in z])"
   ]
  },
  {
   "cell_type": "code",
   "execution_count": 39,
   "metadata": {
    "colab": {
     "base_uri": "https://localhost:8080/"
    },
    "id": "G8f0_mOvgIkf",
    "outputId": "36232b5c-2cf9-4ac5-c387-0e5d79369ce1"
   },
   "outputs": [
    {
     "name": "stdout",
     "output_type": "stream",
     "text": [
      "['stranger', 'dogs', 'beautifully', 'amazing', 'whiter', 'terminator', 'carefully', 'eldest', 'farthest', 'far', 'queries', 'waterbed']\n"
     ]
    }
   ],
   "source": [
    "# adverbios\n",
    "print([wnl.lemmatize(w, 'r') for w in z])"
   ]
  },
  {
   "cell_type": "markdown",
   "metadata": {
    "id": "uNgfhho3q25H"
   },
   "source": [
    "# Presentación tabular:"
   ]
  },
  {
   "cell_type": "code",
   "execution_count": null,
   "metadata": {
    "id": "7UNG6YVbq6J8"
   },
   "outputs": [],
   "source": [
    "print(\"{0:20}{1:20}{2:20}\".format(\"Word\",\"Porter Stemmer\",\"lancaster Stemmer\"))\n",
    "for word in y:\n",
    "    print(\"{0:20}{1:20}{2:20}\".format(word, ps.stem(word),ls.stem(word)))"
   ]
  }
 ],
 "metadata": {
  "colab": {
   "collapsed_sections": [],
   "name": "Clase_topicos_1_3_stemming_lemmatization.ipynb",
   "provenance": []
  },
  "kernelspec": {
   "display_name": "Python 3",
   "language": "python",
   "name": "python3"
  },
  "language_info": {
   "codemirror_mode": {
    "name": "ipython",
    "version": 3
   },
   "file_extension": ".py",
   "mimetype": "text/x-python",
   "name": "python",
   "nbconvert_exporter": "python",
   "pygments_lexer": "ipython3",
   "version": "3.8.5"
  }
 },
 "nbformat": 4,
 "nbformat_minor": 1
}
