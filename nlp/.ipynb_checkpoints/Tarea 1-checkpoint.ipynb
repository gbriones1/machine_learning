{
 "cells": [
  {
   "cell_type": "markdown",
   "id": "different-mouth",
   "metadata": {},
   "source": [
    "## Tópicos de IA\n",
    "# Tarea 1: Expresiones Regulares\n",
    "### ITESM Campus Guadalajara Escuela de Posgrados de Ingeniería y Ciencias\n",
    "### Maestría en Ciencias de la Computación\n",
    "## Dr. Luis Eduardo Falcón Morales\n",
    "### Gabriel Briones Sayeg A01222517"
   ]
  },
  {
   "cell_type": "markdown",
   "id": "legitimate-programmer",
   "metadata": {},
   "source": [
    "1. Describe la clase de strings que representan cada una de las siguientes expresiones regulares:\n",
    "\n",
    "     a. `[a-zA-Z]+` Contiene una o mas letras mayusculas o minusculas.\n",
    " \n",
    "     b. `[A-Z][a-z]*` Empieza con una letra mayuscula y puede o no tener cualquier sucesion de letras minusculas. (Palabras capitalizadas).\n",
    " \n",
    "     c. `p[aeiou]{,2}t` Empieza con el caracter \"p\", puede ser seguido de no mas de 2 una vocales y termina con el caracter \"t\"\n",
    " \n",
    "     d. `\\d+(\\.\\d+)?` Empeza con uno o mas digitos y puede ser seguido de un punto y uno o mas digitos. (Numeros enteros o decimales).\n",
    " \n",
    "     e. `([^aeiou][aeiou][^aeiou])*` Multiplos de 3 que siguen la secuencia consonante-vocal-consonante o la cadena vacia. Ejemplo: poplittar\n",
    " \n",
    "     f. `\\w+|[^\\w\\s]+` Es una secuencia de letras, digitos y guiones bajos o una secuencia de simbolos que no son letras, digitos, guiones bajos ni espacios.\n",
    " "
   ]
  },
  {
   "cell_type": "markdown",
   "id": "italian-technical",
   "metadata": {},
   "source": [
    "2. A partir del documento “austen-sense.txt” del corpus gutenberg de NLTK responde a los siguientes incisos:\n",
    "\n",
    "    a. Cuántas palabras (strings) tiene dicho documento y cuántos diferentes.\n",
    "    \n",
    "    b. Usa expresiones regulares para contar únicamente palabras diferentes en la novela, es decir, no contabilizar signos de puntuación o caracteres especiales.\n",
    "    \n",
    "    c. ¿Cuántas referencias a años contiene la novela? ¿Cuántos de estos años son diferentes? "
   ]
  },
  {
   "cell_type": "code",
   "execution_count": 1,
   "id": "engaging-latter",
   "metadata": {},
   "outputs": [],
   "source": [
    "import re\n",
    "from nltk.corpus import gutenberg"
   ]
  },
  {
   "cell_type": "code",
   "execution_count": 4,
   "id": "radio-massage",
   "metadata": {},
   "outputs": [
    {
     "name": "stdout",
     "output_type": "stream",
     "text": [
      "Tokens: 141576\n",
      "Tokens diferentes: 6833\n"
     ]
    }
   ],
   "source": [
    "tokens = gutenberg.words('austen-sense.txt')\n",
    "print(f\"Cantidad de tokens: {len(tokens)}\")\n",
    "print(f\"Cantidad de tokens diferentes: {len(set(tokens))}\")"
   ]
  },
  {
   "cell_type": "code",
   "execution_count": 11,
   "id": "heavy-connecticut",
   "metadata": {},
   "outputs": [
    {
     "name": "stdout",
     "output_type": "stream",
     "text": [
      "Palabras: 120787\n",
      "Palabras diferentes: 6766\n"
     ]
    }
   ],
   "source": [
    "words = [t for t in tokens if re.search('^\\w+$', t)]\n",
    "print(f\"Cantidad de palabras: {len(words)}\")\n",
    "print(f\"Cantidad de palabras diferentes: {len(set(words))}\")"
   ]
  },
  {
   "cell_type": "code",
   "execution_count": 13,
   "id": "rental-atlantic",
   "metadata": {},
   "outputs": [
    {
     "name": "stdout",
     "output_type": "stream",
     "text": [
      "Cantidad de años: 1\n",
      "Cantidad de años diferentes: 1\n",
      "Años: ['1811']\n"
     ]
    }
   ],
   "source": [
    "years = [t for t in tokens if re.search('^\\d{4}$', t)]\n",
    "print(f\"Cantidad de años: {len(years)}\")\n",
    "print(f\"Cantidad de años diferentes: {len(set(years))}\")\n",
    "print(f\"Años: {years}\")"
   ]
  },
  {
   "cell_type": "markdown",
   "id": "alleged-zimbabwe",
   "metadata": {},
   "source": [
    "3. Considera el siguiente documento: `doc = [\"Employers have an important role to play in supporting vital #covid19 vaccination efforts. @choo_ek, @DraCoquiMD, @DrAlethaMaybank, @drjootz and I offer thoughts on how best they can do so in  @USATODAY\", \"A legend. But also a lovely, warm, utterly grounded human being. Thank you, Cicely, for the art you made, the path you forged, and the lives you changed.\", \"Today, our country is expected to mark 400,000 people confirmed lost to COVID-19. Tonight, President-elect @JoeBiden will lead us in a moment of national mourning to honor their lives and their memories. https://bideninaugural.org/covidmemorial/\", \"About 2.2 million people have been displaced within Ethiopia’s #Tigray region since fighting erupted there in Nov. with about half fleeing after their homes were burned down. How many more millions? @JoeBiden @AmbMKimani @UN #TigrayGenocide #BidenActNow\", \"En respuesta a @HillaryClinton @music4ever77 y  @JoeBiden #Thanks #LoveIsInTheAir #loveandroses https://t.co/vfYsNhZTVB?amp=1#WanderersLaSerenaxTNTSports\"]`\n",
    "\n",
    "    a. Encuentra una expresión regular para seleccionar los nombres de usuarios y hashtags.\n",
    "    \n",
    "    b. Encuentra una expresión regular para encontrar todas las ligas http.\n",
    "    \n",
    "    c. Encuentra una expresión regular para borrar del documento todos los nombres de usuario, hashtags y ligas http.  "
   ]
  },
  {
   "cell_type": "code",
   "execution_count": 29,
   "id": "greatest-arena",
   "metadata": {},
   "outputs": [
    {
     "data": {
      "text/plain": [
       "['Employers have an important role to play in supporting vital #covid19 vaccination efforts. @choo_ek, @DraCoquiMD, @DrAlethaMaybank, @drjootz and I offer thoughts on how best they can do so in  @USATODAY',\n",
       " 'A legend. But also a lovely, warm, utterly grounded human being. Thank you, Cicely, for the art you made, the path you forged, and the lives you changed.',\n",
       " 'Today, our country is expected to mark 400,000 people confirmed lost to COVID-19. Tonight, President-elect @JoeBiden will lead us in a moment of national mourning to honor their lives and their memories. https://bideninaugural.org/covidmemorial/',\n",
       " 'About 2.2 million people have been displaced within Ethiopia’s #Tigray region since fighting erupted there in Nov. with about half fleeing after their homes were burned down. How many more millions? @JoeBiden @AmbMKimani @UN #TigrayGenocide #BidenActNow',\n",
       " 'En respuesta a @HillaryClinton @music4ever77 y  @JoeBiden #Thanks #LoveIsInTheAir #loveandroses https://t.co/vfYsNhZTVB?amp=1#WanderersLaSerenaxTNTSports']"
      ]
     },
     "execution_count": 29,
     "metadata": {},
     "output_type": "execute_result"
    }
   ],
   "source": [
    "doc = [\"Employers have an important role to play in supporting vital #covid19 vaccination efforts. @choo_ek, @DraCoquiMD, @DrAlethaMaybank, @drjootz and I offer thoughts on how best they can do so in  @USATODAY\", \"A legend. But also a lovely, warm, utterly grounded human being. Thank you, Cicely, for the art you made, the path you forged, and the lives you changed.\", \"Today, our country is expected to mark 400,000 people confirmed lost to COVID-19. Tonight, President-elect @JoeBiden will lead us in a moment of national mourning to honor their lives and their memories. https://bideninaugural.org/covidmemorial/\", \"About 2.2 million people have been displaced within Ethiopia’s #Tigray region since fighting erupted there in Nov. with about half fleeing after their homes were burned down. How many more millions? @JoeBiden @AmbMKimani @UN #TigrayGenocide #BidenActNow\", \"En respuesta a @HillaryClinton @music4ever77 y  @JoeBiden #Thanks #LoveIsInTheAir #loveandroses https://t.co/vfYsNhZTVB?amp=1#WanderersLaSerenaxTNTSports\"]\n",
    "doc"
   ]
  },
  {
   "cell_type": "code",
   "execution_count": 27,
   "id": "enabling-citizen",
   "metadata": {},
   "outputs": [
    {
     "name": "stdout",
     "output_type": "stream",
     "text": [
      "Users and tags: {'#Tigray', '@AmbMKimani', '#loveandroses', '#TigrayGenocide', '@JoeBiden', '#WanderersLaSerenaxTNTSports', '#BidenActNow', '#LoveIsInTheAir', '@HillaryClinton', '@UN', '#Thanks', '@DrAlethaMaybank', '@drjootz', '#covid19', '@DraCoquiMD', '@music4ever77', '@USATODAY', '@choo_ek'}\n"
     ]
    }
   ],
   "source": [
    "users_and_tags = []\n",
    "for x in doc:\n",
    "    users_and_tags.extend(re.findall(r\"@\\w+|#\\w+\", x))\n",
    "print(f\"Usuarios y hashtags: {set(users_and_tags)}\")"
   ]
  },
  {
   "cell_type": "code",
   "execution_count": 28,
   "id": "olympic-oklahoma",
   "metadata": {},
   "outputs": [
    {
     "name": "stdout",
     "output_type": "stream",
     "text": [
      "Links: {'https://t.co/vfYsNhZTVB?amp=1#WanderersLaSerenaxTNTSports', 'https://bideninaugural.org/covidmemorial/'}\n"
     ]
    }
   ],
   "source": [
    "links = []\n",
    "for x in doc:\n",
    "    links.extend(re.findall(r\"http[s]?:\\/\\/\\S+\", x))\n",
    "print(f\"Links: {set(links)}\")"
   ]
  },
  {
   "cell_type": "code",
   "execution_count": 30,
   "id": "numerous-kernel",
   "metadata": {},
   "outputs": [
    {
     "name": "stdout",
     "output_type": "stream",
     "text": [
      "Employers have an important role to play in supporting vital  vaccination efforts. , , ,  and I offer thoughts on how best they can do so in  \n",
      "A legend. But also a lovely, warm, utterly grounded human being. Thank you, Cicely, for the art you made, the path you forged, and the lives you changed.\n",
      "Today, our country is expected to mark 400,000 people confirmed lost to COVID-19. Tonight, President-elect  will lead us in a moment of national mourning to honor their lives and their memories. \n",
      "About 2.2 million people have been displaced within Ethiopia’s  region since fighting erupted there in Nov. with about half fleeing after their homes were burned down. How many more millions?     \n",
      "En respuesta a   y      \n"
     ]
    }
   ],
   "source": [
    "for x in doc:\n",
    "    clean = re.sub(\"http[s]?:\\/\\/\\S+|@\\w+|#\\w+\", \"\", x)\n",
    "    print(f\"Limpio: {clean}\\n\")"
   ]
  }
 ],
 "metadata": {
  "kernelspec": {
   "display_name": "Python 3",
   "language": "python",
   "name": "python3"
  },
  "language_info": {
   "codemirror_mode": {
    "name": "ipython",
    "version": 3
   },
   "file_extension": ".py",
   "mimetype": "text/x-python",
   "name": "python",
   "nbconvert_exporter": "python",
   "pygments_lexer": "ipython3",
   "version": "3.8.5"
  }
 },
 "nbformat": 4,
 "nbformat_minor": 5
}
