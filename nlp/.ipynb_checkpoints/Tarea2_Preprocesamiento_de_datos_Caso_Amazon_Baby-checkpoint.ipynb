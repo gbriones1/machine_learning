{
 "cells": [
  {
   "cell_type": "markdown",
   "metadata": {
    "id": "-XYSZHtwhZhD"
   },
   "source": [
    "## Tópicos de IA\n",
    "## Tarea 1: Expresiones Regulares\n",
    "### ITESM Campus Guadalajara\n",
    "### Escuela de Posgrados de Ingeniería y Ciencias\n",
    "### Maestría en Ciencias de la Computación\n",
    "Elisa Fernández Castillo A01221781\n",
    "Gabriel Briones Sayeg A01222517"
   ]
  },
  {
   "cell_type": "markdown",
   "metadata": {
    "id": "3PGxofN70i7z"
   },
   "source": [
    "**1. A partir del archivo “amazon_baby.csv” que se encuentra en Canvas resuelve los siguientes incisos:\n",
    "a. Llamemos a los comentarios de la columna “review”, review01. Realiza un limpiado de los\n",
    "comentarios review01 usando únicamente expresiones regulares. Aplica las expresiones\n",
    "regulares que consideres adecuado para obtener un texto que posteriormente será utilizado\n",
    "como entrada de una red neuronal para clasificar su sentimiento.**"
   ]
  },
  {
   "cell_type": "code",
   "execution_count": 4,
   "metadata": {
    "colab": {
     "base_uri": "https://localhost:8080/"
    },
    "id": "WeXlgl-3hJPi",
    "outputId": "104ce114-a759-46d4-d465-725f9f8eccee"
   },
   "outputs": [
    {
     "ename": "ModuleNotFoundError",
     "evalue": "No module named 'google'",
     "output_type": "error",
     "traceback": [
      "\u001b[0;31m---------------------------------------------------------------------------\u001b[0m",
      "\u001b[0;31mModuleNotFoundError\u001b[0m                       Traceback (most recent call last)",
      "\u001b[0;32m<ipython-input-4-d5df0069828e>\u001b[0m in \u001b[0;36m<module>\u001b[0;34m\u001b[0m\n\u001b[0;32m----> 1\u001b[0;31m \u001b[0;32mfrom\u001b[0m \u001b[0mgoogle\u001b[0m\u001b[0;34m.\u001b[0m\u001b[0mcolab\u001b[0m \u001b[0;32mimport\u001b[0m \u001b[0mdrive\u001b[0m\u001b[0;34m\u001b[0m\u001b[0;34m\u001b[0m\u001b[0m\n\u001b[0m\u001b[1;32m      2\u001b[0m \u001b[0mdrive\u001b[0m\u001b[0;34m.\u001b[0m\u001b[0mmount\u001b[0m\u001b[0;34m(\u001b[0m\u001b[0;34m'/content/drive'\u001b[0m\u001b[0;34m)\u001b[0m\u001b[0;34m\u001b[0m\u001b[0;34m\u001b[0m\u001b[0m\n",
      "\u001b[0;31mModuleNotFoundError\u001b[0m: No module named 'google'"
     ]
    }
   ],
   "source": [
    "from google.colab import drive\n",
    "drive.mount('/content/drive')"
   ]
  },
  {
   "cell_type": "code",
   "execution_count": 3,
   "metadata": {
    "colab": {
     "base_uri": "https://localhost:8080/"
    },
    "id": "tvpkScW-3K0H",
    "outputId": "b512f13c-7182-4d8e-b03a-d8f70ffd71da"
   },
   "outputs": [
    {
     "name": "stdout",
     "output_type": "stream",
     "text": [
      "[Errno 2] No such file or directory: 'drive/My Drive/DeepLearning2/Tarea2/'\n",
      "/home/gbriones/Workspace/machine_learning/nlp\n"
     ]
    }
   ],
   "source": [
    "%cd drive/My Drive/DeepLearning2/Tarea2/"
   ]
  },
  {
   "cell_type": "code",
   "execution_count": null,
   "metadata": {
    "colab": {
     "base_uri": "https://localhost:8080/"
    },
    "id": "TD4lCoOs4BO3",
    "outputId": "39244cc9-d5d6-4bc1-bf5a-727b36acfc64"
   },
   "outputs": [],
   "source": [
    "import os\n",
    "import re\n",
    "import pandas as pd\n",
    "\n",
    "# Stemming and Lemmatizers\n",
    "import nltk\n",
    "from nltk.stem import PorterStemmer, LancasterStemmer, RegexpStemmer, SnowballStemmer, WordNetLemmatizer\n",
    "nltk.download('wordnet')\n",
    "\n",
    "# Keras\n",
    "from keras.preprocessing.text import Tokenizer\n"
   ]
  },
  {
   "cell_type": "code",
   "execution_count": null,
   "metadata": {
    "colab": {
     "base_uri": "https://localhost:8080/"
    },
    "id": "dOD3nCvI3Y-n",
    "outputId": "3392b085-7f5b-49ee-dd8d-d6f8cf84124f"
   },
   "outputs": [],
   "source": [
    "print(os.listdir())\n"
   ]
  },
  {
   "cell_type": "code",
   "execution_count": null,
   "metadata": {
    "colab": {
     "base_uri": "https://localhost:8080/"
    },
    "id": "Tf6eC3734LDP",
    "outputId": "2e8945d9-7703-4554-9b34-82fdb2e29fe8"
   },
   "outputs": [],
   "source": [
    "data = pd.read_csv(\"amazon_baby.csv\")\n",
    "print(data.shape)"
   ]
  },
  {
   "cell_type": "code",
   "execution_count": null,
   "metadata": {
    "colab": {
     "base_uri": "https://localhost:8080/",
     "height": 197
    },
    "id": "_RrkM5bj4UW-",
    "outputId": "52b57a14-4462-4afa-a3ea-0c75946cea05"
   },
   "outputs": [],
   "source": [
    "data.head()"
   ]
  },
  {
   "cell_type": "code",
   "execution_count": null,
   "metadata": {
    "id": "7Jdwj4xK56v2"
   },
   "outputs": [],
   "source": [
    "def cleaning_reviews(sentence):\n",
    "  # print(sentence)\n",
    "  # print(type(sentence))\n",
    "  # print(dir(sentence))\n",
    "  words = sentence.split()\n",
    "  return \" \".join([w.lower() if w.isalnum() else re.sub(\"[^A-Za-z']+\",' ',w.lower()) for w in words ])\n",
    "  "
   ]
  },
  {
   "cell_type": "code",
   "execution_count": null,
   "metadata": {
    "colab": {
     "base_uri": "https://localhost:8080/"
    },
    "id": "jiXanHhaA9-h",
    "outputId": "410fc2d4-2326-4860-c6ec-419ff9df9a35"
   },
   "outputs": [],
   "source": [
    "# Revisar si hay valores nulos\n",
    "data.isnull().sum()"
   ]
  },
  {
   "cell_type": "code",
   "execution_count": null,
   "metadata": {
    "id": "M9LofAMjBWSs"
   },
   "outputs": [],
   "source": [
    "# Debido a que hay varias filas sin un review, se decidió eliminar estas filas en el pandas dataframe puesto que sin review no se podrá hacer un análisis de setimientos \n",
    "data = data.dropna()"
   ]
  },
  {
   "cell_type": "code",
   "execution_count": null,
   "metadata": {
    "colab": {
     "base_uri": "https://localhost:8080/"
    },
    "id": "7Z6GWlBCC8tn",
    "outputId": "f83b3f1e-b453-478f-9697-9e4255aa607c"
   },
   "outputs": [],
   "source": [
    "data.isnull().sum()"
   ]
  },
  {
   "cell_type": "code",
   "execution_count": null,
   "metadata": {
    "colab": {
     "base_uri": "https://localhost:8080/"
    },
    "id": "lL6H0YjGDF99",
    "outputId": "70a5ccc0-437b-4d46-dc5c-f2b5ce5b91bd"
   },
   "outputs": [],
   "source": [
    "# Se eliminaron en total 1147 filas del pandas dataframe que contenían algún valor nulo\n",
    "data.shape"
   ]
  },
  {
   "cell_type": "code",
   "execution_count": null,
   "metadata": {
    "id": "tA09LOx-8lh4"
   },
   "outputs": [],
   "source": [
    "data['review01'] = data['review'].apply(cleaning_reviews)"
   ]
  },
  {
   "cell_type": "code",
   "execution_count": null,
   "metadata": {
    "colab": {
     "base_uri": "https://localhost:8080/",
     "height": 53
    },
    "id": "O8zZYmXR9gvu",
    "outputId": "dfe25766-e6a9-4963-ad9f-e176d187c882"
   },
   "outputs": [],
   "source": [
    "data['review01'][0]"
   ]
  },
  {
   "cell_type": "code",
   "execution_count": null,
   "metadata": {
    "colab": {
     "base_uri": "https://localhost:8080/",
     "height": 35
    },
    "id": "K7N861v39sS9",
    "outputId": "e245aef8-e096-4c2e-fe05-605538131889"
   },
   "outputs": [],
   "source": [
    "data['review01'][2]"
   ]
  },
  {
   "cell_type": "code",
   "execution_count": null,
   "metadata": {
    "colab": {
     "base_uri": "https://localhost:8080/",
     "height": 35
    },
    "id": "nmlHE--rQ6oC",
    "outputId": "bfe2f2d0-41eb-4bc3-9727-2a2f98f3a9fb"
   },
   "outputs": [],
   "source": [
    "data['review01'][28]"
   ]
  },
  {
   "cell_type": "code",
   "execution_count": null,
   "metadata": {
    "colab": {
     "base_uri": "https://localhost:8080/"
    },
    "id": "kJEUZcW0R7NT",
    "outputId": "f3b61f23-6926-493d-9c41-928c1deef6a0"
   },
   "outputs": [],
   "source": [
    "data['review01'][28].split()"
   ]
  },
  {
   "cell_type": "code",
   "execution_count": null,
   "metadata": {
    "colab": {
     "base_uri": "https://localhost:8080/",
     "height": 53
    },
    "id": "QrUdboSJSF3C",
    "outputId": "e230cc29-e1cd-4752-ffb0-5eb194e28cad"
   },
   "outputs": [],
   "source": [
    "data['review01'][51]"
   ]
  },
  {
   "cell_type": "code",
   "execution_count": null,
   "metadata": {
    "colab": {
     "base_uri": "https://localhost:8080/"
    },
    "id": "Uqi4hzXlTFpy",
    "outputId": "e73e4f49-ae0d-48dd-ee97-1cde109ed5c4"
   },
   "outputs": [],
   "source": [
    "data['review01'][51].split()"
   ]
  },
  {
   "cell_type": "markdown",
   "metadata": {
    "id": "RscU1GtU0as4"
   },
   "source": [
    "**b. Aplica los algoritmos de stemming vistos en clase al primer comentario que se tiene en\n",
    "review01 (es decir, solo utiliza el comentario que inicia “These flannel wipes are OK…”) y\n",
    "elije el que consideres el mejor resultado por simple inspección visual.**"
   ]
  },
  {
   "cell_type": "code",
   "execution_count": null,
   "metadata": {
    "id": "A2RCDMcZTRv5"
   },
   "outputs": [],
   "source": [
    "first_comment = data['review01'][0]"
   ]
  },
  {
   "cell_type": "code",
   "execution_count": null,
   "metadata": {
    "colab": {
     "base_uri": "https://localhost:8080/",
     "height": 53
    },
    "id": "gnHQ-gG61me1",
    "outputId": "87cd0a0f-adac-4c1e-e512-fe4e9cb90039"
   },
   "outputs": [],
   "source": [
    "first_comment"
   ]
  },
  {
   "cell_type": "code",
   "execution_count": null,
   "metadata": {
    "colab": {
     "base_uri": "https://localhost:8080/",
     "height": 53
    },
    "id": "vx2tGAOF2Cr8",
    "outputId": "7ff7fe5e-dae9-480b-d8b5-ee38ef6caf28"
   },
   "outputs": [],
   "source": [
    "porter_stem = PorterStemmer()\n",
    "\" \".join([porter_stem.stem(w) for w in first_comment.split()])"
   ]
  },
  {
   "cell_type": "code",
   "execution_count": null,
   "metadata": {
    "colab": {
     "base_uri": "https://localhost:8080/",
     "height": 53
    },
    "id": "kgciYNH54Hm6",
    "outputId": "aa350042-eb72-4b65-8688-a94f315ddc72"
   },
   "outputs": [],
   "source": [
    "# Lancaster Stemmer afectó mucho el sentido de las palabras\n",
    "lancaster_stem = LancasterStemmer()\n",
    "\" \".join([lancaster_stem.stem(w) for w in first_comment.split()])"
   ]
  },
  {
   "cell_type": "code",
   "execution_count": null,
   "metadata": {
    "colab": {
     "base_uri": "https://localhost:8080/",
     "height": 53
    },
    "id": "Mf545Jfx5fqL",
    "outputId": "073ed951-7329-476e-ac5d-a63b8544cb6b"
   },
   "outputs": [],
   "source": [
    "regex_stem = RegexpStemmer('ing$|ed$|s$',min=5)\n",
    "\" \".join([regex_stem.stem(w) for w in first_comment.split()])"
   ]
  },
  {
   "cell_type": "code",
   "execution_count": null,
   "metadata": {
    "colab": {
     "base_uri": "https://localhost:8080/",
     "height": 53
    },
    "id": "Ghwj5BsA7LUD",
    "outputId": "c7f49611-e856-419b-8145-98f2ae497b3e"
   },
   "outputs": [],
   "source": [
    "snowball_stem = SnowballStemmer('english')\n",
    "\" \".join([snowball_stem.stem(w) for w in first_comment.split()])"
   ]
  },
  {
   "cell_type": "markdown",
   "metadata": {
    "id": "34FWci2Y9MEF"
   },
   "source": [
    "Conclusión: consdiero que el mejor algoritmo de Stemming en este caso es de RegexpStemmer puesto que mantiene mejor el sentido de las palabras."
   ]
  },
  {
   "cell_type": "markdown",
   "metadata": {
    "id": "lH1XpARx-W-N"
   },
   "source": [
    "**c. Aplica ahora los algoritmos de lemmatization vistos en clase al mismo primer comentario\n",
    "original de review01. Por simple inspección, ¿cuál crees que simplifica mejor el contenido\n",
    "del mensaje sin perder su sentido original?**"
   ]
  },
  {
   "cell_type": "code",
   "execution_count": null,
   "metadata": {
    "colab": {
     "base_uri": "https://localhost:8080/",
     "height": 53
    },
    "id": "pmzNf-tI8Pm8",
    "outputId": "360f42e1-b4f0-4cc7-d5ea-779afcee53b9"
   },
   "outputs": [],
   "source": [
    "wnl = WordNetLemmatizer()\n",
    "\" \".join([wnl.lemmatize(w,pos='v') for w in first_comment.split()])"
   ]
  },
  {
   "cell_type": "code",
   "execution_count": null,
   "metadata": {
    "colab": {
     "base_uri": "https://localhost:8080/",
     "height": 53
    },
    "id": "F6Nd3arlAg-a",
    "outputId": "c5a63cec-9c43-450f-d058-c242c3ff13f9"
   },
   "outputs": [],
   "source": [
    "\" \".join([wnl.lemmatize(w,pos='n') for w in first_comment.split()])"
   ]
  },
  {
   "cell_type": "markdown",
   "metadata": {
    "id": "dF8H4dbcCHJe"
   },
   "source": [
    "Conclusión: Considero que es mejor hacer lematización de los verbos. Entre stemming y lemmatization, este último mantiene mejor el sentido de las palabras"
   ]
  },
  {
   "cell_type": "markdown",
   "metadata": {
    "id": "4Vf661c_CeS0"
   },
   "source": [
    "**d. Combina los resultados de los primeros dos incisos para procesar los datos y obtener una\n",
    "limpieza de los comentarios.**"
   ]
  },
  {
   "cell_type": "code",
   "execution_count": null,
   "metadata": {
    "id": "gtHcXk7MBNGL"
   },
   "outputs": [],
   "source": [
    "def lemmatizing(sentence):\n",
    "  words = sentence.split()\n",
    "  return \" \".join([wnl.lemmatize(w,pos='v') for w in words])"
   ]
  },
  {
   "cell_type": "code",
   "execution_count": null,
   "metadata": {
    "id": "62uR2KrYKKpm"
   },
   "outputs": [],
   "source": [
    "data['review02'] = data['review01'].apply(lemmatizing)"
   ]
  },
  {
   "cell_type": "code",
   "execution_count": null,
   "metadata": {
    "colab": {
     "base_uri": "https://localhost:8080/",
     "height": 197
    },
    "id": "vw3QdQBkKnP0",
    "outputId": "0ce6f332-63db-4d28-f6ed-ef16ab0d5f32"
   },
   "outputs": [],
   "source": [
    "data.head()"
   ]
  },
  {
   "cell_type": "code",
   "execution_count": null,
   "metadata": {
    "colab": {
     "base_uri": "https://localhost:8080/",
     "height": 53
    },
    "id": "ziqHY3idKuU1",
    "outputId": "5307699d-e421-48df-8685-e2fd25bbf697"
   },
   "outputs": [],
   "source": [
    "data['review01'][4]"
   ]
  },
  {
   "cell_type": "code",
   "execution_count": null,
   "metadata": {
    "colab": {
     "base_uri": "https://localhost:8080/",
     "height": 53
    },
    "id": "8G94UJ2LLQ3M",
    "outputId": "0031ec6c-a330-469f-ea50-4452b54d36ce"
   },
   "outputs": [],
   "source": [
    "data['review02'][4]"
   ]
  },
  {
   "cell_type": "code",
   "execution_count": null,
   "metadata": {
    "colab": {
     "base_uri": "https://localhost:8080/",
     "height": 53
    },
    "id": "M5OTsiZ2LS8s",
    "outputId": "72f06e14-ccf6-48a4-cc7b-6dd8f096b991"
   },
   "outputs": [],
   "source": [
    "data[\"review\"][4]"
   ]
  },
  {
   "cell_type": "markdown",
   "metadata": {
    "id": "-YahF17TPE56"
   },
   "source": [
    "**i. Utiliza el tokenizer de Keras (https://keras.io/api/preprocessing/text/ ) (lo vimos\n",
    "en clase) con el conjunto review02 para generar un vocabulario con tus datos que\n",
    "acabas de generar. ¿De qué tamaño es tu vocabulario resultante? Llamaremos\n",
    "vobabulario01 a este resultado.**"
   ]
  },
  {
   "cell_type": "code",
   "execution_count": null,
   "metadata": {
    "id": "yEFMOgjNPG5r"
   },
   "outputs": [],
   "source": [
    "tokenizer = Tokenizer()"
   ]
  },
  {
   "cell_type": "code",
   "execution_count": null,
   "metadata": {
    "id": "lK-pFWuHPXjU"
   },
   "outputs": [],
   "source": [
    "tokenizer.fit_on_texts(data['review02'])"
   ]
  },
  {
   "cell_type": "code",
   "execution_count": null,
   "metadata": {
    "id": "MPuFNIuvQiRc"
   },
   "outputs": [],
   "source": [
    "vocabulario01_size = len(tokenizer.word_index) + 1"
   ]
  },
  {
   "cell_type": "code",
   "execution_count": null,
   "metadata": {
    "colab": {
     "base_uri": "https://localhost:8080/"
    },
    "id": "f2aO72kBQ5TM",
    "outputId": "efca948c-26a8-4385-9acf-e4f32dc9bb9e"
   },
   "outputs": [],
   "source": [
    "vocabulario01_size"
   ]
  },
  {
   "cell_type": "markdown",
   "metadata": {
    "id": "yTnk0GsmmQku"
   },
   "source": [
    "**ii. Aplica un filtrado sobre el tamaño de los tokens a tu vocabulario01 para que te\n",
    "quedes solamente con los tokens o términos de longitud 3 o mayor. Llamaremos\n",
    "vovabulario02 a este resultado. Indicar de qué tamaño es este nuevo vocabulario02 y\n",
    "el porcentaje de reducción que se obtuvo con respecto a vocabulario01.\n",
    "iii. Regresa a los comentarios que obtuviste en review02 para filtrarlos ahora con\n",
    "respecto a las palabras que están en vocabulario02. Es decir, aquellas palabras que\n",
    "no estén en vocabulario02 se deberán omitir. Llamaremos a este resultado review03.**"
   ]
  },
  {
   "cell_type": "code",
   "execution_count": null,
   "metadata": {
    "id": "HKlknVH8nGV8"
   },
   "outputs": [],
   "source": [
    "def remove_short_words(sentence):\n",
    "  words = sentence.split()\n",
    "  return \" \".join([w for w in words if len(w) >= 3])"
   ]
  },
  {
   "cell_type": "code",
   "execution_count": null,
   "metadata": {
    "id": "ECUCMfp6lhOf"
   },
   "outputs": [],
   "source": [
    "data['review03'] = data['review02'].apply(remove_short_words)"
   ]
  },
  {
   "cell_type": "code",
   "execution_count": null,
   "metadata": {
    "colab": {
     "base_uri": "https://localhost:8080/",
     "height": 53
    },
    "id": "8kf1cSNLpJLf",
    "outputId": "0423a40f-054a-47f7-98a8-393acb4a2f18"
   },
   "outputs": [],
   "source": [
    "data['review02'][0]"
   ]
  },
  {
   "cell_type": "code",
   "execution_count": null,
   "metadata": {
    "colab": {
     "base_uri": "https://localhost:8080/",
     "height": 53
    },
    "id": "hNPt9AjnpqW3",
    "outputId": "6571f5aa-02c2-4d4f-8b63-4bdc298393ba"
   },
   "outputs": [],
   "source": [
    "data['review03'][0]"
   ]
  },
  {
   "cell_type": "code",
   "execution_count": null,
   "metadata": {
    "id": "iL8Qr7VgptWW"
   },
   "outputs": [],
   "source": [
    "vocabulario02 = Tokenizer()\n",
    "vocabulario02.fit_on_texts(data['review03'])"
   ]
  },
  {
   "cell_type": "code",
   "execution_count": null,
   "metadata": {
    "id": "sQqDP3wLrI9J"
   },
   "outputs": [],
   "source": [
    "vocabulario02_size = len(vocabulario02.word_index) + 1"
   ]
  },
  {
   "cell_type": "code",
   "execution_count": null,
   "metadata": {
    "colab": {
     "base_uri": "https://localhost:8080/"
    },
    "id": "lNDqxmlOrM0m",
    "outputId": "939d27f3-019e-480c-f66f-38b93e74a228"
   },
   "outputs": [],
   "source": [
    "vocabulario02_size"
   ]
  },
  {
   "cell_type": "code",
   "execution_count": 2,
   "metadata": {
    "colab": {
     "base_uri": "https://localhost:8080/"
    },
    "id": "WCBcXFjSrOF_",
    "outputId": "1b153afb-dc95-4f51-f3b1-f8e48d27ff13"
   },
   "outputs": [
    {
     "ename": "NameError",
     "evalue": "name 'vocabulario02_size' is not defined",
     "output_type": "error",
     "traceback": [
      "\u001b[0;31m---------------------------------------------------------------------------\u001b[0m",
      "\u001b[0;31mNameError\u001b[0m                                 Traceback (most recent call last)",
      "\u001b[0;32m<ipython-input-2-53f85be96950>\u001b[0m in \u001b[0;36m<module>\u001b[0;34m\u001b[0m\n\u001b[1;32m      1\u001b[0m \u001b[0;31m# Porcenatje de reducción del tamaño de diccionarios\u001b[0m\u001b[0;34m\u001b[0m\u001b[0;34m\u001b[0m\u001b[0;34m\u001b[0m\u001b[0m\n\u001b[0;32m----> 2\u001b[0;31m \u001b[0mpercentage_reduction\u001b[0m \u001b[0;34m=\u001b[0m \u001b[0;36m1\u001b[0m \u001b[0;34m-\u001b[0m \u001b[0;34m(\u001b[0m\u001b[0mvocabulario02_size\u001b[0m\u001b[0;34m/\u001b[0m\u001b[0mvocabulario01_size\u001b[0m\u001b[0;34m)\u001b[0m\u001b[0;34m\u001b[0m\u001b[0;34m\u001b[0m\u001b[0m\n\u001b[0m\u001b[1;32m      3\u001b[0m \u001b[0mprint\u001b[0m\u001b[0;34m(\u001b[0m\u001b[0;34m\"Percentage reduction: {:.2f}%\"\u001b[0m\u001b[0;34m.\u001b[0m\u001b[0mformat\u001b[0m\u001b[0;34m(\u001b[0m\u001b[0mpercentage_reduction\u001b[0m\u001b[0;34m*\u001b[0m\u001b[0;36m100\u001b[0m\u001b[0;34m)\u001b[0m\u001b[0;34m)\u001b[0m\u001b[0;34m\u001b[0m\u001b[0;34m\u001b[0m\u001b[0m\n",
      "\u001b[0;31mNameError\u001b[0m: name 'vocabulario02_size' is not defined"
     ]
    }
   ],
   "source": [
    "# Porcenatje de reducción del tamaño de diccionarios\n",
    "percentage_reduction = 1 - (vocabulario02_size/vocabulario01_size)\n",
    "print(\"Percentage reduction: {:.2f}%\".format(percentage_reduction*100))"
   ]
  },
  {
   "cell_type": "markdown",
   "metadata": {
    "id": "L3bq6oDCtzBN"
   },
   "source": [
    "**iv. Obtener la matriz tfidf de review03, ¿de qué tamaño es? Obtener además el total de\n",
    "bytes consumidos por los elementos de esta matriz (puedes usar el método nbytes de\n",
    "tu objeto). Repite este resultado para cada una de las matrices “binary”, “count”,\n",
    "“freq”.**"
   ]
  },
  {
   "cell_type": "code",
   "execution_count": null,
   "metadata": {
    "id": "Tdpi6J5DsqhX"
   },
   "outputs": [],
   "source": [
    "binary_mat = vocabulario02.texts_to_matrix(data['review03'],mode='count')"
   ]
  },
  {
   "cell_type": "code",
   "execution_count": null,
   "metadata": {
    "id": "-1xORh9Nu32f"
   },
   "outputs": [],
   "source": []
  }
 ],
 "metadata": {
  "accelerator": "GPU",
  "colab": {
   "collapsed_sections": [],
   "name": "Tarea2: Preprocesamiento de datos: Caso Amazon Baby",
   "provenance": []
  },
  "kernelspec": {
   "display_name": "Python 3",
   "language": "python",
   "name": "python3"
  },
  "language_info": {
   "codemirror_mode": {
    "name": "ipython",
    "version": 3
   },
   "file_extension": ".py",
   "mimetype": "text/x-python",
   "name": "python",
   "nbconvert_exporter": "python",
   "pygments_lexer": "ipython3",
   "version": "3.8.5"
  }
 },
 "nbformat": 4,
 "nbformat_minor": 1
}
