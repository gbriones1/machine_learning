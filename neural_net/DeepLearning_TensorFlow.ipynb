{
 "cells": [
  {
   "cell_type": "markdown",
   "metadata": {},
   "source": [
    "# Deep Learning\n",
    "\n",
    "## Tensorflow\n",
    "\n",
    "Google's libraries for optimizing data flows through graphs and it has been mainly used for Deep Learning tasks. Part of its advantages is that is designed to work with multiple CPUs and GPUs.\n",
    "\n",
    "For TensorFlow, the data been transfer between nodes in the graphs are **tensors** (multi-dimensional data arrays).\n",
    "\n",
    "### Basic calculations\n",
    "\n",
    "**Constants and variables**"
   ]
  },
  {
   "cell_type": "code",
   "execution_count": 1,
   "metadata": {},
   "outputs": [],
   "source": [
    "import tensorflow as tf\n",
    "\n",
    "const = tf.constant(2.0, name=\"const\")\n",
    "\n",
    "b = tf.Variable(2.0, name='b')\n",
    "c = tf.Variable(1.0, name='c')"
   ]
  },
  {
   "cell_type": "markdown",
   "metadata": {},
   "source": [
    "**Operations**"
   ]
  },
  {
   "cell_type": "code",
   "execution_count": 2,
   "metadata": {},
   "outputs": [],
   "source": [
    "d = tf.add(b, c, name='d')\n",
    "e = tf.add(c, const, name='e')\n",
    "a = tf.multiply(d, e, name='a')"
   ]
  },
  {
   "cell_type": "markdown",
   "metadata": {},
   "source": [
    "### Initializing\n",
    "\n",
    "In TensorFlow you need initialize the declared variables, constants and operationon a session to use them."
   ]
  },
  {
   "cell_type": "code",
   "execution_count": 3,
   "metadata": {},
   "outputs": [
    {
     "name": "stdout",
     "output_type": "stream",
     "text": [
      "9.0\n"
     ]
    }
   ],
   "source": [
    "init = tf.global_variables_initializer()\n",
    "with tf.Session() as sess:\n",
    "    sess.run(init)\n",
    "    res = sess.run(a)\n",
    "    print(res)"
   ]
  },
  {
   "cell_type": "markdown",
   "metadata": {},
   "source": [
    "**Placeholders**\n",
    "\n",
    "Sometimes you know that you will need a variable but you don't know his initialization value, in this cases you can setup a placeholder."
   ]
  },
  {
   "cell_type": "code",
   "execution_count": 5,
   "metadata": {},
   "outputs": [],
   "source": [
    "const = tf.constant(2.0, name=\"const\")\n",
    "\n",
    "b = tf.placeholder(tf.float32, [None,1], name='b')\n",
    "c = tf.Variable(1.0, name='c')\n",
    "d = tf.add(b, c, name='d')\n",
    "e = tf.add(c, const, name='e')\n",
    "a = tf.multiply(d, e, name='a')"
   ]
  },
  {
   "cell_type": "markdown",
   "metadata": {},
   "source": [
    "We need to define the type and the dimensions like second argument, (None, 1) means that we can accept any variable size of 1 dimension. Now in order to add it to TensorFlow scope we need to pass to the session run line a dictionary with the placeholder definition."
   ]
  },
  {
   "cell_type": "code",
   "execution_count": 7,
   "metadata": {},
   "outputs": [
    {
     "name": "stdout",
     "output_type": "stream",
     "text": [
      "[[ 3.]\n",
      " [ 6.]\n",
      " [ 9.]\n",
      " [12.]\n",
      " [15.]\n",
      " [18.]\n",
      " [21.]\n",
      " [24.]\n",
      " [27.]\n",
      " [30.]]\n"
     ]
    }
   ],
   "source": [
    "import numpy as np\n",
    "\n",
    "init = tf.global_variables_initializer()\n",
    "with tf.Session() as sess:\n",
    "    sess.run(init)\n",
    "    res = sess.run(a, feed_dict={b: np.arange(0, 10)[:, np.newaxis]})\n",
    "    print(res)\n"
   ]
  },
  {
   "cell_type": "markdown",
   "metadata": {},
   "source": [
    "### Neural Network\n",
    "\n",
    "Now let's try to re-build the MNIST excersice with TensorFlow.\n",
    "\n",
    "**Data**\n",
    "\n",
    "First let's load the data."
   ]
  },
  {
   "cell_type": "code",
   "execution_count": 8,
   "metadata": {},
   "outputs": [],
   "source": [
    "from sklearn import preprocessing\n",
    "from sklearn.datasets import load_digits\n",
    "from sklearn.model_selection import train_test_split\n",
    "from sklearn.metrics import classification_report\n",
    "from sklearn.metrics import confusion_matrix\n",
    "import seaborn as sns\n",
    "import matplotlib.pyplot as plt\n",
    "\n",
    "def vectorizer(y):\n",
    "    yVector = np.zeros((len(y), 10))\n",
    "    for i in range(len(y)):\n",
    "        yVector[i, y[i]] = 1\n",
    "    return yVector"
   ]
  },
  {
   "cell_type": "code",
   "execution_count": 9,
   "metadata": {},
   "outputs": [],
   "source": [
    "digits = load_digits()\n",
    "\n",
    "scaler = preprocessing.MinMaxScaler(feature_range=(0,1))\n",
    "x = scaler.fit_transform(digits.data)\n",
    "y = digits.target\n",
    "categories = list(set(y))\n",
    "\n",
    "xTrain, xTest, yTrain, yTest = train_test_split(x, y, test_size=0.4)\n",
    "yVecTrain = vectorizer(yTrain)\n",
    "yVecTest = vectorizer(yTest)"
   ]
  },
  {
   "cell_type": "code",
   "execution_count": 27,
   "metadata": {},
   "outputs": [
    {
     "data": {
      "text/plain": [
       "array([0., 0., 0., 1., 0., 0., 0., 0., 0., 0.])"
      ]
     },
     "execution_count": 27,
     "metadata": {},
     "output_type": "execute_result"
    }
   ],
   "source": []
  },
  {
   "cell_type": "markdown",
   "metadata": {},
   "source": [
    "**Network**"
   ]
  },
  {
   "cell_type": "code",
   "execution_count": 8,
   "metadata": {},
   "outputs": [],
   "source": [
    "lr = 0.5\n",
    "epochs = 10\n",
    "batchSize = 1\n",
    "\n",
    "x = tf.placeholder(tf.float32, [None, 64])\n",
    "y = tf.placeholder(tf.float32, [None, 10])\n",
    "\n",
    "W1 = tf.Variable(tf.random_normal([64, 32], stddev=0.03), name='W1')\n",
    "b1 = tf.Variable(tf.random_normal([32]), name='b1')\n",
    "z1 = tf.add(tf.matmul(x, W1), b1)\n",
    "h1 = tf.nn.sigmoid(z1)\n",
    "\n",
    "W2 = tf.Variable(tf.random_normal([32, 10], stddev=0.03), name='W2')\n",
    "b2 = tf.Variable(tf.random_normal([10]), name='b2')\n",
    "yPred = tf.nn.softmax(tf.add(tf.matmul(h1, W2), b2))\n",
    "\n",
    "error = tf.nn.l2_loss(yPred - y)\n",
    "optimiser = tf.train.GradientDescentOptimizer(learning_rate=lr).minimize(error)\n",
    "\n",
    "init = tf.global_variables_initializer()\n",
    "evaluation = tf.equal(tf.argmax(y, 1), tf.argmax(yPred, 1))\n",
    "accuracy = tf.reduce_mean(tf.cast(evaluation, tf.float32))\n",
    "prediction = tf.argmax(yPred, 1)"
   ]
  },
  {
   "cell_type": "markdown",
   "metadata": {},
   "source": [
    "**Training & metrics**\n",
    "\n",
    "Code modified from: https://adventuresinmachinelearning.com/python-tensorflow-tutorial/"
   ]
  },
  {
   "cell_type": "code",
   "execution_count": 9,
   "metadata": {},
   "outputs": [
    {
     "name": "stdout",
     "output_type": "stream",
     "text": [
      "Epoch: 1 cost = 0.448281\n",
      "Epoch: 2 cost = 0.269822\n",
      "Epoch: 3 cost = 0.099279\n",
      "Epoch: 4 cost = 0.054049\n",
      "Epoch: 5 cost = 0.039309\n",
      "Epoch: 6 cost = 0.033154\n",
      "Epoch: 7 cost = 0.024540\n",
      "Epoch: 8 cost = 0.020702\n",
      "Epoch: 9 cost = 0.017692\n",
      "Epoch: 10 cost = 0.015219\n",
      "94.85396146774292\n",
      "             precision    recall  f1-score   support\n",
      "\n",
      "          0       0.98      0.97      0.97        87\n",
      "          1       0.96      0.94      0.95        82\n",
      "          2       0.94      1.00      0.97        72\n",
      "          3       1.00      0.81      0.89        72\n",
      "          4       0.95      0.95      0.95        74\n",
      "          5       0.94      0.94      0.94        70\n",
      "          6       0.96      1.00      0.98        66\n",
      "          7       0.96      0.99      0.97        72\n",
      "          8       0.92      0.92      0.92        65\n",
      "          9       0.88      0.98      0.93        59\n",
      "\n",
      "avg / total       0.95      0.95      0.95       719\n",
      "\n"
     ]
    }
   ],
   "source": [
    "with tf.Session() as sess:\n",
    "    sess.run(init)\n",
    "    totalBatch = int(len(yTrain) / batchSize)\n",
    "    for epoch in range(epochs):\n",
    "        avgCost = 0\n",
    "        for i in range(totalBatch):\n",
    "            batchX, batchY = xTrain[i:i+batchSize], yVecTrain[i:i+batchSize]\n",
    "            _, c = sess.run([optimiser, error], feed_dict={x: batchX, y: batchY})\n",
    "            avgCost += c / totalBatch\n",
    "        print(\"Epoch:\", (epoch + 1), \"cost =\", \"{:.6f}\".format(avgCost))\n",
    "    print(sess.run(accuracy, feed_dict={x: xTest, y: yVecTest})*100)\n",
    "    \n",
    "    pred = sess.run(prediction, feed_dict={x: xTest, y: yVecTest})\n",
    "    print(classification_report(y_pred=pred, y_true=yTest, labels=categories))"
   ]
  },
  {
   "cell_type": "markdown",
   "metadata": {},
   "source": [
    "### Confusion matrix"
   ]
  },
  {
   "cell_type": "code",
   "execution_count": 10,
   "metadata": {},
   "outputs": [
    {
     "data": {
      "image/png": "[encoded data removed]",
      "text/plain": [
       "<Figure size 720x720 with 2 Axes>"
      ]
     },
     "metadata": {
      "needs_background": "light"
     },
     "output_type": "display_data"
    }
   ],
   "source": [
    "cm = confusion_matrix(yTest, pred)\n",
    "fig, ax = plt.subplots(figsize=(10,10))\n",
    "sns.heatmap(cm, annot=True, fmt='d',\n",
    "            xticklabels=categories, yticklabels=categories)\n",
    "plt.ylabel('Actual')\n",
    "plt.xlabel('Predicted')\n",
    "plt.show()"
   ]
  }
 ],
 "metadata": {
  "kernelspec": {
   "display_name": "Python 3",
   "language": "python",
   "name": "python3"
  },
  "language_info": {
   "codemirror_mode": {
    "name": "ipython",
    "version": 3
   },
   "file_extension": ".py",
   "mimetype": "text/x-python",
   "name": "python",
   "nbconvert_exporter": "python",
   "pygments_lexer": "ipython3",
   "version": "3.7.5"
  }
 },
 "nbformat": 4,
 "nbformat_minor": 2
}
