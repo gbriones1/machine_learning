{
 "cells": [
  {
   "cell_type": "markdown",
   "metadata": {
    "colab_type": "text",
    "id": "SUwqUUOsVTSv"
   },
   "source": [
    "# Arquitectura LeNet-5 Fashion-MNIST\n",
    "# Incluye uso de Regularización con Dropout, L2 y L1.\n"
   ]
  },
  {
   "cell_type": "code",
   "execution_count": 0,
   "metadata": {
    "colab": {},
    "colab_type": "code",
    "id": "Q5Gu0H4QJyTG"
   },
   "outputs": [],
   "source": [
    "import tensorflow as tf\n",
    "import matplotlib\n",
    "import matplotlib.pyplot as plt\n",
    "import numpy as np\n",
    "from numpy import array\n",
    "from sklearn.metrics import classification_report\n",
    "import time\n",
    "from sklearn.metrics import confusion_matrix\n",
    "import sklearn.model_selection as model_selection\n",
    "from keras import regularizers"
   ]
  },
  {
   "cell_type": "code",
   "execution_count": 0,
   "metadata": {
    "colab": {},
    "colab_type": "code",
    "id": "l5cSFy-DNxb8"
   },
   "outputs": [],
   "source": [
    "fashion_mnist = tf.keras.datasets.fashion_mnist\n",
    "(x_train,y_train),(x_testg,y_testg) = fashion_mnist.load_data()"
   ]
  },
  {
   "cell_type": "code",
   "execution_count": 5,
   "metadata": {
    "colab": {
     "base_uri": "https://localhost:8080/",
     "height": 87
    },
    "colab_type": "code",
    "id": "EwR-5mLZN0Uv",
    "outputId": "834b5502-b104-496f-a496-c668d85e4068"
   },
   "outputs": [
    {
     "name": "stdout",
     "output_type": "stream",
     "text": [
      "(60000, 28, 28)\n",
      "(10000, 28, 28)\n",
      "(60000,)\n",
      "(10000,)\n"
     ]
    }
   ],
   "source": [
    "print(x_train.shape)\n",
    "print(x_testg.shape)\n",
    "print(y_train.shape)\n",
    "print(y_testg.shape)"
   ]
  },
  {
   "cell_type": "markdown",
   "metadata": {
    "colab_type": "text",
    "id": "UySZo8-9s674"
   },
   "source": [
    "# Partición en Train - Val - Test"
   ]
  },
  {
   "cell_type": "code",
   "execution_count": 6,
   "metadata": {
    "colab": {
     "base_uri": "https://localhost:8080/",
     "height": 69
    },
    "colab_type": "code",
    "id": "DK5ymr_Lw_jx",
    "outputId": "83e6cf58-85f5-41b5-c5bc-9e0631af7f3e"
   },
   "outputs": [
    {
     "name": "stdout",
     "output_type": "stream",
     "text": [
      "(10000, 28, 28)\n",
      "(10000,)\n",
      "\n"
     ]
    }
   ],
   "source": [
    "idx = np.random.permutation(x_testg.shape[0])\n",
    "x_testg = x_testg[idx]\n",
    "y_testg = y_testg[idx]\n",
    "print(x_testg.shape)\n",
    "print(y_testg.shape)\n",
    "print()"
   ]
  },
  {
   "cell_type": "code",
   "execution_count": 0,
   "metadata": {
    "colab": {},
    "colab_type": "code",
    "id": "hMcS13mWs_rH"
   },
   "outputs": [],
   "source": [
    "x_val, x_test, y_val, y_test = model_selection.train_test_split(x_testg, y_testg, train_size=0.80,test_size=0.20)"
   ]
  },
  {
   "cell_type": "code",
   "execution_count": 0,
   "metadata": {
    "colab": {
     "base_uri": "https://localhost:8080/",
     "height": 87
    },
    "colab_type": "code",
    "id": "pzcw8mkTtoQw",
    "outputId": "5ee80fa0-cea8-4aad-9df4-7a65decdfcee"
   },
   "outputs": [
    {
     "name": "stdout",
     "output_type": "stream",
     "text": [
      "(8000, 28, 28)\n",
      "(2000, 28, 28)\n",
      "(8000,)\n",
      "(2000,)\n"
     ]
    }
   ],
   "source": [
    "print(x_val.shape)\n",
    "print(x_test.shape)\n",
    "print(y_val.shape)\n",
    "print(y_test.shape)"
   ]
  },
  {
   "cell_type": "code",
   "execution_count": 0,
   "metadata": {
    "colab": {},
    "colab_type": "code",
    "id": "gKmmQh1rUyQj"
   },
   "outputs": [],
   "source": [
    "dicc = {0:\"T_shirt\",1:\"Trouser\",2:\"Pullover\",3:\"Dress\",4:\"Coat\",\n",
    "          5:\"Sandal\",6:\"Shirt\",7:\"Sneaker\",8:\"Bag\",9:\"Ankle_boot\"}"
   ]
  },
  {
   "cell_type": "code",
   "execution_count": 0,
   "metadata": {
    "colab": {},
    "colab_type": "code",
    "id": "9UXUhzvQU3Uk"
   },
   "outputs": [],
   "source": [
    "print(dicc)\n",
    "cc = [0,1,3,5,6,8,21,18,23,28]  # un ejemplo de cada clase/objeto.\n",
    "fig=plt.figure(figsize=(9,9)) # figure size, inches\n",
    "k=1\n",
    "for i in cc:\n",
    "  fig.add_subplot(2, 5, k)\n",
    "  plt.imshow(x_train[i], cmap='gray')\n",
    "  plt.title(y_train[i])\n",
    "  plt.axis('off')\n",
    "  k += 1"
   ]
  },
  {
   "cell_type": "code",
   "execution_count": 0,
   "metadata": {
    "colab": {},
    "colab_type": "code",
    "id": "ZKaHvzlFN2yD"
   },
   "outputs": [],
   "source": [
    "x_train, x_val, x_test = x_train/255.0, x_val/255.0, x_test/255.0"
   ]
  },
  {
   "cell_type": "code",
   "execution_count": 9,
   "metadata": {
    "colab": {
     "base_uri": "https://localhost:8080/",
     "height": 35
    },
    "colab_type": "code",
    "id": "7cF2yYNFIq6H",
    "outputId": "753b4f9f-99b3-4851-a5df-1a8f6454b574"
   },
   "outputs": [
    {
     "data": {
      "text/plain": [
       "array([9, 0, 0, ..., 3, 0, 5], dtype=uint8)"
      ]
     },
     "execution_count": 9,
     "metadata": {
      "tags": []
     },
     "output_type": "execute_result"
    }
   ],
   "source": [
    "y_train"
   ]
  },
  {
   "cell_type": "code",
   "execution_count": 0,
   "metadata": {
    "colab": {},
    "colab_type": "code",
    "id": "rxKCT2PhN7Md"
   },
   "outputs": [],
   "source": [
    "ytrain = tf.keras.utils.to_categorical(y_train)\n",
    "yval = tf.keras.utils.to_categorical(y_val)\n",
    "ytest = tf.keras.utils.to_categorical(y_test)"
   ]
  },
  {
   "cell_type": "code",
   "execution_count": 11,
   "metadata": {
    "colab": {
     "base_uri": "https://localhost:8080/",
     "height": 139
    },
    "colab_type": "code",
    "id": "tddRrQDpI5JR",
    "outputId": "62909f5a-87af-4b3a-85e9-60bbeb4d41f8"
   },
   "outputs": [
    {
     "data": {
      "text/plain": [
       "array([[0., 0., 0., ..., 0., 0., 1.],\n",
       "       [1., 0., 0., ..., 0., 0., 0.],\n",
       "       [1., 0., 0., ..., 0., 0., 0.],\n",
       "       ...,\n",
       "       [0., 0., 0., ..., 0., 0., 0.],\n",
       "       [1., 0., 0., ..., 0., 0., 0.],\n",
       "       [0., 0., 0., ..., 0., 0., 0.]], dtype=float32)"
      ]
     },
     "execution_count": 11,
     "metadata": {
      "tags": []
     },
     "output_type": "execute_result"
    }
   ],
   "source": [
    "ytrain"
   ]
  },
  {
   "cell_type": "code",
   "execution_count": 0,
   "metadata": {
    "colab": {},
    "colab_type": "code",
    "id": "4T4zPDpcOf6H"
   },
   "outputs": [],
   "source": [
    "labels = [\"T_shirt\",\"Trouser\",\"Pullover\",\"Dress\",\"Coat\",\n",
    "          \"Sandal\",\"Shirt\",\"Sneaker\",\"Bag\",\"Ankle_boot\"]"
   ]
  },
  {
   "cell_type": "code",
   "execution_count": 0,
   "metadata": {
    "colab": {},
    "colab_type": "code",
    "id": "rbiZ3Zy9WAHH"
   },
   "outputs": [],
   "source": [
    "x_train = x_train.reshape(x_train.shape[0], 28,28,1)\n",
    "x_val = x_val.reshape(x_val.shape[0], 28,28,1)\n",
    "x_test = x_test.reshape(x_test.shape[0], 28,28,1)"
   ]
  },
  {
   "cell_type": "code",
   "execution_count": 0,
   "metadata": {
    "colab": {
     "base_uri": "https://localhost:8080/",
     "height": 69
    },
    "colab_type": "code",
    "id": "YLUzt559WZFC",
    "outputId": "6ab59df9-7441-4aab-9c44-87cb47525494"
   },
   "outputs": [
    {
     "name": "stdout",
     "output_type": "stream",
     "text": [
      "(60000, 28, 28, 1)\n",
      "(8000, 28, 28, 1)\n",
      "(2000, 28, 28, 1)\n"
     ]
    }
   ],
   "source": [
    "print(x_train.shape)\n",
    "print(x_val.shape)\n",
    "print(x_test.shape)"
   ]
  },
  {
   "cell_type": "markdown",
   "metadata": {
    "colab_type": "text",
    "id": "4xYVE5ByWtl5"
   },
   "source": [
    "LeNet-5 model:\n"
   ]
  },
  {
   "cell_type": "code",
   "execution_count": 0,
   "metadata": {
    "colab": {},
    "colab_type": "code",
    "id": "eJLIU2FSOEOW"
   },
   "outputs": [],
   "source": [
    "model = tf.keras.models.Sequential([\n",
    "\n",
    "   #C1 - feature maps - Convolutional layer:\n",
    "   #tf.keras.layers.Conv2D(filters=6, kernel_size=(5,5), strides=(1,1), padding='same', activation='relu'),\n",
    "   # L1 & L2:\n",
    "   tf.keras.layers.Conv2D(filters=6, kernel_size=(5,5), strides=(1,1), padding='same', activation='relu',\n",
    "                          #kernel_regularizer=regularizers.l1(0.01)),\n",
    "                          #kernel_regularizer=regularizers.l2(0.01)),\n",
    "                          kernel_regularizer=regularizers.l1_l2(l1=0.01, l2=0.01)),\n",
    "\n",
    "   tf.keras.layers.BatchNormalization(axis = -1),\n",
    "   tf.keras.layers.MaxPooling2D(pool_size=(2,2), strides=(2,2), padding='valid'),\n",
    "   \n",
    "   # Regularización en Bloques: -- En este caso es mejor no usarlo en los bloques.\n",
    "   #tf.keras.layers.Dropout(0.25),\n",
    "\n",
    "   #C3 - Convolutional layer:\n",
    "   #tf.keras.layers.Conv2D(filters=16, kernel_size=(5,5), strides=(1,1), activation='relu', padding='valid'),\n",
    "   tf.keras.layers.Conv2D(filters=16, kernel_size=(5,5), strides=(1,1), activation='relu', padding='valid',\n",
    "                          kernel_regularizer=regularizers.l2(0.01)),\n",
    "   tf.keras.layers.BatchNormalization(axis = -1,),\n",
    "   tf.keras.layers.MaxPooling2D(pool_size=(2,2), strides=(2,2), padding='valid'),\n",
    "   \n",
    "   # Regularización en Bloques:\n",
    "   #tf.keras.layers.Dropout(0.25),\n",
    "\n",
    "   tf.keras.layers.Flatten(),\n",
    "\n",
    "   #C5 - Full connection:\n",
    "   #tf.keras.layers.Dense(120, activation='tanh'),\n",
    "   tf.keras.layers.Dense(120, activation='tanh',\n",
    "                         kernel_regularizer=regularizers.l2(0.01)),\n",
    "\n",
    "   #BN:\n",
    "   tf.keras.layers.BatchNormalization(axis = -1),\n",
    "   \n",
    "   # Regularización en Capas de Salida: -- un buen valor es 0.3\n",
    "   tf.keras.layers.Dropout(0.3),\n",
    "\n",
    "   #FC-6 - Fully connected layer:\n",
    "   #tf.keras.layers.Dense(84, activation='tanh'),\n",
    "   tf.keras.layers.Dense(84, activation='tanh',\n",
    "                         kernel_regularizer=regularizers.l2(0.01)),\n",
    "\n",
    "   #Output   \n",
    "   tf.keras.layers.Dense(10,activation=tf.nn.softmax)\n",
    "   ])"
   ]
  },
  {
   "cell_type": "code",
   "execution_count": 0,
   "metadata": {
    "colab": {},
    "colab_type": "code",
    "id": "CR-FUBy1OH7P"
   },
   "outputs": [],
   "source": [
    "n_epochs=5\n",
    "n_batch=32\n",
    "learning_rate=0.01"
   ]
  },
  {
   "cell_type": "markdown",
   "metadata": {
    "colab_type": "text",
    "id": "9BcgskUP0MiP"
   },
   "source": [
    "Learning Rate - Exponencial Decay - lr = lr0 * exp( - k * t )"
   ]
  },
  {
   "cell_type": "code",
   "execution_count": 0,
   "metadata": {
    "colab": {},
    "colab_type": "code",
    "id": "CH3s1Svc0L4b"
   },
   "outputs": [],
   "source": [
    "def exp_decay(epoch):\n",
    "  alfa_0 = 0.001\n",
    "  factor = 0.001\n",
    "  dropEvery = 4\n",
    "\n",
    "  alfa = alfa_0 * np.exp( - factor * np.floor(epoch/dropEvery) )\n",
    "\n",
    "  return float(alfa)"
   ]
  },
  {
   "cell_type": "code",
   "execution_count": 0,
   "metadata": {
    "colab": {},
    "colab_type": "code",
    "id": "wS8wHhDU0R2Y"
   },
   "outputs": [],
   "source": [
    "callbacks_list = [tf.keras.callbacks.LearningRateScheduler(exp_decay)]"
   ]
  },
  {
   "cell_type": "code",
   "execution_count": 0,
   "metadata": {
    "colab": {},
    "colab_type": "code",
    "id": "bBMLNJTmpyMi"
   },
   "outputs": [],
   "source": [
    "opt = tf.keras.optimizers.SGD(lr=learning_rate, decay=learning_rate / n_epochs, momentum=0.9, nesterov=True )"
   ]
  },
  {
   "cell_type": "code",
   "execution_count": 0,
   "metadata": {
    "colab": {},
    "colab_type": "code",
    "id": "IZdZo_JnOFkS"
   },
   "outputs": [],
   "source": [
    "model.compile(optimizer=opt, \n",
    "   loss='categorical_crossentropy',\n",
    "   metrics=['accuracy'])"
   ]
  },
  {
   "cell_type": "code",
   "execution_count": 20,
   "metadata": {
    "colab": {
     "base_uri": "https://localhost:8080/",
     "height": 211
    },
    "colab_type": "code",
    "id": "_lQxSOVDOKO4",
    "outputId": "16dd5590-5347-4427-a434-573713179ee3"
   },
   "outputs": [
    {
     "name": "stdout",
     "output_type": "stream",
     "text": [
      "Epoch 1/5\n",
      "1875/1875 [==============================] - 7s 4ms/step - loss: 1.2212 - accuracy: 0.8286 - val_loss: 0.6785 - val_accuracy: 0.8438\n",
      "Epoch 2/5\n",
      "1875/1875 [==============================] - 6s 3ms/step - loss: 0.5424 - accuracy: 0.8691 - val_loss: 0.5697 - val_accuracy: 0.8401\n",
      "Epoch 3/5\n",
      "1875/1875 [==============================] - 6s 3ms/step - loss: 0.4663 - accuracy: 0.8768 - val_loss: 0.4626 - val_accuracy: 0.8770\n",
      "Epoch 4/5\n",
      "1875/1875 [==============================] - 7s 3ms/step - loss: 0.4295 - accuracy: 0.8839 - val_loss: 0.4404 - val_accuracy: 0.8769\n",
      "Epoch 5/5\n",
      "1875/1875 [==============================] - 6s 3ms/step - loss: 0.4075 - accuracy: 0.8888 - val_loss: 0.4072 - val_accuracy: 0.8913\n"
     ]
    }
   ],
   "source": [
    "H = model.fit(x_train,ytrain, validation_data=(x_val,yval),\n",
    "              epochs=n_epochs, batch_size=n_batch)\n",
    "              #epochs=n_epochs, batch_size=n_batch, callbacks=callbacks_list)"
   ]
  },
  {
   "cell_type": "markdown",
   "metadata": {
    "colab_type": "text",
    "id": "OpEet3wczqNE"
   },
   "source": [
    "Una vez entrenado el modelo, ya podemos salvarlo para futuras predicciones:\n"
   ]
  },
  {
   "cell_type": "code",
   "execution_count": 0,
   "metadata": {
    "colab": {},
    "colab_type": "code",
    "id": "e2Mzca2VOOnm"
   },
   "outputs": [],
   "source": [
    "predictions = model.predict(x_val, batch_size=n_batch)"
   ]
  },
  {
   "cell_type": "code",
   "execution_count": 24,
   "metadata": {
    "colab": {
     "base_uri": "https://localhost:8080/",
     "height": 52
    },
    "colab_type": "code",
    "id": "fzc7XrGOJuR2",
    "outputId": "811756c3-7521-47c5-df44-a6aac246d01e"
   },
   "outputs": [
    {
     "name": "stdout",
     "output_type": "stream",
     "text": [
      "[3.0464455e-05 7.5767435e-05 7.3683739e-05 2.4359378e-04 1.6618971e-04\n",
      " 5.2021509e-03 5.6177923e-05 9.9356878e-01 2.4061050e-04 3.4265700e-04]\n"
     ]
    }
   ],
   "source": [
    "print(predictions[0])"
   ]
  },
  {
   "cell_type": "code",
   "execution_count": 0,
   "metadata": {
    "colab": {},
    "colab_type": "code",
    "id": "-s5mKgMEO4Y4"
   },
   "outputs": [],
   "source": [
    "#score = model.evaluate(x_test, ytest, verbose=0, batch_size=n_batch)\n",
    "#print(f'Test loss: {score[0]} / Test accuracy: {score[1]}')"
   ]
  },
  {
   "cell_type": "code",
   "execution_count": 0,
   "metadata": {
    "colab": {},
    "colab_type": "code",
    "id": "OUzLfuJhl6lH"
   },
   "outputs": [],
   "source": [
    "model.summary()"
   ]
  },
  {
   "cell_type": "code",
   "execution_count": 0,
   "metadata": {
    "colab": {},
    "colab_type": "code",
    "id": "iIfRk9C4AUA7"
   },
   "outputs": [],
   "source": [
    "#print(model.non_trainable_weights)"
   ]
  },
  {
   "cell_type": "code",
   "execution_count": 22,
   "metadata": {
    "colab": {
     "base_uri": "https://localhost:8080/",
     "height": 312
    },
    "colab_type": "code",
    "id": "qwMhcD5mOZaZ",
    "outputId": "55c80e69-cc93-4e89-e7be-2d5b33cee1d8"
   },
   "outputs": [
    {
     "name": "stdout",
     "output_type": "stream",
     "text": [
      "              precision    recall  f1-score   support\n",
      "\n",
      "     T_shirt       0.84      0.86      0.85       816\n",
      "     Trouser       0.98      0.98      0.98       803\n",
      "    Pullover       0.83      0.81      0.82       784\n",
      "       Dress       0.90      0.88      0.89       794\n",
      "        Coat       0.78      0.87      0.82       784\n",
      "      Sandal       0.98      0.97      0.97       799\n",
      "       Shirt       0.73      0.64      0.68       802\n",
      "     Sneaker       0.92      0.98      0.95       802\n",
      "         Bag       0.96      0.98      0.97       806\n",
      "  Ankle_boot       0.98      0.94      0.96       810\n",
      "\n",
      "    accuracy                           0.89      8000\n",
      "   macro avg       0.89      0.89      0.89      8000\n",
      "weighted avg       0.89      0.89      0.89      8000\n",
      "\n"
     ]
    }
   ],
   "source": [
    "print(classification_report(yval.argmax(axis=1),\n",
    "      predictions.argmax(axis=1),target_names=labels))"
   ]
  },
  {
   "cell_type": "code",
   "execution_count": 0,
   "metadata": {
    "colab": {
     "base_uri": "https://localhost:8080/",
     "height": 581
    },
    "colab_type": "code",
    "id": "SSxoIRi3On0k",
    "outputId": "7effc326-bdef-4a32-fb46-34bd0518f43e"
   },
   "outputs": [
    {
     "data": {
      "image/png": "[encoded data removed]",
      "text/plain": [
       "<Figure size 432x288 with 1 Axes>"
      ]
     },
     "metadata": {
      "tags": []
     },
     "output_type": "display_data"
    },
    {
     "data": {
      "image/png": "[encoded data removed]",
      "text/plain": [
       "<Figure size 432x288 with 1 Axes>"
      ]
     },
     "metadata": {
      "tags": []
     },
     "output_type": "display_data"
    }
   ],
   "source": [
    "plt.style.use(\"ggplot\")\n",
    "plt.figure()\n",
    "plt.plot(np.arange(0,n_epochs),H.history[\"accuracy\"],label=\"train_acc\")\n",
    "plt.plot(np.arange(0,n_epochs),H.history[\"val_accuracy\"],label=\"val_acc\")\n",
    "plt.title(\"Training and Validation Accuracy\")\n",
    "plt.xlabel(\"Epoch\")\n",
    "plt.ylabel(\"Accuracy\")\n",
    "plt.legend()\n",
    "\n",
    "plt.figure()\n",
    "plt.plot(np.arange(0,n_epochs),H.history[\"loss\"],label=\"train_loss\") \n",
    "plt.plot(np.arange(0,n_epochs),H.history[\"val_loss\"],label=\"val_loss\")\n",
    "plt.title(\"Training and Validation Loss\")\n",
    "plt.xlabel(\"Epoch\")\n",
    "plt.ylabel(\"Loss\")\n",
    "plt.legend()\n",
    "\n",
    "plt.show()"
   ]
  },
  {
   "cell_type": "code",
   "execution_count": 0,
   "metadata": {
    "colab": {
     "base_uri": "https://localhost:8080/",
     "height": 191
    },
    "colab_type": "code",
    "id": "RD6GpB6WRGO5",
    "outputId": "7ede4044-efd1-4290-8336-12fa8acaf8d0"
   },
   "outputs": [
    {
     "data": {
      "text/plain": [
       "array([[672,   0,   8,  12,   4,   2, 100,   0,   3,   0],\n",
       "       [  1, 790,   0,  15,   3,   0,   2,   0,   2,   0],\n",
       "       [ 10,   0, 635,   9,  46,   0,  71,   0,   2,   0],\n",
       "       [ 11,   3,   6, 730,  20,   0,  35,   0,   3,   0],\n",
       "       [  1,   0,  41,  21, 637,   1,  98,   0,   1,   0],\n",
       "       [  0,   0,   0,   0,   0, 781,   0,   9,   0,   5],\n",
       "       [ 84,   2,  41,  17,  38,   0, 632,   0,   6,   0],\n",
       "       [  0,   0,   0,   0,   0,  11,   0, 791,   0,  23],\n",
       "       [  0,   2,   4,   2,   1,   3,   3,   5, 752,   0],\n",
       "       [  0,   0,   0,   0,   0,   4,   0,  25,   0, 764]])"
      ]
     },
     "execution_count": 38,
     "metadata": {
      "tags": []
     },
     "output_type": "execute_result"
    }
   ],
   "source": [
    "confusion_matrix(yval.argmax(axis=1), predictions.argmax(axis=1))"
   ]
  },
  {
   "cell_type": "markdown",
   "metadata": {
    "colab_type": "text",
    "id": "hHk1V65Q03Bg"
   },
   "source": [
    "Predicciones en el conjunto de prueba: Test set"
   ]
  },
  {
   "cell_type": "code",
   "execution_count": 0,
   "metadata": {
    "colab": {},
    "colab_type": "code",
    "id": "E026McvZ01nu"
   },
   "outputs": [],
   "source": [
    "predictions_test = model.predict(x_test, batch_size=n_batch)"
   ]
  },
  {
   "cell_type": "code",
   "execution_count": 0,
   "metadata": {
    "colab": {
     "base_uri": "https://localhost:8080/",
     "height": 312
    },
    "colab_type": "code",
    "id": "jzGzvpYYwUaY",
    "outputId": "83313920-cf5b-45c6-8436-36dd30938e0c"
   },
   "outputs": [
    {
     "name": "stdout",
     "output_type": "stream",
     "text": [
      "              precision    recall  f1-score   support\n",
      "\n",
      "     T_shirt       0.90      0.87      0.88       199\n",
      "     Trouser       0.99      0.98      0.99       187\n",
      "    Pullover       0.89      0.84      0.86       227\n",
      "       Dress       0.91      0.91      0.91       192\n",
      "        Coat       0.86      0.80      0.83       200\n",
      "      Sandal       0.98      0.97      0.97       205\n",
      "       Shirt       0.65      0.78      0.71       180\n",
      "     Sneaker       0.97      0.97      0.97       175\n",
      "         Bag       0.99      0.98      0.99       228\n",
      "  Ankle_boot       0.96      0.97      0.97       207\n",
      "\n",
      "    accuracy                           0.91      2000\n",
      "   macro avg       0.91      0.91      0.91      2000\n",
      "weighted avg       0.91      0.91      0.91      2000\n",
      "\n"
     ]
    }
   ],
   "source": [
    "print(classification_report(ytest.argmax(axis=1),\n",
    "      predictions_test.argmax(axis=1),target_names=labels))"
   ]
  },
  {
   "cell_type": "code",
   "execution_count": 0,
   "metadata": {
    "colab": {
     "base_uri": "https://localhost:8080/",
     "height": 191
    },
    "colab_type": "code",
    "id": "QqGitIvK1tyx",
    "outputId": "561ae771-64c8-40ac-9fdf-de03faf9e233"
   },
   "outputs": [
    {
     "data": {
      "text/plain": [
       "array([[173,   0,   2,   2,   1,   0,  21,   0,   0,   0],\n",
       "       [  0, 184,   0,   2,   0,   0,   1,   0,   0,   0],\n",
       "       [  1,   0, 190,   4,  12,   0,  19,   0,   1,   0],\n",
       "       [  2,   1,   2, 175,   4,   0,   8,   0,   0,   0],\n",
       "       [  1,   0,   7,   7, 160,   0,  25,   0,   0,   0],\n",
       "       [  0,   0,   0,   0,   0, 198,   0,   1,   0,   6],\n",
       "       [ 15,   0,  13,   3,   8,   0, 140,   0,   1,   0],\n",
       "       [  0,   0,   0,   0,   0,   3,   0, 170,   0,   2],\n",
       "       [  0,   0,   0,   0,   0,   1,   3,   0, 224,   0],\n",
       "       [  0,   0,   0,   0,   0,   1,   0,   5,   0, 201]])"
      ]
     },
     "execution_count": 41,
     "metadata": {
      "tags": []
     },
     "output_type": "execute_result"
    }
   ],
   "source": [
    "confusion_matrix(ytest.argmax(axis=1), predictions_test.argmax(axis=1))"
   ]
  }
 ],
 "metadata": {
  "accelerator": "GPU",
  "colab": {
   "collapsed_sections": [],
   "name": "Arquitectura LeNet 5 - Fashion-MNIST_Regularization.ipynb",
   "provenance": [],
   "toc_visible": true
  },
  "kernelspec": {
   "display_name": "Python 3",
   "language": "python",
   "name": "python3"
  },
  "language_info": {
   "codemirror_mode": {
    "name": "ipython",
    "version": 3
   },
   "file_extension": ".py",
   "mimetype": "text/x-python",
   "name": "python",
   "nbconvert_exporter": "python",
   "pygments_lexer": "ipython3",
   "version": "3.8.2"
  }
 },
 "nbformat": 4,
 "nbformat_minor": 1
}
