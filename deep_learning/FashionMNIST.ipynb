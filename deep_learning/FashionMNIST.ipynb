{
 "cells": [
  {
   "cell_type": "markdown",
   "metadata": {
    "colab_type": "text",
    "id": "dSxH7UXmQvRF"
   },
   "source": [
    "# Ejemplo del Fashion/MNIST\n"
   ]
  },
  {
   "cell_type": "code",
   "execution_count": 1,
   "metadata": {
    "colab": {},
    "colab_type": "code",
    "id": "bu-lYt2gQsmz"
   },
   "outputs": [],
   "source": [
    "import tensorflow as tf\n",
    "import matplotlib\n",
    "import matplotlib.pyplot as plt\n",
    "import numpy as np\n",
    "from numpy import array\n",
    "from sklearn.metrics import classification_report\n"
   ]
  },
  {
   "cell_type": "code",
   "execution_count": 3,
   "metadata": {
    "colab": {},
    "colab_type": "code",
    "id": "VmiuygC8RMiZ",
    "scrolled": true
   },
   "outputs": [],
   "source": [
    "fashion_mnist = tf.keras.datasets.fashion_mnist\n",
    "(x_train,y_train),(x_test,y_test) = fashion_mnist.load_data()\n"
   ]
  },
  {
   "cell_type": "code",
   "execution_count": 8,
   "metadata": {
    "colab": {},
    "colab_type": "code",
    "id": "0Hi8vi-tRQin"
   },
   "outputs": [
    {
     "name": "stdout",
     "output_type": "stream",
     "text": [
      "(60000, 28, 28)\n",
      "(10000, 28, 28)\n"
     ]
    },
    {
     "data": {
      "text/plain": [
       "255"
      ]
     },
     "execution_count": 8,
     "metadata": {},
     "output_type": "execute_result"
    }
   ],
   "source": [
    "print(x_train.shape)\n",
    "print(x_test.shape)\n",
    "\n",
    "np.amax(x_test)\n"
   ]
  },
  {
   "cell_type": "code",
   "execution_count": 15,
   "metadata": {
    "colab": {},
    "colab_type": "code",
    "id": "5l9eNdEoRUm1"
   },
   "outputs": [
    {
     "data": {
      "text/plain": [
       "array([[0., 0., 0., ..., 0., 0., 1.],\n",
       "       [1., 0., 0., ..., 0., 0., 0.],\n",
       "       [1., 0., 0., ..., 0., 0., 0.],\n",
       "       ...,\n",
       "       [0., 0., 0., ..., 0., 0., 0.],\n",
       "       [1., 0., 0., ..., 0., 0., 0.],\n",
       "       [0., 0., 0., ..., 0., 0., 0.]], dtype=float32)"
      ]
     },
     "execution_count": 15,
     "metadata": {},
     "output_type": "execute_result"
    }
   ],
   "source": [
    "ytrain = tf.keras.utils.to_categorical(y_train)\n",
    "ytest = tf.keras.utils.to_categorical(y_test)\n",
    "\n",
    "ytrain"
   ]
  },
  {
   "cell_type": "code",
   "execution_count": 10,
   "metadata": {
    "colab": {},
    "colab_type": "code",
    "id": "QEVRTPLHRbDh"
   },
   "outputs": [],
   "source": [
    "x_train, x_test = x_train/255.0, x_test/255.0"
   ]
  },
  {
   "cell_type": "code",
   "execution_count": 6,
   "metadata": {
    "colab": {},
    "colab_type": "code",
    "id": "3hxweHKnReWx"
   },
   "outputs": [],
   "source": [
    "model = tf.keras.models.Sequential([\n",
    "   tf.keras.layers.Flatten(input_shape=(28,28)),\n",
    "   tf.keras.layers.Dense(1024,activation=tf.nn.relu),\n",
    "   tf.keras.layers.Dense(10,activation=tf.nn.softmax)])"
   ]
  },
  {
   "cell_type": "code",
   "execution_count": 7,
   "metadata": {
    "colab": {},
    "colab_type": "code",
    "id": "FfYvSqnFRjn6"
   },
   "outputs": [],
   "source": [
    "model.compile(optimizer='adam', \n",
    "   loss='categorical_crossentropy',\n",
    "   metrics=['accuracy'])"
   ]
  },
  {
   "cell_type": "code",
   "execution_count": 29,
   "metadata": {
    "colab": {},
    "colab_type": "code",
    "id": "1aarTu7iRoWZ"
   },
   "outputs": [],
   "source": [
    "n_epochs=10\n",
    "n_batch=128"
   ]
  },
  {
   "cell_type": "code",
   "execution_count": 30,
   "metadata": {
    "colab": {},
    "colab_type": "code",
    "id": "VEcD0vhPRrms"
   },
   "outputs": [
    {
     "name": "stdout",
     "output_type": "stream",
     "text": [
      "Train on 60000 samples, validate on 10000 samples\n",
      "Epoch 1/10\n",
      "60000/60000 [==============================] - 3s 55us/sample - loss: 0.1533 - accuracy: 0.9428 - val_loss: 0.4199 - val_accuracy: 0.8971\n",
      "Epoch 2/10\n",
      "60000/60000 [==============================] - 3s 55us/sample - loss: 0.1305 - accuracy: 0.9514 - val_loss: 0.4279 - val_accuracy: 0.8967\n",
      "Epoch 3/10\n",
      "60000/60000 [==============================] - 3s 56us/sample - loss: 0.1243 - accuracy: 0.9529 - val_loss: 0.4398 - val_accuracy: 0.8975\n",
      "Epoch 4/10\n",
      "60000/60000 [==============================] - 3s 55us/sample - loss: 0.1207 - accuracy: 0.9542 - val_loss: 0.4387 - val_accuracy: 0.8988\n",
      "Epoch 5/10\n",
      "60000/60000 [==============================] - 42031s 701ms/sample - loss: 0.1180 - accuracy: 0.9552 - val_loss: 0.4389 - val_accuracy: 0.8976\n",
      "Epoch 6/10\n",
      "60000/60000 [==============================] - 4s 60us/sample - loss: 0.1154 - accuracy: 0.9564 - val_loss: 0.4455 - val_accuracy: 0.8983\n",
      "Epoch 7/10\n",
      "60000/60000 [==============================] - 3s 56us/sample - loss: 0.1138 - accuracy: 0.9561 - val_loss: 0.4486 - val_accuracy: 0.8993\n",
      "Epoch 8/10\n",
      "60000/60000 [==============================] - 3s 56us/sample - loss: 0.1113 - accuracy: 0.9580 - val_loss: 0.4567 - val_accuracy: 0.8976\n",
      "Epoch 9/10\n",
      "60000/60000 [==============================] - 4s 75us/sample - loss: 0.1104 - accuracy: 0.9591 - val_loss: 0.4591 - val_accuracy: 0.9002\n",
      "Epoch 10/10\n",
      "60000/60000 [==============================] - 3s 58us/sample - loss: 0.1081 - accuracy: 0.9596 - val_loss: 0.4616 - val_accuracy: 0.8993\n"
     ]
    }
   ],
   "source": [
    "H = model.fit(x_train,ytrain, validation_data=(x_test,ytest),\n",
    "              epochs=n_epochs, batch_size=n_batch)"
   ]
  },
  {
   "cell_type": "code",
   "execution_count": 24,
   "metadata": {
    "colab": {},
    "colab_type": "code",
    "id": "mEKtMiFIRxT2"
   },
   "outputs": [
    {
     "name": "stdout",
     "output_type": "stream",
     "text": [
      "Model: \"sequential\"\n",
      "_________________________________________________________________\n",
      "Layer (type)                 Output Shape              Param #   \n",
      "=================================================================\n",
      "flatten (Flatten)            (None, 784)               0         \n",
      "_________________________________________________________________\n",
      "dense (Dense)                (None, 1024)              803840    \n",
      "_________________________________________________________________\n",
      "dense_1 (Dense)              (None, 10)                10250     \n",
      "=================================================================\n",
      "Total params: 814,090\n",
      "Trainable params: 814,090\n",
      "Non-trainable params: 0\n",
      "_________________________________________________________________\n"
     ]
    }
   ],
   "source": [
    "model.summary()"
   ]
  },
  {
   "cell_type": "code",
   "execution_count": 25,
   "metadata": {
    "colab": {},
    "colab_type": "code",
    "id": "YsNj50MvRz8k"
   },
   "outputs": [],
   "source": [
    "predictions = model.predict(x_test, batch_size=n_batch)"
   ]
  },
  {
   "cell_type": "code",
   "execution_count": 26,
   "metadata": {
    "colab": {},
    "colab_type": "code",
    "id": "aj_sECBTR6Xo"
   },
   "outputs": [],
   "source": [
    "labels = [\"T_shirt\",\"Trouser\",\"Pullover\",\"Dress\",\"Coat\",\n",
    "          \"Sandal\",\"Shirt\",\"Sneaker\",\"Bag\",\"Ankle_boot\"]"
   ]
  },
  {
   "cell_type": "code",
   "execution_count": 27,
   "metadata": {
    "colab": {},
    "colab_type": "code",
    "id": "13L4ctpcR92D"
   },
   "outputs": [
    {
     "name": "stdout",
     "output_type": "stream",
     "text": [
      "              precision    recall  f1-score   support\n",
      "\n",
      "     T_shirt       0.84      0.82      0.83      1000\n",
      "     Trouser       0.99      0.97      0.98      1000\n",
      "    Pullover       0.75      0.83      0.79      1000\n",
      "       Dress       0.92      0.82      0.87      1000\n",
      "        Coat       0.77      0.76      0.76      1000\n",
      "      Sandal       0.97      0.97      0.97      1000\n",
      "       Shirt       0.66      0.69      0.68      1000\n",
      "     Sneaker       0.94      0.97      0.95      1000\n",
      "         Bag       0.98      0.96      0.97      1000\n",
      "  Ankle_boot       0.97      0.94      0.95      1000\n",
      "\n",
      "    accuracy                           0.88     10000\n",
      "   macro avg       0.88      0.88      0.88     10000\n",
      "weighted avg       0.88      0.88      0.88     10000\n",
      "\n"
     ]
    }
   ],
   "source": [
    "print(classification_report(ytest.argmax(axis=1), \n",
    "      predictions.argmax(axis=1),target_names=labels))"
   ]
  },
  {
   "cell_type": "code",
   "execution_count": 28,
   "metadata": {
    "colab": {},
    "colab_type": "code",
    "id": "lrMcdgL2SBHw"
   },
   "outputs": [
    {
     "data": {
      "image/png": "[encoded data removed]",
      "text/plain": [
       "<Figure size 432x288 with 1 Axes>"
      ]
     },
     "metadata": {},
     "output_type": "display_data"
    }
   ],
   "source": [
    "plt.style.use(\"ggplot\")\n",
    "plt.figure()\n",
    "plt.plot(np.arange(0,n_epochs),H.history[\"loss\"],label=\"train_loss\") \n",
    "plt.plot(np.arange(0,n_epochs),H.history[\"val_loss\"],label=\"val_loss\")\n",
    "plt.plot(np.arange(0,n_epochs),H.history[\"accuracy\"],label=\"train_acc\")\n",
    "plt.plot(np.arange(0,n_epochs),H.history[\"val_accuracy\"],label=\"val_acc\")\n",
    "plt.title(\"Training and Validation: Loss and Accuracy\")\n",
    "plt.xlabel(\"Epoch\")\n",
    "plt.ylabel(\"Loss/Accuracy\")\n",
    "plt.legend()\n",
    "plt.show()\n",
    "#plt.savefig(\"misFotos/tmp_mi_fashion_mnist.png\")\n"
   ]
  },
  {
   "cell_type": "code",
   "execution_count": 0,
   "metadata": {
    "colab": {},
    "colab_type": "code",
    "id": "lRD0KbmjSccv"
   },
   "outputs": [],
   "source": [
    "#model.save(\"mis_pesos.hdf5\")"
   ]
  }
 ],
 "metadata": {
  "accelerator": "GPU",
  "colab": {
   "collapsed_sections": [],
   "name": "FashionMNIST.ipynb",
   "provenance": []
  },
  "kernelspec": {
   "display_name": "Python 3",
   "language": "python",
   "name": "python3"
  },
  "language_info": {
   "codemirror_mode": {
    "name": "ipython",
    "version": 3
   },
   "file_extension": ".py",
   "mimetype": "text/x-python",
   "name": "python",
   "nbconvert_exporter": "python",
   "pygments_lexer": "ipython3",
   "version": "3.8.2"
  }
 },
 "nbformat": 4,
 "nbformat_minor": 1
}
