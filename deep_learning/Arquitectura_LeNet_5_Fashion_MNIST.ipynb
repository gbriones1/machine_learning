{
 "cells": [
  {
   "cell_type": "markdown",
   "metadata": {
    "colab_type": "text",
    "id": "SUwqUUOsVTSv"
   },
   "source": [
    "#LeNet-5 Fashion-MNIST example\n"
   ]
  },
  {
   "cell_type": "code",
   "execution_count": 0,
   "metadata": {
    "colab": {},
    "colab_type": "code",
    "id": "Q5Gu0H4QJyTG"
   },
   "outputs": [],
   "source": [
    "import tensorflow as tf\n",
    "import matplotlib\n",
    "import matplotlib.pyplot as plt\n",
    "import numpy as np\n",
    "from numpy import array\n",
    "from sklearn.metrics import classification_report\n",
    "import time"
   ]
  },
  {
   "cell_type": "code",
   "execution_count": 0,
   "metadata": {
    "colab": {},
    "colab_type": "code",
    "id": "l5cSFy-DNxb8"
   },
   "outputs": [],
   "source": [
    "fashion_mnist = tf.keras.datasets.fashion_mnist\n",
    "(x_train,y_train),(x_test,y_test) = fashion_mnist.load_data()"
   ]
  },
  {
   "cell_type": "code",
   "execution_count": 0,
   "metadata": {
    "colab": {},
    "colab_type": "code",
    "id": "EwR-5mLZN0Uv"
   },
   "outputs": [],
   "source": [
    "print(x_train.shape)\n",
    "print(x_test.shape)\n",
    "print(y_train.shape)\n",
    "print(y_test.shape)"
   ]
  },
  {
   "cell_type": "code",
   "execution_count": 0,
   "metadata": {
    "colab": {},
    "colab_type": "code",
    "id": "ZKaHvzlFN2yD"
   },
   "outputs": [],
   "source": [
    "x_train, x_test = x_train/255.0, x_test/255.0"
   ]
  },
  {
   "cell_type": "code",
   "execution_count": 0,
   "metadata": {
    "colab": {},
    "colab_type": "code",
    "id": "rxKCT2PhN7Md"
   },
   "outputs": [],
   "source": [
    "ytrain = tf.keras.utils.to_categorical(y_train)\n",
    "ytest = tf.keras.utils.to_categorical(y_test)"
   ]
  },
  {
   "cell_type": "code",
   "execution_count": 0,
   "metadata": {
    "colab": {},
    "colab_type": "code",
    "id": "4T4zPDpcOf6H"
   },
   "outputs": [],
   "source": [
    "labels = [\"T_shirt\",\"Trouser\",\"Pullover\",\"Dress\",\"Coat\",\n",
    "          \"Sandal\",\"Shirt\",\"Sneaker\",\"Bag\",\"Ankle_boot\"]"
   ]
  },
  {
   "cell_type": "code",
   "execution_count": 0,
   "metadata": {
    "colab": {},
    "colab_type": "code",
    "id": "rbiZ3Zy9WAHH"
   },
   "outputs": [],
   "source": [
    "x_train = x_train.reshape(x_train.shape[0], 28,28,1)\n",
    "x_test = x_test.reshape(x_test.shape[0], 28,28,1)"
   ]
  },
  {
   "cell_type": "code",
   "execution_count": 0,
   "metadata": {
    "colab": {
     "base_uri": "https://localhost:8080/",
     "height": 52
    },
    "colab_type": "code",
    "id": "YLUzt559WZFC",
    "outputId": "f4e54528-7071-410d-d36e-ec7fcc5af04e"
   },
   "outputs": [
    {
     "name": "stdout",
     "output_type": "stream",
     "text": [
      "(60000, 28, 28, 1)\n",
      "(10000, 28, 28, 1)\n"
     ]
    }
   ],
   "source": [
    "print(x_train.shape)\n",
    "print(x_test.shape)"
   ]
  },
  {
   "cell_type": "markdown",
   "metadata": {
    "colab_type": "text",
    "id": "4xYVE5ByWtl5"
   },
   "source": [
    "LeNet-5 model:\n"
   ]
  },
  {
   "cell_type": "code",
   "execution_count": 0,
   "metadata": {
    "colab": {},
    "colab_type": "code",
    "id": "eJLIU2FSOEOW"
   },
   "outputs": [],
   "source": [
    "model = tf.keras.models.Sequential([\n",
    "\n",
    "   #C1 - feature maps - Convolutional layer:\n",
    "   tf.keras.layers.Conv2D(filters=6, kernel_size=(5,5), strides=(1,1), padding='same', activation='relu'),\n",
    "  \n",
    "   #S2 - Subsampling - Pooling layer:\n",
    "   tf.keras.layers.MaxPooling2D(pool_size=(2,2), strides=(1,1), padding='valid'),\n",
    "\n",
    "   #C3 - Convolutional layer:\n",
    "   tf.keras.layers.Conv2D(filters=16, kernel_size=(5,5), strides=(1,1), activation='relu', padding='valid'),\n",
    "\n",
    "   #S4 - Subsampling - Pooling layer:\n",
    "   tf.keras.layers.MaxPooling2D(pool_size=(2,2), strides=(2,2), padding='valid'),\n",
    "\n",
    "   tf.keras.layers.Flatten(),\n",
    "\n",
    "   #C5 - Full connection:\n",
    "   tf.keras.layers.Dense(120, activation='relu'),\n",
    "\n",
    "   #FC-6 - Fully connected layer:\n",
    "   tf.keras.layers.Dense(84, activation='relu'),\n",
    "\n",
    "   #Output   \n",
    "   tf.keras.layers.Dense(10,activation=tf.nn.softmax)\n",
    "   ])"
   ]
  },
  {
   "cell_type": "code",
   "execution_count": 0,
   "metadata": {
    "colab": {},
    "colab_type": "code",
    "id": "CR-FUBy1OH7P"
   },
   "outputs": [],
   "source": [
    "n_epochs=15\n",
    "n_batch=32\n",
    "learning_rate=0.01"
   ]
  },
  {
   "cell_type": "code",
   "execution_count": 0,
   "metadata": {
    "colab": {},
    "colab_type": "code",
    "id": "bBMLNJTmpyMi"
   },
   "outputs": [],
   "source": [
    "opt = tf.keras.optimizers.SGD(lr=learning_rate, decay=learning_rate / n_epochs, momentum=0.9, nesterov=True )"
   ]
  },
  {
   "cell_type": "code",
   "execution_count": 0,
   "metadata": {
    "colab": {},
    "colab_type": "code",
    "id": "IZdZo_JnOFkS"
   },
   "outputs": [],
   "source": [
    "model.compile(optimizer=opt, \n",
    "   loss='categorical_crossentropy',\n",
    "   metrics=['accuracy'])"
   ]
  },
  {
   "cell_type": "code",
   "execution_count": 0,
   "metadata": {
    "colab": {},
    "colab_type": "code",
    "id": "_lQxSOVDOKO4"
   },
   "outputs": [],
   "source": [
    "H = model.fit(x_train,ytrain, validation_data=(x_test,ytest),\n",
    "              epochs=n_epochs, batch_size=n_batch)"
   ]
  },
  {
   "cell_type": "code",
   "execution_count": 0,
   "metadata": {
    "colab": {},
    "colab_type": "code",
    "id": "e2Mzca2VOOnm"
   },
   "outputs": [],
   "source": [
    "predictions = model.predict(x_test, batch_size=n_batch)"
   ]
  },
  {
   "cell_type": "code",
   "execution_count": 0,
   "metadata": {
    "colab": {},
    "colab_type": "code",
    "id": "qwMhcD5mOZaZ"
   },
   "outputs": [],
   "source": [
    "print(classification_report(ytest.argmax(axis=1), \n",
    "      predictions.argmax(axis=1),target_names=labels))"
   ]
  },
  {
   "cell_type": "code",
   "execution_count": 0,
   "metadata": {
    "colab": {},
    "colab_type": "code",
    "id": "SSxoIRi3On0k"
   },
   "outputs": [],
   "source": [
    "plt.style.use(\"ggplot\")\n",
    "plt.figure()\n",
    "plt.plot(np.arange(0,n_epochs),H.history[\"accuracy\"],label=\"train_acc\")\n",
    "plt.plot(np.arange(0,n_epochs),H.history[\"val_accuracy\"],label=\"val_acc\")\n",
    "plt.title(\"Training and Validation Accuracy\")\n",
    "plt.xlabel(\"Epoch\")\n",
    "plt.ylabel(\"Accuracy\")\n",
    "plt.legend()\n",
    "\n",
    "plt.figure()\n",
    "plt.plot(np.arange(0,n_epochs),H.history[\"loss\"],label=\"train_loss\") \n",
    "plt.plot(np.arange(0,n_epochs),H.history[\"val_loss\"],label=\"val_loss\")\n",
    "plt.title(\"Training and Validation Loss\")\n",
    "plt.xlabel(\"Epoch\")\n",
    "plt.ylabel(\"Loss\")\n",
    "plt.legend()\n",
    "\n",
    "plt.show()"
   ]
  }
 ],
 "metadata": {
  "accelerator": "GPU",
  "colab": {
   "collapsed_sections": [],
   "name": "Arquitectura LeNet 5 - Fashion-MNIST.ipynb",
   "provenance": []
  },
  "kernelspec": {
   "display_name": "Python 3",
   "language": "python",
   "name": "python3"
  },
  "language_info": {
   "codemirror_mode": {
    "name": "ipython",
    "version": 3
   },
   "file_extension": ".py",
   "mimetype": "text/x-python",
   "name": "python",
   "nbconvert_exporter": "python",
   "pygments_lexer": "ipython3",
   "version": "3.8.2"
  }
 },
 "nbformat": 4,
 "nbformat_minor": 1
}
