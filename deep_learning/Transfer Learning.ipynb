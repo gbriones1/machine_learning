{
 "cells": [
  {
   "cell_type": "code",
   "execution_count": 75,
   "metadata": {},
   "outputs": [],
   "source": [
    "import os\n",
    "\n",
    "import numpy as np\n",
    "from sklearn.utils import shuffle\n",
    "from PIL import Image"
   ]
  },
  {
   "cell_type": "code",
   "execution_count": 32,
   "metadata": {},
   "outputs": [],
   "source": [
    "covid_224 = []\n",
    "covid_299 = []\n",
    "for filename in os.listdir('COVID'):\n",
    "    image = Image.open(os.path.join('COVID', filename))\n",
    "    image = image.convert('RGB')\n",
    "    image_224 = image.resize((244, 224), Image.ANTIALIAS)\n",
    "    image_299 = image.resize((299, 299), Image.ANTIALIAS)\n",
    "    covid_224.append(np.asarray(image_224))\n",
    "    covid_299.append(np.asarray(image_299))\n",
    "covid_224 = np.asarray(covid_224)\n",
    "covid_299 = np.asarray(covid_299)\n",
    "\n",
    "normal_224 = []\n",
    "normal_299 = []\n",
    "for filename in os.listdir('NORMAL'):\n",
    "    image = Image.open(os.path.join('NORMAL', filename))\n",
    "    image = image.convert('RGB')\n",
    "    image_224 = image.resize((244, 224), Image.ANTIALIAS)\n",
    "    image_299 = image.resize((299, 299), Image.ANTIALIAS)\n",
    "    normal_224.append(np.asarray(image_224))\n",
    "    normal_299.append(np.asarray(image_299))\n",
    "normal_224 = np.asarray(normal_224)\n",
    "normal_299 = np.asarray(normal_299)\n",
    "\n",
    "\n"
   ]
  },
  {
   "cell_type": "code",
   "execution_count": 43,
   "metadata": {},
   "outputs": [
    {
     "data": {
      "text/plain": [
       "(269, 299, 299, 3)"
      ]
     },
     "execution_count": 43,
     "metadata": {},
     "output_type": "execute_result"
    }
   ],
   "source": [
    "covid_index = int(len(covid_224) * .8)\n",
    "normal_index = int(len(normal_224) * .8)\n",
    "\n",
    "covid_224_train = covid_224[:covid_index]\n",
    "covid_224_test = covid_224[covid_index:]\n",
    "covid_299_train = covid_299[:covid_index]\n",
    "covid_299_test = covid_299[covid_index:]\n",
    "\n",
    "normal_224_train = normal_224[:normal_index]\n",
    "normal_224_test = normal_224[normal_index:]\n",
    "normal_299_train = normal_299[:normal_index]\n",
    "normal_299_test = normal_299[normal_index:]\n",
    "\n",
    "\n"
   ]
  },
  {
   "cell_type": "code",
   "execution_count": 77,
   "metadata": {},
   "outputs": [
    {
     "data": {
      "text/plain": [
       "array([[0.],\n",
       "       [0.],\n",
       "       [0.],\n",
       "       ...,\n",
       "       [0.],\n",
       "       [0.],\n",
       "       [0.]])"
      ]
     },
     "execution_count": 77,
     "metadata": {},
     "output_type": "execute_result"
    }
   ],
   "source": [
    "x_train_224 = np.concatenate((covid_224_train, normal_224_train))\n",
    "y_train_224 = np.vstack((np.ones((len(covid_224_train), 1)), np.zeros((len(normal_224_train), 1))))\n",
    "x_test_224 = np.concatenate((covid_224_test, normal_224_test))\n",
    "y_test_224 = np.vstack((np.ones((len(covid_224_test), 1)), np.zeros((len(normal_224_test), 1))))\n",
    "\n",
    "x_train_299 = np.concatenate((covid_299_train, normal_299_train))\n",
    "y_train_299 = np.vstack((np.ones((len(covid_299_train), 1)), np.zeros((len(normal_299_train), 1))))\n",
    "x_test_299 = np.concatenate((covid_299_test, normal_299_test))\n",
    "y_test_299 = np.vstack((np.ones((len(covid_299_test), 1)), np.zeros((len(normal_299_test), 1))))\n",
    "\n",
    "x_train_224, y_train_224 = shuffle(x_train_224, y_train_224)\n",
    "x_train_299, y_train_299 = shuffle(x_train_299, y_train_299)\n",
    "\n",
    "y_train_224"
   ]
  },
  {
   "cell_type": "code",
   "execution_count": 72,
   "metadata": {},
   "outputs": [
    {
     "data": {
      "text/plain": [
       "array([[1.],\n",
       "       [1.],\n",
       "       [1.],\n",
       "       [1.],\n",
       "       [1.],\n",
       "       [0.],\n",
       "       [0.],\n",
       "       [0.],\n",
       "       [0.],\n",
       "       [0.]])"
      ]
     },
     "execution_count": 72,
     "metadata": {},
     "output_type": "execute_result"
    }
   ],
   "source": [
    "x = np.ones((5, 1))\n",
    "y = np.zeros((5, 1))\n",
    "np.vstack((x, y))\n"
   ]
  }
 ],
 "metadata": {
  "kernelspec": {
   "display_name": "Python 3",
   "language": "python",
   "name": "python3"
  },
  "language_info": {
   "codemirror_mode": {
    "name": "ipython",
    "version": 3
   },
   "file_extension": ".py",
   "mimetype": "text/x-python",
   "name": "python",
   "nbconvert_exporter": "python",
   "pygments_lexer": "ipython3",
   "version": "3.8.3"
  }
 },
 "nbformat": 4,
 "nbformat_minor": 4
}
