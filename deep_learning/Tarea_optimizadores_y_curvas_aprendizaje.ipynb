{
 "cells": [
  {
   "cell_type": "code",
   "execution_count": 1,
   "metadata": {
    "colab": {},
    "colab_type": "code",
    "id": "Q5Gu0H4QJyTG"
   },
   "outputs": [],
   "source": [
    "import tensorflow as tf\n",
    "import matplotlib\n",
    "import matplotlib.pyplot as plt\n",
    "import numpy as np\n",
    "from numpy import array\n",
    "from sklearn.metrics import classification_report\n",
    "import time"
   ]
  },
  {
   "cell_type": "code",
   "execution_count": 2,
   "metadata": {
    "colab": {},
    "colab_type": "code",
    "id": "l5cSFy-DNxb8"
   },
   "outputs": [],
   "source": [
    "fashion_mnist = tf.keras.datasets.fashion_mnist\n",
    "(x_train,y_train),(x_test,y_test) = fashion_mnist.load_data()"
   ]
  },
  {
   "cell_type": "code",
   "execution_count": 3,
   "metadata": {
    "colab": {},
    "colab_type": "code",
    "id": "EwR-5mLZN0Uv"
   },
   "outputs": [
    {
     "name": "stdout",
     "output_type": "stream",
     "text": [
      "(60000, 28, 28)\n",
      "(10000, 28, 28)\n",
      "(60000,)\n",
      "(10000,)\n"
     ]
    }
   ],
   "source": [
    "print(x_train.shape)\n",
    "print(x_test.shape)\n",
    "print(y_train.shape)\n",
    "print(y_test.shape)"
   ]
  },
  {
   "cell_type": "code",
   "execution_count": 4,
   "metadata": {
    "colab": {},
    "colab_type": "code",
    "id": "ZKaHvzlFN2yD"
   },
   "outputs": [],
   "source": [
    "x_train, x_test = x_train/255.0, x_test/255.0"
   ]
  },
  {
   "cell_type": "code",
   "execution_count": 5,
   "metadata": {
    "colab": {},
    "colab_type": "code",
    "id": "rxKCT2PhN7Md"
   },
   "outputs": [],
   "source": [
    "ytrain = tf.keras.utils.to_categorical(y_train)\n",
    "ytest = tf.keras.utils.to_categorical(y_test)"
   ]
  },
  {
   "cell_type": "code",
   "execution_count": 6,
   "metadata": {
    "colab": {},
    "colab_type": "code",
    "id": "4T4zPDpcOf6H"
   },
   "outputs": [],
   "source": [
    "labels = [\"T_shirt\",\"Trouser\",\"Pullover\",\"Dress\",\"Coat\",\n",
    "          \"Sandal\",\"Shirt\",\"Sneaker\",\"Bag\",\"Ankle_boot\"]"
   ]
  },
  {
   "cell_type": "code",
   "execution_count": 7,
   "metadata": {
    "colab": {},
    "colab_type": "code",
    "id": "eJLIU2FSOEOW"
   },
   "outputs": [],
   "source": [
    "model = tf.keras.models.Sequential([\n",
    "   tf.keras.layers.Flatten(input_shape=(28,28)),\n",
    "\n",
    "   tf.keras.layers.Dense(1024,activation=tf.nn.relu),\n",
    "   \n",
    "   tf.keras.layers.Dense(10,activation=tf.nn.softmax)])"
   ]
  },
  {
   "cell_type": "code",
   "execution_count": 8,
   "metadata": {
    "colab": {},
    "colab_type": "code",
    "id": "IZdZo_JnOFkS"
   },
   "outputs": [],
   "source": [
    "model.compile(optimizer='nadam', \n",
    "   loss='categorical_crossentropy',\n",
    "   metrics=['accuracy'])"
   ]
  },
  {
   "cell_type": "code",
   "execution_count": 9,
   "metadata": {
    "colab": {},
    "colab_type": "code",
    "id": "CR-FUBy1OH7P"
   },
   "outputs": [],
   "source": [
    "n_epochs=20\n",
    "n_batch=128"
   ]
  },
  {
   "cell_type": "code",
   "execution_count": 10,
   "metadata": {
    "colab": {},
    "colab_type": "code",
    "id": "_lQxSOVDOKO4",
    "scrolled": false
   },
   "outputs": [
    {
     "name": "stdout",
     "output_type": "stream",
     "text": [
      "Train on 60000 samples, validate on 10000 samples\n",
      "Epoch 1/20\n",
      "WARNING:tensorflow:Entity <function Function._initialize_uninitialized_variables.<locals>.initialize_variables at 0x7ff1959c1b80> could not be transformed and will be executed as-is. Please report this to the AutoGraph team. When filing the bug, set the verbosity to 10 (on Linux, `export AUTOGRAPH_VERBOSITY=10`) and attach the full output. Cause: module 'gast' has no attribute 'Num'\n",
      "WARNING: Entity <function Function._initialize_uninitialized_variables.<locals>.initialize_variables at 0x7ff1959c1b80> could not be transformed and will be executed as-is. Please report this to the AutoGraph team. When filing the bug, set the verbosity to 10 (on Linux, `export AUTOGRAPH_VERBOSITY=10`) and attach the full output. Cause: module 'gast' has no attribute 'Num'\n",
      "60000/60000 [==============================] - 9s 149us/sample - loss: 0.5064 - accuracy: 0.8208 - val_loss: 0.4025 - val_accuracy: 0.8551\n",
      "Epoch 2/20\n",
      "60000/60000 [==============================] - 7s 117us/sample - loss: 0.3553 - accuracy: 0.8706 - val_loss: 0.3851 - val_accuracy: 0.8618\n",
      "Epoch 3/20\n",
      "60000/60000 [==============================] - 7s 118us/sample - loss: 0.3126 - accuracy: 0.8857 - val_loss: 0.3577 - val_accuracy: 0.8709\n",
      "Epoch 4/20\n",
      "60000/60000 [==============================] - 7s 117us/sample - loss: 0.2862 - accuracy: 0.8943 - val_loss: 0.3490 - val_accuracy: 0.8728\n",
      "Epoch 5/20\n",
      "60000/60000 [==============================] - 6s 107us/sample - loss: 0.2652 - accuracy: 0.9019 - val_loss: 0.3188 - val_accuracy: 0.8847\n",
      "Epoch 6/20\n",
      "60000/60000 [==============================] - 7s 113us/sample - loss: 0.2515 - accuracy: 0.9066 - val_loss: 0.3329 - val_accuracy: 0.8820\n",
      "Epoch 7/20\n",
      "60000/60000 [==============================] - 8s 130us/sample - loss: 0.2353 - accuracy: 0.9118 - val_loss: 0.3762 - val_accuracy: 0.8693\n",
      "Epoch 8/20\n",
      "60000/60000 [==============================] - 6s 100us/sample - loss: 0.2238 - accuracy: 0.9160 - val_loss: 0.3333 - val_accuracy: 0.8848\n",
      "Epoch 9/20\n",
      "60000/60000 [==============================] - 7s 118us/sample - loss: 0.2132 - accuracy: 0.9212 - val_loss: 0.3119 - val_accuracy: 0.8906\n",
      "Epoch 10/20\n",
      "60000/60000 [==============================] - 6s 99us/sample - loss: 0.2009 - accuracy: 0.9252 - val_loss: 0.3131 - val_accuracy: 0.8920\n",
      "Epoch 11/20\n",
      "60000/60000 [==============================] - 6s 107us/sample - loss: 0.1924 - accuracy: 0.9290 - val_loss: 0.3076 - val_accuracy: 0.8918\n",
      "Epoch 12/20\n",
      "60000/60000 [==============================] - 6s 99us/sample - loss: 0.1847 - accuracy: 0.9314 - val_loss: 0.3042 - val_accuracy: 0.8973\n",
      "Epoch 13/20\n",
      "60000/60000 [==============================] - 7s 118us/sample - loss: 0.1756 - accuracy: 0.9351 - val_loss: 0.3169 - val_accuracy: 0.8953\n",
      "Epoch 14/20\n",
      "60000/60000 [==============================] - 7s 125us/sample - loss: 0.1688 - accuracy: 0.9377 - val_loss: 0.3122 - val_accuracy: 0.8983\n",
      "Epoch 15/20\n",
      "60000/60000 [==============================] - 7s 124us/sample - loss: 0.1587 - accuracy: 0.9414 - val_loss: 0.3218 - val_accuracy: 0.8940\n",
      "Epoch 16/20\n",
      "60000/60000 [==============================] - 7s 109us/sample - loss: 0.1548 - accuracy: 0.9433 - val_loss: 0.3279 - val_accuracy: 0.8972\n",
      "Epoch 17/20\n",
      "60000/60000 [==============================] - 7s 122us/sample - loss: 0.1507 - accuracy: 0.9430 - val_loss: 0.3208 - val_accuracy: 0.8986\n",
      "Epoch 18/20\n",
      "60000/60000 [==============================] - 6s 108us/sample - loss: 0.1431 - accuracy: 0.9478 - val_loss: 0.3429 - val_accuracy: 0.8918\n",
      "Epoch 19/20\n",
      "60000/60000 [==============================] - 7s 110us/sample - loss: 0.1386 - accuracy: 0.9476 - val_loss: 0.3337 - val_accuracy: 0.8952\n",
      "Epoch 20/20\n",
      "60000/60000 [==============================] - 7s 109us/sample - loss: 0.1317 - accuracy: 0.9512 - val_loss: 0.3612 - val_accuracy: 0.8976\n",
      "elapsed_time =  657.42680119\n"
     ]
    }
   ],
   "source": [
    "t = time.process_time()\n",
    "H = model.fit(x_train,ytrain, validation_data=(x_test,ytest),\n",
    "              epochs=n_epochs, batch_size=n_batch)\n",
    "print(\"elapsed_time = \", time.process_time() - t)"
   ]
  },
  {
   "cell_type": "code",
   "execution_count": 11,
   "metadata": {
    "colab": {},
    "colab_type": "code",
    "id": "e2Mzca2VOOnm"
   },
   "outputs": [],
   "source": [
    "predictions = model.predict(x_test, batch_size=n_batch)"
   ]
  },
  {
   "cell_type": "code",
   "execution_count": 12,
   "metadata": {
    "colab": {},
    "colab_type": "code",
    "id": "qwMhcD5mOZaZ"
   },
   "outputs": [
    {
     "name": "stdout",
     "output_type": "stream",
     "text": [
      "              precision    recall  f1-score   support\n",
      "\n",
      "     T_shirt       0.81      0.89      0.85      1000\n",
      "     Trouser       1.00      0.97      0.99      1000\n",
      "    Pullover       0.82      0.82      0.82      1000\n",
      "       Dress       0.92      0.90      0.91      1000\n",
      "        Coat       0.84      0.82      0.83      1000\n",
      "      Sandal       0.98      0.97      0.98      1000\n",
      "       Shirt       0.73      0.69      0.71      1000\n",
      "     Sneaker       0.92      0.99      0.95      1000\n",
      "         Bag       0.98      0.98      0.98      1000\n",
      "  Ankle_boot       0.99      0.93      0.95      1000\n",
      "\n",
      "    accuracy                           0.90     10000\n",
      "   macro avg       0.90      0.90      0.90     10000\n",
      "weighted avg       0.90      0.90      0.90     10000\n",
      "\n"
     ]
    }
   ],
   "source": [
    "print(classification_report(ytest.argmax(axis=1), \n",
    "      predictions.argmax(axis=1),target_names=labels))"
   ]
  },
  {
   "cell_type": "code",
   "execution_count": 13,
   "metadata": {
    "colab": {},
    "colab_type": "code",
    "id": "SSxoIRi3On0k"
   },
   "outputs": [
    {
     "data": {
      "image/png": "[encoded data removed]",
      "text/plain": [
       "<Figure size 432x288 with 1 Axes>"
      ]
     },
     "metadata": {},
     "output_type": "display_data"
    },
    {
     "data": {
      "image/png": "[encoded data removed]",
      "text/plain": [
       "<Figure size 432x288 with 1 Axes>"
      ]
     },
     "metadata": {},
     "output_type": "display_data"
    }
   ],
   "source": [
    "plt.style.use(\"ggplot\")\n",
    "plt.figure()\n",
    "plt.plot(np.arange(0,n_epochs),H.history[\"accuracy\"],label=\"train_acc\")\n",
    "plt.plot(np.arange(0,n_epochs),H.history[\"val_accuracy\"],label=\"val_acc\")\n",
    "plt.title(\"Training and Validation Accuracy\")\n",
    "plt.xlabel(\"Epoch\")\n",
    "plt.ylabel(\"Accuracy\")\n",
    "plt.legend()\n",
    "\n",
    "plt.figure()\n",
    "plt.plot(np.arange(0,n_epochs),H.history[\"loss\"],label=\"train_loss\") \n",
    "plt.plot(np.arange(0,n_epochs),H.history[\"val_loss\"],label=\"val_loss\")\n",
    "plt.title(\"Training and Validation Loss\")\n",
    "plt.xlabel(\"Epoch\")\n",
    "plt.ylabel(\"Loss\")\n",
    "plt.legend()\n",
    "\n",
    "plt.show()"
   ]
  },
  {
   "cell_type": "code",
   "execution_count": null,
   "metadata": {},
   "outputs": [],
   "source": []
  }
 ],
 "metadata": {
  "accelerator": "GPU",
  "colab": {
   "collapsed_sections": [],
   "name": "Fashion-MNIST-NN-basico.ipynb",
   "provenance": []
  },
  "kernelspec": {
   "display_name": "Python 3",
   "language": "python",
   "name": "python3"
  },
  "language_info": {
   "codemirror_mode": {
    "name": "ipython",
    "version": 3
   },
   "file_extension": ".py",
   "mimetype": "text/x-python",
   "name": "python",
   "nbconvert_exporter": "python",
   "pygments_lexer": "ipython3",
   "version": "3.8.2"
  }
 },
 "nbformat": 4,
 "nbformat_minor": 1
}
