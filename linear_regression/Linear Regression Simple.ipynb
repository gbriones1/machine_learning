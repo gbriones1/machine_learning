{
 "cells": [
  {
   "cell_type": "markdown",
   "metadata": {},
   "source": [
    "# Linear Regression\n",
    "## Gabriel Briones Sayeg A01222517"
   ]
  },
  {
   "cell_type": "code",
   "execution_count": 1,
   "metadata": {},
   "outputs": [],
   "source": [
    "from sklearn.linear_model import LinearRegression\n",
    "from pandas import read_csv\n",
    "from regressors import stats\n",
    "import numpy as np\n",
    "import matplotlib.pyplot as plt"
   ]
  },
  {
   "cell_type": "markdown",
   "metadata": {},
   "source": [
    "Plotting petal length against width"
   ]
  },
  {
   "cell_type": "code",
   "execution_count": 2,
   "metadata": {},
   "outputs": [],
   "source": [
    "iris = read_csv('iris.data', header=None)\n",
    "x = iris.iloc[:,2]\n",
    "y = iris.iloc[:,3]"
   ]
  },
  {
   "cell_type": "code",
   "execution_count": 3,
   "metadata": {},
   "outputs": [
    {
     "data": {
      "text/plain": [
       "Text(0, 0.5, 'Width')"
      ]
     },
     "execution_count": 3,
     "metadata": {},
     "output_type": "execute_result"
    },
    {
     "data": {
      "image/png": "[encoded data removed]",
      "text/plain": [
       "<Figure size 432x288 with 1 Axes>"
      ]
     },
     "metadata": {
      "needs_background": "light"
     },
     "output_type": "display_data"
    }
   ],
   "source": [
    "plt.scatter(x, y)\n",
    "plt.xlabel('Length')\n",
    "plt.ylabel('Width')"
   ]
  },
  {
   "cell_type": "markdown",
   "metadata": {},
   "source": [
    "Obtaining data sets calculations"
   ]
  },
  {
   "cell_type": "code",
   "execution_count": 4,
   "metadata": {},
   "outputs": [
    {
     "name": "stdout",
     "output_type": "stream",
     "text": [
      "Length mean:  3.7586666666666693\n",
      "Length mode:  1.5\n",
      "Length min:  1.0\n",
      "Length 1st quartile:  1.6\n",
      "Length median:  4.35\n",
      "Length 3rd quartile:  5.1\n",
      "Length max:  6.9\n",
      "Length variance:  3.0924248888888854\n",
      "Length standard deviation:  1.7585291834055201 \n",
      "\n",
      "Width mean:  1.1986666666666672\n",
      "Width mode:  0.2\n",
      "Width min:  0.1\n",
      "Width 1st quartile:  0.3\n",
      "Width median:  1.3\n",
      "Width 3rd quartile:  1.8\n",
      "Width max:  2.5\n",
      "Width variance:  0.5785315555555559\n",
      "Width standard deviation:  0.760612618588172\n"
     ]
    }
   ],
   "source": [
    "print(\"Length mean: \", x.mean())\n",
    "print(\"Length mode: \", x.mode()[0])\n",
    "print(\"Length min: \", x.min())\n",
    "print(\"Length 1st quartile: \", x.quantile(0.25))\n",
    "print(\"Length median: \", x.median())\n",
    "print(\"Length 3rd quartile: \", x.quantile(0.75))\n",
    "print(\"Length max: \", x.max())\n",
    "print(\"Length variance: \", x.var(ddof=0))\n",
    "print(\"Length standard deviation: \", x.std(ddof=0), \"\\n\")\n",
    "print(\"Width mean: \", y.mean())\n",
    "print(\"Width mode: \", y.mode()[0])\n",
    "print(\"Width min: \", y.min())\n",
    "print(\"Width 1st quartile: \", y.quantile(0.25))\n",
    "print(\"Width median: \", y.median())\n",
    "print(\"Width 3rd quartile: \", y.quantile(0.75))\n",
    "print(\"Width max: \", y.max())\n",
    "print(\"Width variance: \", y.var(ddof=0))\n",
    "print(\"Width standard deviation: \", y.std(ddof=0))"
   ]
  },
  {
   "cell_type": "code",
   "execution_count": 5,
   "metadata": {
    "scrolled": true
   },
   "outputs": [
    {
     "data": {
      "text/plain": [
       "Text(0.5, 1.0, 'Histogram of Lengths')"
      ]
     },
     "execution_count": 5,
     "metadata": {},
     "output_type": "execute_result"
    },
    {
     "data": {
      "image/png": "[encoded data removed]",
      "text/plain": [
       "<Figure size 432x288 with 1 Axes>"
      ]
     },
     "metadata": {
      "needs_background": "light"
     },
     "output_type": "display_data"
    }
   ],
   "source": [
    "plt.hist(x, 20)\n",
    "plt.xlabel('Length')\n",
    "plt.ylabel('Probability')\n",
    "plt.title('Histogram of Lengths')"
   ]
  },
  {
   "cell_type": "code",
   "execution_count": 6,
   "metadata": {},
   "outputs": [
    {
     "data": {
      "text/plain": [
       "Text(0.5, 1.0, 'Histogram of Widths')"
      ]
     },
     "execution_count": 6,
     "metadata": {},
     "output_type": "execute_result"
    },
    {
     "data": {
      "image/png": "[encoded data removed]",
      "text/plain": [
       "<Figure size 432x288 with 1 Axes>"
      ]
     },
     "metadata": {
      "needs_background": "light"
     },
     "output_type": "display_data"
    }
   ],
   "source": [
    "plt.hist(y, 20)\n",
    "plt.xlabel('Width')\n",
    "plt.ylabel('Probability')\n",
    "plt.title('Histogram of Widths')"
   ]
  },
  {
   "cell_type": "code",
   "execution_count": 7,
   "metadata": {},
   "outputs": [
    {
     "data": {
      "text/plain": [
       "Text(0.5, 1.0, 'Boxplot of Lengths')"
      ]
     },
     "execution_count": 7,
     "metadata": {},
     "output_type": "execute_result"
    },
    {
     "data": {
      "image/png": "[encoded data removed]",
      "text/plain": [
       "<Figure size 432x288 with 1 Axes>"
      ]
     },
     "metadata": {
      "needs_background": "light"
     },
     "output_type": "display_data"
    }
   ],
   "source": [
    "plt.boxplot(x)\n",
    "plt.title('Boxplot of Lengths')"
   ]
  },
  {
   "cell_type": "code",
   "execution_count": 8,
   "metadata": {},
   "outputs": [
    {
     "data": {
      "text/plain": [
       "Text(0.5, 1.0, 'Boxplot of Widths')"
      ]
     },
     "execution_count": 8,
     "metadata": {},
     "output_type": "execute_result"
    },
    {
     "data": {
      "image/png": "[encoded data removed]",
      "text/plain": [
       "<Figure size 432x288 with 1 Axes>"
      ]
     },
     "metadata": {
      "needs_background": "light"
     },
     "output_type": "display_data"
    }
   ],
   "source": [
    "plt.boxplot(y)\n",
    "plt.title('Boxplot of Widths')"
   ]
  },
  {
   "cell_type": "markdown",
   "metadata": {},
   "source": [
    "Getting linear regression function"
   ]
  },
  {
   "cell_type": "code",
   "execution_count": 9,
   "metadata": {
    "scrolled": true
   },
   "outputs": [
    {
     "name": "stdout",
     "output_type": "stream",
     "text": [
      "y = 0.4164191322854012x + -0.3665140452167275\n"
     ]
    },
    {
     "data": {
      "text/plain": [
       "Text(0, 0.5, 'Width')"
      ]
     },
     "execution_count": 9,
     "metadata": {},
     "output_type": "execute_result"
    },
    {
     "data": {
      "image/png": "[encoded data removed]",
      "text/plain": [
       "<Figure size 432x288 with 1 Axes>"
      ]
     },
     "metadata": {
      "needs_background": "light"
     },
     "output_type": "display_data"
    }
   ],
   "source": [
    "x_data = x[:, np.newaxis]\n",
    "target = y\n",
    "\n",
    "reg = LinearRegression()\n",
    "reg.fit(x_data, target)\n",
    "print(\"y = {}x + {}\".format(reg.coef_[0], reg.intercept_))\n",
    "\n",
    "table_x = np.array(range(8))\n",
    "table_y = table_x*reg.coef_+reg.intercept_\n",
    "\n",
    "plt.scatter(x, y)\n",
    "plt.plot(table_x,table_y)\n",
    "plt.xlabel('Length')\n",
    "plt.ylabel('Width')"
   ]
  },
  {
   "cell_type": "markdown",
   "metadata": {},
   "source": [
    "Getting a & b p-values"
   ]
  },
  {
   "cell_type": "code",
   "execution_count": 10,
   "metadata": {},
   "outputs": [
    {
     "name": "stdout",
     "output_type": "stream",
     "text": [
      "Residuals:\n",
      "    Min      1Q  Median      3Q     Max\n",
      "-0.6428 -0.1325  0.0165  0.1241  0.5654\n",
      "\n",
      "\n",
      "Coefficients:\n",
      "            Estimate  Std. Error  t value  p value\n",
      "_intercept -0.366514    0.038867  -9.4299      0.0\n",
      "x1          0.416419    0.005649  73.7106      0.0\n",
      "---\n",
      "R-squared:  0.92690,    Adjusted R-squared:  0.92641\n",
      "F-statistic: 1876.66 on 1 features\n"
     ]
    }
   ],
   "source": [
    "stats.summary(reg, x_data, target)"
   ]
  }
 ],
 "metadata": {
  "kernelspec": {
   "display_name": "Python 3",
   "language": "python",
   "name": "python3"
  },
  "language_info": {
   "codemirror_mode": {
    "name": "ipython",
    "version": 3
   },
   "file_extension": ".py",
   "mimetype": "text/x-python",
   "name": "python",
   "nbconvert_exporter": "python",
   "pygments_lexer": "ipython3",
   "version": "3.7.4"
  }
 },
 "nbformat": 4,
 "nbformat_minor": 2
}
