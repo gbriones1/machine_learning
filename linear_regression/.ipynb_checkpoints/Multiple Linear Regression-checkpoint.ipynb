{
 "cells": [
  {
   "cell_type": "markdown",
   "metadata": {},
   "source": [
    "# Multiple Linear Regression\n",
    "## Gabriel Briones Sayeg A01222517"
   ]
  },
  {
   "cell_type": "code",
   "execution_count": 34,
   "metadata": {},
   "outputs": [],
   "source": [
    "from sklearn.linear_model import LinearRegression\n",
    "from pandas import read_csv\n",
    "from regressors import stats\n",
    "import numpy as np\n",
    "import pandas as pd\n",
    "import matplotlib.pyplot as plt"
   ]
  },
  {
   "cell_type": "code",
   "execution_count": 20,
   "metadata": {},
   "outputs": [
    {
     "name": "stdout",
     "output_type": "stream",
     "text": [
      "Residuals:\n",
      "    Min      1Q  Median      3Q      Max\n",
      "-13.687 -4.1725  0.2122  4.9171  11.4881\n",
      "\n",
      "\n",
      "Coefficients:\n",
      "             Estimate  Std. Error  t value   p value\n",
      "_intercept -62.324990   82.701720  -0.7536  0.459449\n",
      "x1          -0.068315    0.005168 -13.2197  0.000000\n",
      "x2           0.058864    0.008127   7.2431  0.000000\n",
      "x3           0.005765    0.010989   0.5246  0.605384\n",
      "x4           0.207588    0.035183   5.9003  0.000007\n",
      "x5          -1.060278    0.401562  -2.6404  0.015298\n",
      "x6          58.204693   16.361885   3.5573  0.001862\n",
      "x7           0.567346    3.187355   0.1780  0.860430\n",
      "x8           0.810337    0.055053  14.7191  0.000000\n",
      "---\n",
      "R-squared:  0.99778,    Adjusted R-squared:  0.99641\n",
      "F-statistic: 729.86 on 8 features\n"
     ]
    }
   ],
   "source": [
    "oil_data = read_csv('oil.csv')\n",
    "x = oil_data.iloc[:22,1:9]\n",
    "y = oil_data.iloc[:22,9]\n",
    "reg = LinearRegression()\n",
    "reg.fit(x, y)\n",
    "stats.summary(reg, x, y)"
   ]
  },
  {
   "cell_type": "code",
   "execution_count": 64,
   "metadata": {
    "scrolled": true
   },
   "outputs": [],
   "source": [
    "x.insert(0, \"x0\", 1)\n",
    "b = np.insert(reg.coef_, 0, reg.intercept_)"
   ]
  },
  {
   "cell_type": "code",
   "execution_count": 66,
   "metadata": {},
   "outputs": [
    {
     "name": "stdout",
     "output_type": "stream",
     "text": [
      "(22, 9)\n",
      "(22,)\n",
      "(9,)\n"
     ]
    }
   ],
   "source": [
    "print(x.shape)\n",
    "print(y.shape)\n",
    "print(b.shape)"
   ]
  },
  {
   "cell_type": "code",
   "execution_count": 67,
   "metadata": {},
   "outputs": [
    {
     "data": {
      "text/plain": [
       "(9, 9)"
      ]
     },
     "execution_count": 67,
     "metadata": {},
     "output_type": "execute_result"
    }
   ],
   "source": [
    "x.T.dot(x).shape"
   ]
  },
  {
   "cell_type": "code",
   "execution_count": 68,
   "metadata": {},
   "outputs": [
    {
     "data": {
      "text/plain": [
       "(9, 22)"
      ]
     },
     "execution_count": 68,
     "metadata": {},
     "output_type": "execute_result"
    }
   ],
   "source": [
    "xtx = x.T.dot(x)\n",
    "xtx_inv = pd.DataFrame(np.linalg.pinv(xtx.values), xtx.columns, xtx.index)\n",
    "xtx_inv.dot(x.T).shape"
   ]
  },
  {
   "cell_type": "code",
   "execution_count": 69,
   "metadata": {},
   "outputs": [
    {
     "data": {
      "text/plain": [
       "2.832160608665612e+29"
      ]
     },
     "execution_count": 69,
     "metadata": {},
     "output_type": "execute_result"
    }
   ],
   "source": [
    "np.linalg.det(xtx)"
   ]
  },
  {
   "cell_type": "code",
   "execution_count": 71,
   "metadata": {},
   "outputs": [
    {
     "data": {
      "text/html": [
       "<div>\n",
       "<style scoped>\n",
       "    .dataframe tbody tr th:only-of-type {\n",
       "        vertical-align: middle;\n",
       "    }\n",
       "\n",
       "    .dataframe tbody tr th {\n",
       "        vertical-align: top;\n",
       "    }\n",
       "\n",
       "    .dataframe thead th {\n",
       "        text-align: right;\n",
       "    }\n",
       "</style>\n",
       "<table border=\"1\" class=\"dataframe\">\n",
       "  <thead>\n",
       "    <tr style=\"text-align: right;\">\n",
       "      <th></th>\n",
       "      <th>x0</th>\n",
       "      <th>x1</th>\n",
       "      <th>x2</th>\n",
       "      <th>x3</th>\n",
       "      <th>x4</th>\n",
       "      <th>x5</th>\n",
       "      <th>x6</th>\n",
       "      <th>x7</th>\n",
       "      <th>x8</th>\n",
       "    </tr>\n",
       "  </thead>\n",
       "  <tbody>\n",
       "    <tr>\n",
       "      <th>x0</th>\n",
       "      <td>1.000000e+00</td>\n",
       "      <td>-2.117413e-07</td>\n",
       "      <td>5.221025e-06</td>\n",
       "      <td>-9.300940e-08</td>\n",
       "      <td>-2.242770e-07</td>\n",
       "      <td>1.387434e-07</td>\n",
       "      <td>8.020533e-10</td>\n",
       "      <td>4.386545e-08</td>\n",
       "      <td>5.965737e-07</td>\n",
       "    </tr>\n",
       "    <tr>\n",
       "      <th>x1</th>\n",
       "      <td>-7.559365e-16</td>\n",
       "      <td>1.000000e+00</td>\n",
       "      <td>-3.791363e-12</td>\n",
       "      <td>-8.696851e-13</td>\n",
       "      <td>-1.315671e-12</td>\n",
       "      <td>-9.224015e-14</td>\n",
       "      <td>-1.482827e-15</td>\n",
       "      <td>-2.169594e-14</td>\n",
       "      <td>-4.555929e-13</td>\n",
       "    </tr>\n",
       "    <tr>\n",
       "      <th>x2</th>\n",
       "      <td>-2.255845e-13</td>\n",
       "      <td>9.646165e-12</td>\n",
       "      <td>1.000000e+00</td>\n",
       "      <td>-2.125284e-12</td>\n",
       "      <td>-9.533402e-12</td>\n",
       "      <td>1.118313e-11</td>\n",
       "      <td>7.020390e-14</td>\n",
       "      <td>3.491903e-12</td>\n",
       "      <td>4.848054e-11</td>\n",
       "    </tr>\n",
       "    <tr>\n",
       "      <th>x3</th>\n",
       "      <td>-1.179214e-13</td>\n",
       "      <td>-1.026257e-11</td>\n",
       "      <td>2.031391e-10</td>\n",
       "      <td>1.000000e+00</td>\n",
       "      <td>-9.366241e-12</td>\n",
       "      <td>5.404920e-12</td>\n",
       "      <td>3.082627e-14</td>\n",
       "      <td>1.711324e-12</td>\n",
       "      <td>2.319377e-11</td>\n",
       "    </tr>\n",
       "    <tr>\n",
       "      <th>x4</th>\n",
       "      <td>-3.857912e-13</td>\n",
       "      <td>5.618785e-11</td>\n",
       "      <td>7.704186e-10</td>\n",
       "      <td>4.265750e-12</td>\n",
       "      <td>1.000000e+00</td>\n",
       "      <td>2.029695e-11</td>\n",
       "      <td>1.354466e-13</td>\n",
       "      <td>6.271040e-12</td>\n",
       "      <td>8.851114e-11</td>\n",
       "    </tr>\n",
       "    <tr>\n",
       "      <th>x5</th>\n",
       "      <td>5.504102e-11</td>\n",
       "      <td>1.316661e-09</td>\n",
       "      <td>-9.893292e-08</td>\n",
       "      <td>1.216292e-09</td>\n",
       "      <td>3.374760e-09</td>\n",
       "      <td>1.000000e+00</td>\n",
       "      <td>-1.573581e-11</td>\n",
       "      <td>-8.249293e-10</td>\n",
       "      <td>-1.132142e-08</td>\n",
       "    </tr>\n",
       "    <tr>\n",
       "      <th>x6</th>\n",
       "      <td>6.808912e-10</td>\n",
       "      <td>1.040757e-07</td>\n",
       "      <td>-1.119629e-06</td>\n",
       "      <td>3.216608e-08</td>\n",
       "      <td>6.734853e-08</td>\n",
       "      <td>-2.987738e-08</td>\n",
       "      <td>1.000000e+00</td>\n",
       "      <td>-9.537963e-09</td>\n",
       "      <td>-1.275827e-07</td>\n",
       "    </tr>\n",
       "    <tr>\n",
       "      <th>x7</th>\n",
       "      <td>-2.243267e-11</td>\n",
       "      <td>-7.216138e-10</td>\n",
       "      <td>4.003212e-08</td>\n",
       "      <td>-5.361901e-10</td>\n",
       "      <td>-1.446407e-09</td>\n",
       "      <td>1.062714e-09</td>\n",
       "      <td>6.318083e-12</td>\n",
       "      <td>1.000000e+00</td>\n",
       "      <td>4.577837e-09</td>\n",
       "    </tr>\n",
       "    <tr>\n",
       "      <th>x8</th>\n",
       "      <td>7.351897e-13</td>\n",
       "      <td>-1.450644e-10</td>\n",
       "      <td>-1.513172e-09</td>\n",
       "      <td>-1.580247e-11</td>\n",
       "      <td>-1.705303e-12</td>\n",
       "      <td>-3.981171e-11</td>\n",
       "      <td>-2.733369e-13</td>\n",
       "      <td>-1.224265e-11</td>\n",
       "      <td>1.000000e+00</td>\n",
       "    </tr>\n",
       "  </tbody>\n",
       "</table>\n",
       "</div>"
      ],
      "text/plain": [
       "              x0            x1            x2            x3            x4  \\\n",
       "x0  1.000000e+00 -2.117413e-07  5.221025e-06 -9.300940e-08 -2.242770e-07   \n",
       "x1 -7.559365e-16  1.000000e+00 -3.791363e-12 -8.696851e-13 -1.315671e-12   \n",
       "x2 -2.255845e-13  9.646165e-12  1.000000e+00 -2.125284e-12 -9.533402e-12   \n",
       "x3 -1.179214e-13 -1.026257e-11  2.031391e-10  1.000000e+00 -9.366241e-12   \n",
       "x4 -3.857912e-13  5.618785e-11  7.704186e-10  4.265750e-12  1.000000e+00   \n",
       "x5  5.504102e-11  1.316661e-09 -9.893292e-08  1.216292e-09  3.374760e-09   \n",
       "x6  6.808912e-10  1.040757e-07 -1.119629e-06  3.216608e-08  6.734853e-08   \n",
       "x7 -2.243267e-11 -7.216138e-10  4.003212e-08 -5.361901e-10 -1.446407e-09   \n",
       "x8  7.351897e-13 -1.450644e-10 -1.513172e-09 -1.580247e-11 -1.705303e-12   \n",
       "\n",
       "              x5            x6            x7            x8  \n",
       "x0  1.387434e-07  8.020533e-10  4.386545e-08  5.965737e-07  \n",
       "x1 -9.224015e-14 -1.482827e-15 -2.169594e-14 -4.555929e-13  \n",
       "x2  1.118313e-11  7.020390e-14  3.491903e-12  4.848054e-11  \n",
       "x3  5.404920e-12  3.082627e-14  1.711324e-12  2.319377e-11  \n",
       "x4  2.029695e-11  1.354466e-13  6.271040e-12  8.851114e-11  \n",
       "x5  1.000000e+00 -1.573581e-11 -8.249293e-10 -1.132142e-08  \n",
       "x6 -2.987738e-08  1.000000e+00 -9.537963e-09 -1.275827e-07  \n",
       "x7  1.062714e-09  6.318083e-12  1.000000e+00  4.577837e-09  \n",
       "x8 -3.981171e-11 -2.733369e-13 -1.224265e-11  1.000000e+00  "
      ]
     },
     "execution_count": 71,
     "metadata": {},
     "output_type": "execute_result"
    }
   ],
   "source": [
    "xtx_inv.dot(xtx)"
   ]
  },
  {
   "cell_type": "code",
   "execution_count": 74,
   "metadata": {},
   "outputs": [
    {
     "data": {
      "text/plain": [
       "x0   -62.324990\n",
       "x1    -0.068315\n",
       "x2     0.058864\n",
       "x3     0.005765\n",
       "x4     0.207588\n",
       "x5    -1.060278\n",
       "x6    58.204693\n",
       "x7     0.567346\n",
       "x8     0.810337\n",
       "dtype: float64"
      ]
     },
     "execution_count": 74,
     "metadata": {},
     "output_type": "execute_result"
    }
   ],
   "source": [
    "xtx_inv.dot(x.T).dot(y)"
   ]
  },
  {
   "cell_type": "code",
   "execution_count": 75,
   "metadata": {},
   "outputs": [
    {
     "data": {
      "text/plain": [
       "array([-6.23249905e+01, -6.83153590e-02,  5.88637225e-02,  5.76456934e-03,\n",
       "        2.07588361e-01, -1.06027754e+00,  5.82046929e+01,  5.67345594e-01,\n",
       "        8.10337002e-01])"
      ]
     },
     "execution_count": 75,
     "metadata": {},
     "output_type": "execute_result"
    }
   ],
   "source": [
    "b"
   ]
  },
  {
   "cell_type": "code",
   "execution_count": 82,
   "metadata": {},
   "outputs": [
    {
     "data": {
      "text/plain": [
       "x1    0.984701\n",
       "x2    0.964283\n",
       "x3    0.822596\n",
       "x4    0.989385\n",
       "x5    0.958236\n",
       "x6   -0.895757\n",
       "x7    0.979792\n",
       "x8    0.994286\n",
       "y     1.000000\n",
       "Name: y, dtype: float64"
      ]
     },
     "execution_count": 82,
     "metadata": {},
     "output_type": "execute_result"
    }
   ],
   "source": [
    "data = oil_data.iloc[:22,1:]\n",
    "data.corr(method=\"pearson\").iloc[:, 8]"
   ]
  },
  {
   "cell_type": "code",
   "execution_count": 83,
   "metadata": {},
   "outputs": [
    {
     "data": {
      "text/html": [
       "<div>\n",
       "<style scoped>\n",
       "    .dataframe tbody tr th:only-of-type {\n",
       "        vertical-align: middle;\n",
       "    }\n",
       "\n",
       "    .dataframe tbody tr th {\n",
       "        vertical-align: top;\n",
       "    }\n",
       "\n",
       "    .dataframe thead th {\n",
       "        text-align: right;\n",
       "    }\n",
       "</style>\n",
       "<table border=\"1\" class=\"dataframe\">\n",
       "  <thead>\n",
       "    <tr style=\"text-align: right;\">\n",
       "      <th></th>\n",
       "      <th>x1</th>\n",
       "      <th>x2</th>\n",
       "      <th>x3</th>\n",
       "      <th>x4</th>\n",
       "      <th>x5</th>\n",
       "      <th>x6</th>\n",
       "      <th>x7</th>\n",
       "      <th>x8</th>\n",
       "      <th>y</th>\n",
       "    </tr>\n",
       "  </thead>\n",
       "  <tbody>\n",
       "    <tr>\n",
       "      <th>x1</th>\n",
       "      <td>1.000000</td>\n",
       "      <td>0.988295</td>\n",
       "      <td>0.854469</td>\n",
       "      <td>0.996827</td>\n",
       "      <td>0.983236</td>\n",
       "      <td>-0.934294</td>\n",
       "      <td>0.976601</td>\n",
       "      <td>0.980279</td>\n",
       "      <td>0.984701</td>\n",
       "    </tr>\n",
       "    <tr>\n",
       "      <th>x2</th>\n",
       "      <td>0.988295</td>\n",
       "      <td>1.000000</td>\n",
       "      <td>0.889879</td>\n",
       "      <td>0.986344</td>\n",
       "      <td>0.995459</td>\n",
       "      <td>-0.955527</td>\n",
       "      <td>0.959790</td>\n",
       "      <td>0.947898</td>\n",
       "      <td>0.964283</td>\n",
       "    </tr>\n",
       "    <tr>\n",
       "      <th>x3</th>\n",
       "      <td>0.854469</td>\n",
       "      <td>0.889879</td>\n",
       "      <td>1.000000</td>\n",
       "      <td>0.837211</td>\n",
       "      <td>0.878257</td>\n",
       "      <td>-0.815743</td>\n",
       "      <td>0.841721</td>\n",
       "      <td>0.802835</td>\n",
       "      <td>0.822596</td>\n",
       "    </tr>\n",
       "    <tr>\n",
       "      <th>x4</th>\n",
       "      <td>0.996827</td>\n",
       "      <td>0.986344</td>\n",
       "      <td>0.837211</td>\n",
       "      <td>1.000000</td>\n",
       "      <td>0.983900</td>\n",
       "      <td>-0.939181</td>\n",
       "      <td>0.976990</td>\n",
       "      <td>0.981352</td>\n",
       "      <td>0.989385</td>\n",
       "    </tr>\n",
       "    <tr>\n",
       "      <th>x5</th>\n",
       "      <td>0.983236</td>\n",
       "      <td>0.995459</td>\n",
       "      <td>0.878257</td>\n",
       "      <td>0.983900</td>\n",
       "      <td>1.000000</td>\n",
       "      <td>-0.967804</td>\n",
       "      <td>0.961711</td>\n",
       "      <td>0.942152</td>\n",
       "      <td>0.958236</td>\n",
       "    </tr>\n",
       "    <tr>\n",
       "      <th>x6</th>\n",
       "      <td>-0.934294</td>\n",
       "      <td>-0.955527</td>\n",
       "      <td>-0.815743</td>\n",
       "      <td>-0.939181</td>\n",
       "      <td>-0.967804</td>\n",
       "      <td>1.000000</td>\n",
       "      <td>-0.904192</td>\n",
       "      <td>-0.879977</td>\n",
       "      <td>-0.895757</td>\n",
       "    </tr>\n",
       "    <tr>\n",
       "      <th>x7</th>\n",
       "      <td>0.976601</td>\n",
       "      <td>0.959790</td>\n",
       "      <td>0.841721</td>\n",
       "      <td>0.976990</td>\n",
       "      <td>0.961711</td>\n",
       "      <td>-0.904192</td>\n",
       "      <td>1.000000</td>\n",
       "      <td>0.978895</td>\n",
       "      <td>0.979792</td>\n",
       "    </tr>\n",
       "    <tr>\n",
       "      <th>x8</th>\n",
       "      <td>0.980279</td>\n",
       "      <td>0.947898</td>\n",
       "      <td>0.802835</td>\n",
       "      <td>0.981352</td>\n",
       "      <td>0.942152</td>\n",
       "      <td>-0.879977</td>\n",
       "      <td>0.978895</td>\n",
       "      <td>1.000000</td>\n",
       "      <td>0.994286</td>\n",
       "    </tr>\n",
       "    <tr>\n",
       "      <th>y</th>\n",
       "      <td>0.984701</td>\n",
       "      <td>0.964283</td>\n",
       "      <td>0.822596</td>\n",
       "      <td>0.989385</td>\n",
       "      <td>0.958236</td>\n",
       "      <td>-0.895757</td>\n",
       "      <td>0.979792</td>\n",
       "      <td>0.994286</td>\n",
       "      <td>1.000000</td>\n",
       "    </tr>\n",
       "  </tbody>\n",
       "</table>\n",
       "</div>"
      ],
      "text/plain": [
       "          x1        x2        x3        x4        x5        x6        x7  \\\n",
       "x1  1.000000  0.988295  0.854469  0.996827  0.983236 -0.934294  0.976601   \n",
       "x2  0.988295  1.000000  0.889879  0.986344  0.995459 -0.955527  0.959790   \n",
       "x3  0.854469  0.889879  1.000000  0.837211  0.878257 -0.815743  0.841721   \n",
       "x4  0.996827  0.986344  0.837211  1.000000  0.983900 -0.939181  0.976990   \n",
       "x5  0.983236  0.995459  0.878257  0.983900  1.000000 -0.967804  0.961711   \n",
       "x6 -0.934294 -0.955527 -0.815743 -0.939181 -0.967804  1.000000 -0.904192   \n",
       "x7  0.976601  0.959790  0.841721  0.976990  0.961711 -0.904192  1.000000   \n",
       "x8  0.980279  0.947898  0.802835  0.981352  0.942152 -0.879977  0.978895   \n",
       "y   0.984701  0.964283  0.822596  0.989385  0.958236 -0.895757  0.979792   \n",
       "\n",
       "          x8         y  \n",
       "x1  0.980279  0.984701  \n",
       "x2  0.947898  0.964283  \n",
       "x3  0.802835  0.822596  \n",
       "x4  0.981352  0.989385  \n",
       "x5  0.942152  0.958236  \n",
       "x6 -0.879977 -0.895757  \n",
       "x7  0.978895  0.979792  \n",
       "x8  1.000000  0.994286  \n",
       "y   0.994286  1.000000  "
      ]
     },
     "execution_count": 83,
     "metadata": {},
     "output_type": "execute_result"
    }
   ],
   "source": [
    "data.corr(method=\"pearson\")"
   ]
  }
 ],
 "metadata": {
  "kernelspec": {
   "display_name": "Python 3",
   "language": "python",
   "name": "python3"
  },
  "language_info": {
   "codemirror_mode": {
    "name": "ipython",
    "version": 3
   },
   "file_extension": ".py",
   "mimetype": "text/x-python",
   "name": "python",
   "nbconvert_exporter": "python",
   "pygments_lexer": "ipython3",
   "version": "3.7.4"
  }
 },
 "nbformat": 4,
 "nbformat_minor": 2
}
