{
 "cells": [
  {
   "cell_type": "markdown",
   "metadata": {
    "id": "0CeI3zl5mZ9j"
   },
   "source": [
    "# Proyecto Final - Kickstarter\n",
    "## ITESM Campus Guadalajara\n",
    "### Escuela de Ingeniería y Ciencias\n",
    "### Maestría en Ciencias de la Computación\n",
    "### Dr. Luis Eduardo Falcón Morales\n",
    "### Elisa Fernandez Castillo A01221781\n",
    "### Gabriel Briones Sayeg A01222517"
   ]
  },
  {
   "cell_type": "code",
   "execution_count": 2,
   "metadata": {
    "colab": {
     "base_uri": "https://localhost:8080/"
    },
    "id": "LH_Wp5efpUWp",
    "outputId": "ae830994-f0c5-4678-de4f-39d89e12981d"
   },
   "outputs": [
    {
     "name": "stdout",
     "output_type": "stream",
     "text": [
      "Drive already mounted at /content/drive; to attempt to forcibly remount, call drive.mount(\"/content/drive\", force_remount=True).\n"
     ]
    }
   ],
   "source": [
    "# from google.colab import drive\n",
    "# drive.mount('/content/drive')"
   ]
  },
  {
   "cell_type": "code",
   "execution_count": 3,
   "metadata": {
    "id": "_W-ZD2s-mfmE"
   },
   "outputs": [],
   "source": [
    "import os"
   ]
  },
  {
   "cell_type": "code",
   "execution_count": 4,
   "metadata": {
    "colab": {
     "base_uri": "https://localhost:8080/"
    },
    "id": "N5cILtMvpgEQ",
    "outputId": "f7016ffd-2953-47b0-c4d3-c2a8af2a91f5"
   },
   "outputs": [
    {
     "name": "stdout",
     "output_type": "stream",
     "text": [
      "/content\n",
      "['.config', 'drive', 'sample_data']\n",
      "/content/drive/My Drive/TecnicasAprendizajeAutomatico/ProyectoFinal\n",
      "['ks-projects-201801.csv']\n"
     ]
    }
   ],
   "source": [
    "# os.chdir('/content/drive/My Drive/TecnicasAprendizajeAutomatico/ProyectoFinal')\n",
    "# os.chdir('.')\n",
    "# print(os.getcwd())\n",
    "# print(os.listdir())"
   ]
  },
  {
   "cell_type": "code",
   "execution_count": 5,
   "metadata": {
    "colab": {
     "base_uri": "https://localhost:8080/"
    },
    "id": "27fjfLWPprLo",
    "outputId": "ede803e4-3f0c-46eb-fc1d-10232a0fe0b7"
   },
   "outputs": [
    {
     "name": "stderr",
     "output_type": "stream",
     "text": [
      "/usr/local/lib/python3.6/dist-packages/statsmodels/tools/_testing.py:19: FutureWarning: pandas.util.testing is deprecated. Use the functions in the public API at pandas.testing instead.\n",
      "  import pandas.util.testing as tm\n"
     ]
    }
   ],
   "source": [
    "import pandas as pd\n",
    "import numpy as np\n",
    "import matplotlib.pyplot as plt\n",
    "import statsmodels.api as sm \n",
    "from sklearn import preprocessing\n",
    "from sklearn.model_selection import train_test_split, RandomizedSearchCV\n",
    "\n",
    "# Modelo lineal\n",
    "from sklearn.linear_model import LogisticRegression\n",
    "\n",
    "# MLP\n",
    "from keras.models import Sequential\n",
    "from keras.layers import Dense\n",
    "from keras.layers import Dropout\n",
    "from keras.wrappers.scikit_learn import KerasClassifier\n",
    "from keras.regularizers import l2\n",
    "from keras.layers.normalization import BatchNormalization\n",
    "\n",
    "# Random Forest\n",
    "from sklearn.ensemble import RandomForestClassifier\n",
    "\n",
    "# Métricas\n",
    "from sklearn.metrics import accuracy_score, r2_score, classification_report, confusion_matrix\n",
    "\n",
    "# Arboles\n",
    "from sklearn.tree import DecisionTreeClassifier\n",
    "\n",
    "# SVM\n",
    "from sklearn.svm import SVC\n",
    "\n",
    "encoder = preprocessing.LabelEncoder()"
   ]
  },
  {
   "cell_type": "code",
   "execution_count": 6,
   "metadata": {
    "id": "5AIhvZElqBNg"
   },
   "outputs": [],
   "source": [
    "data = pd.read_csv('ks-projects-201801.csv')"
   ]
  },
  {
   "cell_type": "code",
   "execution_count": 7,
   "metadata": {
    "colab": {
     "base_uri": "https://localhost:8080/"
    },
    "id": "ab3XgVMFqP2g",
    "outputId": "16528325-0ec5-4717-8e87-bb63d5a4dba5"
   },
   "outputs": [
    {
     "name": "stdout",
     "output_type": "stream",
     "text": [
      "Index(['ID', 'name', 'category', 'main_category', 'currency', 'deadline',\n",
      "       'goal', 'launched', 'pledged', 'state', 'backers', 'country',\n",
      "       'usd pledged', 'usd_pledged_real', 'usd_goal_real'],\n",
      "      dtype='object')\n",
      "(378661, 15)\n"
     ]
    }
   ],
   "source": [
    "print(data.columns)\n",
    "print(data.shape)"
   ]
  },
  {
   "cell_type": "code",
   "execution_count": 8,
   "metadata": {
    "colab": {
     "base_uri": "https://localhost:8080/",
     "height": 306
    },
    "id": "_tb3Rk9Lr8zw",
    "outputId": "aa28f4b8-d7a6-4aaf-d3a2-b0b214b4a056"
   },
   "outputs": [
    {
     "data": {
      "text/html": [
       "<div>\n",
       "<style scoped>\n",
       "    .dataframe tbody tr th:only-of-type {\n",
       "        vertical-align: middle;\n",
       "    }\n",
       "\n",
       "    .dataframe tbody tr th {\n",
       "        vertical-align: top;\n",
       "    }\n",
       "\n",
       "    .dataframe thead th {\n",
       "        text-align: right;\n",
       "    }\n",
       "</style>\n",
       "<table border=\"1\" class=\"dataframe\">\n",
       "  <thead>\n",
       "    <tr style=\"text-align: right;\">\n",
       "      <th></th>\n",
       "      <th>ID</th>\n",
       "      <th>name</th>\n",
       "      <th>category</th>\n",
       "      <th>main_category</th>\n",
       "      <th>currency</th>\n",
       "      <th>deadline</th>\n",
       "      <th>goal</th>\n",
       "      <th>launched</th>\n",
       "      <th>pledged</th>\n",
       "      <th>state</th>\n",
       "      <th>backers</th>\n",
       "      <th>country</th>\n",
       "      <th>usd pledged</th>\n",
       "      <th>usd_pledged_real</th>\n",
       "      <th>usd_goal_real</th>\n",
       "    </tr>\n",
       "  </thead>\n",
       "  <tbody>\n",
       "    <tr>\n",
       "      <th>0</th>\n",
       "      <td>1000002330</td>\n",
       "      <td>The Songs of Adelaide &amp; Abullah</td>\n",
       "      <td>Poetry</td>\n",
       "      <td>Publishing</td>\n",
       "      <td>GBP</td>\n",
       "      <td>2015-10-09</td>\n",
       "      <td>1000.0</td>\n",
       "      <td>2015-08-11 12:12:28</td>\n",
       "      <td>0.0</td>\n",
       "      <td>failed</td>\n",
       "      <td>0</td>\n",
       "      <td>GB</td>\n",
       "      <td>0.0</td>\n",
       "      <td>0.0</td>\n",
       "      <td>1533.95</td>\n",
       "    </tr>\n",
       "    <tr>\n",
       "      <th>1</th>\n",
       "      <td>1000003930</td>\n",
       "      <td>Greeting From Earth: ZGAC Arts Capsule For ET</td>\n",
       "      <td>Narrative Film</td>\n",
       "      <td>Film &amp; Video</td>\n",
       "      <td>USD</td>\n",
       "      <td>2017-11-01</td>\n",
       "      <td>30000.0</td>\n",
       "      <td>2017-09-02 04:43:57</td>\n",
       "      <td>2421.0</td>\n",
       "      <td>failed</td>\n",
       "      <td>15</td>\n",
       "      <td>US</td>\n",
       "      <td>100.0</td>\n",
       "      <td>2421.0</td>\n",
       "      <td>30000.00</td>\n",
       "    </tr>\n",
       "    <tr>\n",
       "      <th>2</th>\n",
       "      <td>1000004038</td>\n",
       "      <td>Where is Hank?</td>\n",
       "      <td>Narrative Film</td>\n",
       "      <td>Film &amp; Video</td>\n",
       "      <td>USD</td>\n",
       "      <td>2013-02-26</td>\n",
       "      <td>45000.0</td>\n",
       "      <td>2013-01-12 00:20:50</td>\n",
       "      <td>220.0</td>\n",
       "      <td>failed</td>\n",
       "      <td>3</td>\n",
       "      <td>US</td>\n",
       "      <td>220.0</td>\n",
       "      <td>220.0</td>\n",
       "      <td>45000.00</td>\n",
       "    </tr>\n",
       "    <tr>\n",
       "      <th>3</th>\n",
       "      <td>1000007540</td>\n",
       "      <td>ToshiCapital Rekordz Needs Help to Complete Album</td>\n",
       "      <td>Music</td>\n",
       "      <td>Music</td>\n",
       "      <td>USD</td>\n",
       "      <td>2012-04-16</td>\n",
       "      <td>5000.0</td>\n",
       "      <td>2012-03-17 03:24:11</td>\n",
       "      <td>1.0</td>\n",
       "      <td>failed</td>\n",
       "      <td>1</td>\n",
       "      <td>US</td>\n",
       "      <td>1.0</td>\n",
       "      <td>1.0</td>\n",
       "      <td>5000.00</td>\n",
       "    </tr>\n",
       "    <tr>\n",
       "      <th>4</th>\n",
       "      <td>1000011046</td>\n",
       "      <td>Community Film Project: The Art of Neighborhoo...</td>\n",
       "      <td>Film &amp; Video</td>\n",
       "      <td>Film &amp; Video</td>\n",
       "      <td>USD</td>\n",
       "      <td>2015-08-29</td>\n",
       "      <td>19500.0</td>\n",
       "      <td>2015-07-04 08:35:03</td>\n",
       "      <td>1283.0</td>\n",
       "      <td>canceled</td>\n",
       "      <td>14</td>\n",
       "      <td>US</td>\n",
       "      <td>1283.0</td>\n",
       "      <td>1283.0</td>\n",
       "      <td>19500.00</td>\n",
       "    </tr>\n",
       "  </tbody>\n",
       "</table>\n",
       "</div>"
      ],
      "text/plain": [
       "           ID  ... usd_goal_real\n",
       "0  1000002330  ...       1533.95\n",
       "1  1000003930  ...      30000.00\n",
       "2  1000004038  ...      45000.00\n",
       "3  1000007540  ...       5000.00\n",
       "4  1000011046  ...      19500.00\n",
       "\n",
       "[5 rows x 15 columns]"
      ]
     },
     "execution_count": 8,
     "metadata": {
      "tags": []
     },
     "output_type": "execute_result"
    }
   ],
   "source": [
    "data.head()"
   ]
  },
  {
   "cell_type": "markdown",
   "metadata": {
    "id": "8Oxeu9-4mz2v"
   },
   "source": [
    "**La solución debe tener las siguientes características:**\n",
    "\n",
    "---\n",
    "\n",
    "**a. Incluir una introducción que explique las características de la problemática y el objetivo del problema (clasificación o regresión) a resolver.**"
   ]
  },
  {
   "cell_type": "markdown",
   "metadata": {
    "id": "sQQEqK-ur5_p"
   },
   "source": [
    "Kickstarter es una plataforma de financiamiento para proyectos creativos de todo tipo. Kickstarter facilita la captación de recursos monetarios del público en en general. Los dueños del proyecto eligen una fecha límite y un mínimo objetivo de fondos a recaudar. El dinero prometido por los donantes se recopila mediante Amazon Payments. Si el objetivo elegido no es recolectado en el plazo, no se perciben fondos (esto se conoce como provision point mechanism). Kickstarter toma un 5% de los fondos recaudados y Amazon cobra un 3-5% adicional"
   ]
  },
  {
   "cell_type": "markdown",
   "metadata": {
    "id": "_vEc0mSU3pzC"
   },
   "source": [
    "**b. Indicar claramente cuáles son las variables de entrada (factores características o variables independientes), así como la variable de salida (dependiente). Indicar el tipo de variables: numéricas, categóricas, binarias, etc.**"
   ]
  },
  {
   "cell_type": "markdown",
   "metadata": {
    "id": "RWi9vf5t6ulc"
   },
   "source": [
    "![image.png](data:image/png;base64,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)"
   ]
  },
  {
   "cell_type": "markdown",
   "metadata": {
    "id": "WbqRjcvJopnE"
   },
   "source": [
    "Las variables mostradas en verde se usarán como variables independientes en nuestro modelo mientras que la variable mostrada en rojo será la variable dependeinte. El problema será de clasificación."
   ]
  },
  {
   "cell_type": "code",
   "execution_count": 9,
   "metadata": {
    "colab": {
     "base_uri": "https://localhost:8080/"
    },
    "id": "V1c9xwrI7XZn",
    "outputId": "ae6b0c4e-9fd1-44fa-c261-7645f38ea242"
   },
   "outputs": [
    {
     "name": "stdout",
     "output_type": "stream",
     "text": [
      "name :  375765\n",
      "\n",
      "category :  159\n",
      "\n",
      "main_category :  15\n",
      " \tCategories:  ['Publishing' 'Film & Video' 'Music' 'Food' 'Design' 'Crafts' 'Games'\n",
      " 'Comics' 'Fashion' 'Theater' 'Art' 'Photography' 'Technology' 'Dance'\n",
      " 'Journalism']\n",
      "\n",
      "currency :  14\n",
      " \tCategories:  ['GBP' 'USD' 'CAD' 'AUD' 'NOK' 'EUR' 'MXN' 'SEK' 'NZD' 'CHF' 'DKK' 'HKD'\n",
      " 'SGD' 'JPY']\n",
      "\n",
      "state :  6\n",
      " \tCategories:  ['failed' 'canceled' 'successful' 'live' 'undefined' 'suspended']\n",
      "\n",
      "country :  23\n",
      " \tCategories:  ['GB' 'US' 'CA' 'AU' 'NO' 'IT' 'DE' 'IE' 'MX' 'ES' 'N,0\"' 'SE' 'FR' 'NL'\n",
      " 'NZ' 'CH' 'AT' 'DK' 'BE' 'HK' 'LU' 'SG' 'JP']\n",
      "\n"
     ]
    }
   ],
   "source": [
    "for col in data:\n",
    "  column = data[col]\n",
    "  if column.dtype.name == 'object'and col not in ['deadline','launched']:\n",
    "    categories = column.unique()\n",
    "    num_cat = len(categories)\n",
    "    \n",
    "    if num_cat < 100:\n",
    "     print(col,\": \", num_cat)\n",
    "     print(\" \\tCategories: \",categories)\n",
    "    else:\n",
    "     print(col,\": \",  num_cat)\n",
    "    print()"
   ]
  },
  {
   "cell_type": "markdown",
   "metadata": {
    "id": "geY3S7OjpSSS"
   },
   "source": [
    "## **Preprocesamiento de datos**"
   ]
  },
  {
   "cell_type": "markdown",
   "metadata": {
    "id": "ADDjfI89WQOe"
   },
   "source": [
    "### Generación de nuevas variables\n",
    "De los datos con los que contamos podemos generar nuevas variables que pueden dar más información sobre los proyectos que pueden ayudar a las predicciones. Entre las variables nuevas que se pueden generar se encuentran:\n",
    "\n",
    "\n",
    "*   Duración de la recaudación (campaign_length) en días\n",
    "*   Longitud del nombre del proyecto (name_length)\n",
    "*   Mes en el que la recaudación comenzó (start_month)\n",
    "*   Mes en el que la recaudación terminó (end_month)\n",
    "*   Día de la semana en el que rempezó la recaudación (start_day) The day of the week with Monday=0, Sunday=6.\n",
    "*   Día de la semana en el que terminó la recaudación (end_day)\n",
    "\n",
    "\n"
   ]
  },
  {
   "cell_type": "code",
   "execution_count": 10,
   "metadata": {
    "colab": {
     "base_uri": "https://localhost:8080/",
     "height": 306
    },
    "id": "CrcIO4zEYucp",
    "outputId": "8ffe6355-fbac-44a2-9368-802180f53895"
   },
   "outputs": [
    {
     "data": {
      "text/html": [
       "<div>\n",
       "<style scoped>\n",
       "    .dataframe tbody tr th:only-of-type {\n",
       "        vertical-align: middle;\n",
       "    }\n",
       "\n",
       "    .dataframe tbody tr th {\n",
       "        vertical-align: top;\n",
       "    }\n",
       "\n",
       "    .dataframe thead th {\n",
       "        text-align: right;\n",
       "    }\n",
       "</style>\n",
       "<table border=\"1\" class=\"dataframe\">\n",
       "  <thead>\n",
       "    <tr style=\"text-align: right;\">\n",
       "      <th></th>\n",
       "      <th>ID</th>\n",
       "      <th>name</th>\n",
       "      <th>category</th>\n",
       "      <th>main_category</th>\n",
       "      <th>currency</th>\n",
       "      <th>deadline</th>\n",
       "      <th>goal</th>\n",
       "      <th>launched</th>\n",
       "      <th>pledged</th>\n",
       "      <th>state</th>\n",
       "      <th>backers</th>\n",
       "      <th>country</th>\n",
       "      <th>usd pledged</th>\n",
       "      <th>usd_pledged_real</th>\n",
       "      <th>usd_goal_real</th>\n",
       "    </tr>\n",
       "  </thead>\n",
       "  <tbody>\n",
       "    <tr>\n",
       "      <th>0</th>\n",
       "      <td>1000002330</td>\n",
       "      <td>The Songs of Adelaide &amp; Abullah</td>\n",
       "      <td>Poetry</td>\n",
       "      <td>Publishing</td>\n",
       "      <td>GBP</td>\n",
       "      <td>2015-10-09</td>\n",
       "      <td>1000.0</td>\n",
       "      <td>2015-08-11 12:12:28</td>\n",
       "      <td>0.0</td>\n",
       "      <td>failed</td>\n",
       "      <td>0</td>\n",
       "      <td>GB</td>\n",
       "      <td>0.0</td>\n",
       "      <td>0.0</td>\n",
       "      <td>1533.95</td>\n",
       "    </tr>\n",
       "    <tr>\n",
       "      <th>1</th>\n",
       "      <td>1000003930</td>\n",
       "      <td>Greeting From Earth: ZGAC Arts Capsule For ET</td>\n",
       "      <td>Narrative Film</td>\n",
       "      <td>Film &amp; Video</td>\n",
       "      <td>USD</td>\n",
       "      <td>2017-11-01</td>\n",
       "      <td>30000.0</td>\n",
       "      <td>2017-09-02 04:43:57</td>\n",
       "      <td>2421.0</td>\n",
       "      <td>failed</td>\n",
       "      <td>15</td>\n",
       "      <td>US</td>\n",
       "      <td>100.0</td>\n",
       "      <td>2421.0</td>\n",
       "      <td>30000.00</td>\n",
       "    </tr>\n",
       "    <tr>\n",
       "      <th>2</th>\n",
       "      <td>1000004038</td>\n",
       "      <td>Where is Hank?</td>\n",
       "      <td>Narrative Film</td>\n",
       "      <td>Film &amp; Video</td>\n",
       "      <td>USD</td>\n",
       "      <td>2013-02-26</td>\n",
       "      <td>45000.0</td>\n",
       "      <td>2013-01-12 00:20:50</td>\n",
       "      <td>220.0</td>\n",
       "      <td>failed</td>\n",
       "      <td>3</td>\n",
       "      <td>US</td>\n",
       "      <td>220.0</td>\n",
       "      <td>220.0</td>\n",
       "      <td>45000.00</td>\n",
       "    </tr>\n",
       "    <tr>\n",
       "      <th>3</th>\n",
       "      <td>1000007540</td>\n",
       "      <td>ToshiCapital Rekordz Needs Help to Complete Album</td>\n",
       "      <td>Music</td>\n",
       "      <td>Music</td>\n",
       "      <td>USD</td>\n",
       "      <td>2012-04-16</td>\n",
       "      <td>5000.0</td>\n",
       "      <td>2012-03-17 03:24:11</td>\n",
       "      <td>1.0</td>\n",
       "      <td>failed</td>\n",
       "      <td>1</td>\n",
       "      <td>US</td>\n",
       "      <td>1.0</td>\n",
       "      <td>1.0</td>\n",
       "      <td>5000.00</td>\n",
       "    </tr>\n",
       "    <tr>\n",
       "      <th>4</th>\n",
       "      <td>1000011046</td>\n",
       "      <td>Community Film Project: The Art of Neighborhoo...</td>\n",
       "      <td>Film &amp; Video</td>\n",
       "      <td>Film &amp; Video</td>\n",
       "      <td>USD</td>\n",
       "      <td>2015-08-29</td>\n",
       "      <td>19500.0</td>\n",
       "      <td>2015-07-04 08:35:03</td>\n",
       "      <td>1283.0</td>\n",
       "      <td>canceled</td>\n",
       "      <td>14</td>\n",
       "      <td>US</td>\n",
       "      <td>1283.0</td>\n",
       "      <td>1283.0</td>\n",
       "      <td>19500.00</td>\n",
       "    </tr>\n",
       "  </tbody>\n",
       "</table>\n",
       "</div>"
      ],
      "text/plain": [
       "           ID  ... usd_goal_real\n",
       "0  1000002330  ...       1533.95\n",
       "1  1000003930  ...      30000.00\n",
       "2  1000004038  ...      45000.00\n",
       "3  1000007540  ...       5000.00\n",
       "4  1000011046  ...      19500.00\n",
       "\n",
       "[5 rows x 15 columns]"
      ]
     },
     "execution_count": 10,
     "metadata": {
      "tags": []
     },
     "output_type": "execute_result"
    }
   ],
   "source": [
    "data.head()"
   ]
  },
  {
   "cell_type": "code",
   "execution_count": 11,
   "metadata": {
    "id": "j9E4l3u2Y_br"
   },
   "outputs": [],
   "source": [
    "data['deadline'] = pd.to_datetime(data['deadline'])\n",
    "data['launched'] = pd.to_datetime(data['launched'])\n",
    "data['start_day'] = data['launched'].dt.dayofweek\n",
    "data['end_day'] = data['deadline'].dt.dayofweek\n",
    "data['start_month'] = data['launched'].dt.month\n",
    "data['end_month'] = data['deadline'].dt.month\n",
    "data['year'] = data['launched'].dt.year\n",
    "data['name_length'] = data['name'].str.len()\n",
    "data['campaign_length'] = (data['deadline'] - data['launched']) /np.timedelta64(1,'D')"
   ]
  },
  {
   "cell_type": "code",
   "execution_count": 12,
   "metadata": {
    "colab": {
     "base_uri": "https://localhost:8080/",
     "height": 479
    },
    "id": "CHlX6lzBatdl",
    "outputId": "67aaa506-3cd5-4e7e-f929-ee3f860de34d"
   },
   "outputs": [
    {
     "data": {
      "text/html": [
       "<div>\n",
       "<style scoped>\n",
       "    .dataframe tbody tr th:only-of-type {\n",
       "        vertical-align: middle;\n",
       "    }\n",
       "\n",
       "    .dataframe tbody tr th {\n",
       "        vertical-align: top;\n",
       "    }\n",
       "\n",
       "    .dataframe thead th {\n",
       "        text-align: right;\n",
       "    }\n",
       "</style>\n",
       "<table border=\"1\" class=\"dataframe\">\n",
       "  <thead>\n",
       "    <tr style=\"text-align: right;\">\n",
       "      <th></th>\n",
       "      <th>ID</th>\n",
       "      <th>name</th>\n",
       "      <th>category</th>\n",
       "      <th>main_category</th>\n",
       "      <th>currency</th>\n",
       "      <th>deadline</th>\n",
       "      <th>goal</th>\n",
       "      <th>launched</th>\n",
       "      <th>pledged</th>\n",
       "      <th>state</th>\n",
       "      <th>backers</th>\n",
       "      <th>country</th>\n",
       "      <th>usd pledged</th>\n",
       "      <th>usd_pledged_real</th>\n",
       "      <th>usd_goal_real</th>\n",
       "      <th>start_day</th>\n",
       "      <th>end_day</th>\n",
       "      <th>start_month</th>\n",
       "      <th>end_month</th>\n",
       "      <th>year</th>\n",
       "      <th>name_length</th>\n",
       "      <th>campaign_length</th>\n",
       "    </tr>\n",
       "  </thead>\n",
       "  <tbody>\n",
       "    <tr>\n",
       "      <th>0</th>\n",
       "      <td>1000002330</td>\n",
       "      <td>The Songs of Adelaide &amp; Abullah</td>\n",
       "      <td>Poetry</td>\n",
       "      <td>Publishing</td>\n",
       "      <td>GBP</td>\n",
       "      <td>2015-10-09</td>\n",
       "      <td>1000.0</td>\n",
       "      <td>2015-08-11 12:12:28</td>\n",
       "      <td>0.0</td>\n",
       "      <td>failed</td>\n",
       "      <td>0</td>\n",
       "      <td>GB</td>\n",
       "      <td>0.0</td>\n",
       "      <td>0.0</td>\n",
       "      <td>1533.95</td>\n",
       "      <td>1</td>\n",
       "      <td>4</td>\n",
       "      <td>8</td>\n",
       "      <td>10</td>\n",
       "      <td>2015</td>\n",
       "      <td>31.0</td>\n",
       "      <td>58.491343</td>\n",
       "    </tr>\n",
       "    <tr>\n",
       "      <th>1</th>\n",
       "      <td>1000003930</td>\n",
       "      <td>Greeting From Earth: ZGAC Arts Capsule For ET</td>\n",
       "      <td>Narrative Film</td>\n",
       "      <td>Film &amp; Video</td>\n",
       "      <td>USD</td>\n",
       "      <td>2017-11-01</td>\n",
       "      <td>30000.0</td>\n",
       "      <td>2017-09-02 04:43:57</td>\n",
       "      <td>2421.0</td>\n",
       "      <td>failed</td>\n",
       "      <td>15</td>\n",
       "      <td>US</td>\n",
       "      <td>100.0</td>\n",
       "      <td>2421.0</td>\n",
       "      <td>30000.00</td>\n",
       "      <td>5</td>\n",
       "      <td>2</td>\n",
       "      <td>9</td>\n",
       "      <td>11</td>\n",
       "      <td>2017</td>\n",
       "      <td>45.0</td>\n",
       "      <td>59.802813</td>\n",
       "    </tr>\n",
       "    <tr>\n",
       "      <th>2</th>\n",
       "      <td>1000004038</td>\n",
       "      <td>Where is Hank?</td>\n",
       "      <td>Narrative Film</td>\n",
       "      <td>Film &amp; Video</td>\n",
       "      <td>USD</td>\n",
       "      <td>2013-02-26</td>\n",
       "      <td>45000.0</td>\n",
       "      <td>2013-01-12 00:20:50</td>\n",
       "      <td>220.0</td>\n",
       "      <td>failed</td>\n",
       "      <td>3</td>\n",
       "      <td>US</td>\n",
       "      <td>220.0</td>\n",
       "      <td>220.0</td>\n",
       "      <td>45000.00</td>\n",
       "      <td>5</td>\n",
       "      <td>1</td>\n",
       "      <td>1</td>\n",
       "      <td>2</td>\n",
       "      <td>2013</td>\n",
       "      <td>14.0</td>\n",
       "      <td>44.985532</td>\n",
       "    </tr>\n",
       "    <tr>\n",
       "      <th>3</th>\n",
       "      <td>1000007540</td>\n",
       "      <td>ToshiCapital Rekordz Needs Help to Complete Album</td>\n",
       "      <td>Music</td>\n",
       "      <td>Music</td>\n",
       "      <td>USD</td>\n",
       "      <td>2012-04-16</td>\n",
       "      <td>5000.0</td>\n",
       "      <td>2012-03-17 03:24:11</td>\n",
       "      <td>1.0</td>\n",
       "      <td>failed</td>\n",
       "      <td>1</td>\n",
       "      <td>US</td>\n",
       "      <td>1.0</td>\n",
       "      <td>1.0</td>\n",
       "      <td>5000.00</td>\n",
       "      <td>5</td>\n",
       "      <td>0</td>\n",
       "      <td>3</td>\n",
       "      <td>4</td>\n",
       "      <td>2012</td>\n",
       "      <td>49.0</td>\n",
       "      <td>29.858206</td>\n",
       "    </tr>\n",
       "    <tr>\n",
       "      <th>4</th>\n",
       "      <td>1000011046</td>\n",
       "      <td>Community Film Project: The Art of Neighborhoo...</td>\n",
       "      <td>Film &amp; Video</td>\n",
       "      <td>Film &amp; Video</td>\n",
       "      <td>USD</td>\n",
       "      <td>2015-08-29</td>\n",
       "      <td>19500.0</td>\n",
       "      <td>2015-07-04 08:35:03</td>\n",
       "      <td>1283.0</td>\n",
       "      <td>canceled</td>\n",
       "      <td>14</td>\n",
       "      <td>US</td>\n",
       "      <td>1283.0</td>\n",
       "      <td>1283.0</td>\n",
       "      <td>19500.00</td>\n",
       "      <td>5</td>\n",
       "      <td>5</td>\n",
       "      <td>7</td>\n",
       "      <td>8</td>\n",
       "      <td>2015</td>\n",
       "      <td>58.0</td>\n",
       "      <td>55.642326</td>\n",
       "    </tr>\n",
       "  </tbody>\n",
       "</table>\n",
       "</div>"
      ],
      "text/plain": [
       "           ID  ... campaign_length\n",
       "0  1000002330  ...       58.491343\n",
       "1  1000003930  ...       59.802813\n",
       "2  1000004038  ...       44.985532\n",
       "3  1000007540  ...       29.858206\n",
       "4  1000011046  ...       55.642326\n",
       "\n",
       "[5 rows x 22 columns]"
      ]
     },
     "execution_count": 12,
     "metadata": {
      "tags": []
     },
     "output_type": "execute_result"
    }
   ],
   "source": [
    "data.head()"
   ]
  },
  {
   "cell_type": "code",
   "execution_count": 13,
   "metadata": {
    "colab": {
     "base_uri": "https://localhost:8080/"
    },
    "id": "QD1IXPZFPhaE",
    "outputId": "0203ac15-bb9d-4298-e322-86d9d783bc73"
   },
   "outputs": [
    {
     "data": {
      "text/plain": [
       "(378661, 22)"
      ]
     },
     "execution_count": 13,
     "metadata": {
      "tags": []
     },
     "output_type": "execute_result"
    }
   ],
   "source": [
    "data.shape"
   ]
  },
  {
   "cell_type": "markdown",
   "metadata": {
    "id": "5P4RA0rwQ3np"
   },
   "source": [
    "Ahora se eliminarán las variables que no nos sirven para el modelo (ver Tabla en la sección de arriba)."
   ]
  },
  {
   "cell_type": "code",
   "execution_count": 14,
   "metadata": {
    "id": "XNGxWkflpWmC"
   },
   "outputs": [],
   "source": [
    "# data_filtered = data_filtered.drop(['ID','name','goal','pledged','backers','usd pledged','state','deadline','launched'],axis=1)\n",
    "# Sin remover state para que sea un problema de calsificación\n",
    "data = data.drop(['ID','name','goal','pledged','backers','usd pledged','deadline','launched'],axis=1)\n"
   ]
  },
  {
   "cell_type": "code",
   "execution_count": 15,
   "metadata": {
    "colab": {
     "base_uri": "https://localhost:8080/",
     "height": 204
    },
    "id": "XUcWTsoe0TFG",
    "outputId": "49287184-c2df-4e27-d811-aedb4869b420"
   },
   "outputs": [
    {
     "data": {
      "text/html": [
       "<div>\n",
       "<style scoped>\n",
       "    .dataframe tbody tr th:only-of-type {\n",
       "        vertical-align: middle;\n",
       "    }\n",
       "\n",
       "    .dataframe tbody tr th {\n",
       "        vertical-align: top;\n",
       "    }\n",
       "\n",
       "    .dataframe thead th {\n",
       "        text-align: right;\n",
       "    }\n",
       "</style>\n",
       "<table border=\"1\" class=\"dataframe\">\n",
       "  <thead>\n",
       "    <tr style=\"text-align: right;\">\n",
       "      <th></th>\n",
       "      <th>category</th>\n",
       "      <th>main_category</th>\n",
       "      <th>currency</th>\n",
       "      <th>state</th>\n",
       "      <th>country</th>\n",
       "      <th>usd_pledged_real</th>\n",
       "      <th>usd_goal_real</th>\n",
       "      <th>start_day</th>\n",
       "      <th>end_day</th>\n",
       "      <th>start_month</th>\n",
       "      <th>end_month</th>\n",
       "      <th>year</th>\n",
       "      <th>name_length</th>\n",
       "      <th>campaign_length</th>\n",
       "    </tr>\n",
       "  </thead>\n",
       "  <tbody>\n",
       "    <tr>\n",
       "      <th>0</th>\n",
       "      <td>Poetry</td>\n",
       "      <td>Publishing</td>\n",
       "      <td>GBP</td>\n",
       "      <td>failed</td>\n",
       "      <td>GB</td>\n",
       "      <td>0.0</td>\n",
       "      <td>1533.95</td>\n",
       "      <td>1</td>\n",
       "      <td>4</td>\n",
       "      <td>8</td>\n",
       "      <td>10</td>\n",
       "      <td>2015</td>\n",
       "      <td>31.0</td>\n",
       "      <td>58.491343</td>\n",
       "    </tr>\n",
       "    <tr>\n",
       "      <th>1</th>\n",
       "      <td>Narrative Film</td>\n",
       "      <td>Film &amp; Video</td>\n",
       "      <td>USD</td>\n",
       "      <td>failed</td>\n",
       "      <td>US</td>\n",
       "      <td>2421.0</td>\n",
       "      <td>30000.00</td>\n",
       "      <td>5</td>\n",
       "      <td>2</td>\n",
       "      <td>9</td>\n",
       "      <td>11</td>\n",
       "      <td>2017</td>\n",
       "      <td>45.0</td>\n",
       "      <td>59.802813</td>\n",
       "    </tr>\n",
       "    <tr>\n",
       "      <th>2</th>\n",
       "      <td>Narrative Film</td>\n",
       "      <td>Film &amp; Video</td>\n",
       "      <td>USD</td>\n",
       "      <td>failed</td>\n",
       "      <td>US</td>\n",
       "      <td>220.0</td>\n",
       "      <td>45000.00</td>\n",
       "      <td>5</td>\n",
       "      <td>1</td>\n",
       "      <td>1</td>\n",
       "      <td>2</td>\n",
       "      <td>2013</td>\n",
       "      <td>14.0</td>\n",
       "      <td>44.985532</td>\n",
       "    </tr>\n",
       "    <tr>\n",
       "      <th>3</th>\n",
       "      <td>Music</td>\n",
       "      <td>Music</td>\n",
       "      <td>USD</td>\n",
       "      <td>failed</td>\n",
       "      <td>US</td>\n",
       "      <td>1.0</td>\n",
       "      <td>5000.00</td>\n",
       "      <td>5</td>\n",
       "      <td>0</td>\n",
       "      <td>3</td>\n",
       "      <td>4</td>\n",
       "      <td>2012</td>\n",
       "      <td>49.0</td>\n",
       "      <td>29.858206</td>\n",
       "    </tr>\n",
       "    <tr>\n",
       "      <th>4</th>\n",
       "      <td>Film &amp; Video</td>\n",
       "      <td>Film &amp; Video</td>\n",
       "      <td>USD</td>\n",
       "      <td>canceled</td>\n",
       "      <td>US</td>\n",
       "      <td>1283.0</td>\n",
       "      <td>19500.00</td>\n",
       "      <td>5</td>\n",
       "      <td>5</td>\n",
       "      <td>7</td>\n",
       "      <td>8</td>\n",
       "      <td>2015</td>\n",
       "      <td>58.0</td>\n",
       "      <td>55.642326</td>\n",
       "    </tr>\n",
       "  </tbody>\n",
       "</table>\n",
       "</div>"
      ],
      "text/plain": [
       "         category main_category currency  ...  year name_length  campaign_length\n",
       "0          Poetry    Publishing      GBP  ...  2015        31.0        58.491343\n",
       "1  Narrative Film  Film & Video      USD  ...  2017        45.0        59.802813\n",
       "2  Narrative Film  Film & Video      USD  ...  2013        14.0        44.985532\n",
       "3           Music         Music      USD  ...  2012        49.0        29.858206\n",
       "4    Film & Video  Film & Video      USD  ...  2015        58.0        55.642326\n",
       "\n",
       "[5 rows x 14 columns]"
      ]
     },
     "execution_count": 15,
     "metadata": {
      "tags": []
     },
     "output_type": "execute_result"
    }
   ],
   "source": [
    "data.head()"
   ]
  },
  {
   "cell_type": "markdown",
   "metadata": {
    "id": "hCsa5ERq6jVR"
   },
   "source": [
    "Se obtendrá un dataset en el que las variables categóricas estén representadas numéricamente"
   ]
  },
  {
   "cell_type": "code",
   "execution_count": 16,
   "metadata": {
    "id": "dBerGAD-6xnz"
   },
   "outputs": [],
   "source": [
    "data_categorical = data.copy()"
   ]
  },
  {
   "cell_type": "code",
   "execution_count": 17,
   "metadata": {
    "id": "ipGgOSazINDJ"
   },
   "outputs": [],
   "source": [
    "encodings = {}\n",
    "categorical_variables = ['category','main_category','currency','country','state','year']\n",
    "for cat in categorical_variables:\n",
    "  data_categorical[cat] = encoder.fit_transform(data_categorical[cat].astype(str))\n",
    "  encodings[cat] = dict(zip(encoder.classes_,encoder.transform(encoder.classes_)))"
   ]
  },
  {
   "cell_type": "code",
   "execution_count": 18,
   "metadata": {
    "colab": {
     "base_uri": "https://localhost:8080/"
    },
    "id": "Z8dCMTg-J7F8",
    "outputId": "2bfa2d0d-9533-4cda-a3c5-0676998fe828"
   },
   "outputs": [
    {
     "data": {
      "text/plain": [
       "{'canceled': 0,\n",
       " 'failed': 1,\n",
       " 'live': 2,\n",
       " 'successful': 3,\n",
       " 'suspended': 4,\n",
       " 'undefined': 5}"
      ]
     },
     "execution_count": 18,
     "metadata": {
      "tags": []
     },
     "output_type": "execute_result"
    }
   ],
   "source": [
    "encodings['state']"
   ]
  },
  {
   "cell_type": "code",
   "execution_count": 19,
   "metadata": {
    "colab": {
     "base_uri": "https://localhost:8080/"
    },
    "id": "3m84m3b7Gwns",
    "outputId": "e187f12d-2b9a-4a22-bf57-bda0d3223f98"
   },
   "outputs": [
    {
     "data": {
      "text/plain": [
       "1    197719\n",
       "3    133956\n",
       "0     38779\n",
       "5      3562\n",
       "2      2799\n",
       "4      1846\n",
       "Name: state, dtype: int64"
      ]
     },
     "execution_count": 19,
     "metadata": {
      "tags": []
     },
     "output_type": "execute_result"
    }
   ],
   "source": [
    "data_categorical['state'].value_counts()"
   ]
  },
  {
   "cell_type": "markdown",
   "metadata": {
    "id": "Pi6GlzLWrI52"
   },
   "source": [
    "### Eliminacion de variables y registros"
   ]
  },
  {
   "cell_type": "markdown",
   "metadata": {
    "id": "Oiqbjet34YMC"
   },
   "source": [
    "Ahora se obtendrá una matriz de correlación para ver cuáles variables aportan la misma información"
   ]
  },
  {
   "cell_type": "code",
   "execution_count": 20,
   "metadata": {
    "colab": {
     "base_uri": "https://localhost:8080/",
     "height": 204
    },
    "id": "WTgjo7976XW0",
    "outputId": "7e6f7d99-86c6-40a5-aad8-6a591ddc94a2"
   },
   "outputs": [
    {
     "data": {
      "text/html": [
       "<div>\n",
       "<style scoped>\n",
       "    .dataframe tbody tr th:only-of-type {\n",
       "        vertical-align: middle;\n",
       "    }\n",
       "\n",
       "    .dataframe tbody tr th {\n",
       "        vertical-align: top;\n",
       "    }\n",
       "\n",
       "    .dataframe thead th {\n",
       "        text-align: right;\n",
       "    }\n",
       "</style>\n",
       "<table border=\"1\" class=\"dataframe\">\n",
       "  <thead>\n",
       "    <tr style=\"text-align: right;\">\n",
       "      <th></th>\n",
       "      <th>category</th>\n",
       "      <th>main_category</th>\n",
       "      <th>currency</th>\n",
       "      <th>state</th>\n",
       "      <th>country</th>\n",
       "      <th>usd_pledged_real</th>\n",
       "      <th>usd_goal_real</th>\n",
       "      <th>start_day</th>\n",
       "      <th>end_day</th>\n",
       "      <th>start_month</th>\n",
       "      <th>end_month</th>\n",
       "      <th>year</th>\n",
       "      <th>name_length</th>\n",
       "      <th>campaign_length</th>\n",
       "    </tr>\n",
       "  </thead>\n",
       "  <tbody>\n",
       "    <tr>\n",
       "      <th>0</th>\n",
       "      <td>108</td>\n",
       "      <td>12</td>\n",
       "      <td>5</td>\n",
       "      <td>1</td>\n",
       "      <td>9</td>\n",
       "      <td>0.0</td>\n",
       "      <td>1533.95</td>\n",
       "      <td>1</td>\n",
       "      <td>4</td>\n",
       "      <td>8</td>\n",
       "      <td>10</td>\n",
       "      <td>7</td>\n",
       "      <td>31.0</td>\n",
       "      <td>58.491343</td>\n",
       "    </tr>\n",
       "    <tr>\n",
       "      <th>1</th>\n",
       "      <td>93</td>\n",
       "      <td>6</td>\n",
       "      <td>13</td>\n",
       "      <td>1</td>\n",
       "      <td>22</td>\n",
       "      <td>2421.0</td>\n",
       "      <td>30000.00</td>\n",
       "      <td>5</td>\n",
       "      <td>2</td>\n",
       "      <td>9</td>\n",
       "      <td>11</td>\n",
       "      <td>9</td>\n",
       "      <td>45.0</td>\n",
       "      <td>59.802813</td>\n",
       "    </tr>\n",
       "    <tr>\n",
       "      <th>2</th>\n",
       "      <td>93</td>\n",
       "      <td>6</td>\n",
       "      <td>13</td>\n",
       "      <td>1</td>\n",
       "      <td>22</td>\n",
       "      <td>220.0</td>\n",
       "      <td>45000.00</td>\n",
       "      <td>5</td>\n",
       "      <td>1</td>\n",
       "      <td>1</td>\n",
       "      <td>2</td>\n",
       "      <td>5</td>\n",
       "      <td>14.0</td>\n",
       "      <td>44.985532</td>\n",
       "    </tr>\n",
       "    <tr>\n",
       "      <th>3</th>\n",
       "      <td>90</td>\n",
       "      <td>10</td>\n",
       "      <td>13</td>\n",
       "      <td>1</td>\n",
       "      <td>22</td>\n",
       "      <td>1.0</td>\n",
       "      <td>5000.00</td>\n",
       "      <td>5</td>\n",
       "      <td>0</td>\n",
       "      <td>3</td>\n",
       "      <td>4</td>\n",
       "      <td>4</td>\n",
       "      <td>49.0</td>\n",
       "      <td>29.858206</td>\n",
       "    </tr>\n",
       "    <tr>\n",
       "      <th>4</th>\n",
       "      <td>55</td>\n",
       "      <td>6</td>\n",
       "      <td>13</td>\n",
       "      <td>0</td>\n",
       "      <td>22</td>\n",
       "      <td>1283.0</td>\n",
       "      <td>19500.00</td>\n",
       "      <td>5</td>\n",
       "      <td>5</td>\n",
       "      <td>7</td>\n",
       "      <td>8</td>\n",
       "      <td>7</td>\n",
       "      <td>58.0</td>\n",
       "      <td>55.642326</td>\n",
       "    </tr>\n",
       "  </tbody>\n",
       "</table>\n",
       "</div>"
      ],
      "text/plain": [
       "   category  main_category  currency  ...  year  name_length  campaign_length\n",
       "0       108             12         5  ...     7         31.0        58.491343\n",
       "1        93              6        13  ...     9         45.0        59.802813\n",
       "2        93              6        13  ...     5         14.0        44.985532\n",
       "3        90             10        13  ...     4         49.0        29.858206\n",
       "4        55              6        13  ...     7         58.0        55.642326\n",
       "\n",
       "[5 rows x 14 columns]"
      ]
     },
     "execution_count": 20,
     "metadata": {
      "tags": []
     },
     "output_type": "execute_result"
    }
   ],
   "source": [
    "data_categorical.head()"
   ]
  },
  {
   "cell_type": "code",
   "execution_count": 21,
   "metadata": {
    "colab": {
     "base_uri": "https://localhost:8080/",
     "height": 628
    },
    "id": "RMO7jxjE5SqR",
    "outputId": "123e8f54-8739-4277-98bd-af50f8c375ed"
   },
   "outputs": [
    {
     "data": {
      "image/png": "[encoded data removed]",
      "text/plain": [
       "<Figure size 720x720 with 2 Axes>"
      ]
     },
     "metadata": {
      "needs_background": "light",
      "tags": []
     },
     "output_type": "display_data"
    }
   ],
   "source": [
    "f = plt.figure(figsize=(10,10))\n",
    "plt.matshow(data_categorical.corr(), fignum=f.number)\n",
    "plt.xticks(range(data_categorical.shape[1]),data_categorical.columns, rotation=90)\n",
    "plt.yticks(range(data_categorical.shape[1]),data.columns)\n",
    "cb = plt.colorbar()\n",
    "plt.show()"
   ]
  },
  {
   "cell_type": "markdown",
   "metadata": {
    "id": "XPwsHoPJ8l3L"
   },
   "source": [
    "Debido a que la variable 'country' y 'currency' están muy correlacionadas, se eliminará la variable de 'currency'"
   ]
  },
  {
   "cell_type": "code",
   "execution_count": 22,
   "metadata": {
    "id": "aT4L1vcG8u_f"
   },
   "outputs": [],
   "source": [
    "data = data.drop(['currency'],axis=1)\n",
    "data_categorical = data_categorical.drop(['currency'],axis=1)"
   ]
  },
  {
   "cell_type": "code",
   "execution_count": 23,
   "metadata": {
    "colab": {
     "base_uri": "https://localhost:8080/",
     "height": 204
    },
    "id": "vPrKaTV31mDN",
    "outputId": "26081621-6998-4e99-9c90-769ec4635a36"
   },
   "outputs": [
    {
     "data": {
      "text/html": [
       "<div>\n",
       "<style scoped>\n",
       "    .dataframe tbody tr th:only-of-type {\n",
       "        vertical-align: middle;\n",
       "    }\n",
       "\n",
       "    .dataframe tbody tr th {\n",
       "        vertical-align: top;\n",
       "    }\n",
       "\n",
       "    .dataframe thead th {\n",
       "        text-align: right;\n",
       "    }\n",
       "</style>\n",
       "<table border=\"1\" class=\"dataframe\">\n",
       "  <thead>\n",
       "    <tr style=\"text-align: right;\">\n",
       "      <th></th>\n",
       "      <th>category</th>\n",
       "      <th>main_category</th>\n",
       "      <th>state</th>\n",
       "      <th>country</th>\n",
       "      <th>usd_pledged_real</th>\n",
       "      <th>usd_goal_real</th>\n",
       "      <th>start_day</th>\n",
       "      <th>end_day</th>\n",
       "      <th>start_month</th>\n",
       "      <th>end_month</th>\n",
       "      <th>year</th>\n",
       "      <th>name_length</th>\n",
       "      <th>campaign_length</th>\n",
       "    </tr>\n",
       "  </thead>\n",
       "  <tbody>\n",
       "    <tr>\n",
       "      <th>0</th>\n",
       "      <td>108</td>\n",
       "      <td>12</td>\n",
       "      <td>1</td>\n",
       "      <td>9</td>\n",
       "      <td>0.0</td>\n",
       "      <td>1533.95</td>\n",
       "      <td>1</td>\n",
       "      <td>4</td>\n",
       "      <td>8</td>\n",
       "      <td>10</td>\n",
       "      <td>7</td>\n",
       "      <td>31.0</td>\n",
       "      <td>58.491343</td>\n",
       "    </tr>\n",
       "    <tr>\n",
       "      <th>1</th>\n",
       "      <td>93</td>\n",
       "      <td>6</td>\n",
       "      <td>1</td>\n",
       "      <td>22</td>\n",
       "      <td>2421.0</td>\n",
       "      <td>30000.00</td>\n",
       "      <td>5</td>\n",
       "      <td>2</td>\n",
       "      <td>9</td>\n",
       "      <td>11</td>\n",
       "      <td>9</td>\n",
       "      <td>45.0</td>\n",
       "      <td>59.802813</td>\n",
       "    </tr>\n",
       "    <tr>\n",
       "      <th>2</th>\n",
       "      <td>93</td>\n",
       "      <td>6</td>\n",
       "      <td>1</td>\n",
       "      <td>22</td>\n",
       "      <td>220.0</td>\n",
       "      <td>45000.00</td>\n",
       "      <td>5</td>\n",
       "      <td>1</td>\n",
       "      <td>1</td>\n",
       "      <td>2</td>\n",
       "      <td>5</td>\n",
       "      <td>14.0</td>\n",
       "      <td>44.985532</td>\n",
       "    </tr>\n",
       "    <tr>\n",
       "      <th>3</th>\n",
       "      <td>90</td>\n",
       "      <td>10</td>\n",
       "      <td>1</td>\n",
       "      <td>22</td>\n",
       "      <td>1.0</td>\n",
       "      <td>5000.00</td>\n",
       "      <td>5</td>\n",
       "      <td>0</td>\n",
       "      <td>3</td>\n",
       "      <td>4</td>\n",
       "      <td>4</td>\n",
       "      <td>49.0</td>\n",
       "      <td>29.858206</td>\n",
       "    </tr>\n",
       "    <tr>\n",
       "      <th>4</th>\n",
       "      <td>55</td>\n",
       "      <td>6</td>\n",
       "      <td>0</td>\n",
       "      <td>22</td>\n",
       "      <td>1283.0</td>\n",
       "      <td>19500.00</td>\n",
       "      <td>5</td>\n",
       "      <td>5</td>\n",
       "      <td>7</td>\n",
       "      <td>8</td>\n",
       "      <td>7</td>\n",
       "      <td>58.0</td>\n",
       "      <td>55.642326</td>\n",
       "    </tr>\n",
       "  </tbody>\n",
       "</table>\n",
       "</div>"
      ],
      "text/plain": [
       "   category  main_category  state  ...  year  name_length  campaign_length\n",
       "0       108             12      1  ...     7         31.0        58.491343\n",
       "1        93              6      1  ...     9         45.0        59.802813\n",
       "2        93              6      1  ...     5         14.0        44.985532\n",
       "3        90             10      1  ...     4         49.0        29.858206\n",
       "4        55              6      0  ...     7         58.0        55.642326\n",
       "\n",
       "[5 rows x 13 columns]"
      ]
     },
     "execution_count": 23,
     "metadata": {
      "tags": []
     },
     "output_type": "execute_result"
    }
   ],
   "source": [
    "data_categorical.head()"
   ]
  },
  {
   "cell_type": "markdown",
   "metadata": {
    "id": "m2au93CYqvwI"
   },
   "source": [
    "Para comenzar el preprocesamiento, se removerán los proyectos que no son exitosos 'successful' o 'failed' puesto que eso indica que no han terminado aún o fueron cancelados."
   ]
  },
  {
   "cell_type": "code",
   "execution_count": 24,
   "metadata": {
    "id": "UWd6CPoSSEbJ"
   },
   "outputs": [],
   "source": [
    "data_filtered = data.copy()\n",
    "data_filtered = data_filtered[data_filtered['state'].isin(['successful','failed'])]\n",
    "data_categorical = data_categorical[data_categorical['state'].isin([1,3])]"
   ]
  },
  {
   "cell_type": "code",
   "execution_count": 25,
   "metadata": {
    "colab": {
     "base_uri": "https://localhost:8080/"
    },
    "id": "mS2SDCxPFxCD",
    "outputId": "4e9d7db5-4a6a-431f-ca60-2908576f2680"
   },
   "outputs": [
    {
     "data": {
      "text/plain": [
       "(331675, 13)"
      ]
     },
     "execution_count": 25,
     "metadata": {
      "tags": []
     },
     "output_type": "execute_result"
    }
   ],
   "source": [
    "data_categorical.shape"
   ]
  },
  {
   "cell_type": "code",
   "execution_count": 26,
   "metadata": {
    "colab": {
     "base_uri": "https://localhost:8080/"
    },
    "id": "JYOvSd_AUNEA",
    "outputId": "d83607f0-91b9-4f70-cc3e-a5b4d8fc635c"
   },
   "outputs": [
    {
     "data": {
      "text/plain": [
       "(331675, 13)"
      ]
     },
     "execution_count": 26,
     "metadata": {
      "tags": []
     },
     "output_type": "execute_result"
    }
   ],
   "source": [
    "data_filtered.shape"
   ]
  },
  {
   "cell_type": "code",
   "execution_count": 27,
   "metadata": {
    "colab": {
     "base_uri": "https://localhost:8080/"
    },
    "id": "MqG_K7TAQe7c",
    "outputId": "f2330cfe-6327-46f8-c50e-d70acd6be924"
   },
   "outputs": [
    {
     "data": {
      "text/plain": [
       "failed        197719\n",
       "successful    133956\n",
       "Name: state, dtype: int64"
      ]
     },
     "execution_count": 27,
     "metadata": {
      "tags": []
     },
     "output_type": "execute_result"
    }
   ],
   "source": [
    "data_filtered['state'].value_counts()"
   ]
  },
  {
   "cell_type": "code",
   "execution_count": 28,
   "metadata": {
    "colab": {
     "base_uri": "https://localhost:8080/"
    },
    "id": "Sblm2eVOqU05",
    "outputId": "18997323-20ed-4ad3-cbb0-a654fbf62f2d"
   },
   "outputs": [
    {
     "data": {
      "text/plain": [
       "category            0\n",
       "main_category       0\n",
       "state               0\n",
       "country             0\n",
       "usd_pledged_real    0\n",
       "usd_goal_real       0\n",
       "start_day           0\n",
       "end_day             0\n",
       "start_month         0\n",
       "end_month           0\n",
       "year                0\n",
       "name_length         3\n",
       "campaign_length     0\n",
       "dtype: int64"
      ]
     },
     "execution_count": 28,
     "metadata": {
      "tags": []
     },
     "output_type": "execute_result"
    }
   ],
   "source": [
    "data_filtered.isnull().sum()"
   ]
  },
  {
   "cell_type": "markdown",
   "metadata": {
    "id": "C1Nh9qPzAISW"
   },
   "source": [
    "Encontramos 3 registros que no tienen nombre, sustituiremos estos valores con el promedio"
   ]
  },
  {
   "cell_type": "code",
   "execution_count": 29,
   "metadata": {
    "id": "xFpIk83qq3ye"
   },
   "outputs": [],
   "source": [
    "data_filtered['name_length'] = data_filtered['name_length'].fillna(value=data['name_length'].mean())"
   ]
  },
  {
   "cell_type": "code",
   "execution_count": 30,
   "metadata": {
    "colab": {
     "base_uri": "https://localhost:8080/"
    },
    "id": "ZPjEhMqvrSUw",
    "outputId": "40124644-f929-4f1d-c3ce-0b2bec2d5a51"
   },
   "outputs": [
    {
     "data": {
      "text/plain": [
       "category            0\n",
       "main_category       0\n",
       "state               0\n",
       "country             0\n",
       "usd_pledged_real    0\n",
       "usd_goal_real       0\n",
       "start_day           0\n",
       "end_day             0\n",
       "start_month         0\n",
       "end_month           0\n",
       "year                0\n",
       "name_length         0\n",
       "campaign_length     0\n",
       "dtype: int64"
      ]
     },
     "execution_count": 30,
     "metadata": {
      "tags": []
     },
     "output_type": "execute_result"
    }
   ],
   "source": [
    "data_filtered.isnull().sum()"
   ]
  },
  {
   "cell_type": "code",
   "execution_count": 31,
   "metadata": {
    "colab": {
     "base_uri": "https://localhost:8080/"
    },
    "id": "yRI0KcSVTKtW",
    "outputId": "089331e2-c737-4bf1-d660-ffbb1e241ac9"
   },
   "outputs": [
    {
     "data": {
      "text/plain": [
       "(331675, 13)"
      ]
     },
     "execution_count": 31,
     "metadata": {
      "tags": []
     },
     "output_type": "execute_result"
    }
   ],
   "source": [
    "data_filtered.shape"
   ]
  },
  {
   "cell_type": "code",
   "execution_count": 32,
   "metadata": {
    "colab": {
     "base_uri": "https://localhost:8080/",
     "height": 204
    },
    "id": "xfz47SmYVTvw",
    "outputId": "fd449747-8db9-46bb-b74b-5c6150c0ddcf"
   },
   "outputs": [
    {
     "data": {
      "text/html": [
       "<div>\n",
       "<style scoped>\n",
       "    .dataframe tbody tr th:only-of-type {\n",
       "        vertical-align: middle;\n",
       "    }\n",
       "\n",
       "    .dataframe tbody tr th {\n",
       "        vertical-align: top;\n",
       "    }\n",
       "\n",
       "    .dataframe thead th {\n",
       "        text-align: right;\n",
       "    }\n",
       "</style>\n",
       "<table border=\"1\" class=\"dataframe\">\n",
       "  <thead>\n",
       "    <tr style=\"text-align: right;\">\n",
       "      <th></th>\n",
       "      <th>category</th>\n",
       "      <th>main_category</th>\n",
       "      <th>state</th>\n",
       "      <th>country</th>\n",
       "      <th>usd_pledged_real</th>\n",
       "      <th>usd_goal_real</th>\n",
       "      <th>start_day</th>\n",
       "      <th>end_day</th>\n",
       "      <th>start_month</th>\n",
       "      <th>end_month</th>\n",
       "      <th>year</th>\n",
       "      <th>name_length</th>\n",
       "      <th>campaign_length</th>\n",
       "    </tr>\n",
       "  </thead>\n",
       "  <tbody>\n",
       "    <tr>\n",
       "      <th>0</th>\n",
       "      <td>Poetry</td>\n",
       "      <td>Publishing</td>\n",
       "      <td>failed</td>\n",
       "      <td>GB</td>\n",
       "      <td>0.0</td>\n",
       "      <td>1533.95</td>\n",
       "      <td>1</td>\n",
       "      <td>4</td>\n",
       "      <td>8</td>\n",
       "      <td>10</td>\n",
       "      <td>2015</td>\n",
       "      <td>31.0</td>\n",
       "      <td>58.491343</td>\n",
       "    </tr>\n",
       "    <tr>\n",
       "      <th>1</th>\n",
       "      <td>Narrative Film</td>\n",
       "      <td>Film &amp; Video</td>\n",
       "      <td>failed</td>\n",
       "      <td>US</td>\n",
       "      <td>2421.0</td>\n",
       "      <td>30000.00</td>\n",
       "      <td>5</td>\n",
       "      <td>2</td>\n",
       "      <td>9</td>\n",
       "      <td>11</td>\n",
       "      <td>2017</td>\n",
       "      <td>45.0</td>\n",
       "      <td>59.802813</td>\n",
       "    </tr>\n",
       "    <tr>\n",
       "      <th>2</th>\n",
       "      <td>Narrative Film</td>\n",
       "      <td>Film &amp; Video</td>\n",
       "      <td>failed</td>\n",
       "      <td>US</td>\n",
       "      <td>220.0</td>\n",
       "      <td>45000.00</td>\n",
       "      <td>5</td>\n",
       "      <td>1</td>\n",
       "      <td>1</td>\n",
       "      <td>2</td>\n",
       "      <td>2013</td>\n",
       "      <td>14.0</td>\n",
       "      <td>44.985532</td>\n",
       "    </tr>\n",
       "    <tr>\n",
       "      <th>3</th>\n",
       "      <td>Music</td>\n",
       "      <td>Music</td>\n",
       "      <td>failed</td>\n",
       "      <td>US</td>\n",
       "      <td>1.0</td>\n",
       "      <td>5000.00</td>\n",
       "      <td>5</td>\n",
       "      <td>0</td>\n",
       "      <td>3</td>\n",
       "      <td>4</td>\n",
       "      <td>2012</td>\n",
       "      <td>49.0</td>\n",
       "      <td>29.858206</td>\n",
       "    </tr>\n",
       "    <tr>\n",
       "      <th>5</th>\n",
       "      <td>Restaurants</td>\n",
       "      <td>Food</td>\n",
       "      <td>successful</td>\n",
       "      <td>US</td>\n",
       "      <td>52375.0</td>\n",
       "      <td>50000.00</td>\n",
       "      <td>4</td>\n",
       "      <td>4</td>\n",
       "      <td>2</td>\n",
       "      <td>4</td>\n",
       "      <td>2016</td>\n",
       "      <td>20.0</td>\n",
       "      <td>34.431632</td>\n",
       "    </tr>\n",
       "  </tbody>\n",
       "</table>\n",
       "</div>"
      ],
      "text/plain": [
       "         category main_category       state  ...  year  name_length  campaign_length\n",
       "0          Poetry    Publishing      failed  ...  2015         31.0        58.491343\n",
       "1  Narrative Film  Film & Video      failed  ...  2017         45.0        59.802813\n",
       "2  Narrative Film  Film & Video      failed  ...  2013         14.0        44.985532\n",
       "3           Music         Music      failed  ...  2012         49.0        29.858206\n",
       "5     Restaurants          Food  successful  ...  2016         20.0        34.431632\n",
       "\n",
       "[5 rows x 13 columns]"
      ]
     },
     "execution_count": 32,
     "metadata": {
      "tags": []
     },
     "output_type": "execute_result"
    }
   ],
   "source": [
    "data_filtered.head()"
   ]
  },
  {
   "cell_type": "markdown",
   "metadata": {
    "id": "myPib4u1sKVS"
   },
   "source": [
    "### Analisis descriptivo de los datos"
   ]
  },
  {
   "cell_type": "markdown",
   "metadata": {
    "id": "LdpnYyTFPZAu"
   },
   "source": [
    "**c. Realizar un análisis descriptivo (numérico y gráfico) de los datos, tomando en cuenta el tipo de variable en cuestión.**"
   ]
  },
  {
   "cell_type": "code",
   "execution_count": 33,
   "metadata": {
    "colab": {
     "base_uri": "https://localhost:8080/",
     "height": 317
    },
    "id": "X-PfneXDqGiB",
    "outputId": "0525cfd9-9f7d-40ee-aaf2-4b8b644dae28"
   },
   "outputs": [
    {
     "data": {
      "text/html": [
       "<div>\n",
       "<style scoped>\n",
       "    .dataframe tbody tr th:only-of-type {\n",
       "        vertical-align: middle;\n",
       "    }\n",
       "\n",
       "    .dataframe tbody tr th {\n",
       "        vertical-align: top;\n",
       "    }\n",
       "\n",
       "    .dataframe thead th {\n",
       "        text-align: right;\n",
       "    }\n",
       "</style>\n",
       "<table border=\"1\" class=\"dataframe\">\n",
       "  <thead>\n",
       "    <tr style=\"text-align: right;\">\n",
       "      <th></th>\n",
       "      <th>category</th>\n",
       "      <th>main_category</th>\n",
       "      <th>state</th>\n",
       "      <th>country</th>\n",
       "      <th>usd_pledged_real</th>\n",
       "      <th>usd_goal_real</th>\n",
       "      <th>start_day</th>\n",
       "      <th>end_day</th>\n",
       "      <th>start_month</th>\n",
       "      <th>end_month</th>\n",
       "      <th>year</th>\n",
       "      <th>name_length</th>\n",
       "      <th>campaign_length</th>\n",
       "    </tr>\n",
       "  </thead>\n",
       "  <tbody>\n",
       "    <tr>\n",
       "      <th>count</th>\n",
       "      <td>331675.000000</td>\n",
       "      <td>331675.000000</td>\n",
       "      <td>331675.000000</td>\n",
       "      <td>331675.000000</td>\n",
       "      <td>3.316750e+05</td>\n",
       "      <td>3.316750e+05</td>\n",
       "      <td>331675.000000</td>\n",
       "      <td>331675.000000</td>\n",
       "      <td>331675.000000</td>\n",
       "      <td>331675.000000</td>\n",
       "      <td>331675.000000</td>\n",
       "      <td>331672.000000</td>\n",
       "      <td>331675.000000</td>\n",
       "    </tr>\n",
       "    <tr>\n",
       "      <th>mean</th>\n",
       "      <td>80.292557</td>\n",
       "      <td>7.483410</td>\n",
       "      <td>1.807755</td>\n",
       "      <td>18.994826</td>\n",
       "      <td>9.943461e+03</td>\n",
       "      <td>4.151000e+04</td>\n",
       "      <td>2.421826</td>\n",
       "      <td>3.183773</td>\n",
       "      <td>6.416163</td>\n",
       "      <td>6.758483</td>\n",
       "      <td>6.180002</td>\n",
       "      <td>34.220335</td>\n",
       "      <td>33.389378</td>\n",
       "    </tr>\n",
       "    <tr>\n",
       "      <th>std</th>\n",
       "      <td>45.069033</td>\n",
       "      <td>3.931466</td>\n",
       "      <td>0.981348</td>\n",
       "      <td>6.193821</td>\n",
       "      <td>9.673293e+04</td>\n",
       "      <td>1.108930e+06</td>\n",
       "      <td>1.762946</td>\n",
       "      <td>1.951072</td>\n",
       "      <td>3.306989</td>\n",
       "      <td>3.315202</td>\n",
       "      <td>1.930922</td>\n",
       "      <td>15.961502</td>\n",
       "      <td>12.723385</td>\n",
       "    </tr>\n",
       "    <tr>\n",
       "      <th>min</th>\n",
       "      <td>0.000000</td>\n",
       "      <td>0.000000</td>\n",
       "      <td>1.000000</td>\n",
       "      <td>0.000000</td>\n",
       "      <td>0.000000e+00</td>\n",
       "      <td>1.000000e-02</td>\n",
       "      <td>0.000000</td>\n",
       "      <td>0.000000</td>\n",
       "      <td>1.000000</td>\n",
       "      <td>1.000000</td>\n",
       "      <td>1.000000</td>\n",
       "      <td>1.000000</td>\n",
       "      <td>0.005058</td>\n",
       "    </tr>\n",
       "    <tr>\n",
       "      <th>25%</th>\n",
       "      <td>39.000000</td>\n",
       "      <td>5.000000</td>\n",
       "      <td>1.000000</td>\n",
       "      <td>22.000000</td>\n",
       "      <td>5.000000e+01</td>\n",
       "      <td>2.000000e+03</td>\n",
       "      <td>1.000000</td>\n",
       "      <td>2.000000</td>\n",
       "      <td>4.000000</td>\n",
       "      <td>4.000000</td>\n",
       "      <td>5.000000</td>\n",
       "      <td>21.000000</td>\n",
       "      <td>29.088929</td>\n",
       "    </tr>\n",
       "    <tr>\n",
       "      <th>50%</th>\n",
       "      <td>85.000000</td>\n",
       "      <td>7.000000</td>\n",
       "      <td>1.000000</td>\n",
       "      <td>22.000000</td>\n",
       "      <td>7.880000e+02</td>\n",
       "      <td>5.000000e+03</td>\n",
       "      <td>2.000000</td>\n",
       "      <td>3.000000</td>\n",
       "      <td>6.000000</td>\n",
       "      <td>7.000000</td>\n",
       "      <td>6.000000</td>\n",
       "      <td>33.000000</td>\n",
       "      <td>29.656759</td>\n",
       "    </tr>\n",
       "    <tr>\n",
       "      <th>75%</th>\n",
       "      <td>119.000000</td>\n",
       "      <td>10.000000</td>\n",
       "      <td>3.000000</td>\n",
       "      <td>22.000000</td>\n",
       "      <td>4.608000e+03</td>\n",
       "      <td>1.500000e+04</td>\n",
       "      <td>4.000000</td>\n",
       "      <td>5.000000</td>\n",
       "      <td>9.000000</td>\n",
       "      <td>10.000000</td>\n",
       "      <td>8.000000</td>\n",
       "      <td>48.000000</td>\n",
       "      <td>35.705966</td>\n",
       "    </tr>\n",
       "    <tr>\n",
       "      <th>max</th>\n",
       "      <td>158.000000</td>\n",
       "      <td>14.000000</td>\n",
       "      <td>3.000000</td>\n",
       "      <td>22.000000</td>\n",
       "      <td>2.033899e+07</td>\n",
       "      <td>1.663614e+08</td>\n",
       "      <td>6.000000</td>\n",
       "      <td>6.000000</td>\n",
       "      <td>12.000000</td>\n",
       "      <td>12.000000</td>\n",
       "      <td>9.000000</td>\n",
       "      <td>85.000000</td>\n",
       "      <td>91.962650</td>\n",
       "    </tr>\n",
       "  </tbody>\n",
       "</table>\n",
       "</div>"
      ],
      "text/plain": [
       "            category  main_category  ...    name_length  campaign_length\n",
       "count  331675.000000  331675.000000  ...  331672.000000    331675.000000\n",
       "mean       80.292557       7.483410  ...      34.220335        33.389378\n",
       "std        45.069033       3.931466  ...      15.961502        12.723385\n",
       "min         0.000000       0.000000  ...       1.000000         0.005058\n",
       "25%        39.000000       5.000000  ...      21.000000        29.088929\n",
       "50%        85.000000       7.000000  ...      33.000000        29.656759\n",
       "75%       119.000000      10.000000  ...      48.000000        35.705966\n",
       "max       158.000000      14.000000  ...      85.000000        91.962650\n",
       "\n",
       "[8 rows x 13 columns]"
      ]
     },
     "execution_count": 33,
     "metadata": {
      "tags": []
     },
     "output_type": "execute_result"
    }
   ],
   "source": [
    "data_categorical.describe()"
   ]
  },
  {
   "cell_type": "code",
   "execution_count": 34,
   "metadata": {
    "colab": {
     "base_uri": "https://localhost:8080/",
     "height": 1000
    },
    "id": "Ob-SxswUqRVf",
    "outputId": "09d24a1c-af1a-4125-b7dd-f04539793fe6"
   },
   "outputs": [
    {
     "data": {
      "text/plain": [
       "category                AxesSubplot(0.125,0.71587;0.168478x0.16413)\n",
       "main_category        AxesSubplot(0.327174,0.71587;0.168478x0.16413)\n",
       "state                AxesSubplot(0.529348,0.71587;0.168478x0.16413)\n",
       "country              AxesSubplot(0.731522,0.71587;0.168478x0.16413)\n",
       "usd_pledged_real       AxesSubplot(0.125,0.518913;0.168478x0.16413)\n",
       "usd_goal_real       AxesSubplot(0.327174,0.518913;0.168478x0.16413)\n",
       "start_day           AxesSubplot(0.529348,0.518913;0.168478x0.16413)\n",
       "end_day             AxesSubplot(0.731522,0.518913;0.168478x0.16413)\n",
       "start_month            AxesSubplot(0.125,0.321957;0.168478x0.16413)\n",
       "end_month           AxesSubplot(0.327174,0.321957;0.168478x0.16413)\n",
       "year                AxesSubplot(0.529348,0.321957;0.168478x0.16413)\n",
       "name_length         AxesSubplot(0.731522,0.321957;0.168478x0.16413)\n",
       "campaign_length           AxesSubplot(0.125,0.125;0.168478x0.16413)\n",
       "dtype: object"
      ]
     },
     "execution_count": 34,
     "metadata": {
      "tags": []
     },
     "output_type": "execute_result"
    },
    {
     "data": {
      "image/png": "[encoded data removed]",
      "text/plain": [
       "<Figure size 1080x1080 with 16 Axes>"
      ]
     },
     "metadata": {
      "needs_background": "light",
      "tags": []
     },
     "output_type": "display_data"
    }
   ],
   "source": [
    "data_categorical.plot(kind='box',subplots=True, figsize=(15,15),layout=(4,4),)"
   ]
  },
  {
   "cell_type": "code",
   "execution_count": 35,
   "metadata": {
    "colab": {
     "base_uri": "https://localhost:8080/",
     "height": 1000
    },
    "id": "xwAX2cEPtRLb",
    "outputId": "1c6d5331-70da-40ee-f07c-1cdc89824dbe"
   },
   "outputs": [
    {
     "data": {
      "text/plain": [
       "array([[<matplotlib.axes._subplots.AxesSubplot object at 0x7fcab45cbe10>,\n",
       "        <matplotlib.axes._subplots.AxesSubplot object at 0x7fcab4591390>,\n",
       "        <matplotlib.axes._subplots.AxesSubplot object at 0x7fcab44875c0>,\n",
       "        <matplotlib.axes._subplots.AxesSubplot object at 0x7fcab443c828>],\n",
       "       [<matplotlib.axes._subplots.AxesSubplot object at 0x7fcab446ea90>,\n",
       "        <matplotlib.axes._subplots.AxesSubplot object at 0x7fcab4420cf8>,\n",
       "        <matplotlib.axes._subplots.AxesSubplot object at 0x7fcab43db828>,\n",
       "        <matplotlib.axes._subplots.AxesSubplot object at 0x7fcab438db70>],\n",
       "       [<matplotlib.axes._subplots.AxesSubplot object at 0x7fcab438dbe0>,\n",
       "        <matplotlib.axes._subplots.AxesSubplot object at 0x7fcab43012e8>,\n",
       "        <matplotlib.axes._subplots.AxesSubplot object at 0x7fcab4332668>,\n",
       "        <matplotlib.axes._subplots.AxesSubplot object at 0x7fcab42e59e8>],\n",
       "       [<matplotlib.axes._subplots.AxesSubplot object at 0x7fcab4294d68>,\n",
       "        <matplotlib.axes._subplots.AxesSubplot object at 0x7fcab4257128>,\n",
       "        <matplotlib.axes._subplots.AxesSubplot object at 0x7fcab42074a8>,\n",
       "        <matplotlib.axes._subplots.AxesSubplot object at 0x7fcab4238828>]],\n",
       "      dtype=object)"
      ]
     },
     "execution_count": 35,
     "metadata": {
      "tags": []
     },
     "output_type": "execute_result"
    },
    {
     "data": {
      "image/png": "[encoded data removed]",
      "text/plain": [
       "<Figure size 1080x1080 with 16 Axes>"
      ]
     },
     "metadata": {
      "needs_background": "light",
      "tags": []
     },
     "output_type": "display_data"
    }
   ],
   "source": [
    "data_categorical.hist(figsize=(15,15))"
   ]
  },
  {
   "cell_type": "markdown",
   "metadata": {
    "id": "xpjLszLRNxVy"
   },
   "source": [
    "**d. Determinar en cuáles factores (continuos, discretos, categóricos, binarios, etc.) sería\n",
    "conveniente realizar algún tipo de transformación. En los casos que así lo consideres\n",
    "adecuado, indicar y realizar dichas transformaciones.**"
   ]
  },
  {
   "cell_type": "markdown",
   "metadata": {
    "id": "sA3LkUZvUPm6"
   },
   "source": [
    "Las variables de usd_pledged_real y usd_goal_real tienen un rango muy amplio, razón por la cual se deben de transformar"
   ]
  },
  {
   "cell_type": "code",
   "execution_count": 36,
   "metadata": {
    "colab": {
     "base_uri": "https://localhost:8080/",
     "height": 204
    },
    "id": "cYCN_MMdLOIK",
    "outputId": "cb5583bc-e0b0-42ba-e1b3-326bf4728d7b"
   },
   "outputs": [
    {
     "data": {
      "text/html": [
       "<div>\n",
       "<style scoped>\n",
       "    .dataframe tbody tr th:only-of-type {\n",
       "        vertical-align: middle;\n",
       "    }\n",
       "\n",
       "    .dataframe tbody tr th {\n",
       "        vertical-align: top;\n",
       "    }\n",
       "\n",
       "    .dataframe thead th {\n",
       "        text-align: right;\n",
       "    }\n",
       "</style>\n",
       "<table border=\"1\" class=\"dataframe\">\n",
       "  <thead>\n",
       "    <tr style=\"text-align: right;\">\n",
       "      <th></th>\n",
       "      <th>category</th>\n",
       "      <th>main_category</th>\n",
       "      <th>state</th>\n",
       "      <th>country</th>\n",
       "      <th>usd_pledged_real</th>\n",
       "      <th>usd_goal_real</th>\n",
       "      <th>start_day</th>\n",
       "      <th>end_day</th>\n",
       "      <th>start_month</th>\n",
       "      <th>end_month</th>\n",
       "      <th>year</th>\n",
       "      <th>name_length</th>\n",
       "      <th>campaign_length</th>\n",
       "    </tr>\n",
       "  </thead>\n",
       "  <tbody>\n",
       "    <tr>\n",
       "      <th>0</th>\n",
       "      <td>108</td>\n",
       "      <td>12</td>\n",
       "      <td>1</td>\n",
       "      <td>9</td>\n",
       "      <td>0.0</td>\n",
       "      <td>1533.95</td>\n",
       "      <td>1</td>\n",
       "      <td>4</td>\n",
       "      <td>8</td>\n",
       "      <td>10</td>\n",
       "      <td>7</td>\n",
       "      <td>31.0</td>\n",
       "      <td>58.491343</td>\n",
       "    </tr>\n",
       "    <tr>\n",
       "      <th>1</th>\n",
       "      <td>93</td>\n",
       "      <td>6</td>\n",
       "      <td>1</td>\n",
       "      <td>22</td>\n",
       "      <td>2421.0</td>\n",
       "      <td>30000.00</td>\n",
       "      <td>5</td>\n",
       "      <td>2</td>\n",
       "      <td>9</td>\n",
       "      <td>11</td>\n",
       "      <td>9</td>\n",
       "      <td>45.0</td>\n",
       "      <td>59.802813</td>\n",
       "    </tr>\n",
       "    <tr>\n",
       "      <th>2</th>\n",
       "      <td>93</td>\n",
       "      <td>6</td>\n",
       "      <td>1</td>\n",
       "      <td>22</td>\n",
       "      <td>220.0</td>\n",
       "      <td>45000.00</td>\n",
       "      <td>5</td>\n",
       "      <td>1</td>\n",
       "      <td>1</td>\n",
       "      <td>2</td>\n",
       "      <td>5</td>\n",
       "      <td>14.0</td>\n",
       "      <td>44.985532</td>\n",
       "    </tr>\n",
       "    <tr>\n",
       "      <th>3</th>\n",
       "      <td>90</td>\n",
       "      <td>10</td>\n",
       "      <td>1</td>\n",
       "      <td>22</td>\n",
       "      <td>1.0</td>\n",
       "      <td>5000.00</td>\n",
       "      <td>5</td>\n",
       "      <td>0</td>\n",
       "      <td>3</td>\n",
       "      <td>4</td>\n",
       "      <td>4</td>\n",
       "      <td>49.0</td>\n",
       "      <td>29.858206</td>\n",
       "    </tr>\n",
       "    <tr>\n",
       "      <th>5</th>\n",
       "      <td>123</td>\n",
       "      <td>7</td>\n",
       "      <td>3</td>\n",
       "      <td>22</td>\n",
       "      <td>52375.0</td>\n",
       "      <td>50000.00</td>\n",
       "      <td>4</td>\n",
       "      <td>4</td>\n",
       "      <td>2</td>\n",
       "      <td>4</td>\n",
       "      <td>8</td>\n",
       "      <td>20.0</td>\n",
       "      <td>34.431632</td>\n",
       "    </tr>\n",
       "  </tbody>\n",
       "</table>\n",
       "</div>"
      ],
      "text/plain": [
       "   category  main_category  state  ...  year  name_length  campaign_length\n",
       "0       108             12      1  ...     7         31.0        58.491343\n",
       "1        93              6      1  ...     9         45.0        59.802813\n",
       "2        93              6      1  ...     5         14.0        44.985532\n",
       "3        90             10      1  ...     4         49.0        29.858206\n",
       "5       123              7      3  ...     8         20.0        34.431632\n",
       "\n",
       "[5 rows x 13 columns]"
      ]
     },
     "execution_count": 36,
     "metadata": {
      "tags": []
     },
     "output_type": "execute_result"
    }
   ],
   "source": [
    "data_categorical.head()"
   ]
  },
  {
   "cell_type": "code",
   "execution_count": 37,
   "metadata": {
    "colab": {
     "base_uri": "https://localhost:8080/",
     "height": 204
    },
    "id": "Kf02M9Y6MAHG",
    "outputId": "cf54175a-bf70-460a-d136-f3f74ea70934"
   },
   "outputs": [
    {
     "data": {
      "text/html": [
       "<div>\n",
       "<style scoped>\n",
       "    .dataframe tbody tr th:only-of-type {\n",
       "        vertical-align: middle;\n",
       "    }\n",
       "\n",
       "    .dataframe tbody tr th {\n",
       "        vertical-align: top;\n",
       "    }\n",
       "\n",
       "    .dataframe thead th {\n",
       "        text-align: right;\n",
       "    }\n",
       "</style>\n",
       "<table border=\"1\" class=\"dataframe\">\n",
       "  <thead>\n",
       "    <tr style=\"text-align: right;\">\n",
       "      <th></th>\n",
       "      <th>category</th>\n",
       "      <th>main_category</th>\n",
       "      <th>state</th>\n",
       "      <th>country</th>\n",
       "      <th>usd_pledged_real</th>\n",
       "      <th>usd_goal_real</th>\n",
       "      <th>start_day</th>\n",
       "      <th>end_day</th>\n",
       "      <th>start_month</th>\n",
       "      <th>end_month</th>\n",
       "      <th>year</th>\n",
       "      <th>name_length</th>\n",
       "      <th>campaign_length</th>\n",
       "    </tr>\n",
       "  </thead>\n",
       "  <tbody>\n",
       "    <tr>\n",
       "      <th>0</th>\n",
       "      <td>Poetry</td>\n",
       "      <td>Publishing</td>\n",
       "      <td>failed</td>\n",
       "      <td>GB</td>\n",
       "      <td>0.0</td>\n",
       "      <td>1533.95</td>\n",
       "      <td>1</td>\n",
       "      <td>4</td>\n",
       "      <td>8</td>\n",
       "      <td>10</td>\n",
       "      <td>2015</td>\n",
       "      <td>31.0</td>\n",
       "      <td>58.491343</td>\n",
       "    </tr>\n",
       "    <tr>\n",
       "      <th>1</th>\n",
       "      <td>Narrative Film</td>\n",
       "      <td>Film &amp; Video</td>\n",
       "      <td>failed</td>\n",
       "      <td>US</td>\n",
       "      <td>2421.0</td>\n",
       "      <td>30000.00</td>\n",
       "      <td>5</td>\n",
       "      <td>2</td>\n",
       "      <td>9</td>\n",
       "      <td>11</td>\n",
       "      <td>2017</td>\n",
       "      <td>45.0</td>\n",
       "      <td>59.802813</td>\n",
       "    </tr>\n",
       "    <tr>\n",
       "      <th>2</th>\n",
       "      <td>Narrative Film</td>\n",
       "      <td>Film &amp; Video</td>\n",
       "      <td>failed</td>\n",
       "      <td>US</td>\n",
       "      <td>220.0</td>\n",
       "      <td>45000.00</td>\n",
       "      <td>5</td>\n",
       "      <td>1</td>\n",
       "      <td>1</td>\n",
       "      <td>2</td>\n",
       "      <td>2013</td>\n",
       "      <td>14.0</td>\n",
       "      <td>44.985532</td>\n",
       "    </tr>\n",
       "    <tr>\n",
       "      <th>3</th>\n",
       "      <td>Music</td>\n",
       "      <td>Music</td>\n",
       "      <td>failed</td>\n",
       "      <td>US</td>\n",
       "      <td>1.0</td>\n",
       "      <td>5000.00</td>\n",
       "      <td>5</td>\n",
       "      <td>0</td>\n",
       "      <td>3</td>\n",
       "      <td>4</td>\n",
       "      <td>2012</td>\n",
       "      <td>49.0</td>\n",
       "      <td>29.858206</td>\n",
       "    </tr>\n",
       "    <tr>\n",
       "      <th>5</th>\n",
       "      <td>Restaurants</td>\n",
       "      <td>Food</td>\n",
       "      <td>successful</td>\n",
       "      <td>US</td>\n",
       "      <td>52375.0</td>\n",
       "      <td>50000.00</td>\n",
       "      <td>4</td>\n",
       "      <td>4</td>\n",
       "      <td>2</td>\n",
       "      <td>4</td>\n",
       "      <td>2016</td>\n",
       "      <td>20.0</td>\n",
       "      <td>34.431632</td>\n",
       "    </tr>\n",
       "  </tbody>\n",
       "</table>\n",
       "</div>"
      ],
      "text/plain": [
       "         category main_category       state  ...  year  name_length  campaign_length\n",
       "0          Poetry    Publishing      failed  ...  2015         31.0        58.491343\n",
       "1  Narrative Film  Film & Video      failed  ...  2017         45.0        59.802813\n",
       "2  Narrative Film  Film & Video      failed  ...  2013         14.0        44.985532\n",
       "3           Music         Music      failed  ...  2012         49.0        29.858206\n",
       "5     Restaurants          Food  successful  ...  2016         20.0        34.431632\n",
       "\n",
       "[5 rows x 13 columns]"
      ]
     },
     "execution_count": 37,
     "metadata": {
      "tags": []
     },
     "output_type": "execute_result"
    }
   ],
   "source": [
    "data_filtered.head()"
   ]
  },
  {
   "cell_type": "code",
   "execution_count": 38,
   "metadata": {
    "colab": {
     "base_uri": "https://localhost:8080/"
    },
    "id": "j_7qVCF-MHgT",
    "outputId": "01de271d-6c2c-4c7a-a414-6c7a5411652a"
   },
   "outputs": [
    {
     "name": "stdout",
     "output_type": "stream",
     "text": [
      "(331675, 13)\n",
      "(331675, 13)\n"
     ]
    }
   ],
   "source": [
    "print(data_categorical.shape)\n",
    "print(data_filtered.shape)"
   ]
  },
  {
   "cell_type": "code",
   "execution_count": 39,
   "metadata": {
    "id": "xfEz2XEcPK8t"
   },
   "outputs": [],
   "source": [
    "data_trans = data_filtered.copy()"
   ]
  },
  {
   "cell_type": "code",
   "execution_count": 40,
   "metadata": {
    "id": "OLVyLIuvVAkG"
   },
   "outputs": [],
   "source": [
    "data_trans['usd_goal_real'] = np.log(data_trans['usd_goal_real']+(1-data_trans['usd_goal_real'].min()))\n",
    "#data_trans['usd_goal_real'] = np.power(data_trans['usd_goal_real'],1/4)\n",
    "data_trans['usd_pledged_real'] = np.log(data_trans['usd_pledged_real']+(1-data_trans['usd_pledged_real'].min()))\n",
    "#data_trans['campaign_length'] = np.log(data_trans['campaign_length'] +(1-data_trans['campaign_length'].min()))\n",
    "#data_trans['campaign_length'] = (data_trans['campaign_length'] - data_trans['campaign_length'].mean())/data_trans['campaign_length'].std()\n",
    "data_trans['campaign_length'] = np.power(data_trans['campaign_length'],1/2)\n",
    "#data_trans['campaign_length'] = (data_trans['campaign_length'] - data_trans['campaign_length'].min())/(data_trans['campaign_length'].max() - data_trans['campaign_length'].min())\n",
    "#data_trans['country'] = np.power((data_trans['country'].max()+5)-data_trans['campaign_length'],1/2)\n",
    "# data_trans['country'] = np.log(data_trans['country'])\n"
   ]
  },
  {
   "cell_type": "code",
   "execution_count": 41,
   "metadata": {
    "id": "QzybbpdeNOtN"
   },
   "outputs": [],
   "source": [
    "data_categorical['usd_goal_real'] = np.log(data_categorical['usd_goal_real']+(1-data_categorical['usd_goal_real'].min()))\n",
    "data_categorical['usd_pledged_real'] = np.log(data_categorical['usd_pledged_real']+(1-data_categorical['usd_pledged_real'].min()))\n",
    "data_categorical['campaign_length'] = np.power(data_categorical['campaign_length'],1/2)"
   ]
  },
  {
   "cell_type": "code",
   "execution_count": 42,
   "metadata": {
    "colab": {
     "base_uri": "https://localhost:8080/",
     "height": 204
    },
    "id": "tHPwtaa9Nl1V",
    "outputId": "f84e757f-af4f-4921-c738-6cf59dbe4331"
   },
   "outputs": [
    {
     "data": {
      "text/html": [
       "<div>\n",
       "<style scoped>\n",
       "    .dataframe tbody tr th:only-of-type {\n",
       "        vertical-align: middle;\n",
       "    }\n",
       "\n",
       "    .dataframe tbody tr th {\n",
       "        vertical-align: top;\n",
       "    }\n",
       "\n",
       "    .dataframe thead th {\n",
       "        text-align: right;\n",
       "    }\n",
       "</style>\n",
       "<table border=\"1\" class=\"dataframe\">\n",
       "  <thead>\n",
       "    <tr style=\"text-align: right;\">\n",
       "      <th></th>\n",
       "      <th>category</th>\n",
       "      <th>main_category</th>\n",
       "      <th>state</th>\n",
       "      <th>country</th>\n",
       "      <th>usd_pledged_real</th>\n",
       "      <th>usd_goal_real</th>\n",
       "      <th>start_day</th>\n",
       "      <th>end_day</th>\n",
       "      <th>start_month</th>\n",
       "      <th>end_month</th>\n",
       "      <th>year</th>\n",
       "      <th>name_length</th>\n",
       "      <th>campaign_length</th>\n",
       "    </tr>\n",
       "  </thead>\n",
       "  <tbody>\n",
       "    <tr>\n",
       "      <th>0</th>\n",
       "      <td>108</td>\n",
       "      <td>12</td>\n",
       "      <td>1</td>\n",
       "      <td>9</td>\n",
       "      <td>0.000000</td>\n",
       "      <td>7.336247</td>\n",
       "      <td>1</td>\n",
       "      <td>4</td>\n",
       "      <td>8</td>\n",
       "      <td>10</td>\n",
       "      <td>7</td>\n",
       "      <td>31.0</td>\n",
       "      <td>7.647963</td>\n",
       "    </tr>\n",
       "    <tr>\n",
       "      <th>1</th>\n",
       "      <td>93</td>\n",
       "      <td>6</td>\n",
       "      <td>1</td>\n",
       "      <td>22</td>\n",
       "      <td>7.792349</td>\n",
       "      <td>10.308986</td>\n",
       "      <td>5</td>\n",
       "      <td>2</td>\n",
       "      <td>9</td>\n",
       "      <td>11</td>\n",
       "      <td>9</td>\n",
       "      <td>45.0</td>\n",
       "      <td>7.733228</td>\n",
       "    </tr>\n",
       "    <tr>\n",
       "      <th>2</th>\n",
       "      <td>93</td>\n",
       "      <td>6</td>\n",
       "      <td>1</td>\n",
       "      <td>22</td>\n",
       "      <td>5.398163</td>\n",
       "      <td>10.714440</td>\n",
       "      <td>5</td>\n",
       "      <td>1</td>\n",
       "      <td>1</td>\n",
       "      <td>2</td>\n",
       "      <td>5</td>\n",
       "      <td>14.0</td>\n",
       "      <td>6.707125</td>\n",
       "    </tr>\n",
       "    <tr>\n",
       "      <th>3</th>\n",
       "      <td>90</td>\n",
       "      <td>10</td>\n",
       "      <td>1</td>\n",
       "      <td>22</td>\n",
       "      <td>0.693147</td>\n",
       "      <td>8.517391</td>\n",
       "      <td>5</td>\n",
       "      <td>0</td>\n",
       "      <td>3</td>\n",
       "      <td>4</td>\n",
       "      <td>4</td>\n",
       "      <td>49.0</td>\n",
       "      <td>5.464266</td>\n",
       "    </tr>\n",
       "    <tr>\n",
       "      <th>5</th>\n",
       "      <td>123</td>\n",
       "      <td>7</td>\n",
       "      <td>3</td>\n",
       "      <td>22</td>\n",
       "      <td>10.866204</td>\n",
       "      <td>10.819798</td>\n",
       "      <td>4</td>\n",
       "      <td>4</td>\n",
       "      <td>2</td>\n",
       "      <td>4</td>\n",
       "      <td>8</td>\n",
       "      <td>20.0</td>\n",
       "      <td>5.867847</td>\n",
       "    </tr>\n",
       "  </tbody>\n",
       "</table>\n",
       "</div>"
      ],
      "text/plain": [
       "   category  main_category  state  ...  year  name_length  campaign_length\n",
       "0       108             12      1  ...     7         31.0         7.647963\n",
       "1        93              6      1  ...     9         45.0         7.733228\n",
       "2        93              6      1  ...     5         14.0         6.707125\n",
       "3        90             10      1  ...     4         49.0         5.464266\n",
       "5       123              7      3  ...     8         20.0         5.867847\n",
       "\n",
       "[5 rows x 13 columns]"
      ]
     },
     "execution_count": 42,
     "metadata": {
      "tags": []
     },
     "output_type": "execute_result"
    }
   ],
   "source": [
    "data_categorical.head()"
   ]
  },
  {
   "cell_type": "code",
   "execution_count": 43,
   "metadata": {
    "colab": {
     "base_uri": "https://localhost:8080/",
     "height": 204
    },
    "id": "gZG6xYrkMgC4",
    "outputId": "7b07aaa6-256d-4394-ed22-5641d12e1cb9"
   },
   "outputs": [
    {
     "data": {
      "text/html": [
       "<div>\n",
       "<style scoped>\n",
       "    .dataframe tbody tr th:only-of-type {\n",
       "        vertical-align: middle;\n",
       "    }\n",
       "\n",
       "    .dataframe tbody tr th {\n",
       "        vertical-align: top;\n",
       "    }\n",
       "\n",
       "    .dataframe thead th {\n",
       "        text-align: right;\n",
       "    }\n",
       "</style>\n",
       "<table border=\"1\" class=\"dataframe\">\n",
       "  <thead>\n",
       "    <tr style=\"text-align: right;\">\n",
       "      <th></th>\n",
       "      <th>category</th>\n",
       "      <th>main_category</th>\n",
       "      <th>state</th>\n",
       "      <th>country</th>\n",
       "      <th>usd_pledged_real</th>\n",
       "      <th>usd_goal_real</th>\n",
       "      <th>start_day</th>\n",
       "      <th>end_day</th>\n",
       "      <th>start_month</th>\n",
       "      <th>end_month</th>\n",
       "      <th>year</th>\n",
       "      <th>name_length</th>\n",
       "      <th>campaign_length</th>\n",
       "    </tr>\n",
       "  </thead>\n",
       "  <tbody>\n",
       "    <tr>\n",
       "      <th>0</th>\n",
       "      <td>Poetry</td>\n",
       "      <td>Publishing</td>\n",
       "      <td>failed</td>\n",
       "      <td>GB</td>\n",
       "      <td>0.000000</td>\n",
       "      <td>7.336247</td>\n",
       "      <td>1</td>\n",
       "      <td>4</td>\n",
       "      <td>8</td>\n",
       "      <td>10</td>\n",
       "      <td>2015</td>\n",
       "      <td>31.0</td>\n",
       "      <td>7.647963</td>\n",
       "    </tr>\n",
       "    <tr>\n",
       "      <th>1</th>\n",
       "      <td>Narrative Film</td>\n",
       "      <td>Film &amp; Video</td>\n",
       "      <td>failed</td>\n",
       "      <td>US</td>\n",
       "      <td>7.792349</td>\n",
       "      <td>10.308986</td>\n",
       "      <td>5</td>\n",
       "      <td>2</td>\n",
       "      <td>9</td>\n",
       "      <td>11</td>\n",
       "      <td>2017</td>\n",
       "      <td>45.0</td>\n",
       "      <td>7.733228</td>\n",
       "    </tr>\n",
       "    <tr>\n",
       "      <th>2</th>\n",
       "      <td>Narrative Film</td>\n",
       "      <td>Film &amp; Video</td>\n",
       "      <td>failed</td>\n",
       "      <td>US</td>\n",
       "      <td>5.398163</td>\n",
       "      <td>10.714440</td>\n",
       "      <td>5</td>\n",
       "      <td>1</td>\n",
       "      <td>1</td>\n",
       "      <td>2</td>\n",
       "      <td>2013</td>\n",
       "      <td>14.0</td>\n",
       "      <td>6.707125</td>\n",
       "    </tr>\n",
       "    <tr>\n",
       "      <th>3</th>\n",
       "      <td>Music</td>\n",
       "      <td>Music</td>\n",
       "      <td>failed</td>\n",
       "      <td>US</td>\n",
       "      <td>0.693147</td>\n",
       "      <td>8.517391</td>\n",
       "      <td>5</td>\n",
       "      <td>0</td>\n",
       "      <td>3</td>\n",
       "      <td>4</td>\n",
       "      <td>2012</td>\n",
       "      <td>49.0</td>\n",
       "      <td>5.464266</td>\n",
       "    </tr>\n",
       "    <tr>\n",
       "      <th>5</th>\n",
       "      <td>Restaurants</td>\n",
       "      <td>Food</td>\n",
       "      <td>successful</td>\n",
       "      <td>US</td>\n",
       "      <td>10.866204</td>\n",
       "      <td>10.819798</td>\n",
       "      <td>4</td>\n",
       "      <td>4</td>\n",
       "      <td>2</td>\n",
       "      <td>4</td>\n",
       "      <td>2016</td>\n",
       "      <td>20.0</td>\n",
       "      <td>5.867847</td>\n",
       "    </tr>\n",
       "  </tbody>\n",
       "</table>\n",
       "</div>"
      ],
      "text/plain": [
       "         category main_category       state  ...  year  name_length  campaign_length\n",
       "0          Poetry    Publishing      failed  ...  2015         31.0         7.647963\n",
       "1  Narrative Film  Film & Video      failed  ...  2017         45.0         7.733228\n",
       "2  Narrative Film  Film & Video      failed  ...  2013         14.0         6.707125\n",
       "3           Music         Music      failed  ...  2012         49.0         5.464266\n",
       "5     Restaurants          Food  successful  ...  2016         20.0         5.867847\n",
       "\n",
       "[5 rows x 13 columns]"
      ]
     },
     "execution_count": 43,
     "metadata": {
      "tags": []
     },
     "output_type": "execute_result"
    }
   ],
   "source": [
    "data_trans.head()"
   ]
  },
  {
   "cell_type": "code",
   "execution_count": 44,
   "metadata": {
    "colab": {
     "base_uri": "https://localhost:8080/",
     "height": 297
    },
    "id": "M9w8CyzKuHRW",
    "outputId": "4fc43295-eabb-4c62-d267-9a80cc23886f"
   },
   "outputs": [
    {
     "data": {
      "text/html": [
       "<div>\n",
       "<style scoped>\n",
       "    .dataframe tbody tr th:only-of-type {\n",
       "        vertical-align: middle;\n",
       "    }\n",
       "\n",
       "    .dataframe tbody tr th {\n",
       "        vertical-align: top;\n",
       "    }\n",
       "\n",
       "    .dataframe thead th {\n",
       "        text-align: right;\n",
       "    }\n",
       "</style>\n",
       "<table border=\"1\" class=\"dataframe\">\n",
       "  <thead>\n",
       "    <tr style=\"text-align: right;\">\n",
       "      <th></th>\n",
       "      <th>usd_pledged_real</th>\n",
       "      <th>usd_goal_real</th>\n",
       "      <th>start_day</th>\n",
       "      <th>end_day</th>\n",
       "      <th>start_month</th>\n",
       "      <th>end_month</th>\n",
       "      <th>year</th>\n",
       "      <th>name_length</th>\n",
       "      <th>campaign_length</th>\n",
       "    </tr>\n",
       "  </thead>\n",
       "  <tbody>\n",
       "    <tr>\n",
       "      <th>count</th>\n",
       "      <td>331675.000000</td>\n",
       "      <td>331675.000000</td>\n",
       "      <td>331675.000000</td>\n",
       "      <td>331675.000000</td>\n",
       "      <td>331675.000000</td>\n",
       "      <td>331675.000000</td>\n",
       "      <td>331675.000000</td>\n",
       "      <td>331675.000000</td>\n",
       "      <td>331675.000000</td>\n",
       "    </tr>\n",
       "    <tr>\n",
       "      <th>mean</th>\n",
       "      <td>5.970645</td>\n",
       "      <td>8.582612</td>\n",
       "      <td>2.421826</td>\n",
       "      <td>3.183773</td>\n",
       "      <td>6.416163</td>\n",
       "      <td>6.758483</td>\n",
       "      <td>2014.180002</td>\n",
       "      <td>34.220341</td>\n",
       "      <td>5.678290</td>\n",
       "    </tr>\n",
       "    <tr>\n",
       "      <th>std</th>\n",
       "      <td>3.252303</td>\n",
       "      <td>1.667154</td>\n",
       "      <td>1.762946</td>\n",
       "      <td>1.951072</td>\n",
       "      <td>3.306989</td>\n",
       "      <td>3.315202</td>\n",
       "      <td>1.930922</td>\n",
       "      <td>15.961430</td>\n",
       "      <td>1.070703</td>\n",
       "    </tr>\n",
       "    <tr>\n",
       "      <th>min</th>\n",
       "      <td>0.000000</td>\n",
       "      <td>0.000000</td>\n",
       "      <td>0.000000</td>\n",
       "      <td>0.000000</td>\n",
       "      <td>1.000000</td>\n",
       "      <td>1.000000</td>\n",
       "      <td>2009.000000</td>\n",
       "      <td>1.000000</td>\n",
       "      <td>0.071119</td>\n",
       "    </tr>\n",
       "    <tr>\n",
       "      <th>25%</th>\n",
       "      <td>3.931826</td>\n",
       "      <td>7.601397</td>\n",
       "      <td>1.000000</td>\n",
       "      <td>2.000000</td>\n",
       "      <td>4.000000</td>\n",
       "      <td>4.000000</td>\n",
       "      <td>2013.000000</td>\n",
       "      <td>21.000000</td>\n",
       "      <td>5.393415</td>\n",
       "    </tr>\n",
       "    <tr>\n",
       "      <th>50%</th>\n",
       "      <td>6.670766</td>\n",
       "      <td>8.517391</td>\n",
       "      <td>2.000000</td>\n",
       "      <td>3.000000</td>\n",
       "      <td>6.000000</td>\n",
       "      <td>7.000000</td>\n",
       "      <td>2014.000000</td>\n",
       "      <td>33.000000</td>\n",
       "      <td>5.445802</td>\n",
       "    </tr>\n",
       "    <tr>\n",
       "      <th>75%</th>\n",
       "      <td>8.435766</td>\n",
       "      <td>9.615871</td>\n",
       "      <td>4.000000</td>\n",
       "      <td>5.000000</td>\n",
       "      <td>9.000000</td>\n",
       "      <td>10.000000</td>\n",
       "      <td>2016.000000</td>\n",
       "      <td>48.000000</td>\n",
       "      <td>5.975447</td>\n",
       "    </tr>\n",
       "    <tr>\n",
       "      <th>max</th>\n",
       "      <td>16.828050</td>\n",
       "      <td>18.929673</td>\n",
       "      <td>6.000000</td>\n",
       "      <td>6.000000</td>\n",
       "      <td>12.000000</td>\n",
       "      <td>12.000000</td>\n",
       "      <td>2017.000000</td>\n",
       "      <td>85.000000</td>\n",
       "      <td>9.589716</td>\n",
       "    </tr>\n",
       "  </tbody>\n",
       "</table>\n",
       "</div>"
      ],
      "text/plain": [
       "       usd_pledged_real  usd_goal_real  ...    name_length  campaign_length\n",
       "count     331675.000000  331675.000000  ...  331675.000000    331675.000000\n",
       "mean           5.970645       8.582612  ...      34.220341         5.678290\n",
       "std            3.252303       1.667154  ...      15.961430         1.070703\n",
       "min            0.000000       0.000000  ...       1.000000         0.071119\n",
       "25%            3.931826       7.601397  ...      21.000000         5.393415\n",
       "50%            6.670766       8.517391  ...      33.000000         5.445802\n",
       "75%            8.435766       9.615871  ...      48.000000         5.975447\n",
       "max           16.828050      18.929673  ...      85.000000         9.589716\n",
       "\n",
       "[8 rows x 9 columns]"
      ]
     },
     "execution_count": 44,
     "metadata": {
      "tags": []
     },
     "output_type": "execute_result"
    }
   ],
   "source": [
    "data_trans.describe()"
   ]
  },
  {
   "cell_type": "code",
   "execution_count": 45,
   "metadata": {
    "colab": {
     "base_uri": "https://localhost:8080/",
     "height": 824
    },
    "id": "IQ-Mef0va0H-",
    "outputId": "c27cf640-7e3b-4ac4-e116-c4628eb101b9"
   },
   "outputs": [
    {
     "data": {
      "text/plain": [
       "usd_pledged_real        AxesSubplot(0.125,0.71587;0.168478x0.16413)\n",
       "usd_goal_real        AxesSubplot(0.327174,0.71587;0.168478x0.16413)\n",
       "start_day            AxesSubplot(0.529348,0.71587;0.168478x0.16413)\n",
       "end_day              AxesSubplot(0.731522,0.71587;0.168478x0.16413)\n",
       "start_month            AxesSubplot(0.125,0.518913;0.168478x0.16413)\n",
       "end_month           AxesSubplot(0.327174,0.518913;0.168478x0.16413)\n",
       "year                AxesSubplot(0.529348,0.518913;0.168478x0.16413)\n",
       "name_length         AxesSubplot(0.731522,0.518913;0.168478x0.16413)\n",
       "campaign_length        AxesSubplot(0.125,0.321957;0.168478x0.16413)\n",
       "dtype: object"
      ]
     },
     "execution_count": 45,
     "metadata": {
      "tags": []
     },
     "output_type": "execute_result"
    },
    {
     "data": {
      "image/png": "[encoded data removed]",
      "text/plain": [
       "<Figure size 1080x1080 with 16 Axes>"
      ]
     },
     "metadata": {
      "needs_background": "light",
      "tags": []
     },
     "output_type": "display_data"
    }
   ],
   "source": [
    "data_trans.plot(kind='box',subplots=True, figsize=(15,15),layout=(4,4))"
   ]
  },
  {
   "cell_type": "markdown",
   "metadata": {
    "id": "mm87Y1i4lRPc"
   },
   "source": [
    "https://machinelearningmastery.com/robust-scaler-transforms-for-machine-learning/\n",
    "https://heartbeat.fritz.ai/how-to-make-your-machine-learning-models-robust-to-outliers-44d404067d07\n"
   ]
  },
  {
   "cell_type": "code",
   "execution_count": 46,
   "metadata": {
    "colab": {
     "base_uri": "https://localhost:8080/",
     "height": 1000
    },
    "id": "lfWl2BExbsvP",
    "outputId": "9cb46bc2-e663-45de-89c3-46b52a13b583"
   },
   "outputs": [
    {
     "data": {
      "text/plain": [
       "array([[<matplotlib.axes._subplots.AxesSubplot object at 0x7fcab2f515f8>,\n",
       "        <matplotlib.axes._subplots.AxesSubplot object at 0x7fcab2ec9550>,\n",
       "        <matplotlib.axes._subplots.AxesSubplot object at 0x7fcab2eac3c8>],\n",
       "       [<matplotlib.axes._subplots.AxesSubplot object at 0x7fcab2e5e748>,\n",
       "        <matplotlib.axes._subplots.AxesSubplot object at 0x7fcab2e0fac8>,\n",
       "        <matplotlib.axes._subplots.AxesSubplot object at 0x7fcab2dc0e48>],\n",
       "       [<matplotlib.axes._subplots.AxesSubplot object at 0x7fcab2d7f208>,\n",
       "        <matplotlib.axes._subplots.AxesSubplot object at 0x7fcab2db1550>,\n",
       "        <matplotlib.axes._subplots.AxesSubplot object at 0x7fcab2db15c0>]],\n",
       "      dtype=object)"
      ]
     },
     "execution_count": 46,
     "metadata": {
      "tags": []
     },
     "output_type": "execute_result"
    },
    {
     "data": {
      "image/png": "[encoded data removed]",
      "text/plain": [
       "<Figure size 1080x1080 with 9 Axes>"
      ]
     },
     "metadata": {
      "needs_background": "light",
      "tags": []
     },
     "output_type": "display_data"
    }
   ],
   "source": [
    "data_trans.hist(figsize=(15,15))"
   ]
  },
  {
   "cell_type": "markdown",
   "metadata": {
    "id": "sPahlZvLsTnw"
   },
   "source": [
    "### Transformacion de los datos"
   ]
  },
  {
   "cell_type": "markdown",
   "metadata": {
    "id": "TBnYHeYduJe_"
   },
   "source": [
    "**e. Realiza un análisis para identificación de valores extremos (outliers). Indicar la cantidad de\n",
    "ellos en cada variable y la decisión que tomaras al respecto para su tratamiento en la\n",
    "solución del problema.**"
   ]
  },
  {
   "cell_type": "code",
   "execution_count": 47,
   "metadata": {
    "colab": {
     "base_uri": "https://localhost:8080/"
    },
    "id": "QrjDCW-ZM966",
    "outputId": "b7635318-5e4e-4f90-af84-c8f66073abc7"
   },
   "outputs": [
    {
     "data": {
      "text/plain": [
       "category            0.000000\n",
       "main_category       0.000000\n",
       "state               0.000000\n",
       "country             0.212000\n",
       "usd_pledged_real    0.000090\n",
       "usd_goal_real       0.019998\n",
       "start_day           0.000000\n",
       "end_day             0.000000\n",
       "start_month         0.000000\n",
       "end_month           0.000000\n",
       "year                0.000000\n",
       "name_length         0.000000\n",
       "campaign_length     0.230479\n",
       "dtype: float64"
      ]
     },
     "execution_count": 47,
     "metadata": {
      "tags": []
     },
     "output_type": "execute_result"
    }
   ],
   "source": [
    "q1 = data_categorical.quantile(0.25)\n",
    "q3 = data_categorical.quantile(0.75)\n",
    "iqr = q3 - q1\n",
    "\n",
    "\n",
    "#((data_trans < (q1 - iqr)) | (data_trans > (q3 + iqr))).sum()\n",
    "(((data_categorical < q1 -1.5 * iqr) | (data_categorical > q3 + 1.5 * iqr)).sum())/len(data_categorical)"
   ]
  },
  {
   "cell_type": "markdown",
   "metadata": {
    "id": "FzwKBd8g1GqX"
   },
   "source": [
    "**f. Determina si existe algún tipo de correlación entre algunos factores que consideres pueda\n",
    "darte información relevante para el diseño posterior del modelo a buscar.**"
   ]
  },
  {
   "cell_type": "code",
   "execution_count": 48,
   "metadata": {
    "colab": {
     "base_uri": "https://localhost:8080/",
     "height": 452
    },
    "id": "vTic3JYSxB1n",
    "outputId": "b7c5a687-9b9f-4f99-d3be-1552d5b372cb"
   },
   "outputs": [
    {
     "data": {
      "text/html": [
       "<div>\n",
       "<style scoped>\n",
       "    .dataframe tbody tr th:only-of-type {\n",
       "        vertical-align: middle;\n",
       "    }\n",
       "\n",
       "    .dataframe tbody tr th {\n",
       "        vertical-align: top;\n",
       "    }\n",
       "\n",
       "    .dataframe thead th {\n",
       "        text-align: right;\n",
       "    }\n",
       "</style>\n",
       "<table border=\"1\" class=\"dataframe\">\n",
       "  <thead>\n",
       "    <tr style=\"text-align: right;\">\n",
       "      <th></th>\n",
       "      <th>category</th>\n",
       "      <th>main_category</th>\n",
       "      <th>state</th>\n",
       "      <th>country</th>\n",
       "      <th>usd_pledged_real</th>\n",
       "      <th>usd_goal_real</th>\n",
       "      <th>start_day</th>\n",
       "      <th>end_day</th>\n",
       "      <th>start_month</th>\n",
       "      <th>end_month</th>\n",
       "      <th>year</th>\n",
       "      <th>name_length</th>\n",
       "      <th>campaign_length</th>\n",
       "    </tr>\n",
       "  </thead>\n",
       "  <tbody>\n",
       "    <tr>\n",
       "      <th>category</th>\n",
       "      <td>1.000000</td>\n",
       "      <td>0.199748</td>\n",
       "      <td>0.033861</td>\n",
       "      <td>-0.009640</td>\n",
       "      <td>0.067037</td>\n",
       "      <td>0.039007</td>\n",
       "      <td>-0.003825</td>\n",
       "      <td>-0.000098</td>\n",
       "      <td>-0.003025</td>\n",
       "      <td>-0.007431</td>\n",
       "      <td>-0.045255</td>\n",
       "      <td>-0.009044</td>\n",
       "      <td>-0.003879</td>\n",
       "    </tr>\n",
       "    <tr>\n",
       "      <th>main_category</th>\n",
       "      <td>0.199748</td>\n",
       "      <td>1.000000</td>\n",
       "      <td>-0.032147</td>\n",
       "      <td>-0.010828</td>\n",
       "      <td>-0.030455</td>\n",
       "      <td>0.087050</td>\n",
       "      <td>0.003887</td>\n",
       "      <td>0.007080</td>\n",
       "      <td>0.000148</td>\n",
       "      <td>-0.005072</td>\n",
       "      <td>-0.018734</td>\n",
       "      <td>0.054670</td>\n",
       "      <td>0.041085</td>\n",
       "    </tr>\n",
       "    <tr>\n",
       "      <th>state</th>\n",
       "      <td>0.033861</td>\n",
       "      <td>-0.032147</td>\n",
       "      <td>1.000000</td>\n",
       "      <td>0.054805</td>\n",
       "      <td>0.654261</td>\n",
       "      <td>-0.224577</td>\n",
       "      <td>-0.020739</td>\n",
       "      <td>-0.022397</td>\n",
       "      <td>-0.010488</td>\n",
       "      <td>-0.001867</td>\n",
       "      <td>-0.073835</td>\n",
       "      <td>0.104365</td>\n",
       "      <td>-0.117321</td>\n",
       "    </tr>\n",
       "    <tr>\n",
       "      <th>country</th>\n",
       "      <td>-0.009640</td>\n",
       "      <td>-0.010828</td>\n",
       "      <td>0.054805</td>\n",
       "      <td>1.000000</td>\n",
       "      <td>0.066886</td>\n",
       "      <td>0.006781</td>\n",
       "      <td>0.003137</td>\n",
       "      <td>-0.002808</td>\n",
       "      <td>-0.024338</td>\n",
       "      <td>-0.019959</td>\n",
       "      <td>-0.274303</td>\n",
       "      <td>0.021020</td>\n",
       "      <td>0.027274</td>\n",
       "    </tr>\n",
       "    <tr>\n",
       "      <th>usd_pledged_real</th>\n",
       "      <td>0.067037</td>\n",
       "      <td>-0.030455</td>\n",
       "      <td>0.654261</td>\n",
       "      <td>0.066886</td>\n",
       "      <td>1.000000</td>\n",
       "      <td>0.139583</td>\n",
       "      <td>-0.033681</td>\n",
       "      <td>-0.023280</td>\n",
       "      <td>0.009721</td>\n",
       "      <td>0.019245</td>\n",
       "      <td>-0.073109</td>\n",
       "      <td>0.181329</td>\n",
       "      <td>-0.015612</td>\n",
       "    </tr>\n",
       "    <tr>\n",
       "      <th>usd_goal_real</th>\n",
       "      <td>0.039007</td>\n",
       "      <td>0.087050</td>\n",
       "      <td>-0.224577</td>\n",
       "      <td>0.006781</td>\n",
       "      <td>0.139583</td>\n",
       "      <td>1.000000</td>\n",
       "      <td>-0.029878</td>\n",
       "      <td>0.012179</td>\n",
       "      <td>0.015163</td>\n",
       "      <td>0.017244</td>\n",
       "      <td>0.056422</td>\n",
       "      <td>0.042964</td>\n",
       "      <td>0.211300</td>\n",
       "    </tr>\n",
       "    <tr>\n",
       "      <th>start_day</th>\n",
       "      <td>-0.003825</td>\n",
       "      <td>0.003887</td>\n",
       "      <td>-0.020739</td>\n",
       "      <td>0.003137</td>\n",
       "      <td>-0.033681</td>\n",
       "      <td>-0.029878</td>\n",
       "      <td>1.000000</td>\n",
       "      <td>-0.028488</td>\n",
       "      <td>-0.017933</td>\n",
       "      <td>-0.019954</td>\n",
       "      <td>-0.033490</td>\n",
       "      <td>-0.007881</td>\n",
       "      <td>0.020077</td>\n",
       "    </tr>\n",
       "    <tr>\n",
       "      <th>end_day</th>\n",
       "      <td>-0.000098</td>\n",
       "      <td>0.007080</td>\n",
       "      <td>-0.022397</td>\n",
       "      <td>-0.002808</td>\n",
       "      <td>-0.023280</td>\n",
       "      <td>0.012179</td>\n",
       "      <td>-0.028488</td>\n",
       "      <td>1.000000</td>\n",
       "      <td>-0.000149</td>\n",
       "      <td>-0.001993</td>\n",
       "      <td>0.001237</td>\n",
       "      <td>-0.013638</td>\n",
       "      <td>0.010381</td>\n",
       "    </tr>\n",
       "    <tr>\n",
       "      <th>start_month</th>\n",
       "      <td>-0.003025</td>\n",
       "      <td>0.000148</td>\n",
       "      <td>-0.010488</td>\n",
       "      <td>-0.024338</td>\n",
       "      <td>0.009721</td>\n",
       "      <td>0.015163</td>\n",
       "      <td>-0.017933</td>\n",
       "      <td>-0.000149</td>\n",
       "      <td>1.000000</td>\n",
       "      <td>0.612907</td>\n",
       "      <td>-0.091069</td>\n",
       "      <td>0.015149</td>\n",
       "      <td>-0.015355</td>\n",
       "    </tr>\n",
       "    <tr>\n",
       "      <th>end_month</th>\n",
       "      <td>-0.007431</td>\n",
       "      <td>-0.005072</td>\n",
       "      <td>-0.001867</td>\n",
       "      <td>-0.019959</td>\n",
       "      <td>0.019245</td>\n",
       "      <td>0.017244</td>\n",
       "      <td>-0.019954</td>\n",
       "      <td>-0.001993</td>\n",
       "      <td>0.612907</td>\n",
       "      <td>1.000000</td>\n",
       "      <td>-0.015546</td>\n",
       "      <td>0.019106</td>\n",
       "      <td>-0.022633</td>\n",
       "    </tr>\n",
       "    <tr>\n",
       "      <th>year</th>\n",
       "      <td>-0.045255</td>\n",
       "      <td>-0.018734</td>\n",
       "      <td>-0.073835</td>\n",
       "      <td>-0.274303</td>\n",
       "      <td>-0.073109</td>\n",
       "      <td>0.056422</td>\n",
       "      <td>-0.033490</td>\n",
       "      <td>0.001237</td>\n",
       "      <td>-0.091069</td>\n",
       "      <td>-0.015546</td>\n",
       "      <td>1.000000</td>\n",
       "      <td>-0.048426</td>\n",
       "      <td>-0.156563</td>\n",
       "    </tr>\n",
       "    <tr>\n",
       "      <th>name_length</th>\n",
       "      <td>-0.009044</td>\n",
       "      <td>0.054670</td>\n",
       "      <td>0.104365</td>\n",
       "      <td>0.021020</td>\n",
       "      <td>0.181329</td>\n",
       "      <td>0.042964</td>\n",
       "      <td>-0.007881</td>\n",
       "      <td>-0.013638</td>\n",
       "      <td>0.015149</td>\n",
       "      <td>0.019106</td>\n",
       "      <td>-0.048426</td>\n",
       "      <td>1.000000</td>\n",
       "      <td>0.014989</td>\n",
       "    </tr>\n",
       "    <tr>\n",
       "      <th>campaign_length</th>\n",
       "      <td>-0.003879</td>\n",
       "      <td>0.041085</td>\n",
       "      <td>-0.117321</td>\n",
       "      <td>0.027274</td>\n",
       "      <td>-0.015612</td>\n",
       "      <td>0.211300</td>\n",
       "      <td>0.020077</td>\n",
       "      <td>0.010381</td>\n",
       "      <td>-0.015355</td>\n",
       "      <td>-0.022633</td>\n",
       "      <td>-0.156563</td>\n",
       "      <td>0.014989</td>\n",
       "      <td>1.000000</td>\n",
       "    </tr>\n",
       "  </tbody>\n",
       "</table>\n",
       "</div>"
      ],
      "text/plain": [
       "                  category  main_category  ...  name_length  campaign_length\n",
       "category          1.000000       0.199748  ...    -0.009044        -0.003879\n",
       "main_category     0.199748       1.000000  ...     0.054670         0.041085\n",
       "state             0.033861      -0.032147  ...     0.104365        -0.117321\n",
       "country          -0.009640      -0.010828  ...     0.021020         0.027274\n",
       "usd_pledged_real  0.067037      -0.030455  ...     0.181329        -0.015612\n",
       "usd_goal_real     0.039007       0.087050  ...     0.042964         0.211300\n",
       "start_day        -0.003825       0.003887  ...    -0.007881         0.020077\n",
       "end_day          -0.000098       0.007080  ...    -0.013638         0.010381\n",
       "start_month      -0.003025       0.000148  ...     0.015149        -0.015355\n",
       "end_month        -0.007431      -0.005072  ...     0.019106        -0.022633\n",
       "year             -0.045255      -0.018734  ...    -0.048426        -0.156563\n",
       "name_length      -0.009044       0.054670  ...     1.000000         0.014989\n",
       "campaign_length  -0.003879       0.041085  ...     0.014989         1.000000\n",
       "\n",
       "[13 rows x 13 columns]"
      ]
     },
     "execution_count": 48,
     "metadata": {
      "tags": []
     },
     "output_type": "execute_result"
    }
   ],
   "source": [
    "data_categorical.corr()"
   ]
  },
  {
   "cell_type": "code",
   "execution_count": 49,
   "metadata": {
    "colab": {
     "base_uri": "https://localhost:8080/",
     "height": 628
    },
    "id": "ij_PqHL54TFt",
    "outputId": "c965e4c5-9a77-4148-9cf3-6393ea8bb4e2"
   },
   "outputs": [
    {
     "data": {
      "image/png": "[encoded data removed]",
      "text/plain": [
       "<Figure size 720x720 with 2 Axes>"
      ]
     },
     "metadata": {
      "needs_background": "light",
      "tags": []
     },
     "output_type": "display_data"
    }
   ],
   "source": [
    "f = plt.figure(figsize=(10,10))\n",
    "plt.matshow(data_categorical.corr(), fignum=f.number)\n",
    "plt.xticks(range(data_categorical.shape[1]),data_categorical.columns, rotation=90)\n",
    "plt.yticks(range(data_categorical.shape[1]),data_categorical.columns)\n",
    "cb = plt.colorbar()\n",
    "plt.show()"
   ]
  },
  {
   "cell_type": "markdown",
   "metadata": {
    "id": "J1Q1sDnJKWtB"
   },
   "source": [
    "**Deberás utilizar 5 algoritmos diferentes de aprendizaje automático. Tres de ellos deberán ser Red Neuronal Multicapa (MLP), Máquina de Vectores de Soporte (SVM) y Random Forest\n",
    "(RF). Los otros dos pueden ser algunos de los siguientes:\n",
    "i. Regresión Logística / Lineal / Polinomial.\n",
    "ii. k-Vecinos Más Cercanos (kNN).\n",
    "iii. Máquinas de Vectores de Soporte de Base Radial (SVM-RBF).\n",
    "iv. Bayes Ingenuo / Bayes Ingenuo Gaussiano.\n",
    "v. Árbol de Decisiones.\n",
    "vi. Si lo consideras adecuado puedes proponer alguna variante de los modelos\n",
    "anteriores o inclusive algún otro no incluido. Igualmente puedes usar alguno de los modelos conjuntos (ensemble learning) aplicado a algunos de ellos.**"
   ]
  },
  {
   "cell_type": "markdown",
   "metadata": {
    "id": "bb49ufEbKqD8"
   },
   "source": [
    "**Cada uno de los 5 modelos seleccionados deberás realizarlos con las siguientes\n",
    "características:**\n",
    "\n",
    "\n",
    "1.   Realizar una partición del conjunto original de datos en 3 conjuntos: Entrenamiento,\n",
    "Validación y Prueba. NOTA: Si decides estar aplicando Validación Cruzada (CV), en\n",
    "este paso deberás entonces realizar solamente una partición en un conjunto de\n",
    "Entrenamiento y uno de Prueba. Deberás justificar el porcentaje de las particiones a\n",
    "utilizar. Deberás utilizar la misma partición en todos los casos.\n",
    "2.   Realiza el entrenamiento en el conjunto de prueba y reportando las métricas\n",
    "obtenidas en el conjunto de validación. NOTA: En dado caso aquí podrías estar\n",
    "usando Cross-Validation si así lo consideras adecuado.\n",
    "iii. Indicar las métricas que estarás utilizando. Por ejemplo: accuracy, recall, SSE, etc. Si\n",
    "el problema es de clasificación, incluir además la matriz de confusión.\n",
    "3. Indicar las métricas que estarás utilizando. Por ejemplo: accuracy, recall, SSE, etc. Si\n",
    "el problema es de clasificación, incluir además la matriz de confusión.\n",
    "4. En cada uno de los modelos utilizados especifica los parámetros óptimos\n",
    "encontrados para el mejor resultado de cada caso. Puedes hacer la búsqueda manual\n",
    "o apoyarte en las clases RandomizedSearchCV y/o GridSearchCV de sklearn."
   ]
  },
  {
   "cell_type": "markdown",
   "metadata": {
    "id": "j8BkWeTwLFJg"
   },
   "source": [
    "### **Partición conjunto de datos**"
   ]
  },
  {
   "cell_type": "code",
   "execution_count": 50,
   "metadata": {
    "colab": {
     "base_uri": "https://localhost:8080/"
    },
    "id": "7alLoM8LP_O3",
    "outputId": "dcacb287-d85d-4fe3-b833-88a5a06f4704"
   },
   "outputs": [
    {
     "data": {
      "text/plain": [
       "(331675, 13)"
      ]
     },
     "execution_count": 50,
     "metadata": {
      "tags": []
     },
     "output_type": "execute_result"
    }
   ],
   "source": [
    "data_trans.shape"
   ]
  },
  {
   "cell_type": "code",
   "execution_count": 51,
   "metadata": {
    "colab": {
     "base_uri": "https://localhost:8080/",
     "height": 204
    },
    "id": "stKoTJ5zP2f8",
    "outputId": "0a5e1c95-0df7-4376-d110-8b4182a1e892"
   },
   "outputs": [
    {
     "data": {
      "text/html": [
       "<div>\n",
       "<style scoped>\n",
       "    .dataframe tbody tr th:only-of-type {\n",
       "        vertical-align: middle;\n",
       "    }\n",
       "\n",
       "    .dataframe tbody tr th {\n",
       "        vertical-align: top;\n",
       "    }\n",
       "\n",
       "    .dataframe thead th {\n",
       "        text-align: right;\n",
       "    }\n",
       "</style>\n",
       "<table border=\"1\" class=\"dataframe\">\n",
       "  <thead>\n",
       "    <tr style=\"text-align: right;\">\n",
       "      <th></th>\n",
       "      <th>category</th>\n",
       "      <th>main_category</th>\n",
       "      <th>state</th>\n",
       "      <th>country</th>\n",
       "      <th>usd_pledged_real</th>\n",
       "      <th>usd_goal_real</th>\n",
       "      <th>start_day</th>\n",
       "      <th>end_day</th>\n",
       "      <th>start_month</th>\n",
       "      <th>end_month</th>\n",
       "      <th>year</th>\n",
       "      <th>name_length</th>\n",
       "      <th>campaign_length</th>\n",
       "    </tr>\n",
       "  </thead>\n",
       "  <tbody>\n",
       "    <tr>\n",
       "      <th>0</th>\n",
       "      <td>Poetry</td>\n",
       "      <td>Publishing</td>\n",
       "      <td>failed</td>\n",
       "      <td>GB</td>\n",
       "      <td>0.000000</td>\n",
       "      <td>7.336247</td>\n",
       "      <td>1</td>\n",
       "      <td>4</td>\n",
       "      <td>8</td>\n",
       "      <td>10</td>\n",
       "      <td>2015</td>\n",
       "      <td>31.0</td>\n",
       "      <td>7.647963</td>\n",
       "    </tr>\n",
       "    <tr>\n",
       "      <th>1</th>\n",
       "      <td>Narrative Film</td>\n",
       "      <td>Film &amp; Video</td>\n",
       "      <td>failed</td>\n",
       "      <td>US</td>\n",
       "      <td>7.792349</td>\n",
       "      <td>10.308986</td>\n",
       "      <td>5</td>\n",
       "      <td>2</td>\n",
       "      <td>9</td>\n",
       "      <td>11</td>\n",
       "      <td>2017</td>\n",
       "      <td>45.0</td>\n",
       "      <td>7.733228</td>\n",
       "    </tr>\n",
       "    <tr>\n",
       "      <th>2</th>\n",
       "      <td>Narrative Film</td>\n",
       "      <td>Film &amp; Video</td>\n",
       "      <td>failed</td>\n",
       "      <td>US</td>\n",
       "      <td>5.398163</td>\n",
       "      <td>10.714440</td>\n",
       "      <td>5</td>\n",
       "      <td>1</td>\n",
       "      <td>1</td>\n",
       "      <td>2</td>\n",
       "      <td>2013</td>\n",
       "      <td>14.0</td>\n",
       "      <td>6.707125</td>\n",
       "    </tr>\n",
       "    <tr>\n",
       "      <th>3</th>\n",
       "      <td>Music</td>\n",
       "      <td>Music</td>\n",
       "      <td>failed</td>\n",
       "      <td>US</td>\n",
       "      <td>0.693147</td>\n",
       "      <td>8.517391</td>\n",
       "      <td>5</td>\n",
       "      <td>0</td>\n",
       "      <td>3</td>\n",
       "      <td>4</td>\n",
       "      <td>2012</td>\n",
       "      <td>49.0</td>\n",
       "      <td>5.464266</td>\n",
       "    </tr>\n",
       "    <tr>\n",
       "      <th>5</th>\n",
       "      <td>Restaurants</td>\n",
       "      <td>Food</td>\n",
       "      <td>successful</td>\n",
       "      <td>US</td>\n",
       "      <td>10.866204</td>\n",
       "      <td>10.819798</td>\n",
       "      <td>4</td>\n",
       "      <td>4</td>\n",
       "      <td>2</td>\n",
       "      <td>4</td>\n",
       "      <td>2016</td>\n",
       "      <td>20.0</td>\n",
       "      <td>5.867847</td>\n",
       "    </tr>\n",
       "  </tbody>\n",
       "</table>\n",
       "</div>"
      ],
      "text/plain": [
       "         category main_category       state  ...  year  name_length  campaign_length\n",
       "0          Poetry    Publishing      failed  ...  2015         31.0         7.647963\n",
       "1  Narrative Film  Film & Video      failed  ...  2017         45.0         7.733228\n",
       "2  Narrative Film  Film & Video      failed  ...  2013         14.0         6.707125\n",
       "3           Music         Music      failed  ...  2012         49.0         5.464266\n",
       "5     Restaurants          Food  successful  ...  2016         20.0         5.867847\n",
       "\n",
       "[5 rows x 13 columns]"
      ]
     },
     "execution_count": 51,
     "metadata": {
      "tags": []
     },
     "output_type": "execute_result"
    }
   ],
   "source": [
    "data_trans.head()"
   ]
  },
  {
   "cell_type": "code",
   "execution_count": 52,
   "metadata": {
    "colab": {
     "base_uri": "https://localhost:8080/",
     "height": 297
    },
    "id": "rX2qGAeSRTBS",
    "outputId": "dbc7a17c-d162-4a31-d61f-86c1f2ce14d7"
   },
   "outputs": [
    {
     "data": {
      "text/html": [
       "<div>\n",
       "<style scoped>\n",
       "    .dataframe tbody tr th:only-of-type {\n",
       "        vertical-align: middle;\n",
       "    }\n",
       "\n",
       "    .dataframe tbody tr th {\n",
       "        vertical-align: top;\n",
       "    }\n",
       "\n",
       "    .dataframe thead th {\n",
       "        text-align: right;\n",
       "    }\n",
       "</style>\n",
       "<table border=\"1\" class=\"dataframe\">\n",
       "  <thead>\n",
       "    <tr style=\"text-align: right;\">\n",
       "      <th></th>\n",
       "      <th>usd_pledged_real</th>\n",
       "      <th>usd_goal_real</th>\n",
       "      <th>start_day</th>\n",
       "      <th>end_day</th>\n",
       "      <th>start_month</th>\n",
       "      <th>end_month</th>\n",
       "      <th>year</th>\n",
       "      <th>name_length</th>\n",
       "      <th>campaign_length</th>\n",
       "    </tr>\n",
       "  </thead>\n",
       "  <tbody>\n",
       "    <tr>\n",
       "      <th>count</th>\n",
       "      <td>331675.000000</td>\n",
       "      <td>331675.000000</td>\n",
       "      <td>331675.000000</td>\n",
       "      <td>331675.000000</td>\n",
       "      <td>331675.000000</td>\n",
       "      <td>331675.000000</td>\n",
       "      <td>331675.000000</td>\n",
       "      <td>331675.000000</td>\n",
       "      <td>331675.000000</td>\n",
       "    </tr>\n",
       "    <tr>\n",
       "      <th>mean</th>\n",
       "      <td>5.970645</td>\n",
       "      <td>8.582612</td>\n",
       "      <td>2.421826</td>\n",
       "      <td>3.183773</td>\n",
       "      <td>6.416163</td>\n",
       "      <td>6.758483</td>\n",
       "      <td>2014.180002</td>\n",
       "      <td>34.220341</td>\n",
       "      <td>5.678290</td>\n",
       "    </tr>\n",
       "    <tr>\n",
       "      <th>std</th>\n",
       "      <td>3.252303</td>\n",
       "      <td>1.667154</td>\n",
       "      <td>1.762946</td>\n",
       "      <td>1.951072</td>\n",
       "      <td>3.306989</td>\n",
       "      <td>3.315202</td>\n",
       "      <td>1.930922</td>\n",
       "      <td>15.961430</td>\n",
       "      <td>1.070703</td>\n",
       "    </tr>\n",
       "    <tr>\n",
       "      <th>min</th>\n",
       "      <td>0.000000</td>\n",
       "      <td>0.000000</td>\n",
       "      <td>0.000000</td>\n",
       "      <td>0.000000</td>\n",
       "      <td>1.000000</td>\n",
       "      <td>1.000000</td>\n",
       "      <td>2009.000000</td>\n",
       "      <td>1.000000</td>\n",
       "      <td>0.071119</td>\n",
       "    </tr>\n",
       "    <tr>\n",
       "      <th>25%</th>\n",
       "      <td>3.931826</td>\n",
       "      <td>7.601397</td>\n",
       "      <td>1.000000</td>\n",
       "      <td>2.000000</td>\n",
       "      <td>4.000000</td>\n",
       "      <td>4.000000</td>\n",
       "      <td>2013.000000</td>\n",
       "      <td>21.000000</td>\n",
       "      <td>5.393415</td>\n",
       "    </tr>\n",
       "    <tr>\n",
       "      <th>50%</th>\n",
       "      <td>6.670766</td>\n",
       "      <td>8.517391</td>\n",
       "      <td>2.000000</td>\n",
       "      <td>3.000000</td>\n",
       "      <td>6.000000</td>\n",
       "      <td>7.000000</td>\n",
       "      <td>2014.000000</td>\n",
       "      <td>33.000000</td>\n",
       "      <td>5.445802</td>\n",
       "    </tr>\n",
       "    <tr>\n",
       "      <th>75%</th>\n",
       "      <td>8.435766</td>\n",
       "      <td>9.615871</td>\n",
       "      <td>4.000000</td>\n",
       "      <td>5.000000</td>\n",
       "      <td>9.000000</td>\n",
       "      <td>10.000000</td>\n",
       "      <td>2016.000000</td>\n",
       "      <td>48.000000</td>\n",
       "      <td>5.975447</td>\n",
       "    </tr>\n",
       "    <tr>\n",
       "      <th>max</th>\n",
       "      <td>16.828050</td>\n",
       "      <td>18.929673</td>\n",
       "      <td>6.000000</td>\n",
       "      <td>6.000000</td>\n",
       "      <td>12.000000</td>\n",
       "      <td>12.000000</td>\n",
       "      <td>2017.000000</td>\n",
       "      <td>85.000000</td>\n",
       "      <td>9.589716</td>\n",
       "    </tr>\n",
       "  </tbody>\n",
       "</table>\n",
       "</div>"
      ],
      "text/plain": [
       "       usd_pledged_real  usd_goal_real  ...    name_length  campaign_length\n",
       "count     331675.000000  331675.000000  ...  331675.000000    331675.000000\n",
       "mean           5.970645       8.582612  ...      34.220341         5.678290\n",
       "std            3.252303       1.667154  ...      15.961430         1.070703\n",
       "min            0.000000       0.000000  ...       1.000000         0.071119\n",
       "25%            3.931826       7.601397  ...      21.000000         5.393415\n",
       "50%            6.670766       8.517391  ...      33.000000         5.445802\n",
       "75%            8.435766       9.615871  ...      48.000000         5.975447\n",
       "max           16.828050      18.929673  ...      85.000000         9.589716\n",
       "\n",
       "[8 rows x 9 columns]"
      ]
     },
     "execution_count": 52,
     "metadata": {
      "tags": []
     },
     "output_type": "execute_result"
    }
   ],
   "source": [
    "data_trans.describe()"
   ]
  },
  {
   "cell_type": "code",
   "execution_count": 53,
   "metadata": {
    "colab": {
     "base_uri": "https://localhost:8080/"
    },
    "id": "KgXvlgDgRBpl",
    "outputId": "f7d90075-2664-42e0-da35-df99d0059f9f"
   },
   "outputs": [
    {
     "data": {
      "text/plain": [
       "category             object\n",
       "main_category        object\n",
       "state                object\n",
       "country              object\n",
       "usd_pledged_real    float64\n",
       "usd_goal_real       float64\n",
       "start_day             int64\n",
       "end_day               int64\n",
       "start_month           int64\n",
       "end_month             int64\n",
       "year                  int64\n",
       "name_length         float64\n",
       "campaign_length     float64\n",
       "dtype: object"
      ]
     },
     "execution_count": 53,
     "metadata": {
      "tags": []
     },
     "output_type": "execute_result"
    }
   ],
   "source": [
    "data_trans.dtypes"
   ]
  },
  {
   "cell_type": "markdown",
   "metadata": {
    "id": "S9dw--fqPqL0"
   },
   "source": [
    "Se va a obtener un dataset que tenga las variables categóricas en one hot encoding"
   ]
  },
  {
   "cell_type": "code",
   "execution_count": 54,
   "metadata": {
    "colab": {
     "base_uri": "https://localhost:8080/",
     "height": 297
    },
    "id": "q3ZflAthT-4P",
    "outputId": "7006061f-9da6-40f6-da91-f95c8ea93bc6"
   },
   "outputs": [
    {
     "data": {
      "text/html": [
       "<div>\n",
       "<style scoped>\n",
       "    .dataframe tbody tr th:only-of-type {\n",
       "        vertical-align: middle;\n",
       "    }\n",
       "\n",
       "    .dataframe tbody tr th {\n",
       "        vertical-align: top;\n",
       "    }\n",
       "\n",
       "    .dataframe thead th {\n",
       "        text-align: right;\n",
       "    }\n",
       "</style>\n",
       "<table border=\"1\" class=\"dataframe\">\n",
       "  <thead>\n",
       "    <tr style=\"text-align: right;\">\n",
       "      <th></th>\n",
       "      <th>state</th>\n",
       "      <th>usd_pledged_real</th>\n",
       "      <th>usd_goal_real</th>\n",
       "      <th>name_length</th>\n",
       "      <th>campaign_length</th>\n",
       "    </tr>\n",
       "  </thead>\n",
       "  <tbody>\n",
       "    <tr>\n",
       "      <th>count</th>\n",
       "      <td>331675.000000</td>\n",
       "      <td>331675.000000</td>\n",
       "      <td>331675.000000</td>\n",
       "      <td>331675.000000</td>\n",
       "      <td>331675.000000</td>\n",
       "    </tr>\n",
       "    <tr>\n",
       "      <th>mean</th>\n",
       "      <td>0.403877</td>\n",
       "      <td>5.970645</td>\n",
       "      <td>8.582612</td>\n",
       "      <td>34.220341</td>\n",
       "      <td>5.678290</td>\n",
       "    </tr>\n",
       "    <tr>\n",
       "      <th>std</th>\n",
       "      <td>0.490674</td>\n",
       "      <td>3.252303</td>\n",
       "      <td>1.667154</td>\n",
       "      <td>15.961430</td>\n",
       "      <td>1.070703</td>\n",
       "    </tr>\n",
       "    <tr>\n",
       "      <th>min</th>\n",
       "      <td>0.000000</td>\n",
       "      <td>0.000000</td>\n",
       "      <td>0.000000</td>\n",
       "      <td>1.000000</td>\n",
       "      <td>0.071119</td>\n",
       "    </tr>\n",
       "    <tr>\n",
       "      <th>25%</th>\n",
       "      <td>0.000000</td>\n",
       "      <td>3.931826</td>\n",
       "      <td>7.601397</td>\n",
       "      <td>21.000000</td>\n",
       "      <td>5.393415</td>\n",
       "    </tr>\n",
       "    <tr>\n",
       "      <th>50%</th>\n",
       "      <td>0.000000</td>\n",
       "      <td>6.670766</td>\n",
       "      <td>8.517391</td>\n",
       "      <td>33.000000</td>\n",
       "      <td>5.445802</td>\n",
       "    </tr>\n",
       "    <tr>\n",
       "      <th>75%</th>\n",
       "      <td>1.000000</td>\n",
       "      <td>8.435766</td>\n",
       "      <td>9.615871</td>\n",
       "      <td>48.000000</td>\n",
       "      <td>5.975447</td>\n",
       "    </tr>\n",
       "    <tr>\n",
       "      <th>max</th>\n",
       "      <td>1.000000</td>\n",
       "      <td>16.828050</td>\n",
       "      <td>18.929673</td>\n",
       "      <td>85.000000</td>\n",
       "      <td>9.589716</td>\n",
       "    </tr>\n",
       "  </tbody>\n",
       "</table>\n",
       "</div>"
      ],
      "text/plain": [
       "               state  usd_pledged_real  ...    name_length  campaign_length\n",
       "count  331675.000000     331675.000000  ...  331675.000000    331675.000000\n",
       "mean        0.403877          5.970645  ...      34.220341         5.678290\n",
       "std         0.490674          3.252303  ...      15.961430         1.070703\n",
       "min         0.000000          0.000000  ...       1.000000         0.071119\n",
       "25%         0.000000          3.931826  ...      21.000000         5.393415\n",
       "50%         0.000000          6.670766  ...      33.000000         5.445802\n",
       "75%         1.000000          8.435766  ...      48.000000         5.975447\n",
       "max         1.000000         16.828050  ...      85.000000         9.589716\n",
       "\n",
       "[8 rows x 5 columns]"
      ]
     },
     "execution_count": 54,
     "metadata": {
      "tags": []
     },
     "output_type": "execute_result"
    }
   ],
   "source": [
    "data_for_model = pd.get_dummies(data_trans, columns=['category','main_category','country','start_day','end_day','start_month','end_month','year'])\n",
    "data_for_model['state'] =  encoder.fit_transform(data_categorical['state'].astype(str))\n",
    "data_for_model[['state','usd_pledged_real','usd_goal_real','name_length','campaign_length']].describe()"
   ]
  },
  {
   "cell_type": "code",
   "execution_count": 55,
   "metadata": {
    "colab": {
     "base_uri": "https://localhost:8080/",
     "height": 270
    },
    "id": "MlmJFR8mWLOi",
    "outputId": "a5905b5b-ed25-4275-a094-a6e6f7566428"
   },
   "outputs": [
    {
     "data": {
      "text/html": [
       "<div>\n",
       "<style scoped>\n",
       "    .dataframe tbody tr th:only-of-type {\n",
       "        vertical-align: middle;\n",
       "    }\n",
       "\n",
       "    .dataframe tbody tr th {\n",
       "        vertical-align: top;\n",
       "    }\n",
       "\n",
       "    .dataframe thead th {\n",
       "        text-align: right;\n",
       "    }\n",
       "</style>\n",
       "<table border=\"1\" class=\"dataframe\">\n",
       "  <thead>\n",
       "    <tr style=\"text-align: right;\">\n",
       "      <th></th>\n",
       "      <th>state</th>\n",
       "      <th>usd_pledged_real</th>\n",
       "      <th>usd_goal_real</th>\n",
       "      <th>name_length</th>\n",
       "      <th>campaign_length</th>\n",
       "      <th>category_3D Printing</th>\n",
       "      <th>category_Academic</th>\n",
       "      <th>category_Accessories</th>\n",
       "      <th>category_Action</th>\n",
       "      <th>category_Animals</th>\n",
       "      <th>category_Animation</th>\n",
       "      <th>category_Anthologies</th>\n",
       "      <th>category_Apparel</th>\n",
       "      <th>category_Apps</th>\n",
       "      <th>category_Architecture</th>\n",
       "      <th>category_Art</th>\n",
       "      <th>category_Art Books</th>\n",
       "      <th>category_Audio</th>\n",
       "      <th>category_Bacon</th>\n",
       "      <th>category_Blues</th>\n",
       "      <th>category_Calendars</th>\n",
       "      <th>category_Camera Equipment</th>\n",
       "      <th>category_Candles</th>\n",
       "      <th>category_Ceramics</th>\n",
       "      <th>category_Children's Books</th>\n",
       "      <th>category_Childrenswear</th>\n",
       "      <th>category_Chiptune</th>\n",
       "      <th>category_Civic Design</th>\n",
       "      <th>category_Classical Music</th>\n",
       "      <th>category_Comedy</th>\n",
       "      <th>category_Comic Books</th>\n",
       "      <th>category_Comics</th>\n",
       "      <th>category_Community Gardens</th>\n",
       "      <th>category_Conceptual Art</th>\n",
       "      <th>category_Cookbooks</th>\n",
       "      <th>category_Country &amp; Folk</th>\n",
       "      <th>category_Couture</th>\n",
       "      <th>category_Crafts</th>\n",
       "      <th>category_Crochet</th>\n",
       "      <th>category_DIY</th>\n",
       "      <th>...</th>\n",
       "      <th>end_day_0</th>\n",
       "      <th>end_day_1</th>\n",
       "      <th>end_day_2</th>\n",
       "      <th>end_day_3</th>\n",
       "      <th>end_day_4</th>\n",
       "      <th>end_day_5</th>\n",
       "      <th>end_day_6</th>\n",
       "      <th>start_month_1</th>\n",
       "      <th>start_month_2</th>\n",
       "      <th>start_month_3</th>\n",
       "      <th>start_month_4</th>\n",
       "      <th>start_month_5</th>\n",
       "      <th>start_month_6</th>\n",
       "      <th>start_month_7</th>\n",
       "      <th>start_month_8</th>\n",
       "      <th>start_month_9</th>\n",
       "      <th>start_month_10</th>\n",
       "      <th>start_month_11</th>\n",
       "      <th>start_month_12</th>\n",
       "      <th>end_month_1</th>\n",
       "      <th>end_month_2</th>\n",
       "      <th>end_month_3</th>\n",
       "      <th>end_month_4</th>\n",
       "      <th>end_month_5</th>\n",
       "      <th>end_month_6</th>\n",
       "      <th>end_month_7</th>\n",
       "      <th>end_month_8</th>\n",
       "      <th>end_month_9</th>\n",
       "      <th>end_month_10</th>\n",
       "      <th>end_month_11</th>\n",
       "      <th>end_month_12</th>\n",
       "      <th>year_2009</th>\n",
       "      <th>year_2010</th>\n",
       "      <th>year_2011</th>\n",
       "      <th>year_2012</th>\n",
       "      <th>year_2013</th>\n",
       "      <th>year_2014</th>\n",
       "      <th>year_2015</th>\n",
       "      <th>year_2016</th>\n",
       "      <th>year_2017</th>\n",
       "    </tr>\n",
       "  </thead>\n",
       "  <tbody>\n",
       "    <tr>\n",
       "      <th>0</th>\n",
       "      <td>0</td>\n",
       "      <td>0.000000</td>\n",
       "      <td>7.336247</td>\n",
       "      <td>31.0</td>\n",
       "      <td>7.647963</td>\n",
       "      <td>0</td>\n",
       "      <td>0</td>\n",
       "      <td>0</td>\n",
       "      <td>0</td>\n",
       "      <td>0</td>\n",
       "      <td>0</td>\n",
       "      <td>0</td>\n",
       "      <td>0</td>\n",
       "      <td>0</td>\n",
       "      <td>0</td>\n",
       "      <td>0</td>\n",
       "      <td>0</td>\n",
       "      <td>0</td>\n",
       "      <td>0</td>\n",
       "      <td>0</td>\n",
       "      <td>0</td>\n",
       "      <td>0</td>\n",
       "      <td>0</td>\n",
       "      <td>0</td>\n",
       "      <td>0</td>\n",
       "      <td>0</td>\n",
       "      <td>0</td>\n",
       "      <td>0</td>\n",
       "      <td>0</td>\n",
       "      <td>0</td>\n",
       "      <td>0</td>\n",
       "      <td>0</td>\n",
       "      <td>0</td>\n",
       "      <td>0</td>\n",
       "      <td>0</td>\n",
       "      <td>0</td>\n",
       "      <td>0</td>\n",
       "      <td>0</td>\n",
       "      <td>0</td>\n",
       "      <td>0</td>\n",
       "      <td>...</td>\n",
       "      <td>0</td>\n",
       "      <td>0</td>\n",
       "      <td>0</td>\n",
       "      <td>0</td>\n",
       "      <td>1</td>\n",
       "      <td>0</td>\n",
       "      <td>0</td>\n",
       "      <td>0</td>\n",
       "      <td>0</td>\n",
       "      <td>0</td>\n",
       "      <td>0</td>\n",
       "      <td>0</td>\n",
       "      <td>0</td>\n",
       "      <td>0</td>\n",
       "      <td>1</td>\n",
       "      <td>0</td>\n",
       "      <td>0</td>\n",
       "      <td>0</td>\n",
       "      <td>0</td>\n",
       "      <td>0</td>\n",
       "      <td>0</td>\n",
       "      <td>0</td>\n",
       "      <td>0</td>\n",
       "      <td>0</td>\n",
       "      <td>0</td>\n",
       "      <td>0</td>\n",
       "      <td>0</td>\n",
       "      <td>0</td>\n",
       "      <td>1</td>\n",
       "      <td>0</td>\n",
       "      <td>0</td>\n",
       "      <td>0</td>\n",
       "      <td>0</td>\n",
       "      <td>0</td>\n",
       "      <td>0</td>\n",
       "      <td>0</td>\n",
       "      <td>0</td>\n",
       "      <td>1</td>\n",
       "      <td>0</td>\n",
       "      <td>0</td>\n",
       "    </tr>\n",
       "    <tr>\n",
       "      <th>1</th>\n",
       "      <td>0</td>\n",
       "      <td>7.792349</td>\n",
       "      <td>10.308986</td>\n",
       "      <td>45.0</td>\n",
       "      <td>7.733228</td>\n",
       "      <td>0</td>\n",
       "      <td>0</td>\n",
       "      <td>0</td>\n",
       "      <td>0</td>\n",
       "      <td>0</td>\n",
       "      <td>0</td>\n",
       "      <td>0</td>\n",
       "      <td>0</td>\n",
       "      <td>0</td>\n",
       "      <td>0</td>\n",
       "      <td>0</td>\n",
       "      <td>0</td>\n",
       "      <td>0</td>\n",
       "      <td>0</td>\n",
       "      <td>0</td>\n",
       "      <td>0</td>\n",
       "      <td>0</td>\n",
       "      <td>0</td>\n",
       "      <td>0</td>\n",
       "      <td>0</td>\n",
       "      <td>0</td>\n",
       "      <td>0</td>\n",
       "      <td>0</td>\n",
       "      <td>0</td>\n",
       "      <td>0</td>\n",
       "      <td>0</td>\n",
       "      <td>0</td>\n",
       "      <td>0</td>\n",
       "      <td>0</td>\n",
       "      <td>0</td>\n",
       "      <td>0</td>\n",
       "      <td>0</td>\n",
       "      <td>0</td>\n",
       "      <td>0</td>\n",
       "      <td>0</td>\n",
       "      <td>...</td>\n",
       "      <td>0</td>\n",
       "      <td>0</td>\n",
       "      <td>1</td>\n",
       "      <td>0</td>\n",
       "      <td>0</td>\n",
       "      <td>0</td>\n",
       "      <td>0</td>\n",
       "      <td>0</td>\n",
       "      <td>0</td>\n",
       "      <td>0</td>\n",
       "      <td>0</td>\n",
       "      <td>0</td>\n",
       "      <td>0</td>\n",
       "      <td>0</td>\n",
       "      <td>0</td>\n",
       "      <td>1</td>\n",
       "      <td>0</td>\n",
       "      <td>0</td>\n",
       "      <td>0</td>\n",
       "      <td>0</td>\n",
       "      <td>0</td>\n",
       "      <td>0</td>\n",
       "      <td>0</td>\n",
       "      <td>0</td>\n",
       "      <td>0</td>\n",
       "      <td>0</td>\n",
       "      <td>0</td>\n",
       "      <td>0</td>\n",
       "      <td>0</td>\n",
       "      <td>1</td>\n",
       "      <td>0</td>\n",
       "      <td>0</td>\n",
       "      <td>0</td>\n",
       "      <td>0</td>\n",
       "      <td>0</td>\n",
       "      <td>0</td>\n",
       "      <td>0</td>\n",
       "      <td>0</td>\n",
       "      <td>0</td>\n",
       "      <td>1</td>\n",
       "    </tr>\n",
       "    <tr>\n",
       "      <th>2</th>\n",
       "      <td>0</td>\n",
       "      <td>5.398163</td>\n",
       "      <td>10.714440</td>\n",
       "      <td>14.0</td>\n",
       "      <td>6.707125</td>\n",
       "      <td>0</td>\n",
       "      <td>0</td>\n",
       "      <td>0</td>\n",
       "      <td>0</td>\n",
       "      <td>0</td>\n",
       "      <td>0</td>\n",
       "      <td>0</td>\n",
       "      <td>0</td>\n",
       "      <td>0</td>\n",
       "      <td>0</td>\n",
       "      <td>0</td>\n",
       "      <td>0</td>\n",
       "      <td>0</td>\n",
       "      <td>0</td>\n",
       "      <td>0</td>\n",
       "      <td>0</td>\n",
       "      <td>0</td>\n",
       "      <td>0</td>\n",
       "      <td>0</td>\n",
       "      <td>0</td>\n",
       "      <td>0</td>\n",
       "      <td>0</td>\n",
       "      <td>0</td>\n",
       "      <td>0</td>\n",
       "      <td>0</td>\n",
       "      <td>0</td>\n",
       "      <td>0</td>\n",
       "      <td>0</td>\n",
       "      <td>0</td>\n",
       "      <td>0</td>\n",
       "      <td>0</td>\n",
       "      <td>0</td>\n",
       "      <td>0</td>\n",
       "      <td>0</td>\n",
       "      <td>0</td>\n",
       "      <td>...</td>\n",
       "      <td>0</td>\n",
       "      <td>1</td>\n",
       "      <td>0</td>\n",
       "      <td>0</td>\n",
       "      <td>0</td>\n",
       "      <td>0</td>\n",
       "      <td>0</td>\n",
       "      <td>1</td>\n",
       "      <td>0</td>\n",
       "      <td>0</td>\n",
       "      <td>0</td>\n",
       "      <td>0</td>\n",
       "      <td>0</td>\n",
       "      <td>0</td>\n",
       "      <td>0</td>\n",
       "      <td>0</td>\n",
       "      <td>0</td>\n",
       "      <td>0</td>\n",
       "      <td>0</td>\n",
       "      <td>0</td>\n",
       "      <td>1</td>\n",
       "      <td>0</td>\n",
       "      <td>0</td>\n",
       "      <td>0</td>\n",
       "      <td>0</td>\n",
       "      <td>0</td>\n",
       "      <td>0</td>\n",
       "      <td>0</td>\n",
       "      <td>0</td>\n",
       "      <td>0</td>\n",
       "      <td>0</td>\n",
       "      <td>0</td>\n",
       "      <td>0</td>\n",
       "      <td>0</td>\n",
       "      <td>0</td>\n",
       "      <td>1</td>\n",
       "      <td>0</td>\n",
       "      <td>0</td>\n",
       "      <td>0</td>\n",
       "      <td>0</td>\n",
       "    </tr>\n",
       "    <tr>\n",
       "      <th>3</th>\n",
       "      <td>0</td>\n",
       "      <td>0.693147</td>\n",
       "      <td>8.517391</td>\n",
       "      <td>49.0</td>\n",
       "      <td>5.464266</td>\n",
       "      <td>0</td>\n",
       "      <td>0</td>\n",
       "      <td>0</td>\n",
       "      <td>0</td>\n",
       "      <td>0</td>\n",
       "      <td>0</td>\n",
       "      <td>0</td>\n",
       "      <td>0</td>\n",
       "      <td>0</td>\n",
       "      <td>0</td>\n",
       "      <td>0</td>\n",
       "      <td>0</td>\n",
       "      <td>0</td>\n",
       "      <td>0</td>\n",
       "      <td>0</td>\n",
       "      <td>0</td>\n",
       "      <td>0</td>\n",
       "      <td>0</td>\n",
       "      <td>0</td>\n",
       "      <td>0</td>\n",
       "      <td>0</td>\n",
       "      <td>0</td>\n",
       "      <td>0</td>\n",
       "      <td>0</td>\n",
       "      <td>0</td>\n",
       "      <td>0</td>\n",
       "      <td>0</td>\n",
       "      <td>0</td>\n",
       "      <td>0</td>\n",
       "      <td>0</td>\n",
       "      <td>0</td>\n",
       "      <td>0</td>\n",
       "      <td>0</td>\n",
       "      <td>0</td>\n",
       "      <td>0</td>\n",
       "      <td>...</td>\n",
       "      <td>1</td>\n",
       "      <td>0</td>\n",
       "      <td>0</td>\n",
       "      <td>0</td>\n",
       "      <td>0</td>\n",
       "      <td>0</td>\n",
       "      <td>0</td>\n",
       "      <td>0</td>\n",
       "      <td>0</td>\n",
       "      <td>1</td>\n",
       "      <td>0</td>\n",
       "      <td>0</td>\n",
       "      <td>0</td>\n",
       "      <td>0</td>\n",
       "      <td>0</td>\n",
       "      <td>0</td>\n",
       "      <td>0</td>\n",
       "      <td>0</td>\n",
       "      <td>0</td>\n",
       "      <td>0</td>\n",
       "      <td>0</td>\n",
       "      <td>0</td>\n",
       "      <td>1</td>\n",
       "      <td>0</td>\n",
       "      <td>0</td>\n",
       "      <td>0</td>\n",
       "      <td>0</td>\n",
       "      <td>0</td>\n",
       "      <td>0</td>\n",
       "      <td>0</td>\n",
       "      <td>0</td>\n",
       "      <td>0</td>\n",
       "      <td>0</td>\n",
       "      <td>0</td>\n",
       "      <td>1</td>\n",
       "      <td>0</td>\n",
       "      <td>0</td>\n",
       "      <td>0</td>\n",
       "      <td>0</td>\n",
       "      <td>0</td>\n",
       "    </tr>\n",
       "    <tr>\n",
       "      <th>5</th>\n",
       "      <td>1</td>\n",
       "      <td>10.866204</td>\n",
       "      <td>10.819798</td>\n",
       "      <td>20.0</td>\n",
       "      <td>5.867847</td>\n",
       "      <td>0</td>\n",
       "      <td>0</td>\n",
       "      <td>0</td>\n",
       "      <td>0</td>\n",
       "      <td>0</td>\n",
       "      <td>0</td>\n",
       "      <td>0</td>\n",
       "      <td>0</td>\n",
       "      <td>0</td>\n",
       "      <td>0</td>\n",
       "      <td>0</td>\n",
       "      <td>0</td>\n",
       "      <td>0</td>\n",
       "      <td>0</td>\n",
       "      <td>0</td>\n",
       "      <td>0</td>\n",
       "      <td>0</td>\n",
       "      <td>0</td>\n",
       "      <td>0</td>\n",
       "      <td>0</td>\n",
       "      <td>0</td>\n",
       "      <td>0</td>\n",
       "      <td>0</td>\n",
       "      <td>0</td>\n",
       "      <td>0</td>\n",
       "      <td>0</td>\n",
       "      <td>0</td>\n",
       "      <td>0</td>\n",
       "      <td>0</td>\n",
       "      <td>0</td>\n",
       "      <td>0</td>\n",
       "      <td>0</td>\n",
       "      <td>0</td>\n",
       "      <td>0</td>\n",
       "      <td>0</td>\n",
       "      <td>...</td>\n",
       "      <td>0</td>\n",
       "      <td>0</td>\n",
       "      <td>0</td>\n",
       "      <td>0</td>\n",
       "      <td>1</td>\n",
       "      <td>0</td>\n",
       "      <td>0</td>\n",
       "      <td>0</td>\n",
       "      <td>1</td>\n",
       "      <td>0</td>\n",
       "      <td>0</td>\n",
       "      <td>0</td>\n",
       "      <td>0</td>\n",
       "      <td>0</td>\n",
       "      <td>0</td>\n",
       "      <td>0</td>\n",
       "      <td>0</td>\n",
       "      <td>0</td>\n",
       "      <td>0</td>\n",
       "      <td>0</td>\n",
       "      <td>0</td>\n",
       "      <td>0</td>\n",
       "      <td>1</td>\n",
       "      <td>0</td>\n",
       "      <td>0</td>\n",
       "      <td>0</td>\n",
       "      <td>0</td>\n",
       "      <td>0</td>\n",
       "      <td>0</td>\n",
       "      <td>0</td>\n",
       "      <td>0</td>\n",
       "      <td>0</td>\n",
       "      <td>0</td>\n",
       "      <td>0</td>\n",
       "      <td>0</td>\n",
       "      <td>0</td>\n",
       "      <td>0</td>\n",
       "      <td>0</td>\n",
       "      <td>1</td>\n",
       "      <td>0</td>\n",
       "    </tr>\n",
       "  </tbody>\n",
       "</table>\n",
       "<p>5 rows × 249 columns</p>\n",
       "</div>"
      ],
      "text/plain": [
       "   state  usd_pledged_real  usd_goal_real  ...  year_2015  year_2016  year_2017\n",
       "0      0          0.000000       7.336247  ...          1          0          0\n",
       "1      0          7.792349      10.308986  ...          0          0          1\n",
       "2      0          5.398163      10.714440  ...          0          0          0\n",
       "3      0          0.693147       8.517391  ...          0          0          0\n",
       "5      1         10.866204      10.819798  ...          0          1          0\n",
       "\n",
       "[5 rows x 249 columns]"
      ]
     },
     "execution_count": 55,
     "metadata": {
      "tags": []
     },
     "output_type": "execute_result"
    }
   ],
   "source": [
    "data_for_model.head()"
   ]
  },
  {
   "cell_type": "code",
   "execution_count": 56,
   "metadata": {
    "id": "NCsWsZc6LEh5"
   },
   "outputs": [],
   "source": [
    "# Problema de regresión\n",
    "#x = data_trans[['category', 'main_category', 'currency', 'country','usd_goal_real', 'start_day', 'end_day', 'start_month', 'end_month','name_length', 'campaign_length']]\n",
    "#y = data_trans['usd_pledged_real']\n",
    "\n",
    "#Problema de clasificación\n",
    "#x = data_trans[['category', 'main_category', 'currency', 'country','usd_goal_real', 'start_day', 'end_day', 'start_month', 'end_month','name_length', 'campaign_length']]\n",
    "#y = data_trans['state']     \n",
    "x = data_for_model.iloc[:,data_for_model.columns != 'state']\n",
    "y = data_for_model.state"
   ]
  },
  {
   "cell_type": "code",
   "execution_count": 57,
   "metadata": {
    "colab": {
     "base_uri": "https://localhost:8080/"
    },
    "id": "dPbRRk-h5Mid",
    "outputId": "8bdf992d-9835-47fe-a026-ddf542a44ace"
   },
   "outputs": [
    {
     "name": "stdout",
     "output_type": "stream",
     "text": [
      "X shape:  (331675, 248)\n",
      "Y shape:  (331675,)\n"
     ]
    }
   ],
   "source": [
    "print(\"X shape: \", x.shape)\n",
    "print(\"Y shape: \", y.shape)"
   ]
  },
  {
   "cell_type": "code",
   "execution_count": 58,
   "metadata": {
    "id": "mhRhDxAKLeee"
   },
   "outputs": [],
   "source": [
    "x_train, x_test, y_train, y_test = train_test_split(x,y,test_size=0.2)\n",
    "x_test, x_val, y_test, y_val = train_test_split(x_test,y_test,test_size=0.5)"
   ]
  },
  {
   "cell_type": "code",
   "execution_count": 59,
   "metadata": {
    "colab": {
     "base_uri": "https://localhost:8080/"
    },
    "id": "GFx_YJ3lM1W1",
    "outputId": "8518d531-84d9-48de-e819-cc08c3ae2635"
   },
   "outputs": [
    {
     "name": "stdout",
     "output_type": "stream",
     "text": [
      "X train:  (265340, 248)\n",
      "X val:  (33168, 248)\n",
      "X test:  (33167, 248)\n",
      "\n",
      "Y train:  (265340,)\n",
      "Y val:  (33168,)\n",
      "Y test:  (33167,)\n"
     ]
    }
   ],
   "source": [
    "print(\"X train: \", x_train.shape)\n",
    "print(\"X val: \", x_val.shape)\n",
    "print(\"X test: \", x_test.shape)\n",
    "print()\n",
    "print(\"Y train: \", y_train.shape)\n",
    "print(\"Y val: \", y_val.shape)\n",
    "print(\"Y test: \", y_test.shape)"
   ]
  },
  {
   "cell_type": "code",
   "execution_count": 60,
   "metadata": {
    "colab": {
     "base_uri": "https://localhost:8080/",
     "height": 270
    },
    "id": "DhAazC7OWrho",
    "outputId": "b188444a-5090-4f9e-c5e4-a2f7f02329ed"
   },
   "outputs": [
    {
     "data": {
      "text/html": [
       "<div>\n",
       "<style scoped>\n",
       "    .dataframe tbody tr th:only-of-type {\n",
       "        vertical-align: middle;\n",
       "    }\n",
       "\n",
       "    .dataframe tbody tr th {\n",
       "        vertical-align: top;\n",
       "    }\n",
       "\n",
       "    .dataframe thead th {\n",
       "        text-align: right;\n",
       "    }\n",
       "</style>\n",
       "<table border=\"1\" class=\"dataframe\">\n",
       "  <thead>\n",
       "    <tr style=\"text-align: right;\">\n",
       "      <th></th>\n",
       "      <th>usd_pledged_real</th>\n",
       "      <th>usd_goal_real</th>\n",
       "      <th>name_length</th>\n",
       "      <th>campaign_length</th>\n",
       "      <th>category_3D Printing</th>\n",
       "      <th>category_Academic</th>\n",
       "      <th>category_Accessories</th>\n",
       "      <th>category_Action</th>\n",
       "      <th>category_Animals</th>\n",
       "      <th>category_Animation</th>\n",
       "      <th>category_Anthologies</th>\n",
       "      <th>category_Apparel</th>\n",
       "      <th>category_Apps</th>\n",
       "      <th>category_Architecture</th>\n",
       "      <th>category_Art</th>\n",
       "      <th>category_Art Books</th>\n",
       "      <th>category_Audio</th>\n",
       "      <th>category_Bacon</th>\n",
       "      <th>category_Blues</th>\n",
       "      <th>category_Calendars</th>\n",
       "      <th>category_Camera Equipment</th>\n",
       "      <th>category_Candles</th>\n",
       "      <th>category_Ceramics</th>\n",
       "      <th>category_Children's Books</th>\n",
       "      <th>category_Childrenswear</th>\n",
       "      <th>category_Chiptune</th>\n",
       "      <th>category_Civic Design</th>\n",
       "      <th>category_Classical Music</th>\n",
       "      <th>category_Comedy</th>\n",
       "      <th>category_Comic Books</th>\n",
       "      <th>category_Comics</th>\n",
       "      <th>category_Community Gardens</th>\n",
       "      <th>category_Conceptual Art</th>\n",
       "      <th>category_Cookbooks</th>\n",
       "      <th>category_Country &amp; Folk</th>\n",
       "      <th>category_Couture</th>\n",
       "      <th>category_Crafts</th>\n",
       "      <th>category_Crochet</th>\n",
       "      <th>category_DIY</th>\n",
       "      <th>category_DIY Electronics</th>\n",
       "      <th>...</th>\n",
       "      <th>end_day_0</th>\n",
       "      <th>end_day_1</th>\n",
       "      <th>end_day_2</th>\n",
       "      <th>end_day_3</th>\n",
       "      <th>end_day_4</th>\n",
       "      <th>end_day_5</th>\n",
       "      <th>end_day_6</th>\n",
       "      <th>start_month_1</th>\n",
       "      <th>start_month_2</th>\n",
       "      <th>start_month_3</th>\n",
       "      <th>start_month_4</th>\n",
       "      <th>start_month_5</th>\n",
       "      <th>start_month_6</th>\n",
       "      <th>start_month_7</th>\n",
       "      <th>start_month_8</th>\n",
       "      <th>start_month_9</th>\n",
       "      <th>start_month_10</th>\n",
       "      <th>start_month_11</th>\n",
       "      <th>start_month_12</th>\n",
       "      <th>end_month_1</th>\n",
       "      <th>end_month_2</th>\n",
       "      <th>end_month_3</th>\n",
       "      <th>end_month_4</th>\n",
       "      <th>end_month_5</th>\n",
       "      <th>end_month_6</th>\n",
       "      <th>end_month_7</th>\n",
       "      <th>end_month_8</th>\n",
       "      <th>end_month_9</th>\n",
       "      <th>end_month_10</th>\n",
       "      <th>end_month_11</th>\n",
       "      <th>end_month_12</th>\n",
       "      <th>year_2009</th>\n",
       "      <th>year_2010</th>\n",
       "      <th>year_2011</th>\n",
       "      <th>year_2012</th>\n",
       "      <th>year_2013</th>\n",
       "      <th>year_2014</th>\n",
       "      <th>year_2015</th>\n",
       "      <th>year_2016</th>\n",
       "      <th>year_2017</th>\n",
       "    </tr>\n",
       "  </thead>\n",
       "  <tbody>\n",
       "    <tr>\n",
       "      <th>293697</th>\n",
       "      <td>5.831882</td>\n",
       "      <td>9.210439</td>\n",
       "      <td>24.0</td>\n",
       "      <td>6.704281</td>\n",
       "      <td>0</td>\n",
       "      <td>0</td>\n",
       "      <td>0</td>\n",
       "      <td>0</td>\n",
       "      <td>0</td>\n",
       "      <td>0</td>\n",
       "      <td>0</td>\n",
       "      <td>0</td>\n",
       "      <td>0</td>\n",
       "      <td>0</td>\n",
       "      <td>0</td>\n",
       "      <td>0</td>\n",
       "      <td>0</td>\n",
       "      <td>0</td>\n",
       "      <td>0</td>\n",
       "      <td>0</td>\n",
       "      <td>0</td>\n",
       "      <td>0</td>\n",
       "      <td>0</td>\n",
       "      <td>0</td>\n",
       "      <td>0</td>\n",
       "      <td>0</td>\n",
       "      <td>0</td>\n",
       "      <td>0</td>\n",
       "      <td>0</td>\n",
       "      <td>0</td>\n",
       "      <td>0</td>\n",
       "      <td>0</td>\n",
       "      <td>0</td>\n",
       "      <td>0</td>\n",
       "      <td>0</td>\n",
       "      <td>0</td>\n",
       "      <td>0</td>\n",
       "      <td>0</td>\n",
       "      <td>0</td>\n",
       "      <td>0</td>\n",
       "      <td>...</td>\n",
       "      <td>0</td>\n",
       "      <td>0</td>\n",
       "      <td>0</td>\n",
       "      <td>0</td>\n",
       "      <td>1</td>\n",
       "      <td>0</td>\n",
       "      <td>0</td>\n",
       "      <td>0</td>\n",
       "      <td>0</td>\n",
       "      <td>0</td>\n",
       "      <td>0</td>\n",
       "      <td>1</td>\n",
       "      <td>0</td>\n",
       "      <td>0</td>\n",
       "      <td>0</td>\n",
       "      <td>0</td>\n",
       "      <td>0</td>\n",
       "      <td>0</td>\n",
       "      <td>0</td>\n",
       "      <td>0</td>\n",
       "      <td>0</td>\n",
       "      <td>0</td>\n",
       "      <td>0</td>\n",
       "      <td>0</td>\n",
       "      <td>1</td>\n",
       "      <td>0</td>\n",
       "      <td>0</td>\n",
       "      <td>0</td>\n",
       "      <td>0</td>\n",
       "      <td>0</td>\n",
       "      <td>0</td>\n",
       "      <td>0</td>\n",
       "      <td>0</td>\n",
       "      <td>0</td>\n",
       "      <td>0</td>\n",
       "      <td>0</td>\n",
       "      <td>1</td>\n",
       "      <td>0</td>\n",
       "      <td>0</td>\n",
       "      <td>0</td>\n",
       "    </tr>\n",
       "    <tr>\n",
       "      <th>195256</th>\n",
       "      <td>2.397895</td>\n",
       "      <td>8.517391</td>\n",
       "      <td>19.0</td>\n",
       "      <td>5.395467</td>\n",
       "      <td>0</td>\n",
       "      <td>0</td>\n",
       "      <td>0</td>\n",
       "      <td>0</td>\n",
       "      <td>0</td>\n",
       "      <td>0</td>\n",
       "      <td>0</td>\n",
       "      <td>0</td>\n",
       "      <td>0</td>\n",
       "      <td>0</td>\n",
       "      <td>0</td>\n",
       "      <td>0</td>\n",
       "      <td>0</td>\n",
       "      <td>0</td>\n",
       "      <td>0</td>\n",
       "      <td>0</td>\n",
       "      <td>0</td>\n",
       "      <td>0</td>\n",
       "      <td>0</td>\n",
       "      <td>0</td>\n",
       "      <td>0</td>\n",
       "      <td>0</td>\n",
       "      <td>0</td>\n",
       "      <td>0</td>\n",
       "      <td>0</td>\n",
       "      <td>0</td>\n",
       "      <td>0</td>\n",
       "      <td>0</td>\n",
       "      <td>0</td>\n",
       "      <td>0</td>\n",
       "      <td>0</td>\n",
       "      <td>0</td>\n",
       "      <td>0</td>\n",
       "      <td>0</td>\n",
       "      <td>0</td>\n",
       "      <td>0</td>\n",
       "      <td>...</td>\n",
       "      <td>0</td>\n",
       "      <td>0</td>\n",
       "      <td>0</td>\n",
       "      <td>0</td>\n",
       "      <td>0</td>\n",
       "      <td>0</td>\n",
       "      <td>1</td>\n",
       "      <td>1</td>\n",
       "      <td>0</td>\n",
       "      <td>0</td>\n",
       "      <td>0</td>\n",
       "      <td>0</td>\n",
       "      <td>0</td>\n",
       "      <td>0</td>\n",
       "      <td>0</td>\n",
       "      <td>0</td>\n",
       "      <td>0</td>\n",
       "      <td>0</td>\n",
       "      <td>0</td>\n",
       "      <td>0</td>\n",
       "      <td>1</td>\n",
       "      <td>0</td>\n",
       "      <td>0</td>\n",
       "      <td>0</td>\n",
       "      <td>0</td>\n",
       "      <td>0</td>\n",
       "      <td>0</td>\n",
       "      <td>0</td>\n",
       "      <td>0</td>\n",
       "      <td>0</td>\n",
       "      <td>0</td>\n",
       "      <td>0</td>\n",
       "      <td>0</td>\n",
       "      <td>0</td>\n",
       "      <td>0</td>\n",
       "      <td>0</td>\n",
       "      <td>0</td>\n",
       "      <td>0</td>\n",
       "      <td>0</td>\n",
       "      <td>1</td>\n",
       "    </tr>\n",
       "    <tr>\n",
       "      <th>324512</th>\n",
       "      <td>9.650593</td>\n",
       "      <td>9.615871</td>\n",
       "      <td>60.0</td>\n",
       "      <td>5.406554</td>\n",
       "      <td>0</td>\n",
       "      <td>0</td>\n",
       "      <td>0</td>\n",
       "      <td>0</td>\n",
       "      <td>0</td>\n",
       "      <td>0</td>\n",
       "      <td>0</td>\n",
       "      <td>0</td>\n",
       "      <td>0</td>\n",
       "      <td>0</td>\n",
       "      <td>0</td>\n",
       "      <td>0</td>\n",
       "      <td>0</td>\n",
       "      <td>0</td>\n",
       "      <td>0</td>\n",
       "      <td>0</td>\n",
       "      <td>0</td>\n",
       "      <td>0</td>\n",
       "      <td>0</td>\n",
       "      <td>0</td>\n",
       "      <td>0</td>\n",
       "      <td>0</td>\n",
       "      <td>0</td>\n",
       "      <td>0</td>\n",
       "      <td>0</td>\n",
       "      <td>0</td>\n",
       "      <td>0</td>\n",
       "      <td>0</td>\n",
       "      <td>0</td>\n",
       "      <td>0</td>\n",
       "      <td>0</td>\n",
       "      <td>0</td>\n",
       "      <td>0</td>\n",
       "      <td>0</td>\n",
       "      <td>0</td>\n",
       "      <td>0</td>\n",
       "      <td>...</td>\n",
       "      <td>0</td>\n",
       "      <td>0</td>\n",
       "      <td>0</td>\n",
       "      <td>0</td>\n",
       "      <td>0</td>\n",
       "      <td>0</td>\n",
       "      <td>1</td>\n",
       "      <td>0</td>\n",
       "      <td>0</td>\n",
       "      <td>0</td>\n",
       "      <td>0</td>\n",
       "      <td>0</td>\n",
       "      <td>0</td>\n",
       "      <td>1</td>\n",
       "      <td>0</td>\n",
       "      <td>0</td>\n",
       "      <td>0</td>\n",
       "      <td>0</td>\n",
       "      <td>0</td>\n",
       "      <td>0</td>\n",
       "      <td>0</td>\n",
       "      <td>0</td>\n",
       "      <td>0</td>\n",
       "      <td>0</td>\n",
       "      <td>0</td>\n",
       "      <td>1</td>\n",
       "      <td>0</td>\n",
       "      <td>0</td>\n",
       "      <td>0</td>\n",
       "      <td>0</td>\n",
       "      <td>0</td>\n",
       "      <td>0</td>\n",
       "      <td>0</td>\n",
       "      <td>0</td>\n",
       "      <td>0</td>\n",
       "      <td>0</td>\n",
       "      <td>0</td>\n",
       "      <td>0</td>\n",
       "      <td>1</td>\n",
       "      <td>0</td>\n",
       "    </tr>\n",
       "    <tr>\n",
       "      <th>137275</th>\n",
       "      <td>2.768204</td>\n",
       "      <td>10.997398</td>\n",
       "      <td>14.0</td>\n",
       "      <td>5.561516</td>\n",
       "      <td>0</td>\n",
       "      <td>0</td>\n",
       "      <td>0</td>\n",
       "      <td>0</td>\n",
       "      <td>0</td>\n",
       "      <td>0</td>\n",
       "      <td>0</td>\n",
       "      <td>0</td>\n",
       "      <td>0</td>\n",
       "      <td>0</td>\n",
       "      <td>0</td>\n",
       "      <td>0</td>\n",
       "      <td>0</td>\n",
       "      <td>0</td>\n",
       "      <td>0</td>\n",
       "      <td>0</td>\n",
       "      <td>0</td>\n",
       "      <td>0</td>\n",
       "      <td>0</td>\n",
       "      <td>0</td>\n",
       "      <td>0</td>\n",
       "      <td>0</td>\n",
       "      <td>0</td>\n",
       "      <td>0</td>\n",
       "      <td>0</td>\n",
       "      <td>0</td>\n",
       "      <td>0</td>\n",
       "      <td>0</td>\n",
       "      <td>0</td>\n",
       "      <td>0</td>\n",
       "      <td>0</td>\n",
       "      <td>0</td>\n",
       "      <td>0</td>\n",
       "      <td>0</td>\n",
       "      <td>0</td>\n",
       "      <td>0</td>\n",
       "      <td>...</td>\n",
       "      <td>0</td>\n",
       "      <td>0</td>\n",
       "      <td>0</td>\n",
       "      <td>0</td>\n",
       "      <td>0</td>\n",
       "      <td>0</td>\n",
       "      <td>1</td>\n",
       "      <td>0</td>\n",
       "      <td>0</td>\n",
       "      <td>0</td>\n",
       "      <td>0</td>\n",
       "      <td>0</td>\n",
       "      <td>0</td>\n",
       "      <td>1</td>\n",
       "      <td>0</td>\n",
       "      <td>0</td>\n",
       "      <td>0</td>\n",
       "      <td>0</td>\n",
       "      <td>0</td>\n",
       "      <td>0</td>\n",
       "      <td>0</td>\n",
       "      <td>0</td>\n",
       "      <td>0</td>\n",
       "      <td>0</td>\n",
       "      <td>0</td>\n",
       "      <td>0</td>\n",
       "      <td>1</td>\n",
       "      <td>0</td>\n",
       "      <td>0</td>\n",
       "      <td>0</td>\n",
       "      <td>0</td>\n",
       "      <td>0</td>\n",
       "      <td>0</td>\n",
       "      <td>0</td>\n",
       "      <td>0</td>\n",
       "      <td>0</td>\n",
       "      <td>0</td>\n",
       "      <td>1</td>\n",
       "      <td>0</td>\n",
       "      <td>0</td>\n",
       "    </tr>\n",
       "    <tr>\n",
       "      <th>125768</th>\n",
       "      <td>8.101981</td>\n",
       "      <td>8.006698</td>\n",
       "      <td>27.0</td>\n",
       "      <td>4.610647</td>\n",
       "      <td>0</td>\n",
       "      <td>0</td>\n",
       "      <td>0</td>\n",
       "      <td>0</td>\n",
       "      <td>0</td>\n",
       "      <td>0</td>\n",
       "      <td>0</td>\n",
       "      <td>0</td>\n",
       "      <td>0</td>\n",
       "      <td>0</td>\n",
       "      <td>0</td>\n",
       "      <td>0</td>\n",
       "      <td>0</td>\n",
       "      <td>0</td>\n",
       "      <td>0</td>\n",
       "      <td>0</td>\n",
       "      <td>0</td>\n",
       "      <td>0</td>\n",
       "      <td>0</td>\n",
       "      <td>0</td>\n",
       "      <td>0</td>\n",
       "      <td>0</td>\n",
       "      <td>0</td>\n",
       "      <td>0</td>\n",
       "      <td>0</td>\n",
       "      <td>0</td>\n",
       "      <td>0</td>\n",
       "      <td>0</td>\n",
       "      <td>0</td>\n",
       "      <td>0</td>\n",
       "      <td>0</td>\n",
       "      <td>0</td>\n",
       "      <td>0</td>\n",
       "      <td>0</td>\n",
       "      <td>0</td>\n",
       "      <td>0</td>\n",
       "      <td>...</td>\n",
       "      <td>0</td>\n",
       "      <td>0</td>\n",
       "      <td>0</td>\n",
       "      <td>1</td>\n",
       "      <td>0</td>\n",
       "      <td>0</td>\n",
       "      <td>0</td>\n",
       "      <td>0</td>\n",
       "      <td>0</td>\n",
       "      <td>1</td>\n",
       "      <td>0</td>\n",
       "      <td>0</td>\n",
       "      <td>0</td>\n",
       "      <td>0</td>\n",
       "      <td>0</td>\n",
       "      <td>0</td>\n",
       "      <td>0</td>\n",
       "      <td>0</td>\n",
       "      <td>0</td>\n",
       "      <td>0</td>\n",
       "      <td>0</td>\n",
       "      <td>0</td>\n",
       "      <td>1</td>\n",
       "      <td>0</td>\n",
       "      <td>0</td>\n",
       "      <td>0</td>\n",
       "      <td>0</td>\n",
       "      <td>0</td>\n",
       "      <td>0</td>\n",
       "      <td>0</td>\n",
       "      <td>0</td>\n",
       "      <td>0</td>\n",
       "      <td>0</td>\n",
       "      <td>1</td>\n",
       "      <td>0</td>\n",
       "      <td>0</td>\n",
       "      <td>0</td>\n",
       "      <td>0</td>\n",
       "      <td>0</td>\n",
       "      <td>0</td>\n",
       "    </tr>\n",
       "  </tbody>\n",
       "</table>\n",
       "<p>5 rows × 248 columns</p>\n",
       "</div>"
      ],
      "text/plain": [
       "        usd_pledged_real  usd_goal_real  ...  year_2016  year_2017\n",
       "293697          5.831882       9.210439  ...          0          0\n",
       "195256          2.397895       8.517391  ...          0          1\n",
       "324512          9.650593       9.615871  ...          1          0\n",
       "137275          2.768204      10.997398  ...          0          0\n",
       "125768          8.101981       8.006698  ...          0          0\n",
       "\n",
       "[5 rows x 248 columns]"
      ]
     },
     "execution_count": 60,
     "metadata": {
      "tags": []
     },
     "output_type": "execute_result"
    }
   ],
   "source": [
    "x_train.head()"
   ]
  },
  {
   "cell_type": "code",
   "execution_count": 61,
   "metadata": {
    "id": "9w3Okh0MWvsY"
   },
   "outputs": [],
   "source": [
    "scaler = preprocessing.MinMaxScaler((0,1))\n",
    "x_train_scaled = scaler.fit_transform(x_train)\n",
    "x_test_scaled = scaler.fit_transform(x_test)\n",
    "x_val_scaled = scaler.fit_transform(x_val)"
   ]
  },
  {
   "cell_type": "markdown",
   "metadata": {
    "id": "T1rWP7aXuHE0"
   },
   "source": [
    "## Analisis de modelos"
   ]
  },
  {
   "cell_type": "markdown",
   "metadata": {
    "id": "oYXcs8uvsxuf"
   },
   "source": [
    "### **Perceptrón Multipcapa**"
   ]
  },
  {
   "cell_type": "markdown",
   "metadata": {
    "id": "lOPQWfoaCXJi"
   },
   "source": [
    "*First approach*"
   ]
  },
  {
   "cell_type": "code",
   "execution_count": 71,
   "metadata": {
    "id": "t45vT8QzvcZh"
   },
   "outputs": [],
   "source": [
    "def build_mlp_model(hidden_layers = [6, 2], dropout_rate = 0, add_bn = True, l2_penalty = 0.1, optimizer = 'adam'):\n",
    "    mlp_model = Sequential()\n",
    "    mlp_model.add(Dense(input_shape=(x_train_scaled.shape[1],),units=10, activation='relu'))\n",
    "    # mlp_model.add(Dense(6, activation='relu'))\n",
    "    # mlp_model.add(Dense(2, activation='relu'))\n",
    "    for layer in hidden_layers:       \n",
    "        mlp_model.add(Dense(layer, kernel_regularizer = l2(l2_penalty), activation='relu'))\n",
    "        if add_bn:\n",
    "            mlp_model.add(BatchNormalization())       \n",
    "        if dropout_rate:\n",
    "            mlp_model.add(Dropout(p = dropout_rate))\n",
    "\n",
    "    mlp_model.add(Dense(1, activation='sigmoid'))\n",
    "    mlp_model.compile(optimizer=optimizer, loss='binary_crossentropy', metrics=['accuracy'])\n",
    "    return mlp_model"
   ]
  },
  {
   "cell_type": "code",
   "execution_count": 62,
   "metadata": {
    "colab": {
     "base_uri": "https://localhost:8080/"
    },
    "id": "msIuGBPRHNHl",
    "outputId": "a5b668ad-5ffe-4f2e-ad3f-74ed6818ebf0"
   },
   "outputs": [
    {
     "name": "stdout",
     "output_type": "stream",
     "text": [
      "Epoch 1/10\n",
      "2654/2654 [==============================] - 10s 4ms/step - loss: 0.2696 - accuracy: 0.9132\n",
      "Epoch 2/10\n",
      "2654/2654 [==============================] - 10s 4ms/step - loss: 0.0526 - accuracy: 0.9855\n",
      "Epoch 3/10\n",
      "2654/2654 [==============================] - 10s 4ms/step - loss: 0.0439 - accuracy: 0.9874\n",
      "Epoch 4/10\n",
      "2654/2654 [==============================] - 10s 4ms/step - loss: 0.0390 - accuracy: 0.9886\n",
      "Epoch 5/10\n",
      "2654/2654 [==============================] - 10s 4ms/step - loss: 0.0369 - accuracy: 0.9892\n",
      "Epoch 6/10\n",
      "2654/2654 [==============================] - 10s 4ms/step - loss: 0.0336 - accuracy: 0.9902\n",
      "Epoch 7/10\n",
      "2654/2654 [==============================] - 10s 4ms/step - loss: 0.0298 - accuracy: 0.9914\n",
      "Epoch 8/10\n",
      "2654/2654 [==============================] - 10s 4ms/step - loss: 0.0292 - accuracy: 0.9914\n",
      "Epoch 9/10\n",
      "2654/2654 [==============================] - 10s 4ms/step - loss: 0.0278 - accuracy: 0.9919\n",
      "Epoch 10/10\n",
      "2654/2654 [==============================] - 10s 4ms/step - loss: 0.0270 - accuracy: 0.9921\n"
     ]
    },
    {
     "data": {
      "text/plain": [
       "<tensorflow.python.keras.callbacks.History at 0x7f2b80119550>"
      ]
     },
     "execution_count": 62,
     "metadata": {
      "tags": []
     },
     "output_type": "execute_result"
    }
   ],
   "source": [
    "mlp_model = KerasClassifier(build_mlp_model)\n",
    "mlp_model.fit(x_train_scaled, y_train, batch_size=100, epochs=10, verbose=1)"
   ]
  },
  {
   "cell_type": "code",
   "execution_count": 63,
   "metadata": {
    "colab": {
     "base_uri": "https://localhost:8080/"
    },
    "id": "pnbBnDiPTID7",
    "outputId": "4fdee5b2-632f-4689-95cd-d87834334768"
   },
   "outputs": [
    {
     "name": "stdout",
     "output_type": "stream",
     "text": [
      "WARNING:tensorflow:From /usr/local/lib/python3.6/dist-packages/tensorflow/python/keras/wrappers/scikit_learn.py:241: Sequential.predict_classes (from tensorflow.python.keras.engine.sequential) is deprecated and will be removed after 2021-01-01.\n",
      "Instructions for updating:\n",
      "Please use instead:* `np.argmax(model.predict(x), axis=-1)`,   if your model does multi-class classification   (e.g. if it uses a `softmax` last-layer activation).* `(model.predict(x) > 0.5).astype(\"int32\")`,   if your model does binary classification   (e.g. if it uses a `sigmoid` last-layer activation).\n"
     ]
    }
   ],
   "source": [
    "y_mlp_pred = mlp_model.predict(x_val_scaled, batch_size=10)"
   ]
  },
  {
   "cell_type": "code",
   "execution_count": 64,
   "metadata": {
    "id": "2qCq-YShpB4G"
   },
   "outputs": [],
   "source": [
    "y_mlp_pred = y_mlp_pred >0.5"
   ]
  },
  {
   "cell_type": "code",
   "execution_count": 65,
   "metadata": {
    "colab": {
     "base_uri": "https://localhost:8080/"
    },
    "id": "bKW5B7UnTq9h",
    "outputId": "370aa7ce-8350-45a1-f74f-84fbf5ec0187"
   },
   "outputs": [
    {
     "data": {
      "text/plain": [
       "0.9770561987457791"
      ]
     },
     "execution_count": 65,
     "metadata": {
      "tags": []
     },
     "output_type": "execute_result"
    }
   ],
   "source": [
    "accuracy_score(y_val, y_mlp_pred)"
   ]
  },
  {
   "cell_type": "code",
   "execution_count": 66,
   "metadata": {
    "colab": {
     "base_uri": "https://localhost:8080/"
    },
    "id": "W4M6kjKMou49",
    "outputId": "925ee57e-af41-4dc7-963a-9afbf8b25f48"
   },
   "outputs": [
    {
     "name": "stdout",
     "output_type": "stream",
     "text": [
      "              precision    recall  f1-score   support\n",
      "\n",
      "           0       1.00      0.96      0.98     19768\n",
      "           1       0.95      1.00      0.97     13400\n",
      "\n",
      "    accuracy                           0.98     33168\n",
      "   macro avg       0.97      0.98      0.98     33168\n",
      "weighted avg       0.98      0.98      0.98     33168\n",
      "\n"
     ]
    }
   ],
   "source": [
    "print(classification_report(y_true=y_val, y_pred=y_mlp_pred > 0.5))"
   ]
  },
  {
   "cell_type": "code",
   "execution_count": 67,
   "metadata": {
    "colab": {
     "base_uri": "https://localhost:8080/"
    },
    "id": "Il4-Hs2wpHaW",
    "outputId": "0b91f284-39ef-4292-a426-88d0f8cb0ede"
   },
   "outputs": [
    {
     "data": {
      "text/plain": [
       "array([[19007,   761],\n",
       "       [    0, 13400]])"
      ]
     },
     "execution_count": 67,
     "metadata": {
      "tags": []
     },
     "output_type": "execute_result"
    }
   ],
   "source": [
    "confusion_matrix(y_true=y_val, y_pred=y_mlp_pred)"
   ]
  },
  {
   "cell_type": "markdown",
   "metadata": {
    "id": "KoGESduxDgQr"
   },
   "source": [
    "*With RandomizedSearchCV*"
   ]
  },
  {
   "cell_type": "code",
   "execution_count": null,
   "metadata": {
    "id": "SRRzDBffDoos"
   },
   "outputs": [],
   "source": [
    "dropout_rate_opts  = [0, 0.2, 0.5]\n",
    "hidden_layers_opts = [[6, 6, 2], [64, 32, 8, 2], [32, 32, 32, 2]]\n",
    "l2_penalty_opts = [0.01, 0.1, 0.5]\n",
    "add_bn_opts = [False, True]\n",
    "\n",
    "mlp_grid = {\n",
    "    'hidden_layers': hidden_layers_opts,\n",
    "    'dropout_rate': dropout_rate_opts,  \n",
    "    'l2_penalty': l2_penalty_opts,\n",
    "    'add_bn': add_bn_opts\n",
    "}\n",
    "\n",
    "mlp_model = KerasClassifier(build_mlp_model)\n",
    "mlp_randomized = RandomizedSearchCV(estimator=mlp_model, param_distributions=mlp_grid, n_iter=10, scoring='accuracy')\n",
    "mlp_randomized.fit(x_train_scaled, y_train, epochs=10, batch_size=100, verbose=0)"
   ]
  },
  {
   "cell_type": "code",
   "execution_count": null,
   "metadata": {
    "id": "NWmMRhUJMOxK"
   },
   "outputs": [],
   "source": [
    "mlp_randomized.best_estimator_"
   ]
  },
  {
   "cell_type": "code",
   "execution_count": null,
   "metadata": {
    "id": "mMHPMmQZMRUN"
   },
   "outputs": [],
   "source": [
    "mlp_randomized.best_params_"
   ]
  },
  {
   "cell_type": "code",
   "execution_count": null,
   "metadata": {
    "id": "h3bya_DfMVsU"
   },
   "outputs": [],
   "source": [
    "mlp_randomized.best_score_"
   ]
  },
  {
   "cell_type": "code",
   "execution_count": null,
   "metadata": {
    "id": "00kkWZ7xMaRO"
   },
   "outputs": [],
   "source": [
    "y_mlp_pred_random = mlp_randomized.predict(x_val_scaled)"
   ]
  },
  {
   "cell_type": "code",
   "execution_count": null,
   "metadata": {
    "id": "2-smgC-DMdPu"
   },
   "outputs": [],
   "source": [
    "accuracy_score(y_true=y_val, y_pred=y_mlp_pred_random)"
   ]
  },
  {
   "cell_type": "code",
   "execution_count": null,
   "metadata": {
    "id": "RUSxXzuIMjwJ"
   },
   "outputs": [],
   "source": [
    "print(classification_report(y_true=y_val, y_pred=y_mlp_pred_random))"
   ]
  },
  {
   "cell_type": "markdown",
   "metadata": {
    "id": "kxKVyjt2OZYa"
   },
   "source": [
    "**Regresión Logística**"
   ]
  },
  {
   "cell_type": "markdown",
   "metadata": {
    "id": "Naxev4CEobZo"
   },
   "source": [
    "*First approach*"
   ]
  },
  {
   "cell_type": "code",
   "execution_count": null,
   "metadata": {
    "id": "ptX9Z73iNco-"
   },
   "outputs": [],
   "source": [
    "logistic_model = LogisticRegression(max_iter=150,solver='sag')\n",
    "logistic_model.fit(x_train_scaled,y_train)\n",
    "y_logistic_pred = logistic_model.predict(x_val_scaled)"
   ]
  },
  {
   "cell_type": "code",
   "execution_count": null,
   "metadata": {
    "colab": {
     "base_uri": "https://localhost:8080/"
    },
    "id": "5MaYrVxRjqTD",
    "outputId": "40ec312e-b926-4cd6-c0c7-dab1fa143c39"
   },
   "outputs": [
    {
     "data": {
      "text/plain": [
       "0.9489251364307897"
      ]
     },
     "execution_count": 108,
     "metadata": {
      "tags": []
     },
     "output_type": "execute_result"
    }
   ],
   "source": [
    "accuracy_score(y_true=y_test,y_pred=y_logistic_pred)"
   ]
  },
  {
   "cell_type": "code",
   "execution_count": null,
   "metadata": {
    "colab": {
     "base_uri": "https://localhost:8080/"
    },
    "id": "MrtoYyFEj18D",
    "outputId": "1287d43c-db48-480c-e7c7-1dd0d3d9743f"
   },
   "outputs": [
    {
     "name": "stdout",
     "output_type": "stream",
     "text": [
      "              precision    recall  f1-score   support\n",
      "\n",
      "           0       1.00      0.92      0.96     19981\n",
      "           1       0.89      1.00      0.94     13186\n",
      "\n",
      "    accuracy                           0.95     33167\n",
      "   macro avg       0.94      0.96      0.95     33167\n",
      "weighted avg       0.95      0.95      0.95     33167\n",
      "\n"
     ]
    }
   ],
   "source": [
    "print(classification_report(y_true=y_test,y_pred=y_logistic_pred))"
   ]
  },
  {
   "cell_type": "code",
   "execution_count": null,
   "metadata": {
    "colab": {
     "base_uri": "https://localhost:8080/"
    },
    "id": "KdOtxrZlkRpx",
    "outputId": "7b68dff2-4452-4388-ed6f-b3712056aef1"
   },
   "outputs": [
    {
     "data": {
      "text/plain": [
       "array([[18287,  1694],\n",
       "       [    0, 13186]], dtype=int64)"
      ]
     },
     "execution_count": 110,
     "metadata": {
      "tags": []
     },
     "output_type": "execute_result"
    }
   ],
   "source": [
    "confusion_matrix(y_true=y_test,y_pred=y_logistic_pred)"
   ]
  },
  {
   "cell_type": "markdown",
   "metadata": {
    "id": "8rjdEg73odo0"
   },
   "source": [
    "*With RandomizedSearchCV*"
   ]
  },
  {
   "cell_type": "code",
   "execution_count": null,
   "metadata": {
    "colab": {
     "base_uri": "https://localhost:8080/"
    },
    "id": "97wFBD5ah6IJ",
    "outputId": "110a9401-cc20-4908-a338-6dd0c74c4998"
   },
   "outputs": [
    {
     "name": "stderr",
     "output_type": "stream",
     "text": [
      "c:\\python36\\lib\\site-packages\\sklearn\\model_selection\\_validation.py:552: FitFailedWarning: Estimator fit failed. The score on this train-test partition for these parameters will be set to nan. Details: \n",
      "Traceback (most recent call last):\n",
      "  File \"c:\\python36\\lib\\site-packages\\sklearn\\model_selection\\_validation.py\", line 531, in _fit_and_score\n",
      "    estimator.fit(X_train, y_train, **fit_params)\n",
      "  File \"c:\\python36\\lib\\site-packages\\sklearn\\linear_model\\_logistic.py\", line 1304, in fit\n",
      "    solver = _check_solver(self.solver, self.penalty, self.dual)\n",
      "  File \"c:\\python36\\lib\\site-packages\\sklearn\\linear_model\\_logistic.py\", line 439, in _check_solver\n",
      "    \" got %s.\" % (all_penalties, penalty))\n",
      "ValueError: Logistic Regression supports only penalties in ['l1', 'l2', 'elasticnet', 'none'], got None.\n",
      "\n",
      "  FitFailedWarning)\n",
      "c:\\python36\\lib\\site-packages\\sklearn\\linear_model\\_logistic.py:764: ConvergenceWarning: lbfgs failed to converge (status=1):\n",
      "STOP: TOTAL NO. of ITERATIONS REACHED LIMIT.\n",
      "\n",
      "Increase the number of iterations (max_iter) or scale the data as shown in:\n",
      "    https://scikit-learn.org/stable/modules/preprocessing.html\n",
      "Please also refer to the documentation for alternative solver options:\n",
      "    https://scikit-learn.org/stable/modules/linear_model.html#logistic-regression\n",
      "  extra_warning_msg=_LOGISTIC_SOLVER_CONVERGENCE_MSG)\n",
      "c:\\python36\\lib\\site-packages\\sklearn\\linear_model\\_logistic.py:764: ConvergenceWarning: lbfgs failed to converge (status=1):\n",
      "STOP: TOTAL NO. of ITERATIONS REACHED LIMIT.\n",
      "\n",
      "Increase the number of iterations (max_iter) or scale the data as shown in:\n",
      "    https://scikit-learn.org/stable/modules/preprocessing.html\n",
      "Please also refer to the documentation for alternative solver options:\n",
      "    https://scikit-learn.org/stable/modules/linear_model.html#logistic-regression\n",
      "  extra_warning_msg=_LOGISTIC_SOLVER_CONVERGENCE_MSG)\n",
      "c:\\python36\\lib\\site-packages\\sklearn\\linear_model\\_logistic.py:764: ConvergenceWarning: lbfgs failed to converge (status=1):\n",
      "STOP: TOTAL NO. of ITERATIONS REACHED LIMIT.\n",
      "\n",
      "Increase the number of iterations (max_iter) or scale the data as shown in:\n",
      "    https://scikit-learn.org/stable/modules/preprocessing.html\n",
      "Please also refer to the documentation for alternative solver options:\n",
      "    https://scikit-learn.org/stable/modules/linear_model.html#logistic-regression\n",
      "  extra_warning_msg=_LOGISTIC_SOLVER_CONVERGENCE_MSG)\n",
      "c:\\python36\\lib\\site-packages\\sklearn\\linear_model\\_logistic.py:764: ConvergenceWarning: lbfgs failed to converge (status=1):\n",
      "STOP: TOTAL NO. of ITERATIONS REACHED LIMIT.\n",
      "\n",
      "Increase the number of iterations (max_iter) or scale the data as shown in:\n",
      "    https://scikit-learn.org/stable/modules/preprocessing.html\n",
      "Please also refer to the documentation for alternative solver options:\n",
      "    https://scikit-learn.org/stable/modules/linear_model.html#logistic-regression\n",
      "  extra_warning_msg=_LOGISTIC_SOLVER_CONVERGENCE_MSG)\n",
      "c:\\python36\\lib\\site-packages\\sklearn\\linear_model\\_logistic.py:764: ConvergenceWarning: lbfgs failed to converge (status=1):\n",
      "STOP: TOTAL NO. of ITERATIONS REACHED LIMIT.\n",
      "\n",
      "Increase the number of iterations (max_iter) or scale the data as shown in:\n",
      "    https://scikit-learn.org/stable/modules/preprocessing.html\n",
      "Please also refer to the documentation for alternative solver options:\n",
      "    https://scikit-learn.org/stable/modules/linear_model.html#logistic-regression\n",
      "  extra_warning_msg=_LOGISTIC_SOLVER_CONVERGENCE_MSG)\n",
      "c:\\python36\\lib\\site-packages\\sklearn\\model_selection\\_validation.py:552: FitFailedWarning: Estimator fit failed. The score on this train-test partition for these parameters will be set to nan. Details: \n",
      "Traceback (most recent call last):\n",
      "  File \"c:\\python36\\lib\\site-packages\\sklearn\\model_selection\\_validation.py\", line 531, in _fit_and_score\n",
      "    estimator.fit(X_train, y_train, **fit_params)\n",
      "  File \"c:\\python36\\lib\\site-packages\\sklearn\\linear_model\\_logistic.py\", line 1304, in fit\n",
      "    solver = _check_solver(self.solver, self.penalty, self.dual)\n",
      "  File \"c:\\python36\\lib\\site-packages\\sklearn\\linear_model\\_logistic.py\", line 439, in _check_solver\n",
      "    \" got %s.\" % (all_penalties, penalty))\n",
      "ValueError: Logistic Regression supports only penalties in ['l1', 'l2', 'elasticnet', 'none'], got None.\n",
      "\n",
      "  FitFailedWarning)\n",
      "c:\\python36\\lib\\site-packages\\sklearn\\model_selection\\_validation.py:552: FitFailedWarning: Estimator fit failed. The score on this train-test partition for these parameters will be set to nan. Details: \n",
      "Traceback (most recent call last):\n",
      "  File \"c:\\python36\\lib\\site-packages\\sklearn\\model_selection\\_validation.py\", line 531, in _fit_and_score\n",
      "    estimator.fit(X_train, y_train, **fit_params)\n",
      "  File \"c:\\python36\\lib\\site-packages\\sklearn\\linear_model\\_logistic.py\", line 1304, in fit\n",
      "    solver = _check_solver(self.solver, self.penalty, self.dual)\n",
      "  File \"c:\\python36\\lib\\site-packages\\sklearn\\linear_model\\_logistic.py\", line 439, in _check_solver\n",
      "    \" got %s.\" % (all_penalties, penalty))\n",
      "ValueError: Logistic Regression supports only penalties in ['l1', 'l2', 'elasticnet', 'none'], got None.\n",
      "\n",
      "  FitFailedWarning)\n",
      "c:\\python36\\lib\\site-packages\\sklearn\\model_selection\\_validation.py:552: FitFailedWarning: Estimator fit failed. The score on this train-test partition for these parameters will be set to nan. Details: \n",
      "Traceback (most recent call last):\n",
      "  File \"c:\\python36\\lib\\site-packages\\sklearn\\model_selection\\_validation.py\", line 531, in _fit_and_score\n",
      "    estimator.fit(X_train, y_train, **fit_params)\n",
      "  File \"c:\\python36\\lib\\site-packages\\sklearn\\linear_model\\_logistic.py\", line 1304, in fit\n",
      "    solver = _check_solver(self.solver, self.penalty, self.dual)\n",
      "  File \"c:\\python36\\lib\\site-packages\\sklearn\\linear_model\\_logistic.py\", line 439, in _check_solver\n",
      "    \" got %s.\" % (all_penalties, penalty))\n",
      "ValueError: Logistic Regression supports only penalties in ['l1', 'l2', 'elasticnet', 'none'], got None.\n",
      "\n",
      "  FitFailedWarning)\n",
      "c:\\python36\\lib\\site-packages\\sklearn\\linear_model\\_logistic.py:764: ConvergenceWarning: lbfgs failed to converge (status=1):\n",
      "STOP: TOTAL NO. of ITERATIONS REACHED LIMIT.\n",
      "\n",
      "Increase the number of iterations (max_iter) or scale the data as shown in:\n",
      "    https://scikit-learn.org/stable/modules/preprocessing.html\n",
      "Please also refer to the documentation for alternative solver options:\n",
      "    https://scikit-learn.org/stable/modules/linear_model.html#logistic-regression\n",
      "  extra_warning_msg=_LOGISTIC_SOLVER_CONVERGENCE_MSG)\n"
     ]
    },
    {
     "data": {
      "text/plain": [
       "RandomizedSearchCV(estimator=LogisticRegression(),\n",
       "                   param_distributions={'C': [0.001, 0.01, 0.1, 1, 10, 100],\n",
       "                                        'max_iter': [150, 200],\n",
       "                                        'penalty': ['l2', None],\n",
       "                                        'solver': ['lbfgs', 'sag', 'saga']},\n",
       "                   scoring='accuracy')"
      ]
     },
     "execution_count": 113,
     "metadata": {
      "tags": []
     },
     "output_type": "execute_result"
    }
   ],
   "source": [
    "penalty = ['l2',None]\n",
    "c_val = [10**i for i in range(-2,2,1)]\n",
    "solver = ['lbfgs','sag','saga']\n",
    "iterations = [150,200]\n",
    "\n",
    "lr_grid = {'C': c_val,\n",
    "           'penalty':penalty,\n",
    "           'solver': solver,\n",
    "           'max_iter':iterations\n",
    "}\n",
    "\n",
    "base_model = LogisticRegression()\n",
    "logistic_randomized = RandomizedSearchCV(estimator=base_model, param_distributions=lr_grid,n_iter=10,scoring='accuracy')\n",
    "logistic_randomized.fit(x_train_scaled,y_train)"
   ]
  },
  {
   "cell_type": "code",
   "execution_count": null,
   "metadata": {
    "colab": {
     "base_uri": "https://localhost:8080/"
    },
    "id": "GeY0-rBVm58W",
    "outputId": "71687c6c-ffd9-4c6f-83f3-55ff92a809a7"
   },
   "outputs": [
    {
     "data": {
      "text/plain": [
       "LogisticRegression(C=100, max_iter=200)"
      ]
     },
     "execution_count": 114,
     "metadata": {
      "tags": []
     },
     "output_type": "execute_result"
    }
   ],
   "source": [
    "logistic_randomized.best_estimator_"
   ]
  },
  {
   "cell_type": "code",
   "execution_count": null,
   "metadata": {
    "colab": {
     "base_uri": "https://localhost:8080/"
    },
    "id": "p5w0i0RqoC2S",
    "outputId": "a35527a2-1629-4bf1-d843-a9d613e03984"
   },
   "outputs": [
    {
     "data": {
      "text/plain": [
       "{'solver': 'lbfgs', 'penalty': 'l2', 'max_iter': 200, 'C': 100}"
      ]
     },
     "execution_count": 120,
     "metadata": {
      "tags": []
     },
     "output_type": "execute_result"
    }
   ],
   "source": [
    "logistic_randomized.best_params_"
   ]
  },
  {
   "cell_type": "code",
   "execution_count": null,
   "metadata": {
    "colab": {
     "base_uri": "https://localhost:8080/"
    },
    "id": "iGD37SGrnBO7",
    "outputId": "f3c9e25c-c755-4c2e-c954-08c85db68ccd"
   },
   "outputs": [
    {
     "data": {
      "text/plain": [
       "0.9988241501469812"
      ]
     },
     "execution_count": 115,
     "metadata": {
      "tags": []
     },
     "output_type": "execute_result"
    }
   ],
   "source": [
    "logistic_randomized.best_score_"
   ]
  },
  {
   "cell_type": "code",
   "execution_count": null,
   "metadata": {
    "id": "j0109XYQnQdC"
   },
   "outputs": [],
   "source": [
    "y_logistic_pred_random = logistic_randomized.predict(x_val_scaled)"
   ]
  },
  {
   "cell_type": "code",
   "execution_count": null,
   "metadata": {
    "colab": {
     "base_uri": "https://localhost:8080/"
    },
    "id": "nx67JsWvnhLG",
    "outputId": "d252f8c7-29d2-42da-a112-c438e871fb06"
   },
   "outputs": [
    {
     "data": {
      "text/plain": [
       "0.9931560540279788"
      ]
     },
     "execution_count": 118,
     "metadata": {
      "tags": []
     },
     "output_type": "execute_result"
    }
   ],
   "source": [
    "accuracy_score(y_true=y_val,y_pred=y_logistic_pred_random)"
   ]
  },
  {
   "cell_type": "code",
   "execution_count": null,
   "metadata": {
    "colab": {
     "base_uri": "https://localhost:8080/"
    },
    "id": "s88sdE2Xnwzy",
    "outputId": "603830a6-5204-495a-e60e-f77157e1c1b2"
   },
   "outputs": [
    {
     "name": "stdout",
     "output_type": "stream",
     "text": [
      "              precision    recall  f1-score   support\n",
      "\n",
      "           0       1.00      0.99      0.99     19647\n",
      "           1       0.98      1.00      0.99     13521\n",
      "\n",
      "    accuracy                           0.99     33168\n",
      "   macro avg       0.99      0.99      0.99     33168\n",
      "weighted avg       0.99      0.99      0.99     33168\n",
      "\n"
     ]
    }
   ],
   "source": [
    "print(classification_report(y_true=y_val,y_pred=y_logistic_pred_random))"
   ]
  },
  {
   "cell_type": "markdown",
   "metadata": {
    "id": "iHS26sPVlcf-"
   },
   "source": [
    "### **Random Forest**"
   ]
  },
  {
   "cell_type": "markdown",
   "metadata": {
    "id": "GOXRI75-ojC5"
   },
   "source": [
    "*First approach*"
   ]
  },
  {
   "cell_type": "code",
   "execution_count": null,
   "metadata": {
    "id": "ddCT8f4Sm0mp"
   },
   "outputs": [],
   "source": [
    "rf_model = RandomForestClassifier(n_estimators=150,random_state=431,max_depth=6)\n",
    "rf_model.fit(x_train_scaled,y_train)\n",
    "y_rf_pred = rf_model.predict(x_val_scaled)"
   ]
  },
  {
   "cell_type": "code",
   "execution_count": null,
   "metadata": {
    "colab": {
     "base_uri": "https://localhost:8080/"
    },
    "id": "UoA0wXZqnkS_",
    "outputId": "bf8845be-982c-4548-810b-3e652aabd939"
   },
   "outputs": [
    {
     "data": {
      "text/plain": [
       "0.8174691711641089"
      ]
     },
     "execution_count": 99,
     "metadata": {
      "tags": []
     },
     "output_type": "execute_result"
    }
   ],
   "source": [
    "accuracy_score(y_true=y_test,y_pred=y_rf_pred)"
   ]
  },
  {
   "cell_type": "code",
   "execution_count": null,
   "metadata": {
    "colab": {
     "base_uri": "https://localhost:8080/"
    },
    "id": "J6CEgo7_oA5Q",
    "outputId": "d226794c-de2b-4ec6-a9c2-18f0a11b8fb0"
   },
   "outputs": [
    {
     "name": "stdout",
     "output_type": "stream",
     "text": [
      "              precision    recall  f1-score   support\n",
      "\n",
      "           0       0.81      0.92      0.86     19981\n",
      "           1       0.84      0.66      0.74     13186\n",
      "\n",
      "    accuracy                           0.82     33167\n",
      "   macro avg       0.82      0.79      0.80     33167\n",
      "weighted avg       0.82      0.82      0.81     33167\n",
      "\n"
     ]
    }
   ],
   "source": [
    "print(classification_report(y_true=y_test,y_pred=y_rf_pred))"
   ]
  },
  {
   "cell_type": "code",
   "execution_count": null,
   "metadata": {
    "colab": {
     "base_uri": "https://localhost:8080/"
    },
    "id": "Qf-5jbmVoNKL",
    "outputId": "75078608-c0e0-41a5-e397-4e3186d32662"
   },
   "outputs": [
    {
     "data": {
      "text/plain": [
       "array([[18366,  1615],\n",
       "       [ 4439,  8747]], dtype=int64)"
      ]
     },
     "execution_count": 101,
     "metadata": {
      "tags": []
     },
     "output_type": "execute_result"
    }
   ],
   "source": [
    "confusion_matrix(y_true=y_test,y_pred=y_rf_pred)"
   ]
  },
  {
   "cell_type": "markdown",
   "metadata": {
    "id": "sJ9Y7Z0rotDi"
   },
   "source": [
    "*With RandomizedSearchCV*"
   ]
  },
  {
   "cell_type": "code",
   "execution_count": null,
   "metadata": {
    "id": "4AMbjZrqpKoP"
   },
   "outputs": [],
   "source": [
    "n_estimators = [100,120,150]\n",
    "criterion = [\"gini\",\"entropy\"]\n",
    "max_depth = list(range(1,7))\n",
    "boot_strap = [True,False]\n",
    "oob_score = [True,False]\n",
    "ccp_values_small = [10**i for i in range(-3, 0)]\n",
    "ccp_values_medium = [0.10 * i for i in range(0,3,4)]\n",
    "ccp_alpha = ccp_values_small + ccp_values_medium + [1,5,10]\n",
    "random_state = [431]\n",
    "\n",
    "random_grid = {\"n_estimators\": n_estimators,\n",
    "               \"criterion\":criterion,\n",
    "               \"max_depth\": max_depth,\n",
    "               \"bootstrap\": boot_strap,\n",
    "               \"oob_score\": oob_score,\n",
    "               \"ccp_alpha\":ccp_alpha,\n",
    "               \"random_state\": random_state\n",
    "               }\n"
   ]
  },
  {
   "cell_type": "code",
   "execution_count": null,
   "metadata": {
    "colab": {
     "base_uri": "https://localhost:8080/"
    },
    "id": "JXUT6niIozJs",
    "outputId": "7859fedd-d85a-4003-ef07-48ad35defd22"
   },
   "outputs": [
    {
     "data": {
      "text/plain": [
       "RandomizedSearchCV(estimator=RandomForestClassifier(), n_iter=5,\n",
       "                   param_distributions={'bootstrap': [True, False],\n",
       "                                        'ccp_alpha': [0.001, 0.01, 0.1, 0.0, 1,\n",
       "                                                      5, 10],\n",
       "                                        'criterion': ['gini', 'entropy'],\n",
       "                                        'max_depth': [1, 2, 3, 4, 5, 6],\n",
       "                                        'n_estimators': [100, 120, 150],\n",
       "                                        'oob_score': [True, False],\n",
       "                                        'random_state': [431]},\n",
       "                   scoring='accuracy')"
      ]
     },
     "execution_count": 133,
     "metadata": {
      "tags": []
     },
     "output_type": "execute_result"
    }
   ],
   "source": [
    "rf_randomized_model = RandomForestClassifier()\n",
    "rf_randomized = RandomizedSearchCV(estimator=rf_randomized_model,param_distributions=random_grid,n_iter=5,scoring='accuracy')\n",
    "rf_randomized.fit(x_train_scaled,y_train)"
   ]
  },
  {
   "cell_type": "code",
   "execution_count": null,
   "metadata": {
    "colab": {
     "base_uri": "https://localhost:8080/"
    },
    "id": "WILTSMKDxTIN",
    "outputId": "926050f9-0c2f-45e4-d497-194b3cd00a51"
   },
   "outputs": [
    {
     "data": {
      "text/plain": [
       "{'random_state': 431,\n",
       " 'oob_score': False,\n",
       " 'n_estimators': 150,\n",
       " 'max_depth': 3,\n",
       " 'criterion': 'gini',\n",
       " 'ccp_alpha': 0.001,\n",
       " 'bootstrap': True}"
      ]
     },
     "execution_count": 134,
     "metadata": {
      "tags": []
     },
     "output_type": "execute_result"
    }
   ],
   "source": [
    "rf_randomized.best_params_"
   ]
  },
  {
   "cell_type": "code",
   "execution_count": null,
   "metadata": {
    "colab": {
     "base_uri": "https://localhost:8080/"
    },
    "id": "QVsrCqU7xiS-",
    "outputId": "075c0832-0102-43db-c356-215dcf271a45"
   },
   "outputs": [
    {
     "data": {
      "text/plain": [
       "0.602739880907515"
      ]
     },
     "execution_count": 135,
     "metadata": {
      "tags": []
     },
     "output_type": "execute_result"
    }
   ],
   "source": [
    "rf_randomized.best_score_"
   ]
  },
  {
   "cell_type": "code",
   "execution_count": null,
   "metadata": {
    "id": "rGtXpjGZx3TK"
   },
   "outputs": [],
   "source": [
    "y_pred_rf_randomized = rf_randomized.predict(x_val_scaled)"
   ]
  },
  {
   "cell_type": "code",
   "execution_count": null,
   "metadata": {
    "colab": {
     "base_uri": "https://localhost:8080/"
    },
    "id": "nDpncifhyIUE",
    "outputId": "6f88e860-e37e-423a-828d-589a3ec72bd9"
   },
   "outputs": [
    {
     "data": {
      "text/plain": [
       "0.6084780511336227"
      ]
     },
     "execution_count": 137,
     "metadata": {
      "tags": []
     },
     "output_type": "execute_result"
    }
   ],
   "source": [
    "accuracy_score(y_true=y_val,y_pred=y_pred_rf_randomized)"
   ]
  },
  {
   "cell_type": "code",
   "execution_count": null,
   "metadata": {
    "colab": {
     "base_uri": "https://localhost:8080/"
    },
    "id": "E4GYaRDMyRrH",
    "outputId": "e8133116-6b75-4fd0-e496-d7d44e4a5cc7"
   },
   "outputs": [
    {
     "name": "stdout",
     "output_type": "stream",
     "text": [
      "              precision    recall  f1-score   support\n",
      "\n",
      "           0       0.60      1.00      0.75     19647\n",
      "           1       0.93      0.04      0.08     13521\n",
      "\n",
      "    accuracy                           0.61     33168\n",
      "   macro avg       0.77      0.52      0.42     33168\n",
      "weighted avg       0.74      0.61      0.48     33168\n",
      "\n"
     ]
    }
   ],
   "source": [
    "print(classification_report(y_true=y_val,y_pred=y_pred_rf_randomized))"
   ]
  },
  {
   "cell_type": "code",
   "execution_count": null,
   "metadata": {
    "colab": {
     "base_uri": "https://localhost:8080/"
    },
    "id": "jXxIlmuPyXu0",
    "outputId": "3b1a0a50-34ac-4266-d2b0-934ea2d7efc2"
   },
   "outputs": [
    {
     "name": "stdout",
     "output_type": "stream",
     "text": [
      "[[19647     0]\n",
      " [13521     0]]\n"
     ]
    }
   ],
   "source": [
    "print(confusion_matrix(y_true=y_val,y_pred=y_pred_rf_randomized))"
   ]
  },
  {
   "cell_type": "markdown",
   "metadata": {
    "id": "3shoN_ZTqGNJ"
   },
   "source": [
    "### **Decision Tree**"
   ]
  },
  {
   "cell_type": "markdown",
   "metadata": {
    "id": "Du9hgLuE2kn2"
   },
   "source": [
    "*First Approach*"
   ]
  },
  {
   "cell_type": "code",
   "execution_count": null,
   "metadata": {
    "id": "_b6TvScsrULZ"
   },
   "outputs": [],
   "source": [
    "dt_model = DecisionTreeClassifier()\n",
    "dt_model.fit(x_val_scaled,y_train)\n",
    "y_dt_pred = dt_model.predict(x_test_scaled)"
   ]
  },
  {
   "cell_type": "code",
   "execution_count": null,
   "metadata": {
    "colab": {
     "base_uri": "https://localhost:8080/"
    },
    "id": "GxlS1mbRrvx_",
    "outputId": "d906d7f4-b980-4002-8402-d1a4aa6da57f"
   },
   "outputs": [
    {
     "data": {
      "text/plain": [
       "0.9684023276147978"
      ]
     },
     "execution_count": 103,
     "metadata": {
      "tags": []
     },
     "output_type": "execute_result"
    }
   ],
   "source": [
    "accuracy_score(y_true=y_test,y_pred=y_dt_pred)"
   ]
  },
  {
   "cell_type": "code",
   "execution_count": null,
   "metadata": {
    "colab": {
     "base_uri": "https://localhost:8080/"
    },
    "id": "BkndaG_Ur3YO",
    "outputId": "dd7a58f7-8522-481c-c9f5-732345547565"
   },
   "outputs": [
    {
     "name": "stdout",
     "output_type": "stream",
     "text": [
      "              precision    recall  f1-score   support\n",
      "\n",
      "           0       1.00      0.95      0.97     19981\n",
      "           1       0.93      1.00      0.96     13186\n",
      "\n",
      "    accuracy                           0.97     33167\n",
      "   macro avg       0.96      0.97      0.97     33167\n",
      "weighted avg       0.97      0.97      0.97     33167\n",
      "\n"
     ]
    }
   ],
   "source": [
    "print(classification_report(y_true=y_test, y_pred=y_dt_pred))"
   ]
  },
  {
   "cell_type": "code",
   "execution_count": null,
   "metadata": {
    "colab": {
     "base_uri": "https://localhost:8080/"
    },
    "id": "vfzJy6hsr_0f",
    "outputId": "ae4a5e5a-7116-4aaa-b11c-30ea3b610845"
   },
   "outputs": [
    {
     "data": {
      "text/plain": [
       "array([[18939,  1042],\n",
       "       [    6, 13180]], dtype=int64)"
      ]
     },
     "execution_count": 105,
     "metadata": {
      "tags": []
     },
     "output_type": "execute_result"
    }
   ],
   "source": [
    "confusion_matrix(y_true=y_test, y_pred=y_dt_pred)"
   ]
  },
  {
   "cell_type": "markdown",
   "metadata": {
    "id": "OfPCCjZZ2nMr"
   },
   "source": [
    "*With RandomizedSearchCV*"
   ]
  },
  {
   "cell_type": "code",
   "execution_count": null,
   "metadata": {
    "id": "kM9i7jTq2sSV"
   },
   "outputs": [],
   "source": [
    "ccp_values_small = [10**i for i in range(-4,-1)]\n",
    "ccp_values_large = [0.10 * i for i in range(1,10)]\n",
    "ccp_vals = ccp_values_small + ccp_values_large + [1,5,10]\n",
    "criteria = ['gini','entropy']\n",
    "max_length = list(range(1,7,1))\n",
    "min_samples_split = list(range(2,7,1))\n",
    "min_samples_leaf = list(range(1,7,1))\n",
    "\n",
    "random_grid_tree = {\"criterion\":criteria,\n",
    "                    \"max_depth\": max_length,\n",
    "                    \"min_samples_split\": min_samples_split,\n",
    "                    \"min_samples_leaf\": min_samples_leaf,\n",
    "                    \"ccp_alpha\": ccp_vals\n",
    "                    }"
   ]
  },
  {
   "cell_type": "code",
   "execution_count": null,
   "metadata": {
    "colab": {
     "base_uri": "https://localhost:8080/"
    },
    "id": "mbybh_xu3ARe",
    "outputId": "3cc45ce1-8032-4aa0-b538-db50b91ea9c9"
   },
   "outputs": [
    {
     "data": {
      "text/plain": [
       "RandomizedSearchCV(estimator=DecisionTreeClassifier(),\n",
       "                   param_distributions={'ccp_alpha': [0.0001, 0.001, 0.01, 0.1,\n",
       "                                                      0.2, 0.30000000000000004,\n",
       "                                                      0.4, 0.5,\n",
       "                                                      0.6000000000000001,\n",
       "                                                      0.7000000000000001, 0.8,\n",
       "                                                      0.9, 1, 5, 10],\n",
       "                                        'criterion': ['gini', 'entropy'],\n",
       "                                        'max_depth': [1, 2, 3, 4, 5, 6],\n",
       "                                        'min_samples_leaf': [1, 2, 3, 4, 5, 6],\n",
       "                                        'min_samples_split': [2, 3, 4, 5, 6]},\n",
       "                   scoring='accuracy')"
      ]
     },
     "execution_count": 140,
     "metadata": {
      "tags": []
     },
     "output_type": "execute_result"
    }
   ],
   "source": [
    "decision_tree_model = DecisionTreeClassifier()\n",
    "decision_tree_randomized = RandomizedSearchCV(estimator=decision_tree_model, param_distributions=random_grid_tree,n_iter=10,scoring='accuracy')\n",
    "decision_tree_randomized.fit(x_train_scaled,y_train)"
   ]
  },
  {
   "cell_type": "code",
   "execution_count": null,
   "metadata": {
    "id": "_mE2Pzzp5L44"
   },
   "outputs": [],
   "source": [
    "y_dt_pred_randomized = decision_tree_randomized.predict(x_val_scaled)"
   ]
  },
  {
   "cell_type": "code",
   "execution_count": null,
   "metadata": {
    "colab": {
     "base_uri": "https://localhost:8080/"
    },
    "id": "blNmdFUP4770",
    "outputId": "91e16fb4-f511-4a1f-a78a-da902c146e06"
   },
   "outputs": [
    {
     "data": {
      "text/plain": [
       "{'min_samples_split': 4,\n",
       " 'min_samples_leaf': 6,\n",
       " 'max_depth': 5,\n",
       " 'criterion': 'gini',\n",
       " 'ccp_alpha': 0.001}"
      ]
     },
     "execution_count": 141,
     "metadata": {
      "tags": []
     },
     "output_type": "execute_result"
    }
   ],
   "source": [
    "decision_tree_randomized.best_params_"
   ]
  },
  {
   "cell_type": "code",
   "execution_count": null,
   "metadata": {
    "colab": {
     "base_uri": "https://localhost:8080/"
    },
    "id": "qGYSTfL54_3J",
    "outputId": "6dabb75b-fb95-4a7c-8031-2a8d0ab417e1"
   },
   "outputs": [
    {
     "data": {
      "text/plain": [
       "0.9834702645662169"
      ]
     },
     "execution_count": 142,
     "metadata": {
      "tags": []
     },
     "output_type": "execute_result"
    }
   ],
   "source": [
    "decision_tree_randomized.best_score_"
   ]
  },
  {
   "cell_type": "code",
   "execution_count": null,
   "metadata": {
    "colab": {
     "base_uri": "https://localhost:8080/"
    },
    "id": "7-dbuTlN5XbI",
    "outputId": "4c06dbeb-02a8-477f-96cc-f3a41f29fca5"
   },
   "outputs": [
    {
     "data": {
      "text/plain": [
       "0.967438494934877"
      ]
     },
     "execution_count": 144,
     "metadata": {
      "tags": []
     },
     "output_type": "execute_result"
    }
   ],
   "source": [
    "accuracy_score(y_true=y_val,y_pred=y_dt_pred_randomized)"
   ]
  },
  {
   "cell_type": "code",
   "execution_count": null,
   "metadata": {
    "colab": {
     "base_uri": "https://localhost:8080/"
    },
    "id": "5Uvee3PZ5gGf",
    "outputId": "1d3bf8fa-61df-48f5-ded2-d9d0d131bca5"
   },
   "outputs": [
    {
     "name": "stdout",
     "output_type": "stream",
     "text": [
      "              precision    recall  f1-score   support\n",
      "\n",
      "           0       1.00      0.95      0.97     19647\n",
      "           1       0.93      1.00      0.96     13521\n",
      "\n",
      "    accuracy                           0.97     33168\n",
      "   macro avg       0.96      0.97      0.97     33168\n",
      "weighted avg       0.97      0.97      0.97     33168\n",
      "\n"
     ]
    }
   ],
   "source": [
    "print(classification_report(y_true=y_val, y_pred=y_dt_pred_randomized))"
   ]
  },
  {
   "cell_type": "code",
   "execution_count": null,
   "metadata": {
    "colab": {
     "base_uri": "https://localhost:8080/"
    },
    "id": "-lS1DnaA5lbW",
    "outputId": "60b2b169-9d24-4758-8cb0-8c21394f64ab"
   },
   "outputs": [
    {
     "data": {
      "text/plain": [
       "array([[18587,  1060],\n",
       "       [   20, 13501]], dtype=int64)"
      ]
     },
     "execution_count": 146,
     "metadata": {
      "tags": []
     },
     "output_type": "execute_result"
    }
   ],
   "source": [
    "confusion_matrix(y_true=y_val,y_pred=y_dt_pred_randomized)"
   ]
  },
  {
   "cell_type": "markdown",
   "metadata": {
    "id": "atgbRXZ-tYp-"
   },
   "source": [
    "### SVM"
   ]
  },
  {
   "cell_type": "markdown",
   "metadata": {
    "id": "mqeTuAmvtpea"
   },
   "source": [
    "*First approach*"
   ]
  },
  {
   "cell_type": "code",
   "execution_count": 62,
   "metadata": {
    "id": "uw-biKrwuT6y"
   },
   "outputs": [],
   "source": [
    "svc_model = SVC(kernel=\"linear\")\n",
    "svc_model.fit(x_train_scaled, y_train)"
   ]
  },
  {
   "cell_type": "code",
   "execution_count": 65,
   "metadata": {
    "id": "nZCsgP0pQsa8"
   },
   "outputs": [],
   "source": [
    "y_svc_pred = svc_model.predict(x_val_scaled)"
   ]
  },
  {
   "cell_type": "code",
   "execution_count": 66,
   "metadata": {
    "colab": {
     "base_uri": "https://localhost:8080/"
    },
    "id": "LapHXhl3urX1",
    "outputId": "5a08deab-c657-4e00-f533-dd87b9c380e5"
   },
   "outputs": [
    {
     "data": {
      "text/plain": [
       "0.9840207428847082"
      ]
     },
     "execution_count": 66,
     "metadata": {
      "tags": []
     },
     "output_type": "execute_result"
    }
   ],
   "source": [
    "accuracy_score(y_true=y_val, y_pred=y_svc_pred)"
   ]
  },
  {
   "cell_type": "code",
   "execution_count": 67,
   "metadata": {
    "colab": {
     "base_uri": "https://localhost:8080/"
    },
    "id": "TMsmcB1Yuuvs",
    "outputId": "bdcaa029-e98e-4786-d620-cefb78175bee"
   },
   "outputs": [
    {
     "name": "stdout",
     "output_type": "stream",
     "text": [
      "              precision    recall  f1-score   support\n",
      "\n",
      "           0       1.00      0.97      0.99     19805\n",
      "           1       0.96      1.00      0.98     13363\n",
      "\n",
      "    accuracy                           0.98     33168\n",
      "   macro avg       0.98      0.99      0.98     33168\n",
      "weighted avg       0.98      0.98      0.98     33168\n",
      "\n"
     ]
    }
   ],
   "source": [
    "print(classification_report(y_true=y_val, y_pred=y_svc_pred))"
   ]
  },
  {
   "cell_type": "code",
   "execution_count": 69,
   "metadata": {
    "colab": {
     "base_uri": "https://localhost:8080/"
    },
    "id": "4Sged323u0l9",
    "outputId": "c9b7f069-00ff-4827-e74c-a2c96fbf39cd"
   },
   "outputs": [
    {
     "data": {
      "text/plain": [
       "array([[19278,   527],\n",
       "       [    3, 13360]])"
      ]
     },
     "execution_count": 69,
     "metadata": {
      "tags": []
     },
     "output_type": "execute_result"
    }
   ],
   "source": [
    "confusion_matrix(y_true=y_val, y_pred=y_svc_pred)"
   ]
  },
  {
   "cell_type": "markdown",
   "metadata": {
    "id": "gjBiQRnYu6WG"
   },
   "source": [
    "*With RandomizedSearchCV*"
   ]
  },
  {
   "cell_type": "code",
   "execution_count": null,
   "metadata": {
    "id": "zKq8PYrFu5nI"
   },
   "outputs": [],
   "source": [
    "c_val = [10**i for i in range(-3,0,1)]\n",
    "kernel = ['linear','poly','rbf','sigmoid']\n",
    "degree = list(range(1,5))\n",
    "gamma = ['scale','auto']\n",
    "\n",
    "random_grid_svm = {\n",
    "    \"C\": c_val,\n",
    "    \"kernel\": kernel,\n",
    "    \"degree\": degree,\n",
    "    \"gamma\":gamma\n",
    "    \n",
    "}\n",
    "\n",
    "svc_model = SVC()\n",
    "svc_randomized = RandomizedSearchCV(estimator=svc_model, param_distributions=random_grid_svm, n_iter=5, scoring='accuracy')\n",
    "svc_randomized.fit(x_train_scaled, y_train)"
   ]
  },
  {
   "cell_type": "code",
   "execution_count": null,
   "metadata": {
    "id": "h9_GqA30vf8H"
   },
   "outputs": [],
   "source": [
    "svc_randomized.best_score_"
   ]
  },
  {
   "cell_type": "code",
   "execution_count": null,
   "metadata": {
    "id": "qgRguXnEvhiG"
   },
   "outputs": [],
   "source": [
    "svc_randomized.best_params_"
   ]
  },
  {
   "cell_type": "code",
   "execution_count": null,
   "metadata": {
    "id": "IWHy-qMtvkN6"
   },
   "outputs": [],
   "source": [
    "y_svm_pred_randomized = svc_randomized.predict(x_val_scaled)"
   ]
  },
  {
   "cell_type": "code",
   "execution_count": null,
   "metadata": {
    "id": "0pBFGDQ_vqKo"
   },
   "outputs": [],
   "source": [
    "accuracy_score(y_true=y_val, y_pred=y_svm_pred_randomized)"
   ]
  },
  {
   "cell_type": "code",
   "execution_count": null,
   "metadata": {
    "id": "2mjxjlOZvuf3"
   },
   "outputs": [],
   "source": [
    "print(classification_report(y_true=y_val, y_pred=y_svm_pred_randomized))"
   ]
  },
  {
   "cell_type": "code",
   "execution_count": null,
   "metadata": {
    "id": "KP42cIczv0R2"
   },
   "outputs": [],
   "source": [
    "confusion_matrix(y_true=y_val, y_pred=y_svm_pred_randomized)"
   ]
  },
  {
   "cell_type": "markdown",
   "metadata": {
    "id": "lGsf-yfG1VCA"
   },
   "source": [
    "https://www.kaggle.com/aliakay8/kickstarter-data-analysis-and-ml-ann-model"
   ]
  }
 ],
 "metadata": {
  "accelerator": "GPU",
  "colab": {
   "collapsed_sections": [],
   "name": "ProyectoFinal_Kickstarter_2.ipynb",
   "provenance": [],
   "toc_visible": true
  },
  "kernelspec": {
   "display_name": "Python 3",
   "language": "python",
   "name": "python3"
  },
  "language_info": {
   "codemirror_mode": {
    "name": "ipython",
    "version": 3
   },
   "file_extension": ".py",
   "mimetype": "text/x-python",
   "name": "python",
   "nbconvert_exporter": "python",
   "pygments_lexer": "ipython3",
   "version": "3.8.5"
  }
 },
 "nbformat": 4,
 "nbformat_minor": 1
}
