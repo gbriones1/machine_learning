{
 "cells": [
  {
   "cell_type": "markdown",
   "metadata": {
    "id": "BXNro5JEIjvp"
   },
   "source": [
    "# RandomizedSearchCV y GridSearchCV\n",
    "\n",
    "https://scikit-learn.org/stable/modules/generated/sklearn.model_selection.RandomizedSearchCV.html\n",
    "\n",
    "https://scikit-learn.org/stable/modules/generated/sklearn.model_selection.GridSearchCV.html\n",
    "\n"
   ]
  },
  {
   "cell_type": "code",
   "execution_count": 1,
   "metadata": {
    "id": "ZZtJL-BjO40e"
   },
   "outputs": [],
   "source": [
    "import numpy as np\n",
    "\n",
    "from sklearn.model_selection import RandomizedSearchCV     \n",
    "from sklearn.model_selection import GridSearchCV\n",
    "\n",
    "\n",
    "from sklearn.linear_model import LogisticRegression\n",
    "from sklearn.tree import DecisionTreeClassifier\n",
    "\n",
    "import sklearn.datasets\n",
    "from sklearn.model_selection import train_test_split \n",
    "from sklearn.metrics import confusion_matrix\n",
    "\n",
    "import matplotlib.pyplot as plt"
   ]
  },
  {
   "cell_type": "code",
   "execution_count": 2,
   "metadata": {
    "id": "9rYtn22MU2sj"
   },
   "outputs": [],
   "source": [
    "N=1000  \n",
    "noisy_data = sklearn.datasets.make_moons(n_samples=N, noise=0.3, random_state=17)"
   ]
  },
  {
   "cell_type": "code",
   "execution_count": null,
   "metadata": {
    "id": "ZQtsucwSTJR5"
   },
   "outputs": [],
   "source": [
    "X, Y = noisy_data\n",
    "print(X.shape)\n",
    "print(Y.shape)"
   ]
  },
  {
   "cell_type": "code",
   "execution_count": null,
   "metadata": {
    "id": "hOuI9yR1UScI"
   },
   "outputs": [],
   "source": [
    "plt.scatter(X[:,0], X[:,1], c=Y, s=30, cmap=plt.cm.Spectral);"
   ]
  },
  {
   "cell_type": "code",
   "execution_count": 5,
   "metadata": {
    "id": "nokSu6DWRqC8"
   },
   "outputs": [],
   "source": [
    "Xtrain, Xtest, Ytrain, Ytest = train_test_split(X, Y, test_size=.4, random_state=17)"
   ]
  },
  {
   "cell_type": "markdown",
   "metadata": {
    "id": "H5sVsitYwiLh"
   },
   "source": [
    "# RandomizedSearchCV - Logistic Regression:\n",
    "\n",
    "Ver: \n",
    "\n",
    "https://scikit-learn.org/stable/modules/generated/sklearn.linear_model.LogisticRegression.html "
   ]
  },
  {
   "cell_type": "code",
   "execution_count": 6,
   "metadata": {
    "id": "v15rtBpTwmNp"
   },
   "outputs": [],
   "source": [
    "m_lr = LogisticRegression()"
   ]
  },
  {
   "cell_type": "code",
   "execution_count": null,
   "metadata": {
    "id": "Y-eeUIjIxAlM"
   },
   "outputs": [],
   "source": [
    "m_lr.get_params()"
   ]
  },
  {
   "cell_type": "code",
   "execution_count": 9,
   "metadata": {
    "id": "IYej5-j-xXbZ"
   },
   "outputs": [],
   "source": [
    "lr_search_random_grid = {\n",
    "    'C': [0.5, 1.0, 1.2, 2.0, 10, 100],\n",
    "    'penalty': ['l1', 'l2', None],\n",
    "    'solver': ['lbfgs', 'saga']\n",
    "}"
   ]
  },
  {
   "cell_type": "code",
   "execution_count": 12,
   "metadata": {
    "id": "2yfpH2MezuUx"
   },
   "outputs": [],
   "source": [
    "m_lr_search_random_grid = RandomizedSearchCV(\n",
    "    estimator= m_lr,\n",
    "    param_distributions= lr_search_random_grid,\n",
    "    n_iter = 20,   # número de combinaciones diferentes a intentar del total de posibles n-adas. \n",
    "    scoring='accuracy',\n",
    "    cv = 5,  # valor k para la partición del Cross-Validation: Ver: https://scikit-learn.org/stable/modules/model_evaluation.html#scoring-parameter \n",
    "    verbose=2,\n",
    "    random_state=17, \n",
    "    n_jobs=-1,\n",
    "    return_train_score=False   # Para ir calculando los scores parciales durante el entrenamiento... obviamente esto requiere más tiempo de cómputo.\n",
    "    )"
   ]
  },
  {
   "cell_type": "code",
   "execution_count": null,
   "metadata": {
    "id": "Cwr-F0Pz29KU"
   },
   "outputs": [],
   "source": [
    "m_lr_search_random_grid.fit(Xtrain, Ytrain);"
   ]
  },
  {
   "cell_type": "code",
   "execution_count": null,
   "metadata": {
    "id": "SprvNL3_3Ro7"
   },
   "outputs": [],
   "source": [
    "m_lr_search_random_grid.best_params_"
   ]
  },
  {
   "cell_type": "code",
   "execution_count": null,
   "metadata": {
    "id": "l3Qjjdjv4xzd"
   },
   "outputs": [],
   "source": [
    "# Predictions & Confussion matrix:\n",
    "results = m_lr_search_random_grid.predict(Xtest)\n",
    "cm = confusion_matrix(Ytest, results)\n",
    "print(cm)"
   ]
  },
  {
   "cell_type": "code",
   "execution_count": null,
   "metadata": {
    "id": "q64pA_hD5DeQ"
   },
   "outputs": [],
   "source": [
    "# Accuracy:\n",
    "(cm[0,0] + cm[1,1]) / (cm[0,0] + cm[1,1] + cm[0,1] + cm[1,0])"
   ]
  },
  {
   "cell_type": "markdown",
   "metadata": {
    "id": "7JhzXnmbtVW8"
   },
   "source": [
    "# Grid Search with Cross Validation: Decision Tree Classifier -- Árbol de decisión simple:\n",
    "\n",
    "https://scikit-learn.org/stable/modules/generated/sklearn.tree.DecisionTreeClassifier.html "
   ]
  },
  {
   "cell_type": "code",
   "execution_count": null,
   "metadata": {
    "id": "sOa7LqjstaP6"
   },
   "outputs": [],
   "source": [
    "m_dtc = DecisionTreeClassifier()\n",
    "m_dtc.get_params()"
   ]
  },
  {
   "cell_type": "code",
   "execution_count": 18,
   "metadata": {
    "id": "kB780mQ_t0Vi"
   },
   "outputs": [],
   "source": [
    "dtc_search_random_grid = {\n",
    "    'ccp_alpha': [0.0, 0.2, 0.5, 0.9, 1.0, 1.5],\n",
    "    'criterion': ['gini', 'entropy'],\n",
    "    'max_depth': [1,2,5,10],\n",
    "    'min_samples_split': [10,20,50]\n",
    "}"
   ]
  },
  {
   "cell_type": "code",
   "execution_count": null,
   "metadata": {
    "id": "AHpLOhuH4qgh"
   },
   "outputs": [],
   "source": [
    "m_dtc_search_random_grid = RandomizedSearchCV(\n",
    "    estimator= m_dtc,\n",
    "    param_distributions= dtc_search_random_grid,\n",
    "    n_iter = 20,   # número de combinaciones diferentes a intentar del total de posibles n-adas. \n",
    "    scoring='accuracy',\n",
    "    cv = 5,  # valor k para la partición del Cross-Validation: Ver: https://scikit-learn.org/stable/modules/model_evaluation.html#scoring-parameter \n",
    "    verbose=2,\n",
    "    random_state=17, \n",
    "    n_jobs=-1,\n",
    "    return_train_score=True   # Para ir calculando los scores parciales durante el entrenamiento... obviamente esto requiere más tiempo de cómputo y lo usas spongo como para ver Learning_Curves o algo parecido.\n",
    "    )"
   ]
  },
  {
   "cell_type": "code",
   "execution_count": 19,
   "metadata": {
    "id": "fMLayBBshsqr"
   },
   "outputs": [],
   "source": [
    "m_dtc_grid_search = GridSearchCV(\n",
    "    estimator= m_dtc,\n",
    "    param_grid = dtc_search_random_grid,\n",
    "    cv = 5,\n",
    "    n_jobs= -1,\n",
    "    verbose= 2\n",
    ")"
   ]
  },
  {
   "cell_type": "code",
   "execution_count": null,
   "metadata": {
    "id": "uBfnLB_54qq_"
   },
   "outputs": [],
   "source": [
    "#m_dtc_search_random_grid.fit(Xtrain, Ytrain);\n",
    "m_dtc_grid_search.fit(Xtrain, Ytrain);"
   ]
  },
  {
   "cell_type": "code",
   "execution_count": null,
   "metadata": {
    "id": "7x04sbBU7g1y"
   },
   "outputs": [],
   "source": [
    "m_dtc_grid_search.best_params_"
   ]
  },
  {
   "cell_type": "code",
   "execution_count": null,
   "metadata": {
    "id": "owyZiLJJ7ptK"
   },
   "outputs": [],
   "source": [
    "results = m_dtc_grid_search.predict(Xtest)\n",
    "cm = confusion_matrix(Ytest, results)\n",
    "print(cm)"
   ]
  },
  {
   "cell_type": "code",
   "execution_count": null,
   "metadata": {
    "id": "erZKxvuU7vHg"
   },
   "outputs": [],
   "source": [
    "(cm[0,0] + cm[1,1]) / (cm[0,0] + cm[1,1] + cm[0,1] + cm[1,0])"
   ]
  }
 ],
 "metadata": {
  "colab": {
   "collapsed_sections": [],
   "name": "GridSearchCV_and_RandomizedSearchCV_clase.ipynb",
   "provenance": []
  },
  "kernelspec": {
   "display_name": "Python 3",
   "language": "python",
   "name": "python3"
  },
  "language_info": {
   "codemirror_mode": {
    "name": "ipython",
    "version": 3
   },
   "file_extension": ".py",
   "mimetype": "text/x-python",
   "name": "python",
   "nbconvert_exporter": "python",
   "pygments_lexer": "ipython3",
   "version": "3.8.5"
  }
 },
 "nbformat": 4,
 "nbformat_minor": 1
}
