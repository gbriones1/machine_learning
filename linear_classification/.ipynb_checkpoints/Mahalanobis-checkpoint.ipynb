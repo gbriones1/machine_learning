{
 "cells": [
  {
   "cell_type": "code",
   "execution_count": 1,
   "metadata": {},
   "outputs": [],
   "source": [
    "import numpy as np\n",
    "import pandas as pd\n",
    "import warnings\n",
    "warnings.filterwarnings('ignore')"
   ]
  },
  {
   "cell_type": "code",
   "execution_count": 2,
   "metadata": {},
   "outputs": [],
   "source": [
    "class_1_data = [\n",
    "    [0.89, -0.09, -1.02],\n",
    "    [-0.75, 0.25, -0.68],\n",
    "    [-0.45, -0.21, -0.98],\n",
    "    [-0.24, 0.19, -0.99],\n",
    "    [-0.01, 0.07, -1.15],\n",
    "    [0.18, -0.01, -1.01],\n",
    "    [0.51, 0.04, -0.95],\n",
    "    [-2.53, -0.31, -0.91]\n",
    "]\n",
    "\n",
    "class_2_data = [\n",
    "    [1.63, 1.38, 1.07],\n",
    "    [1.73, 1.44, 1.22],\n",
    "    [4.02, 1.58, 1.20],\n",
    "    [-0.26, 1.59, 0.87],\n",
    "    [4.23, 1.26, 1.05],\n",
    "    [2.34, 1.51, 0.81],\n",
    "    [3.0, 1.63, 0.74]\n",
    "]"
   ]
  },
  {
   "cell_type": "code",
   "execution_count": 3,
   "metadata": {},
   "outputs": [],
   "source": [
    "df1 = pd.DataFrame(class_1_data, columns = ['R', 'G', 'B'])\n",
    "df2 = pd.DataFrame(class_2_data, columns = ['R', 'G', 'B'])\n",
    "P = np.array([-0.2, 1.3, 1.1])"
   ]
  },
  {
   "cell_type": "code",
   "execution_count": 4,
   "metadata": {},
   "outputs": [],
   "source": [
    "def covariance_matrix(df):\n",
    "    n = df.shape[0]\n",
    "    cols = df.columns\n",
    "    matrix = []\n",
    "    for i in range(len(cols)):\n",
    "        row = []\n",
    "        X = df[cols[i]]\n",
    "        x_mean = np.mean(X)\n",
    "        X_var = X - x_mean\n",
    "        for j in range(len(cols)):\n",
    "            Y = df[cols[j]]\n",
    "            y_mean = np.mean(Y)\n",
    "            Y_var = Y - y_mean\n",
    "            acc = np.sum(X_var * Y_var)\n",
    "            row.append(acc/(n-1))\n",
    "        matrix.append(row)\n",
    "    return np.array(matrix)"
   ]
  },
  {
   "cell_type": "code",
   "execution_count": 5,
   "metadata": {},
   "outputs": [
    {
     "data": {
      "text/plain": [
       "array([[ 1.08402857,  0.08035714, -0.0541    ],\n",
       "       [ 0.08035714,  0.03612679,  0.00655893],\n",
       "       [-0.0541    ,  0.00655893,  0.01778393]])"
      ]
     },
     "execution_count": 5,
     "metadata": {},
     "output_type": "execute_result"
    }
   ],
   "source": [
    "cov_1 = covariance_matrix(df1)\n",
    "cov_1"
   ]
  },
  {
   "cell_type": "code",
   "execution_count": 6,
   "metadata": {},
   "outputs": [
    {
     "data": {
      "text/plain": [
       "array([[ 2.4087619 , -0.0567881 ,  0.06912857],\n",
       "       [-0.0567881 ,  0.0175619 , -0.0109381 ],\n",
       "       [ 0.06912857, -0.0109381 ,  0.03602857]])"
      ]
     },
     "execution_count": 6,
     "metadata": {},
     "output_type": "execute_result"
    }
   ],
   "source": [
    "cov_2 = covariance_matrix(df2)\n",
    "cov_2"
   ]
  },
  {
   "cell_type": "code",
   "execution_count": 7,
   "metadata": {},
   "outputs": [],
   "source": [
    "def mahalanobis(u, v, cov):\n",
    "    cov_inv = np.linalg.inv(cov)\n",
    "    diff = u - v\n",
    "    return np.sqrt(np.dot(np.dot(diff, cov_inv), diff))"
   ]
  },
  {
   "cell_type": "code",
   "execution_count": 8,
   "metadata": {
    "scrolled": true
   },
   "outputs": [
    {
     "name": "stdout",
     "output_type": "stream",
     "text": [
      "Mahalanobis distances for class 1 to P:\n",
      "From [0.89, -0.09, -1.02] = 16.851816804055304\n",
      "From [-0.75, 0.25, -0.68] = 14.824457682516222\n",
      "From [-0.45, -0.21, -0.98] = 17.0398831299096\n",
      "From [-0.24, 0.19, -0.99] = 17.198716062828456\n",
      "From [-0.01, 0.07, -1.15] = 18.371036052858923\n",
      "From [0.18, -0.01, -1.01] = 17.050338201341905\n",
      "From [0.51, 0.04, -0.95] = 16.43027369490105\n",
      "From [-2.53, -0.31, -0.91] = 17.460134903535064\n",
      "Mahalanobis distance to class 1 centroid [-0.3, -0.008749999999999997, -0.96125] = 16.85200629540704\n"
     ]
    }
   ],
   "source": [
    "print(\"Mahalanobis distances for class 1 to P:\")\n",
    "for x in df1.iloc:\n",
    "    print(f\"From {list(x)} = {mahalanobis(x, P, cov_1)}\")\n",
    "\n",
    "cent_1 = np.mean(df1)\n",
    "print(f\"Mahalanobis distance to class 1 centroid {list(cent_1)} = {mahalanobis(cent_1, P, cov_1)}\")"
   ]
  },
  {
   "cell_type": "code",
   "execution_count": 9,
   "metadata": {
    "scrolled": true
   },
   "outputs": [
    {
     "name": "stdout",
     "output_type": "stream",
     "text": [
      "Mahalanobis distances for class 2 to P:\n",
      "From [1.63, 1.38, 1.07] = 1.5264132970069084\n",
      "From [1.73, 1.44, 1.22] = 2.164891225798348\n",
      "From [4.02, 1.58, 1.2] = 4.1972786672274\n",
      "From [-0.26, 1.59, 0.87] = 2.296074592755654\n",
      "From [4.23, 1.26, 1.05] = 3.0145774092635103\n",
      "From [2.34, 1.51, 0.81] = 2.945498214186853\n",
      "From [3.0, 1.63, 0.74] = 4.00722391517714\n",
      "Mahalanobis distance to class 2 centroid [-0.3, -0.008749999999999997, -0.96125] = 2.4942197605150027\n"
     ]
    }
   ],
   "source": [
    "print(\"Mahalanobis distances for class 2 to P:\")\n",
    "for x in df2.iloc:\n",
    "    print(f\"From {list(x)} = {mahalanobis(x, P, cov_2)}\")\n",
    "\n",
    "cent_2 = np.mean(df2)\n",
    "print(f\"Mahalanobis distance to class 2 centroid {list(cent_1)} = {mahalanobis(cent_2, P, cov_1)}\")"
   ]
  },
  {
   "cell_type": "code",
   "execution_count": 10,
   "metadata": {},
   "outputs": [],
   "source": [
    "def euclidean(u, v):\n",
    "    return np.sqrt(np.sum(np.square(u - v)))"
   ]
  },
  {
   "cell_type": "code",
   "execution_count": 11,
   "metadata": {},
   "outputs": [
    {
     "data": {
      "text/plain": [
       "2.4436812650180055"
      ]
     },
     "execution_count": 11,
     "metadata": {},
     "output_type": "execute_result"
    }
   ],
   "source": [
    "euclidean(cent_1, P)"
   ]
  },
  {
   "cell_type": "code",
   "execution_count": 12,
   "metadata": {},
   "outputs": [
    {
     "data": {
      "text/plain": [
       "2.593003931303441"
      ]
     },
     "execution_count": 12,
     "metadata": {},
     "output_type": "execute_result"
    }
   ],
   "source": [
    "euclidean(cent_2, P)"
   ]
  }
 ],
 "metadata": {
  "kernelspec": {
   "display_name": "Python 3",
   "language": "python",
   "name": "python3"
  },
  "language_info": {
   "codemirror_mode": {
    "name": "ipython",
    "version": 3
   },
   "file_extension": ".py",
   "mimetype": "text/x-python",
   "name": "python",
   "nbconvert_exporter": "python",
   "pygments_lexer": "ipython3",
   "version": "3.8.2"
  }
 },
 "nbformat": 4,
 "nbformat_minor": 4
}
